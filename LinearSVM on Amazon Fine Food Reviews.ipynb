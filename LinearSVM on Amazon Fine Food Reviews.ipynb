{
 "cells": [
  {
   "cell_type": "markdown",
   "metadata": {},
   "source": [
    "# Amazon Fine Food Reviews Analysis\n",
    "\n",
    "\n",
    "Data Source: https://www.kaggle.com/snap/amazon-fine-food-reviews <br>\n",
    "\n",
    "\n",
    "The Amazon Fine Food Reviews dataset consists of reviews of fine foods from Amazon.<br>\n",
    "\n",
    "Number of reviews: 568,454<br>\n",
    "Number of users: 256,059<br>\n",
    "Number of products: 74,258<br>\n",
    "Timespan: Oct 1999 - Oct 2012<br>\n",
    "Number of Attributes/Columns in data: 10 \n",
    "\n",
    "Attribute Information:\n",
    "\n",
    "1. Id\n",
    "2. ProductId - unique identifier for the product\n",
    "3. UserId - unqiue identifier for the user\n",
    "4. ProfileName\n",
    "5. HelpfulnessNumerator - number of users who found the review helpful\n",
    "6. HelpfulnessDenominator - number of users who indicated whether they found the review helpful or not\n",
    "7. Score - rating between 1 and 5\n",
    "8. Time - timestamp for the review\n",
    "9. Summary - brief summary of the review\n",
    "10. Text - text of the review\n",
    "\n",
    "\n",
    "#### Objective:\n",
    "Given a review, determine whether the review is positive (rating of 4 or 5) or negative (rating of 1 or 2).\n",
    "\n",
    "<br>\n",
    "[Q] How to determine if a review is positive or negative?<br>\n",
    "<br> \n",
    "[Ans] We could use Score/Rating. A rating of 4 or 5 can be cosnidered as a positive review. A rating of 1 or 2 can be considered as negative one. A review of rating 3 is considered nuetral and such reviews are ignored from our analysis. This is an approximate and proxy way of determining the polarity (positivity/negativity) of a review.\n",
    "\n",
    "In this assignment I perform Linear Kernel with all the below steps:-\n",
    "\n",
    "\n",
    "1. Data reading\n",
    "2. Exploratory Data Analysis\n",
    "3. Text Preprocessing on Review text data and Summary data\n",
    "4. Sample data of 80k datapoints from dataset and do time based splitting\n",
    "5. Perform Linear Kernel using SGDClassifier with hinge loss with both L1 and L2 regularization, on all 4 featurizations BoW, TFIDF, Avg-W2V, TFIDF-W2V.\n",
    "6. Using AUC as a metric for hyperparameter tuning\n",
    "7. Finding top 10 important features for each of the positive and negative classes on the linear kernel with BOW and TFIDF \n",
    "8. Documenting the results    "
   ]
  },
  {
   "cell_type": "markdown",
   "metadata": {},
   "source": [
    "# [1]. Reading Data"
   ]
  },
  {
   "cell_type": "markdown",
   "metadata": {},
   "source": [
    "## [1.1] Loading the data\n",
    "\n",
    "The dataset is available in two forms\n",
    "1. .csv file\n",
    "2. SQLite Database\n",
    "\n",
    "In order to load the data, We have used the SQLITE dataset as it is easier to query the data and visualise the data efficiently.\n",
    "<br> \n",
    "\n",
    "Here as we only want to get the global sentiment of the recommendations (positive or negative), we will purposefully ignore all Scores equal to 3. If the score is above 3, then the recommendation wil be set to \"positive\". Otherwise, it will be set to \"negative\"."
   ]
  },
  {
   "cell_type": "code",
   "execution_count": 149,
   "metadata": {},
   "outputs": [],
   "source": [
    "%matplotlib inline\n",
    "import warnings\n",
    "warnings.filterwarnings(\"ignore\")\n"
   ]
  },
  {
   "cell_type": "code",
   "execution_count": 150,
   "metadata": {},
   "outputs": [],
   "source": [
    "\n",
    "import sqlite3\n",
    "import pandas as pd\n",
    "import numpy as np\n",
    "import nltk\n",
    "import string\n",
    "import matplotlib.pyplot as plt\n",
    "import seaborn as sns\n",
    "from sklearn.feature_extraction.text import TfidfTransformer\n",
    "from sklearn.feature_extraction.text import TfidfVectorizer\n",
    "\n",
    "from sklearn.feature_extraction.text import CountVectorizer\n",
    "from sklearn.metrics import confusion_matrix\n",
    "from sklearn import metrics\n",
    "from sklearn.metrics import roc_curve, auc\n",
    "from nltk.stem.porter import PorterStemmer\n",
    "\n",
    "import re\n",
    "# Tutorial about Python regular expressions: https://pymotw.com/2/re/\n",
    "import string\n",
    "from nltk.corpus import stopwords\n",
    "from nltk.stem import PorterStemmer\n",
    "from nltk.stem.wordnet import WordNetLemmatizer\n",
    "\n",
    "from gensim.models import Word2Vec\n",
    "from gensim.models import KeyedVectors\n",
    "import pickle\n",
    "\n",
    "from tqdm import tqdm\n",
    "import os"
   ]
  },
  {
   "cell_type": "code",
   "execution_count": 3,
   "metadata": {},
   "outputs": [
    {
     "name": "stdout",
     "output_type": "stream",
     "text": [
      "Number of data points in our data (525814, 10)\n"
     ]
    },
    {
     "data": {
      "text/html": [
       "<div>\n",
       "<style scoped>\n",
       "    .dataframe tbody tr th:only-of-type {\n",
       "        vertical-align: middle;\n",
       "    }\n",
       "\n",
       "    .dataframe tbody tr th {\n",
       "        vertical-align: top;\n",
       "    }\n",
       "\n",
       "    .dataframe thead th {\n",
       "        text-align: right;\n",
       "    }\n",
       "</style>\n",
       "<table border=\"1\" class=\"dataframe\">\n",
       "  <thead>\n",
       "    <tr style=\"text-align: right;\">\n",
       "      <th></th>\n",
       "      <th>Id</th>\n",
       "      <th>ProductId</th>\n",
       "      <th>UserId</th>\n",
       "      <th>ProfileName</th>\n",
       "      <th>HelpfulnessNumerator</th>\n",
       "      <th>HelpfulnessDenominator</th>\n",
       "      <th>Score</th>\n",
       "      <th>Time</th>\n",
       "      <th>Summary</th>\n",
       "      <th>Text</th>\n",
       "    </tr>\n",
       "  </thead>\n",
       "  <tbody>\n",
       "    <tr>\n",
       "      <th>0</th>\n",
       "      <td>1</td>\n",
       "      <td>B001E4KFG0</td>\n",
       "      <td>A3SGXH7AUHU8GW</td>\n",
       "      <td>delmartian</td>\n",
       "      <td>1</td>\n",
       "      <td>1</td>\n",
       "      <td>1</td>\n",
       "      <td>1303862400</td>\n",
       "      <td>Good Quality Dog Food</td>\n",
       "      <td>I have bought several of the Vitality canned d...</td>\n",
       "    </tr>\n",
       "    <tr>\n",
       "      <th>1</th>\n",
       "      <td>2</td>\n",
       "      <td>B00813GRG4</td>\n",
       "      <td>A1D87F6ZCVE5NK</td>\n",
       "      <td>dll pa</td>\n",
       "      <td>0</td>\n",
       "      <td>0</td>\n",
       "      <td>0</td>\n",
       "      <td>1346976000</td>\n",
       "      <td>Not as Advertised</td>\n",
       "      <td>Product arrived labeled as Jumbo Salted Peanut...</td>\n",
       "    </tr>\n",
       "    <tr>\n",
       "      <th>2</th>\n",
       "      <td>3</td>\n",
       "      <td>B000LQOCH0</td>\n",
       "      <td>ABXLMWJIXXAIN</td>\n",
       "      <td>Natalia Corres \"Natalia Corres\"</td>\n",
       "      <td>1</td>\n",
       "      <td>1</td>\n",
       "      <td>1</td>\n",
       "      <td>1219017600</td>\n",
       "      <td>\"Delight\" says it all</td>\n",
       "      <td>This is a confection that has been around a fe...</td>\n",
       "    </tr>\n",
       "    <tr>\n",
       "      <th>3</th>\n",
       "      <td>4</td>\n",
       "      <td>B000UA0QIQ</td>\n",
       "      <td>A395BORC6FGVXV</td>\n",
       "      <td>Karl</td>\n",
       "      <td>3</td>\n",
       "      <td>3</td>\n",
       "      <td>0</td>\n",
       "      <td>1307923200</td>\n",
       "      <td>Cough Medicine</td>\n",
       "      <td>If you are looking for the secret ingredient i...</td>\n",
       "    </tr>\n",
       "    <tr>\n",
       "      <th>4</th>\n",
       "      <td>5</td>\n",
       "      <td>B006K2ZZ7K</td>\n",
       "      <td>A1UQRSCLF8GW1T</td>\n",
       "      <td>Michael D. Bigham \"M. Wassir\"</td>\n",
       "      <td>0</td>\n",
       "      <td>0</td>\n",
       "      <td>1</td>\n",
       "      <td>1350777600</td>\n",
       "      <td>Great taffy</td>\n",
       "      <td>Great taffy at a great price.  There was a wid...</td>\n",
       "    </tr>\n",
       "  </tbody>\n",
       "</table>\n",
       "</div>"
      ],
      "text/plain": [
       "   Id   ProductId          UserId                      ProfileName  \\\n",
       "0   1  B001E4KFG0  A3SGXH7AUHU8GW                       delmartian   \n",
       "1   2  B00813GRG4  A1D87F6ZCVE5NK                           dll pa   \n",
       "2   3  B000LQOCH0   ABXLMWJIXXAIN  Natalia Corres \"Natalia Corres\"   \n",
       "3   4  B000UA0QIQ  A395BORC6FGVXV                             Karl   \n",
       "4   5  B006K2ZZ7K  A1UQRSCLF8GW1T    Michael D. Bigham \"M. Wassir\"   \n",
       "\n",
       "   HelpfulnessNumerator  HelpfulnessDenominator  Score        Time  \\\n",
       "0                     1                       1      1  1303862400   \n",
       "1                     0                       0      0  1346976000   \n",
       "2                     1                       1      1  1219017600   \n",
       "3                     3                       3      0  1307923200   \n",
       "4                     0                       0      1  1350777600   \n",
       "\n",
       "                 Summary                                               Text  \n",
       "0  Good Quality Dog Food  I have bought several of the Vitality canned d...  \n",
       "1      Not as Advertised  Product arrived labeled as Jumbo Salted Peanut...  \n",
       "2  \"Delight\" says it all  This is a confection that has been around a fe...  \n",
       "3         Cough Medicine  If you are looking for the secret ingredient i...  \n",
       "4            Great taffy  Great taffy at a great price.  There was a wid...  "
      ]
     },
     "execution_count": 3,
     "metadata": {},
     "output_type": "execute_result"
    }
   ],
   "source": [
    "# Loading the data\n",
    "# using SQLite Table to read data.\n",
    "con = sqlite3.connect('I:\\Python\\database.sqlite') \n",
    "\n",
    "# filtering only positive and negative reviews i.e. \n",
    "# not taking into consideration those reviews with Score=3\n",
    "# SELECT * FROM Reviews WHERE Score != 3 LIMIT 500000, will give top 500000 data points\n",
    "# you can change the number to any other number based on your computing power\n",
    "\n",
    "# filtered_data = pd.read_sql_query(\"\"\" SELECT * FROM Reviews WHERE Score != 3 LIMIT 500000\"\"\", con) \n",
    "# for tsne assignment you can take 5k data points\n",
    "\n",
    "filtered_data = pd.read_sql_query(\"\"\" SELECT * FROM Reviews WHERE Score != 3 \"\"\", con) \n",
    "\n",
    "# Give reviews with Score>3 a positive rating(1), and reviews with a score<3 a negative rating(0).\n",
    "def partition(x):\n",
    "    if x < 3:\n",
    "        return 0\n",
    "    return 1\n",
    "\n",
    "#changing reviews with score less than 3 to be positive and vice-versa\n",
    "actualScore = filtered_data['Score']\n",
    "positiveNegative = actualScore.map(partition) \n",
    "filtered_data['Score'] = positiveNegative\n",
    "print(\"Number of data points in our data\", filtered_data.shape)\n",
    "filtered_data.head(5)"
   ]
  },
  {
   "cell_type": "markdown",
   "metadata": {},
   "source": [
    "#  [2] Exploratory Data Analysis"
   ]
  },
  {
   "cell_type": "markdown",
   "metadata": {},
   "source": [
    "## [2.1] Data Cleaning: Deduplication\n",
    "\n",
    "It is necessary to remove duplicates in order to get unbiased results for the analysis of the data. Hence in order to reduce redundancy it's better to eliminate the rows that have same parameters.\n",
    "\n",
    "The method used to perform deduplication is that, we first sort the data according to ProductId and then just keep the first similar product review and delete the others. This method ensures that there is only one representative for each product."
   ]
  },
  {
   "cell_type": "code",
   "execution_count": 4,
   "metadata": {},
   "outputs": [
    {
     "name": "stdout",
     "output_type": "stream",
     "text": [
      "Total number of reviews in the dataframe after removing duplicated: (364173, 10)\n"
     ]
    }
   ],
   "source": [
    "#Sorting data according to ProductId in ascending order\n",
    "sorted_data = filtered_data.sort_values('ProductId', axis = 0, ascending = True, inplace = False, kind = 'quicksort', na_position = 'last')\n",
    "\n",
    "#Dropping duplicates. It says that find duplicates with {'UserId', 'ProfileName', 'Time', 'Text'} values same. Then it is a duplicate\n",
    "# By using drop_duplicate function we just keep the first product Id of the duplicates and remove the remaining.\n",
    "final_data = sorted_data.drop_duplicates(subset = {'UserId', 'ProfileName', 'Time', 'Text'}, keep = 'first', inplace = False)\n",
    "\n",
    "# Now it prints total reviews after removing duplicates.\n",
    "print('Total number of reviews in the dataframe after removing duplicated:', final_data.shape)\n"
   ]
  },
  {
   "cell_type": "code",
   "execution_count": 5,
   "metadata": {},
   "outputs": [
    {
     "data": {
      "text/plain": [
       "(364171, 10)"
      ]
     },
     "execution_count": 5,
     "metadata": {},
     "output_type": "execute_result"
    }
   ],
   "source": [
    "# HelpfulnessNumerator should always be less than HelpfulnessDenominator. \n",
    "# So check if any reviews have HelpfulnessNumerator greater than HelpfulnessDenominator and remove them\n",
    "\n",
    "final_data = final_data[final_data.HelpfulnessNumerator <= final_data.HelpfulnessDenominator]\n",
    "final_data.shape"
   ]
  },
  {
   "cell_type": "code",
   "execution_count": 6,
   "metadata": {},
   "outputs": [
    {
     "data": {
      "text/plain": [
       "69.25852107399194"
      ]
     },
     "execution_count": 6,
     "metadata": {},
     "output_type": "execute_result"
    }
   ],
   "source": [
    "#Checking to see how much % of data still remains\n",
    "(final_data['Id'].size*1.0)/(filtered_data['Id'].size*1.0)*100"
   ]
  },
  {
   "cell_type": "code",
   "execution_count": 7,
   "metadata": {},
   "outputs": [
    {
     "name": "stdout",
     "output_type": "stream",
     "text": [
      "(364171, 10)\n"
     ]
    },
    {
     "data": {
      "text/plain": [
       "1    307061\n",
       "0     57110\n",
       "Name: Score, dtype: int64"
      ]
     },
     "execution_count": 7,
     "metadata": {},
     "output_type": "execute_result"
    }
   ],
   "source": [
    "# Lets see how many total reviews left\n",
    "print(final_data.shape)\n",
    "\n",
    "#How many positive and negative reviews are present in the dataset?\n",
    "final_data['Score'].value_counts()\n"
   ]
  },
  {
   "cell_type": "markdown",
   "metadata": {},
   "source": [
    "#### Observation:-\n",
    "\n",
    "From the above output we can see that there are many positive reviews and fewer negative reviews.\n"
   ]
  },
  {
   "cell_type": "markdown",
   "metadata": {},
   "source": [
    "#  [3] Text  Preprocessing\n",
    "\n",
    "Now that we have finished deduplication our data requires some preprocessing before we go on further with analysis.\n",
    "\n",
    "1. By removing stop-words, BoW vector will be small and more meaningful\n",
    "2. Lemmatization is a process of breaking a sentence into words. It is language and context dependent\n",
    "\n",
    "Hence in the Preprocessing phase we do the following in the order below:-\n",
    "\n",
    "1. Remove all URL's\n",
    "2. Remove all tags from the strings\n",
    "3. Expanding English language contractions like, you've -> you have\n",
    "4. Remove any punctuations or limited set of special characters like , or . or # etc.\n",
    "5. Check if the word is made up of english letters and is not alpha-numeric\n",
    "6. Remove words with numbers\n",
    "7. Remove spacial characters\n",
    "8. Check to see if the length of the word is greater than 2 (as it was researched that there is no adjective in 2-letters)\n",
    "9. Convert the words to lowercase\n",
    "10. Remove Stopwords\n",
    "11. Finally Stemming the words which are related, to their stem form/root/base form (Snowball stemmer is used as it is obsereved to be better than Porter Stemming)\n",
    "\n",
    "After which we collect the words used to describe positive and negative reviews"
   ]
  },
  {
   "cell_type": "markdown",
   "metadata": {},
   "source": [
    "## [3.1].  Preprocessing Review Text\n"
   ]
  },
  {
   "cell_type": "code",
   "execution_count": 8,
   "metadata": {},
   "outputs": [
    {
     "name": "stdout",
     "output_type": "stream",
     "text": [
      "A charming, rhyming book that describes the circumstances under which you eat (or don't) chicken soup with rice, month-by-month. This sounds like the kind of thing kids would make up while they're out of recess and sing over and over until they drive the teachers crazy. It's cute and catchy and sounds really childlike but is skillfully written.\n",
      "==================================================\n",
      "<a href=\"http://www.amazon.com/gp/product/B000F4D5WG\">Edward & Sons Organic Croutons, Italian Herbs, 5.25-Ounce Packs (Pack of 6)</a><br /><br />Knowing that I have to watch my calories I have been eating nothing but low cal foods for quite a while.  Part of my diet consists of big salads and low fat Progresso soups. I wanted something extra that I could add to a salad  and/or a soup.  I decided to try these.  They are extremely salty and aside from that have no other taste.  I would not re order these again.  I do admit that I do not care for salty foods but if salt is used the taste of it should not be so overwhelming. Some foods are understandably noted for being salty, anchovies, pretzels etc. I do eat pretzels and like them as long as I don't feel as if I put several tablespoons of salt in my mouth. I do not taste any of the herbs that I expected in a product which claims to have as one of it's ingredients Italian herbs.\n",
      "==================================================\n",
      "I use this exclusively in all my cooking...<br />I don't understand why the price went up so drastically...<br />I have many of the ladies I work with that are hooked on this product and they want me to get them more\n",
      "==================================================\n",
      "Can't do sugar.  Have tried scores of SF Syrups.  NONE of them can touch the excellence of this product.<br /><br />Thick, delicious.  Perfect.  3 ingredients: Water, Maltitol, Natural Maple Flavor.  PERIOD.  No chemicals.  No garbage.<br /><br />Have numerous friends & family members hooked on this stuff.  My husband & son, who do NOT like \"sugar free\" prefer this over major label regular syrup.<br /><br />I use this as my SWEETENER in baking: cheesecakes, white brownies, muffins, pumpkin pies, etc... Unbelievably delicious...<br /><br />Can you tell I like it? :)\n",
      "==================================================\n"
     ]
    }
   ],
   "source": [
    "# printing some random reviews\n",
    "sent_5 = final_data['Text'].values[5]\n",
    "print(sent_5)\n",
    "print(\"=\"*50)\n",
    "\n",
    "sent_60000 = final_data['Text'].values[60000]\n",
    "print(sent_60000)\n",
    "print(\"=\"*50)\n",
    "\n",
    "sent_15500 = final_data['Text'].values[15500]\n",
    "print(sent_15500)\n",
    "print(\"=\"*50)\n",
    "\n",
    "sent_4900 = final_data['Text'].values[4900]\n",
    "print(sent_4900)\n",
    "print(\"=\"*50)"
   ]
  },
  {
   "cell_type": "code",
   "execution_count": 9,
   "metadata": {},
   "outputs": [
    {
     "name": "stdout",
     "output_type": "stream",
     "text": [
      "<a href=\" & Sons Organic Croutons, Italian Herbs, 5.25-Ounce Packs (Pack of 6)</a><br /><br />Knowing that I have to watch my calories I have been eating nothing but low cal foods for quite a while.  Part of my diet consists of big salads and low fat Progresso soups. I wanted something extra that I could add to a salad  and/or a soup.  I decided to try these.  They are extremely salty and aside from that have no other taste.  I would not re order these again.  I do admit that I do not care for salty foods but if salt is used the taste of it should not be so overwhelming. Some foods are understandably noted for being salty, anchovies, pretzels etc. I do eat pretzels and like them as long as I don't feel as if I put several tablespoons of salt in my mouth. I do not taste any of the herbs that I expected in a product which claims to have as one of it's ingredients Italian herbs.\n"
     ]
    }
   ],
   "source": [
    "# Remove urls from text ----  https://stackoverflow.com/a/40823105/4084039\n",
    "import re\n",
    "sent_5 = re.sub(r\"http\\S+\", \"\", sent_5)\n",
    "sent_60000 = re.sub(r\"http\\S+\", \"\", sent_60000)\n",
    "sent_15500 = re.sub(r\"http\\S+\", \"\", sent_15500)\n",
    "sent_4900 = re.sub(r\"http\\S+\", \"\", sent_4900)\n",
    "\n",
    "print(sent_60000)"
   ]
  },
  {
   "cell_type": "code",
   "execution_count": 10,
   "metadata": {},
   "outputs": [
    {
     "name": "stdout",
     "output_type": "stream",
     "text": [
      "A charming, rhyming book that describes the circumstances under which you eat (or don't) chicken soup with rice, month-by-month. This sounds like the kind of thing kids would make up while they're out of recess and sing over and over until they drive the teachers crazy. It's cute and catchy and sounds really childlike but is skillfully written.\n",
      "==================================================\n",
      "I use this exclusively in all my cooking...I don't understand why the price went up so drastically...I have many of the ladies I work with that are hooked on this product and they want me to get them more\n",
      "==================================================\n",
      "Can't do sugar.  Have tried scores of SF Syrups.  NONE of them can touch the excellence of this product.Thick, delicious.  Perfect.  3 ingredients: Water, Maltitol, Natural Maple Flavor.  PERIOD.  No chemicals.  No garbage.Have numerous friends & family members hooked on this stuff.  My husband & son, who do NOT like \"sugar free\" prefer this over major label regular syrup.I use this as my SWEETENER in baking: cheesecakes, white brownies, muffins, pumpkin pies, etc... Unbelievably delicious...Can you tell I like it? :)\n"
     ]
    }
   ],
   "source": [
    "# Removes all tags from a string --- https://stackoverflow.com/questions/16206380/python-beautifulsoup-how-to-remove-all-tags-from-an-element\n",
    "\n",
    "from bs4 import BeautifulSoup\n",
    "\n",
    "soup = BeautifulSoup(sent_5, 'lxml')\n",
    "text = soup.get_text()\n",
    "print(text)\n",
    "print(\"=\"*50)\n",
    "\n",
    "soup = BeautifulSoup(sent_15500, 'lxml')\n",
    "text = soup.get_text()\n",
    "print(text)\n",
    "print(\"=\"*50)\n",
    "\n",
    "soup = BeautifulSoup(sent_4900, 'lxml')\n",
    "text = soup.get_text()\n",
    "print(text)"
   ]
  },
  {
   "cell_type": "code",
   "execution_count": 11,
   "metadata": {},
   "outputs": [],
   "source": [
    "# Expanding English language contractions  like, you've -> you have,  aren't -> are not\n",
    "# https://stackoverflow.com/a/47091490/4084039\n",
    "import re\n",
    "\n",
    "def decontracted(phrase):\n",
    "    # specific\n",
    "    phrase = re.sub(r\"won't\", \"will not\", phrase)\n",
    "    phrase = re.sub(r\"can\\'t\", \"can not\", phrase)\n",
    "\n",
    "    # general\n",
    "    phrase = re.sub(r\"n\\'t\", \" not\", phrase)\n",
    "    phrase = re.sub(r\"\\'re\", \" are\", phrase)\n",
    "    phrase = re.sub(r\"\\'s\", \" is\", phrase)\n",
    "    phrase = re.sub(r\"\\'d\", \" would\", phrase)\n",
    "    phrase = re.sub(r\"\\'ll\", \" will\", phrase)\n",
    "    phrase = re.sub(r\"\\'t\", \" not\", phrase)\n",
    "    phrase = re.sub(r\"\\'ve\", \" have\", phrase)\n",
    "    phrase = re.sub(r\"\\'m\", \" am\", phrase)\n",
    "    return phrase"
   ]
  },
  {
   "cell_type": "code",
   "execution_count": 12,
   "metadata": {},
   "outputs": [
    {
     "name": "stdout",
     "output_type": "stream",
     "text": [
      "A charming, rhyming book that describes the circumstances under which you eat (or do not) chicken soup with rice, month-by-month. This sounds like the kind of thing kids would make up while they are out of recess and sing over and over until they drive the teachers crazy. It is cute and catchy and sounds really childlike but is skillfully written.\n",
      "==================================================\n"
     ]
    }
   ],
   "source": [
    "sent_5 = decontracted(sent_5)\n",
    "print(sent_5)\n",
    "print(\"=\"*50)"
   ]
  },
  {
   "cell_type": "code",
   "execution_count": 13,
   "metadata": {},
   "outputs": [
    {
     "name": "stdout",
     "output_type": "stream",
     "text": [
      "a href  Sons Organic Croutons Italian Herbs 525Ounce Packs Pack of 6abr br Knowing that I have to watch my calories I have been eating nothing but low cal foods for quite a while  Part of my diet consists of big salads and low fat Progresso soups I wanted something extra that I could add to a salad  andor a soup  I decided to try these  They are extremely salty and aside from that have no other taste  I would not re order these again  I do admit that I do not care for salty foods but if salt is used the taste of it should not be so overwhelming Some foods are understandably noted for being salty anchovies pretzels etc I do eat pretzels and like them as long as I dont feel as if I put several tablespoons of salt in my mouth I do not taste any of the herbs that I expected in a product which claims to have as one of its ingredients Italian herbs\n"
     ]
    }
   ],
   "source": [
    "# Removes punctuations from strings ---  https://stackoverflow.com/questions/265960/best-way-to-strip-punctuation-from-a-string-in-python\n",
    "sent_5 = re.sub(r\"http\\S+\", \"\", sent_5)\n",
    "sent_60000 = re.sub(r'[^\\w\\s]','', sent_60000)\n",
    "sent_15500 = re.sub(r'[^\\w\\s]','', sent_15500)\n",
    "sent_4900 = re.sub(r'[^\\w\\s]','', sent_4900)\n",
    "\n",
    "print(sent_60000)"
   ]
  },
  {
   "cell_type": "code",
   "execution_count": 14,
   "metadata": {},
   "outputs": [
    {
     "name": "stdout",
     "output_type": "stream",
     "text": [
      "a href  Sons Organic Croutons Italian Herbs  Packs Pack of  br Knowing that I have to watch my calories I have been eating nothing but low cal foods for quite a while  Part of my diet consists of big salads and low fat Progresso soups I wanted something extra that I could add to a salad  andor a soup  I decided to try these  They are extremely salty and aside from that have no other taste  I would not re order these again  I do admit that I do not care for salty foods but if salt is used the taste of it should not be so overwhelming Some foods are understandably noted for being salty anchovies pretzels etc I do eat pretzels and like them as long as I dont feel as if I put several tablespoons of salt in my mouth I do not taste any of the herbs that I expected in a product which claims to have as one of its ingredients Italian herbs\n"
     ]
    }
   ],
   "source": [
    "#remove words with numbers --- https://stackoverflow.com/a/18082370/4084039\n",
    "sent_60000 = re.sub(\"\\S*\\d\\S*\", \"\", sent_60000).strip()\n",
    "print(sent_60000)"
   ]
  },
  {
   "cell_type": "code",
   "execution_count": 15,
   "metadata": {},
   "outputs": [
    {
     "name": "stdout",
     "output_type": "stream",
     "text": [
      "Cant do sugar Have tried scores of SF Syrups NONE of them can touch the excellence of this productbr br Thick delicious Perfect 3 ingredients Water Maltitol Natural Maple Flavor PERIOD No chemicals No garbagebr br Have numerous friends family members hooked on this stuff My husband son who do NOT like sugar free prefer this over major label regular syrupbr br I use this as my SWEETENER in baking cheesecakes white brownies muffins pumpkin pies etc Unbelievably deliciousbr br Can you tell I like it \n"
     ]
    }
   ],
   "source": [
    "#remove spacial character: https://stackoverflow.com/a/5843547/4084039\n",
    "sent_4900 = re.sub('[^A-Za-z0-9]+', ' ', sent_4900)\n",
    "print(sent_4900)"
   ]
  },
  {
   "cell_type": "code",
   "execution_count": 16,
   "metadata": {},
   "outputs": [
    {
     "name": "stdout",
     "output_type": "stream",
     "text": [
      "cant do sugar have tried scores of sf syrups none of them can touch the excellence of this productbr br thick delicious perfect 3 ingredients water maltitol natural maple flavor period no chemicals no garbagebr br have numerous friends family members hooked on this stuff my husband son who do not like sugar free prefer this over major label regular syrupbr br i use this as my sweetener in baking cheesecakes white brownies muffins pumpkin pies etc unbelievably deliciousbr br can you tell i like it \n"
     ]
    }
   ],
   "source": [
    "# Converting words into lowercase\n",
    "sent_4900 = sent_4900.lower()\n",
    "print(sent_4900)"
   ]
  },
  {
   "cell_type": "code",
   "execution_count": 17,
   "metadata": {},
   "outputs": [],
   "source": [
    "# https://gist.github.com/sebleier/554280\n",
    "# we are removing the words from the stop words list: 'no', 'nor', 'not'\n",
    "# <br /><br /> ==> after the above steps, we are getting \"br br\"\n",
    "# we are including them into stop words list\n",
    "# instead of <br /> if we have <br/> these tags would have revmoved in the 1st step\n",
    "\n",
    "stopwords= set(['br', 'the', 'i', 'me', 'my', 'myself', 'we', 'our', 'ours', 'ourselves', 'you', \"you're\", \"you've\",\\\n",
    "            \"you'll\", \"you'd\", 'your', 'yours', 'yourself', 'yourselves', 'he', 'him', 'his', 'himself', \\\n",
    "            'she', \"she's\", 'her', 'hers', 'herself', 'it', \"it's\", 'its', 'itself', 'they', 'them', 'their',\\\n",
    "            'theirs', 'themselves', 'what', 'which', 'who', 'whom', 'this', 'that', \"that'll\", 'these', 'those', \\\n",
    "            'am', 'is', 'are', 'was', 'were', 'be', 'been', 'being', 'have', 'has', 'had', 'having', 'do', 'does', \\\n",
    "            'did', 'doing', 'a', 'an', 'the', 'and', 'but', 'if', 'or', 'because', 'as', 'until', 'while', 'of', \\\n",
    "            'at', 'by', 'for', 'with', 'about', 'against', 'between', 'into', 'through', 'during', 'before', 'after',\\\n",
    "            'above', 'below', 'to', 'from', 'up', 'down', 'in', 'out', 'on', 'off', 'over', 'under', 'again', 'further',\\\n",
    "            'then', 'once', 'here', 'there', 'when', 'where', 'why', 'how', 'all', 'any', 'both', 'each', 'few', 'more',\\\n",
    "            'most', 'other', 'some', 'such', 'only', 'own', 'same', 'so', 'than', 'too', 'very', \\\n",
    "            's', 't', 'can', 'will', 'just', 'don', \"don't\", 'should', \"should've\", 'now', 'd', 'll', 'm', 'o', 're', \\\n",
    "            've', 'y', 'ain', 'aren', \"aren't\", 'couldn', \"couldn't\", 'didn', \"didn't\", 'doesn', \"doesn't\", 'hadn',\\\n",
    "            \"hadn't\", 'hasn', \"hasn't\", 'haven', \"haven't\", 'isn', \"isn't\", 'ma', 'mightn', \"mightn't\", 'mustn',\\\n",
    "            \"mustn't\", 'needn', \"needn't\", 'shan', \"shan't\", 'shouldn', \"shouldn't\", 'wasn', \"wasn't\", 'weren', \"weren't\", \\\n",
    "            'won', \"won't\", 'wouldn', \"wouldn't\"])"
   ]
  },
  {
   "cell_type": "code",
   "execution_count": 18,
   "metadata": {},
   "outputs": [
    {
     "name": "stderr",
     "output_type": "stream",
     "text": [
      "100%|██████████| 364171/364171 [02:56<00:00, 2059.08it/s]\n"
     ]
    }
   ],
   "source": [
    "# Combining all the above stundents \n",
    "from tqdm import tqdm\n",
    "final_strings = []\n",
    "all_positive_words=[] # store words from +ve reviews here\n",
    "all_negative_words=[] # store words from -ve reviews here.\n",
    "s=''\n",
    "# tqdm is for printing the status bar\n",
    "for sentence in tqdm(final_data['Text'].values):\n",
    "    sentence = re.sub(r\"http\\S+\", \"\", sentence)  # To remove urls from text\n",
    "    sentence = BeautifulSoup(sentence, 'lxml').get_text() # To remove all tags from an element\n",
    "    sentence = decontracted(sentence) # Expanding English language contractions  like, you've -> you have,  aren't -> are not\n",
    "    sentence = re.sub(r'[^\\w\\s]','', sentence)\n",
    "    sentence = re.sub(\"\\S*\\d\\S*\", \"\", sentence).strip() # removes words with numbers\n",
    "    sentence = re.sub('[^A-Za-z]+', ' ', sentence) # removes special characters\n",
    "    sentence = sentence.lower()  # Converting words into lowercase\n",
    "    # https://gist.github.com/sebleier/554280\n",
    "    sentence = ' '.join(e.lower() for e in sentence.split() if e.lower() not in stopwords)\n",
    "    final_strings.append(sentence.strip())"
   ]
  },
  {
   "cell_type": "code",
   "execution_count": 19,
   "metadata": {},
   "outputs": [
    {
     "data": {
      "text/plain": [
       "'great product anyone would love even not gluten free great servicefast'"
      ]
     },
     "execution_count": 19,
     "metadata": {},
     "output_type": "execute_result"
    }
   ],
   "source": [
    "final_strings[55000]"
   ]
  },
  {
   "cell_type": "code",
   "execution_count": 20,
   "metadata": {},
   "outputs": [],
   "source": [
    "# store final_data table into an SQlLite table for future.\n",
    "conn = sqlite3.connect('final_data.sqlite')\n",
    "c=conn.cursor()\n",
    "conn.text_factory = str\n",
    "final_data.to_sql('Reviews', conn,  schema=None, if_exists='replace', index=True, index_label=None, chunksize=None, dtype=None)\n"
   ]
  },
  {
   "cell_type": "code",
   "execution_count": 21,
   "metadata": {},
   "outputs": [
    {
     "data": {
      "text/html": [
       "<div>\n",
       "<style scoped>\n",
       "    .dataframe tbody tr th:only-of-type {\n",
       "        vertical-align: middle;\n",
       "    }\n",
       "\n",
       "    .dataframe tbody tr th {\n",
       "        vertical-align: top;\n",
       "    }\n",
       "\n",
       "    .dataframe thead th {\n",
       "        text-align: right;\n",
       "    }\n",
       "</style>\n",
       "<table border=\"1\" class=\"dataframe\">\n",
       "  <thead>\n",
       "    <tr style=\"text-align: right;\">\n",
       "      <th></th>\n",
       "      <th>Id</th>\n",
       "      <th>ProductId</th>\n",
       "      <th>UserId</th>\n",
       "      <th>ProfileName</th>\n",
       "      <th>HelpfulnessNumerator</th>\n",
       "      <th>HelpfulnessDenominator</th>\n",
       "      <th>Score</th>\n",
       "      <th>Time</th>\n",
       "      <th>Summary</th>\n",
       "      <th>Text</th>\n",
       "      <th>CleanedText</th>\n",
       "    </tr>\n",
       "  </thead>\n",
       "  <tbody>\n",
       "    <tr>\n",
       "      <th>138706</th>\n",
       "      <td>150524</td>\n",
       "      <td>0006641040</td>\n",
       "      <td>ACITT7DI6IDDL</td>\n",
       "      <td>shari zychinski</td>\n",
       "      <td>0</td>\n",
       "      <td>0</td>\n",
       "      <td>1</td>\n",
       "      <td>939340800</td>\n",
       "      <td>EVERY book is educational</td>\n",
       "      <td>this witty little book makes my son laugh at l...</td>\n",
       "      <td>witty little book makes son laugh loud recite ...</td>\n",
       "    </tr>\n",
       "    <tr>\n",
       "      <th>138688</th>\n",
       "      <td>150506</td>\n",
       "      <td>0006641040</td>\n",
       "      <td>A2IW4PEEKO2R0U</td>\n",
       "      <td>Tracy</td>\n",
       "      <td>1</td>\n",
       "      <td>1</td>\n",
       "      <td>1</td>\n",
       "      <td>1194739200</td>\n",
       "      <td>Love the book, miss the hard cover version</td>\n",
       "      <td>I grew up reading these Sendak books, and watc...</td>\n",
       "      <td>grew reading sendak books watching really rosi...</td>\n",
       "    </tr>\n",
       "    <tr>\n",
       "      <th>138689</th>\n",
       "      <td>150507</td>\n",
       "      <td>0006641040</td>\n",
       "      <td>A1S4A3IQ2MU7V4</td>\n",
       "      <td>sally sue \"sally sue\"</td>\n",
       "      <td>1</td>\n",
       "      <td>1</td>\n",
       "      <td>1</td>\n",
       "      <td>1191456000</td>\n",
       "      <td>chicken soup with rice months</td>\n",
       "      <td>This is a fun way for children to learn their ...</td>\n",
       "      <td>fun way children learn months year learn poems...</td>\n",
       "    </tr>\n",
       "  </tbody>\n",
       "</table>\n",
       "</div>"
      ],
      "text/plain": [
       "            Id   ProductId          UserId            ProfileName  \\\n",
       "138706  150524  0006641040   ACITT7DI6IDDL        shari zychinski   \n",
       "138688  150506  0006641040  A2IW4PEEKO2R0U                  Tracy   \n",
       "138689  150507  0006641040  A1S4A3IQ2MU7V4  sally sue \"sally sue\"   \n",
       "\n",
       "        HelpfulnessNumerator  HelpfulnessDenominator  Score        Time  \\\n",
       "138706                     0                       0      1   939340800   \n",
       "138688                     1                       1      1  1194739200   \n",
       "138689                     1                       1      1  1191456000   \n",
       "\n",
       "                                           Summary  \\\n",
       "138706                   EVERY book is educational   \n",
       "138688  Love the book, miss the hard cover version   \n",
       "138689               chicken soup with rice months   \n",
       "\n",
       "                                                     Text  \\\n",
       "138706  this witty little book makes my son laugh at l...   \n",
       "138688  I grew up reading these Sendak books, and watc...   \n",
       "138689  This is a fun way for children to learn their ...   \n",
       "\n",
       "                                              CleanedText  \n",
       "138706  witty little book makes son laugh loud recite ...  \n",
       "138688  grew reading sendak books watching really rosi...  \n",
       "138689  fun way children learn months year learn poems...  "
      ]
     },
     "execution_count": 21,
     "metadata": {},
     "output_type": "execute_result"
    }
   ],
   "source": [
    "final_data['CleanedText'] = final_strings\n",
    "final_data.shape\n",
    "final_data.head(3)\n"
   ]
  },
  {
   "cell_type": "code",
   "execution_count": 22,
   "metadata": {},
   "outputs": [
    {
     "name": "stdout",
     "output_type": "stream",
     "text": [
      "1    307061\n",
      "0     57110\n",
      "Name: Score, dtype: int64\n"
     ]
    }
   ],
   "source": [
    "print(final_data['Score'].value_counts())"
   ]
  },
  {
   "cell_type": "markdown",
   "metadata": {},
   "source": [
    "## [3.2] Preprocessing Reviews Summary"
   ]
  },
  {
   "cell_type": "code",
   "execution_count": 23,
   "metadata": {},
   "outputs": [
    {
     "name": "stdout",
     "output_type": "stream",
     "text": [
      "I set aside at least an hour each day to read to my son (3 y/o). At this point, I consider myself a connoisseur of children's books and this is one of the best. Santa Clause put this under the tree. Since then, we've read it perpetually and he loves it.<br /><br />First, this book taught him the months of the year.<br /><br />Second, it's a pleasure to read. Well suited to 1.5 y/o old to 4+.<br /><br />Very few children's books are worth owning. Most should be borrowed from the library. This book, however, deserves a permanent spot on your shelf. Sendak's best.\n",
      "==================================================\n",
      "late delivered, I paid extra charge for faster delivery but is not delivered on the time i've expected it.\n",
      "==================================================\n",
      "We use marinade on a weekly basis, and this is another flavor from Lawry's that is really good.  Not too spicy or overwhelming, making it a good marinade for everyone (even picky kids who don't like spicy tastes).\n",
      "==================================================\n",
      "Great taste and amazing crunch. If you have never experienced the large/deluxe/fancy peanuts and have only had Planters or regular \"salted in the shell\", you are in for a wonderful experience. The intense taste and solid crunch will keep your hand in the can `til they are gone.\n",
      "==================================================\n"
     ]
    }
   ],
   "source": [
    "# printing some random reviews\n",
    "sent_6 = final_data['Text'].values[6]\n",
    "print(sent_6)\n",
    "print(\"=\"*50)\n",
    "\n",
    "sent_5000 = final_data['Text'].values[5000]\n",
    "print(sent_5000)\n",
    "print(\"=\"*50)\n",
    "\n",
    "sent_50000 = final_data['Text'].values[50000]\n",
    "print(sent_50000)\n",
    "print(\"=\"*50)\n",
    "\n",
    "sent_355000 = final_data['Text'].values[355000]\n",
    "print(sent_355000)\n",
    "print(\"=\"*50)"
   ]
  },
  {
   "cell_type": "code",
   "execution_count": 24,
   "metadata": {},
   "outputs": [
    {
     "name": "stdout",
     "output_type": "stream",
     "text": [
      "I set aside at least an hour each day to read to my son (3 y/o). At this point, I consider myself a connoisseur of children's books and this is one of the best. Santa Clause put this under the tree. Since then, we've read it perpetually and he loves it.First, this book taught him the months of the year.Second, it's a pleasure to read. Well suited to 1.5 y/o old to 4+.Very few children's books are worth owning. Most should be borrowed from the library. This book, however, deserves a permanent spot on your shelf. Sendak's best.\n",
      "==================================================\n",
      "late delivered, I paid extra charge for faster delivery but is not delivered on the time i've expected it.\n",
      "==================================================\n",
      "We use marinade on a weekly basis, and this is another flavor from Lawry's that is really good.  Not too spicy or overwhelming, making it a good marinade for everyone (even picky kids who don't like spicy tastes).\n",
      "==================================================\n",
      "Great taste and amazing crunch. If you have never experienced the large/deluxe/fancy peanuts and have only had Planters or regular \"salted in the shell\", you are in for a wonderful experience. The intense taste and solid crunch will keep your hand in the can `til they are gone.\n"
     ]
    }
   ],
   "source": [
    "from bs4 import BeautifulSoup\n",
    "\n",
    "soup = BeautifulSoup(sent_6, 'lxml')\n",
    "text = soup.get_text()\n",
    "print(text)\n",
    "print(\"=\"*50)\n",
    "\n",
    "soup = BeautifulSoup(sent_5000, 'lxml')\n",
    "text= soup.get_text()\n",
    "print(text)\n",
    "print(\"=\"*50)\n",
    "\n",
    "soup = BeautifulSoup(sent_50000, 'lxml')\n",
    "text = soup.get_text()\n",
    "print(text)\n",
    "print(\"=\"*50)\n",
    "\n",
    "soup = BeautifulSoup(sent_355000, 'lxml')\n",
    "text = soup.get_text()\n",
    "print(text)"
   ]
  },
  {
   "cell_type": "code",
   "execution_count": 25,
   "metadata": {},
   "outputs": [],
   "source": [
    "# Expanding English language contractions  like, you've -> you have,  aren't -> are not\n",
    "import re\n",
    "\n",
    "def decontracted(phrase):\n",
    "    # specific\n",
    "    phrase = re.sub(r\"won't\", \"will not\", phrase)\n",
    "    phrase = re.sub(r\"can\\'t\", \"can not\", phrase)\n",
    "\n",
    "    # general\n",
    "    phrase = re.sub(r\"n\\'t\", \" not\", phrase)\n",
    "    phrase = re.sub(r\"\\'re\", \" are\", phrase)\n",
    "    phrase = re.sub(r\"\\'s\", \" is\", phrase)\n",
    "    phrase = re.sub(r\"\\'d\", \" would\", phrase)\n",
    "    phrase = re.sub(r\"\\'ll\", \" will\", phrase)\n",
    "    phrase = re.sub(r\"\\'t\", \" not\", phrase)\n",
    "    phrase = re.sub(r\"\\'ve\", \" have\", phrase)\n",
    "    phrase = re.sub(r\"\\'m\", \" am\", phrase)\n",
    "    return phrase"
   ]
  },
  {
   "cell_type": "code",
   "execution_count": 26,
   "metadata": {},
   "outputs": [
    {
     "name": "stdout",
     "output_type": "stream",
     "text": [
      "late delivered, I paid extra charge for faster delivery but is not delivered on the time i have expected it.\n",
      "==================================================\n"
     ]
    }
   ],
   "source": [
    "sent_5000 = decontracted(sent_5000)\n",
    "print(sent_5000)\n",
    "print(\"=\"*50)"
   ]
  },
  {
   "cell_type": "code",
   "execution_count": 27,
   "metadata": {},
   "outputs": [
    {
     "name": "stdout",
     "output_type": "stream",
     "text": [
      "I set aside at least an hour each day to read to my son  y/o). At this point, I consider myself a connoisseur of children's books and this is one of the best. Santa Clause put this under the tree. Since then, we've read it perpetually and he loves it.<br /><br />First, this book taught him the months of the year.<br /><br />Second, it's a pleasure to read. Well suited to  y/o old to  /><br />Very few children's books are worth owning. Most should be borrowed from the library. This book, however, deserves a permanent spot on your shelf. Sendak's best.\n"
     ]
    }
   ],
   "source": [
    "#remove words with numbers ---- https://stackoverflow.com/a/18082370/4084039\n",
    "sent_6 = re.sub(\"\\S*\\d\\S*\", \"\", sent_6).strip()\n",
    "print(sent_6)"
   ]
  },
  {
   "cell_type": "code",
   "execution_count": 28,
   "metadata": {},
   "outputs": [
    {
     "name": "stdout",
     "output_type": "stream",
     "text": [
      "Great taste and amazing crunch If you have never experienced the large deluxe fancy peanuts and have only had Planters or regular salted in the shell you are in for a wonderful experience The intense taste and solid crunch will keep your hand in the can til they are gone \n"
     ]
    }
   ],
   "source": [
    "#remove spacial character ----- https://stackoverflow.com/a/5843547/4084039\n",
    "sent_355000 = re.sub('[^A-Za-z0-9]+', ' ', sent_355000)\n",
    "print(sent_355000)"
   ]
  },
  {
   "cell_type": "code",
   "execution_count": 29,
   "metadata": {},
   "outputs": [],
   "source": [
    "# https://gist.github.com/sebleier/554280\n",
    "# we are removing the words from the stop words list: 'no', 'nor', 'not'\n",
    "# <br /><br /> ==> after the above steps, we are getting \"br br\"\n",
    "# we are including them into stop words list\n",
    "# instead of <br /> if we have <br/> these tags would have revmoved in the 1st step\n",
    "\n",
    "stopwords= set(['br', 'the', 'i', 'me', 'my', 'myself', 'we', 'our', 'ours', 'ourselves', 'you', \"you're\", \"you've\",\\\n",
    "            \"you'll\", \"you'd\", 'your', 'yours', 'yourself', 'yourselves', 'he', 'him', 'his', 'himself', \\\n",
    "            'she', \"she's\", 'her', 'hers', 'herself', 'it', \"it's\", 'its', 'itself', 'they', 'them', 'their',\\\n",
    "            'theirs', 'themselves', 'what', 'which', 'who', 'whom', 'this', 'that', \"that'll\", 'these', 'those', \\\n",
    "            'am', 'is', 'are', 'was', 'were', 'be', 'been', 'being', 'have', 'has', 'had', 'having', 'do', 'does', \\\n",
    "            'did', 'doing', 'a', 'an', 'the', 'and', 'but', 'if', 'or', 'because', 'as', 'until', 'while', 'of', \\\n",
    "            'at', 'by', 'for', 'with', 'about', 'against', 'between', 'into', 'through', 'during', 'before', 'after',\\\n",
    "            'above', 'below', 'to', 'from', 'up', 'down', 'in', 'out', 'on', 'off', 'over', 'under', 'again', 'further',\\\n",
    "            'then', 'once', 'here', 'there', 'when', 'where', 'why', 'how', 'all', 'any', 'both', 'each', 'few', 'more',\\\n",
    "            'most', 'other', 'some', 'such', 'only', 'own', 'same', 'so', 'than', 'too', 'very', \\\n",
    "            's', 't', 'can', 'will', 'just', 'don', \"don't\", 'should', \"should've\", 'now', 'd', 'll', 'm', 'o', 're', \\\n",
    "            've', 'y', 'ain', 'aren', \"aren't\", 'couldn', \"couldn't\", 'didn', \"didn't\", 'doesn', \"doesn't\", 'hadn',\\\n",
    "            \"hadn't\", 'hasn', \"hasn't\", 'haven', \"haven't\", 'isn', \"isn't\", 'ma', 'mightn', \"mightn't\", 'mustn',\\\n",
    "            \"mustn't\", 'needn', \"needn't\", 'shan', \"shan't\", 'shouldn', \"shouldn't\", 'wasn', \"wasn't\", 'weren', \"weren't\", \\\n",
    "            'won', \"won't\", 'wouldn', \"wouldn't\"])"
   ]
  },
  {
   "cell_type": "code",
   "execution_count": 30,
   "metadata": {},
   "outputs": [
    {
     "name": "stderr",
     "output_type": "stream",
     "text": [
      "100%|██████████| 364171/364171 [02:11<00:00, 2778.34it/s]\n"
     ]
    }
   ],
   "source": [
    "# Performing all the preprocessing steps on Summary data.\n",
    "import warnings\n",
    "warnings.filterwarnings('ignore')  # \"error\", \"ignore\", \"always\", \"default\", \"module\" or \"once\"\n",
    "from tqdm import tqdm\n",
    "summary_data = []\n",
    "all_positive_words=[] # store words from +ve reviews here\n",
    "all_negative_words=[] # store words from -ve reviews here.\n",
    "s=''\n",
    "# tqdm is for printing the status bar\n",
    "for sentence in tqdm(final_data['Summary'].values):\n",
    "    sentence = re.sub(r\"http\\S+\", \"\", sentence)  # To remove urls from text\n",
    "    sentence = BeautifulSoup(sentence, 'lxml').get_text() # To remove all tags from an element\n",
    "    sentence = decontracted(sentence) # Expanding English language contractions  like, you've -> you have,  aren't -> are not\n",
    "    sentence = re.sub(r'[^\\w\\s]','', sentence)\n",
    "    sentence = re.sub(\"\\S*\\d\\S*\", \"\", sentence).strip() # removes words with numbers\n",
    "    sentence = re.sub('[^A-Za-z]+', ' ', sentence) # removes special characters\n",
    "    sentence = sentence.lower()  # Converting words into lowercase\n",
    "    # https://gist.github.com/sebleier/554280\n",
    "    sentence = ' '.join(e.lower() for e in sentence.split() if e.lower() not in stopwords)\n",
    "    summary_data.append(sentence.strip())"
   ]
  },
  {
   "cell_type": "code",
   "execution_count": 31,
   "metadata": {},
   "outputs": [
    {
     "data": {
      "text/plain": [
       "'awesome yummy'"
      ]
     },
     "execution_count": 31,
     "metadata": {},
     "output_type": "execute_result"
    }
   ],
   "source": [
    "summary_data[56000]"
   ]
  },
  {
   "cell_type": "code",
   "execution_count": 32,
   "metadata": {},
   "outputs": [],
   "source": [
    "# store final_data table into an SQlLite table for future.\n",
    "conn = sqlite3.connect('final_data.sqlite')\n",
    "c=conn.cursor()\n",
    "conn.text_factory = str\n",
    "final_data.to_sql('Reviews', conn,  schema=None, if_exists='replace', index=True, index_label=None, chunksize=None, dtype=None)\n"
   ]
  },
  {
   "cell_type": "code",
   "execution_count": 33,
   "metadata": {},
   "outputs": [
    {
     "data": {
      "text/html": [
       "<div>\n",
       "<style scoped>\n",
       "    .dataframe tbody tr th:only-of-type {\n",
       "        vertical-align: middle;\n",
       "    }\n",
       "\n",
       "    .dataframe tbody tr th {\n",
       "        vertical-align: top;\n",
       "    }\n",
       "\n",
       "    .dataframe thead th {\n",
       "        text-align: right;\n",
       "    }\n",
       "</style>\n",
       "<table border=\"1\" class=\"dataframe\">\n",
       "  <thead>\n",
       "    <tr style=\"text-align: right;\">\n",
       "      <th></th>\n",
       "      <th>Id</th>\n",
       "      <th>ProductId</th>\n",
       "      <th>UserId</th>\n",
       "      <th>ProfileName</th>\n",
       "      <th>HelpfulnessNumerator</th>\n",
       "      <th>HelpfulnessDenominator</th>\n",
       "      <th>Score</th>\n",
       "      <th>Time</th>\n",
       "      <th>Summary</th>\n",
       "      <th>Text</th>\n",
       "      <th>CleanedText</th>\n",
       "      <th>CleanedSummary</th>\n",
       "    </tr>\n",
       "  </thead>\n",
       "  <tbody>\n",
       "    <tr>\n",
       "      <th>138706</th>\n",
       "      <td>150524</td>\n",
       "      <td>0006641040</td>\n",
       "      <td>ACITT7DI6IDDL</td>\n",
       "      <td>shari zychinski</td>\n",
       "      <td>0</td>\n",
       "      <td>0</td>\n",
       "      <td>1</td>\n",
       "      <td>939340800</td>\n",
       "      <td>EVERY book is educational</td>\n",
       "      <td>this witty little book makes my son laugh at l...</td>\n",
       "      <td>witty little book makes son laugh loud recite ...</td>\n",
       "      <td>every book educational</td>\n",
       "    </tr>\n",
       "    <tr>\n",
       "      <th>138688</th>\n",
       "      <td>150506</td>\n",
       "      <td>0006641040</td>\n",
       "      <td>A2IW4PEEKO2R0U</td>\n",
       "      <td>Tracy</td>\n",
       "      <td>1</td>\n",
       "      <td>1</td>\n",
       "      <td>1</td>\n",
       "      <td>1194739200</td>\n",
       "      <td>Love the book, miss the hard cover version</td>\n",
       "      <td>I grew up reading these Sendak books, and watc...</td>\n",
       "      <td>grew reading sendak books watching really rosi...</td>\n",
       "      <td>love book miss hard cover version</td>\n",
       "    </tr>\n",
       "    <tr>\n",
       "      <th>138689</th>\n",
       "      <td>150507</td>\n",
       "      <td>0006641040</td>\n",
       "      <td>A1S4A3IQ2MU7V4</td>\n",
       "      <td>sally sue \"sally sue\"</td>\n",
       "      <td>1</td>\n",
       "      <td>1</td>\n",
       "      <td>1</td>\n",
       "      <td>1191456000</td>\n",
       "      <td>chicken soup with rice months</td>\n",
       "      <td>This is a fun way for children to learn their ...</td>\n",
       "      <td>fun way children learn months year learn poems...</td>\n",
       "      <td>chicken soup rice months</td>\n",
       "    </tr>\n",
       "  </tbody>\n",
       "</table>\n",
       "</div>"
      ],
      "text/plain": [
       "            Id   ProductId          UserId            ProfileName  \\\n",
       "138706  150524  0006641040   ACITT7DI6IDDL        shari zychinski   \n",
       "138688  150506  0006641040  A2IW4PEEKO2R0U                  Tracy   \n",
       "138689  150507  0006641040  A1S4A3IQ2MU7V4  sally sue \"sally sue\"   \n",
       "\n",
       "        HelpfulnessNumerator  HelpfulnessDenominator  Score        Time  \\\n",
       "138706                     0                       0      1   939340800   \n",
       "138688                     1                       1      1  1194739200   \n",
       "138689                     1                       1      1  1191456000   \n",
       "\n",
       "                                           Summary  \\\n",
       "138706                   EVERY book is educational   \n",
       "138688  Love the book, miss the hard cover version   \n",
       "138689               chicken soup with rice months   \n",
       "\n",
       "                                                     Text  \\\n",
       "138706  this witty little book makes my son laugh at l...   \n",
       "138688  I grew up reading these Sendak books, and watc...   \n",
       "138689  This is a fun way for children to learn their ...   \n",
       "\n",
       "                                              CleanedText  \\\n",
       "138706  witty little book makes son laugh loud recite ...   \n",
       "138688  grew reading sendak books watching really rosi...   \n",
       "138689  fun way children learn months year learn poems...   \n",
       "\n",
       "                           CleanedSummary  \n",
       "138706             every book educational  \n",
       "138688  love book miss hard cover version  \n",
       "138689           chicken soup rice months  "
      ]
     },
     "execution_count": 33,
     "metadata": {},
     "output_type": "execute_result"
    }
   ],
   "source": [
    "final_data['CleanedSummary'] = summary_data \n",
    "final_data.shape\n",
    "final_data.head(3)"
   ]
  },
  {
   "cell_type": "code",
   "execution_count": 34,
   "metadata": {},
   "outputs": [
    {
     "name": "stdout",
     "output_type": "stream",
     "text": [
      "1    307061\n",
      "0     57110\n",
      "Name: Score, dtype: int64\n"
     ]
    }
   ],
   "source": [
    "print(final_data['Score'].value_counts())"
   ]
  },
  {
   "cell_type": "markdown",
   "metadata": {},
   "source": [
    "# 4. Sample the data from the Dataset\n",
    "\n",
    "Due to long computation time and less computation power of my laptop, I am taking 80k points instead of 100k points.\n"
   ]
  },
  {
   "cell_type": "code",
   "execution_count": 35,
   "metadata": {},
   "outputs": [
    {
     "data": {
      "text/plain": [
       "(80000, 12)"
      ]
     },
     "execution_count": 35,
     "metadata": {},
     "output_type": "execute_result"
    }
   ],
   "source": [
    "# Taking equal sample of negative and positive reviews each 40000, total 80,000 datapoints\n",
    "positive_pts = final_data[final_data['Score'] == 1].sample(n=40000)\n",
    "negative_pts = final_data[final_data['Score'] == 0].sample(n=40000)\n",
    "\n",
    "# Concatenating both positive and negative points\n",
    "total_score = pd.concat([positive_pts, negative_pts])\n",
    "total_score.shape\n"
   ]
  },
  {
   "cell_type": "markdown",
   "metadata": {},
   "source": [
    "## [4.1] Time Based Splitting\n",
    "\n",
    "Generally we do random splitting of entire dataset into train, test, cross validate data. With this method we may not get correct accuracy everytime. With time products change and reviews for the product also change, hence with random splitting we may not get best value/accuracy.\n",
    "\n",
    "But for Amazon Food Reviews Dataset Time based splitting is better than Random splittng. We can perform Time based splitting only when we have time feature in our dataset. Cross Validate data is used to find best hyper parameter and Test data is used to find accuracy and we train a model on all these.\n",
    "\n",
    "So Time based splitting gives more accuracy than random splitting, even on the future data when data changes with time. It's preferable to do Time based splitting when time is available.\n",
    "\n",
    "1. For each review in the dataset there is a timestamp. In Time based splitting, we first sort all the data in the dataset in increasing order(ascending) of time.\n",
    "2. Now split 70% of data into Train data and remaining 30% of data into test data.\n",
    "\n"
   ]
  },
  {
   "cell_type": "code",
   "execution_count": 36,
   "metadata": {},
   "outputs": [],
   "source": [
    "# sorting data using time\n",
    "total_score['Time'] = pd.to_datetime(total_score['Time'])\n",
    "total_score = total_score.sort_values(by = 'Time', ascending = True)\n"
   ]
  },
  {
   "cell_type": "code",
   "execution_count": 37,
   "metadata": {},
   "outputs": [
    {
     "data": {
      "text/html": [
       "<div>\n",
       "<style scoped>\n",
       "    .dataframe tbody tr th:only-of-type {\n",
       "        vertical-align: middle;\n",
       "    }\n",
       "\n",
       "    .dataframe tbody tr th {\n",
       "        vertical-align: top;\n",
       "    }\n",
       "\n",
       "    .dataframe thead th {\n",
       "        text-align: right;\n",
       "    }\n",
       "</style>\n",
       "<table border=\"1\" class=\"dataframe\">\n",
       "  <thead>\n",
       "    <tr style=\"text-align: right;\">\n",
       "      <th></th>\n",
       "      <th>Id</th>\n",
       "      <th>ProductId</th>\n",
       "      <th>UserId</th>\n",
       "      <th>ProfileName</th>\n",
       "      <th>HelpfulnessNumerator</th>\n",
       "      <th>HelpfulnessDenominator</th>\n",
       "      <th>Score</th>\n",
       "      <th>Time</th>\n",
       "      <th>Summary</th>\n",
       "      <th>Text</th>\n",
       "      <th>CleanedText</th>\n",
       "      <th>CleanedSummary</th>\n",
       "    </tr>\n",
       "  </thead>\n",
       "  <tbody>\n",
       "    <tr>\n",
       "      <th>138706</th>\n",
       "      <td>150524</td>\n",
       "      <td>0006641040</td>\n",
       "      <td>ACITT7DI6IDDL</td>\n",
       "      <td>shari zychinski</td>\n",
       "      <td>0</td>\n",
       "      <td>0</td>\n",
       "      <td>1</td>\n",
       "      <td>1970-01-01 00:00:00.939340800</td>\n",
       "      <td>EVERY book is educational</td>\n",
       "      <td>this witty little book makes my son laugh at l...</td>\n",
       "      <td>witty little book makes son laugh loud recite ...</td>\n",
       "      <td>every book educational</td>\n",
       "    </tr>\n",
       "    <tr>\n",
       "      <th>346041</th>\n",
       "      <td>374343</td>\n",
       "      <td>B00004CI84</td>\n",
       "      <td>A1B2IZU1JLZA6</td>\n",
       "      <td>Wes</td>\n",
       "      <td>19</td>\n",
       "      <td>23</td>\n",
       "      <td>0</td>\n",
       "      <td>1970-01-01 00:00:00.948240000</td>\n",
       "      <td>WARNING: CLAMSHELL EDITION IS EDITED TV VERSION</td>\n",
       "      <td>I, myself always enjoyed this movie, it's very...</td>\n",
       "      <td>always enjoyed movie funny entertaining not he...</td>\n",
       "      <td>warning clamshell edition edited tv version</td>\n",
       "    </tr>\n",
       "    <tr>\n",
       "      <th>346141</th>\n",
       "      <td>374450</td>\n",
       "      <td>B00004CI84</td>\n",
       "      <td>ACJR7EQF9S6FP</td>\n",
       "      <td>Jeremy Robertson</td>\n",
       "      <td>2</td>\n",
       "      <td>3</td>\n",
       "      <td>1</td>\n",
       "      <td>1970-01-01 00:00:00.951523200</td>\n",
       "      <td>Bettlejuice...Bettlejuice...BETTLEJUICE!</td>\n",
       "      <td>What happens when you say his name three times...</td>\n",
       "      <td>happens say name three times michael keaten st...</td>\n",
       "      <td>bettlejuicebettlejuicebettlejuice</td>\n",
       "    </tr>\n",
       "    <tr>\n",
       "      <th>1145</th>\n",
       "      <td>1244</td>\n",
       "      <td>B00002Z754</td>\n",
       "      <td>A3B8RCEI0FXFI6</td>\n",
       "      <td>B G Chase</td>\n",
       "      <td>10</td>\n",
       "      <td>10</td>\n",
       "      <td>1</td>\n",
       "      <td>1970-01-01 00:00:00.962236800</td>\n",
       "      <td>WOW Make your own 'slickers' !</td>\n",
       "      <td>I just received my shipment and could hardly w...</td>\n",
       "      <td>received shipment could hardly wait try produc...</td>\n",
       "      <td>wow make islickers</td>\n",
       "    </tr>\n",
       "    <tr>\n",
       "      <th>346102</th>\n",
       "      <td>374408</td>\n",
       "      <td>B00004CI84</td>\n",
       "      <td>A1GB1Q193DNFGR</td>\n",
       "      <td>Bruce Lee Pullen</td>\n",
       "      <td>5</td>\n",
       "      <td>5</td>\n",
       "      <td>1</td>\n",
       "      <td>1970-01-01 00:00:00.970531200</td>\n",
       "      <td>Fabulous Comedic Fanasy Directed by a Master</td>\n",
       "      <td>Beetlejuice is an awe-inspiring wonderfully am...</td>\n",
       "      <td>beetlejuice aweinspiring wonderfully amusing c...</td>\n",
       "      <td>fabulous comedic fanasy directed master</td>\n",
       "    </tr>\n",
       "  </tbody>\n",
       "</table>\n",
       "</div>"
      ],
      "text/plain": [
       "            Id   ProductId          UserId       ProfileName  \\\n",
       "138706  150524  0006641040   ACITT7DI6IDDL   shari zychinski   \n",
       "346041  374343  B00004CI84   A1B2IZU1JLZA6               Wes   \n",
       "346141  374450  B00004CI84   ACJR7EQF9S6FP  Jeremy Robertson   \n",
       "1145      1244  B00002Z754  A3B8RCEI0FXFI6         B G Chase   \n",
       "346102  374408  B00004CI84  A1GB1Q193DNFGR  Bruce Lee Pullen   \n",
       "\n",
       "        HelpfulnessNumerator  HelpfulnessDenominator  Score  \\\n",
       "138706                     0                       0      1   \n",
       "346041                    19                      23      0   \n",
       "346141                     2                       3      1   \n",
       "1145                      10                      10      1   \n",
       "346102                     5                       5      1   \n",
       "\n",
       "                                Time  \\\n",
       "138706 1970-01-01 00:00:00.939340800   \n",
       "346041 1970-01-01 00:00:00.948240000   \n",
       "346141 1970-01-01 00:00:00.951523200   \n",
       "1145   1970-01-01 00:00:00.962236800   \n",
       "346102 1970-01-01 00:00:00.970531200   \n",
       "\n",
       "                                                Summary  \\\n",
       "138706                        EVERY book is educational   \n",
       "346041  WARNING: CLAMSHELL EDITION IS EDITED TV VERSION   \n",
       "346141         Bettlejuice...Bettlejuice...BETTLEJUICE!   \n",
       "1145                     WOW Make your own 'slickers' !   \n",
       "346102     Fabulous Comedic Fanasy Directed by a Master   \n",
       "\n",
       "                                                     Text  \\\n",
       "138706  this witty little book makes my son laugh at l...   \n",
       "346041  I, myself always enjoyed this movie, it's very...   \n",
       "346141  What happens when you say his name three times...   \n",
       "1145    I just received my shipment and could hardly w...   \n",
       "346102  Beetlejuice is an awe-inspiring wonderfully am...   \n",
       "\n",
       "                                              CleanedText  \\\n",
       "138706  witty little book makes son laugh loud recite ...   \n",
       "346041  always enjoyed movie funny entertaining not he...   \n",
       "346141  happens say name three times michael keaten st...   \n",
       "1145    received shipment could hardly wait try produc...   \n",
       "346102  beetlejuice aweinspiring wonderfully amusing c...   \n",
       "\n",
       "                                     CleanedSummary  \n",
       "138706                       every book educational  \n",
       "346041  warning clamshell edition edited tv version  \n",
       "346141            bettlejuicebettlejuicebettlejuice  \n",
       "1145                             wow make islickers  \n",
       "346102      fabulous comedic fanasy directed master  "
      ]
     },
     "execution_count": 37,
     "metadata": {},
     "output_type": "execute_result"
    }
   ],
   "source": [
    "# display top 5 rows\n",
    "total_score.head(5)"
   ]
  },
  {
   "cell_type": "markdown",
   "metadata": {},
   "source": [
    "### [4.2] Splitting data into Train and Test data"
   ]
  },
  {
   "cell_type": "code",
   "execution_count": 38,
   "metadata": {},
   "outputs": [
    {
     "name": "stdout",
     "output_type": "stream",
     "text": [
      "X_train, Y_train (56000,) (56000,)\n",
      "X_test, Y_test (24000,) (24000,)\n"
     ]
    }
   ],
   "source": [
    "# splitting the data into train, test data\n",
    "from sklearn.cross_validation import train_test_split\n",
    "X = total_score['CleanedText']\n",
    "Y = total_score['Score']\n",
    "# X = total data, Y = class labels, X_test and Y_test are test data set of 30%\n",
    "# Total score is splitted into Train and test data with 70-30 ratio\n",
    "\n",
    "X_train, X_test, Y_train, Y_test = train_test_split(X, Y, test_size = 0.3, random_state = 0)\n",
    "\n",
    "print('X_train, Y_train', X_train.shape, Y_train.shape)\n",
    "print('X_test, Y_test', X_test.shape, Y_test.shape)\n"
   ]
  },
  {
   "cell_type": "markdown",
   "metadata": {},
   "source": [
    "# Support Vector Machines (SVM)\n",
    "\n",
    "1. SVM is a popular Machine Learning technique for both Classification and Regression techniques.\n",
    "2. The key idea of SVM is, to find a hyperplane that seperates positive points from negative points as widely as possible. Such a hyperplane is called margin maximizing hyperplane. The wider the distance of positive and negative points from the hyperplane, the better it is.\n",
    "3. So SVM's try to find a hyperplane that maximizes the margin, where margin is the distance between the positive hyperplane and negative hyperplane. Positive hyperplane is a plane that is parallel to seperating hyperplane and it touches the first positive data point. Negative hyperplane is a plane that touches the first negative data point and is parallel to seperating hyperplane that divides both positive and negative data points.\n",
    "4. If the distance of margin between poth positive and negative points is high, then the chance of misclassification of points will decrease. So as margin distance increase, the generalization accuracy (which is the accuracy on unseen data points in future) will increase.\n",
    "5. So SVM's will always try to maximize the margin.\n",
    "\n",
    "##### Support Vector:-\n",
    "\n",
    "1. Points through which positive and negative hyperplanes pass through or points which are on positive and negative hyperplanes, are called support vectors.\n",
    "2. For any given new data points to determine whether it is positive or negative, we use actual seperating hyperplane/margin maximizing hyperplane. We use postive and negative hyperplanes to maximize the margin distance between positive and negative points.\n",
    "\n",
    "##### Alternative interpretation of SVM :-\n",
    "\n",
    "1. Construct a convex-hull for positive points and negative points seperately.\n",
    "2. Find the shortest line connecting these convex-hulls.\n",
    "3. Bisect/Break the line into 2 equal parts with equal length, then the plane that bisects this line is called margin maximizing hyperplane.\n",
    "\n",
    "##### Hard-Margin SVM:-\n",
    "\n",
    "We have to find W and b that maximizes the margin length, such that for each data point 'i', Yi(W^T Xi+b)>=1. This is the constraint optimization problem of SVM. This works when the data is linearly seperable. Here the constraints are, all the positive points should be on one side and negative points on one side and there should not be any points in the margin area between positive and negative points. This is Hard-margin SVM.\n",
    "\n",
    "1. We can't apply above constraint optimization problem for not-linearly seperable data/almost linearly seperable. We can't find W and b that satisfies the above constraint. It will never satisfy the above constraints.\n",
    "2. In such cases we create new variable called zeta. For all the misclassified points zeta_i is >=0 and the points are some units of distance away from the correct hyperplane.\n",
    "3. As the zeta_i increases, we can know that point is farther away from the correct hyperplane in the incorrect direction . Zeta_i for correctly classified points (Yi(W^T Xi+b)>=1) is equal to 0.\n",
    "4. So for all the points zeta_i is positive or equal to 0.\n",
    "5. We introduce a hyperparameter 'C', where as C increases, the tendency to make mistakes reduces on training data which means we are overfitting the training data/high-variance model. As the C decreases, we have a tendency to underfit/high-bias model. Hyperparameter C in SVM behaves exactly opposite to lambda in Logistic regression\n",
    "6. Soft-margin SVM allows errors but errors should be minimized.\n",
    "\n",
    "##### Hinge-loss:-\n",
    "\n",
    "1. Hinge-loss + regularization we get SVM. For Zi>=1, hinge-loss = 0. For Zi<1, hinge-loss = 1-Zi.\n",
    "2. Zeta_i and Hinge loss are = 0 for correctly classified points. Zeta_i > 0 for incorrectly classified points.\n",
    "\n",
    "Soft-margin SVM is called Primal of SVM. Support vectors are the only ones that matters for classification. Non support vectors doesn't change the function much.\n",
    "\n",
    "SVM is always done in Dual form because implementing similarity matrix is easy in Dual form - K(Xi, Xj). We can't easily implement it in Primal form SVM beacuse we need Xi's and Xj's explicitly. SVM became popular for this reason.\n",
    "\n",
    "##### Kernel trick:-\n",
    "\n",
    "1. In K(Xi, Xj), K is the kernel function, which tells the similarity between Xi and Xj. Xi^T.Xj can be replaced by any similarity function and one class of similarity function are kernels and so it is replaced by kernel function K(Xi,Xj). This is called Kernel trick\n",
    "2. The most important idea in SVM is Kernel trick/Kernelization.\n",
    "3. If we don't do Kernel trick in SVM then it is called Linear SVM. If we do the kernel trick where (Xi^T.Xj) is replaced with K(Xi,Xj) then it is called Kernel SVM.\n",
    "4. In Linear SVM we are trying to find Margin maximizing hyperplane in Xi's. But it may fial in cases where we can't seperate the data points with a hyperplane. Logistic-regression with feature transforms can work in this case. But kernel SVM will succeed in this case with a right kernel.\n",
    "5. Kernel SVM transforms features from and Xi to Xi' and in this space it finds a hyperplane. In Kernel SVM, using kernel trick we can solve non-linearly seperable data also.\n",
    "6. So kernelization allows SVM to handle non-linearly seperable data also.\n",
    "\n",
    "##### Polynomial kernel:-\n",
    "\n",
    "1. Given 2 datapoints/vectors X1 and X2- K(X1,X2), the polynomial kernel is (X1^T X2+C)^d where C and d are constants. Quadratic kernel is (1+X1^T X2)^2. Kernelization is same as feature transform.\n",
    "2. Kernelization takes data which is d-dim and non linearly seperable and does feature transform internally/implicitly of data to a different higher dimension/space d' where d'>d, and here in this new dimension data is in the square forms and can be seperated by hyperplanes/linearly seperable.\n",
    "3. A theorem called Mercer's theorem says kernel trick internal implementation\n",
    "4. So the feature transformation which is done explicitly in Logistic regression is replaced by kernelization/kernel trick in SVM, the important thing we have to do is, to find the right kernel to do kernel trick in SVM.\n",
    "\n",
    "##### RBF-Kernel:-\n",
    "\n",
    "1. Radial Basis Function (RBF) is the most-popular and general-purpose kernel in SVM because of its similarity to KNN.\n",
    "2. In RBF kernel, the distance between the points X1 and X2 is take as square (d^2). As the distance increases, the kernel value between X1 and X2 or between any points, decreases exponentially. If the distance between the points is less then the kernel value is high for these.\n",
    "3. So as the points gets farther away or the distance between the points increases, then the kernel value/similarity value will be equal to 0. If we say K(Xi,Xj)=0 then the distance between the points is large and so the kernel/similarity value is 0.\n",
    "4. The relation between KNN and RBF-kernel is , as sigma increases in RBF kernel is equal to increasing K in KNN. So because of sigme in it, RBF kernel in SVM is similar to KNN. And polynomial kernel/kernel trick is equal to feature transformations.\n",
    "5. KNN has more run time complexity (O(nd)) as we have to store all the points in Brute force. But in SVM we just need Support vectors and its alpha's. Generally number of support vectors is much less than number of points. So RBF-SVM is a nice approximation for K-NN.\n",
    "6. If we don't know anything about the data or if we don't know the best kernel to use in SVM, we can simply use RBF-SVM. In RBF we have 2 hyperparameters, C from soft-margin SVM and sigma from RBF and we have to do grid search/random search on both C and sigma to find optimal C and sigma.\n",
    "\n",
    "##### Domain specific kernels:-\n",
    "\n",
    "1. There are many domain specific kernels like, String kernels, genome kernels, Graph kernels.\n",
    "2. For example, for Amazon text classification we can use Stirng kernels, because it is designed for specific task of text classification.\n",
    "3. Its better to use domain specific kernel for any real world problem than using RBF. If the problem don't have any domain specific kernels then we can always use RBF.\n",
    "\n",
    "##### Train and Run time complexity of SVM:-\n",
    "\n",
    "1. We can train an SVM using SGD. And there are also specialized algorithms to solve dual SVM problem. Such algorithm is called Sequential minimal optimization (SMO).\n",
    "2. libSVM is one of the best open source libraries for training SVM, it is better than sklearn. libSVM uses SMO internally.\n",
    "3. Training time complexity for kernel-SVM is about O(n^2) which is very high when 'n' is large. So typically many don't use SVM when 'n'(dataset) is large (like in internel applications).\n",
    "4. The run-time complexity for finding Yq-class label when given an Xq-query point, depends on number of support vectors(sv). Suppose if sv = k then run-time = O(kd),d-dimensionality of data.\n",
    "5. If the number of support vectors is small then the run-time complexity will be small. SV's can be between 1 to n.\n",
    "6. So Logistic regression typically has less run-time complexity of O(d) then SVM where it depends on the number ofsupport vectors.\n",
    "\n",
    "##### nu-SVM:-\n",
    "\n",
    "1. The original form of SVM with C as hyperparameter is called C-SVM where C>=0.\n",
    "2. Alternative formulation of SVM is nu-SVM, where hyperparameter is 'nu' instead of C. nu lies between 0 and 1 (0<=nu<=1) and nu >= fraction of errors and nu <= fraction of support vectors.\n",
    "3. While training an SVM using D_train data and if we want less than 10% errors, then we can set nu=0.1. nu in nu-SVM is the maximum fraction of errors that will happen.\n",
    "4. nu cannot control the number of support vectors. SV's >= 1% of n. Through nu-SVM we can understand the number of support vectors we will get and the number of misclassified points in training data.\n",
    "\n",
    "##### SVM Regression:-\n",
    "\n",
    "1. when SVM is used for classification, it is often called as Support Vector classification. When it is used for regression it is called Support vector regression.\n",
    "2. In case of Support vector regression(SVR) the hyperparameter is epsilon.\n",
    "3. The kernel-SVR can fit any non-linear shape and epsilon is hyperparameter in this case, while a linear-SVR can only fit planes or lines.\n",
    "4. When epsilon is small it could overfit the training data and when epsilon is large, it could underfit to the training data.\n",
    "5. Epsilon tells how much is the difference between Yi_hat(Yi^) be different from Yi/ gap between Yi and Yi_hat.\n",
    "6. Overfitting - when there is any outlier point, the curve changes it shape to accomodate even that one point. The curve tries to accomodate each and every point. In this case one outlier can change the shape of the curve.\n",
    "7. Underfitting - In this case the curve don't even consider some points. It just fits the line as straight line by taking some points based on some parameters.\n",
    "\n",
    "##### Cases in SVM:-\n",
    "\n",
    "1. In SVM, the feature engineering/feature transform is replaced by kernel design where we need to design a good kernel that works very well. So finding the right kernel is the important for SVM to work well, otherwise we can use RBF-kernel.\n",
    "2. Decision surface - for linear-SVM the decision surface is hyperplane. For kernel-SVM it is non-linear surface. But in this case of non-linear decision surface, using kernel trick we take points in d-dimension to other dimension d' where d'>d. In d' dimension space decision surface is linear surface.\n",
    "3. SVM's work very well with similarity function where it can be converted to kernel.\n",
    "4. In SVM we can't get feature importance directly, we have to use forward feature selection. This is for kernel SVM. For linear SVM we can get it.\n",
    "5. Outliers have very less impact on model, because only support vectors matters in SVM. But RBF with small sigma may impact with outliers which is a boundary case.\n",
    "6. SVM work very well with higher dimensionality with good kernels which is the best case for SVM or else we can use RBF.\n",
    "7. Worst case of SVM is when the training dataset 'n' is large, where training time is high which is not useful in internet based applications where low latency is the main factor.\n",
    "8. When 'k' the number of support vectors is large this is also the worst case of SVM because low latency is not possible.\n",
    "9. In these worst cases we can use logistic regression with feature transforms.\n",
    "\n"
   ]
  },
  {
   "cell_type": "markdown",
   "metadata": {},
   "source": [
    "## NOTE:- \n",
    "\n",
    "### In this assignment I am performing only Linear SVM using SGDClassifier with hinge loss, as both Linear and RBF kernel are taking long time to execute in single notebook.  \n",
    "\n",
    "### I am doing RBF kernel in another notebook. "
   ]
  },
  {
   "cell_type": "markdown",
   "metadata": {},
   "source": [
    "# [5] Featurizations"
   ]
  },
  {
   "cell_type": "markdown",
   "metadata": {},
   "source": [
    "## [5.1] BAG OF WORDS (BoW)\n",
    "\n",
    "\n",
    "1. It is one of the simple technique to convert text to vector.\n",
    "2. Constructs a dictionary with set of all the unique words in the reviews.\n",
    "3. Next construct a vector of size 'd' for d-unique words. Each index corresponds to one word in the dictionary.\n",
    "4. Each word is different dimension in d-dim vector and each cell in vector corresponds to number of times the corresponding word occurs in review.\n",
    "5. There are different BoW. One is Binary BoW - it says that, instead of specifying the count of number of occurances, it will specify whether the word occurs or not. This is also called boolean BoW.\n",
    "6. BoW can be said as number of differing words. BoW is applied after all the preprocessing and data cleaning steps. It just says whether a word is present or not in the text. We get set of words\n"
   ]
  },
  {
   "cell_type": "code",
   "execution_count": 39,
   "metadata": {},
   "outputs": [
    {
     "name": "stdout",
     "output_type": "stream",
     "text": [
      "the type of count vectorizer  <class 'scipy.sparse.csr.csr_matrix'>\n",
      "the type of count vectorizer  <class 'scipy.sparse.csr.csr_matrix'>\n",
      "(56000, 82212)\n",
      "(24000, 82212)\n",
      "the number of unique words are  82212\n",
      "the number of unique words are  82212\n"
     ]
    }
   ],
   "source": [
    "# BoW\n",
    "# Creating a variable count_vect of CountVectorizer type and inititalizing it.\n",
    "count_vect = CountVectorizer() #in scikit-learn\n",
    "\n",
    "# X_train and X_test data is converted vector and is stored in X_train_bow and X_test_bow\n",
    "X_train_bow = count_vect.fit_transform(X_train)\n",
    "X_test_bow = count_vect.transform(X_test)\n",
    "\n",
    "# sparse matrix - most of the values of any row in a matrix are zero.Such matrices are called sparse matrix and row in the matrix is sparse vector\n",
    "# The more sparse a matrix is, the more efficient is sparse matrix representation technique\n",
    "print(\"the type of count vectorizer \", type(X_train_bow))# gets the type of X_train_bow which is a matrix\n",
    "print(\"the type of count vectorizer \", type(X_test_bow))# gets the type of X_test_bow which is a matrix\n",
    "\n",
    "# gets the shape of the matrix\n",
    "print(X_train_bow.get_shape()) \n",
    "print(X_test_bow.get_shape()) \n",
    "\n",
    "print(\"the number of unique words are \", X_train_bow.get_shape()[1])\n",
    "print(\"the number of unique words are \", X_test_bow.get_shape()[1])\n"
   ]
  },
  {
   "cell_type": "markdown",
   "metadata": {},
   "source": [
    "### Standardizing the data"
   ]
  },
  {
   "cell_type": "code",
   "execution_count": 40,
   "metadata": {},
   "outputs": [
    {
     "name": "stdout",
     "output_type": "stream",
     "text": [
      "Final shape of matrix (56000, 82212)\n",
      "Final shape of matrix (24000, 82212)\n"
     ]
    }
   ],
   "source": [
    "from sklearn.preprocessing import StandardScaler\n",
    "# Standardize the data\n",
    "scalar = StandardScaler(with_mean=False)\n",
    "X_train_bow_std = scalar.fit_transform(X_train_bow)\n",
    "X_test_bow_std = scalar.transform(X_test_bow)\n",
    "\n",
    "print(\"Final shape of matrix\", X_train_bow_std.shape)\n",
    "print(\"Final shape of matrix\", X_test_bow_std.shape)"
   ]
  },
  {
   "cell_type": "markdown",
   "metadata": {},
   "source": [
    "# Linear Kernel for BoW\n",
    "\n",
    "1. In this,for Linear kernel we are applying SGD classifier with hinge loass, which finally gives Linear SVM. Here we are not using SVC classifier because it is much slower than SGD classifier.\n",
    "2. But SGD classifier can be only used for Linear kernel and cannot be used for RBF kernel. So for RBF kernel we have to use SVC classifier.\n",
    "\n"
   ]
  },
  {
   "cell_type": "markdown",
   "metadata": {},
   "source": [
    "### [5.2] Implementing Linear Kernel using SGDClassifier on BoW with L2 regularization"
   ]
  },
  {
   "cell_type": "code",
   "execution_count": 41,
   "metadata": {},
   "outputs": [
    {
     "name": "stdout",
     "output_type": "stream",
     "text": [
      "Model with best parameters is :\n",
      " SGDClassifier(alpha=1, average=False, class_weight='balanced', epsilon=0.1,\n",
      "       eta0=0.0, fit_intercept=True, l1_ratio=0.15,\n",
      "       learning_rate='optimal', loss='hinge', max_iter=1000, n_iter=None,\n",
      "       n_jobs=1, penalty='l2', power_t=0.5, random_state=None,\n",
      "       shuffle=True, tol=None, verbose=0, warm_start=False)\n",
      "The optimal value of alpha(1/C) is : 1\n"
     ]
    }
   ],
   "source": [
    "# Implementing SGD Classifier with Hinge loss to get Linear SVM.\n",
    "from sklearn.linear_model import SGDClassifier\n",
    "from sklearn.model_selection import GridSearchCV\n",
    "\n",
    "# GridsearchCV trains the model on these parmters to find the best one\n",
    "# List of parameters for hyperparameter tuning\n",
    "tuned_parameters = {'alpha': [0.00001, 0.0001, 0.001, 0.01, 0.1, 1, 10, 100, 1000, 10000]}\n",
    "\n",
    "#Using GridSearchCV. Default regularizer is L2. We can change it to L1 using penalty = 'L1'\n",
    "#Now using GridSearchCV, SGD classifier is trained on these list of hyperparameters/values of C.\n",
    "# Scoring is taken as f1_macro.\n",
    "model = GridSearchCV(SGDClassifier(loss = 'hinge', penalty = 'l2', max_iter = 1000, class_weight = 'balanced'), tuned_parameters, scoring = 'roc_auc', n_jobs = -1, cv=5)\n",
    "# model = linear_model.SGDClassifier(loss = 'hinge', penalty = 'l2', tuned_parameters, scoring = 'f1_macro', cv=5, max_iter = 1000)\n",
    "\n",
    "model.fit(X_train_bow_std, Y_train)\n",
    "\n",
    "print(\"Model with best parameters is :\\n\", model.best_estimator_)\n",
    "optimal_alpha =  model.best_estimator_.alpha\n",
    "print(\"The optimal value of alpha(1/C) is :\", optimal_alpha)"
   ]
  },
  {
   "cell_type": "code",
   "execution_count": 42,
   "metadata": {},
   "outputs": [
    {
     "name": "stdout",
     "output_type": "stream",
     "text": [
      "0.9333061784741287\n"
     ]
    }
   ],
   "source": [
    "# get the score on test data \n",
    "print(model.score(X_test_bow_std, Y_test))  \n"
   ]
  },
  {
   "cell_type": "markdown",
   "metadata": {},
   "source": [
    "### [5.3] Predicting Test score and Test error "
   ]
  },
  {
   "cell_type": "code",
   "execution_count": 43,
   "metadata": {},
   "outputs": [
    {
     "name": "stdout",
     "output_type": "stream",
     "text": [
      "\n",
      "The test AUC score of the BoW SGDclassifier for optimal alpha is 86.912284%\n"
     ]
    }
   ],
   "source": [
    "# Predicting model on test data to find AUC-score for L2 Regularization\n",
    "from sklearn.metrics import roc_auc_score\n",
    "\n",
    "sgd_optimal = SGDClassifier(alpha = optimal_alpha)\n",
    "\n",
    "# fitting the model\n",
    "sgd_optimal.fit(X_train_bow_std, Y_train)\n",
    "\n",
    "# predict the response\n",
    "pred_bow = sgd_optimal.predict(X_test_bow_std)\n",
    "\n",
    "# evaluate accuracy. Using f1_score as metric to measure accuracy, pos_label = 'positive',\n",
    "test_auc_bow = roc_auc_score(Y_test, pred_bow, average = 'weighted') * float(100)\n",
    "print('\\nThe test AUC score of the BoW SGDclassifier for optimal alpha is %f%%' % (test_auc_bow))\n",
    "\n"
   ]
  },
  {
   "cell_type": "code",
   "execution_count": 44,
   "metadata": {},
   "outputs": [
    {
     "name": "stdout",
     "output_type": "stream",
     "text": [
      "Test Error for SGDclassifier BoW is 0.131%\n"
     ]
    }
   ],
   "source": [
    "# Finding test error\n",
    "test_error_bow = (1 - roc_auc_score(Y_test, pred_bow, average = 'weighted')) \n",
    "print(\"Test Error for SGDclassifier BoW is %.3f%%\" % (test_error_bow))"
   ]
  },
  {
   "cell_type": "markdown",
   "metadata": {},
   "source": [
    "### [5.4] Plotting the performance of Train and CV scores for BoW with L2 regularization"
   ]
  },
  {
   "cell_type": "code",
   "execution_count": 45,
   "metadata": {},
   "outputs": [
    {
     "data": {
      "image/png": "[encoded data removed]",
      "text/plain": [
       "<Figure size 1008x360 with 1 Axes>"
      ]
     },
     "metadata": {},
     "output_type": "display_data"
    },
    {
     "name": "stdout",
     "output_type": "stream",
     "text": [
      "The CV auc score for each alpha value is :  [0.846 0.858 0.873 0.899 0.922 0.935 0.933 0.915 0.915 0.915]\n",
      "the Train auc score for each alpha value is :  [1.    1.    1.    0.999 0.998 0.995 0.986 0.978 0.978 0.978]\n"
     ]
    }
   ],
   "source": [
    "# Plotting the performance of CV and Train scores which we got through L2 regularization\n",
    "\n",
    "plt.figure(figsize=(14,5))\n",
    "plt.title(\"ERROR PLOT\")\n",
    "plt.xlabel('Hyperparamter : Alpha')\n",
    "plt.ylabel('AUC Scores')\n",
    "# mean_train_score is to get mean value of all the error scores we got during cross validation\n",
    "# cv_results_  = returns a dictionary of all the evaluation metrics from the gridsearch\n",
    "plt.plot(model.cv_results_['param_alpha'].data.astype(np.float64), model.cv_results_['mean_train_score'], \n",
    "         linestyle='--', marker='o', color='b', label='Train Score')\n",
    "plt.plot(model.cv_results_['param_alpha'].data.astype(np.float64), model.cv_results_['mean_test_score'], \n",
    "         linestyle='--', marker='*', color='r', label='CV Score')\n",
    "plt.legend()\n",
    "plt.show()\n",
    "\n",
    "print(\"The CV auc score for each alpha value is : \", np.round(model.cv_results_['mean_test_score'],3))\n",
    "\n",
    "print(\"the Train auc score for each alpha value is : \", np.round(model.cv_results_['mean_train_score'],3))\n"
   ]
  },
  {
   "cell_type": "markdown",
   "metadata": {},
   "source": [
    "### [5.5] Plotting ROC curve and finding AUC score for BoW with L2 regularization"
   ]
  },
  {
   "cell_type": "code",
   "execution_count": 46,
   "metadata": {},
   "outputs": [
    {
     "data": {
      "image/png": "[encoded data removed]",
      "text/plain": [
       "<Figure size 432x288 with 1 Axes>"
      ]
     },
     "metadata": {},
     "output_type": "display_data"
    }
   ],
   "source": [
    "from sklearn.metrics import roc_curve, auc\n",
    "from sklearn.calibration import CalibratedClassifierCV, calibration_curve\n",
    "\n",
    "model_svm = CalibratedClassifierCV(base_estimator = model, method='sigmoid')\n",
    "Y_prob = model_svm.fit(X_train_bow_std, Y_train)\n",
    "\n",
    "\n",
    "train_fpr, train_tpr, thresholds = roc_curve(Y_train, Y_prob.predict_proba(X_train_bow_std)[:,1])\n",
    "test_fpr, test_tpr, thresholds = roc_curve(Y_test, Y_prob.predict_proba(X_test_bow_std)[:,1])\n",
    "\n",
    "roc_auc_train = auc(train_fpr, train_tpr)\n",
    "roc_auc_test = auc(test_fpr, test_tpr)\n",
    "\n",
    "# Plot FPR (on x-axis) v/s TPR (on y-axis)\n",
    "plt.title('ROC Curve for BoW')\n",
    "plt.plot(train_fpr, train_tpr, 'b', label='Train AUC = %0.2f'% roc_auc_train)\n",
    "plt.plot(test_fpr, test_tpr, 'r', label='Test AUC = %0.2f'% roc_auc_test)\n",
    "plt.legend(loc='lower right')\n",
    "plt.plot([0,1],[0,1],'k--')\n",
    "plt.xlim([-0.1,1.2])\n",
    "plt.ylim([-0.1,1.2])\n",
    "plt.ylabel('True Positive Rate')\n",
    "plt.xlabel('False Positive Rate')\n",
    "plt.show()"
   ]
  },
  {
   "cell_type": "markdown",
   "metadata": {},
   "source": [
    "#### Observation:-  \n",
    "\n",
    "From the ROC plot, we got the Train AUC of 0.98 and Test AUC of 0.93 , which shows that the classifier is working well and predicts correctly."
   ]
  },
  {
   "cell_type": "markdown",
   "metadata": {},
   "source": [
    "### [5.6] Confusion matrix for BoW (L2 reg)"
   ]
  },
  {
   "cell_type": "markdown",
   "metadata": {},
   "source": [
    "### Train data confusion Matrix"
   ]
  },
  {
   "cell_type": "code",
   "execution_count": 47,
   "metadata": {},
   "outputs": [
    {
     "name": "stdout",
     "output_type": "stream",
     "text": [
      "Train confusion matrix\n",
      "[[26866  1204]\n",
      " [  928 27002]]\n"
     ]
    }
   ],
   "source": [
    "# Confusion matrix for Train data\n",
    "from sklearn.metrics import confusion_matrix\n",
    "print(\"Train confusion matrix\")\n",
    "pred_bow_train = sgd_optimal.predict(X_train_bow_std)\n",
    "cm = confusion_matrix(Y_train, pred_bow_train)\n",
    "print(cm)"
   ]
  },
  {
   "cell_type": "code",
   "execution_count": 48,
   "metadata": {},
   "outputs": [
    {
     "data": {
      "image/png": "[encoded data removed]",
      "text/plain": [
       "<Figure size 432x288 with 2 Axes>"
      ]
     },
     "metadata": {},
     "output_type": "display_data"
    }
   ],
   "source": [
    "# plot confusion matrix for BoW Train data\n",
    "class_label = [\"negative\", \"positive\"] # create a class label for columns and rows\n",
    "cm = confusion_matrix(Y_train, pred_bow_train) \n",
    "dataframe_cm = pd.DataFrame(cm, index = class_label, columns = class_label) # create a dataframe to plot confusion matrix\n",
    "# A heatmap is a two-dimensional graphical representation of data in seaborn,\n",
    "# where the individual values in a matrix are represented with colors.\n",
    "sns.heatmap(dataframe_cm, annot = True, fmt = \"d\") # annot=true means, write the data value in each cell\n",
    "plt.title(\"Train Confusion Matrix for BoW\")\n",
    "plt.xlabel(\"Predicted Label\")\n",
    "plt.ylabel(\"True Label\")\n",
    "plt.show()"
   ]
  },
  {
   "cell_type": "markdown",
   "metadata": {},
   "source": [
    "#### Observations:-\n",
    "\n",
    "A Confusion matrix is a table that is often used to describe the performance of the classification model on a set of test data. It is also one of the metric to measure accuracy of the model.\n",
    "\n",
    "A confusion matrix is a summary of prediction results on a classification problem. The number of correct and incorrect predictions are summarized with count values and broken down by each class. The confusion matrix shows how the classification model is confused when it makes predictions.\n",
    "\n",
    "The above confusion matrix is didvided into 2 classes positive and negative with True values and predicted values.\n",
    "\n",
    "TN - 26866      FP - 1204\n",
    "\n",
    "FN - 928 ,      TP - 27002\n",
    "\n",
    "where\n",
    "\n",
    "TN - True negative, True value is negative, and is predicted value is negative. \n",
    "\n",
    "FP - False positive, True value is negative, but is predicted as positive. \n",
    "\n",
    "FN - False negative, True value is positive, but is predicted as negative \n",
    "\n",
    "TP - True positive, True value is positive, and is predicted value is positive.\n",
    "\n",
    "1. There are total of 56000 training points being tested against the model. Out of all values, the classifier/model predicted points as positive 28,206 times and negative 27,794 times.\n",
    "2. But in true values, the positive points are 27,930 and negative points are 28,070.\n",
    "3. The diagonal values (26866 negative points, 27002 positive points) in the confusion matrix are correctly predicted values by the classifier.\n"
   ]
  },
  {
   "cell_type": "markdown",
   "metadata": {},
   "source": [
    "### Test data confusion matrix"
   ]
  },
  {
   "cell_type": "code",
   "execution_count": 49,
   "metadata": {},
   "outputs": [
    {
     "name": "stdout",
     "output_type": "stream",
     "text": [
      "Test confusion matrix\n",
      "[[10279  1651]\n",
      " [ 1489 10581]]\n"
     ]
    }
   ],
   "source": [
    "# Confusion Matrix for Test data\n",
    "# Using confusion matrix as a another metric to measure accuracy\n",
    "from sklearn.metrics import confusion_matrix\n",
    "print(\"Test confusion matrix\")\n",
    "pred_bow_test = sgd_optimal.predict(X_test_bow_std)\n",
    "cm = confusion_matrix(Y_test, pred_bow_test) # finding confusion matrix between true data and predicted data\n",
    "print(cm)"
   ]
  },
  {
   "cell_type": "code",
   "execution_count": 50,
   "metadata": {},
   "outputs": [
    {
     "data": {
      "image/png": "[encoded data removed]",
      "text/plain": [
       "<Figure size 432x288 with 2 Axes>"
      ]
     },
     "metadata": {},
     "output_type": "display_data"
    }
   ],
   "source": [
    "# plot confusion matrix for BoW Test data\n",
    "class_label = [\"negative\", \"positive\"] # create a class label for columns and rows\n",
    "cm = confusion_matrix(Y_test, pred_bow_test) \n",
    "dataframe_cm = pd.DataFrame(cm, index = class_label, columns = class_label) # create a dataframe to plot confusion matrix\n",
    "# A heatmap is a two-dimensional graphical representation of data in seaborn,\n",
    "# where the individual values in a matrix are represented with colors.\n",
    "sns.heatmap(dataframe_cm, annot = True, fmt = \"d\") # annot=true means, write the data value in each cell\n",
    "plt.title(\"Test Confusion Matrix for BoW\")\n",
    "plt.xlabel(\"Predicted Label\")\n",
    "plt.ylabel(\"True Label\")\n",
    "plt.show()"
   ]
  },
  {
   "cell_type": "markdown",
   "metadata": {},
   "source": [
    "#### Observation :-\n",
    "\n",
    "The above confusion matrix is didvided into 2 classes positive and negative with True values and predicted values.\n",
    "\n",
    "TN - 10279  FP - 1651\n",
    "\n",
    "FN - 1489 , TP - 10581\n",
    "\n",
    "where\n",
    "\n",
    "TN - True negative, True value is negative, and is predicted value is negative.\n",
    "\n",
    "FP - False positive, True value is negative, but is predicted as positive.\n",
    "\n",
    "FN - False negative, True value is positive, but is predicted as negative\n",
    "\n",
    "TP - True positive, True value is positive, and is predicted value is positive.\n",
    "\n",
    "1. There are total of 24000 training points being tested against the model. Out of all values, the classifier/model predicted points as positive 12,232 times and negative 11,768 times.\n",
    "2. But in true values, the positive points are 12,070 and negative points are 11,930.\n",
    "3. The diagonal values (10279 negative points, 10581 positive points) in the confusion matrix are correctly predicted values by the classifier.\n"
   ]
  },
  {
   "cell_type": "markdown",
   "metadata": {},
   "source": [
    "#### Finding TPR, FPR, TNR, FNR values\n",
    "\n",
    "1. TPR tells, when it's actually yes and how often does classifier predict yes\n",
    "\n",
    "   TPR = TP/(TP+FN) . TPR also known as Recall\n",
    "   \n",
    "\n",
    "2. FPR tells, when it's actually no, how often does classifier predict yes\n",
    "\n",
    "   FPR = FP/(FP+TN)\n",
    "   \n",
    "\n",
    "3. TNR tells, when it's actually no, how often does classifier predict no\n",
    "\n",
    "   TNR = TN/(TN+FP)\n",
    "   \n",
    "\n",
    "4. FNR tells, When it's actually yes, how often does it predict no\n",
    "\n",
    "   FNR = FN/(FN+TP)\n",
    "\n"
   ]
  },
  {
   "cell_type": "markdown",
   "metadata": {},
   "source": [
    "### [5.7] Classification report for BoW:-\n",
    "\n",
    "1. Classification Rate/Accuracy:\n",
    "\n",
    "   Accuracy = (TP + TN) / (TP + TN + FP + FN)\n",
    "\n",
    "\n",
    "2. Recall:- It tells, when the points are positive and how often they are predicted positive.\n",
    "\n",
    "   Recall = TP / (TP + FN)\n",
    "\n",
    "\n",
    "3. Precision:- It tells, when the model predicted positive and how often is it correct.\n",
    "\n",
    "   Precision = TP / (TP + FP)\n",
    "\n",
    "\n",
    "4. f1-score = (2 Recall Precision) / (Recall + Presision)\n",
    "\n",
    "\n",
    "5. Support is the total number of points in each class (positive and negative)\n",
    "\n"
   ]
  },
  {
   "cell_type": "code",
   "execution_count": 51,
   "metadata": {},
   "outputs": [
    {
     "name": "stdout",
     "output_type": "stream",
     "text": [
      "Accuracy Score: 0.8691666666666666\n",
      "Report:\n",
      "             precision    recall  f1-score   support\n",
      "\n",
      "          0       0.87      0.86      0.87     11930\n",
      "          1       0.87      0.88      0.87     12070\n",
      "\n",
      "avg / total       0.87      0.87      0.87     24000\n",
      "\n"
     ]
    }
   ],
   "source": [
    "# calculate the classification report for BoW\n",
    "from sklearn.metrics import classification_report \n",
    "from sklearn.metrics import accuracy_score\n",
    "\n",
    "print('Accuracy Score:', accuracy_score(Y_test, pred_bow)) \n",
    "print('Report:')\n",
    "print(classification_report(Y_test, pred_bow)) \n"
   ]
  },
  {
   "cell_type": "markdown",
   "metadata": {},
   "source": [
    "### [5.8] Feature Importance for BoW\n",
    "\n",
    "To find feature Importance, first sort all the words based on its absolute value of feature weight score, where top words have more weight. So for positive class or negative class, we have to find words with highest absolute weight value, as they are most informative/important features or words for determining whether the text/sentence belongs to positive class or negative class.\n",
    "\n",
    "If the weight value of a word is positive and large then probability that the word/feature belongs to positive class increases. If the weight value of a word is negative and large then probability that the word/feature belongs to negative class increases.\n",
    "\n",
    "So we can say that, in SVM we can find feature importance based on absolute value of feature weights.\n"
   ]
  },
  {
   "cell_type": "code",
   "execution_count": 52,
   "metadata": {},
   "outputs": [
    {
     "name": "stdout",
     "output_type": "stream",
     "text": [
      "Smallest Coefs: \n",
      "['disappointing' 'worst' 'terrible' 'hopes' 'yuck' 'awful'\n",
      " 'disappointment' 'ruined' 'horrible' 'cancelled']\n",
      "\n",
      "Largest Coefs: \n",
      "['pleasantly' 'worried' 'delicious' 'worry' 'skeptical' 'perfect'\n",
      " 'awesome' 'downside' 'yummy' 'thank']\n",
      "\n"
     ]
    }
   ],
   "source": [
    "# Just printing feature names\n",
    "feature_names = np.array(count_vect.get_feature_names())\n",
    "\n",
    "model = SGDClassifier()\n",
    "model.fit(X_train_bow, Y_train)\n",
    "\n",
    "sorted_coef_index = model.coef_[0].argsort()\n",
    "\n",
    "print('Smallest Coefs: \\n{}\\n'.format(feature_names[sorted_coef_index[:10]]))\n",
    "print('Largest Coefs: \\n{}\\n'.format(feature_names[sorted_coef_index[:-11:-1]]))"
   ]
  },
  {
   "cell_type": "code",
   "execution_count": 53,
   "metadata": {},
   "outputs": [
    {
     "name": "stdout",
     "output_type": "stream",
     "text": [
      "\t2.0641 \tpleasantly      \t\t-2.5623 \tdisappointing  \n",
      "\t1.7794 \tworried         \t\t-2.5267 \tworst          \n",
      "\t1.6726 \tdelicious       \t\t-2.2064 \tterrible       \n",
      "\t1.6014 \tworry           \t\t-2.0285 \thopes          \n",
      "\t1.6014 \tskeptical       \t\t-1.9929 \tyuck           \n",
      "\t1.6014 \tperfect         \t\t-1.8861 \tawful          \n",
      "\t1.5658 \tawesome         \t\t-1.8505 \tdisappointment \n",
      "\t1.5303 \tdownside        \t\t-1.7082 \truined         \n",
      "\t1.5303 \tyummy           \t\t-1.6726 \thorrible       \n",
      "\t1.4947 \tthank           \t\t-1.6370 \tcancelled      \n"
     ]
    }
   ],
   "source": [
    "def show_most_informative_features(vectorizer, model, n=10): # To print top 10 features \n",
    "    feature_names = vectorizer.get_feature_names()\n",
    "    coefs_with_fns = sorted(zip(model.coef_[0], feature_names)) # fns- feature names\n",
    "    top = zip(coefs_with_fns[:-(n + 1):-1], coefs_with_fns[:n]) \n",
    "    for (coef_1, fn_1), (coef_0, fn_0) in top:  # For positive and negative classes to print top 10 features\n",
    "        print(\"\\t%.4f \\t%-15s \\t\\t%.4f \\t%-15s\" % (coef_1, fn_1, coef_0, fn_0))\n",
    "show_most_informative_features(count_vect, model)\n"
   ]
  },
  {
   "cell_type": "markdown",
   "metadata": {},
   "source": [
    "# L1 Regularization for BoW"
   ]
  },
  {
   "cell_type": "markdown",
   "metadata": {},
   "source": [
    "### [5.9] Building a sparse SGDClassifier by performing GridSearchCV on BoW using L1 Regularization"
   ]
  },
  {
   "cell_type": "code",
   "execution_count": 54,
   "metadata": {},
   "outputs": [
    {
     "name": "stdout",
     "output_type": "stream",
     "text": [
      "Model with best parameters is :\n",
      " SGDClassifier(alpha=0.0001, average=False, class_weight='balanced',\n",
      "       epsilon=0.1, eta0=0.0, fit_intercept=True, l1_ratio=0.15,\n",
      "       learning_rate='optimal', loss='hinge', max_iter=1000, n_iter=None,\n",
      "       n_jobs=1, penalty='l1', power_t=0.5, random_state=None,\n",
      "       shuffle=True, tol=None, verbose=0, warm_start=False)\n",
      "The optimal value of alpha(1/C) is : 0.0001\n"
     ]
    }
   ],
   "source": [
    "# Implementing SGD Classifier with Hinge loss to get Linear SVM.\n",
    "from sklearn.linear_model import SGDClassifier\n",
    "from sklearn.model_selection import GridSearchCV\n",
    "\n",
    "# GridsearchCV trains the model on these parmters to find the best one\n",
    "# List of parameters for hyperparameter tuning\n",
    "tuned_parameters = [{'alpha': [0.00001, 0.0001, 0.001, 0.01, 0.1, 1, 10, 100, 1000, 10000]}] \n",
    "\n",
    "#Using GridSearchCV. Default regularizer is L2. We can change it to L1 using penalty = 'L1'\n",
    "#Now using GridSearchCV, SGD classifier is trained on these list of hyperparameters/values of C.\n",
    "# Scoring is taken as f1_macro.\n",
    "model = GridSearchCV(SGDClassifier(loss = 'hinge', penalty = 'l1', max_iter = 1000, class_weight = 'balanced'), tuned_parameters, scoring = 'roc_auc', n_jobs = -1, cv=5)\n",
    "# model = linear_model.SGDClassifier(loss = 'hinge', penalty = 'l2', tuned_parameters, scoring = 'f1_macro', cv=5, max_iter = 1000)\n",
    "\n",
    "model.fit(X_train_bow_std, Y_train)\n",
    "\n",
    "print(\"Model with best parameters is :\\n\", model.best_estimator_)\n",
    "optimal_alpha =  model.best_estimator_.alpha\n",
    "print(\"The optimal value of alpha(1/C) is :\", optimal_alpha)"
   ]
  },
  {
   "cell_type": "code",
   "execution_count": 55,
   "metadata": {},
   "outputs": [
    {
     "name": "stdout",
     "output_type": "stream",
     "text": [
      "0.8461567824182905\n"
     ]
    }
   ],
   "source": [
    "# get the score on test data \n",
    "print(model.score(X_test_bow_std, Y_test))  \n"
   ]
  },
  {
   "cell_type": "markdown",
   "metadata": {},
   "source": [
    "### [5.10] Predicting Test score and Test error"
   ]
  },
  {
   "cell_type": "code",
   "execution_count": 56,
   "metadata": {},
   "outputs": [
    {
     "name": "stdout",
     "output_type": "stream",
     "text": [
      "\n",
      "The test AUC score of the BoW SGDclassifier with L1 reg for optimal alpha is 80.674742%\n"
     ]
    }
   ],
   "source": [
    "# Predicting model on test data to find AUC-score for L1 Regularization\n",
    "\n",
    "sgd_optimal = SGDClassifier(alpha = optimal_alpha)\n",
    "\n",
    "# fitting the model\n",
    "sgd_optimal.fit(X_train_bow_std, Y_train)\n",
    "\n",
    "# predict the response\n",
    "pred_bow = sgd_optimal.predict(X_test_bow_std)\n",
    "\n",
    "# evaluate accuracy. Using f1_score as metric to measure accuracy, pos_label = 'positive',\n",
    "test_auc_bow = roc_auc_score(Y_test, pred_bow, average = 'weighted') * float(100)\n",
    "print('\\nThe test AUC score of the BoW SGDclassifier with L1 reg for optimal alpha is %f%%' % (test_auc_bow))\n"
   ]
  },
  {
   "cell_type": "code",
   "execution_count": 57,
   "metadata": {},
   "outputs": [
    {
     "name": "stdout",
     "output_type": "stream",
     "text": [
      "Test Error for SGDclassifier BoW with L1 reg is 0.193%\n"
     ]
    }
   ],
   "source": [
    "# Finding test error\n",
    "test_error_bow = (1 - roc_auc_score(Y_test, pred_bow, average = 'weighted')) \n",
    "print(\"Test Error for SGDclassifier BoW with L1 reg is %.3f%%\" % (test_error_bow))"
   ]
  },
  {
   "cell_type": "markdown",
   "metadata": {},
   "source": [
    "### [5.11] Plotting the performance of Train and CV scores for BoW L1 regularization"
   ]
  },
  {
   "cell_type": "code",
   "execution_count": 58,
   "metadata": {},
   "outputs": [
    {
     "data": {
      "image/png": "[encoded data removed]",
      "text/plain": [
       "<Figure size 1080x360 with 1 Axes>"
      ]
     },
     "metadata": {},
     "output_type": "display_data"
    },
    {
     "name": "stdout",
     "output_type": "stream",
     "text": [
      "The CV AUC score for each alpha value is :  [0.853 0.857 0.847 0.815 0.717 0.5   0.5   0.5   0.5   0.5  ]\n",
      "the Train AUC score for each alpha value is :  [0.998 0.99  0.961 0.828 0.719 0.501 0.5   0.5   0.5   0.5  ]\n"
     ]
    }
   ],
   "source": [
    "# Plotting the performance of CV and Train scores which we got through L1 regularization\n",
    "\n",
    "plt.figure(figsize=(15,5))\n",
    "plt.title(\"ERROR PLOT\")\n",
    "plt.xlabel('Hyperparamter Alpha')\n",
    "plt.ylabel('AUC Scores')\n",
    "plt.plot(model.cv_results_['param_alpha'].data.astype(np.float64), model.cv_results_['mean_train_score'], \n",
    "         linestyle='--', marker='o', color='b', label='Train Score')\n",
    "plt.plot(model.cv_results_['param_alpha'].data.astype(np.float64), model.cv_results_['mean_test_score'], \n",
    "         linestyle='--', marker='*', color='r', label='CV Score')\n",
    "plt.legend()\n",
    "plt.show()\n",
    "\n",
    "print(\"The CV AUC score for each alpha value is : \", np.round(model.cv_results_['mean_test_score'],3))\n",
    "\n",
    "print(\"the Train AUC score for each alpha value is : \", np.round(model.cv_results_['mean_train_score'],3))\n"
   ]
  },
  {
   "cell_type": "markdown",
   "metadata": {},
   "source": [
    "# 6. TF-IDF"
   ]
  },
  {
   "cell_type": "code",
   "execution_count": 59,
   "metadata": {},
   "outputs": [
    {
     "name": "stdout",
     "output_type": "stream",
     "text": [
      "the type of TFIDF vectorizer  <class 'scipy.sparse.csr.csr_matrix'>\n",
      "the type of TFIDF vectorizer  <class 'scipy.sparse.csr.csr_matrix'>\n",
      "(56000, 1148335)\n",
      "(24000, 1148335)\n",
      "the number of unique words  1148335\n",
      "the number of unique words  1148335\n"
     ]
    }
   ],
   "source": [
    "# TF-IDF\n",
    "# in Scikit-learn\n",
    "# tf_idf_vect is a variable created \n",
    "tf_idf_vect = TfidfVectorizer(ngram_range=(1,2)) # 1=unigrams, 2=bi-grams\n",
    "\n",
    "# 'final_tf_idf' is the sparse matrix in which all of the tf-idf values are stored. \n",
    "# fit_transform is a function\n",
    "X_train_tfidf = tf_idf_vect.fit_transform(X_train)\n",
    "X_test_tfidf = tf_idf_vect.transform(X_test)\n",
    "\n",
    "print(\"the type of TFIDF vectorizer \",type(X_train_tfidf))\n",
    "print(\"the type of TFIDF vectorizer \",type(X_test_tfidf))\n",
    "\n",
    "print(X_train_tfidf.get_shape())\n",
    "print(X_test_tfidf.get_shape())\n",
    "\n",
    "print(\"the number of unique words \", X_train_tfidf.get_shape()[1])\n",
    "print(\"the number of unique words \", X_test_tfidf.get_shape()[1])\n"
   ]
  },
  {
   "cell_type": "markdown",
   "metadata": {},
   "source": [
    "### Standardizing the data"
   ]
  },
  {
   "cell_type": "code",
   "execution_count": 60,
   "metadata": {},
   "outputs": [
    {
     "name": "stdout",
     "output_type": "stream",
     "text": [
      "Final shape of matrix (56000, 1148335)\n",
      "Final shape of matrix (24000, 1148335)\n"
     ]
    }
   ],
   "source": [
    "from sklearn.preprocessing import StandardScaler\n",
    "# Standardize the data\n",
    "scalar = StandardScaler(with_mean=False)\n",
    "X_train_tfidf_std = scalar.fit_transform(X_train_tfidf)\n",
    "X_test_tfidf_std = scalar.transform(X_test_tfidf)\n",
    "\n",
    "print(\"Final shape of matrix\", X_train_tfidf_std.shape)\n",
    "print(\"Final shape of matrix\", X_test_tfidf_std.shape)\n"
   ]
  },
  {
   "cell_type": "code",
   "execution_count": 61,
   "metadata": {},
   "outputs": [
    {
     "data": {
      "text/plain": [
       "1148335"
      ]
     },
     "execution_count": 61,
     "metadata": {},
     "output_type": "execute_result"
    }
   ],
   "source": [
    "# get_feature_names() function is used to get feature names and all are stored in a variable called 'features'\n",
    "features = tf_idf_vect.get_feature_names()\n",
    "len(features)"
   ]
  },
  {
   "cell_type": "code",
   "execution_count": 62,
   "metadata": {},
   "outputs": [
    {
     "name": "stdout",
     "output_type": "stream",
     "text": [
      "some sample features(unique words in the corpus) are:\n"
     ]
    },
    {
     "data": {
      "text/plain": [
       "['ashy drop',\n",
       " 'ashy flavor',\n",
       " 'ashy somewhat',\n",
       " 'asia',\n",
       " 'asia also',\n",
       " 'asia americans',\n",
       " 'asia big',\n",
       " 'asia bought',\n",
       " 'asia box',\n",
       " 'asia byan']"
      ]
     },
     "execution_count": 62,
     "metadata": {},
     "output_type": "execute_result"
    }
   ],
   "source": [
    "print(\"some sample features(unique words in the corpus) are:\")\n",
    "features[50000:50010]"
   ]
  },
  {
   "cell_type": "code",
   "execution_count": 63,
   "metadata": {},
   "outputs": [],
   "source": [
    "def top_tfidf_feats(row, features, top_n=20):\n",
    "    ''' Get top n tfidf values in row and return them with their corresponding feature names.'''\n",
    "    topn_ids = np.argsort(row)[::-1][:top_n]   # argsort sorts the top 20 tf-idf words for a given review\n",
    "    top_feats = [(features[i], row[i]) for i in topn_ids]\n",
    "    df = pd.DataFrame(top_feats)\n",
    "    df.columns = ['feature', 'tfidf']\n",
    "    return df\n",
    "\n",
    "# vector 1 corresponding to review 1 and converting it into a numpy array and giving all feature values and prints the top 20 tf-idf values\n",
    "top_tfidf = top_tfidf_feats(X_train_tfidf[1,:].toarray()[0],features,20)"
   ]
  },
  {
   "cell_type": "code",
   "execution_count": 64,
   "metadata": {},
   "outputs": [
    {
     "data": {
      "text/html": [
       "<div>\n",
       "<style scoped>\n",
       "    .dataframe tbody tr th:only-of-type {\n",
       "        vertical-align: middle;\n",
       "    }\n",
       "\n",
       "    .dataframe tbody tr th {\n",
       "        vertical-align: top;\n",
       "    }\n",
       "\n",
       "    .dataframe thead th {\n",
       "        text-align: right;\n",
       "    }\n",
       "</style>\n",
       "<table border=\"1\" class=\"dataframe\">\n",
       "  <thead>\n",
       "    <tr style=\"text-align: right;\">\n",
       "      <th></th>\n",
       "      <th>feature</th>\n",
       "      <th>tfidf</th>\n",
       "    </tr>\n",
       "  </thead>\n",
       "  <tbody>\n",
       "    <tr>\n",
       "      <th>0</th>\n",
       "      <td>nights tea</td>\n",
       "      <td>0.281174</td>\n",
       "    </tr>\n",
       "    <tr>\n",
       "      <th>1</th>\n",
       "      <td>thanks available</td>\n",
       "      <td>0.281174</td>\n",
       "    </tr>\n",
       "    <tr>\n",
       "      <th>2</th>\n",
       "      <td>sweetner great</td>\n",
       "      <td>0.281174</td>\n",
       "    </tr>\n",
       "    <tr>\n",
       "      <th>3</th>\n",
       "      <td>milk agave</td>\n",
       "      <td>0.271031</td>\n",
       "    </tr>\n",
       "    <tr>\n",
       "      <th>4</th>\n",
       "      <td>winter nights</td>\n",
       "      <td>0.271031</td>\n",
       "    </tr>\n",
       "    <tr>\n",
       "      <th>5</th>\n",
       "      <td>agave sweetner</td>\n",
       "      <td>0.271031</td>\n",
       "    </tr>\n",
       "    <tr>\n",
       "      <th>6</th>\n",
       "      <td>find thanks</td>\n",
       "      <td>0.263835</td>\n",
       "    </tr>\n",
       "    <tr>\n",
       "      <th>7</th>\n",
       "      <td>great winter</td>\n",
       "      <td>0.263835</td>\n",
       "    </tr>\n",
       "    <tr>\n",
       "      <th>8</th>\n",
       "      <td>tea hard</td>\n",
       "      <td>0.234350</td>\n",
       "    </tr>\n",
       "    <tr>\n",
       "      <th>9</th>\n",
       "      <td>tea milk</td>\n",
       "      <td>0.230770</td>\n",
       "    </tr>\n",
       "    <tr>\n",
       "      <th>10</th>\n",
       "      <td>nights</td>\n",
       "      <td>0.193707</td>\n",
       "    </tr>\n",
       "    <tr>\n",
       "      <th>11</th>\n",
       "      <td>favorite tea</td>\n",
       "      <td>0.190178</td>\n",
       "    </tr>\n",
       "    <tr>\n",
       "      <th>12</th>\n",
       "      <td>sweetner</td>\n",
       "      <td>0.186797</td>\n",
       "    </tr>\n",
       "    <tr>\n",
       "      <th>13</th>\n",
       "      <td>tea</td>\n",
       "      <td>0.178460</td>\n",
       "    </tr>\n",
       "    <tr>\n",
       "      <th>14</th>\n",
       "      <td>agave</td>\n",
       "      <td>0.174718</td>\n",
       "    </tr>\n",
       "    <tr>\n",
       "      <th>15</th>\n",
       "      <td>winter</td>\n",
       "      <td>0.166352</td>\n",
       "    </tr>\n",
       "    <tr>\n",
       "      <th>16</th>\n",
       "      <td>hard find</td>\n",
       "      <td>0.142803</td>\n",
       "    </tr>\n",
       "    <tr>\n",
       "      <th>17</th>\n",
       "      <td>thanks</td>\n",
       "      <td>0.136916</td>\n",
       "    </tr>\n",
       "    <tr>\n",
       "      <th>18</th>\n",
       "      <td>available</td>\n",
       "      <td>0.117764</td>\n",
       "    </tr>\n",
       "    <tr>\n",
       "      <th>19</th>\n",
       "      <td>milk</td>\n",
       "      <td>0.107416</td>\n",
       "    </tr>\n",
       "  </tbody>\n",
       "</table>\n",
       "</div>"
      ],
      "text/plain": [
       "             feature     tfidf\n",
       "0         nights tea  0.281174\n",
       "1   thanks available  0.281174\n",
       "2     sweetner great  0.281174\n",
       "3         milk agave  0.271031\n",
       "4      winter nights  0.271031\n",
       "5     agave sweetner  0.271031\n",
       "6        find thanks  0.263835\n",
       "7       great winter  0.263835\n",
       "8           tea hard  0.234350\n",
       "9           tea milk  0.230770\n",
       "10            nights  0.193707\n",
       "11      favorite tea  0.190178\n",
       "12          sweetner  0.186797\n",
       "13               tea  0.178460\n",
       "14             agave  0.174718\n",
       "15            winter  0.166352\n",
       "16         hard find  0.142803\n",
       "17            thanks  0.136916\n",
       "18         available  0.117764\n",
       "19              milk  0.107416"
      ]
     },
     "execution_count": 64,
     "metadata": {},
     "output_type": "execute_result"
    }
   ],
   "source": [
    "top_tfidf"
   ]
  },
  {
   "cell_type": "markdown",
   "metadata": {},
   "source": [
    "## Implementing Linear Kernel using SGDClassifier on TF-IDF"
   ]
  },
  {
   "cell_type": "markdown",
   "metadata": {},
   "source": [
    "### [6.1] Performing GridSearchCV with SGDClassifier on TF-IDF using f1-score as metric and L2 regularization"
   ]
  },
  {
   "cell_type": "code",
   "execution_count": 65,
   "metadata": {},
   "outputs": [
    {
     "name": "stdout",
     "output_type": "stream",
     "text": [
      "Model with best parameters is :\n",
      " SGDClassifier(alpha=10, average=False, class_weight='balanced', epsilon=0.1,\n",
      "       eta0=0.0, fit_intercept=True, l1_ratio=0.15,\n",
      "       learning_rate='optimal', loss='hinge', max_iter=1000, n_iter=None,\n",
      "       n_jobs=1, penalty='l2', power_t=0.5, random_state=None,\n",
      "       shuffle=True, tol=None, verbose=0, warm_start=False)\n",
      "The optimal value of alpha(1/C) is : 10\n"
     ]
    }
   ],
   "source": [
    "# Implementing SGD Classifier with Hinge loss to get Linear SVM.\n",
    "from sklearn.linear_model import SGDClassifier\n",
    "from sklearn.model_selection import GridSearchCV\n",
    "\n",
    "# GridsearchCV trains the model on these parmters to find the best one\n",
    "# List of parameters for hyperparameter tuning\n",
    "tuned_parameters = {'alpha': [0.00001, 0.0001, 0.001, 0.01, 0.1, 1, 10, 100, 1000, 10000]} \n",
    "\n",
    "#Using GridSearchCV. Default regularizer is L2. We can change it to L1 using penalty = 'L1'\n",
    "#Now using GridSearchCV, SGD classifier is trained on these list of hyperparameters/values of C.\n",
    "# Scoring is taken as f1_macro.\n",
    "model = GridSearchCV(SGDClassifier(loss = 'hinge', penalty = 'l2', max_iter = 1000, class_weight = 'balanced'), tuned_parameters, cv=5, scoring = 'roc_auc', n_jobs = -1)\n",
    "\n",
    "model.fit(X_train_tfidf_std, Y_train)\n",
    "\n",
    "print(\"Model with best parameters is :\\n\", model.best_estimator_)\n",
    "optimal_alpha =  model.best_estimator_.alpha\n",
    "print(\"The optimal value of alpha(1/C) is :\", optimal_alpha)"
   ]
  },
  {
   "cell_type": "code",
   "execution_count": 67,
   "metadata": {},
   "outputs": [
    {
     "name": "stdout",
     "output_type": "stream",
     "text": [
      "0.9556626197697006\n"
     ]
    }
   ],
   "source": [
    "# get the score on test data \n",
    "print(model.score(X_test_tfidf_std, Y_test))  \n"
   ]
  },
  {
   "cell_type": "markdown",
   "metadata": {},
   "source": [
    "### [6.2] Predicting Test score and Test error for TF-IDF L2 reg"
   ]
  },
  {
   "cell_type": "code",
   "execution_count": 68,
   "metadata": {},
   "outputs": [
    {
     "name": "stdout",
     "output_type": "stream",
     "text": [
      "\n",
      "The test AUC-score of the TF-IDF SGDclassifier with L2 reg for optimal alpha is 88.425033%\n"
     ]
    }
   ],
   "source": [
    "# Predicting model on test data to find f1-score for L2 Regularization\n",
    "\n",
    "sgd_optimal = SGDClassifier(alpha = optimal_alpha)\n",
    "\n",
    "# fitting the model\n",
    "sgd_optimal.fit(X_train_tfidf_std, Y_train)\n",
    "\n",
    "# predict the response\n",
    "pred_tfidf = sgd_optimal.predict(X_test_tfidf_std)\n",
    "\n",
    "# evaluate accuracy. Using f1_score as metric to measure accuracy, pos_label = 'positive',\n",
    "test_auc_tfidf = roc_auc_score(Y_test, pred_tfidf, average = 'weighted') * float(100)\n",
    "print('\\nThe test AUC-score of the TF-IDF SGDclassifier with L2 reg for optimal alpha is %f%%' % (test_auc_tfidf))\n"
   ]
  },
  {
   "cell_type": "code",
   "execution_count": 69,
   "metadata": {},
   "outputs": [
    {
     "name": "stdout",
     "output_type": "stream",
     "text": [
      "Test Error for SGDclassifier TF-IDF with L2 reg is 0.116%\n"
     ]
    }
   ],
   "source": [
    "# Finding test error\n",
    "test_error_tfidf = (1 - roc_auc_score(Y_test, pred_tfidf, average = 'weighted')) \n",
    "print(\"Test Error for SGDclassifier TF-IDF with L2 reg is %.3f%%\" % (test_error_tfidf))"
   ]
  },
  {
   "cell_type": "markdown",
   "metadata": {},
   "source": [
    "### [6.3] Plotting the performance of Train and CV scores for TFIDF with L2 regularization "
   ]
  },
  {
   "cell_type": "code",
   "execution_count": 70,
   "metadata": {},
   "outputs": [
    {
     "data": {
      "image/png": "[encoded data removed]",
      "text/plain": [
       "<Figure size 1080x360 with 1 Axes>"
      ]
     },
     "metadata": {},
     "output_type": "display_data"
    },
    {
     "name": "stdout",
     "output_type": "stream",
     "text": [
      "The CV AUC score for each alpha value is :  [0.891 0.894 0.919 0.952 0.953 0.954 0.956 0.951 0.95  0.95 ]\n",
      "the Train AUC score for each alpha value is :  [1. 1. 1. 1. 1. 1. 1. 1. 1. 1.]\n"
     ]
    }
   ],
   "source": [
    "plt.figure(figsize=(15,5))\n",
    "plt.title(\"ERROR PLOT\")\n",
    "plt.xlabel('Hyperparamter alpha')\n",
    "plt.ylabel('AUC Scores')\n",
    "plt.plot(model.cv_results_['param_alpha'].data.astype(np.float64), model.cv_results_['mean_train_score'], \n",
    "         linestyle='--', marker='o', color='b', label='Train Score')\n",
    "plt.plot(model.cv_results_['param_alpha'].data.astype(np.float64), model.cv_results_['mean_test_score'], \n",
    "         linestyle='--', marker='*', color='r', label='CV Score')\n",
    "plt.legend()\n",
    "plt.show()\n",
    "\n",
    "print(\"The CV AUC score for each alpha value is : \", np.round(model.cv_results_['mean_test_score'],3))\n",
    "\n",
    "print(\"the Train AUC score for each alpha value is : \", np.round(model.cv_results_['mean_train_score'],3))\n"
   ]
  },
  {
   "cell_type": "markdown",
   "metadata": {},
   "source": [
    "### [6.4] Plotting ROC curve and finding AUC score for TFIDF L2 reg"
   ]
  },
  {
   "cell_type": "code",
   "execution_count": 71,
   "metadata": {},
   "outputs": [
    {
     "data": {
      "image/png": "[encoded data removed]",
      "text/plain": [
       "<Figure size 432x288 with 1 Axes>"
      ]
     },
     "metadata": {},
     "output_type": "display_data"
    }
   ],
   "source": [
    "from sklearn.metrics import roc_curve, auc\n",
    "from sklearn.calibration import CalibratedClassifierCV, calibration_curve\n",
    "\n",
    "model_svm = CalibratedClassifierCV(base_estimator = model, method='sigmoid')\n",
    "Y_prob = model_svm.fit(X_train_tfidf_std, Y_train)\n",
    "\n",
    "\n",
    "train_fpr, train_tpr, thresholds = roc_curve(Y_train, Y_prob.predict_proba(X_train_tfidf_std)[:,1])\n",
    "test_fpr, test_tpr, thresholds = roc_curve(Y_test, Y_prob.predict_proba(X_test_tfidf_std)[:,1])\n",
    "\n",
    "roc_auc_train = auc(train_fpr, train_tpr)\n",
    "roc_auc_test = auc(test_fpr, test_tpr)\n",
    "\n",
    "# Plot FPR (on x-axis) v/s TPR (on y-axis)\n",
    "plt.title('ROC Curve for TFIDF')\n",
    "plt.plot(train_fpr, train_tpr, 'b', label='Train AUC = %0.2f'% roc_auc_train)\n",
    "plt.plot(test_fpr, test_tpr, 'r', label='Test AUC = %0.2f'% roc_auc_test)\n",
    "plt.legend(loc='lower right')\n",
    "plt.plot([0,1],[0,1],'k--')\n",
    "plt.xlim([-0.1,1.2])\n",
    "plt.ylim([-0.1,1.2])\n",
    "plt.ylabel('True Positive Rate')\n",
    "plt.xlabel('False Positive Rate')\n",
    "plt.show()"
   ]
  },
  {
   "cell_type": "markdown",
   "metadata": {},
   "source": [
    "### [6.5] Confusion matrix for TFIDF Train data "
   ]
  },
  {
   "cell_type": "code",
   "execution_count": 72,
   "metadata": {},
   "outputs": [
    {
     "name": "stdout",
     "output_type": "stream",
     "text": [
      "Train confusion matrix\n",
      "[[28048    22]\n",
      " [  103 27827]]\n"
     ]
    }
   ],
   "source": [
    "# Confusion matrix for Train data\n",
    "from sklearn.metrics import confusion_matrix\n",
    "print(\"Train confusion matrix\")\n",
    "pred_tfidf_train = sgd_optimal.predict(X_train_tfidf_std)\n",
    "cm = confusion_matrix(Y_train, pred_tfidf_train)\n",
    "print(cm)"
   ]
  },
  {
   "cell_type": "code",
   "execution_count": 73,
   "metadata": {},
   "outputs": [
    {
     "data": {
      "image/png": "[encoded data removed]",
      "text/plain": [
       "<Figure size 432x288 with 2 Axes>"
      ]
     },
     "metadata": {},
     "output_type": "display_data"
    }
   ],
   "source": [
    "# plot confusion matrix for BoW Train data\n",
    "class_label = [\"negative\", \"positive\"] # create a class label for columns and rows\n",
    "cm = confusion_matrix(Y_train, pred_tfidf_train) \n",
    "dataframe_cm = pd.DataFrame(cm, index = class_label, columns = class_label) # create a dataframe to plot confusion matrix\n",
    "# A heatmap is a two-dimensional graphical representation of data in seaborn,\n",
    "# where the individual values in a matrix are represented with colors.\n",
    "sns.heatmap(dataframe_cm, annot = True, fmt = \"d\") # annot=true means, write the data value in each cell\n",
    "plt.title(\"Train Confusion Matrix for TFIDF\")\n",
    "plt.xlabel(\"Predicted Label\")\n",
    "plt.ylabel(\"True Label\")\n",
    "plt.show()"
   ]
  },
  {
   "cell_type": "markdown",
   "metadata": {},
   "source": [
    "#### Observations:-\n",
    "\n",
    "A Confusion matrix is a table that is often used to describe the performance of the classification model on a set of test data. It is also one of the metric to measure accuracy of the model.\n",
    "\n",
    "A confusion matrix is a summary of prediction results on a classification problem. The number of correct and incorrect predictions are summarized with count values and broken down by each class. The confusion matrix shows how the classification model is confused when it makes predictions.\n",
    "\n",
    "The above confusion matrix is didvided into 2 classes positive and negative with True values and predicted values.\n",
    "\n",
    "TN - 28048  FP - 22\n",
    "\n",
    "FN - 103 ,  TP - 27827\n",
    "\n",
    "where\n",
    "\n",
    "TN - True negative, True value is negative, and is predicted value is negative. \n",
    "\n",
    "FP - False positive, True value is negative, but is predicted as positive. \n",
    "\n",
    "FN - False negative, True value is positive, but is predicted as negative \n",
    "\n",
    "TP - True positive, True value is positive, and is predicted value is positive.\n",
    "\n",
    "1. te are total of 30000 points being tested against the model. Out of all values, the classifier/model predicted points as positive 14,931 times and negative 15,069 times. But in true values(test data), the positive points are 15,003 and negative points are 14,997. The diagonal values (13321 negative points, 13255 positive points) in the confusion matrix are correctly predicted values by the classifier.\n"
   ]
  },
  {
   "cell_type": "markdown",
   "metadata": {},
   "source": [
    "### [6.6]  Confusion matrix for TFIDF  Test data"
   ]
  },
  {
   "cell_type": "code",
   "execution_count": 74,
   "metadata": {},
   "outputs": [
    {
     "name": "stdout",
     "output_type": "stream",
     "text": [
      "Test confusion matrix\n",
      "[[10635  1295]\n",
      " [ 1484 10586]]\n"
     ]
    }
   ],
   "source": [
    "# Confusion matrix for Test data\n",
    "# Using confusion matrix as a another metric to measure accuracy\n",
    "from sklearn.metrics import confusion_matrix\n",
    "print(\"Test confusion matrix\")\n",
    "pred_tfidf_test = sgd_optimal.predict(X_test_tfidf_std)\n",
    "cm = confusion_matrix(Y_test, pred_tfidf_test) # finding confusion matrix between true data and predicted data\n",
    "print(cm)"
   ]
  },
  {
   "cell_type": "code",
   "execution_count": 75,
   "metadata": {},
   "outputs": [
    {
     "data": {
      "image/png": "[encoded data removed]",
      "text/plain": [
       "<Figure size 432x288 with 2 Axes>"
      ]
     },
     "metadata": {},
     "output_type": "display_data"
    }
   ],
   "source": [
    "# plot confusion matrix for BoW\n",
    "class_label = [\"negative\", \"positive\"] # create a class label for columns and rows\n",
    "cm = confusion_matrix(Y_test, pred_tfidf_test) \n",
    "dataframe_cm = pd.DataFrame(cm, index = class_label, columns = class_label) # create a dataframe to plot confusion matrix\n",
    "# A heatmap is a two-dimensional graphical representation of data in seaborn,\n",
    "# where the individual values in a matrix are represented with colors.\n",
    "sns.heatmap(dataframe_cm, annot = True, fmt = \"d\") # annot=true means, write the data value in each cell\n",
    "plt.title(\"Test Confusion Matrix for TFIDF\")\n",
    "plt.xlabel(\"Predicted Label\")\n",
    "plt.ylabel(\"True Label\")\n",
    "plt.show()"
   ]
  },
  {
   "cell_type": "markdown",
   "metadata": {},
   "source": [
    "### [6.6] Classification report for TFIDF:-\n",
    "\n",
    "Classification Rate/Accuracy:\n",
    "\n",
    "Accuracy = (TP + TN) / (TP + TN + FP + FN)\n",
    "\n",
    "Recall:- It tells, when the points are positive and how often they are predicted positive.\n",
    "\n",
    "Recall = TP / (TP + FN)\n",
    "\n",
    "Precision:- It tells, when the model predicted positive and how often is it correct.\n",
    "\n",
    "Precision = TP / (TP + FP)\n",
    "\n",
    "f1-score = (2 Recall Precision) / (Recall + Presision)\n",
    "\n",
    "Support is the total number of points in each class (positive and negative)\n"
   ]
  },
  {
   "cell_type": "code",
   "execution_count": 76,
   "metadata": {},
   "outputs": [
    {
     "name": "stdout",
     "output_type": "stream",
     "text": [
      "Accuracy Score: 0.8842083333333334\n",
      "Report:\n",
      "             precision    recall  f1-score   support\n",
      "\n",
      "          0       0.88      0.89      0.88     11930\n",
      "          1       0.89      0.88      0.88     12070\n",
      "\n",
      "avg / total       0.88      0.88      0.88     24000\n",
      "\n"
     ]
    }
   ],
   "source": [
    "# calculate the classification report for TFIDF\n",
    "from sklearn.metrics import classification_report \n",
    "from sklearn.metrics import accuracy_score\n",
    "\n",
    "print('Accuracy Score:', accuracy_score(Y_test, pred_tfidf)) \n",
    "print('Report:')\n",
    "print(classification_report(Y_test, pred_tfidf)) \n"
   ]
  },
  {
   "cell_type": "markdown",
   "metadata": {},
   "source": [
    "### [6.7] Feature Importance for TFIDF\n",
    "\n",
    "To find feature Importance, first sort all the words based on its absolute value of feature weight score, where top words have more weight. So for positive class or negative class, we have to find words with highest absolute weight value, as they are most informative/important features or words for determining whether the text/sentence belongs to positive class or negative class.\n",
    "\n",
    "If the weight value of a word is positive and large then probability that the word/feature belongs to positive class increases. If the weight value of a word is negative and large then probability that the word/feature belongs to negative class increases.\n",
    "\n",
    "So we can say that, in SVM we can find feature importance based on absolute value of feature weights.\n"
   ]
  },
  {
   "cell_type": "code",
   "execution_count": 77,
   "metadata": {},
   "outputs": [
    {
     "name": "stdout",
     "output_type": "stream",
     "text": [
      "Smallest Coefs: \n",
      "['not' 'disappointed' 'worst' 'not good' 'awful' 'terrible'\n",
      " 'disappointing' 'thought' 'bad' 'not buy']\n",
      "\n",
      "Largest Coefs: \n",
      "['great' 'best' 'delicious' 'good' 'perfect' 'love' 'loves' 'excellent'\n",
      " 'nice' 'favorite']\n",
      "\n"
     ]
    }
   ],
   "source": [
    "feature_names = np.array(tf_idf_vect.get_feature_names())\n",
    "\n",
    "model = SGDClassifier()\n",
    "model.fit(X_train_tfidf, Y_train)\n",
    "\n",
    "sorted_coef_index = model.coef_[0].argsort()\n",
    "\n",
    "print('Smallest Coefs: \\n{}\\n'.format(feature_names[sorted_coef_index[:10]]))\n",
    "print('Largest Coefs: \\n{}\\n'.format(feature_names[sorted_coef_index[:-11:-1]]))"
   ]
  },
  {
   "cell_type": "code",
   "execution_count": 78,
   "metadata": {},
   "outputs": [
    {
     "name": "stdout",
     "output_type": "stream",
     "text": [
      "\t8.0261 \tgreat           \t\t-7.3698 \tnot            \n",
      "\t6.1743 \tbest            \t\t-5.3935 \tdisappointed   \n",
      "\t5.5137 \tdelicious       \t\t-3.8364 \tworst          \n",
      "\t5.2652 \tgood            \t\t-3.7669 \tnot good       \n",
      "\t5.1035 \tperfect         \t\t-3.5098 \tawful          \n",
      "\t4.8246 \tlove            \t\t-3.5066 \tterrible       \n",
      "\t4.4689 \tloves           \t\t-3.4329 \tdisappointing  \n",
      "\t4.2727 \texcellent       \t\t-3.3978 \tthought        \n",
      "\t3.8886 \tnice            \t\t-3.3764 \tbad            \n",
      "\t3.7049 \tfavorite        \t\t-3.3715 \tnot buy        \n"
     ]
    }
   ],
   "source": [
    "# Reference:--  https://stackoverflow.com/questions/11116697/how-to-get-most-informative-features-for-scikit-learn-classifiers\n",
    "\n",
    "def show_most_informative_features(vectorizer, model, n=10): # To print top 10 features \n",
    "    feature_names = vectorizer.get_feature_names()\n",
    "    coefs_with_fns = sorted(zip(model.coef_[0], feature_names)) # fns- feature names\n",
    "    top = zip(coefs_with_fns[:-(n + 1):-1], coefs_with_fns[:n]) \n",
    "    for (coef_1, fn_1), (coef_0, fn_0) in top:  # For positive and negative classes to print top 10 features\n",
    "        print(\"\\t%.4f \\t%-15s \\t\\t%.4f \\t%-15s\" % (coef_1, fn_1, coef_0, fn_0))\n",
    "show_most_informative_features(tf_idf_vect, model)\n"
   ]
  },
  {
   "cell_type": "markdown",
   "metadata": {},
   "source": [
    "# L1 Regularization for TFIDF"
   ]
  },
  {
   "cell_type": "markdown",
   "metadata": {},
   "source": [
    "### [6.8] Building a sparse SGDClassifier by performing GridSearchCV on TFIDF using L1 Regularization"
   ]
  },
  {
   "cell_type": "code",
   "execution_count": 79,
   "metadata": {},
   "outputs": [
    {
     "name": "stdout",
     "output_type": "stream",
     "text": [
      "Model with best parameters is :\n",
      " SGDClassifier(alpha=1e-05, average=False, class_weight='balanced',\n",
      "       epsilon=0.1, eta0=0.0, fit_intercept=True, l1_ratio=0.15,\n",
      "       learning_rate='optimal', loss='hinge', max_iter=1000, n_iter=None,\n",
      "       n_jobs=1, penalty='l1', power_t=0.5, random_state=None,\n",
      "       shuffle=True, tol=None, verbose=0, warm_start=False)\n",
      "The optimal value of alpha(1/C) is : 1e-05\n"
     ]
    }
   ],
   "source": [
    "# Implementing SGD Classifier with Hinge loss to get Linear SVM.\n",
    "from sklearn.linear_model import SGDClassifier\n",
    "from sklearn.model_selection import GridSearchCV\n",
    "\n",
    "# GridsearchCV trains the model on these parmters to find the best one\n",
    "# List of parameters for hyperparameter tuning\n",
    "tuned_parameters = {'alpha': [0.00001, 0.0001, 0.001, 0.01, 0.1, 1, 10, 100, 1000, 10000]}\n",
    "\n",
    "#Using GridSearchCV. Default regularizer is L2. We can change it to L1 using penalty = 'L1'\n",
    "#Now using GridSearchCV, SGD classifier is trained on these list of hyperparameters/values of C.\n",
    "# Scoring is taken as f1_macro.\n",
    "model = GridSearchCV(SGDClassifier(loss = 'hinge', penalty = 'l1', max_iter = 1000, class_weight = 'balanced'), tuned_parameters, cv=5, scoring = 'roc_auc', n_jobs = -1)\n",
    "# model = linear_model.SGDClassifier(loss = 'hinge', penalty = 'l2', tuned_parameters, scoring = 'f1_macro', cv=5, max_iter = 1000)\n",
    "\n",
    "model.fit(X_train_tfidf_std, Y_train)\n",
    "\n",
    "print(\"Model with best parameters is :\\n\", model.best_estimator_)\n",
    "optimal_alpha =  model.best_estimator_.alpha\n",
    "print(\"The optimal value of alpha(1/C) is :\", optimal_alpha)"
   ]
  },
  {
   "cell_type": "code",
   "execution_count": 80,
   "metadata": {},
   "outputs": [
    {
     "name": "stdout",
     "output_type": "stream",
     "text": [
      "0.7769633931987965\n"
     ]
    }
   ],
   "source": [
    "# get the score on test data \n",
    "print(model.score(X_test_tfidf_std, Y_test))  "
   ]
  },
  {
   "cell_type": "markdown",
   "metadata": {},
   "source": [
    "### [6.9] Predicting Test score and Test error for TFIDF with L1 reg"
   ]
  },
  {
   "cell_type": "code",
   "execution_count": 81,
   "metadata": {},
   "outputs": [
    {
     "name": "stdout",
     "output_type": "stream",
     "text": [
      "\n",
      "The test AUC-score of the TFIDF SGDclassifier with L1 reg for optimal alpha is 73.239492%\n"
     ]
    }
   ],
   "source": [
    "# Predicting model on test data to find AUC-score for L2 Regularization\n",
    "\n",
    "sgd_optimal = SGDClassifier(alpha = optimal_alpha)\n",
    "\n",
    "# fitting the model\n",
    "sgd_optimal.fit(X_train_tfidf_std, Y_train)\n",
    "\n",
    "# predict the response\n",
    "pred_tfidf = sgd_optimal.predict(X_test_tfidf_std)\n",
    "\n",
    "# evaluate accuracy. Using f1_score as metric to measure accuracy, pos_label = 'positive',\n",
    "test_auc_tfidf = roc_auc_score(Y_test, pred_tfidf, average = 'weighted') * float(100)\n",
    "print('\\nThe test AUC-score of the TFIDF SGDclassifier with L1 reg for optimal alpha is %f%%' % (test_auc_tfidf))\n"
   ]
  },
  {
   "cell_type": "code",
   "execution_count": 82,
   "metadata": {},
   "outputs": [
    {
     "name": "stdout",
     "output_type": "stream",
     "text": [
      "Test Error for SGDclassifier TFIDF L1 reg is 0.268%\n"
     ]
    }
   ],
   "source": [
    "# Finding test error\n",
    "test_error_tfidf = (1 - roc_auc_score(Y_test, pred_tfidf, average = 'weighted')) \n",
    "print(\"Test Error for SGDclassifier TFIDF L1 reg is %.3f%%\" % (test_error_tfidf))"
   ]
  },
  {
   "cell_type": "markdown",
   "metadata": {},
   "source": [
    "### [6.10] Plotting the performance of Train and CV scores for TFIDF  L1 regularization"
   ]
  },
  {
   "cell_type": "code",
   "execution_count": 83,
   "metadata": {},
   "outputs": [
    {
     "data": {
      "image/png": "[encoded data removed]",
      "text/plain": [
       "<Figure size 1080x360 with 1 Axes>"
      ]
     },
     "metadata": {},
     "output_type": "display_data"
    },
    {
     "name": "stdout",
     "output_type": "stream",
     "text": [
      "The CV AUC-score for each alpha value is :  [0.863 0.829 0.785 0.761 0.698 0.504 0.5   0.5   0.5   0.5  ]\n",
      "the Train AUC score for each alpha value is :  [1.    1.    0.997 0.786 0.701 0.504 0.5   0.5   0.5   0.5  ]\n"
     ]
    }
   ],
   "source": [
    "# Plotting the performance of CV and Train scores which we got through L2 regularization\n",
    "\n",
    "plt.figure(figsize=(15,5))\n",
    "plt.title(\"ERROR PLOT/Performance PLot\")\n",
    "plt.xlabel('Hyperparamter alpha')\n",
    "plt.ylabel('Scores')\n",
    "plt.plot(model.cv_results_['param_alpha'].data.astype(np.float64), model.cv_results_['mean_train_score'], \n",
    "         linestyle='--', marker='o', color='b', label='Train Score')\n",
    "plt.plot(model.cv_results_['param_alpha'].data.astype(np.float64), model.cv_results_['mean_test_score'], \n",
    "         linestyle='--', marker='*', color='r', label='CV Score')\n",
    "plt.legend()\n",
    "plt.show()\n",
    "\n",
    "print(\"The CV AUC-score for each alpha value is : \", np.round(model.cv_results_['mean_test_score'],3))\n",
    "\n",
    "print(\"the Train AUC score for each alpha value is : \", np.round(model.cv_results_['mean_train_score'],3))\n"
   ]
  },
  {
   "cell_type": "markdown",
   "metadata": {},
   "source": [
    "# 7. Word2Vec"
   ]
  },
  {
   "cell_type": "code",
   "execution_count": 84,
   "metadata": {},
   "outputs": [],
   "source": [
    "# I am Training Word2Vec model using Amazon fine food text corpus\n",
    "# This is W2V for Train data\n",
    "# We are creating a list of sentences\n",
    "# list_of_sent is created to store sentences\n",
    "i=0\n",
    "list_of_sent_train=[]\n",
    "for sent in X_train:\n",
    "    list_of_sent_train.append(sent.split())"
   ]
  },
  {
   "cell_type": "code",
   "execution_count": 86,
   "metadata": {},
   "outputs": [
    {
     "name": "stdout",
     "output_type": "stream",
     "text": [
      "get combing cheerios honey smacks peanuts get actually sounds good unfortunately combination flavors okay not great not sure even good weird cloying aftertaste cereal feels dry individual pieces large crunchy not kidlets think okay prefer honey nut cheerios even raisin bran fave not good signbottom line ymmv not replacing box another one\n",
      "*****************************************************************\n",
      "['get', 'combing', 'cheerios', 'honey', 'smacks', 'peanuts', 'get', 'actually', 'sounds', 'good', 'unfortunately', 'combination', 'flavors', 'okay', 'not', 'great', 'not', 'sure', 'even', 'good', 'weird', 'cloying', 'aftertaste', 'cereal', 'feels', 'dry', 'individual', 'pieces', 'large', 'crunchy', 'not', 'kidlets', 'think', 'okay', 'prefer', 'honey', 'nut', 'cheerios', 'even', 'raisin', 'bran', 'fave', 'not', 'good', 'signbottom', 'line', 'ymmv', 'not', 'replacing', 'box', 'another', 'one']\n"
     ]
    }
   ],
   "source": [
    "# One sentence is converted into a list\n",
    "print(X_train.values[0])\n",
    "print(\"*****************************************************************\")\n",
    "print(list_of_sent_train[0])"
   ]
  },
  {
   "cell_type": "code",
   "execution_count": 87,
   "metadata": {},
   "outputs": [
    {
     "name": "stdout",
     "output_type": "stream",
     "text": [
      "15611\n",
      "sample words  ['get', 'combing', 'cheerios', 'honey', 'smacks', 'peanuts', 'actually', 'sounds', 'good', 'unfortunately', 'combination', 'flavors', 'okay', 'not', 'great', 'sure', 'even', 'weird', 'cloying', 'aftertaste', 'cereal', 'feels', 'dry', 'individual', 'pieces', 'large', 'crunchy', 'think', 'prefer', 'nut', 'raisin', 'bran', 'fave', 'line', 'ymmv', 'replacing', 'box', 'another', 'one', 'favorite', 'tea', 'milk', 'agave', 'sweetner', 'winter', 'nights', 'hard', 'find', 'thanks', 'available']\n"
     ]
    }
   ],
   "source": [
    "# Train the word2vec model for Train data\n",
    "# min_count=5 says, if the word doesn't occur atleast 5 times then don't construct w2v for it\n",
    "# size=50 says about the dimension of the vector\n",
    "# we are storing Word2Vec model in w2v_model\n",
    "import gensim\n",
    "w2v_model_train = gensim.models.Word2Vec(list_of_sent_train, min_count=5, size=50, workers=4)\n",
    "\n",
    "# we can get dictionary of all the words that we have\n",
    "# we are storing Word2Vec model in w2v_model\n",
    "words_train = list(w2v_model_train.wv.vocab)\n",
    "print(len(words_train))\n",
    "\n",
    "# prints 50 words\n",
    "print(\"sample words \", words_train[0:50])"
   ]
  },
  {
   "cell_type": "code",
   "execution_count": 88,
   "metadata": {},
   "outputs": [
    {
     "data": {
      "text/plain": [
       "[('household', 0.7572441101074219),\n",
       " ('members', 0.7124148607254028),\n",
       " ('friends', 0.7012181878089905),\n",
       " ('mom', 0.6975873708724976),\n",
       " ('guests', 0.6468737721443176),\n",
       " ('hubby', 0.6414618492126465),\n",
       " ('daughters', 0.6396790742874146),\n",
       " ('parties', 0.6380088925361633),\n",
       " ('husband', 0.6242074370384216),\n",
       " ('grandson', 0.6210526823997498)]"
      ]
     },
     "execution_count": 88,
     "metadata": {},
     "output_type": "execute_result"
    }
   ],
   "source": [
    "w2v_model_train.wv.most_similar('family')"
   ]
  },
  {
   "cell_type": "code",
   "execution_count": 89,
   "metadata": {},
   "outputs": [],
   "source": [
    "# This is W2V for Test data\n",
    "# We are creating a list of sentences\n",
    "# list_of_sent is created to store sentences\n",
    "i=0\n",
    "list_of_sent_test=[]\n",
    "for sent in X_test:\n",
    "    list_of_sent_test.append(sent.split())\n",
    "    "
   ]
  },
  {
   "cell_type": "code",
   "execution_count": 90,
   "metadata": {},
   "outputs": [
    {
     "name": "stdout",
     "output_type": "stream",
     "text": [
      "tiny pieces white chocolate simply delicious wish package buttons definitely one favorite candies musttry delight\n",
      "*****************************************************************\n",
      "['tiny', 'pieces', 'white', 'chocolate', 'simply', 'delicious', 'wish', 'package', 'buttons', 'definitely', 'one', 'favorite', 'candies', 'musttry', 'delight']\n"
     ]
    }
   ],
   "source": [
    "# One sentence is converted into a list\n",
    "print(X_test.values[0])\n",
    "print(\"*****************************************************************\")\n",
    "print(list_of_sent_test[0])"
   ]
  },
  {
   "cell_type": "code",
   "execution_count": 91,
   "metadata": {},
   "outputs": [
    {
     "name": "stdout",
     "output_type": "stream",
     "text": [
      "10253\n",
      "sample words  ['tiny', 'pieces', 'white', 'chocolate', 'simply', 'delicious', 'wish', 'package', 'buttons', 'definitely', 'one', 'favorite', 'candies', 'delight', 'plant', 'several', 'months', 'sorry', 'see', 'no', 'longer', 'offered', 'brussel', 'amazon', 'sent', 'friends', 'order', 'love', 'mine', 'arrived', 'healthy', 'remained', 'originally', 'ordered', 'received', 'two', 'red', 'envelope', 'quite', 'sickly', 'gifts', 'return', 'pleased', 'lucky', 'bamboo', 'also', 'thriving', 'later', 'highly', 'recommend']\n"
     ]
    }
   ],
   "source": [
    "# Train the word2vec model for Test data\n",
    "# min_count=5 says, if the word doesn't occur atleast 5 times then don't construct w2v for it\n",
    "# size=50 says about the dimension of the vector\n",
    "# we are storing Word2Vec model in w2v_model\n",
    "import gensim\n",
    "w2v_model_test = gensim.models.Word2Vec(list_of_sent_test, min_count=5, size=50, workers=4)\n",
    "\n",
    "# we can get dictionary of all the words that we have\n",
    "# we are storing Word2Vec model in w2v_model\n",
    "words_test = list(w2v_model_test.wv.vocab)\n",
    "print(len(words_test))\n",
    "\n",
    "# prints 50 words\n",
    "print(\"sample words \", words_test[0:50])"
   ]
  },
  {
   "cell_type": "markdown",
   "metadata": {},
   "source": [
    "## [7.1] Avg-Word2Vec\n",
    "\n",
    "We take the average of all word2vec(vector) representations of all words in a review and divide them by number of words in a review. This is vector representation of a review. "
   ]
  },
  {
   "cell_type": "code",
   "execution_count": 92,
   "metadata": {},
   "outputs": [
    {
     "name": "stdout",
     "output_type": "stream",
     "text": [
      "56000\n",
      "50\n"
     ]
    }
   ],
   "source": [
    "# average Word2Vec for Train data\n",
    "# compute average word2vec for each review.\n",
    "from tqdm import tqdm\n",
    "#List to store all the avg w2vec's \n",
    "sent_vectors_train = []; # the avg-w2v for each sentence/review is stored in this list\n",
    "for sent in list_of_sent_train: # for each review/sentence\n",
    "    sent_vec = np.zeros(50) # as word vectors are of zero length\n",
    "    cnt_words =0; # to count num of words with a valid vector in the sentence/review\n",
    "    for word in sent: # for each word in a review/sentence\n",
    "        if word in words_train:\n",
    "            vec = w2v_model_train.wv[word] # vector of each word using w2v model\n",
    "            sent_vec += vec # Adding the vectors\n",
    "            cnt_words += 1\n",
    "    if cnt_words != 0:\n",
    "        sent_vec /= cnt_words  # Taking average of vectors sum of the particular review\n",
    "    sent_vectors_train.append(sent_vec)  # Storing the avg w2vec's for each review in the list\n",
    "print(len(sent_vectors_train))\n",
    "print(len(sent_vectors_train[0]))"
   ]
  },
  {
   "cell_type": "code",
   "execution_count": 93,
   "metadata": {},
   "outputs": [
    {
     "name": "stdout",
     "output_type": "stream",
     "text": [
      "24000\n",
      "50\n"
     ]
    }
   ],
   "source": [
    "# average Word2Vec for Test data\n",
    "# compute average word2vec for each review.\n",
    "from tqdm import tqdm\n",
    "sent_vectors_test = []; # the avg-w2v for each sentence/review is stored in this list\n",
    "for sent in list_of_sent_test: # for each review/sentence\n",
    "    sent_vec = np.zeros(50) # as word vectors are of zero length\n",
    "    cnt_words =0; # num of words with a valid vector in the sentence/review\n",
    "    for word in sent: # for each word in a review/sentence\n",
    "        if word in words_test:\n",
    "            vec = w2v_model_test.wv[word]\n",
    "            sent_vec += vec\n",
    "            cnt_words += 1\n",
    "    if cnt_words != 0:\n",
    "        sent_vec /= cnt_words\n",
    "    sent_vectors_test.append(sent_vec)\n",
    "print(len(sent_vectors_test))\n",
    "print(len(sent_vectors_test[0]))"
   ]
  },
  {
   "cell_type": "markdown",
   "metadata": {},
   "source": [
    "### [7.2] Performing GridSearch CV on AvgW2V using f1-score as metric using L2 regularization"
   ]
  },
  {
   "cell_type": "code",
   "execution_count": 94,
   "metadata": {},
   "outputs": [
    {
     "name": "stdout",
     "output_type": "stream",
     "text": [
      "Model with best parameters is :\n",
      " SGDClassifier(alpha=0.0001, average=False, class_weight='balanced',\n",
      "       epsilon=0.1, eta0=0.0, fit_intercept=True, l1_ratio=0.15,\n",
      "       learning_rate='optimal', loss='hinge', max_iter=1000, n_iter=None,\n",
      "       n_jobs=1, penalty='l2', power_t=0.5, random_state=None,\n",
      "       shuffle=True, tol=None, verbose=0, warm_start=False)\n",
      "The optimal value of alpha(1/C) is : 0.0001\n"
     ]
    }
   ],
   "source": [
    "# Implementing SGD Classifier with Hinge loss to get Linear SVM.\n",
    "from sklearn.linear_model import SGDClassifier\n",
    "from sklearn.model_selection import GridSearchCV\n",
    "\n",
    "# GridsearchCV trains the model on these parmters to find the best one\n",
    "# List of parameters for hyperparameter tuning\n",
    "tuned_parameters = {'alpha': [0.00001, 0.0001, 0.001, 0.01, 0.1, 1, 10, 100, 1000, 10000]}\n",
    "\n",
    "#Using GridSearchCV. Default regularizer is L2. We can change it to L1 using penalty = 'L1'\n",
    "#Now using GridSearchCV, SGD classifier is trained on these list of hyperparameters/values of C.\n",
    "# Scoring is taken as f1_macro.\n",
    "model = GridSearchCV(SGDClassifier(loss = 'hinge', penalty = 'l2', max_iter = 1000, class_weight = 'balanced'), tuned_parameters, scoring = 'roc_auc', n_jobs = -1, cv=5)\n",
    "# model = linear_model.SGDClassifier(loss = 'hinge', penalty = 'l2', tuned_parameters, scoring = 'f1_macro', cv=5, max_iter = 1000)\n",
    "\n",
    "model.fit(sent_vectors_train, Y_train)\n",
    "\n",
    "print(\"Model with best parameters is :\\n\", model.best_estimator_)\n",
    "optimal_alpha =  model.best_estimator_.alpha\n",
    "print(\"The optimal value of alpha(1/C) is :\", optimal_alpha)"
   ]
  },
  {
   "cell_type": "code",
   "execution_count": 104,
   "metadata": {},
   "outputs": [
    {
     "name": "stdout",
     "output_type": "stream",
     "text": [
      "0.8553041284043694\n"
     ]
    }
   ],
   "source": [
    "# get the score on test data \n",
    "print(model.score(sent_vectors_test, Y_test))  \n"
   ]
  },
  {
   "cell_type": "markdown",
   "metadata": {},
   "source": [
    "### 7.3 Predicting Test score and Test error for AvgW2V L2  reg"
   ]
  },
  {
   "cell_type": "code",
   "execution_count": 105,
   "metadata": {},
   "outputs": [
    {
     "name": "stdout",
     "output_type": "stream",
     "text": [
      "\n",
      "The test AUC-score of the SGDclassifier AVGW2V with L2 reg for optimal alpha is 74.263590%\n"
     ]
    }
   ],
   "source": [
    "# Predicting model on test data to find auc-score for L2 Regularization\n",
    "\n",
    "sgd_optimal = SGDClassifier(alpha = optimal_alpha)\n",
    "\n",
    "# fitting the model\n",
    "sgd_optimal.fit(sent_vectors_train, Y_train)\n",
    "\n",
    "# predict the response\n",
    "pred_w2v = sgd_optimal.predict(sent_vectors_test)\n",
    "\n",
    "# evaluate accuracy. Using f1_score as metric to measure accuracy, pos_label = 'positive',\n",
    "test_auc_w2v = roc_auc_score(Y_test, pred_w2v, average = 'weighted') * float(100)\n",
    "print('\\nThe test AUC-score of the SGDclassifier AVGW2V with L2 reg for optimal alpha is %f%%' % (test_auc_w2v))\n",
    "\n"
   ]
  },
  {
   "cell_type": "code",
   "execution_count": 106,
   "metadata": {},
   "outputs": [
    {
     "name": "stdout",
     "output_type": "stream",
     "text": [
      "Test Error for SGDclassifier AVGW2V with L2 reg is 0.257%\n"
     ]
    }
   ],
   "source": [
    "# Finding test error\n",
    "test_error_w2v = (1 - roc_auc_score(Y_test, pred_w2v, average = 'weighted')) \n",
    "print(\"Test Error for SGDclassifier AVGW2V with L2 reg is %.3f%%\" % (test_error_w2v))"
   ]
  },
  {
   "cell_type": "markdown",
   "metadata": {},
   "source": [
    "### 7.4 Plotting the performance of Train and CV scores for AvgW2V"
   ]
  },
  {
   "cell_type": "code",
   "execution_count": 107,
   "metadata": {},
   "outputs": [
    {
     "data": {
      "image/png": "[encoded data removed]",
      "text/plain": [
       "<Figure size 1080x360 with 1 Axes>"
      ]
     },
     "metadata": {},
     "output_type": "display_data"
    },
    {
     "name": "stdout",
     "output_type": "stream",
     "text": [
      "The CV AUC-score for each alpha value is :  [0.912 0.912 0.912 0.911 0.904 0.889 0.887 0.887 0.887 0.887]\n",
      "the Train AUC score for each alpha value is :  [0.912 0.913 0.913 0.911 0.904 0.889 0.887 0.887 0.887 0.887]\n"
     ]
    }
   ],
   "source": [
    "# Plotting the performance of CV and Train scores which we got through L2 regularization\n",
    "\n",
    "plt.figure(figsize=(15,5))\n",
    "plt.title(\"ERROR PLOT / Performance Plot\")\n",
    "plt.xlabel('Hyperparamter alpha')\n",
    "plt.ylabel('Scores')\n",
    "plt.plot(model.cv_results_['param_alpha'].data.astype(np.float64), model.cv_results_['mean_train_score'], \n",
    "         linestyle='--', marker='o', color='b', label='Train Score')\n",
    "plt.plot(model.cv_results_['param_alpha'].data.astype(np.float64), model.cv_results_['mean_test_score'], \n",
    "         linestyle='--', marker='*', color='r', label='CV Score')\n",
    "plt.legend()\n",
    "plt.show()\n",
    "\n",
    "print(\"The CV AUC-score for each alpha value is : \", np.round(model.cv_results_['mean_test_score'],3))\n",
    "\n",
    "print(\"the Train AUC score for each alpha value is : \", np.round(model.cv_results_['mean_train_score'],3))\n"
   ]
  },
  {
   "cell_type": "markdown",
   "metadata": {},
   "source": [
    "### 7.5 Plotting ROC curve and finding AUC score for AvgW2V L2 reg"
   ]
  },
  {
   "cell_type": "code",
   "execution_count": 108,
   "metadata": {},
   "outputs": [
    {
     "data": {
      "image/png": "[encoded data removed]",
      "text/plain": [
       "<Figure size 432x288 with 1 Axes>"
      ]
     },
     "metadata": {},
     "output_type": "display_data"
    }
   ],
   "source": [
    "from sklearn.metrics import roc_curve, auc\n",
    "from sklearn.calibration import CalibratedClassifierCV, calibration_curve\n",
    "\n",
    "model_svm = CalibratedClassifierCV(base_estimator = model, method='sigmoid')\n",
    "Y_prob = model_svm.fit(sent_vectors_train, Y_train)\n",
    "\n",
    "\n",
    "train_fpr, train_tpr, thresholds = roc_curve(Y_train, Y_prob.predict_proba(sent_vectors_train)[:,1])\n",
    "test_fpr, test_tpr, thresholds = roc_curve(Y_test, Y_prob.predict_proba(sent_vectors_test)[:,1])\n",
    "\n",
    "roc_auc_train = auc(train_fpr, train_tpr)\n",
    "roc_auc_test = auc(test_fpr, test_tpr)\n",
    "\n",
    "# Plot FPR (on x-axis) v/s TPR (on y-axis)\n",
    "plt.title('ROC Curve for AvgW2V')\n",
    "plt.plot(train_fpr, train_tpr, 'b', label='Train AUC = %0.2f'% roc_auc_train)\n",
    "plt.plot(test_fpr, test_tpr, 'r', label='Test AUC = %0.2f'% roc_auc_test)\n",
    "plt.legend(loc='lower right')\n",
    "plt.plot([0,1],[0,1],'k--')\n",
    "plt.xlim([-0.1,1.2])\n",
    "plt.ylim([-0.1,1.2])\n",
    "plt.ylabel('True Positive Rate')\n",
    "plt.xlabel('False Positive Rate')\n",
    "plt.show()"
   ]
  },
  {
   "cell_type": "markdown",
   "metadata": {},
   "source": [
    "### 7.6 Confusion matrix for AvgW2V Train data"
   ]
  },
  {
   "cell_type": "code",
   "execution_count": 109,
   "metadata": {},
   "outputs": [
    {
     "name": "stdout",
     "output_type": "stream",
     "text": [
      "Train confusion matrix\n",
      "[[25636  2434]\n",
      " [ 8877 19053]]\n"
     ]
    }
   ],
   "source": [
    "# Confusion matrix for Train data\n",
    "from sklearn.metrics import confusion_matrix\n",
    "print(\"Train confusion matrix\")\n",
    "pred_w2v_train = sgd_optimal.predict(sent_vectors_train)\n",
    "cm = confusion_matrix(Y_train, pred_w2v_train)\n",
    "print(cm)"
   ]
  },
  {
   "cell_type": "code",
   "execution_count": 110,
   "metadata": {},
   "outputs": [
    {
     "data": {
      "image/png": "[encoded data removed]",
      "text/plain": [
       "<Figure size 432x288 with 2 Axes>"
      ]
     },
     "metadata": {},
     "output_type": "display_data"
    }
   ],
   "source": [
    "# plot confusion matrix for AvgW2V\n",
    "class_label = [\"negative\", \"positive\"] # create a class label for columns and rows\n",
    "cm = confusion_matrix(Y_train, pred_w2v_train) \n",
    "dataframe_cm = pd.DataFrame(cm, index = class_label, columns = class_label) # create a dataframe to plot confusion matrix\n",
    "# A heatmap is a two-dimensional graphical representation of data in seaborn,\n",
    "# where the individual values in a matrix are represented with colors.\n",
    "sns.heatmap(dataframe_cm, annot = True, fmt = \"d\") # annot=true means, write the data value in each cell\n",
    "plt.title(\"Train data Confusion Matrix for AvgW2V\")\n",
    "plt.xlabel(\"Predicted Label\")\n",
    "plt.ylabel(\"True Label\")\n",
    "plt.show()"
   ]
  },
  {
   "cell_type": "markdown",
   "metadata": {},
   "source": [
    "### 7.7 Confusion matrix for AvgW2V Test data"
   ]
  },
  {
   "cell_type": "code",
   "execution_count": 111,
   "metadata": {},
   "outputs": [
    {
     "name": "stdout",
     "output_type": "stream",
     "text": [
      "Test confusion matrix\n",
      "[[8115 3815]\n",
      " [2353 9717]]\n"
     ]
    }
   ],
   "source": [
    "# Confusion matrix for Test data\n",
    "# Using confusion matrix as a another metric to measure accuracy\n",
    "from sklearn.metrics import confusion_matrix\n",
    "print(\"Test confusion matrix\")\n",
    "pred_w2v_test = sgd_optimal.predict(sent_vectors_test)\n",
    "cm = confusion_matrix(Y_test, pred_w2v_test) # finding confusion matrix between true data and predicted data\n",
    "print(cm)"
   ]
  },
  {
   "cell_type": "code",
   "execution_count": 112,
   "metadata": {},
   "outputs": [
    {
     "data": {
      "image/png": "[encoded data removed]",
      "text/plain": [
       "<Figure size 432x288 with 2 Axes>"
      ]
     },
     "metadata": {},
     "output_type": "display_data"
    }
   ],
   "source": [
    "# plot confusion matrix for AvgW2V Test data\n",
    "class_label = [\"negative\", \"positive\"] # create a class label for columns and rows\n",
    "cm = confusion_matrix(Y_test, pred_w2v_test) \n",
    "dataframe_cm = pd.DataFrame(cm, index = class_label, columns = class_label) # create a dataframe to plot confusion matrix\n",
    "# A heatmap is a two-dimensional graphical representation of data in seaborn,\n",
    "# where the individual values in a matrix are represented with colors.\n",
    "sns.heatmap(dataframe_cm, annot = True, fmt = \"d\") # annot=true means, write the data value in each cell\n",
    "plt.title(\"Test data Confusion Matrix for AvgW2V\")\n",
    "plt.xlabel(\"Predicted Label\")\n",
    "plt.ylabel(\"True Label\")\n",
    "plt.show()"
   ]
  },
  {
   "cell_type": "markdown",
   "metadata": {},
   "source": [
    "### 7.8 Classification report for AvgW2V:-\n",
    "\n",
    "Classification Rate/Accuracy:\n",
    "\n",
    "Accuracy = (TP + TN) / (TP + TN + FP + FN)\n",
    "\n",
    "Recall:- It tells, when the points are positive and how often they are predicted positive.\n",
    "\n",
    "Recall = TP / (TP + FN)\n",
    "\n",
    "Precision:- It tells, when the model predicted positive and how often is it correct.\n",
    "\n",
    "Precision = TP / (TP + FP)\n",
    "\n",
    "f1-score = (2 Recall Precision) / (Recall + Presision)\n",
    "\n",
    "Support is the total number of points in each class (positive and negative)\n"
   ]
  },
  {
   "cell_type": "code",
   "execution_count": 113,
   "metadata": {},
   "outputs": [
    {
     "name": "stdout",
     "output_type": "stream",
     "text": [
      "Accuracy Score: 0.743\n",
      "Report:\n",
      "             precision    recall  f1-score   support\n",
      "\n",
      "          0       0.78      0.68      0.72     11930\n",
      "          1       0.72      0.81      0.76     12070\n",
      "\n",
      "avg / total       0.75      0.74      0.74     24000\n",
      "\n"
     ]
    }
   ],
   "source": [
    "# calculate the classification report for AvgW2V\n",
    "from sklearn.metrics import classification_report \n",
    "from sklearn.metrics import accuracy_score\n",
    "\n",
    "print('Accuracy Score:', accuracy_score(Y_test, pred_w2v)) \n",
    "print('Report:')\n",
    "print(classification_report(Y_test, pred_w2v)) \n"
   ]
  },
  {
   "cell_type": "markdown",
   "metadata": {},
   "source": [
    "## 7.9 L1 Regularization for AvgW2V"
   ]
  },
  {
   "cell_type": "markdown",
   "metadata": {},
   "source": [
    "### 7.10 Building a sparse SGDClassifier by performing GridSearchCV on AvgW2V using L1 Regularization"
   ]
  },
  {
   "cell_type": "code",
   "execution_count": 114,
   "metadata": {},
   "outputs": [
    {
     "name": "stdout",
     "output_type": "stream",
     "text": [
      "Model with best parameters is :\n",
      " SGDClassifier(alpha=0.0001, average=False, class_weight='balanced',\n",
      "       epsilon=0.1, eta0=0.0, fit_intercept=True, l1_ratio=0.15,\n",
      "       learning_rate='optimal', loss='hinge', max_iter=1000, n_iter=None,\n",
      "       n_jobs=1, penalty='l1', power_t=0.5, random_state=None,\n",
      "       shuffle=True, tol=None, verbose=0, warm_start=False)\n",
      "The optimal value of alpha(1/C) is : 0.0001\n"
     ]
    }
   ],
   "source": [
    "# Implementing SGD Classifier with Hinge loss to get Linear SVM.\n",
    "from sklearn.linear_model import SGDClassifier\n",
    "from sklearn.model_selection import GridSearchCV\n",
    "\n",
    "# GridsearchCV trains the model on these parmters to find the best one\n",
    "# List of parameters for hyperparameter tuning\n",
    "tuned_parameters = {'alpha': [0.00001, 0.0001, 0.001, 0.01, 0.1, 1, 10, 100, 1000, 10000]}\n",
    "\n",
    "#Using GridSearchCV. Default regularizer is L2. We can change it to L1 using penalty = 'L1'\n",
    "#Now using GridSearchCV, SGD classifier is trained on these list of hyperparameters/values of C.\n",
    "# Scoring is taken as f1_macro.\n",
    "model = GridSearchCV(SGDClassifier(loss = 'hinge', penalty = 'l1', max_iter = 1000, class_weight = 'balanced'), tuned_parameters, cv=5, scoring = 'roc_auc', n_jobs = -1)\n",
    "# model = linear_model.SGDClassifier(loss = 'hinge', penalty = 'l2', tuned_parameters, scoring = 'f1_macro', cv=5, max_iter = 1000)\n",
    "\n",
    "model.fit(sent_vectors_train, Y_train)\n",
    "\n",
    "print(\"Model with best parameters is :\\n\", model.best_estimator_)\n",
    "optimal_alpha =  model.best_estimator_.alpha\n",
    "print(\"The optimal value of alpha(1/C) is :\", optimal_alpha)"
   ]
  },
  {
   "cell_type": "code",
   "execution_count": 115,
   "metadata": {},
   "outputs": [
    {
     "name": "stdout",
     "output_type": "stream",
     "text": [
      "0.8552324801330045\n"
     ]
    }
   ],
   "source": [
    "# get the score on test data \n",
    "print(model.score(sent_vectors_test, Y_test))  \n"
   ]
  },
  {
   "cell_type": "markdown",
   "metadata": {},
   "source": [
    "### 7.11 Predicting Test score and Test error for AvgW2V with L1 reg"
   ]
  },
  {
   "cell_type": "code",
   "execution_count": 116,
   "metadata": {},
   "outputs": [
    {
     "name": "stdout",
     "output_type": "stream",
     "text": [
      "\n",
      "The test AUC-score of the SGDclassifier AvgW2V L1 reg for optimal alpha is 75.224174%\n"
     ]
    }
   ],
   "source": [
    "# Predicting model on test data to find AUC-score for L1 Regularization\n",
    "\n",
    "sgd_optimal = SGDClassifier(alpha = optimal_alpha)\n",
    "\n",
    "# fitting the model\n",
    "sgd_optimal.fit(sent_vectors_train, Y_train)\n",
    "\n",
    "# predict the response\n",
    "pred_w2v = sgd_optimal.predict(sent_vectors_test)\n",
    "\n",
    "# evaluate accuracy. Using AUC_score as metric to measure accuracy\n",
    "test_auc_w2v = roc_auc_score(Y_test, pred_w2v, average = 'weighted') * float(100)\n",
    "print('\\nThe test AUC-score of the SGDclassifier AvgW2V L1 reg for optimal alpha is %f%%' % (test_auc_w2v))\n"
   ]
  },
  {
   "cell_type": "code",
   "execution_count": 117,
   "metadata": {},
   "outputs": [
    {
     "name": "stdout",
     "output_type": "stream",
     "text": [
      "Test Error for SGDclassifier AvgW2V L1 reg is 0.248%\n"
     ]
    }
   ],
   "source": [
    "# Finding test error\n",
    "test_error_w2v = (1 - roc_auc_score(Y_test, pred_w2v, average = 'weighted')) \n",
    "print(\"Test Error for SGDclassifier AvgW2V L1 reg is %.3f%%\" % (test_error_w2v))"
   ]
  },
  {
   "cell_type": "markdown",
   "metadata": {},
   "source": [
    "### 7.12 Plotting the performance of Train and CV scores for L1 regularization"
   ]
  },
  {
   "cell_type": "code",
   "execution_count": 118,
   "metadata": {},
   "outputs": [
    {
     "data": {
      "image/png": "[encoded data removed]",
      "text/plain": [
       "<Figure size 1080x360 with 1 Axes>"
      ]
     },
     "metadata": {},
     "output_type": "display_data"
    },
    {
     "name": "stdout",
     "output_type": "stream",
     "text": [
      "The CV AUC-score for each alpha value is :  [0.912 0.912 0.912 0.905 0.795 0.5   0.5   0.5   0.5   0.5  ]\n",
      "the Train AUC score for each alpha value is :  [0.912 0.913 0.912 0.905 0.795 0.5   0.5   0.5   0.5   0.5  ]\n"
     ]
    }
   ],
   "source": [
    "# Plotting the performance of CV and Train scores which we got through L1 regularization\n",
    "\n",
    "plt.figure(figsize=(15,5))\n",
    "plt.title(\"ERROR PLOT / Performance Plot\")\n",
    "plt.xlabel('Hyperparamter alpha')\n",
    "plt.ylabel('Scores')\n",
    "plt.plot(model.cv_results_['param_alpha'].data.astype(np.float64), model.cv_results_['mean_train_score'], \n",
    "         linestyle='--', marker='o', color='b', label='Train Score')\n",
    "plt.plot(model.cv_results_['param_alpha'].data.astype(np.float64), model.cv_results_['mean_test_score'], \n",
    "         linestyle='--', marker='*', color='r', label='CV Score')\n",
    "plt.legend()\n",
    "plt.show()\n",
    "\n",
    "print(\"The CV AUC-score for each alpha value is : \", np.round(model.cv_results_['mean_test_score'],3))\n",
    "\n",
    "print(\"the Train AUC score for each alpha value is : \", np.round(model.cv_results_['mean_train_score'],3))\n"
   ]
  },
  {
   "cell_type": "markdown",
   "metadata": {},
   "source": [
    "# 8. TFIDF-W2V"
   ]
  },
  {
   "cell_type": "code",
   "execution_count": 119,
   "metadata": {},
   "outputs": [],
   "source": [
    "model = TfidfVectorizer()\n",
    "tfidf_train_matrix = model.fit_transform(X_train)\n",
    "tfidf_test_matrix = model.transform(X_test)\n",
    "\n",
    "# we are converting a dictionary with word as a key, and the idf as a value\n",
    "dictionary = dict(zip(model.get_feature_names(), list(model.idf_)))\n"
   ]
  },
  {
   "cell_type": "code",
   "execution_count": 120,
   "metadata": {},
   "outputs": [
    {
     "name": "stdout",
     "output_type": "stream",
     "text": [
      "(56000, 82212)\n",
      "(24000, 82212)\n"
     ]
    }
   ],
   "source": [
    "print(tfidf_train_matrix.get_shape()) \n",
    "print(tfidf_test_matrix.get_shape()) \n"
   ]
  },
  {
   "cell_type": "code",
   "execution_count": 121,
   "metadata": {},
   "outputs": [
    {
     "name": "stderr",
     "output_type": "stream",
     "text": [
      "100%|██████████| 56000/56000 [03:48<00:00, 245.45it/s]\n"
     ]
    }
   ],
   "source": [
    "# TF-IDF weighted Word2Vec for Train data\n",
    "\n",
    "tfidf_feat = model.get_feature_names() # tfidf words/col-names\n",
    "# final_tf_idf is the sparse matrix with row= sentence, col=word and cell_val = tfidf\n",
    "\n",
    "tfidf_sent_vectors_train = []; # the tfidf-w2v for each sentence/review is stored in this list\n",
    "row=0;\n",
    "for sent in tqdm(list_of_sent_train): # for each review/sentence \n",
    "    sent_vec = np.zeros(50) # as word vectors are of zero length\n",
    "    weight_sum =0; # num of words with a valid vector in the sentence/review\n",
    "    for word in sent: # for each word in a review/sentence\n",
    "        if word in words_train:\n",
    "            try:\n",
    "                vec = w2v_model_train.wv[word]\n",
    "            # tf_idf = tfidf_train_matrix[row, tfidf_feat.index(word)]\n",
    "            # to reduce the computation we are \n",
    "            # dictionary[word] = idf value of word in whole courpus\n",
    "            # sent.count(word) = tf valeus of word in this review\n",
    "                tf_idf = dictionary[word]*(sent.count(word)/len(sent))\n",
    "                sent_vec += (vec * tf_idf)\n",
    "                weight_sum += tf_idf\n",
    "            except:\n",
    "                pass\n",
    "    if weight_sum != 0:\n",
    "        sent_vec /= weight_sum\n",
    "    tfidf_sent_vectors_train.append(sent_vec)\n",
    "    row += 1"
   ]
  },
  {
   "cell_type": "code",
   "execution_count": 122,
   "metadata": {},
   "outputs": [
    {
     "name": "stderr",
     "output_type": "stream",
     "text": [
      "100%|██████████| 24000/24000 [01:01<00:00, 392.26it/s]\n"
     ]
    }
   ],
   "source": [
    "# TF-IDF weighted Word2Vec for Test data\n",
    "\n",
    "tfidf_feat = model.get_feature_names() # tfidf words/col-names\n",
    "# final_tf_idf is the sparse matrix with row= sentence, col=word and cell_val = tfidf\n",
    "\n",
    "tfidf_sent_vectors_test = []; # the tfidf-w2v for each sentence/review is stored in this list\n",
    "row=0;\n",
    "for sent in tqdm(list_of_sent_test): # for each review/sentence \n",
    "    sent_vec = np.zeros(50) # as word vectors are of zero length\n",
    "    weight_sum =0; # num of words with a valid vector in the sentence/review\n",
    "    for word in sent: # for each word in a review/sentence\n",
    "        if word in words_test:\n",
    "            try:\n",
    "                vec = w2v_model_test.wv[word]\n",
    "                tf_idf = dictionary[word]*(sent.count(word)/len(sent))\n",
    "            #tf_idf = tfidf_test_matrix[row, tfidf_feat.index(word)]\n",
    "                sent_vec += (vec * tf_idf)\n",
    "                weight_sum += tf_idf\n",
    "            except:\n",
    "                pass\n",
    "    if weight_sum != 0:\n",
    "        sent_vec /= weight_sum\n",
    "    tfidf_sent_vectors_test.append(sent_vec)\n",
    "    row += 1"
   ]
  },
  {
   "cell_type": "markdown",
   "metadata": {},
   "source": [
    "### 8.1 Applying Linear Kernel using SGDClassifier on TFIDF-W2V with L2 Regularization"
   ]
  },
  {
   "cell_type": "code",
   "execution_count": 123,
   "metadata": {},
   "outputs": [
    {
     "name": "stdout",
     "output_type": "stream",
     "text": [
      "Model with best parameters is :\n",
      " SGDClassifier(alpha=0.0001, average=False, class_weight='balanced',\n",
      "       epsilon=0.1, eta0=0.0, fit_intercept=True, l1_ratio=0.15,\n",
      "       learning_rate='optimal', loss='hinge', max_iter=1000, n_iter=None,\n",
      "       n_jobs=1, penalty='l2', power_t=0.5, random_state=None,\n",
      "       shuffle=True, tol=None, verbose=0, warm_start=False)\n",
      "The optimal value of alpha(1/C) is : 0.0001\n"
     ]
    }
   ],
   "source": [
    "# Implementing SGD Classifier with Hinge loss to get Linear SVM.\n",
    "from sklearn.linear_model import SGDClassifier\n",
    "from sklearn.model_selection import GridSearchCV\n",
    "\n",
    "# GridsearchCV trains the model on these parmters to find the best one\n",
    "# List of parameters for hyperparameter tuning\n",
    "tuned_parameters = {'alpha': [0.00001, 0.0001, 0.001, 0.01, 0.1, 1, 10, 100, 1000, 10000]} \n",
    "\n",
    "#Using GridSearchCV. Default regularizer is L2. We can change it to L1 using penalty = 'L1'\n",
    "#Now using GridSearchCV, SGD classifier is trained on these list of hyperparameters/values of C.\n",
    "# Scoring is taken as f1_macro.\n",
    "model = GridSearchCV(SGDClassifier(loss = 'hinge', penalty = 'l2', max_iter = 1000, class_weight = 'balanced'), tuned_parameters, scoring = 'roc_auc', n_jobs = -1, cv=5)\n",
    "\n",
    "# model = linear_model.SGDClassifier(loss = 'hinge', penalty = 'l2', tuned_parameters, scoring = 'f1_macro', cv=5, max_iter = 1000)\n",
    "\n",
    "model.fit(tfidf_sent_vectors_train, Y_train)\n",
    "\n",
    "print(\"Model with best parameters is :\\n\", model.best_estimator_)\n",
    "optimal_alpha =  model.best_estimator_.alpha\n",
    "print(\"The optimal value of alpha(1/C) is :\", optimal_alpha)"
   ]
  },
  {
   "cell_type": "code",
   "execution_count": 124,
   "metadata": {},
   "outputs": [
    {
     "name": "stdout",
     "output_type": "stream",
     "text": [
      "0.8284413740467558\n"
     ]
    }
   ],
   "source": [
    "# get the score on test data \n",
    "print(model.score(tfidf_sent_vectors_test, Y_test))  \n"
   ]
  },
  {
   "cell_type": "markdown",
   "metadata": {},
   "source": [
    "### 8.2  Predicting Test score and Test error for TFIDF-W2V with L2 reg"
   ]
  },
  {
   "cell_type": "code",
   "execution_count": 125,
   "metadata": {},
   "outputs": [
    {
     "name": "stdout",
     "output_type": "stream",
     "text": [
      "\n",
      "The test AUC-score of the SGDclassifier TFIDF-W2V with L2 reg for optimal alpha is 72.425701%\n"
     ]
    }
   ],
   "source": [
    "# Predicting model on test data to find AUC-score for L2 Regularization\n",
    "\n",
    "sgd_optimal = SGDClassifier(alpha = optimal_alpha)\n",
    "\n",
    "# fitting the model\n",
    "sgd_optimal.fit(tfidf_sent_vectors_train, Y_train)\n",
    "\n",
    "# predict the response\n",
    "pred_tfidf_w2v = sgd_optimal.predict(tfidf_sent_vectors_test)\n",
    "\n",
    "# evaluate accuracy. Using auc_score as metric to measure accuracy.\n",
    "test_auc_tfidf_w2v = roc_auc_score(Y_test, pred_tfidf_w2v, average = 'weighted') * float(100)\n",
    "print('\\nThe test AUC-score of the SGDclassifier TFIDF-W2V with L2 reg for optimal alpha is %f%%' % (test_auc_tfidf_w2v))\n"
   ]
  },
  {
   "cell_type": "code",
   "execution_count": 126,
   "metadata": {},
   "outputs": [
    {
     "name": "stdout",
     "output_type": "stream",
     "text": [
      "Test Error for SGDclassifier TFIDF-W2V L2 reg is 0.276%\n"
     ]
    }
   ],
   "source": [
    "# Finding test error\n",
    "test_error_tfidf_w2v = (1 - roc_auc_score(Y_test, pred_tfidf_w2v, average = 'weighted')) \n",
    "print(\"Test Error for SGDclassifier TFIDF-W2V L2 reg is %.3f%%\" % (test_error_tfidf_w2v))"
   ]
  },
  {
   "cell_type": "markdown",
   "metadata": {},
   "source": [
    "### 8.3 Plotting the performance of Train and CV scores for L2 regularization TFIDF-W2V"
   ]
  },
  {
   "cell_type": "code",
   "execution_count": 127,
   "metadata": {},
   "outputs": [
    {
     "data": {
      "image/png": "[encoded data removed]",
      "text/plain": [
       "<Figure size 1080x360 with 1 Axes>"
      ]
     },
     "metadata": {},
     "output_type": "display_data"
    },
    {
     "name": "stdout",
     "output_type": "stream",
     "text": [
      "The CV AUC-score for each alpha value is :  [0.887 0.888 0.888 0.887 0.88  0.859 0.855 0.855 0.855 0.855]\n",
      "the Train AUC score for each alpha value is :  [0.888 0.889 0.889 0.887 0.88  0.859 0.855 0.855 0.855 0.855]\n"
     ]
    }
   ],
   "source": [
    "# Plotting the performance of CV and Train scores which we got through L2 regularization\n",
    "\n",
    "plt.figure(figsize=(15,5))\n",
    "plt.title(\"ERROR PLOT / Performance Plot\")\n",
    "plt.xlabel('Hyperparamter Alpha')\n",
    "plt.ylabel('AUC Scores')\n",
    "plt.plot(model.cv_results_['param_alpha'].data.astype(np.float64), model.cv_results_['mean_train_score'], \n",
    "         linestyle='--', marker='o', color='b', label='Train Score')\n",
    "plt.plot(model.cv_results_['param_alpha'].data.astype(np.float64), model.cv_results_['mean_test_score'], \n",
    "         linestyle='--', marker='*', color='r', label='CV Score')\n",
    "plt.legend()\n",
    "plt.show()\n",
    "\n",
    "print(\"The CV AUC-score for each alpha value is : \", np.round(model.cv_results_['mean_test_score'],3))\n",
    "\n",
    "print(\"the Train AUC score for each alpha value is : \", np.round(model.cv_results_['mean_train_score'],3))\n"
   ]
  },
  {
   "cell_type": "markdown",
   "metadata": {},
   "source": [
    "### 8.4 Plotting ROC curve and finding AUC score for TFIDF-W2V"
   ]
  },
  {
   "cell_type": "code",
   "execution_count": 128,
   "metadata": {},
   "outputs": [
    {
     "data": {
      "image/png": "[encoded data removed]",
      "text/plain": [
       "<Figure size 432x288 with 1 Axes>"
      ]
     },
     "metadata": {},
     "output_type": "display_data"
    }
   ],
   "source": [
    "from sklearn.metrics import roc_curve, auc\n",
    "from sklearn.calibration import CalibratedClassifierCV, calibration_curve\n",
    "\n",
    "model_svm = CalibratedClassifierCV(base_estimator = model, method='sigmoid')\n",
    "Y_prob = model_svm.fit(tfidf_sent_vectors_train, Y_train)\n",
    "\n",
    "\n",
    "train_fpr, train_tpr, thresholds = roc_curve(Y_train, Y_prob.predict_proba(tfidf_sent_vectors_train)[:,1])\n",
    "test_fpr, test_tpr, thresholds = roc_curve(Y_test, Y_prob.predict_proba(tfidf_sent_vectors_test)[:,1])\n",
    "\n",
    "roc_auc_train = auc(train_fpr, train_tpr)\n",
    "roc_auc_test = auc(test_fpr, test_tpr)\n",
    "\n",
    "# Plot FPR (on x-axis) v/s TPR (on y-axis)\n",
    "plt.title('ROC Curve for TFIDF-W2V')\n",
    "plt.plot(train_fpr, train_tpr, 'b', label='Train AUC = %0.2f'% roc_auc_train)\n",
    "plt.plot(test_fpr, test_tpr, 'r', label='Test AUC = %0.2f'% roc_auc_test)\n",
    "plt.legend(loc='lower right')\n",
    "plt.plot([0,1],[0,1],'k--')\n",
    "plt.xlim([-0.1,1.2])\n",
    "plt.ylim([-0.1,1.2])\n",
    "plt.ylabel('True Positive Rate')\n",
    "plt.xlabel('False Positive Rate')\n",
    "plt.show()\n"
   ]
  },
  {
   "cell_type": "markdown",
   "metadata": {},
   "source": [
    "### 8.5 Confusion matrix for TFIDF-W2V  Train Data"
   ]
  },
  {
   "cell_type": "code",
   "execution_count": 129,
   "metadata": {},
   "outputs": [
    {
     "name": "stdout",
     "output_type": "stream",
     "text": [
      "Train confusion matrix for TFIDF-W2V\n",
      "[[22500  5570]\n",
      " [ 5824 22106]]\n"
     ]
    }
   ],
   "source": [
    "# Confusion matrix for Train data\n",
    "from sklearn.metrics import confusion_matrix\n",
    "print(\"Train confusion matrix for TFIDF-W2V\")\n",
    "pred_tfidf_w2v_train = sgd_optimal.predict(tfidf_sent_vectors_train)\n",
    "cm = confusion_matrix(Y_train, pred_tfidf_w2v_train)\n",
    "print(cm)"
   ]
  },
  {
   "cell_type": "code",
   "execution_count": 130,
   "metadata": {},
   "outputs": [
    {
     "data": {
      "image/png": "[encoded data removed]",
      "text/plain": [
       "<Figure size 432x288 with 2 Axes>"
      ]
     },
     "metadata": {},
     "output_type": "display_data"
    }
   ],
   "source": [
    "# plot confusion matrix for TFIDF-W2V\n",
    "class_label = [\"negative\", \"positive\"] # create a class label for columns and rows\n",
    "cm = confusion_matrix(Y_train, pred_tfidf_w2v_train) \n",
    "dataframe_cm = pd.DataFrame(cm, index = class_label, columns = class_label) # create a dataframe to plot confusion matrix\n",
    "# A heatmap is a two-dimensional graphical representation of data in seaborn,\n",
    "# where the individual values in a matrix are represented with colors.\n",
    "sns.heatmap(dataframe_cm, annot = True, fmt = \"d\") # annot=true means, write the data value in each cell\n",
    "plt.title(\"Train data Confusion Matrix for TFIDF-W2V\")\n",
    "plt.xlabel(\"Predicted Label\")\n",
    "plt.ylabel(\"True Label\")\n",
    "plt.show()"
   ]
  },
  {
   "cell_type": "markdown",
   "metadata": {},
   "source": [
    "### 8.6 Confusion matrix for TFIDF-W2V Test data"
   ]
  },
  {
   "cell_type": "code",
   "execution_count": 131,
   "metadata": {},
   "outputs": [
    {
     "name": "stdout",
     "output_type": "stream",
     "text": [
      "Test confusion matrix for TFIDF-W2V\n",
      "[[7973 3957]\n",
      " [2653 9417]]\n"
     ]
    }
   ],
   "source": [
    "# Using confusion matrix as a another metric to measure accuracy\n",
    "from sklearn.metrics import confusion_matrix\n",
    "print(\"Test confusion matrix for TFIDF-W2V\")\n",
    "pred_tfidf_w2v_test = sgd_optimal.predict(tfidf_sent_vectors_test)\n",
    "cm = confusion_matrix(Y_test, pred_tfidf_w2v_test) # finding confusion matrix between true data and predicted data\n",
    "print(cm)"
   ]
  },
  {
   "cell_type": "code",
   "execution_count": 132,
   "metadata": {},
   "outputs": [
    {
     "data": {
      "image/png": "[encoded data removed]",
      "text/plain": [
       "<Figure size 432x288 with 2 Axes>"
      ]
     },
     "metadata": {},
     "output_type": "display_data"
    }
   ],
   "source": [
    "# plot confusion matrix for TFIDF-W2V\n",
    "class_label = [\"negative\", \"positive\"] # create a class label for columns and rows\n",
    "cm = confusion_matrix(Y_test, pred_tfidf_w2v_test) \n",
    "dataframe_cm = pd.DataFrame(cm, index = class_label, columns = class_label) # create a dataframe to plot confusion matrix\n",
    "# A heatmap is a two-dimensional graphical representation of data in seaborn,\n",
    "# where the individual values in a matrix are represented with colors.\n",
    "sns.heatmap(dataframe_cm, annot = True, fmt = \"d\") # annot=true means, write the data value in each cell\n",
    "plt.title(\"Test Data Confusion Matrix for TFIDF-W2V\")\n",
    "plt.xlabel(\"Predicted Label\")\n",
    "plt.ylabel(\"True Label\")\n",
    "plt.show()"
   ]
  },
  {
   "cell_type": "markdown",
   "metadata": {},
   "source": [
    "### 8.7 Classification report for TFIDF-W2V"
   ]
  },
  {
   "cell_type": "code",
   "execution_count": 133,
   "metadata": {},
   "outputs": [
    {
     "name": "stdout",
     "output_type": "stream",
     "text": [
      "Accuracy Score: 0.7245833333333334\n",
      "Report:\n",
      "             precision    recall  f1-score   support\n",
      "\n",
      "          0       0.75      0.67      0.71     11930\n",
      "          1       0.70      0.78      0.74     12070\n",
      "\n",
      "avg / total       0.73      0.72      0.72     24000\n",
      "\n"
     ]
    }
   ],
   "source": [
    "# calculate the classification report for TFIDF-W2V\n",
    "from sklearn.metrics import classification_report \n",
    "from sklearn.metrics import accuracy_score\n",
    "\n",
    "print('Accuracy Score:', accuracy_score(Y_test, pred_tfidf_w2v)) \n",
    "print('Report:')\n",
    "print(classification_report(Y_test, pred_tfidf_w2v)) \n"
   ]
  },
  {
   "cell_type": "markdown",
   "metadata": {},
   "source": [
    "## 8.8 L1 Regularization for TFIDF-W2V"
   ]
  },
  {
   "cell_type": "markdown",
   "metadata": {},
   "source": [
    "### 8.9 Building a sparse SGDClassifier by performing GridSearchCV on TFIDF-W2V using L1 Regularization"
   ]
  },
  {
   "cell_type": "code",
   "execution_count": 134,
   "metadata": {},
   "outputs": [
    {
     "name": "stdout",
     "output_type": "stream",
     "text": [
      "Model with best parameters is :\n",
      " SGDClassifier(alpha=0.0001, average=False, class_weight='balanced',\n",
      "       epsilon=0.1, eta0=0.0, fit_intercept=True, l1_ratio=0.15,\n",
      "       learning_rate='optimal', loss='hinge', max_iter=1000, n_iter=None,\n",
      "       n_jobs=1, penalty='l1', power_t=0.5, random_state=None,\n",
      "       shuffle=True, tol=None, verbose=0, warm_start=False)\n",
      "The optimal value of alpha(1/C) is : 0.0001\n"
     ]
    }
   ],
   "source": [
    "# Implementing SGD Classifier with Hinge loss to get Linear SVM.\n",
    "from sklearn.linear_model import SGDClassifier\n",
    "from sklearn.model_selection import GridSearchCV\n",
    "\n",
    "# GridsearchCV trains the model on these parmters to find the best one\n",
    "# List of parameters for hyperparameter tuning\n",
    "tuned_parameters = {'alpha': [0.00001, 0.0001, 0.001, 0.01, 0.1, 1, 10, 100, 1000, 10000]}\n",
    "\n",
    "#Using GridSearchCV. Default regularizer is L2. We can change it to L1 using penalty = 'L1'\n",
    "#Now using GridSearchCV, SGD classifier is trained on these list of hyperparameters/values of C.\n",
    "# Scoring is taken as f1_macro.\n",
    "model = GridSearchCV(SGDClassifier(loss = 'hinge', penalty = 'l1', max_iter = 1000, class_weight = 'balanced'), tuned_parameters, cv=5, scoring = 'roc_auc', n_jobs = -1)\n",
    "# model = linear_model.SGDClassifier(loss = 'hinge', penalty = 'l2', tuned_parameters, scoring = 'f1_macro', cv=5, max_iter = 1000)\n",
    "\n",
    "model.fit(tfidf_sent_vectors_train, Y_train)\n",
    "\n",
    "print(\"Model with best parameters is :\\n\", model.best_estimator_)\n",
    "optimal_alpha =  model.best_estimator_.alpha\n",
    "print(\"The optimal value of alpha(1/C) is :\", optimal_alpha)"
   ]
  },
  {
   "cell_type": "code",
   "execution_count": 135,
   "metadata": {},
   "outputs": [
    {
     "name": "stdout",
     "output_type": "stream",
     "text": [
      "0.8286473880013973\n"
     ]
    }
   ],
   "source": [
    "# get the score on test data \n",
    "print(model.score(tfidf_sent_vectors_test, Y_test))  \n"
   ]
  },
  {
   "cell_type": "markdown",
   "metadata": {},
   "source": [
    "### 8.10 Predicting Test score and Test error for TFIDF-W2V with L1 reg"
   ]
  },
  {
   "cell_type": "code",
   "execution_count": 138,
   "metadata": {},
   "outputs": [
    {
     "name": "stdout",
     "output_type": "stream",
     "text": [
      "\n",
      "The test AUC-score of the SGDclassifier TFIDF-W2V with L1 reg for optimal alpha is 73.334742%\n"
     ]
    }
   ],
   "source": [
    "# Predicting model on test data to find AUC-score for L1 Regularization\n",
    "\n",
    "sgd_optimal = SGDClassifier(alpha = optimal_alpha)\n",
    "\n",
    "# fitting the model\n",
    "sgd_optimal.fit(tfidf_sent_vectors_train, Y_train)\n",
    "\n",
    "# predict the response\n",
    "pred_tfidf_w2v = sgd_optimal.predict(tfidf_sent_vectors_test)\n",
    "\n",
    "# evaluate accuracy. Using AUC_score as metric to measure accuracy\n",
    "test_auc_tfidf_w2v = roc_auc_score(Y_test, pred_tfidf_w2v, average = 'weighted') * float(100)\n",
    "print('\\nThe test AUC-score of the SGDclassifier TFIDF-W2V with L1 reg for optimal alpha is %f%%' % (test_auc_tfidf_w2v))\n"
   ]
  },
  {
   "cell_type": "code",
   "execution_count": 139,
   "metadata": {},
   "outputs": [
    {
     "name": "stdout",
     "output_type": "stream",
     "text": [
      "Test Error for SGDclassifier TFIDF-W2V L1-reg is 0.267%\n"
     ]
    }
   ],
   "source": [
    "# Finding test error\n",
    "test_error_tfidf_w2v = (1 - roc_auc_score(Y_test, pred_tfidf_w2v, average = 'weighted')) \n",
    "print(\"Test Error for SGDclassifier TFIDF-W2V L1-reg is %.3f%%\" % (test_error_tfidf_w2v))"
   ]
  },
  {
   "cell_type": "markdown",
   "metadata": {},
   "source": [
    "### 8.11 Plotting the performance of Train and CV scores for L1 regularization TFIDF-W2V"
   ]
  },
  {
   "cell_type": "code",
   "execution_count": 140,
   "metadata": {},
   "outputs": [
    {
     "data": {
      "image/png": "[encoded data removed]",
      "text/plain": [
       "<Figure size 1080x360 with 1 Axes>"
      ]
     },
     "metadata": {},
     "output_type": "display_data"
    },
    {
     "name": "stdout",
     "output_type": "stream",
     "text": [
      "The CV AUC-score for each alpha value is :  [0.888 0.888 0.888 0.882 0.758 0.5   0.5   0.5   0.5   0.5  ]\n",
      "the Train AUC score for each alpha value is :  [0.888 0.889 0.889 0.882 0.758 0.5   0.5   0.5   0.5   0.5  ]\n"
     ]
    }
   ],
   "source": [
    "# Plotting the performance of CV and Train scores which we got through L1 regularization\n",
    "\n",
    "plt.figure(figsize=(15,5))\n",
    "plt.title(\"ERROR PLOT / Performance Plot\")\n",
    "plt.xlabel('Hyperparamter Alpha')\n",
    "plt.ylabel('AUC Scores')\n",
    "plt.plot(model.cv_results_['param_alpha'].data.astype(np.float64), model.cv_results_['mean_train_score'], \n",
    "         linestyle='--', marker='o', color='b', label='Train Score')\n",
    "plt.plot(model.cv_results_['param_alpha'].data.astype(np.float64), model.cv_results_['mean_test_score'], \n",
    "         linestyle='--', marker='*', color='r', label='CV Score')\n",
    "plt.legend()\n",
    "plt.show()\n",
    "\n",
    "print(\"The CV AUC-score for each alpha value is : \", np.round(model.cv_results_['mean_test_score'],3))\n",
    "\n",
    "print(\"the Train AUC score for each alpha value is : \", np.round(model.cv_results_['mean_train_score'],3))\n"
   ]
  },
  {
   "cell_type": "markdown",
   "metadata": {},
   "source": [
    "## 9. Models Summarization"
   ]
  },
  {
   "cell_type": "code",
   "execution_count": 147,
   "metadata": {},
   "outputs": [],
   "source": [
    "from pandas import DataFrame\n",
    "LinearSVM = {'Vectorizer':['BoW', 'TFIDF', 'AVG-W2V', 'TFIDF-W2V'], 'Model':['Linear SVM','Linear SVM','Linear SVM','Linear SVM'], \n",
    "                       'Hyper parameter Alpha for L1 Reg':['0.0001', '0.00001','0.0001','0.0001'],\n",
    "                       'AUC-score for L1 Reg':['80.67','73.23','75.22','73.33'],\n",
    "                       'Test error for L1 Reg':['0.19','0.26','0.24','0.26'],\n",
    "                       'Hyper parameter Alpha forL2 Reg':['1','10','0.0001','0.0001'],\n",
    "                       'AUC-score for L2 Reg':['86.91','88.42','74.26','72.42'],\n",
    "                       'Test error for L2 Reg':['0.13','0.11','0.25','0.27'],\n",
    "                       'Train AUC Score':['0.98','1.00','0.91','0.89'],\n",
    "                       'Test AUC Score':['0.93','0.96','0.86','0.83']}\n",
    "                       "
   ]
  },
  {
   "cell_type": "code",
   "execution_count": 148,
   "metadata": {},
   "outputs": [
    {
     "data": {
      "text/html": [
       "<div>\n",
       "<style scoped>\n",
       "    .dataframe tbody tr th:only-of-type {\n",
       "        vertical-align: middle;\n",
       "    }\n",
       "\n",
       "    .dataframe tbody tr th {\n",
       "        vertical-align: top;\n",
       "    }\n",
       "\n",
       "    .dataframe thead th {\n",
       "        text-align: right;\n",
       "    }\n",
       "</style>\n",
       "<table border=\"1\" class=\"dataframe\">\n",
       "  <thead>\n",
       "    <tr style=\"text-align: right;\">\n",
       "      <th></th>\n",
       "      <th>Vectorizer</th>\n",
       "      <th>Model</th>\n",
       "      <th>Hyper parameter Alpha for L1 Reg</th>\n",
       "      <th>AUC-score for L1 Reg</th>\n",
       "      <th>Test error for L1 Reg</th>\n",
       "      <th>Hyper parameter Alpha forL2 Reg</th>\n",
       "      <th>AUC-score for L2 Reg</th>\n",
       "      <th>Test error for L2 Reg</th>\n",
       "      <th>Train AUC Score</th>\n",
       "      <th>Test AUC Score</th>\n",
       "    </tr>\n",
       "  </thead>\n",
       "  <tbody>\n",
       "    <tr>\n",
       "      <th>0</th>\n",
       "      <td>BoW</td>\n",
       "      <td>Linear SVM</td>\n",
       "      <td>0.0001</td>\n",
       "      <td>80.67</td>\n",
       "      <td>0.19</td>\n",
       "      <td>1</td>\n",
       "      <td>86.91</td>\n",
       "      <td>0.13</td>\n",
       "      <td>0.98</td>\n",
       "      <td>0.93</td>\n",
       "    </tr>\n",
       "    <tr>\n",
       "      <th>1</th>\n",
       "      <td>TFIDF</td>\n",
       "      <td>Linear SVM</td>\n",
       "      <td>0.00001</td>\n",
       "      <td>73.23</td>\n",
       "      <td>0.26</td>\n",
       "      <td>10</td>\n",
       "      <td>88.42</td>\n",
       "      <td>0.11</td>\n",
       "      <td>1.00</td>\n",
       "      <td>0.96</td>\n",
       "    </tr>\n",
       "    <tr>\n",
       "      <th>2</th>\n",
       "      <td>AVG-W2V</td>\n",
       "      <td>Linear SVM</td>\n",
       "      <td>0.0001</td>\n",
       "      <td>75.22</td>\n",
       "      <td>0.24</td>\n",
       "      <td>0.0001</td>\n",
       "      <td>74.26</td>\n",
       "      <td>0.25</td>\n",
       "      <td>0.91</td>\n",
       "      <td>0.86</td>\n",
       "    </tr>\n",
       "    <tr>\n",
       "      <th>3</th>\n",
       "      <td>TFIDF-W2V</td>\n",
       "      <td>Linear SVM</td>\n",
       "      <td>0.0001</td>\n",
       "      <td>73.33</td>\n",
       "      <td>0.26</td>\n",
       "      <td>0.0001</td>\n",
       "      <td>72.42</td>\n",
       "      <td>0.27</td>\n",
       "      <td>0.89</td>\n",
       "      <td>0.83</td>\n",
       "    </tr>\n",
       "  </tbody>\n",
       "</table>\n",
       "</div>"
      ],
      "text/plain": [
       "  Vectorizer       Model Hyper parameter Alpha for L1 Reg  \\\n",
       "0        BoW  Linear SVM                           0.0001   \n",
       "1      TFIDF  Linear SVM                          0.00001   \n",
       "2    AVG-W2V  Linear SVM                           0.0001   \n",
       "3  TFIDF-W2V  Linear SVM                           0.0001   \n",
       "\n",
       "  AUC-score for L1 Reg Test error for L1 Reg Hyper parameter Alpha forL2 Reg  \\\n",
       "0                80.67                  0.19                               1   \n",
       "1                73.23                  0.26                              10   \n",
       "2                75.22                  0.24                          0.0001   \n",
       "3                73.33                  0.26                          0.0001   \n",
       "\n",
       "  AUC-score for L2 Reg Test error for L2 Reg Train AUC Score Test AUC Score  \n",
       "0                86.91                  0.13            0.98           0.93  \n",
       "1                88.42                  0.11            1.00           0.96  \n",
       "2                74.26                  0.25            0.91           0.86  \n",
       "3                72.42                  0.27            0.89           0.83  "
      ]
     },
     "execution_count": 148,
     "metadata": {},
     "output_type": "execute_result"
    }
   ],
   "source": [
    "Final_conclusions = DataFrame(LinearSVM)\n",
    "Final_conclusions"
   ]
  },
  {
   "cell_type": "markdown",
   "metadata": {},
   "source": [
    "## [10] Conclusions:-\n",
    "\n",
    "1. From the above observations we can say that, AUC-score is better for Linear SVM using L2 Regularization for BoW and TFIDF than the other featurizations. \n",
    "2. The Train and Test AUC score which I got from ROC curve are good for all featurizations, but are much better for BoW and TFIDF \n",
    "3. Out of all 4 featurizations trained by Linear SVM using SGDClassifier with hinge loss, BoW and TFIDF are working well on unseen data."
   ]
  }
 ],
 "metadata": {
  "kernelspec": {
   "display_name": "Python 3",
   "language": "python",
   "name": "python3"
  },
  "language_info": {
   "codemirror_mode": {
    "name": "ipython",
    "version": 3
   },
   "file_extension": ".py",
   "mimetype": "text/x-python",
   "name": "python",
   "nbconvert_exporter": "python",
   "pygments_lexer": "ipython3",
   "version": "3.6.5"
  }
 },
 "nbformat": 4,
 "nbformat_minor": 2
}

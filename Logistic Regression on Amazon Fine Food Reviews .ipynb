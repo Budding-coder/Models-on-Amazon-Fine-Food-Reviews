{
 "cells": [
  {
   "cell_type": "markdown",
   "metadata": {},
   "source": [
    "# Amazon Fine Food Reviews Analysis - Logistic Regression\n",
    "\n",
    "\n",
    "Data Source: https://www.kaggle.com/snap/amazon-fine-food-reviews <br>\n",
    "\n",
    "\n",
    "The Amazon Fine Food Reviews dataset consists of reviews of fine foods from Amazon.<br>\n",
    "\n",
    "Number of reviews: 568,454<br>\n",
    "Number of users: 256,059<br>\n",
    "Number of products: 74,258<br>\n",
    "Timespan: Oct 1999 - Oct 2012<br>\n",
    "Number of Attributes/Columns in data: 10 \n",
    "\n",
    "Attribute Information:\n",
    "\n",
    "1. Id\n",
    "2. ProductId - unique identifier for the product\n",
    "3. UserId - unqiue identifier for the user\n",
    "4. ProfileName\n",
    "5. HelpfulnessNumerator - number of users who found the review helpful\n",
    "6. HelpfulnessDenominator - number of users who indicated whether they found the review helpful or not\n",
    "7. Score - rating between 1 and 5\n",
    "8. Time - timestamp for the review\n",
    "9. Summary - brief summary of the review\n",
    "10. Text - text of the review\n",
    "\n",
    "\n",
    "#### Objective:\n",
    "Given a review, determine whether the review is positive (rating of 4 or 5) or negative (rating of 1 or 2).\n",
    "\n",
    "<br>\n",
    "[Q] How to determine if a review is positive or negative?<br>\n",
    "<br> \n",
    "[Ans] We could use Score/Rating. A rating of 4 or 5 can be cosnidered as a positive review. A rating of 1 or 2 can be considered as negative one. A review of rating 3 is considered nuetral and such reviews are ignored from our analysis. This is an approximate and proxy way of determining the polarity (positivity/negativity) of a review.\n",
    "\n",
    "In this assignment I perform,\n",
    "\n",
    "1. All the Data cleaning and Text Preprocessing steps on the Amazon reviews.\n",
    "\n",
    "Once the data cleaning is done, we perform the following steps:\n"
   ]
  },
  {
   "cell_type": "markdown",
   "metadata": {},
   "source": [
    "# [1]. Reading Data"
   ]
  },
  {
   "cell_type": "markdown",
   "metadata": {},
   "source": [
    "## [1.1] Loading the data\n",
    "\n",
    "The dataset is available in two forms\n",
    "1. .csv file\n",
    "2. SQLite Database\n",
    "\n",
    "In order to load the data, We have used the SQLITE dataset as it is easier to query the data and visualise the data efficiently.\n",
    "<br> \n",
    "\n",
    "Here as we only want to get the global sentiment of the recommendations (positive or negative), we will purposefully ignore all Scores equal to 3. If the score is above 3, then the recommendation wil be set to \"positive\". Otherwise, it will be set to \"negative\"."
   ]
  },
  {
   "cell_type": "code",
   "execution_count": 1,
   "metadata": {},
   "outputs": [],
   "source": [
    "%matplotlib inline\n",
    "import warnings\n",
    "warnings.filterwarnings(\"ignore\")"
   ]
  },
  {
   "cell_type": "code",
   "execution_count": 227,
   "metadata": {},
   "outputs": [],
   "source": [
    "\n",
    "import sqlite3\n",
    "import pandas as pd\n",
    "import numpy as np\n",
    "import nltk\n",
    "import string\n",
    "import matplotlib.pyplot as plt\n",
    "import seaborn as sns\n",
    "from sklearn.feature_extraction.text import TfidfTransformer\n",
    "from sklearn.feature_extraction.text import TfidfVectorizer\n",
    "\n",
    "from sklearn.feature_extraction.text import CountVectorizer\n",
    "from sklearn.metrics import confusion_matrix\n",
    "from sklearn import metrics\n",
    "from sklearn.metrics import roc_curve, auc\n",
    "from nltk.stem.porter import PorterStemmer\n",
    "\n",
    "import re\n",
    "# Tutorial about Python regular expressions: https://pymotw.com/2/re/\n",
    "import string\n",
    "from nltk.corpus import stopwords\n",
    "from nltk.stem import PorterStemmer\n",
    "from nltk.stem.wordnet import WordNetLemmatizer\n",
    "\n",
    "from gensim.models import Word2Vec\n",
    "from gensim.models import KeyedVectors\n",
    "import pickle\n",
    "\n",
    "import os"
   ]
  },
  {
   "cell_type": "code",
   "execution_count": 3,
   "metadata": {},
   "outputs": [
    {
     "name": "stdout",
     "output_type": "stream",
     "text": [
      "Number of data points in our data (525814, 10)\n"
     ]
    },
    {
     "data": {
      "text/html": [
       "<div>\n",
       "<style scoped>\n",
       "    .dataframe tbody tr th:only-of-type {\n",
       "        vertical-align: middle;\n",
       "    }\n",
       "\n",
       "    .dataframe tbody tr th {\n",
       "        vertical-align: top;\n",
       "    }\n",
       "\n",
       "    .dataframe thead th {\n",
       "        text-align: right;\n",
       "    }\n",
       "</style>\n",
       "<table border=\"1\" class=\"dataframe\">\n",
       "  <thead>\n",
       "    <tr style=\"text-align: right;\">\n",
       "      <th></th>\n",
       "      <th>Id</th>\n",
       "      <th>ProductId</th>\n",
       "      <th>UserId</th>\n",
       "      <th>ProfileName</th>\n",
       "      <th>HelpfulnessNumerator</th>\n",
       "      <th>HelpfulnessDenominator</th>\n",
       "      <th>Score</th>\n",
       "      <th>Time</th>\n",
       "      <th>Summary</th>\n",
       "      <th>Text</th>\n",
       "    </tr>\n",
       "  </thead>\n",
       "  <tbody>\n",
       "    <tr>\n",
       "      <th>0</th>\n",
       "      <td>1</td>\n",
       "      <td>B001E4KFG0</td>\n",
       "      <td>A3SGXH7AUHU8GW</td>\n",
       "      <td>delmartian</td>\n",
       "      <td>1</td>\n",
       "      <td>1</td>\n",
       "      <td>positive</td>\n",
       "      <td>1303862400</td>\n",
       "      <td>Good Quality Dog Food</td>\n",
       "      <td>I have bought several of the Vitality canned d...</td>\n",
       "    </tr>\n",
       "    <tr>\n",
       "      <th>1</th>\n",
       "      <td>2</td>\n",
       "      <td>B00813GRG4</td>\n",
       "      <td>A1D87F6ZCVE5NK</td>\n",
       "      <td>dll pa</td>\n",
       "      <td>0</td>\n",
       "      <td>0</td>\n",
       "      <td>negative</td>\n",
       "      <td>1346976000</td>\n",
       "      <td>Not as Advertised</td>\n",
       "      <td>Product arrived labeled as Jumbo Salted Peanut...</td>\n",
       "    </tr>\n",
       "    <tr>\n",
       "      <th>2</th>\n",
       "      <td>3</td>\n",
       "      <td>B000LQOCH0</td>\n",
       "      <td>ABXLMWJIXXAIN</td>\n",
       "      <td>Natalia Corres \"Natalia Corres\"</td>\n",
       "      <td>1</td>\n",
       "      <td>1</td>\n",
       "      <td>positive</td>\n",
       "      <td>1219017600</td>\n",
       "      <td>\"Delight\" says it all</td>\n",
       "      <td>This is a confection that has been around a fe...</td>\n",
       "    </tr>\n",
       "    <tr>\n",
       "      <th>3</th>\n",
       "      <td>4</td>\n",
       "      <td>B000UA0QIQ</td>\n",
       "      <td>A395BORC6FGVXV</td>\n",
       "      <td>Karl</td>\n",
       "      <td>3</td>\n",
       "      <td>3</td>\n",
       "      <td>negative</td>\n",
       "      <td>1307923200</td>\n",
       "      <td>Cough Medicine</td>\n",
       "      <td>If you are looking for the secret ingredient i...</td>\n",
       "    </tr>\n",
       "    <tr>\n",
       "      <th>4</th>\n",
       "      <td>5</td>\n",
       "      <td>B006K2ZZ7K</td>\n",
       "      <td>A1UQRSCLF8GW1T</td>\n",
       "      <td>Michael D. Bigham \"M. Wassir\"</td>\n",
       "      <td>0</td>\n",
       "      <td>0</td>\n",
       "      <td>positive</td>\n",
       "      <td>1350777600</td>\n",
       "      <td>Great taffy</td>\n",
       "      <td>Great taffy at a great price.  There was a wid...</td>\n",
       "    </tr>\n",
       "  </tbody>\n",
       "</table>\n",
       "</div>"
      ],
      "text/plain": [
       "   Id   ProductId          UserId                      ProfileName  \\\n",
       "0   1  B001E4KFG0  A3SGXH7AUHU8GW                       delmartian   \n",
       "1   2  B00813GRG4  A1D87F6ZCVE5NK                           dll pa   \n",
       "2   3  B000LQOCH0   ABXLMWJIXXAIN  Natalia Corres \"Natalia Corres\"   \n",
       "3   4  B000UA0QIQ  A395BORC6FGVXV                             Karl   \n",
       "4   5  B006K2ZZ7K  A1UQRSCLF8GW1T    Michael D. Bigham \"M. Wassir\"   \n",
       "\n",
       "   HelpfulnessNumerator  HelpfulnessDenominator     Score        Time  \\\n",
       "0                     1                       1  positive  1303862400   \n",
       "1                     0                       0  negative  1346976000   \n",
       "2                     1                       1  positive  1219017600   \n",
       "3                     3                       3  negative  1307923200   \n",
       "4                     0                       0  positive  1350777600   \n",
       "\n",
       "                 Summary                                               Text  \n",
       "0  Good Quality Dog Food  I have bought several of the Vitality canned d...  \n",
       "1      Not as Advertised  Product arrived labeled as Jumbo Salted Peanut...  \n",
       "2  \"Delight\" says it all  This is a confection that has been around a fe...  \n",
       "3         Cough Medicine  If you are looking for the secret ingredient i...  \n",
       "4            Great taffy  Great taffy at a great price.  There was a wid...  "
      ]
     },
     "execution_count": 3,
     "metadata": {},
     "output_type": "execute_result"
    }
   ],
   "source": [
    "# Loading the data\n",
    "# using the SQLite Table to read data.\n",
    "con = sqlite3.connect('I:\\Python\\database.sqlite') \n",
    "#filtering only positive and negative reviews i.e. \n",
    "# not taking into consideration those reviews with Score=3\n",
    "filtered_data = pd.read_sql_query(\"\"\" SELECT * FROM Reviews WHERE Score != 3 \"\"\", con) \n",
    "\n",
    "\n",
    "# Give reviews with Score>3 a positive rating, and reviews with a score<3 a negative rating.\n",
    "def partition(x):\n",
    "    if x < 3:\n",
    "        return 'negative'\n",
    "    return 'positive'\n",
    "\n",
    "#changing reviews with score less than 3 to be positive and vice-versa\n",
    "actualScore = filtered_data['Score']\n",
    "positiveNegative = actualScore.map(partition) \n",
    "filtered_data['Score'] = positiveNegative\n",
    "print(\"Number of data points in our data\", filtered_data.shape)\n",
    "filtered_data.head(5)"
   ]
  },
  {
   "cell_type": "markdown",
   "metadata": {},
   "source": [
    "# 2. Exploratory Data Analysis"
   ]
  },
  {
   "cell_type": "markdown",
   "metadata": {},
   "source": [
    "## [2.1]  Data Cleaning: Deduplication \n",
    "\n",
    "It was necessary to remove duplicates in order to get unbiased results for the analysis of the data. Hence in order to reduce redundancy it's better to eliminate the rows having same parameters.\n",
    "\n",
    "The method used to perform deduplication is that, we first sort the data according to ProductId and then just keep the first similar product review and delete the others. This method ensures that there is only one representative for each product."
   ]
  },
  {
   "cell_type": "code",
   "execution_count": 4,
   "metadata": {},
   "outputs": [
    {
     "name": "stdout",
     "output_type": "stream",
     "text": [
      "Total number of reviews in the dataframe after removing duplicates : (364173, 10)\n"
     ]
    }
   ],
   "source": [
    "#Sorting data according to ProductId in ascending order\n",
    "sorted_data = filtered_data.sort_values('ProductId', axis = 0, ascending = True, inplace=False, kind='quicksort', na_position='last')\n",
    "\n",
    "#Dropping duplicates. It says that find duplicates with {'UserId', 'ProfileName', 'Time', 'Text'} values same. Then it is a duplicate\n",
    "# By using drop_duplicate function we just keep the first product Id of the duplicates and remove the remaining.\n",
    "final_data = sorted_data.drop_duplicates(subset = {'UserId', 'ProfileName', 'Time', 'Text'}, keep = 'first', inplace = False)\n",
    "\n",
    "# Now it prints total reviews after removing duplicates.\n",
    "print('Total number of reviews in the dataframe after removing duplicates :', final_data.shape)"
   ]
  },
  {
   "cell_type": "code",
   "execution_count": 5,
   "metadata": {},
   "outputs": [
    {
     "data": {
      "text/plain": [
       "(364171, 10)"
      ]
     },
     "execution_count": 5,
     "metadata": {},
     "output_type": "execute_result"
    }
   ],
   "source": [
    "# HelpfulnessNumerator should always be less than HelpfulnessDenominator. \n",
    "# So check if any reviews have HelpfulnessNumerator greater than HelpfulnessDenominator and remove them\n",
    "final_data = final_data[final_data.HelpfulnessNumerator <= final_data.HelpfulnessDenominator]\n",
    "\n",
    "final_data.shape"
   ]
  },
  {
   "cell_type": "code",
   "execution_count": 6,
   "metadata": {},
   "outputs": [
    {
     "data": {
      "text/plain": [
       "69.25852107399194"
      ]
     },
     "execution_count": 6,
     "metadata": {},
     "output_type": "execute_result"
    }
   ],
   "source": [
    "#Checking to see how much % of data still remains\n",
    "\n",
    "(final_data['Id'].size*1.0)/(filtered_data['Id'].size*1.0)*100"
   ]
  },
  {
   "cell_type": "code",
   "execution_count": 7,
   "metadata": {},
   "outputs": [
    {
     "name": "stdout",
     "output_type": "stream",
     "text": [
      "(364171, 10)\n"
     ]
    },
    {
     "data": {
      "text/plain": [
       "positive    307061\n",
       "negative     57110\n",
       "Name: Score, dtype: int64"
      ]
     },
     "execution_count": 7,
     "metadata": {},
     "output_type": "execute_result"
    }
   ],
   "source": [
    "# Lets see how many total reviews left\n",
    "print(final_data.shape)\n",
    "\n",
    "#How many positive and negative reviews are present in the dataset?\n",
    "final_data['Score'].value_counts()"
   ]
  },
  {
   "cell_type": "markdown",
   "metadata": {},
   "source": [
    "#### Observation:-\n",
    "\n",
    "From the above output we can see that there are many positive reviews and fewer negative reviews."
   ]
  },
  {
   "cell_type": "markdown",
   "metadata": {},
   "source": [
    "# 3. Text Preprocessing :- Stemming, Stop-word removal and Lemmatization\n",
    "\n",
    "Now that we have finished deduplication our data requires some preprocessing before we go on further with analysis and perform K-NN on Featurizations.\n",
    "\n",
    "1. By removing stop-words, BoW vector will be small and more meaningful\n",
    "2. Lemmatization is a process of breaking a sentence into words. It is language and context dependent\n",
    "\n",
    "Hence in the Preprocessing phase we do the following in the order below:-\n",
    "\n",
    "1. Remove all URL's \n",
    "2. Remove all tags from the strings\n",
    "3. Expanding English language contractions  like, you've -> you have\n",
    "4. Remove any punctuations or limited set of special characters like , or . or # etc.\n",
    "5. Check if the word is made up of english letters and is not alpha-numeric\n",
    "6. Remove words with numbers \n",
    "7. Remove spacial characters\n",
    "4. Check to see if the length of the word is greater than 2 (as it was researched that there is no adjective in 2-letters)\n",
    "5. Convert the words to lowercase\n",
    "6. Remove Stopwords\n",
    "7. Finally Stemming the words which are related, to their stem form/root/base form (Snowball stemmer is used as it is obsereved to be better than Porter Stemming)\n",
    "\n",
    "After which we collect the words used to describe positive and negative reviews"
   ]
  },
  {
   "cell_type": "markdown",
   "metadata": {},
   "source": [
    "## [3.1]  Preprocessing Review Text"
   ]
  },
  {
   "cell_type": "code",
   "execution_count": 8,
   "metadata": {},
   "outputs": [
    {
     "name": "stdout",
     "output_type": "stream",
     "text": [
      "this witty little book makes my son laugh at loud. i recite it in the car as we're driving along and he always can sing the refrain. he's learned about whales, India, drooping roses:  i love all the new words this book  introduces and the silliness of it all.  this is a classic book i am  willing to bet my son will STILL be able to recite from memory when he is  in college\n",
      "==================================================\n",
      "I set aside at least an hour each day to read to my son (3 y/o). At this point, I consider myself a connoisseur of children's books and this is one of the best. Santa Clause put this under the tree. Since then, we've read it perpetually and he loves it.<br /><br />First, this book taught him the months of the year.<br /><br />Second, it's a pleasure to read. Well suited to 1.5 y/o old to 4+.<br /><br />Very few children's books are worth owning. Most should be borrowed from the library. This book, however, deserves a permanent spot on your shelf. Sendak's best.\n",
      "==================================================\n",
      "Can't say anything bad about Sugar in the Raw.  I like it better than the other \"natural\" sugars. Better consistency and - I know it doesn't matter - but better color. Unfortunately, one of the \"natural\" paper bags got torn a bit in the box.  It didn't look like the box was damaged so I can't tell how it happened, but it was sort of pain to clean up half a bag that spilled all over the inside of the box and our kitchen when I opened it.  Not sure what the solution is and I'd order it again, but if it happens again, I'd switch to one of the brands that ship in an unnatural plastic bag.\n",
      "==================================================\n",
      "I did some research on just exactly what kind of \"cinnamon\" is actually used in this product because I became concerned when I read a few of the reviews. Eight paragraphs down on the Simply Organics website they state that they use Korintje (Cinnamomum burmanii). To quote the website \"The most commonly found cinnamon in American kitchens is Indonesian cassia. It is sourced from higher elevations and is harvested a bit earlier than Chinese and Vietnamese cinnamons. Korintje translates as \"thick quill\" and is judged for quality based on the part of the tree that is harvested (trunk vs. branch) and on the length of the bark peeled from the tree. We bring you the highest quality Korintje cinnamon available.\"<br /><br />So they DO use Cassia and not the Ceylon, true cinnamon. They also state that Cassia and Cinnamon are not the same, they start with that. Then they end the product description explaining all the health benefits of TRUE CINNAMON, not the Cassia that they are really selling you. I really wish I had known that they used the Cassia, because I would not have bought it. And I do realize that they are trying to confuse you, the consumer into thinking that their product is really good for you. This is why everyone should research the products that they use and inform themselves of what they are consuming!<br /><br />[...]\n",
      "==================================================\n",
      "This pumpkin pie syrup is absolutely delicious!  It made my lattes taste amazing.  Just like liquid pumpkin pie!  I will purchase this product again and again.\n",
      "==================================================\n"
     ]
    }
   ],
   "source": [
    "# printing some random reviews\n",
    "sent_0 = final_data['Text'].values[0]\n",
    "print(sent_0)\n",
    "print(\"=\"*50)\n",
    "\n",
    "sent_6 = final_data['Text'].values[6]\n",
    "print(sent_6)\n",
    "print(\"=\"*50)\n",
    "\n",
    "sent_100000 = final_data['Text'].values[100000]\n",
    "print(sent_100000)\n",
    "print(\"=\"*50)\n",
    "\n",
    "sent_200500 = final_data['Text'].values[200500]\n",
    "print(sent_200500)\n",
    "print(\"=\"*50)\n",
    "\n",
    "sent_364000 = final_data['Text'].values[364000]\n",
    "print(sent_364000)\n",
    "print(\"=\"*50)"
   ]
  },
  {
   "cell_type": "code",
   "execution_count": 9,
   "metadata": {},
   "outputs": [
    {
     "name": "stdout",
     "output_type": "stream",
     "text": [
      "Can't say anything bad about Sugar in the Raw.  I like it better than the other \"natural\" sugars. Better consistency and - I know it doesn't matter - but better color. Unfortunately, one of the \"natural\" paper bags got torn a bit in the box.  It didn't look like the box was damaged so I can't tell how it happened, but it was sort of pain to clean up half a bag that spilled all over the inside of the box and our kitchen when I opened it.  Not sure what the solution is and I'd order it again, but if it happens again, I'd switch to one of the brands that ship in an unnatural plastic bag.\n"
     ]
    }
   ],
   "source": [
    "# Remove urls from text ----  https://stackoverflow.com/a/40823105/4084039\n",
    "import re\n",
    "sent_0 = re.sub(r\"http\\S+\", \"\", sent_0)\n",
    "sent_100000 = re.sub(r\"http\\S+\", \"\", sent_100000)\n",
    "sent_200500 = re.sub(r\"http\\S+\", \"\", sent_200500)\n",
    "sent_364000 = re.sub(r\"http\\S+\", \"\", sent_364000)\n",
    "\n",
    "print(sent_100000)\n"
   ]
  },
  {
   "cell_type": "code",
   "execution_count": 10,
   "metadata": {},
   "outputs": [
    {
     "name": "stdout",
     "output_type": "stream",
     "text": [
      "this witty little book makes my son laugh at loud. i recite it in the car as we're driving along and he always can sing the refrain. he's learned about whales, India, drooping roses:  i love all the new words this book  introduces and the silliness of it all.  this is a classic book i am  willing to bet my son will STILL be able to recite from memory when he is  in college\n",
      "==================================================\n",
      "I set aside at least an hour each day to read to my son (3 y/o). At this point, I consider myself a connoisseur of children's books and this is one of the best. Santa Clause put this under the tree. Since then, we've read it perpetually and he loves it.First, this book taught him the months of the year.Second, it's a pleasure to read. Well suited to 1.5 y/o old to 4+.Very few children's books are worth owning. Most should be borrowed from the library. This book, however, deserves a permanent spot on your shelf. Sendak's best.\n",
      "==================================================\n",
      "Can't say anything bad about Sugar in the Raw.  I like it better than the other \"natural\" sugars. Better consistency and - I know it doesn't matter - but better color. Unfortunately, one of the \"natural\" paper bags got torn a bit in the box.  It didn't look like the box was damaged so I can't tell how it happened, but it was sort of pain to clean up half a bag that spilled all over the inside of the box and our kitchen when I opened it.  Not sure what the solution is and I'd order it again, but if it happens again, I'd switch to one of the brands that ship in an unnatural plastic bag.\n",
      "==================================================\n",
      "I did some research on just exactly what kind of \"cinnamon\" is actually used in this product because I became concerned when I read a few of the reviews. Eight paragraphs down on the Simply Organics website they state that they use Korintje (Cinnamomum burmanii). To quote the website \"The most commonly found cinnamon in American kitchens is Indonesian cassia. It is sourced from higher elevations and is harvested a bit earlier than Chinese and Vietnamese cinnamons. Korintje translates as \"thick quill\" and is judged for quality based on the part of the tree that is harvested (trunk vs. branch) and on the length of the bark peeled from the tree. We bring you the highest quality Korintje cinnamon available.\"So they DO use Cassia and not the Ceylon, true cinnamon. They also state that Cassia and Cinnamon are not the same, they start with that. Then they end the product description explaining all the health benefits of TRUE CINNAMON, not the Cassia that they are really selling you. I really wish I had known that they used the Cassia, because I would not have bought it. And I do realize that they are trying to confuse you, the consumer into thinking that their product is really good for you. This is why everyone should research the products that they use and inform themselves of what they are consuming![...]\n",
      "==================================================\n"
     ]
    }
   ],
   "source": [
    "# Removes all tags from a string --- https://stackoverflow.com/questions/16206380/python-beautifulsoup-how-to-remove-all-tags-from-an-element\n",
    "from bs4 import BeautifulSoup\n",
    "\n",
    "soup = BeautifulSoup(sent_0, 'lxml')\n",
    "text = soup.get_text()\n",
    "print(text)\n",
    "print(\"=\"*50)\n",
    "\n",
    "soup = BeautifulSoup(sent_6, 'lxml')\n",
    "text = soup.get_text()\n",
    "print(text)\n",
    "print(\"=\"*50)\n",
    "\n",
    "soup = BeautifulSoup(sent_100000, 'lxml')\n",
    "text = soup.get_text()\n",
    "print(text)\n",
    "print(\"=\"*50)\n",
    "\n",
    "soup = BeautifulSoup(sent_200500, 'lxml')\n",
    "text = soup.get_text()\n",
    "print(text)\n",
    "print(\"=\"*50)\n"
   ]
  },
  {
   "cell_type": "code",
   "execution_count": 11,
   "metadata": {},
   "outputs": [],
   "source": [
    "# Expanding English language contractions  like, you've -> you have,  aren't -> are not\n",
    "# https://stackoverflow.com/a/47091490/4084039\n",
    "import re\n",
    "\n",
    "def decontracted(phrase):\n",
    "    # specific\n",
    "    phrase = re.sub(r\"won't\", \"will not\", phrase)\n",
    "    phrase = re.sub(r\"can\\'t\", \"can not\", phrase)\n",
    "    phrase = re.sub(r\"doesn\\'t\", \"does not\", phrase)\n",
    "\n",
    "    # general\n",
    "    phrase = re.sub(r\"n\\'t\", \" not\", phrase)\n",
    "    phrase = re.sub(r\"\\'re\", \" are\", phrase)\n",
    "    phrase = re.sub(r\"\\'s\", \" is\", phrase)\n",
    "    phrase = re.sub(r\"\\'d\", \" would\", phrase)\n",
    "    phrase = re.sub(r\"\\'ll\", \" will\", phrase)\n",
    "    phrase = re.sub(r\"\\'t\", \" not\", phrase)\n",
    "    phrase = re.sub(r\"\\'ve\", \" have\", phrase)\n",
    "    phrase = re.sub(r\"\\'m\", \" am\", phrase)\n",
    "    return phrase"
   ]
  },
  {
   "cell_type": "code",
   "execution_count": 12,
   "metadata": {},
   "outputs": [
    {
     "name": "stdout",
     "output_type": "stream",
     "text": [
      "Ca not say anything bad about Sugar in the Raw.  I like it better than the other \"natural\" sugars. Better consistency and - I know it does not matter - but better color. Unfortunately, one of the \"natural\" paper bags got torn a bit in the box.  It did not look like the box was damaged so I can not tell how it happened, but it was sort of pain to clean up half a bag that spilled all over the inside of the box and our kitchen when I opened it.  Not sure what the solution is and I would order it again, but if it happens again, I would switch to one of the brands that ship in an unnatural plastic bag.\n",
      "==================================================\n"
     ]
    }
   ],
   "source": [
    "sent_100000 = decontracted(sent_100000)\n",
    "print(sent_100000)\n",
    "print(\"=\"*50)"
   ]
  },
  {
   "cell_type": "code",
   "execution_count": 13,
   "metadata": {},
   "outputs": [
    {
     "name": "stdout",
     "output_type": "stream",
     "text": [
      "Ca not say anything bad about Sugar in the Raw  I like it better than the other natural sugars Better consistency and  I know it does not matter  but better color Unfortunately one of the natural paper bags got torn a bit in the box  It did not look like the box was damaged so I can not tell how it happened but it was sort of pain to clean up half a bag that spilled all over the inside of the box and our kitchen when I opened it  Not sure what the solution is and I would order it again but if it happens again I would switch to one of the brands that ship in an unnatural plastic bag\n"
     ]
    }
   ],
   "source": [
    "# Removes punctuations from strings ---  https://stackoverflow.com/questions/265960/best-way-to-strip-punctuation-from-a-string-in-python\n",
    "sent_0 = re.sub(r\"http\\S+\", \"\", sent_0)\n",
    "sent_100000 = re.sub(r'[^\\w\\s]','', sent_100000)\n",
    "sent_200500 = re.sub(r'[^\\w\\s]','', sent_200500)\n",
    "sent_364000 = re.sub(r'[^\\w\\s]','', sent_364000)\n",
    "\n",
    "print(sent_100000)"
   ]
  },
  {
   "cell_type": "code",
   "execution_count": 14,
   "metadata": {},
   "outputs": [
    {
     "name": "stdout",
     "output_type": "stream",
     "text": [
      "I set aside at least an hour each day to read to my son  y/o). At this point, I consider myself a connoisseur of children's books and this is one of the best. Santa Clause put this under the tree. Since then, we've read it perpetually and he loves it.<br /><br />First, this book taught him the months of the year.<br /><br />Second, it's a pleasure to read. Well suited to  y/o old to  /><br />Very few children's books are worth owning. Most should be borrowed from the library. This book, however, deserves a permanent spot on your shelf. Sendak's best.\n"
     ]
    }
   ],
   "source": [
    "#Remove words with numbers  ---- https://stackoverflow.com/a/18082370/4084039\n",
    "sent_6 = re.sub(\"\\S*\\d\\S*\", \"\", sent_6).strip()\n",
    "print(sent_6)"
   ]
  },
  {
   "cell_type": "code",
   "execution_count": 15,
   "metadata": {},
   "outputs": [
    {
     "name": "stdout",
     "output_type": "stream",
     "text": [
      "Ca not say anything bad about Sugar in the Raw I like it better than the other natural sugars Better consistency and I know it does not matter but better color Unfortunately one of the natural paper bags got torn a bit in the box It did not look like the box was damaged so I can not tell how it happened but it was sort of pain to clean up half a bag that spilled all over the inside of the box and our kitchen when I opened it Not sure what the solution is and I would order it again but if it happens again I would switch to one of the brands that ship in an unnatural plastic bag\n"
     ]
    }
   ],
   "source": [
    "#Removes spacial characters --- https://stackoverflow.com/a/5843547/4084039\n",
    "sent_100000 = re.sub('[^A-Za-z0-9]+', ' ', sent_100000)\n",
    "print(sent_100000)"
   ]
  },
  {
   "cell_type": "code",
   "execution_count": 16,
   "metadata": {},
   "outputs": [
    {
     "name": "stdout",
     "output_type": "stream",
     "text": [
      "i did some research on just exactly what kind of cinnamon is actually used in this product because i became concerned when i read a few of the reviews eight paragraphs down on the simply organics website they state that they use korintje cinnamomum burmanii to quote the website the most commonly found cinnamon in american kitchens is indonesian cassia it is sourced from higher elevations and is harvested a bit earlier than chinese and vietnamese cinnamons korintje translates as thick quill and is judged for quality based on the part of the tree that is harvested trunk vs branch and on the length of the bark peeled from the tree we bring you the highest quality korintje cinnamon availablebr br so they do use cassia and not the ceylon true cinnamon they also state that cassia and cinnamon are not the same they start with that then they end the product description explaining all the health benefits of true cinnamon not the cassia that they are really selling you i really wish i had known that they used the cassia because i would not have bought it and i do realize that they are trying to confuse you the consumer into thinking that their product is really good for you this is why everyone should research the products that they use and inform themselves of what they are consumingbr br \n"
     ]
    }
   ],
   "source": [
    "# Converting words into lowercase\n",
    "sent_200500 = sent_200500.lower()\n",
    "print(sent_200500)\n"
   ]
  },
  {
   "cell_type": "code",
   "execution_count": 17,
   "metadata": {},
   "outputs": [],
   "source": [
    "# https://gist.github.com/sebleier/554280\n",
    "# we are removing the words from the stop words list: 'no', 'nor', 'not'\n",
    "# <br /><br /> ==> after the above steps, we are getting \"br br\"\n",
    "# we are including them into stop words list\n",
    "# instead of <br /> if we have <br/> these tags would have revmoved in the 1st step\n",
    "\n",
    "stopwords= set(['br', 'the', 'i', 'me', 'my', 'myself', 'we', 'our', 'ours', 'ourselves', 'you', \"you're\", \"you've\",\\\n",
    "            \"you'll\", \"you'd\", 'your', 'yours', 'yourself', 'yourselves', 'he', 'him', 'his', 'himself', \\\n",
    "            'she', \"she's\", 'her', 'hers', 'herself', 'it', \"it's\", 'its', 'itself', 'they', 'them', 'their',\\\n",
    "            'theirs', 'themselves', 'what', 'which', 'who', 'whom', 'this', 'that', \"that'll\", 'these', 'those', \\\n",
    "            'am', 'is', 'are', 'was', 'were', 'be', 'been', 'being', 'have', 'has', 'had', 'having', 'do', 'does', \\\n",
    "            'did', 'doing', 'a', 'an', 'the', 'and', 'but', 'if', 'or', 'because', 'as', 'until', 'while', 'of', \\\n",
    "            'at', 'by', 'for', 'with', 'about', 'against', 'between', 'into', 'through', 'during', 'before', 'after',\\\n",
    "            'above', 'below', 'to', 'from', 'up', 'down', 'in', 'out', 'on', 'off', 'over', 'under', 'again', 'further',\\\n",
    "            'then', 'once', 'here', 'there', 'when', 'where', 'why', 'how', 'all', 'any', 'both', 'each', 'few', 'more',\\\n",
    "            'most', 'other', 'some', 'such', 'only', 'own', 'same', 'so', 'than', 'too', 'very', \\\n",
    "            's', 't', 'can', 'will', 'just', 'don', \"don't\", 'should', \"should've\", 'now', 'd', 'll', 'm', 'o', 're', \\\n",
    "            've', 'y', 'ain', 'aren', \"aren't\", 'couldn', \"couldn't\", 'didn', \"didn't\", 'doesn', \"doesn't\", 'hadn',\\\n",
    "            \"hadn't\", 'hasn', \"hasn't\", 'haven', \"haven't\", 'isn', \"isn't\", 'ma', 'mightn', \"mightn't\", 'mustn',\\\n",
    "            \"mustn't\", 'needn', \"needn't\", 'shan', \"shan't\", 'shouldn', \"shouldn't\", 'wasn', \"wasn't\", 'weren', \"weren't\", \\\n",
    "            'won', \"won't\", 'wouldn', \"wouldn't\"])"
   ]
  },
  {
   "cell_type": "code",
   "execution_count": 18,
   "metadata": {},
   "outputs": [
    {
     "name": "stderr",
     "output_type": "stream",
     "text": [
      "100%|██████████| 364171/364171 [03:51<00:00, 1574.81it/s]\n"
     ]
    }
   ],
   "source": [
    "# Combining all the above statements \n",
    "from tqdm import tqdm\n",
    "final_strings = []\n",
    "all_positive_words=[] # store words from +ve reviews here\n",
    "all_negative_words=[] # store words from -ve reviews here.\n",
    "s=''\n",
    "# tqdm is for printing the status bar\n",
    "for sentence in tqdm(final_data['Text'].values):\n",
    "    sentence = re.sub(r\"http\\S+\", \"\", sentence)  # To remove urls from text\n",
    "    sentence = BeautifulSoup(sentence, 'lxml').get_text() # To remove all tags from an element\n",
    "    sentence = decontracted(sentence) # Expanding English language contractions  like, you've -> you have,  aren't -> are not\n",
    "    sentence = re.sub(r'[^\\w\\s]','', sentence)\n",
    "    sentence = re.sub(\"\\S*\\d\\S*\", \"\", sentence).strip() # removes words with numbers\n",
    "    sentence = re.sub('[^A-Za-z]+', ' ', sentence) # removes special characters\n",
    "    sentence = sentence.lower()  # Converting words into lowercase\n",
    "    # https://gist.github.com/sebleier/554280\n",
    "    sentence = ' '.join(e.lower() for e in sentence.split() if e.lower() not in stopwords)\n",
    "    final_strings.append(sentence.strip())"
   ]
  },
  {
   "cell_type": "code",
   "execution_count": 19,
   "metadata": {},
   "outputs": [
    {
     "data": {
      "text/plain": [
       "'use marinade weekly basis another flavor lawry really good not spicy overwhelming making good marinade everyone even picky kids not like spicy tastes'"
      ]
     },
     "execution_count": 19,
     "metadata": {},
     "output_type": "execute_result"
    }
   ],
   "source": [
    "final_strings[50000]"
   ]
  },
  {
   "cell_type": "code",
   "execution_count": 20,
   "metadata": {},
   "outputs": [],
   "source": [
    "# store final_data table into an SQlLite table for future.\n",
    "conn = sqlite3.connect('final_data.sqlite')\n",
    "c=conn.cursor()\n",
    "conn.text_factory = str\n",
    "final_data.to_sql('Reviews', conn,  schema=None, if_exists='replace', index=True, index_label=None, chunksize=None, dtype=None)\n"
   ]
  },
  {
   "cell_type": "code",
   "execution_count": 21,
   "metadata": {},
   "outputs": [
    {
     "data": {
      "text/html": [
       "<div>\n",
       "<style scoped>\n",
       "    .dataframe tbody tr th:only-of-type {\n",
       "        vertical-align: middle;\n",
       "    }\n",
       "\n",
       "    .dataframe tbody tr th {\n",
       "        vertical-align: top;\n",
       "    }\n",
       "\n",
       "    .dataframe thead th {\n",
       "        text-align: right;\n",
       "    }\n",
       "</style>\n",
       "<table border=\"1\" class=\"dataframe\">\n",
       "  <thead>\n",
       "    <tr style=\"text-align: right;\">\n",
       "      <th></th>\n",
       "      <th>Id</th>\n",
       "      <th>ProductId</th>\n",
       "      <th>UserId</th>\n",
       "      <th>ProfileName</th>\n",
       "      <th>HelpfulnessNumerator</th>\n",
       "      <th>HelpfulnessDenominator</th>\n",
       "      <th>Score</th>\n",
       "      <th>Time</th>\n",
       "      <th>Summary</th>\n",
       "      <th>Text</th>\n",
       "      <th>CleanedText</th>\n",
       "    </tr>\n",
       "  </thead>\n",
       "  <tbody>\n",
       "    <tr>\n",
       "      <th>138706</th>\n",
       "      <td>150524</td>\n",
       "      <td>0006641040</td>\n",
       "      <td>ACITT7DI6IDDL</td>\n",
       "      <td>shari zychinski</td>\n",
       "      <td>0</td>\n",
       "      <td>0</td>\n",
       "      <td>positive</td>\n",
       "      <td>939340800</td>\n",
       "      <td>EVERY book is educational</td>\n",
       "      <td>this witty little book makes my son laugh at l...</td>\n",
       "      <td>witty little book makes son laugh loud recite ...</td>\n",
       "    </tr>\n",
       "    <tr>\n",
       "      <th>138688</th>\n",
       "      <td>150506</td>\n",
       "      <td>0006641040</td>\n",
       "      <td>A2IW4PEEKO2R0U</td>\n",
       "      <td>Tracy</td>\n",
       "      <td>1</td>\n",
       "      <td>1</td>\n",
       "      <td>positive</td>\n",
       "      <td>1194739200</td>\n",
       "      <td>Love the book, miss the hard cover version</td>\n",
       "      <td>I grew up reading these Sendak books, and watc...</td>\n",
       "      <td>grew reading sendak books watching really rosi...</td>\n",
       "    </tr>\n",
       "    <tr>\n",
       "      <th>138689</th>\n",
       "      <td>150507</td>\n",
       "      <td>0006641040</td>\n",
       "      <td>A1S4A3IQ2MU7V4</td>\n",
       "      <td>sally sue \"sally sue\"</td>\n",
       "      <td>1</td>\n",
       "      <td>1</td>\n",
       "      <td>positive</td>\n",
       "      <td>1191456000</td>\n",
       "      <td>chicken soup with rice months</td>\n",
       "      <td>This is a fun way for children to learn their ...</td>\n",
       "      <td>fun way children learn months year learn poems...</td>\n",
       "    </tr>\n",
       "  </tbody>\n",
       "</table>\n",
       "</div>"
      ],
      "text/plain": [
       "            Id   ProductId          UserId            ProfileName  \\\n",
       "138706  150524  0006641040   ACITT7DI6IDDL        shari zychinski   \n",
       "138688  150506  0006641040  A2IW4PEEKO2R0U                  Tracy   \n",
       "138689  150507  0006641040  A1S4A3IQ2MU7V4  sally sue \"sally sue\"   \n",
       "\n",
       "        HelpfulnessNumerator  HelpfulnessDenominator     Score        Time  \\\n",
       "138706                     0                       0  positive   939340800   \n",
       "138688                     1                       1  positive  1194739200   \n",
       "138689                     1                       1  positive  1191456000   \n",
       "\n",
       "                                           Summary  \\\n",
       "138706                   EVERY book is educational   \n",
       "138688  Love the book, miss the hard cover version   \n",
       "138689               chicken soup with rice months   \n",
       "\n",
       "                                                     Text  \\\n",
       "138706  this witty little book makes my son laugh at l...   \n",
       "138688  I grew up reading these Sendak books, and watc...   \n",
       "138689  This is a fun way for children to learn their ...   \n",
       "\n",
       "                                              CleanedText  \n",
       "138706  witty little book makes son laugh loud recite ...  \n",
       "138688  grew reading sendak books watching really rosi...  \n",
       "138689  fun way children learn months year learn poems...  "
      ]
     },
     "execution_count": 21,
     "metadata": {},
     "output_type": "execute_result"
    }
   ],
   "source": [
    "final_data['CleanedText'] = final_strings \n",
    "#final_data['CleanedText'] = final_data['CleanedText'].str.decode(\"utf-8\")\n",
    "final_data.shape\n",
    "final_data.head(3)"
   ]
  },
  {
   "cell_type": "code",
   "execution_count": 22,
   "metadata": {},
   "outputs": [
    {
     "name": "stdout",
     "output_type": "stream",
     "text": [
      "positive    307061\n",
      "negative     57110\n",
      "Name: Score, dtype: int64\n"
     ]
    }
   ],
   "source": [
    "print(final_data['Score'].value_counts())"
   ]
  },
  {
   "cell_type": "markdown",
   "metadata": {},
   "source": [
    "## [3.2]  Preprocessing Reviews Summary"
   ]
  },
  {
   "cell_type": "code",
   "execution_count": 23,
   "metadata": {},
   "outputs": [
    {
     "name": "stdout",
     "output_type": "stream",
     "text": [
      "I set aside at least an hour each day to read to my son (3 y/o). At this point, I consider myself a connoisseur of children's books and this is one of the best. Santa Clause put this under the tree. Since then, we've read it perpetually and he loves it.<br /><br />First, this book taught him the months of the year.<br /><br />Second, it's a pleasure to read. Well suited to 1.5 y/o old to 4+.<br /><br />Very few children's books are worth owning. Most should be borrowed from the library. This book, however, deserves a permanent spot on your shelf. Sendak's best.\n",
      "==================================================\n",
      "late delivered, I paid extra charge for faster delivery but is not delivered on the time i've expected it.\n",
      "==================================================\n",
      "We use marinade on a weekly basis, and this is another flavor from Lawry's that is really good.  Not too spicy or overwhelming, making it a good marinade for everyone (even picky kids who don't like spicy tastes).\n",
      "==================================================\n",
      "Great taste and amazing crunch. If you have never experienced the large/deluxe/fancy peanuts and have only had Planters or regular \"salted in the shell\", you are in for a wonderful experience. The intense taste and solid crunch will keep your hand in the can `til they are gone.\n",
      "==================================================\n"
     ]
    }
   ],
   "source": [
    "# printing some random reviews\n",
    "sent_6 = final_data['Text'].values[6]\n",
    "print(sent_6)\n",
    "print(\"=\"*50)\n",
    "\n",
    "sent_5000 = final_data['Text'].values[5000]\n",
    "print(sent_5000)\n",
    "print(\"=\"*50)\n",
    "\n",
    "sent_50000 = final_data['Text'].values[50000]\n",
    "print(sent_50000)\n",
    "print(\"=\"*50)\n",
    "\n",
    "sent_355000 = final_data['Text'].values[355000]\n",
    "print(sent_355000)\n",
    "print(\"=\"*50)"
   ]
  },
  {
   "cell_type": "code",
   "execution_count": 24,
   "metadata": {},
   "outputs": [
    {
     "name": "stdout",
     "output_type": "stream",
     "text": [
      "I set aside at least an hour each day to read to my son (3 y/o). At this point, I consider myself a connoisseur of children's books and this is one of the best. Santa Clause put this under the tree. Since then, we've read it perpetually and he loves it.First, this book taught him the months of the year.Second, it's a pleasure to read. Well suited to 1.5 y/o old to 4+.Very few children's books are worth owning. Most should be borrowed from the library. This book, however, deserves a permanent spot on your shelf. Sendak's best.\n",
      "==================================================\n",
      "late delivered, I paid extra charge for faster delivery but is not delivered on the time i've expected it.\n",
      "==================================================\n",
      "We use marinade on a weekly basis, and this is another flavor from Lawry's that is really good.  Not too spicy or overwhelming, making it a good marinade for everyone (even picky kids who don't like spicy tastes).\n",
      "==================================================\n",
      "Great taste and amazing crunch. If you have never experienced the large/deluxe/fancy peanuts and have only had Planters or regular \"salted in the shell\", you are in for a wonderful experience. The intense taste and solid crunch will keep your hand in the can `til they are gone.\n"
     ]
    }
   ],
   "source": [
    "from bs4 import BeautifulSoup\n",
    "\n",
    "soup = BeautifulSoup(sent_6, 'lxml')\n",
    "text = soup.get_text()\n",
    "print(text)\n",
    "print(\"=\"*50)\n",
    "\n",
    "soup = BeautifulSoup(sent_5000, 'lxml')\n",
    "text = soup.get_text()\n",
    "print(text)\n",
    "print(\"=\"*50)\n",
    "\n",
    "soup = BeautifulSoup(sent_50000, 'lxml')\n",
    "text = soup.get_text()\n",
    "print(text)\n",
    "print(\"=\"*50)\n",
    "\n",
    "soup = BeautifulSoup(sent_355000, 'lxml')\n",
    "text = soup.get_text()\n",
    "print(text)"
   ]
  },
  {
   "cell_type": "code",
   "execution_count": 25,
   "metadata": {},
   "outputs": [],
   "source": [
    "# Expanding English language contractions  like, you've -> you have,  aren't -> are not\n",
    "import re\n",
    "\n",
    "def decontracted(phrase):\n",
    "    # specific\n",
    "    phrase = re.sub(r\"won't\", \"will not\", phrase)\n",
    "    phrase = re.sub(r\"can\\'t\", \"can not\", phrase)\n",
    "\n",
    "    # general\n",
    "    phrase = re.sub(r\"n\\'t\", \" not\", phrase)\n",
    "    phrase = re.sub(r\"\\'re\", \" are\", phrase)\n",
    "    phrase = re.sub(r\"\\'s\", \" is\", phrase)\n",
    "    phrase = re.sub(r\"\\'d\", \" would\", phrase)\n",
    "    phrase = re.sub(r\"\\'ll\", \" will\", phrase)\n",
    "    phrase = re.sub(r\"\\'t\", \" not\", phrase)\n",
    "    phrase = re.sub(r\"\\'ve\", \" have\", phrase)\n",
    "    phrase = re.sub(r\"\\'m\", \" am\", phrase)\n",
    "    return phrase"
   ]
  },
  {
   "cell_type": "code",
   "execution_count": 26,
   "metadata": {},
   "outputs": [
    {
     "name": "stdout",
     "output_type": "stream",
     "text": [
      "I set aside at least an hour each day to read to my son (3 y/o). At this point, I consider myself a connoisseur of children is books and this is one of the best. Santa Clause put this under the tree. Since then, we have read it perpetually and he loves it.<br /><br />First, this book taught him the months of the year.<br /><br />Second, it is a pleasure to read. Well suited to 1.5 y/o old to 4+.<br /><br />Very few children is books are worth owning. Most should be borrowed from the library. This book, however, deserves a permanent spot on your shelf. Sendak is best.\n",
      "==================================================\n"
     ]
    }
   ],
   "source": [
    "sent_6 = decontracted(sent_6)\n",
    "print(sent_6)\n",
    "print(\"=\"*50)"
   ]
  },
  {
   "cell_type": "code",
   "execution_count": 27,
   "metadata": {},
   "outputs": [
    {
     "name": "stdout",
     "output_type": "stream",
     "text": [
      "I set aside at least an hour each day to read to my son  y/o). At this point, I consider myself a connoisseur of children is books and this is one of the best. Santa Clause put this under the tree. Since then, we have read it perpetually and he loves it.<br /><br />First, this book taught him the months of the year.<br /><br />Second, it is a pleasure to read. Well suited to  y/o old to  /><br />Very few children is books are worth owning. Most should be borrowed from the library. This book, however, deserves a permanent spot on your shelf. Sendak is best.\n"
     ]
    }
   ],
   "source": [
    "#remove words with numbers ---- https://stackoverflow.com/a/18082370/4084039\n",
    "sent_6 = re.sub(\"\\S*\\d\\S*\", \"\", sent_6).strip()\n",
    "print(sent_6)"
   ]
  },
  {
   "cell_type": "code",
   "execution_count": 28,
   "metadata": {},
   "outputs": [
    {
     "name": "stdout",
     "output_type": "stream",
     "text": [
      "Great taste and amazing crunch If you have never experienced the large deluxe fancy peanuts and have only had Planters or regular salted in the shell you are in for a wonderful experience The intense taste and solid crunch will keep your hand in the can til they are gone \n"
     ]
    }
   ],
   "source": [
    "#remove spacial character ----- https://stackoverflow.com/a/5843547/4084039\n",
    "sent_355000 = re.sub('[^A-Za-z0-9]+', ' ', sent_355000)\n",
    "print(sent_355000)"
   ]
  },
  {
   "cell_type": "code",
   "execution_count": 29,
   "metadata": {},
   "outputs": [],
   "source": [
    "# https://gist.github.com/sebleier/554280\n",
    "# we are removing the words from the stop words list: 'no', 'nor', 'not'\n",
    "# <br /><br /> ==> after the above steps, we are getting \"br br\"\n",
    "# we are including them into stop words list\n",
    "# instead of <br /> if we have <br/> these tags would have revmoved in the 1st step\n",
    "\n",
    "stopwords= set(['br', 'the', 'i', 'me', 'my', 'myself', 'we', 'our', 'ours', 'ourselves', 'you', \"you're\", \"you've\",\\\n",
    "            \"you'll\", \"you'd\", 'your', 'yours', 'yourself', 'yourselves', 'he', 'him', 'his', 'himself', \\\n",
    "            'she', \"she's\", 'her', 'hers', 'herself', 'it', \"it's\", 'its', 'itself', 'they', 'them', 'their',\\\n",
    "            'theirs', 'themselves', 'what', 'which', 'who', 'whom', 'this', 'that', \"that'll\", 'these', 'those', \\\n",
    "            'am', 'is', 'are', 'was', 'were', 'be', 'been', 'being', 'have', 'has', 'had', 'having', 'do', 'does', \\\n",
    "            'did', 'doing', 'a', 'an', 'the', 'and', 'but', 'if', 'or', 'because', 'as', 'until', 'while', 'of', \\\n",
    "            'at', 'by', 'for', 'with', 'about', 'against', 'between', 'into', 'through', 'during', 'before', 'after',\\\n",
    "            'above', 'below', 'to', 'from', 'up', 'down', 'in', 'out', 'on', 'off', 'over', 'under', 'again', 'further',\\\n",
    "            'then', 'once', 'here', 'there', 'when', 'where', 'why', 'how', 'all', 'any', 'both', 'each', 'few', 'more',\\\n",
    "            'most', 'other', 'some', 'such', 'only', 'own', 'same', 'so', 'than', 'too', 'very', \\\n",
    "            's', 't', 'can', 'will', 'just', 'don', \"don't\", 'should', \"should've\", 'now', 'd', 'll', 'm', 'o', 're', \\\n",
    "            've', 'y', 'ain', 'aren', \"aren't\", 'couldn', \"couldn't\", 'didn', \"didn't\", 'doesn', \"doesn't\", 'hadn',\\\n",
    "            \"hadn't\", 'hasn', \"hasn't\", 'haven', \"haven't\", 'isn', \"isn't\", 'ma', 'mightn', \"mightn't\", 'mustn',\\\n",
    "            \"mustn't\", 'needn', \"needn't\", 'shan', \"shan't\", 'shouldn', \"shouldn't\", 'wasn', \"wasn't\", 'weren', \"weren't\", \\\n",
    "            'won', \"won't\", 'wouldn', \"wouldn't\"])"
   ]
  },
  {
   "cell_type": "code",
   "execution_count": 30,
   "metadata": {
    "scrolled": false
   },
   "outputs": [
    {
     "name": "stderr",
     "output_type": "stream",
     "text": [
      "100%|██████████| 364171/364171 [02:18<00:00, 2629.56it/s]\n"
     ]
    }
   ],
   "source": [
    "# Performing all the preprocessing steps on Summary data.\n",
    "import warnings\n",
    "warnings.filterwarnings('ignore')  # \"error\", \"ignore\", \"always\", \"default\", \"module\" or \"once\"\n",
    "from tqdm import tqdm\n",
    "summary_data = []\n",
    "all_positive_words=[] # store words from +ve reviews here\n",
    "all_negative_words=[] # store words from -ve reviews here.\n",
    "s=''\n",
    "# tqdm is for printing the status bar\n",
    "for sentence in tqdm(final_data['Summary'].values):\n",
    "    sentence = re.sub(r\"http\\S+\", \"\", sentence)  # To remove urls from text\n",
    "    sentence = BeautifulSoup(sentence, 'lxml').get_text() # To remove all tags from an element\n",
    "    sentence = decontracted(sentence) # Expanding English language contractions  like, you've -> you have,  aren't -> are not\n",
    "    sentence = re.sub(r'[^\\w\\s]','', sentence)\n",
    "    sentence = re.sub(\"\\S*\\d\\S*\", \"\", sentence).strip() # removes words with numbers\n",
    "    sentence = re.sub('[^A-Za-z]+', ' ', sentence) # removes special characters\n",
    "    sentence = sentence.lower()  # Converting words into lowercase\n",
    "    # https://gist.github.com/sebleier/554280\n",
    "    sentence = ' '.join(e.lower() for e in sentence.split() if e.lower() not in stopwords)\n",
    "    summary_data.append(sentence.strip())"
   ]
  },
  {
   "cell_type": "code",
   "execution_count": 31,
   "metadata": {},
   "outputs": [
    {
     "data": {
      "text/plain": [
       "'little bitter excellent price'"
      ]
     },
     "execution_count": 31,
     "metadata": {},
     "output_type": "execute_result"
    }
   ],
   "source": [
    "summary_data[15550]"
   ]
  },
  {
   "cell_type": "code",
   "execution_count": 32,
   "metadata": {},
   "outputs": [],
   "source": [
    "# store final_data table into an SQlLite table for future.\n",
    "conn = sqlite3.connect('final_data.sqlite')\n",
    "c=conn.cursor()\n",
    "conn.text_factory = str\n",
    "final_data.to_sql('Reviews', conn,  schema=None, if_exists='replace', index=True, index_label=None, chunksize=None, dtype=None)\n"
   ]
  },
  {
   "cell_type": "code",
   "execution_count": 33,
   "metadata": {},
   "outputs": [
    {
     "data": {
      "text/html": [
       "<div>\n",
       "<style scoped>\n",
       "    .dataframe tbody tr th:only-of-type {\n",
       "        vertical-align: middle;\n",
       "    }\n",
       "\n",
       "    .dataframe tbody tr th {\n",
       "        vertical-align: top;\n",
       "    }\n",
       "\n",
       "    .dataframe thead th {\n",
       "        text-align: right;\n",
       "    }\n",
       "</style>\n",
       "<table border=\"1\" class=\"dataframe\">\n",
       "  <thead>\n",
       "    <tr style=\"text-align: right;\">\n",
       "      <th></th>\n",
       "      <th>Id</th>\n",
       "      <th>ProductId</th>\n",
       "      <th>UserId</th>\n",
       "      <th>ProfileName</th>\n",
       "      <th>HelpfulnessNumerator</th>\n",
       "      <th>HelpfulnessDenominator</th>\n",
       "      <th>Score</th>\n",
       "      <th>Time</th>\n",
       "      <th>Summary</th>\n",
       "      <th>Text</th>\n",
       "      <th>CleanedText</th>\n",
       "      <th>CleanedSummary</th>\n",
       "    </tr>\n",
       "  </thead>\n",
       "  <tbody>\n",
       "    <tr>\n",
       "      <th>138706</th>\n",
       "      <td>150524</td>\n",
       "      <td>0006641040</td>\n",
       "      <td>ACITT7DI6IDDL</td>\n",
       "      <td>shari zychinski</td>\n",
       "      <td>0</td>\n",
       "      <td>0</td>\n",
       "      <td>positive</td>\n",
       "      <td>939340800</td>\n",
       "      <td>EVERY book is educational</td>\n",
       "      <td>this witty little book makes my son laugh at l...</td>\n",
       "      <td>witty little book makes son laugh loud recite ...</td>\n",
       "      <td>every book educational</td>\n",
       "    </tr>\n",
       "    <tr>\n",
       "      <th>138688</th>\n",
       "      <td>150506</td>\n",
       "      <td>0006641040</td>\n",
       "      <td>A2IW4PEEKO2R0U</td>\n",
       "      <td>Tracy</td>\n",
       "      <td>1</td>\n",
       "      <td>1</td>\n",
       "      <td>positive</td>\n",
       "      <td>1194739200</td>\n",
       "      <td>Love the book, miss the hard cover version</td>\n",
       "      <td>I grew up reading these Sendak books, and watc...</td>\n",
       "      <td>grew reading sendak books watching really rosi...</td>\n",
       "      <td>love book miss hard cover version</td>\n",
       "    </tr>\n",
       "    <tr>\n",
       "      <th>138689</th>\n",
       "      <td>150507</td>\n",
       "      <td>0006641040</td>\n",
       "      <td>A1S4A3IQ2MU7V4</td>\n",
       "      <td>sally sue \"sally sue\"</td>\n",
       "      <td>1</td>\n",
       "      <td>1</td>\n",
       "      <td>positive</td>\n",
       "      <td>1191456000</td>\n",
       "      <td>chicken soup with rice months</td>\n",
       "      <td>This is a fun way for children to learn their ...</td>\n",
       "      <td>fun way children learn months year learn poems...</td>\n",
       "      <td>chicken soup rice months</td>\n",
       "    </tr>\n",
       "  </tbody>\n",
       "</table>\n",
       "</div>"
      ],
      "text/plain": [
       "            Id   ProductId          UserId            ProfileName  \\\n",
       "138706  150524  0006641040   ACITT7DI6IDDL        shari zychinski   \n",
       "138688  150506  0006641040  A2IW4PEEKO2R0U                  Tracy   \n",
       "138689  150507  0006641040  A1S4A3IQ2MU7V4  sally sue \"sally sue\"   \n",
       "\n",
       "        HelpfulnessNumerator  HelpfulnessDenominator     Score        Time  \\\n",
       "138706                     0                       0  positive   939340800   \n",
       "138688                     1                       1  positive  1194739200   \n",
       "138689                     1                       1  positive  1191456000   \n",
       "\n",
       "                                           Summary  \\\n",
       "138706                   EVERY book is educational   \n",
       "138688  Love the book, miss the hard cover version   \n",
       "138689               chicken soup with rice months   \n",
       "\n",
       "                                                     Text  \\\n",
       "138706  this witty little book makes my son laugh at l...   \n",
       "138688  I grew up reading these Sendak books, and watc...   \n",
       "138689  This is a fun way for children to learn their ...   \n",
       "\n",
       "                                              CleanedText  \\\n",
       "138706  witty little book makes son laugh loud recite ...   \n",
       "138688  grew reading sendak books watching really rosi...   \n",
       "138689  fun way children learn months year learn poems...   \n",
       "\n",
       "                           CleanedSummary  \n",
       "138706             every book educational  \n",
       "138688  love book miss hard cover version  \n",
       "138689           chicken soup rice months  "
      ]
     },
     "execution_count": 33,
     "metadata": {},
     "output_type": "execute_result"
    }
   ],
   "source": [
    "final_data['CleanedSummary'] = summary_data \n",
    "final_data.shape\n",
    "final_data.head(3)"
   ]
  },
  {
   "cell_type": "code",
   "execution_count": 34,
   "metadata": {},
   "outputs": [
    {
     "name": "stdout",
     "output_type": "stream",
     "text": [
      "positive    307061\n",
      "negative     57110\n",
      "Name: Score, dtype: int64\n"
     ]
    }
   ],
   "source": [
    "print(final_data['Score'].value_counts())"
   ]
  },
  {
   "cell_type": "markdown",
   "metadata": {},
   "source": [
    "# 4. Sample the data from the Dataset"
   ]
  },
  {
   "cell_type": "code",
   "execution_count": 35,
   "metadata": {},
   "outputs": [
    {
     "data": {
      "text/plain": [
       "(100000, 12)"
      ]
     },
     "execution_count": 35,
     "metadata": {},
     "output_type": "execute_result"
    }
   ],
   "source": [
    "# Taking equal sample of negative and positive reviews each 50000, total 100,000 datapoints\n",
    "positive_pts = final_data[final_data['Score'] == 'positive'].sample(n=50000)\n",
    "negative_pts = final_data[final_data['Score'] == 'negative'].sample(n=50000)\n",
    "\n",
    "# Concatenating both positive and negative points\n",
    "total_score = pd.concat([positive_pts, negative_pts])\n",
    "total_score.shape"
   ]
  },
  {
   "cell_type": "markdown",
   "metadata": {},
   "source": [
    "## [4.1]  Time Based Splitting\n",
    "\n",
    "Generally we do random splitting of entire dataset into train, test, cross validate data. With this method we may not get correct accuracy everytime. With time products change and reviews for the product also change, hence with random splitting we may not get best value/accuracy.\n",
    "\n",
    "But for Amazon Food Reviews Dataset Time based splitting is better than Random splittng. We can perform Time based splitting only when we have time feature in our dataset. Cross Validate data is used to find best hyper parameter and Test data is used to find accuracy and we train a model on all these.\n",
    "\n",
    "So Time based splitting gives more accuracy than random splitting, even on the future data when data changes with time. It's preferable to do Time based splitting when time is available.\n",
    "\n",
    "1. For each review in the dataset there is a timestamp. In Time based splitting, we first sort all the data in the dataset in increasing order(ascending) of time.\n",
    "2. Now split 70% of data into Train data and remaining 30% of data into test data.\n"
   ]
  },
  {
   "cell_type": "code",
   "execution_count": 36,
   "metadata": {},
   "outputs": [],
   "source": [
    "# sorting data using time\n",
    "total_score['Time'] = pd.to_datetime(total_score['Time'])\n",
    "total_score = total_score.sort_values(by = 'Time', ascending = True)"
   ]
  },
  {
   "cell_type": "code",
   "execution_count": 37,
   "metadata": {},
   "outputs": [
    {
     "data": {
      "text/html": [
       "<div>\n",
       "<style scoped>\n",
       "    .dataframe tbody tr th:only-of-type {\n",
       "        vertical-align: middle;\n",
       "    }\n",
       "\n",
       "    .dataframe tbody tr th {\n",
       "        vertical-align: top;\n",
       "    }\n",
       "\n",
       "    .dataframe thead th {\n",
       "        text-align: right;\n",
       "    }\n",
       "</style>\n",
       "<table border=\"1\" class=\"dataframe\">\n",
       "  <thead>\n",
       "    <tr style=\"text-align: right;\">\n",
       "      <th></th>\n",
       "      <th>Id</th>\n",
       "      <th>ProductId</th>\n",
       "      <th>UserId</th>\n",
       "      <th>ProfileName</th>\n",
       "      <th>HelpfulnessNumerator</th>\n",
       "      <th>HelpfulnessDenominator</th>\n",
       "      <th>Score</th>\n",
       "      <th>Time</th>\n",
       "      <th>Summary</th>\n",
       "      <th>Text</th>\n",
       "      <th>CleanedText</th>\n",
       "      <th>CleanedSummary</th>\n",
       "    </tr>\n",
       "  </thead>\n",
       "  <tbody>\n",
       "    <tr>\n",
       "      <th>346116</th>\n",
       "      <td>374422</td>\n",
       "      <td>B00004CI84</td>\n",
       "      <td>A1048CYU0OV4O8</td>\n",
       "      <td>Judy L. Eans</td>\n",
       "      <td>2</td>\n",
       "      <td>2</td>\n",
       "      <td>positive</td>\n",
       "      <td>1970-01-01 00:00:00.947376000</td>\n",
       "      <td>GREAT</td>\n",
       "      <td>THIS IS ONE MOVIE THAT SHOULD BE IN YOUR MOVIE...</td>\n",
       "      <td>one movie movie collection filled comedy actio...</td>\n",
       "      <td>great</td>\n",
       "    </tr>\n",
       "    <tr>\n",
       "      <th>346141</th>\n",
       "      <td>374450</td>\n",
       "      <td>B00004CI84</td>\n",
       "      <td>ACJR7EQF9S6FP</td>\n",
       "      <td>Jeremy Robertson</td>\n",
       "      <td>2</td>\n",
       "      <td>3</td>\n",
       "      <td>positive</td>\n",
       "      <td>1970-01-01 00:00:00.951523200</td>\n",
       "      <td>Bettlejuice...Bettlejuice...BETTLEJUICE!</td>\n",
       "      <td>What happens when you say his name three times...</td>\n",
       "      <td>happens say name three times michael keaten st...</td>\n",
       "      <td>bettlejuicebettlejuicebettlejuice</td>\n",
       "    </tr>\n",
       "    <tr>\n",
       "      <th>346078</th>\n",
       "      <td>374383</td>\n",
       "      <td>B00004CI84</td>\n",
       "      <td>A34NBH479RB0E</td>\n",
       "      <td>\"dmab6395\"</td>\n",
       "      <td>0</td>\n",
       "      <td>1</td>\n",
       "      <td>positive</td>\n",
       "      <td>1970-01-01 00:00:00.977184000</td>\n",
       "      <td>FUNNY</td>\n",
       "      <td>I THOUGHT THIS MOVIE WAS SO FUNNY, MICHAEL KEA...</td>\n",
       "      <td>thought movie funny michael keaton beetlejuice...</td>\n",
       "      <td>funny</td>\n",
       "    </tr>\n",
       "    <tr>\n",
       "      <th>138020</th>\n",
       "      <td>149792</td>\n",
       "      <td>B00004S1C6</td>\n",
       "      <td>A3B5QJVM1TLYJG</td>\n",
       "      <td>Dan Crevier</td>\n",
       "      <td>11</td>\n",
       "      <td>12</td>\n",
       "      <td>positive</td>\n",
       "      <td>1970-01-01 00:00:01.003795200</td>\n",
       "      <td>Nice, bright colors!</td>\n",
       "      <td>I bought these to decorate some dia de los mue...</td>\n",
       "      <td>bought decorate dia de los muertos skulls icin...</td>\n",
       "      <td>nice bright colors</td>\n",
       "    </tr>\n",
       "    <tr>\n",
       "      <th>346105</th>\n",
       "      <td>374411</td>\n",
       "      <td>B00004CI84</td>\n",
       "      <td>A1CAA94EOP0J2S</td>\n",
       "      <td>Travis J Smith</td>\n",
       "      <td>4</td>\n",
       "      <td>4</td>\n",
       "      <td>positive</td>\n",
       "      <td>1970-01-01 00:00:01.036022400</td>\n",
       "      <td>Great Comedy</td>\n",
       "      <td>Beetlejuice is the story of ghosts (Alec Baldw...</td>\n",
       "      <td>beetlejuice story ghosts alec baldwin geena da...</td>\n",
       "      <td>great comedy</td>\n",
       "    </tr>\n",
       "  </tbody>\n",
       "</table>\n",
       "</div>"
      ],
      "text/plain": [
       "            Id   ProductId          UserId       ProfileName  \\\n",
       "346116  374422  B00004CI84  A1048CYU0OV4O8      Judy L. Eans   \n",
       "346141  374450  B00004CI84   ACJR7EQF9S6FP  Jeremy Robertson   \n",
       "346078  374383  B00004CI84   A34NBH479RB0E        \"dmab6395\"   \n",
       "138020  149792  B00004S1C6  A3B5QJVM1TLYJG       Dan Crevier   \n",
       "346105  374411  B00004CI84  A1CAA94EOP0J2S    Travis J Smith   \n",
       "\n",
       "        HelpfulnessNumerator  HelpfulnessDenominator     Score  \\\n",
       "346116                     2                       2  positive   \n",
       "346141                     2                       3  positive   \n",
       "346078                     0                       1  positive   \n",
       "138020                    11                      12  positive   \n",
       "346105                     4                       4  positive   \n",
       "\n",
       "                                Time  \\\n",
       "346116 1970-01-01 00:00:00.947376000   \n",
       "346141 1970-01-01 00:00:00.951523200   \n",
       "346078 1970-01-01 00:00:00.977184000   \n",
       "138020 1970-01-01 00:00:01.003795200   \n",
       "346105 1970-01-01 00:00:01.036022400   \n",
       "\n",
       "                                         Summary  \\\n",
       "346116                                     GREAT   \n",
       "346141  Bettlejuice...Bettlejuice...BETTLEJUICE!   \n",
       "346078                                     FUNNY   \n",
       "138020                      Nice, bright colors!   \n",
       "346105                              Great Comedy   \n",
       "\n",
       "                                                     Text  \\\n",
       "346116  THIS IS ONE MOVIE THAT SHOULD BE IN YOUR MOVIE...   \n",
       "346141  What happens when you say his name three times...   \n",
       "346078  I THOUGHT THIS MOVIE WAS SO FUNNY, MICHAEL KEA...   \n",
       "138020  I bought these to decorate some dia de los mue...   \n",
       "346105  Beetlejuice is the story of ghosts (Alec Baldw...   \n",
       "\n",
       "                                              CleanedText  \\\n",
       "346116  one movie movie collection filled comedy actio...   \n",
       "346141  happens say name three times michael keaten st...   \n",
       "346078  thought movie funny michael keaton beetlejuice...   \n",
       "138020  bought decorate dia de los muertos skulls icin...   \n",
       "346105  beetlejuice story ghosts alec baldwin geena da...   \n",
       "\n",
       "                           CleanedSummary  \n",
       "346116                              great  \n",
       "346141  bettlejuicebettlejuicebettlejuice  \n",
       "346078                              funny  \n",
       "138020                 nice bright colors  \n",
       "346105                       great comedy  "
      ]
     },
     "execution_count": 37,
     "metadata": {},
     "output_type": "execute_result"
    }
   ],
   "source": [
    "# display top 5 rows\n",
    "total_score.head(5)"
   ]
  },
  {
   "cell_type": "markdown",
   "metadata": {},
   "source": [
    "## [4.2]  Splitting data into Train and Test data"
   ]
  },
  {
   "cell_type": "code",
   "execution_count": 38,
   "metadata": {},
   "outputs": [],
   "source": [
    "# loading libraries\n",
    "\n",
    "from sklearn.cross_validation import train_test_split\n",
    "from sklearn.metrics import accuracy_score\n",
    "from sklearn.cross_validation import cross_val_score\n",
    "from collections import Counter\n",
    "from sklearn.preprocessing import StandardScaler\n",
    "from sklearn.metrics import accuracy_score\n",
    "from sklearn import cross_validation\n",
    "from sklearn.random_projection import sparse_random_matrix\n",
    "from scipy.sparse import csr_matrix\n"
   ]
  },
  {
   "cell_type": "code",
   "execution_count": 146,
   "metadata": {},
   "outputs": [
    {
     "name": "stdout",
     "output_type": "stream",
     "text": [
      "X_train, Y_train (70000,) (70000,)\n",
      "X_test, Y_test (30000,) (30000,)\n"
     ]
    }
   ],
   "source": [
    "# splitting the data into train, test data\n",
    "X = total_score['CleanedText']\n",
    "Y = total_score['Score']\n",
    "# X = total data, Y = class labels, X_test and Y_test are test data set of 30%\n",
    "# Total score is splitted into Train and test data with 70-30 ratio\n",
    "\n",
    "X_train, X_test, Y_train, Y_test = train_test_split(X, Y, test_size=0.3, random_state=0)\n",
    "\n",
    "print('X_train, Y_train', X_train.shape, Y_train.shape)\n",
    "print('X_test, Y_test', X_test.shape, Y_test.shape)"
   ]
  },
  {
   "cell_type": "markdown",
   "metadata": {},
   "source": [
    "# Logistic Regression:-\n",
    "\n",
    "Logistic Regression is actually a classification technique. \n",
    "Assumption of LR :- Classes/Data are almost/perfectly linearly seperable. So task is to find a plane that seperates the positive points from negative points.\n",
    "\n",
    "##### Cases of LR:-\n",
    "\n",
    "Case 1:- For both positive and negative points if Yi W^t Xi>0 ( Yi = +1(positive) and W^t Xi>0 )then the model LR is correctly classifying the point Xi.\n",
    "\n",
    "Case 2:- If Yi = +1(positive) and W^t Xi<0 then Yi W^t Xi <o , then LR is saying Xi is negative class(-1). Here true class label Yi = +1 and LR = -1, so it is misclassified point.\n",
    "\n",
    "Case 3:- Yi = -1 (negative class), W^t Xi>0, it means LR is saying Xi is positive point. This is also a case of misclassified point where Yi W^t Xi<0. \n",
    "\n",
    "1. We want the classifier to be very good with minimum number of misclassifications or maximum correctly classified points like case 1 ( Yi W^t Xi>0 ) . \n",
    "\n",
    "2. Yi W^t Xi = positive ==> Plane as defined by W correctly classifies Xi. We have to maximize it.\n",
    "    \"     = negative ==> Plane incorrectly classifies Xi. We have to minimize it \n",
    "          \n",
    "3. Sometimes outliers impact the model very badly. We can modify model such that outliers does not impact model. We do it using a technique called Squashing.\n",
    "\n",
    "##### Hyperparameter\n",
    "\n",
    "Lambda is hyperparameter in Logistic Regression. \n",
    "\n",
    "1. If Lambda = 0 , then there is no Regularization term and model will overfit to the training data which means high variance ( Zi goes to infinity )\n",
    "\n",
    "2. If Lambda = large or infinity, then the training data is not used to find best W. Then model will underfit which means high Bias. There will not be loss term.\n",
    "\n",
    "3. We can find best Lambda using Cross Validation. Lambda controls overfitting and underfitting.\n",
    "\n",
    "4. Lambda in LR is a real number, so number of possible values for Lambda are infinity. So one technique to find best lambda is Grid search which is a brute force technique. <br>\n",
    "5. We draw a plot with  list of lambda values on X-axis and CV error or any other metric like accuracy, log-loss, auc, f1 etc on Y-axis. Based on the plot we can know best lambda. <br>\n",
    "6. In Logistic Regression C = 1/Lambda. As C increases ---> Overfit.  As C decreases ---> Underfit. \n",
    "\n",
    "6. In Grid search there is a problem that, as number of hyper parameters increase, the number of times the model needs to be trained increases exponentially. So Grid search is not good when there are lot of hyper parameters like in deep learning where we have many hyper parameters.\n",
    "\n",
    "7. So for this reason there is other technique called Random search, where we randomly pick values in the given interval and plot them to pick the best hyper parameter.\n",
    "\n",
    "8. Random search is good and fast than Grid search when the number of parameters are large. This concept ame from deep learning. All these searching techniques come under Hyper parameter search/optimization.\n",
    "\n",
    "##### L1 & L2 Regularization:-\n",
    "\n",
    "1. In most of the problems in Machine Learning, we have to minimize the loss function over training data + regularization term (L1 & L2) . To avoid overfitting of training data, we are introducing Regularization terms ( L1 & L2 ).\n",
    "\n",
    "2. Both L1 and L2 reg terms work similarly but L1 has an advantage of sparsity over L2. L1 creates sparsity. Solution of LR, which is finding optimal W (W*) is said to be sparse if many Wi's in vector W are zeros. This is called sparsity in LR.\n",
    "\n",
    "3. If we use L1 reg in LR, then all the words of un-important/less-important features becomes zero. If we use L2 reg then the words of less-important features becomes a small but not zero.\n",
    "\n",
    "4. So L1 regularization is often used in LR for sparsity, when we want all the weights of un-important features to become zero.\n",
    "\n",
    "5. When we use two hyper parameters L1 & L2 in LR then it is called Elastic-net formulation of LR.\n",
    "\n",
    "6. 0-1 Loss function:- If a loss-function has 1 for incorrectly classified points and 0 for correctly classified points.\n",
    "\n",
    "7. As 0-1 loss function is not-differentiable, we can approximate it. Such approximation is logistic-loss and by doing this we  get logistic regression. So one approximation to 0-1 loss is logistic loss. \n",
    "\n",
    "8. By haivng different loss functions like logistic loss, hinge loss, exponential loss, squared loss etc, we can get different algorithms like Logistic regression, SVM, AdaBoost, Linear regression etc.  \n",
    "\n",
    "\n",
    "In Logistic Regression it is mandatory to perform feature standardization before training the model on the data because as there are different features with different scales, the scale of the feature could impact the result.\n",
    "\n",
    "Feature/column standardization is also called as mean-centering and scaling.\n",
    "\n",
    "##### Feature Importance:-\n",
    "\n",
    "1. If all the features are independent then we can get feature importance.\n",
    "2. In K-NN we got feature impotance using technique called forward feature selection, as the model does give this inherently.\n",
    "3. In Naive Bayes, we got feature importance using conditional probabilities P(Xi|Y=+1). Using this we got features/words which are important to determine class labels.\n",
    "4. In Logistic regression we can use Wj's( Absolute Weights value of features ) to determine feature importance. \n",
    "5. With feature importance we can get an additional benifit in LR which is Model Interpretability, using which we cna tell the model is sensible or not.\n",
    "\n",
    "##### Collinearity or Multicollinearity:-\n",
    "\n",
    "1. In this case features are not independent and feature weights cannot be used as feature importance values.\n",
    "2. When we have 2 features which can be represented in a linear way where one feature is represented in terms of another features by using two constants Alpha and Beta then those features are called collinear and it is called collinearity.\n",
    "3. Collinearity across multiple features is called Multicollinearity.\n",
    "4. If features are collinear then weight vector can change arbitarily and so weights of the features cannot be used for feature importance. \n",
    "5. So to decide whether weights can be used for feature importance or not, first we have to determine if features are multicollinear or not. So a technique for this is Pertubation technique.\n",
    "6. Pertubation means to shake the values a little by adding small epsilon which is a small noise or error term. This should be done after column standardization. \n",
    "7. Before pertubation we have to train the model and we get weight vectors and after pertubation again we have to train the new model again to get new weight values. If both the before and after pertubation values differ significantly, then we can conclude the features are collinear. Then we  can't use weight values as feature importance.\n",
    "8. But if they differ slightly then we can use weight values for feature importance.\n",
    "9. So checking for multicollinearity is very important in real world"
   ]
  },
  {
   "cell_type": "markdown",
   "metadata": {},
   "source": [
    "# Featurizations"
   ]
  },
  {
   "cell_type": "markdown",
   "metadata": {},
   "source": [
    "## 5. Bag of Words (BoW)\n",
    "\n",
    "1. It is one of the simple technique to convert text to vector.\n",
    "2. Constructs a dictionary with set of all the unique words in the reviews.\n",
    "3. Next construct a vector of size 'd' for d-unique words. Each index corresponds to one word in the dictionary.\n",
    "4. Each word is different dimension in d-dim vector and each cell in vector corresponds to number of times the corresponding word occurs in review.\n",
    "5. There are different BoW. One is Binary BoW - it says that, instead of specifying the count of number of occurances, it will specify whether the word occurs or not. This is also called boolean BoW.\n",
    "6. BoW can be said as number of differing words. BoW is applied after all the preprocessing and data cleaning steps. It just says whether a word is present or not in the text. We get set of words"
   ]
  },
  {
   "cell_type": "code",
   "execution_count": 40,
   "metadata": {},
   "outputs": [
    {
     "name": "stdout",
     "output_type": "stream",
     "text": [
      "the type of count vectorizer  <class 'scipy.sparse.csr.csr_matrix'>\n",
      "the type of count vectorizer  <class 'scipy.sparse.csr.csr_matrix'>\n",
      "(70000, 95408)\n",
      "(30000, 95408)\n",
      "the number of unique words are  95408\n",
      "the number of unique words are  95408\n"
     ]
    }
   ],
   "source": [
    "# BoW\n",
    "# Creating a variable count_vect of CountVectorizer type and inititalizing it.\n",
    "count_vect = CountVectorizer() #in scikit-learn\n",
    "\n",
    "# X_train and X_test data is converted vector and is stored in X_train_bow and X_test_bow\n",
    "X_train_bow = count_vect.fit_transform(X_train)\n",
    "X_test_bow = count_vect.transform(X_test)\n",
    "\n",
    "# sparse matrix - most of the values of any row in a matrix are zero.Such matrices are called sparse matrix and row in the matrix is sparse vector\n",
    "# The more sparse a matrix is, the more efficient is sparse matrix representation technique\n",
    "print(\"the type of count vectorizer \", type(X_train_bow))# gets the type of X_train_bow which is a matrix\n",
    "print(\"the type of count vectorizer \", type(X_test_bow))# gets the type of X_test_bow which is a matrix\n",
    "\n",
    "# gets the shape of the matrix\n",
    "print(X_train_bow.get_shape()) \n",
    "print(X_test_bow.get_shape()) \n",
    "\n",
    "print(\"the number of unique words are \", X_train_bow.get_shape()[1])\n",
    "print(\"the number of unique words are \", X_test_bow.get_shape()[1])\n"
   ]
  },
  {
   "cell_type": "markdown",
   "metadata": {},
   "source": [
    "### [5.1]  Performing GridSearch CV on BoW using f1-score as metric and L2 regularization"
   ]
  },
  {
   "cell_type": "code",
   "execution_count": 41,
   "metadata": {},
   "outputs": [
    {
     "name": "stdout",
     "output_type": "stream",
     "text": [
      "LogisticRegression(C=0.1, class_weight=None, dual=False, fit_intercept=True,\n",
      "          intercept_scaling=1, max_iter=100, multi_class='ovr', n_jobs=1,\n",
      "          penalty='l2', random_state=None, solver='liblinear', tol=0.0001,\n",
      "          verbose=0, warm_start=False)\n"
     ]
    }
   ],
   "source": [
    "#code source--- http://occam.olin.edu/sites/default/files/DataScienceMaterials/machine_learning_lecture_2/Machine%20Learning%20Lecture%202.html\n",
    "# Performing L2 Regularization\n",
    "from sklearn.model_selection import train_test_split\n",
    "from sklearn.linear_model import LogisticRegression\n",
    "from sklearn.model_selection import GridSearchCV\n",
    "\n",
    "# GridsearchCV trains the model on these parmters to find the best one\n",
    "tuned_parameters = [{'C': [0.00001, 0.0001, 0.001, 0.01, 0.1, 1, 10, 100, 1000, 10000]}] # List of parameters for hyperparameter tuning\n",
    "\n",
    "#Using GridSearchCV. Default regularizer is L2. We can change it to L1 using penalty = 'L1', Giving list of parameters for tuning\n",
    "# to find best hyperparameter. Now using GridSearchCV, LR model is trained on these list of hyperparameters/values of C.\n",
    "# Scoring is taken as f1_macro.\n",
    "model = GridSearchCV(LogisticRegression(), tuned_parameters, scoring = 'f1_macro', cv=5)\n",
    "model.fit(X_train_bow, Y_train)\n",
    "\n",
    "\n",
    "# model.best.estimator prints the best hyperparameter we are looking for and it prints the remaining parameters default \n",
    "# as they are, because we performaed GridSearch only for best hyperparameter or C.\n",
    "print(model.best_estimator_) \n"
   ]
  },
  {
   "cell_type": "code",
   "execution_count": 42,
   "metadata": {},
   "outputs": [
    {
     "name": "stdout",
     "output_type": "stream",
     "text": [
      "0.8858661142586597\n"
     ]
    }
   ],
   "source": [
    "# to get the score on test data \n",
    "print(model.score(X_test_bow, Y_test))  \n"
   ]
  },
  {
   "cell_type": "code",
   "execution_count": 43,
   "metadata": {},
   "outputs": [
    {
     "name": "stdout",
     "output_type": "stream",
     "text": [
      "\n",
      "The test f1-score of the Logistic regression classifier for C = 0.1 is 88.561502%\n"
     ]
    }
   ],
   "source": [
    "# Predicting model on test to find f1-score for L2 Regularization\n",
    "from sklearn.metrics import f1_score\n",
    "logisitc_regression_optimal = LogisticRegression(C = 0.1)\n",
    "\n",
    "# fitting the model\n",
    "logisitc_regression_optimal.fit(X_train_bow, Y_train)\n",
    "\n",
    "# predict the response\n",
    "pred_bow = logisitc_regression_optimal.predict(X_test_bow)\n",
    "\n",
    "# evaluate accuracy. Using f1_score as metric to measure accuracy\n",
    "test_f1_bow = f1_score(Y_test, pred_bow, pos_label = 'positive', average = 'binary') * float(100)\n",
    "print('\\nThe test f1-score of the Logistic regression classifier for C = 0.1 is %f%%' % (test_f1_bow))"
   ]
  },
  {
   "cell_type": "code",
   "execution_count": 44,
   "metadata": {},
   "outputs": [
    {
     "name": "stdout",
     "output_type": "stream",
     "text": [
      "Test Error for Logistic regression BoW is 0.114%\n"
     ]
    }
   ],
   "source": [
    "# Finding test error\n",
    "test_error_bow = (1 - f1_score(Y_test, pred_bow, pos_label = 'positive', average = 'binary')) \n",
    "print(\"Test Error for Logistic regression BoW is %.3f%%\" % (test_error_bow))"
   ]
  },
  {
   "cell_type": "markdown",
   "metadata": {},
   "source": [
    "### [5.2]  Plotting the performance of CV and Train scores for L2 regularization"
   ]
  },
  {
   "cell_type": "code",
   "execution_count": 45,
   "metadata": {},
   "outputs": [
    {
     "data": {
      "image/png": "[encoded data removed]",
      "text/plain": [
       "<Figure size 1080x288 with 1 Axes>"
      ]
     },
     "metadata": {},
     "output_type": "display_data"
    },
    {
     "name": "stdout",
     "output_type": "stream",
     "text": [
      "The CV f1-score for each alpha value is :  [0.693 0.767 0.834 0.869 0.882 0.879 0.864 0.853 0.851 0.848]\n",
      "the Train score for each alpha value is :  [0.693 0.769 0.839 0.883 0.919 0.96  0.986 0.99  0.99  0.991]\n"
     ]
    }
   ],
   "source": [
    "# Plotting the performance of CV and Train scores which we got through L2 regularization\n",
    "\n",
    "plt.figure(figsize=(15,4))\n",
    "plt.xlabel('Hyperparamter')\n",
    "plt.ylabel('Scores')\n",
    "plt.plot(model.cv_results_['param_C'].data.astype(np.float64), model.cv_results_['mean_train_score'], \n",
    "         linestyle='--', marker='o', color='b', label='Train Score')\n",
    "plt.plot(model.cv_results_['param_C'].data.astype(np.float64), model.cv_results_['mean_test_score'], \n",
    "         linestyle='--', marker='*', color='r', label='CV Score')\n",
    "plt.legend()\n",
    "plt.show()\n",
    "\n",
    "print(\"The CV f1-score for each alpha value is : \", np.round(model.cv_results_['mean_test_score'],3))\n",
    "\n",
    "print(\"the Train score for each alpha value is : \", np.round(model.cv_results_['mean_train_score'],3))\n"
   ]
  },
  {
   "cell_type": "markdown",
   "metadata": {},
   "source": [
    "### [5.3]  Plotting ROC curve and finding AUC score for BoW"
   ]
  },
  {
   "cell_type": "code",
   "execution_count": 46,
   "metadata": {},
   "outputs": [
    {
     "data": {
      "image/png": "[encoded data removed]",
      "text/plain": [
       "<Figure size 432x288 with 1 Axes>"
      ]
     },
     "metadata": {},
     "output_type": "display_data"
    }
   ],
   "source": [
    "# ROC curve and AUC for BoW\n",
    "from sklearn.metrics import roc_curve, auc\n",
    "# Predicting the probabilities of test data as ROC curve needs probabilities to plot\n",
    "Y_prob = model.fit(X_train_bow, Y_train).predict_proba(X_test_bow)\n",
    "# Giving actual values(Y_test) and predicted probabilities Y_prob\n",
    "# we need to calculate the fpr and tpr for all thresholds of the classification \n",
    "fpr, tpr, thresholds = roc_curve(Y_test, Y_prob[:, 1], pos_label = 'positive')\n",
    "# We calculate the AUC (Area Under Curve)\n",
    "roc_auc = auc(fpr, tpr)\n",
    "    \n",
    "# Plot FPR (on x-axis) v/s TPR (on y-axis)\n",
    "plt.title('Receiver Operating Characteristic')\n",
    "plt.plot(fpr, tpr, 'b', label='AUC = %0.2f'% roc_auc)\n",
    "plt.legend(loc='lower right')\n",
    "plt.plot([0,1],[0,1],'r--')\n",
    "plt.xlim([-0.1,1.2])\n",
    "plt.ylim([-0.1,1.2])\n",
    "plt.ylabel('True Positive Rate')\n",
    "plt.xlabel('False Positive Rate')\n",
    "plt.show()"
   ]
  },
  {
   "cell_type": "markdown",
   "metadata": {},
   "source": [
    "#### Observation:- \n",
    "From the ROC plot, we got the accuracy of 0.95, which shows that the classifier is working well and predicts correctly."
   ]
  },
  {
   "cell_type": "markdown",
   "metadata": {},
   "source": [
    "### [5.4]  Confusion matrix for BoW"
   ]
  },
  {
   "cell_type": "code",
   "execution_count": 47,
   "metadata": {},
   "outputs": [
    {
     "name": "stdout",
     "output_type": "stream",
     "text": [
      "[[13321  1676]\n",
      " [ 1748 13255]]\n"
     ]
    }
   ],
   "source": [
    "# Using confusion matrix as a another metric to measure accuracy\n",
    "from sklearn.metrics import confusion_matrix\n",
    "cm = confusion_matrix(Y_test, pred_bow) # finding confusion matrix between true data and predicted data\n",
    "print(cm)"
   ]
  },
  {
   "cell_type": "code",
   "execution_count": 48,
   "metadata": {},
   "outputs": [
    {
     "data": {
      "image/png": "[encoded data removed]",
      "text/plain": [
       "<Figure size 432x288 with 2 Axes>"
      ]
     },
     "metadata": {},
     "output_type": "display_data"
    }
   ],
   "source": [
    "# plot confusion matrix for BoW\n",
    "class_label = [\"negative\", \"positive\"] # create a class label for columns and rows\n",
    "cm = confusion_matrix(Y_test, pred_bow) \n",
    "dataframe_cm = pd.DataFrame(cm, index = class_label, columns = class_label) # create a dataframe to plot confusion matrix\n",
    "# A heatmap is a two-dimensional graphical representation of data in seaborn,\n",
    "# where the individual values in a matrix are represented with colors.\n",
    "sns.heatmap(dataframe_cm, annot = True, fmt = \"d\") # annot=true means, write the data value in each cell\n",
    "plt.title(\"Confusion Matrix for BoW\")\n",
    "plt.xlabel(\"Predicted Label\")\n",
    "plt.ylabel(\"True Label\")\n",
    "plt.show()"
   ]
  },
  {
   "cell_type": "markdown",
   "metadata": {},
   "source": [
    "#### Observations:-\n",
    "\n",
    "A Confusion matrix is a table that is often used to describe the performance of the classification model on a set of test data. It is also one of the metric to measure accuracy of the model.\n",
    "\n",
    "A confusion matrix is a summary of prediction results on a classification problem. The number of correct and incorrect predictions are summarized with count values and broken down by each class. The confusion matrix shows how the classification model is confused when it makes predictions.\n",
    "\n",
    "The above confusion matrix is didvided into 2 classes positive and negative with True values and predicted values.\n",
    "\n",
    "    TN - 13321  FP - 1676\n",
    "\n",
    "    FN - 1748 , TP - 13255\n",
    "\n",
    "    where\n",
    "\n",
    "    TN - True negative, True value is negative, and is predicted value is negative.\n",
    "    FP - False positive, True value is negative, but is predicted as positive.\n",
    "    FN - False negative, True value is positive, but is predicted as negative\n",
    "    TP - True positive, True value is positive, and is predicted value is positive.\n",
    "\n",
    "1. There are total of 30000 points being tested against the model. Out of all values, the classifier/model predicted points as positive 14,931 times and negative 15,069 times.\n",
    "2. But in true values(test data), the positive points are 15,003 and negative points are 14,997.\n",
    "3. The diagonal values (13321 negative points, 13255 positive points) in the confusion matrix are correctly predicted values by the classifier.\n",
    "\n"
   ]
  },
  {
   "cell_type": "markdown",
   "metadata": {},
   "source": [
    "#### Finding TPR, FPR, TNR, FNR values\n",
    "\n",
    "1.  TPR tells, when it's actually yes and how often does classifier predict yes\n",
    "\n",
    "    TPR = TP/(TP+FN) = 13321/15003 = 0.8878. TPR also known as Recall \n",
    "\n",
    "\n",
    "2.  FPR tells, when it's actually no, how often does classifier predict yes\n",
    "\n",
    "    FPR = FP/(FP+TN) = 1676/14997 = 0.1117\n",
    "\n",
    "\n",
    "3.  TNR tells, when it's actually no, how often does classifier predict no\n",
    "\n",
    "    TNR = TN/(TN+FP) = 13321/14997 = 0.8882\n",
    "\n",
    "\n",
    "4.  FNR tells, When it's actually yes, how often does it predict no\n",
    "\n",
    "    FNR = FN/(FN+TP) = 1748/15003 = 0.1165\n",
    "\n"
   ]
  },
  {
   "cell_type": "markdown",
   "metadata": {},
   "source": [
    "### [5.5] Classification report for BoW:-\n",
    "\n",
    "1.  Classification Rate/Accuracy:\n",
    "\n",
    "    Accuracy = (TP + TN) / (TP + TN + FP + FN)\n",
    "\n",
    "\n",
    "2.  Recall:- It tells, when the points are positive and how often they are predicted positive.\n",
    "\n",
    "    Recall = TP / (TP + FN)\n",
    "\n",
    "\n",
    "3.  Precision:- It tells, when the model predicted positive and how often is it correct.\n",
    "\n",
    "    Precision = TP / (TP + FP)\n",
    "\n",
    "\n",
    "4.  f1-score = (2 Recall Precision) / (Recall + Presision)\n",
    "\n",
    "\n",
    "5.  Support is the total number of points in each class (positive and negative)\n",
    "\n"
   ]
  },
  {
   "cell_type": "code",
   "execution_count": 49,
   "metadata": {},
   "outputs": [
    {
     "name": "stdout",
     "output_type": "stream",
     "text": [
      "Accuracy Score: 0.8858666666666667\n",
      "Report:\n",
      "             precision    recall  f1-score   support\n",
      "\n",
      "   negative       0.88      0.89      0.89     14997\n",
      "   positive       0.89      0.88      0.89     15003\n",
      "\n",
      "avg / total       0.89      0.89      0.89     30000\n",
      "\n"
     ]
    }
   ],
   "source": [
    "# calculate the classification report for BoW\n",
    "from sklearn.metrics import classification_report \n",
    " \n",
    "print('Accuracy Score:', accuracy_score(Y_test, pred_bow)) \n",
    "print('Report:')\n",
    "print(classification_report(Y_test, pred_bow)) \n"
   ]
  },
  {
   "cell_type": "markdown",
   "metadata": {},
   "source": [
    "#### Observation:-\n",
    "\n",
    "In case of BoW Logistic Regression, accuracy, f1-score, precision all gave same score of 88% accuracy for C = 0.1 .\n"
   ]
  },
  {
   "cell_type": "markdown",
   "metadata": {},
   "source": [
    "### [5.6] Feature Importance for BoW\n",
    "\n",
    "To find feature Importance, first sort all the words based on its absolute value of feature weight score, where top words have more weight. So for positive class or negative class, we have to find words with highest absolute weight value, as they are most informative/important features or words for determining whether the text/sentence belongs to positive class or negative class.\n",
    "\n",
    "If the weight value of a word is positive and large then probability that the word/feature belongs to positive class increases. If the weight value of a word is negative and large then probability that the word/feature belongs to negative class increases.\n",
    "\n",
    "So we can say that, in Logistic regression we can find feature importance based on absolute value of feature weights.\n"
   ]
  },
  {
   "cell_type": "code",
   "execution_count": 50,
   "metadata": {},
   "outputs": [
    {
     "name": "stdout",
     "output_type": "stream",
     "text": [
      "Smallest Coefs: \n",
      "['worst' 'disappointing' 'mediocre' 'disappointment' 'rip' 'terrible'\n",
      " 'awful' 'tasteless' 'horrible' 'sadly']\n",
      "\n",
      "Largest Coefs: \n",
      "['pleasantly' 'hooked' 'hesitation' 'worry' 'skeptical' 'downside'\n",
      " 'delicious' 'addicting' 'complaint' 'beat']\n",
      "\n"
     ]
    }
   ],
   "source": [
    "# Just printing feature names\n",
    "feature_names = np.array(count_vect.get_feature_names())\n",
    "\n",
    "model = LogisticRegression()\n",
    "model.fit(X_train_bow, Y_train)\n",
    "\n",
    "sorted_coef_index = model.coef_[0].argsort()\n",
    "\n",
    "print('Smallest Coefs: \\n{}\\n'.format(feature_names[sorted_coef_index[:10]]))\n",
    "print('Largest Coefs: \\n{}\\n'.format(feature_names[sorted_coef_index[:-11:-1]]))"
   ]
  },
  {
   "cell_type": "code",
   "execution_count": 51,
   "metadata": {
    "scrolled": true
   },
   "outputs": [
    {
     "name": "stdout",
     "output_type": "stream",
     "text": [
      "\t3.1222 \tpleasantly      \t\t-3.3910 \tworst          \n",
      "\t2.5635 \thooked          \t\t-3.2043 \tdisappointing  \n",
      "\t2.1085 \thesitation      \t\t-2.9052 \tmediocre       \n",
      "\t2.0813 \tworry           \t\t-2.7286 \tdisappointment \n",
      "\t2.0781 \tskeptical       \t\t-2.3921 \trip            \n",
      "\t2.0314 \tdownside        \t\t-2.3768 \tterrible       \n",
      "\t1.9791 \tdelicious       \t\t-2.3611 \tawful          \n",
      "\t1.9647 \taddicting       \t\t-2.3137 \ttasteless      \n",
      "\t1.8935 \tcomplaint       \t\t-2.1883 \thorrible       \n",
      "\t1.8683 \tbeat            \t\t-2.1213 \tsadly          \n"
     ]
    }
   ],
   "source": [
    "# Reference:--  https://stackoverflow.com/questions/11116697/how-to-get-most-informative-features-for-scikit-learn-classifiers\n",
    "# Printing feature names along with weights.\n",
    "\n",
    "def show_most_informative_features(vectorizer, model, n=10): # To print top 10 features \n",
    "    feature_names = vectorizer.get_feature_names()\n",
    "    coefs_with_fns = sorted(zip(model.coef_[0], feature_names)) # fns- feature names\n",
    "    top = zip(coefs_with_fns[:-(n + 1):-1], coefs_with_fns[:n]) \n",
    "    for (coef_1, fn_1), (coef_0, fn_0) in top:  # For positive and negative classes to print top 10 features\n",
    "        print(\"\\t%.4f \\t%-15s \\t\\t%.4f \\t%-15s\" % (coef_1, fn_1, coef_0, fn_0))\n",
    "show_most_informative_features(count_vect, model)\n"
   ]
  },
  {
   "cell_type": "markdown",
   "metadata": {},
   "source": [
    "### [5.7]  Pertubation Test\n",
    "\n",
    "1. If we can represent one feature in terms of other feature by using conctants like alpha and beta then those features are said to be collinear..\n",
    "2. Multicollinearity means, collinearity across multiple features.\n",
    "3. If features are collinear or multicollinear then weight vector can change arbitarily. Wj cannot be used for feature importance.  So to determine if we can use Wj for feature importance or not, first we have to determine if features are multicollinear or not. \n",
    "4. So the technique used for the above process is, Pertubation technique. Pertubation means to shape it a little.\n",
    "5. For every data point in the dataset, we have to add small epsilon(error/noise). We can generate this noise from random variable with mean 0 and small variance(say, 0.01).\n",
    "6. We are pertubating the values by adding small noise/error.\n",
    "7. Before pertubation/adding noise, we have to compute weight vector W by training logistic regression. After pertubation again train logistic regression and compute W'(another weight vector).\n",
    "8. If the values of W and W' differs drastically/significantly, then we can conclude that the features are collinear and we can't use Wj(weights) as feature importance. \n",
    "9. If the values don't differ much or differ slightly then we use weights as feature importance.\n",
    "10. So we should check for multicollinearity to find whether the absolute values of Wj's can be used for feature importance or not.\n",
    "11. If we can't use absolute values of Wj for Feature importance, we have other technique like forward feature selection, we cna use this."
   ]
  },
  {
   "cell_type": "code",
   "execution_count": 52,
   "metadata": {},
   "outputs": [
    {
     "name": "stdout",
     "output_type": "stream",
     "text": [
      "Accuracy on test set: 88.587%\n",
      "(1, 95408)\n"
     ]
    }
   ],
   "source": [
    "# Training the model on train data and getting the weights before adding noise\n",
    "from sklearn.linear_model import LogisticRegression\n",
    "\n",
    "clf = LogisticRegression(C= 0.1, penalty= 'l2')\n",
    "clf.fit(X_train_bow, Y_train)\n",
    "Y_pred = clf.predict(X_test_bow)\n",
    "print(\"Accuracy on test set: %0.3f%%\"%(accuracy_score(Y_test, Y_pred)*100))\n",
    "print(clf.coef_.shape)"
   ]
  },
  {
   "cell_type": "code",
   "execution_count": 53,
   "metadata": {},
   "outputs": [
    {
     "name": "stdout",
     "output_type": "stream",
     "text": [
      "[ 5.67236618e-02  1.09378867e-01  5.08532246e-03  3.86515471e-04\n",
      "  8.02510742e-05 -5.37684429e-03 -1.83736286e-04  6.86552884e-03\n",
      " -3.98349658e-02 -3.93143427e-02  5.35116486e-06  4.54244990e-02\n",
      " -9.88489618e-03 -1.07336568e-02 -7.84500998e-02  8.78910565e-03\n",
      "  1.09632605e-02  7.00579124e-02 -2.75654655e-04  4.10476284e-03\n",
      " -2.99893376e-03  4.17871643e-02 -3.33125342e-02  1.23943344e-03\n",
      " -2.99671285e-02  1.67767914e-01  1.06601492e-02 -1.44212976e-03\n",
      " -4.04749778e-02  4.82633888e-02  7.96055263e-02 -7.38528449e-02\n",
      " -3.60451933e-02 -2.88328335e-02 -1.46434542e-03 -3.36971093e-02\n",
      " -1.44793347e-02  2.32682622e-03  2.24959294e-02  7.23991886e-02\n",
      "  5.00272840e-02  6.44680832e-04  1.02251626e-02 -6.33907696e-02\n",
      " -1.11764418e-03  3.57830693e-03 -1.10309373e-01  9.85951046e-05\n",
      "  6.89636474e-02 -1.48988502e-01]\n"
     ]
    }
   ],
   "source": [
    "#Weights before adding random noise\n",
    "from scipy.sparse import find\n",
    "\n",
    "weights = find(clf.coef_)[2]\n",
    "print(weights[:50])"
   ]
  },
  {
   "cell_type": "code",
   "execution_count": 54,
   "metadata": {
    "scrolled": true
   },
   "outputs": [],
   "source": [
    "#Adding Random noise \n",
    "\n",
    "X_train_bow_t = X_train_bow.copy()\n",
    "#epsilon = 0.0001\n",
    "epsilon = np.random.normal(0,0.0001)  # (mean, std) \n",
    "\n",
    "X_train_bow_t.data = epsilon + X_train_bow_t.data"
   ]
  },
  {
   "cell_type": "code",
   "execution_count": 55,
   "metadata": {},
   "outputs": [
    {
     "name": "stdout",
     "output_type": "stream",
     "text": [
      "(70000, 95408)\n",
      "(70000, 95408)\n",
      "(2370399,)\n"
     ]
    }
   ],
   "source": [
    "print(X_train_bow.shape)\n",
    "print(X_train_bow_t.shape)\n",
    "print(X_train_bow_t.data.shape)"
   ]
  },
  {
   "cell_type": "code",
   "execution_count": 56,
   "metadata": {},
   "outputs": [
    {
     "name": "stdout",
     "output_type": "stream",
     "text": [
      "Accuracy on test set: 88.587%\n",
      "(1, 95408)\n"
     ]
    }
   ],
   "source": [
    "#Training the model on train data again, after having random noise\n",
    "\n",
    "clf = LogisticRegression(C= 0.1, penalty= 'l2')\n",
    "clf.fit(X_train_bow_t, Y_train)\n",
    "Pertubated_weights = clf.coef_\n",
    "print(\"Accuracy on test set: %0.3f%%\"%(accuracy_score(Y_test, Y_pred)*100))\n",
    "print(Pertubated_weights.shape)"
   ]
  },
  {
   "cell_type": "code",
   "execution_count": 57,
   "metadata": {},
   "outputs": [
    {
     "name": "stdout",
     "output_type": "stream",
     "text": [
      "[ 5.67311816e-02  1.09378402e-01  5.08499588e-03  3.86459098e-04\n",
      "  8.04885750e-05 -5.37764299e-03 -1.83613724e-04  6.86500011e-03\n",
      " -3.98351799e-02 -3.93126421e-02  5.11680312e-06  4.54249925e-02\n",
      " -9.88296971e-03 -1.07336600e-02 -7.84520054e-02  8.77894874e-03\n",
      "  1.09631856e-02  7.00632720e-02 -2.75435158e-04  4.10431662e-03\n",
      " -2.99949625e-03  4.17886894e-02 -3.33119578e-02  1.23865637e-03\n",
      " -2.99674769e-02  1.67776666e-01  1.06627600e-02 -1.44176577e-03\n",
      " -4.04742613e-02  4.82660785e-02  7.96110830e-02 -7.38480014e-02\n",
      " -3.60427439e-02 -2.88341336e-02 -1.46433338e-03 -3.37022345e-02\n",
      " -1.44777032e-02  2.32714298e-03  2.24964861e-02  7.24052581e-02\n",
      "  5.00311559e-02  6.44662577e-04  1.02216979e-02 -6.33942330e-02\n",
      " -1.11775985e-03  3.57783196e-03 -1.10312883e-01  9.88004630e-05\n",
      "  6.89644046e-02 -1.48996587e-01]\n"
     ]
    }
   ],
   "source": [
    "#Weights after adding random noise\n",
    "from scipy.sparse import find\n",
    "\n",
    "weights2 = find(clf.coef_)[2]\n",
    "print(weights2[:50])"
   ]
  },
  {
   "cell_type": "code",
   "execution_count": 58,
   "metadata": {},
   "outputs": [
    {
     "name": "stdout",
     "output_type": "stream",
     "text": [
      "95408\n"
     ]
    }
   ],
   "source": [
    "print(weights.size)"
   ]
  },
  {
   "cell_type": "code",
   "execution_count": 59,
   "metadata": {},
   "outputs": [
    {
     "name": "stdout",
     "output_type": "stream",
     "text": [
      "95408\n"
     ]
    }
   ],
   "source": [
    "print(Pertubated_weights.size)"
   ]
  },
  {
   "cell_type": "code",
   "execution_count": 60,
   "metadata": {},
   "outputs": [],
   "source": [
    "weights_difference = (abs(weights - weights2)/abs(weights)) * 100"
   ]
  },
  {
   "cell_type": "code",
   "execution_count": 61,
   "metadata": {},
   "outputs": [
    {
     "name": "stdout",
     "output_type": "stream",
     "text": [
      "[1.32568410e-02 4.25858549e-04 6.42204582e-03 ... 4.38978607e+01\n",
      " 1.93342920e-03 2.20313060e-03]\n"
     ]
    }
   ],
   "source": [
    "print(weights_difference)"
   ]
  },
  {
   "cell_type": "code",
   "execution_count": 62,
   "metadata": {},
   "outputs": [],
   "source": [
    "sortWeightsDiff = sorted(weights_difference, reverse = True)"
   ]
  },
  {
   "cell_type": "code",
   "execution_count": 63,
   "metadata": {
    "scrolled": true
   },
   "outputs": [
    {
     "data": {
      "text/plain": [
       "[4038.723518856621,\n",
       " 4038.723518856621,\n",
       " 2521.375525987859,\n",
       " 2057.602246035667,\n",
       " 2057.602246035667,\n",
       " 2057.602246035667,\n",
       " 2057.602246035667,\n",
       " 2057.602246035667,\n",
       " 2057.602246035667,\n",
       " 2057.602246035667,\n",
       " 2057.602246035667,\n",
       " 2057.602246035667,\n",
       " 2057.602246035667,\n",
       " 2057.534445899895,\n",
       " 2057.5005458320506,\n",
       " 1950.3944601471367,\n",
       " 1950.3944601471367,\n",
       " 1950.3944601471367,\n",
       " 1950.3944601471367,\n",
       " 1950.3944601471367,\n",
       " 1950.3944601471367,\n",
       " 1573.8400736525898,\n",
       " 1573.8400736525898,\n",
       " 1472.6616824497353,\n",
       " 1472.6616824497353,\n",
       " 1472.6141413066728,\n",
       " 1264.21353151103,\n",
       " 1264.21353151103,\n",
       " 1231.9218473887922,\n",
       " 1231.9218473887922,\n",
       " 1231.9218473887922,\n",
       " 1139.4861106946603,\n",
       " 1139.4861106946603,\n",
       " 1097.1720877802454,\n",
       " 1055.9770605181525,\n",
       " 1004.1301481772413,\n",
       " 990.8072690463243,\n",
       " 990.8072690463243,\n",
       " 990.8072690463243,\n",
       " 990.8072690463243,\n",
       " 990.4718579872032,\n",
       " 990.4718579872032,\n",
       " 973.698575392056,\n",
       " 894.915055126087,\n",
       " 767.4277159121979,\n",
       " 703.4467123270138,\n",
       " 703.4467123270138,\n",
       " 703.4467123270138,\n",
       " 703.4467123270138,\n",
       " 703.4467123270138,\n",
       " 703.4467123270138,\n",
       " 703.4467123270138,\n",
       " 655.2639956719355,\n",
       " 655.2639956719355,\n",
       " 655.2639956719355,\n",
       " 655.2639956719355,\n",
       " 655.2639956719355,\n",
       " 655.2639956719355,\n",
       " 655.2639956719355,\n",
       " 655.2639956719355,\n",
       " 655.2639956719355,\n",
       " 655.2639956719355,\n",
       " 652.8988695449277,\n",
       " 652.8988695449277,\n",
       " 652.8988695449277,\n",
       " 652.8988695449277,\n",
       " 652.8988695449277,\n",
       " 652.8988695449277,\n",
       " 652.8988695449277,\n",
       " 652.8988695449277,\n",
       " 652.8988695449277,\n",
       " 652.8988695449277,\n",
       " 652.8988695449277,\n",
       " 652.8988695449277,\n",
       " 652.8733372091561,\n",
       " 652.1369499175603,\n",
       " 652.1369499175603,\n",
       " 652.1369499175603,\n",
       " 568.9144980831677,\n",
       " 553.789795869582,\n",
       " 553.789795869582,\n",
       " 553.789795869582,\n",
       " 553.789795869582,\n",
       " 553.789795869582,\n",
       " 553.789795869582,\n",
       " 544.0636006321988,\n",
       " 544.0636006321988,\n",
       " 516.6484818330445,\n",
       " 516.6484818330445,\n",
       " 516.6484818330445,\n",
       " 473.52326267580605,\n",
       " 473.52326267580605,\n",
       " 473.52326267580605,\n",
       " 469.52639778095994,\n",
       " 469.52639778095994,\n",
       " 469.52639778095994,\n",
       " 469.52639778095994,\n",
       " 469.52639778095994,\n",
       " 469.52639778095994,\n",
       " 469.52639778095994,\n",
       " 469.52639778095994,\n",
       " 463.6407549055981,\n",
       " 463.6407549055981,\n",
       " 463.6407549055981,\n",
       " 443.89331690113795,\n",
       " 443.89331690113795,\n",
       " 443.89331690113795,\n",
       " 424.6954201118066,\n",
       " 424.6954201118066,\n",
       " 424.6954201118066,\n",
       " 424.6954201118066,\n",
       " 419.6101127607888,\n",
       " 419.6101127607888,\n",
       " 415.0545170865632,\n",
       " 407.59968622957985,\n",
       " 392.9782178559731,\n",
       " 392.9782178559731,\n",
       " 388.87632240462074,\n",
       " 388.87632240462074,\n",
       " 388.31439458241033,\n",
       " 388.03366760235775,\n",
       " 381.59648743691014,\n",
       " 381.59648743691014,\n",
       " 381.59648743691014,\n",
       " 378.19929115710573,\n",
       " 378.19929115710573,\n",
       " 378.19929115710573,\n",
       " 378.19929115710573,\n",
       " 378.19929115710573,\n",
       " 378.19929115710573,\n",
       " 371.87734184161116,\n",
       " 363.8634723357799,\n",
       " 363.8634723357799,\n",
       " 363.8634723357799,\n",
       " 347.5746848246673,\n",
       " 327.1573403569307,\n",
       " 327.1573403569307,\n",
       " 327.1573403569307,\n",
       " 327.1573403569307,\n",
       " 327.1573403569307,\n",
       " 327.1573403569307,\n",
       " 327.1573403569307,\n",
       " 327.1573403569307,\n",
       " 327.1573403569307,\n",
       " 314.30718433627726,\n",
       " 311.22687518872294,\n",
       " 311.22687518872294,\n",
       " 302.14640275138277,\n",
       " 302.14640275138277,\n",
       " 302.14640275138277,\n",
       " 302.14640275138277,\n",
       " 302.14640275138277,\n",
       " 302.14640275138277,\n",
       " 302.14640275138277,\n",
       " 302.14640275138277,\n",
       " 302.14640275138277,\n",
       " 298.4265402649794,\n",
       " 298.4265402649794,\n",
       " 285.6727317323023,\n",
       " 280.88866406919715,\n",
       " 280.88866406919715,\n",
       " 280.88866406919715,\n",
       " 280.88866406919715,\n",
       " 280.88866406919715,\n",
       " 280.88866406919715,\n",
       " 280.88866406919715,\n",
       " 280.88866406919715,\n",
       " 280.88866406919715,\n",
       " 280.88866406919715,\n",
       " 280.88866406919715,\n",
       " 280.88866406919715,\n",
       " 280.88866406919715,\n",
       " 280.88866406919715,\n",
       " 280.88866406919715,\n",
       " 280.8660495498099,\n",
       " 280.3026359812164,\n",
       " 280.3026359812164,\n",
       " 280.2963913300179,\n",
       " 258.1620238461964,\n",
       " 258.1620238461964,\n",
       " 257.35117499931795,\n",
       " 257.35117499931795,\n",
       " 257.35117499931795,\n",
       " 257.35117499931795,\n",
       " 255.13978757393326,\n",
       " 253.52866653439378,\n",
       " 253.52866653439378,\n",
       " 253.52866653439378,\n",
       " 253.52866653439378,\n",
       " 253.52866653439378,\n",
       " 253.52866653439378,\n",
       " 253.52866653439378,\n",
       " 253.52866653439378,\n",
       " 253.52866653439378,\n",
       " 253.51642232510972,\n",
       " 242.06491967462483,\n",
       " 239.29173748717312,\n",
       " 239.29173748717312,\n",
       " 239.29173748717312,\n",
       " 235.95492714493744,\n",
       " 234.55187300055712,\n",
       " 234.55187300055712,\n",
       " 234.55187300055712,\n",
       " 234.55187300055712,\n",
       " 234.55187300055712,\n",
       " 234.54028603877313,\n",
       " 229.46466796868089,\n",
       " 229.46466796868089,\n",
       " 229.46466796868089,\n",
       " 229.46466796868089,\n",
       " 229.46466796868089,\n",
       " 224.3968185386021,\n",
       " 224.3968185386021,\n",
       " 224.3855832897736,\n",
       " 220.63824531963178,\n",
       " 220.63824531963178,\n",
       " 211.67652146431263,\n",
       " 211.67652146431263,\n",
       " 211.67652146431263,\n",
       " 211.67652146431263,\n",
       " 211.67652146431263,\n",
       " 207.40110227878588,\n",
       " 207.40110227878588,\n",
       " 205.30407812068682,\n",
       " 199.56324307133062,\n",
       " 199.56324307133062,\n",
       " 199.56324307133062,\n",
       " 199.56324307133062,\n",
       " 199.56324307133062,\n",
       " 199.56324307133062,\n",
       " 199.56324307133062,\n",
       " 199.56324307133062,\n",
       " 199.56324307133062,\n",
       " 199.56324307133062,\n",
       " 197.6762146657975,\n",
       " 197.6762146657975,\n",
       " 197.6762146657975,\n",
       " 197.6762146657975,\n",
       " 197.6762146657975,\n",
       " 197.6762146657975,\n",
       " 197.6762146657975,\n",
       " 197.6762146657975,\n",
       " 197.6762146657975,\n",
       " 197.6762146657975,\n",
       " 197.6762146657975,\n",
       " 197.65971898568367,\n",
       " 188.32676469468785,\n",
       " 188.32676469468785,\n",
       " 188.32676469468785,\n",
       " 188.32676469468785,\n",
       " 188.32676469468785,\n",
       " 188.32676469468785,\n",
       " 188.32676469468785,\n",
       " 188.32676469468785,\n",
       " 188.32676469468785,\n",
       " 188.32676469468785,\n",
       " 188.32676469468785,\n",
       " 187.85740947894854,\n",
       " 187.85740947894854,\n",
       " 187.85740947894854,\n",
       " 187.85740947894854,\n",
       " 187.10859329635866,\n",
       " 187.10859329635866,\n",
       " 185.11506213802875,\n",
       " 181.19407407676027,\n",
       " 181.19407407676027,\n",
       " 179.94845590858188,\n",
       " 179.94845590858188,\n",
       " 179.93876009659618,\n",
       " 177.6803909141131,\n",
       " 177.6803909141131,\n",
       " 177.6803909141131,\n",
       " 177.6803909141131,\n",
       " 177.6803909141131,\n",
       " 177.6803909141131,\n",
       " 177.6803909141131,\n",
       " 177.6803909141131,\n",
       " 177.6803909141131,\n",
       " 175.809660139624,\n",
       " 175.809660139624,\n",
       " 175.809660139624,\n",
       " 175.809660139624,\n",
       " 173.1329575041289,\n",
       " 164.82585167815301,\n",
       " 164.82585167815301,\n",
       " 164.82585167815301,\n",
       " 164.82585167815301,\n",
       " 162.27802247683738,\n",
       " 162.27802247683738,\n",
       " 162.27802247683738,\n",
       " 162.27802247683738,\n",
       " 161.92055900948176,\n",
       " 161.92055900948176,\n",
       " 161.92055900948176,\n",
       " 160.12921353475514,\n",
       " 160.12921353475514,\n",
       " 160.12921353475514,\n",
       " 160.12921353475514,\n",
       " 160.12921353475514,\n",
       " 160.12921353475514,\n",
       " 160.12921353475514,\n",
       " 160.12921353475514,\n",
       " 159.12031014504797,\n",
       " 159.12031014504797,\n",
       " 159.12031014504797,\n",
       " 159.08119417155356,\n",
       " 158.51924404848762,\n",
       " 158.51924404848762,\n",
       " 158.15503904658777,\n",
       " 157.79262979286523,\n",
       " 157.79262979286523,\n",
       " 149.23838037775627,\n",
       " 148.87117748081496,\n",
       " 148.87117748081496,\n",
       " 148.87117748081496,\n",
       " 148.87117748081496,\n",
       " 148.87117748081496,\n",
       " 148.87117748081496,\n",
       " 148.87117748081496,\n",
       " 148.87117748081496,\n",
       " 148.87117748081496,\n",
       " 148.48540075971562,\n",
       " 148.48540075971562,\n",
       " 148.48540075971562,\n",
       " 148.48540075971562,\n",
       " 148.48540075971562,\n",
       " 148.48540075971562,\n",
       " 148.48540075971562,\n",
       " 148.48540075971562,\n",
       " 148.48540075971562,\n",
       " 148.48540075971562,\n",
       " 148.48540075971562,\n",
       " 148.48540075971562,\n",
       " 148.48540075971562,\n",
       " 148.48540075971562,\n",
       " 148.037574773422,\n",
       " 146.12831058432377,\n",
       " 145.72656011143266,\n",
       " 145.5464229560926,\n",
       " 142.16610718939228,\n",
       " 142.16610718939228,\n",
       " 141.52823223808824,\n",
       " 141.52823223808824,\n",
       " 141.52823223808824,\n",
       " 141.52823223808824,\n",
       " 141.52823223808824,\n",
       " 141.09972569512536,\n",
       " 137.80406279791035,\n",
       " 137.76802920024102,\n",
       " 135.80014880756613,\n",
       " 135.80014880756613,\n",
       " 134.54581638221495,\n",
       " 134.3578340861299,\n",
       " 134.3578340861299,\n",
       " 134.3578340861299,\n",
       " 131.531778887979,\n",
       " 131.531778887979,\n",
       " 131.531778887979,\n",
       " 131.531778887979,\n",
       " 131.531778887979,\n",
       " 131.531778887979,\n",
       " 131.51894859126,\n",
       " 131.1364238623464,\n",
       " 131.1364238623464,\n",
       " 131.1364238623464,\n",
       " 128.6877999529418,\n",
       " 128.6877999529418,\n",
       " 128.6877999529418,\n",
       " 128.6877999529418,\n",
       " 128.6877999529418,\n",
       " 128.6877999529418,\n",
       " 128.6877999529418,\n",
       " 128.6877999529418,\n",
       " 128.6877999529418,\n",
       " 128.6877999529418,\n",
       " 128.6877999529418,\n",
       " 128.6877999529418,\n",
       " 128.6877999529418,\n",
       " 126.98231807396614,\n",
       " 126.98231807396614,\n",
       " 126.98231807396614,\n",
       " 126.98231807396614,\n",
       " 126.98231807396614,\n",
       " 126.13769339953085,\n",
       " 126.13769339953085,\n",
       " 126.13769339953085,\n",
       " 126.13769339953085,\n",
       " 125.05254052440297,\n",
       " 121.77583775920952,\n",
       " 121.77583775920952,\n",
       " 121.14822712981127,\n",
       " 121.14822712981127,\n",
       " 120.33265089961363,\n",
       " 120.33265089961363,\n",
       " 119.85302749104045,\n",
       " 119.85302749104045,\n",
       " 119.85302749104045,\n",
       " 119.85302749104045,\n",
       " 119.85302749104045,\n",
       " 119.85233989581478,\n",
       " 119.33853906001906,\n",
       " 118.78231237886614,\n",
       " 118.78231237886614,\n",
       " 118.78231237886614,\n",
       " 118.57174076653712,\n",
       " 118.57174076653712,\n",
       " 118.57174076653712,\n",
       " 118.57174076653712,\n",
       " 118.57174076653712,\n",
       " 118.57174076653712,\n",
       " 116.52096047547171,\n",
       " 116.52096047547171,\n",
       " 116.52096047547171,\n",
       " 116.52096047547171,\n",
       " 116.52096047547171,\n",
       " 116.52096047547171,\n",
       " 116.52096047547171,\n",
       " 116.52096047547171,\n",
       " 115.5382090611943,\n",
       " 115.5382090611943,\n",
       " 115.5382090611943,\n",
       " 115.5382090611943,\n",
       " 115.5382090611943,\n",
       " 112.8023835759115,\n",
       " 112.8023835759115,\n",
       " 112.8023835759115,\n",
       " 112.8023835759115,\n",
       " 112.79059116566152,\n",
       " 112.616958093264,\n",
       " 112.616958093264,\n",
       " 111.15576444587248,\n",
       " 111.15576444587248,\n",
       " 111.15576444587248,\n",
       " 110.98583880789468,\n",
       " 110.98583880789468,\n",
       " 110.98583880789468,\n",
       " 110.98583880789468,\n",
       " 110.98583880789468,\n",
       " 110.98583880789468,\n",
       " 110.98583880789468,\n",
       " 109.09240498768528,\n",
       " 109.09240498768528,\n",
       " 109.09240498768528,\n",
       " 109.09240498768528,\n",
       " 109.09240498768528,\n",
       " 109.09240498768528,\n",
       " 108.39180367062664,\n",
       " 107.25286910639464,\n",
       " 107.25286910639464,\n",
       " 106.37273719803386,\n",
       " 106.37273719803386,\n",
       " 105.37949673808001,\n",
       " 105.37949673808001,\n",
       " 105.37949673808001,\n",
       " 105.18198282966547,\n",
       " 105.18198282966547,\n",
       " 105.18198282966547,\n",
       " 102.4996422370125,\n",
       " 102.4996422370125,\n",
       " 102.4996422370125,\n",
       " 102.4996422370125,\n",
       " 102.4996422370125,\n",
       " 102.1144754187419,\n",
       " 102.1144754187419,\n",
       " 102.1144754187419,\n",
       " 102.1144754187419,\n",
       " 102.1144754187419,\n",
       " 102.1144754187419,\n",
       " 102.1144754187419,\n",
       " 102.1144754187419,\n",
       " 102.1144754187419,\n",
       " 102.1144754187419,\n",
       " 102.1144754187419,\n",
       " 102.1144754187419,\n",
       " 102.1144754187419,\n",
       " 102.1144754187419,\n",
       " 102.1144754187419,\n",
       " 102.1144754187419,\n",
       " 102.1144754187419,\n",
       " 102.1144754187419,\n",
       " 102.11440218541694,\n",
       " 102.11437777430892,\n",
       " 102.11436556875448,\n",
       " 102.11434522616516,\n",
       " 101.95850595701197,\n",
       " 101.95850595701197,\n",
       " 101.95850595701197,\n",
       " 101.95850595701197,\n",
       " 101.26981251856107,\n",
       " 101.26981251856107,\n",
       " 101.23234410860044,\n",
       " 101.23234410860044,\n",
       " 101.23234410860044,\n",
       " 101.23234410860044,\n",
       " 101.23234410860044,\n",
       " 101.23234410860044,\n",
       " 101.23234410860044,\n",
       " 101.23234410860044,\n",
       " 100.4655757507893,\n",
       " 100.4655757507893,\n",
       " 100.4655757507893,\n",
       " 100.4655757507893,\n",
       " 100.4655757507893,\n",
       " 100.4655757507893,\n",
       " 99.9558972287079,\n",
       " 99.9558972287079,\n",
       " 99.9558972287079,\n",
       " 99.9558972287079,\n",
       " 99.69789564913148,\n",
       " 99.33154931753981,\n",
       " 99.33154931753981,\n",
       " 99.33154931753981,\n",
       " 98.22676486958613,\n",
       " 98.22676486958613,\n",
       " 98.22676486958613,\n",
       " 98.22676486958613,\n",
       " 98.22676486958613,\n",
       " 98.22676486958613,\n",
       " 98.22676486958613,\n",
       " 98.22676486958613,\n",
       " 98.22676486958613,\n",
       " 98.22561840828855,\n",
       " 97.6457697179208,\n",
       " 97.6457697179208,\n",
       " 97.6457697179208,\n",
       " 96.05836203713507,\n",
       " 96.05836203713507,\n",
       " 96.01010490015864,\n",
       " 96.01010490015864,\n",
       " 96.01010490015864,\n",
       " 96.01010490015864,\n",
       " 96.01010490015864,\n",
       " 96.01010490015864,\n",
       " 96.01010490015864,\n",
       " 96.01010490015864,\n",
       " 96.01010490015864,\n",
       " 96.01010490015864,\n",
       " 96.01010490015864,\n",
       " 96.01010490015864,\n",
       " 96.01010490015864,\n",
       " 96.01010490015864,\n",
       " 96.01010490015864,\n",
       " 96.01010490015864,\n",
       " 95.15968454723972,\n",
       " 95.15968454723972,\n",
       " 95.15968454723972,\n",
       " 94.75821539899036,\n",
       " 94.75821539899036,\n",
       " 94.75821539899036,\n",
       " 92.42813951122956,\n",
       " 92.42813951122956,\n",
       " 91.3321751055531,\n",
       " 91.3321751055531,\n",
       " 91.3321751055531,\n",
       " 91.3321751055531,\n",
       " 91.3321751055531,\n",
       " 91.04895186460897,\n",
       " 91.04895186460897,\n",
       " 91.04895186460897,\n",
       " 91.04895186460897,\n",
       " 89.16938797976641,\n",
       " 89.16938797976641,\n",
       " 89.16938797976641,\n",
       " 89.16938797976641,\n",
       " 89.16938797976641,\n",
       " 89.16938797976641,\n",
       " 89.16938797976641,\n",
       " 89.16938797976641,\n",
       " 89.16938797976641,\n",
       " 89.16938797976641,\n",
       " 89.16938797976641,\n",
       " 89.16938797976641,\n",
       " 89.16938797976641,\n",
       " 88.7853558676944,\n",
       " 88.7853558676944,\n",
       " 88.7853558676944,\n",
       " 88.7853558676944,\n",
       " 88.7853558676944,\n",
       " 88.7853558676944,\n",
       " 88.7853558676944,\n",
       " 88.7853558676944,\n",
       " 88.77881742364467,\n",
       " 88.06624042403034,\n",
       " 88.06624042403034,\n",
       " 88.06624042403034,\n",
       " 88.06624042403034,\n",
       " 88.06624042403034,\n",
       " 88.06624042403034,\n",
       " 88.06624042403034,\n",
       " 88.06624042403034,\n",
       " 87.8985817372581,\n",
       " 87.49580746098431,\n",
       " 87.49580746098431,\n",
       " 87.49580746098431,\n",
       " 87.32288856808725,\n",
       " 87.32288856808725,\n",
       " 87.32288856808725,\n",
       " 86.56216455458448,\n",
       " 86.56216455458448,\n",
       " 86.51460944630864,\n",
       " 86.51460944630864,\n",
       " 86.51460944630864,\n",
       " 85.72985226383967,\n",
       " 85.69261449140423,\n",
       " 85.69261449140423,\n",
       " 85.69261449140423,\n",
       " 85.69261449140423,\n",
       " 85.20356167309937,\n",
       " 85.20356167309937,\n",
       " 84.07074322570017,\n",
       " 84.07074322570017,\n",
       " 84.07074322570017,\n",
       " 84.07074322570017,\n",
       " 84.07074322570017,\n",
       " 83.85491553043474,\n",
       " 83.85491553043474,\n",
       " 83.72138516036242,\n",
       " 83.68500262723897,\n",
       " 83.68500262723897,\n",
       " 83.41831132196924,\n",
       " 82.23163795704023,\n",
       " 82.23163795704023,\n",
       " 81.84725106822772,\n",
       " 81.84725106822772,\n",
       " 81.84725106822772,\n",
       " 81.84725106822772,\n",
       " 81.84725106822772,\n",
       " 81.66444002743201,\n",
       " 80.12266576498504,\n",
       " 80.12266576498504,\n",
       " 80.12266576498504,\n",
       " 80.12266576498504,\n",
       " 80.12266576498504,\n",
       " 80.12266576498504,\n",
       " 80.12266576498504,\n",
       " 80.08470386507686,\n",
       " 80.08470386507686,\n",
       " 79.75836811832355,\n",
       " 78.91532913640282,\n",
       " 78.91532913640282,\n",
       " 78.91532913640282,\n",
       " 78.91532913640282,\n",
       " 78.01890918734209,\n",
       " 78.01890918734209,\n",
       " 78.01890918734209,\n",
       " 77.71140456565195,\n",
       " 77.71140456565195,\n",
       " 77.71140456565195,\n",
       " 77.71140456565195,\n",
       " 77.47852373387222,\n",
       " 76.87119780369548,\n",
       " 76.87119780369548,\n",
       " 76.87119780369548,\n",
       " 76.87119780369548,\n",
       " 76.87119780369548,\n",
       " 76.87119780369548,\n",
       " 76.87119780369548,\n",
       " 76.87119780369548,\n",
       " 76.57366053675389,\n",
       " 76.57366053675389,\n",
       " 76.57366053675389,\n",
       " 76.57366053675389,\n",
       " 76.57366053675389,\n",
       " 76.56317682104572,\n",
       " 76.19313868842545,\n",
       " 76.19313868842545,\n",
       " 74.28850491659817,\n",
       " 73.73363178228259,\n",
       " 73.71256520676384,\n",
       " 73.2275176963599,\n",
       " 73.0880767737153,\n",
       " 72.64871345588564,\n",
       " 72.64871345588564,\n",
       " 72.64871345588564,\n",
       " 72.64871345588564,\n",
       " 72.64871345588564,\n",
       " 72.64871345588564,\n",
       " 72.64871345588564,\n",
       " 72.1294396859932,\n",
       " 70.59635449197826,\n",
       " 69.9212060827054,\n",
       " 69.92085881425558,\n",
       " 69.92085881425558,\n",
       " 69.92085881425558,\n",
       " 69.91981700890665,\n",
       " 69.91981700890665,\n",
       " 69.91981700890665,\n",
       " 69.91981700890665,\n",
       " 69.91981700890665,\n",
       " 69.91981700890665,\n",
       " 69.91981700890665,\n",
       " 69.91981700890665,\n",
       " 69.91981700890665,\n",
       " 69.91981700890665,\n",
       " 69.91981700890665,\n",
       " 69.91981700890665,\n",
       " 69.91981700890665,\n",
       " 69.91981700890665,\n",
       " 69.91981700890665,\n",
       " 69.91981700890665,\n",
       " 69.91981700890665,\n",
       " 69.91981700890665,\n",
       " 69.91981700890665,\n",
       " 69.91981700890665,\n",
       " 69.91981700890665,\n",
       " 69.91981700890665,\n",
       " 69.91981700890665,\n",
       " 69.91981700890665,\n",
       " 69.91981700890665,\n",
       " 69.91981700890665,\n",
       " 69.91074002388724,\n",
       " 69.91074002388724,\n",
       " 69.91074002388724,\n",
       " 69.0982085811692,\n",
       " 69.0982085811692,\n",
       " 69.0982085811692,\n",
       " 68.67003475279775,\n",
       " 68.67003475279775,\n",
       " 68.67003475279775,\n",
       " 68.67003475279775,\n",
       " 67.70782552559814,\n",
       " 67.67634512043092,\n",
       " 67.67634512043092,\n",
       " 67.67634512043092,\n",
       " 67.67634512043092,\n",
       " 67.67634512043092,\n",
       " 67.67634512043092,\n",
       " 67.67634512043092,\n",
       " 67.67634512043092,\n",
       " 67.67634512043092,\n",
       " 67.67634512043092,\n",
       " 67.67634512043092,\n",
       " 67.6507896998228,\n",
       " 67.6507896998228,\n",
       " 67.6507896998228,\n",
       " 67.6507896998228,\n",
       " 67.6507896998228,\n",
       " 67.6507896998228,\n",
       " 67.6507896998228,\n",
       " 67.6507896998228,\n",
       " 67.6507896998228,\n",
       " 67.42912464285857,\n",
       " 67.12601842587827,\n",
       " 67.12601842587827,\n",
       " 67.12601842587827,\n",
       " 67.12601842587827,\n",
       " 66.88844508373144,\n",
       " 66.88844508373144,\n",
       " 66.34395125460085,\n",
       " 66.34395125460085,\n",
       " 66.34395125460085,\n",
       " 66.34395125460085,\n",
       " 66.34395125460085,\n",
       " 66.34395125460085,\n",
       " 66.2030991307056,\n",
       " 66.0368993350787,\n",
       " 66.0368993350787,\n",
       " 66.0368993350787,\n",
       " 65.64342526854394,\n",
       " 65.64342526854394,\n",
       " 65.6108954313948,\n",
       " 65.6108954313948,\n",
       " 65.6108954313948,\n",
       " 65.14756641923299,\n",
       " 65.14756641923299,\n",
       " 64.91545403802535,\n",
       " 64.91545403802535,\n",
       " 64.91545403802535,\n",
       " 64.91545403802535,\n",
       " 64.91545403802535,\n",
       " 64.91545403802535,\n",
       " 64.91545403802535,\n",
       " 64.49165775341653,\n",
       " 64.49165775341653,\n",
       " 64.49165775341653,\n",
       " 64.49165775341653,\n",
       " 64.49165775341653,\n",
       " 64.49165775341653,\n",
       " 64.49165775341653,\n",
       " 64.49165775341653,\n",
       " 64.49165775341653,\n",
       " 64.49165775341653,\n",
       " 64.49165775341653,\n",
       " 64.49165775341653,\n",
       " 64.49165775341653,\n",
       " 64.37719693457787,\n",
       " 63.79502388988405,\n",
       " 63.79502388988405,\n",
       " 63.79502388988405,\n",
       " 63.78935096787912,\n",
       " 63.689964848001694,\n",
       " 63.689964848001694,\n",
       " 63.54549324815111,\n",
       " 63.239587059925164,\n",
       " 63.239587059925164,\n",
       " 63.239587059925164,\n",
       " 63.239587059925164,\n",
       " 63.239587059925164,\n",
       " 63.23615473919121,\n",
       " 63.01502813872525,\n",
       " 62.916277439823276,\n",
       " 62.916277439823276,\n",
       " 62.916277439823276,\n",
       " 62.916277439823276,\n",
       " 62.916277439823276,\n",
       " 62.916277439823276,\n",
       " 62.54635690086533,\n",
       " 62.21154145555109,\n",
       " 62.21154145555109,\n",
       " 62.21154145555109,\n",
       " 62.21154145555109,\n",
       " 62.128408281781425,\n",
       " 62.128408281781425,\n",
       " 61.77047987815969,\n",
       " 61.43895535499272,\n",
       " 61.43895535499272,\n",
       " 61.04298270668173,\n",
       " 60.843320089314346,\n",
       " 60.843320089314346,\n",
       " 60.60926891485665,\n",
       " 60.60926891485665,\n",
       " 60.60926891485665,\n",
       " 60.591187375613586,\n",
       " 60.591187375613586,\n",
       " 60.591187375613586,\n",
       " 60.591187375613586,\n",
       " 60.591187375613586,\n",
       " 60.591187375613586,\n",
       " 60.4854055092262,\n",
       " 60.4854055092262,\n",
       " 60.4854055092262,\n",
       " 60.4854055092262,\n",
       " 60.014856315274514,\n",
       " 59.97273467905983,\n",
       " 59.97273467905983,\n",
       " 59.97273467905983,\n",
       " 59.86240542216198,\n",
       " 59.86240542216198,\n",
       " 59.86240542216198,\n",
       " 59.86240542216198,\n",
       " 59.86240542216198,\n",
       " 59.86240542216198,\n",
       " 59.86240542216198,\n",
       " 59.86240542216198,\n",
       " 59.82846857258013,\n",
       " 59.82846857258013,\n",
       " 59.82846857258013,\n",
       " 59.82846857258013,\n",
       " 59.82846857258013,\n",
       " 59.82846857258013,\n",
       " 59.817942982961206,\n",
       " 59.817942982961206,\n",
       " 59.817942982961206,\n",
       " 59.817942982961206,\n",
       " 59.438619637009474,\n",
       " 59.438619637009474,\n",
       " 59.438619637009474,\n",
       " 59.328714579176456,\n",
       " 59.328714579176456,\n",
       " 59.320437227250636,\n",
       " 59.26973830127255,\n",
       " 59.26973830127255,\n",
       " 59.26973830127255,\n",
       " 59.26973830127255,\n",
       " 58.54869954961174,\n",
       " 58.43981833544321,\n",
       " 58.43981833544321,\n",
       " 58.43981833544321,\n",
       " 58.31149654632528,\n",
       " 58.20330670313374,\n",
       " 58.20330670313374,\n",
       " 58.20330670313374,\n",
       " 57.58212342999121,\n",
       " 57.561980773819364,\n",
       " 57.561980773819364,\n",
       " 57.561980773819364,\n",
       " 57.0225130938337,\n",
       " 57.0225130938337,\n",
       " 57.0225130938337,\n",
       " 57.0225130938337,\n",
       " 57.0225130938337,\n",
       " 57.0225130938337,\n",
       " 57.0225130938337,\n",
       " 57.0225130938337,\n",
       " 57.0225130938337,\n",
       " 57.00143542655874,\n",
       " 57.00143542655874,\n",
       " 57.00143542655874,\n",
       " 57.00143542655874,\n",
       " 56.70914375825132,\n",
       " 56.70914375825132,\n",
       " 56.70914375825132,\n",
       " 56.70914375825132,\n",
       " 56.70914375825132,\n",
       " 56.61252563973025,\n",
       " 56.61252563973025,\n",
       " 56.5325196430041,\n",
       " 56.5325196430041,\n",
       " 56.42728299334876,\n",
       " 56.42728299334876,\n",
       " 56.42728299334876,\n",
       " 56.42186524771442,\n",
       " 56.38654946320197,\n",
       " 56.38654946320197,\n",
       " 56.38654946320197,\n",
       " 56.38654946320197,\n",
       " 56.38654946320197,\n",
       " 56.38654946320197,\n",
       " 56.38654946320197,\n",
       " 56.38654946320197,\n",
       " 56.38654946320197,\n",
       " 56.38654946320197,\n",
       " 56.38654946320197,\n",
       " 56.38654946320197,\n",
       " 56.38654946320197,\n",
       " 56.33551491590578,\n",
       " 56.33551491590578,\n",
       " 56.33551491590578,\n",
       " 56.201813148527705,\n",
       " 56.201813148527705,\n",
       " 56.201813148527705,\n",
       " 56.201813148527705,\n",
       " 56.201813148527705,\n",
       " 56.08387773774373,\n",
       " 55.92536077314695,\n",
       " 55.92536077314695,\n",
       " 55.92536077314695,\n",
       " 55.92536077314695,\n",
       " 55.92536077314695,\n",
       " 55.92536077314695,\n",
       " 55.92536077314695,\n",
       " 55.92536077314695,\n",
       " 55.85205358370832,\n",
       " 55.74017071099403,\n",
       " 55.683227750717876,\n",
       " 55.51664953083323,\n",
       " 55.51664953083323,\n",
       " 55.51664953083323,\n",
       " 55.3770164296144,\n",
       " 55.3770164296144,\n",
       " 55.3770164296144,\n",
       " 55.3770164296144,\n",
       " 55.252067930183976,\n",
       " 55.252067930183976,\n",
       " 55.246766100393295,\n",
       " 55.246766100393295,\n",
       " 55.246766100393295,\n",
       " 55.246766100393295,\n",
       " 55.246766100393295,\n",
       " 55.246766100393295,\n",
       " 55.246766100393295,\n",
       " 55.246766100393295,\n",
       " 55.246766100393295,\n",
       " 55.246766100393295,\n",
       " 55.246766100393295,\n",
       " 55.18935517473365,\n",
       " 55.18935517473365,\n",
       " 55.18935517473365,\n",
       " 55.18935517473365,\n",
       " 55.18935517473365,\n",
       " 55.18935517473365,\n",
       " 55.18935517473365,\n",
       " 55.02024114880641,\n",
       " 55.02024114880641,\n",
       " 54.96705395487197,\n",
       " 54.96705395487197,\n",
       " 54.96705395487197,\n",
       " 54.96705395487197,\n",
       " 54.96705395487197,\n",
       " 54.96705395487197,\n",
       " 54.96705395487197,\n",
       " 54.96705395487197,\n",
       " 54.835605366482994,\n",
       " 54.835605366482994,\n",
       " 54.72815014304432,\n",
       " 54.72815014304432,\n",
       " 54.72815014304432,\n",
       " 54.72815014304432,\n",
       " 54.72815014304432,\n",
       " 54.59170925413612,\n",
       " 54.59170925413612,\n",
       " 54.225336383867905,\n",
       " 54.07611226364422,\n",
       " 54.07611226364422,\n",
       " 53.98568314265296,\n",
       " 53.98568314265296,\n",
       " 53.93653269629777,\n",
       " 53.74855896107461,\n",
       " 53.74855896107461,\n",
       " 53.74855896107461,\n",
       " 53.74855896107461,\n",
       " 53.10965281472332,\n",
       " 52.95525888427171,\n",
       " 52.95525888427171,\n",
       " 52.95525888427171,\n",
       " 52.95525888427171,\n",
       " 52.95525888427171,\n",
       " 52.95525888427171,\n",
       " 52.95525888427171,\n",
       " 52.95525888427171,\n",
       " ...]"
      ]
     },
     "execution_count": 63,
     "metadata": {},
     "output_type": "execute_result"
    }
   ],
   "source": [
    "sortWeightsDiff"
   ]
  },
  {
   "cell_type": "code",
   "execution_count": 64,
   "metadata": {},
   "outputs": [
    {
     "data": {
      "text/plain": [
       "95408"
      ]
     },
     "execution_count": 64,
     "metadata": {},
     "output_type": "execute_result"
    }
   ],
   "source": [
    "len(sortWeightsDiff)"
   ]
  },
  {
   "cell_type": "code",
   "execution_count": 66,
   "metadata": {},
   "outputs": [
    {
     "data": {
      "image/png": "[encoded data removed]",
      "text/plain": [
       "<Figure size 1008x432 with 1 Axes>"
      ]
     },
     "metadata": {},
     "output_type": "display_data"
    }
   ],
   "source": [
    "#Plotting the Order of WeightsDiff vs Change in weights percentage\n",
    "# To find the tau value which can be used as threshold value to find the multicollinear features whose percentages changed drastically.\n",
    "plt.figure(figsize=(14,6))\n",
    "plt.plot([x for x in range(95408)], sortWeightsDiff)\n",
    "plt.xlabel(\"Order of WeightsDiff\")\n",
    "plt.ylabel(\"Change in weights percentage\")\n",
    "plt.show()\n"
   ]
  },
  {
   "cell_type": "code",
   "execution_count": 67,
   "metadata": {},
   "outputs": [
    {
     "data": {
      "image/png": "[encoded data removed]",
      "text/plain": [
       "<Figure size 1008x432 with 1 Axes>"
      ]
     },
     "metadata": {},
     "output_type": "display_data"
    }
   ],
   "source": [
    "# To observe the values more clearly and find tau value as a threshold\n",
    "plt.figure(figsize=(14,6))\n",
    "plt.plot([x for x in range(95408)], sortWeightsDiff)\n",
    "plt.xlabel(\"Order of WeightsDiff\")\n",
    "plt.ylabel(\"Change in weights percentage\")\n",
    "plt.ylim(0,3000)\n",
    "plt.xlim(0,10000)\n",
    "plt.show()\n"
   ]
  },
  {
   "cell_type": "markdown",
   "metadata": {},
   "source": [
    "#### Observation:- \n",
    "By observing the above plot, we can know the threshold tau value as 250 (found on y-axis). There are around 250 features whose % change is more than tau 250."
   ]
  },
  {
   "cell_type": "code",
   "execution_count": 69,
   "metadata": {},
   "outputs": [
    {
     "data": {
      "text/plain": [
       "[4038.723518856621,\n",
       " 4038.723518856621,\n",
       " 2521.375525987859,\n",
       " 2057.602246035667,\n",
       " 2057.602246035667,\n",
       " 2057.602246035667,\n",
       " 2057.602246035667,\n",
       " 2057.602246035667,\n",
       " 2057.602246035667,\n",
       " 2057.602246035667,\n",
       " 2057.602246035667,\n",
       " 2057.602246035667,\n",
       " 2057.602246035667,\n",
       " 2057.534445899895,\n",
       " 2057.5005458320506,\n",
       " 1950.3944601471367,\n",
       " 1950.3944601471367,\n",
       " 1950.3944601471367,\n",
       " 1950.3944601471367,\n",
       " 1950.3944601471367,\n",
       " 1950.3944601471367,\n",
       " 1573.8400736525898,\n",
       " 1573.8400736525898,\n",
       " 1472.6616824497353,\n",
       " 1472.6616824497353,\n",
       " 1472.6141413066728,\n",
       " 1264.21353151103,\n",
       " 1264.21353151103,\n",
       " 1231.9218473887922,\n",
       " 1231.9218473887922,\n",
       " 1231.9218473887922,\n",
       " 1139.4861106946603,\n",
       " 1139.4861106946603,\n",
       " 1097.1720877802454,\n",
       " 1055.9770605181525,\n",
       " 1004.1301481772413,\n",
       " 990.8072690463243,\n",
       " 990.8072690463243,\n",
       " 990.8072690463243,\n",
       " 990.8072690463243,\n",
       " 990.4718579872032,\n",
       " 990.4718579872032,\n",
       " 973.698575392056,\n",
       " 894.915055126087,\n",
       " 767.4277159121979,\n",
       " 703.4467123270138,\n",
       " 703.4467123270138,\n",
       " 703.4467123270138,\n",
       " 703.4467123270138,\n",
       " 703.4467123270138,\n",
       " 703.4467123270138,\n",
       " 703.4467123270138,\n",
       " 655.2639956719355,\n",
       " 655.2639956719355,\n",
       " 655.2639956719355,\n",
       " 655.2639956719355,\n",
       " 655.2639956719355,\n",
       " 655.2639956719355,\n",
       " 655.2639956719355,\n",
       " 655.2639956719355,\n",
       " 655.2639956719355,\n",
       " 655.2639956719355,\n",
       " 652.8988695449277,\n",
       " 652.8988695449277,\n",
       " 652.8988695449277,\n",
       " 652.8988695449277,\n",
       " 652.8988695449277,\n",
       " 652.8988695449277,\n",
       " 652.8988695449277,\n",
       " 652.8988695449277,\n",
       " 652.8988695449277,\n",
       " 652.8988695449277,\n",
       " 652.8988695449277,\n",
       " 652.8988695449277,\n",
       " 652.8733372091561,\n",
       " 652.1369499175603,\n",
       " 652.1369499175603,\n",
       " 652.1369499175603,\n",
       " 568.9144980831677,\n",
       " 553.789795869582,\n",
       " 553.789795869582,\n",
       " 553.789795869582,\n",
       " 553.789795869582,\n",
       " 553.789795869582,\n",
       " 553.789795869582,\n",
       " 544.0636006321988,\n",
       " 544.0636006321988,\n",
       " 516.6484818330445,\n",
       " 516.6484818330445,\n",
       " 516.6484818330445,\n",
       " 473.52326267580605,\n",
       " 473.52326267580605,\n",
       " 473.52326267580605,\n",
       " 469.52639778095994,\n",
       " 469.52639778095994,\n",
       " 469.52639778095994,\n",
       " 469.52639778095994,\n",
       " 469.52639778095994,\n",
       " 469.52639778095994,\n",
       " 469.52639778095994,\n",
       " 469.52639778095994,\n",
       " 463.6407549055981,\n",
       " 463.6407549055981,\n",
       " 463.6407549055981,\n",
       " 443.89331690113795,\n",
       " 443.89331690113795,\n",
       " 443.89331690113795,\n",
       " 424.6954201118066,\n",
       " 424.6954201118066,\n",
       " 424.6954201118066,\n",
       " 424.6954201118066,\n",
       " 419.6101127607888,\n",
       " 419.6101127607888,\n",
       " 415.0545170865632,\n",
       " 407.59968622957985,\n",
       " 392.9782178559731,\n",
       " 392.9782178559731,\n",
       " 388.87632240462074,\n",
       " 388.87632240462074,\n",
       " 388.31439458241033,\n",
       " 388.03366760235775,\n",
       " 381.59648743691014,\n",
       " 381.59648743691014,\n",
       " 381.59648743691014,\n",
       " 378.19929115710573,\n",
       " 378.19929115710573,\n",
       " 378.19929115710573,\n",
       " 378.19929115710573,\n",
       " 378.19929115710573,\n",
       " 378.19929115710573,\n",
       " 371.87734184161116,\n",
       " 363.8634723357799,\n",
       " 363.8634723357799,\n",
       " 363.8634723357799,\n",
       " 347.5746848246673,\n",
       " 327.1573403569307,\n",
       " 327.1573403569307,\n",
       " 327.1573403569307,\n",
       " 327.1573403569307,\n",
       " 327.1573403569307,\n",
       " 327.1573403569307,\n",
       " 327.1573403569307,\n",
       " 327.1573403569307,\n",
       " 327.1573403569307,\n",
       " 314.30718433627726,\n",
       " 311.22687518872294,\n",
       " 311.22687518872294,\n",
       " 302.14640275138277,\n",
       " 302.14640275138277,\n",
       " 302.14640275138277,\n",
       " 302.14640275138277,\n",
       " 302.14640275138277,\n",
       " 302.14640275138277,\n",
       " 302.14640275138277,\n",
       " 302.14640275138277,\n",
       " 302.14640275138277,\n",
       " 298.4265402649794,\n",
       " 298.4265402649794,\n",
       " 285.6727317323023,\n",
       " 280.88866406919715,\n",
       " 280.88866406919715,\n",
       " 280.88866406919715,\n",
       " 280.88866406919715,\n",
       " 280.88866406919715,\n",
       " 280.88866406919715,\n",
       " 280.88866406919715,\n",
       " 280.88866406919715,\n",
       " 280.88866406919715,\n",
       " 280.88866406919715,\n",
       " 280.88866406919715,\n",
       " 280.88866406919715,\n",
       " 280.88866406919715,\n",
       " 280.88866406919715,\n",
       " 280.88866406919715,\n",
       " 280.8660495498099,\n",
       " 280.3026359812164,\n",
       " 280.3026359812164,\n",
       " 280.2963913300179,\n",
       " 258.1620238461964,\n",
       " 258.1620238461964,\n",
       " 257.35117499931795,\n",
       " 257.35117499931795,\n",
       " 257.35117499931795,\n",
       " 257.35117499931795,\n",
       " 255.13978757393326,\n",
       " 253.52866653439378,\n",
       " 253.52866653439378,\n",
       " 253.52866653439378,\n",
       " 253.52866653439378,\n",
       " 253.52866653439378,\n",
       " 253.52866653439378,\n",
       " 253.52866653439378,\n",
       " 253.52866653439378,\n",
       " 253.52866653439378,\n",
       " 253.51642232510972,\n",
       " 242.06491967462483,\n",
       " 239.29173748717312,\n",
       " 239.29173748717312,\n",
       " 239.29173748717312,\n",
       " 235.95492714493744,\n",
       " 234.55187300055712,\n",
       " 234.55187300055712,\n",
       " 234.55187300055712,\n",
       " 234.55187300055712,\n",
       " 234.55187300055712,\n",
       " 234.54028603877313,\n",
       " 229.46466796868089,\n",
       " 229.46466796868089,\n",
       " 229.46466796868089,\n",
       " 229.46466796868089,\n",
       " 229.46466796868089,\n",
       " 224.3968185386021,\n",
       " 224.3968185386021,\n",
       " 224.3855832897736,\n",
       " 220.63824531963178,\n",
       " 220.63824531963178,\n",
       " 211.67652146431263,\n",
       " 211.67652146431263,\n",
       " 211.67652146431263,\n",
       " 211.67652146431263,\n",
       " 211.67652146431263,\n",
       " 207.40110227878588,\n",
       " 207.40110227878588,\n",
       " 205.30407812068682,\n",
       " 199.56324307133062,\n",
       " 199.56324307133062,\n",
       " 199.56324307133062,\n",
       " 199.56324307133062,\n",
       " 199.56324307133062,\n",
       " 199.56324307133062,\n",
       " 199.56324307133062,\n",
       " 199.56324307133062,\n",
       " 199.56324307133062,\n",
       " 199.56324307133062,\n",
       " 197.6762146657975,\n",
       " 197.6762146657975,\n",
       " 197.6762146657975,\n",
       " 197.6762146657975,\n",
       " 197.6762146657975,\n",
       " 197.6762146657975,\n",
       " 197.6762146657975,\n",
       " 197.6762146657975,\n",
       " 197.6762146657975,\n",
       " 197.6762146657975,\n",
       " 197.6762146657975,\n",
       " 197.65971898568367,\n",
       " 188.32676469468785,\n",
       " 188.32676469468785,\n",
       " 188.32676469468785,\n",
       " 188.32676469468785]"
      ]
     },
     "execution_count": 69,
     "metadata": {},
     "output_type": "execute_result"
    }
   ],
   "source": [
    "#Printing those features whose % change is more than tau value which is 250\n",
    "sortWeightsDiff[0:250]"
   ]
  },
  {
   "cell_type": "markdown",
   "metadata": {},
   "source": [
    "## L1 Regularization for BoW"
   ]
  },
  {
   "cell_type": "markdown",
   "metadata": {},
   "source": [
    "### [5.8] Building a sparse Logistic Regression by performing GridSearchCV on BoW using L1 Regularization"
   ]
  },
  {
   "cell_type": "code",
   "execution_count": 70,
   "metadata": {
    "scrolled": false
   },
   "outputs": [
    {
     "name": "stdout",
     "output_type": "stream",
     "text": [
      "LogisticRegression(C=1, class_weight='balanced', dual=False,\n",
      "          fit_intercept=True, intercept_scaling=1, max_iter=100,\n",
      "          multi_class='ovr', n_jobs=1, penalty='l1', random_state=None,\n",
      "          solver='liblinear', tol=0.0001, verbose=0, warm_start=False)\n"
     ]
    }
   ],
   "source": [
    "import warnings\n",
    "warnings.filterwarnings('ignore')  # \"error\", \"ignore\", \"always\", \"default\", \"module\" or \"once\"\n",
    "\n",
    "# GridsearchCV trains the model on these parmters to find the best one\n",
    "tuned_parameters = [{'C': [0.00001, 0.0001, 0.001, 0.01, 0.1, 1, 10, 100, 1000, 10000]}] # List of parameters for hyperparameter tuning\n",
    "\n",
    "#Using GridSearchCV. Default regularizer is L2. We can change it to L1 using penalty = 'L1', Giving list of parameters for tuning\n",
    "# to find best hyperparameter. Now using GridSearchCV, LR model is trained on these list of hyperparameters/values of C.\n",
    "# Scoring is taken as f1_macro.\n",
    "model = GridSearchCV(LogisticRegression(penalty='l1', class_weight=\"balanced\"), tuned_parameters, scoring = 'f1_macro', cv=5)\n",
    "model.fit(X_train_bow, Y_train)\n",
    "\n",
    "\n",
    "# model.best.estimator prints the best hyperparameter we are looking for and it prints the remaining parameters default \n",
    "# as they are, because we performaed GridSearch only for best hyperparameter or C.\n",
    "print(model.best_estimator_) \n"
   ]
  },
  {
   "cell_type": "code",
   "execution_count": 71,
   "metadata": {},
   "outputs": [
    {
     "name": "stdout",
     "output_type": "stream",
     "text": [
      "0.8820999045009226\n"
     ]
    }
   ],
   "source": [
    "print(model.score(X_test_bow, Y_test)) # to get the score on test data  "
   ]
  },
  {
   "cell_type": "code",
   "execution_count": 72,
   "metadata": {},
   "outputs": [
    {
     "name": "stdout",
     "output_type": "stream",
     "text": [
      "\n",
      "The test f1-score of the Logistic regression classifier L1 reg for C = 1 is 88.246872%\n"
     ]
    }
   ],
   "source": [
    "# Predicting model on test to find f1-score for L1 Regularization\n",
    "from sklearn.metrics import f1_score\n",
    "logisitc_regression_optimal = LogisticRegression(C = 1)\n",
    "\n",
    "# fitting the model\n",
    "logisitc_regression_optimal.fit(X_train_bow, Y_train)\n",
    "\n",
    "# predict the response\n",
    "pred_bow = logisitc_regression_optimal.predict(X_test_bow)\n",
    "\n",
    "# evaluate accuracy. Using f1_score as metric to measure accuracy\n",
    "test_f1_bow = f1_score(Y_test, pred_bow, pos_label = 'positive', average = 'binary') * float(100)\n",
    "print('\\nThe test f1-score of the Logistic regression classifier L1 reg for C = 1 is %f%%' % (test_f1_bow))"
   ]
  },
  {
   "cell_type": "code",
   "execution_count": 73,
   "metadata": {},
   "outputs": [
    {
     "name": "stdout",
     "output_type": "stream",
     "text": [
      "Test Error for Logistic regression BoW L1 reg is 0.118%\n"
     ]
    }
   ],
   "source": [
    "# Finding test error\n",
    "test_error_bow = (1 - f1_score(Y_test, pred_bow, pos_label = 'positive', average = 'binary')) \n",
    "print(\"Test Error for Logistic regression BoW L1 reg is %.3f%%\" % (test_error_bow))"
   ]
  },
  {
   "cell_type": "markdown",
   "metadata": {},
   "source": [
    "### [5.9]   Plotting the performance of CV and Train scores for L1 regularization¶"
   ]
  },
  {
   "cell_type": "code",
   "execution_count": 74,
   "metadata": {},
   "outputs": [
    {
     "data": {
      "image/png": "[encoded data removed]",
      "text/plain": [
       "<Figure size 1080x288 with 1 Axes>"
      ]
     },
     "metadata": {},
     "output_type": "display_data"
    },
    {
     "name": "stdout",
     "output_type": "stream",
     "text": [
      "The CV f1-score for each alpha value is :  [0.333 0.333 0.665 0.819 0.873 0.877 0.856 0.829 0.811 0.791]\n",
      "the Train score for each alpha value is :  [0.333 0.333 0.665 0.822 0.883 0.934 0.991 0.998 0.999 0.999]\n"
     ]
    }
   ],
   "source": [
    "# Plotting the performance for L1 Reg\n",
    "\n",
    "plt.figure(figsize=(15,4))\n",
    "plt.xlabel('Hyperparamter')\n",
    "plt.ylabel('Scores')\n",
    "plt.plot(model.cv_results_['param_C'].data.astype(np.float64), model.cv_results_['mean_train_score'], \n",
    "         linestyle='--', marker='o', color='b', label='Train Score')\n",
    "plt.plot(model.cv_results_['param_C'].data.astype(np.float64), model.cv_results_['mean_test_score'], \n",
    "         linestyle='--', marker='*', color='r', label='CV Score')\n",
    "plt.legend()\n",
    "plt.show()\n",
    "\n",
    "print(\"The CV f1-score for each alpha value is : \", np.round(model.cv_results_['mean_test_score'],3))\n",
    "\n",
    "print(\"the Train score for each alpha value is : \", np.round(model.cv_results_['mean_train_score'],3))\n"
   ]
  },
  {
   "cell_type": "markdown",
   "metadata": {},
   "source": [
    "### [5.10]   Showing how sparsity increases as we increase lambda or decrease C when L1 Regularizer is used in       BoW\n",
    "\n",
    "By using L1 regularizer we can build a sparse logistic regression and we can compute how many features have been zeroed out because of L1 regularization, as it gives a sparse W vector"
   ]
  },
  {
   "cell_type": "code",
   "execution_count": 75,
   "metadata": {},
   "outputs": [
    {
     "name": "stdout",
     "output_type": "stream",
     "text": [
      "23848\n"
     ]
    }
   ],
   "source": [
    "# More Sparsity (Fewer elements of W* being non-zero) by increasing Lambda (decreasing C) \n",
    "\n",
    "import numpy as np\n",
    "\n",
    "clf = LogisticRegression(C=1000, penalty='l1');  # lambda = 0.001\n",
    "clf.fit(X_train_bow, Y_train);\n",
    "w = clf.coef_     # To get the weight vector, we have to do clf.coef( coefficients)\n",
    "# Count the number of non-zero elements in W. In this case with lambda = 0.001, we got 23953 values\n",
    "print(np.count_nonzero(w))   \n"
   ]
  },
  {
   "cell_type": "code",
   "execution_count": 76,
   "metadata": {},
   "outputs": [
    {
     "name": "stdout",
     "output_type": "stream",
     "text": [
      "21046\n"
     ]
    }
   ],
   "source": [
    "clf = LogisticRegression(C=100, penalty='l1');  # lambda = 0.01\n",
    "clf.fit(X_train_bow, Y_train);\n",
    "w = clf.coef_    # To get the weight vector, we have to do clf.coef( coefficients)\n",
    "# Count the number of non-zero elements in W. In this case with lambda = 0.01, we got 21132 values\n",
    "print(np.count_nonzero(w))\n"
   ]
  },
  {
   "cell_type": "code",
   "execution_count": 77,
   "metadata": {},
   "outputs": [
    {
     "name": "stdout",
     "output_type": "stream",
     "text": [
      "16903\n"
     ]
    }
   ],
   "source": [
    "clf = LogisticRegression(C=10, penalty='l1');  # lambda = 0.1\n",
    "clf.fit(X_train_bow, Y_train);\n",
    "w = clf.coef_    # To get the weight vector, we have to do clf.coef( coefficients)\n",
    "# Count the number of non-zero elements in W. In this case with lambda = 0.01, we got 21132 values\n",
    "print(np.count_nonzero(w))\n"
   ]
  },
  {
   "cell_type": "code",
   "execution_count": 78,
   "metadata": {},
   "outputs": [
    {
     "name": "stdout",
     "output_type": "stream",
     "text": [
      "6673\n"
     ]
    }
   ],
   "source": [
    "clf = LogisticRegression(C=1, penalty='l1');  # Lambda = 1\n",
    "clf.fit(X_train_bow, Y_train);\n",
    "w = clf.coef_   # To get the weight vector, we have to do clf.coef( coefficients)\n",
    "# Count the number of non-zero elements in W. In this case with lambda = 0.01, we got 21132 values\n",
    "print(np.count_nonzero(w))\n"
   ]
  },
  {
   "cell_type": "code",
   "execution_count": 79,
   "metadata": {},
   "outputs": [
    {
     "name": "stdout",
     "output_type": "stream",
     "text": [
      "1253\n"
     ]
    }
   ],
   "source": [
    "clf = LogisticRegression(C=0.1, penalty='l1');  # lambda = 10\n",
    "clf.fit(X_train_bow, Y_train);\n",
    "w = clf.coef_    # To get the weight vector, we have to do clf.coef( coefficients)\n",
    "# Count the number of non-zero elements in W. In this case with lambda = 0.01, we got 21132 values\n",
    "print(np.count_nonzero(w))\n"
   ]
  },
  {
   "cell_type": "code",
   "execution_count": 80,
   "metadata": {},
   "outputs": [
    {
     "name": "stdout",
     "output_type": "stream",
     "text": [
      "211\n"
     ]
    }
   ],
   "source": [
    "clf = LogisticRegression(C=0.01, penalty='l1');  # lambda = 100\n",
    "clf.fit(X_train_bow, Y_train);\n",
    "w = clf.coef_     # To get the weight vector, we have to do clf.coef( coefficients)\n",
    "# Count the number of non-zero elements in W. In this case with lambda = 0.01, we got 21132 values\n",
    "print(np.count_nonzero(w))\n"
   ]
  },
  {
   "cell_type": "code",
   "execution_count": 81,
   "metadata": {},
   "outputs": [
    {
     "name": "stdout",
     "output_type": "stream",
     "text": [
      "15\n"
     ]
    }
   ],
   "source": [
    "clf = LogisticRegression(C=0.001, penalty='l1'); # lambda = 1000\n",
    "clf.fit(X_train_bow, Y_train);\n",
    "w = clf.coef_   # To get the weight vector, we have to do clf.coefficients\n",
    "print(np.count_nonzero(w))  # Count the number of non-zero elements in W. In this case with lambda = 1000, we got 14 values\n"
   ]
  },
  {
   "cell_type": "markdown",
   "metadata": {},
   "source": [
    "#### Observation:- \n",
    "1. Generally as the lambda increases, the model will be underfit. But with L1 regularizer we get more sparsity.\n",
    "2. As the lambda increases, the number of non-zero elements decreases, which means sparsity is increasing (number of zero elements increasing.\n",
    "3. As the lambda decreases, the number of non-zero elements increases, which means sparsity decreases (number of zero elements decreases). "
   ]
  },
  {
   "cell_type": "markdown",
   "metadata": {},
   "source": [
    "## [6] TF-IDF"
   ]
  },
  {
   "cell_type": "code",
   "execution_count": 148,
   "metadata": {},
   "outputs": [
    {
     "name": "stdout",
     "output_type": "stream",
     "text": [
      "the type of TFIDF vectorizer  <class 'scipy.sparse.csr.csr_matrix'>\n",
      "the type of TFIDF vectorizer  <class 'scipy.sparse.csr.csr_matrix'>\n",
      "(70000, 1374690)\n",
      "(30000, 1374690)\n",
      "the number of unique words  1374690\n",
      "the number of unique words  1374690\n"
     ]
    }
   ],
   "source": [
    "# TF-IDF\n",
    "# in Scikit-learn\n",
    "# tf_idf_vect is a variable created \n",
    "tf_idf_vect = TfidfVectorizer(ngram_range=(1,2)) # 1=unigrams, 2=bi-grams\n",
    "\n",
    "# 'final_tf_idf' is the sparse matrix in which all of the tf-idf values are stored. \n",
    "# fit_transform is a function\n",
    "X_train_tfidf = tf_idf_vect.fit_transform(X_train)\n",
    "X_test_tfidf = tf_idf_vect.transform(X_test)\n",
    "\n",
    "print(\"the type of TFIDF vectorizer \",type(X_train_tfidf))\n",
    "print(\"the type of TFIDF vectorizer \",type(X_test_tfidf))\n",
    "\n",
    "print(X_train_tfidf.get_shape())\n",
    "print(X_test_tfidf.get_shape())\n",
    "\n",
    "print(\"the number of unique words \", X_train_tfidf.get_shape()[1])\n",
    "print(\"the number of unique words \", X_test_tfidf.get_shape()[1])\n"
   ]
  },
  {
   "cell_type": "code",
   "execution_count": 149,
   "metadata": {},
   "outputs": [
    {
     "data": {
      "text/plain": [
       "1374690"
      ]
     },
     "execution_count": 149,
     "metadata": {},
     "output_type": "execute_result"
    }
   ],
   "source": [
    "# get_feature_names() function is used to get feature names and all are stored in a variable called 'features'\n",
    "features = tf_idf_vect.get_feature_names()\n",
    "len(features)"
   ]
  },
  {
   "cell_type": "code",
   "execution_count": 150,
   "metadata": {},
   "outputs": [
    {
     "name": "stdout",
     "output_type": "stream",
     "text": [
      "some sample features(unique words in the corpus) are:\n"
     ]
    },
    {
     "data": {
      "text/plain": [
       "['apparentlyso anyone',\n",
       " 'appart',\n",
       " 'appart especially',\n",
       " 'appart first',\n",
       " 'appart returned',\n",
       " 'appartently',\n",
       " 'appartently not',\n",
       " 'appassionato',\n",
       " 'appassionato organic',\n",
       " 'appeal']"
      ]
     },
     "execution_count": 150,
     "metadata": {},
     "output_type": "execute_result"
    }
   ],
   "source": [
    "print(\"some sample features(unique words in the corpus) are:\")\n",
    "features[50000:50010]"
   ]
  },
  {
   "cell_type": "code",
   "execution_count": 151,
   "metadata": {},
   "outputs": [],
   "source": [
    "def top_tfidf_feats(row, features, top_n=20):\n",
    "    ''' Get top n tfidf values in row and return them with their corresponding feature names.'''\n",
    "    topn_ids = np.argsort(row)[::-1][:top_n]   # argsort sorts the top 20 tf-idf words for a given review\n",
    "    top_feats = [(features[i], row[i]) for i in topn_ids]\n",
    "    df = pd.DataFrame(top_feats)\n",
    "    df.columns = ['feature', 'tfidf']\n",
    "    return df\n",
    "\n",
    "# vector 1 corresponding to review 1 and converting it into a numpy array and giving all feature values and prints the top 20 tf-idf values\n",
    "top_tfidf = top_tfidf_feats(X_train_tfidf[1,:].toarray()[0],features,20)"
   ]
  },
  {
   "cell_type": "code",
   "execution_count": 152,
   "metadata": {},
   "outputs": [
    {
     "data": {
      "text/html": [
       "<div>\n",
       "<style scoped>\n",
       "    .dataframe tbody tr th:only-of-type {\n",
       "        vertical-align: middle;\n",
       "    }\n",
       "\n",
       "    .dataframe tbody tr th {\n",
       "        vertical-align: top;\n",
       "    }\n",
       "\n",
       "    .dataframe thead th {\n",
       "        text-align: right;\n",
       "    }\n",
       "</style>\n",
       "<table border=\"1\" class=\"dataframe\">\n",
       "  <thead>\n",
       "    <tr style=\"text-align: right;\">\n",
       "      <th></th>\n",
       "      <th>feature</th>\n",
       "      <th>tfidf</th>\n",
       "    </tr>\n",
       "  </thead>\n",
       "  <tbody>\n",
       "    <tr>\n",
       "      <th>0</th>\n",
       "      <td>laundry</td>\n",
       "      <td>0.152253</td>\n",
       "    </tr>\n",
       "    <tr>\n",
       "      <th>1</th>\n",
       "      <td>precription</td>\n",
       "      <td>0.134825</td>\n",
       "    </tr>\n",
       "    <tr>\n",
       "      <th>2</th>\n",
       "      <td>jd</td>\n",
       "      <td>0.117135</td>\n",
       "    </tr>\n",
       "    <tr>\n",
       "      <th>3</th>\n",
       "      <td>laundry room</td>\n",
       "      <td>0.115896</td>\n",
       "    </tr>\n",
       "    <tr>\n",
       "      <th>4</th>\n",
       "      <td>innova</td>\n",
       "      <td>0.095633</td>\n",
       "    </tr>\n",
       "    <tr>\n",
       "      <th>5</th>\n",
       "      <td>night</td>\n",
       "      <td>0.095278</td>\n",
       "    </tr>\n",
       "    <tr>\n",
       "      <th>6</th>\n",
       "      <td>morning</td>\n",
       "      <td>0.084911</td>\n",
       "    </tr>\n",
       "    <tr>\n",
       "      <th>7</th>\n",
       "      <td>food</td>\n",
       "      <td>0.078863</td>\n",
       "    </tr>\n",
       "    <tr>\n",
       "      <th>8</th>\n",
       "      <td>lab</td>\n",
       "      <td>0.078036</td>\n",
       "    </tr>\n",
       "    <tr>\n",
       "      <th>9</th>\n",
       "      <td>switch</td>\n",
       "      <td>0.070814</td>\n",
       "    </tr>\n",
       "    <tr>\n",
       "      <th>10</th>\n",
       "      <td>room</td>\n",
       "      <td>0.070121</td>\n",
       "    </tr>\n",
       "    <tr>\n",
       "      <th>11</th>\n",
       "      <td>kept</td>\n",
       "      <td>0.068913</td>\n",
       "    </tr>\n",
       "    <tr>\n",
       "      <th>12</th>\n",
       "      <td>pound brother</td>\n",
       "      <td>0.067413</td>\n",
       "    </tr>\n",
       "    <tr>\n",
       "      <th>13</th>\n",
       "      <td>cole great</td>\n",
       "      <td>0.067413</td>\n",
       "    </tr>\n",
       "    <tr>\n",
       "      <th>14</th>\n",
       "      <td>probably eats</td>\n",
       "      <td>0.067413</td>\n",
       "    </tr>\n",
       "    <tr>\n",
       "      <th>15</th>\n",
       "      <td>throuhout night</td>\n",
       "      <td>0.067413</td>\n",
       "    </tr>\n",
       "    <tr>\n",
       "      <th>16</th>\n",
       "      <td>throuhout</td>\n",
       "      <td>0.067413</td>\n",
       "    </tr>\n",
       "    <tr>\n",
       "      <th>17</th>\n",
       "      <td>tall golden</td>\n",
       "      <td>0.067413</td>\n",
       "    </tr>\n",
       "    <tr>\n",
       "      <th>18</th>\n",
       "      <td>corner laundry</td>\n",
       "      <td>0.067413</td>\n",
       "    </tr>\n",
       "    <tr>\n",
       "      <th>19</th>\n",
       "      <td>continue switch</td>\n",
       "      <td>0.067413</td>\n",
       "    </tr>\n",
       "  </tbody>\n",
       "</table>\n",
       "</div>"
      ],
      "text/plain": [
       "            feature     tfidf\n",
       "0           laundry  0.152253\n",
       "1       precription  0.134825\n",
       "2                jd  0.117135\n",
       "3      laundry room  0.115896\n",
       "4            innova  0.095633\n",
       "5             night  0.095278\n",
       "6           morning  0.084911\n",
       "7              food  0.078863\n",
       "8               lab  0.078036\n",
       "9            switch  0.070814\n",
       "10             room  0.070121\n",
       "11             kept  0.068913\n",
       "12    pound brother  0.067413\n",
       "13       cole great  0.067413\n",
       "14    probably eats  0.067413\n",
       "15  throuhout night  0.067413\n",
       "16        throuhout  0.067413\n",
       "17      tall golden  0.067413\n",
       "18   corner laundry  0.067413\n",
       "19  continue switch  0.067413"
      ]
     },
     "execution_count": 152,
     "metadata": {},
     "output_type": "execute_result"
    }
   ],
   "source": [
    "top_tfidf"
   ]
  },
  {
   "cell_type": "markdown",
   "metadata": {},
   "source": [
    "### [6.1]  Performing GridSearchCV on TF-IDF using f1-score as metric and L2 regularization"
   ]
  },
  {
   "cell_type": "code",
   "execution_count": 153,
   "metadata": {},
   "outputs": [
    {
     "name": "stdout",
     "output_type": "stream",
     "text": [
      "LogisticRegression(C=10000, class_weight=None, dual=False, fit_intercept=True,\n",
      "          intercept_scaling=1, max_iter=100, multi_class='ovr', n_jobs=1,\n",
      "          penalty='l2', random_state=None, solver='liblinear', tol=0.0001,\n",
      "          verbose=0, warm_start=False)\n"
     ]
    }
   ],
   "source": [
    "# Performing L2 Regularization\n",
    "from sklearn.model_selection import train_test_split\n",
    "from sklearn.linear_model import LogisticRegression\n",
    "from sklearn.model_selection import GridSearchCV\n",
    "\n",
    "# GridsearchCV trains the model on these parmters to find the best one\n",
    "tuned_parameters = [{'C': [0.00001, 0.0001, 0.001, 0.01, 0.1, 1, 10, 100, 1000, 10000]}] # List of parameters for hyperparameter tuning\n",
    "\n",
    "#Using GridSearchCV. Default regularizer is L2. We can change it to L1 using penalty = 'L1', Giving list of parameters for tuning\n",
    "# to find best hyperparameter. Now using GridSearchCV, LR model is trained on these list of hyperparameters/values of C.\n",
    "# Scoring is taken as f1_macro.\n",
    "model = GridSearchCV(LogisticRegression(), tuned_parameters, scoring = 'f1_macro', cv=5)\n",
    "model.fit(X_train_tfidf, Y_train)\n",
    "\n",
    "# model.best.estimator prints the best hyperparameter we are looking for and it prints the remaining parameters default \n",
    "# as they are, because we performaed GridSearch only for best hyperparameter or C.\n",
    "print(model.best_estimator_) \n"
   ]
  },
  {
   "cell_type": "code",
   "execution_count": 154,
   "metadata": {},
   "outputs": [
    {
     "name": "stdout",
     "output_type": "stream",
     "text": [
      "0.907766666564185\n"
     ]
    }
   ],
   "source": [
    "# to get the score on test data \n",
    "print(model.score(X_test_tfidf, Y_test))  \n"
   ]
  },
  {
   "cell_type": "code",
   "execution_count": 156,
   "metadata": {},
   "outputs": [
    {
     "name": "stdout",
     "output_type": "stream",
     "text": [
      "\n",
      "The test f1-score of the Logistic regression classifier for TFIDF L2 reg for C = 10000 is 90.776359%\n"
     ]
    }
   ],
   "source": [
    "# Predicting model on test to find f1-score for L2 reg\n",
    "from sklearn.metrics import f1_score\n",
    "logisitc_regression_optimal = LogisticRegression(C = 10000)\n",
    "\n",
    "# fitting the model\n",
    "logisitc_regression_optimal.fit(X_train_tfidf, Y_train)\n",
    "\n",
    "# predict the response\n",
    "pred_tfidf = logisitc_regression_optimal.predict(X_test_tfidf)\n",
    "\n",
    "# evaluate accuracy. Using f1_score as metric to measure accuracy\n",
    "test_f1_tfidf = f1_score(Y_test, pred_tfidf, pos_label = 'positive', average = 'binary') * float(100)\n",
    "print('\\nThe test f1-score of the Logistic regression classifier for TFIDF L2 reg for C = 10000 is %f%%' % (test_f1_tfidf))"
   ]
  },
  {
   "cell_type": "code",
   "execution_count": 157,
   "metadata": {},
   "outputs": [
    {
     "name": "stdout",
     "output_type": "stream",
     "text": [
      "Test Error for Logistic regression TF-IDF for L2 reg is 0.092%\n"
     ]
    }
   ],
   "source": [
    "# Finding test error\n",
    "test_error_tfidf = (1 - f1_score(Y_test, pred_tfidf, pos_label = 'positive', average = 'binary')) \n",
    "print(\"Test Error for Logistic regression TF-IDF for L2 reg is %.3f%%\" % (test_error_tfidf))"
   ]
  },
  {
   "cell_type": "markdown",
   "metadata": {},
   "source": [
    "### [6.2]  Plotting the performance of CV and Train scores for TF-IDF using L2 regularization"
   ]
  },
  {
   "cell_type": "code",
   "execution_count": 158,
   "metadata": {},
   "outputs": [
    {
     "data": {
      "image/png": "[encoded data removed]",
      "text/plain": [
       "<Figure size 1080x288 with 1 Axes>"
      ]
     },
     "metadata": {},
     "output_type": "display_data"
    },
    {
     "name": "stdout",
     "output_type": "stream",
     "text": [
      "The CV f1-score for each alpha value is :  [0.79  0.824 0.829 0.833 0.86  0.89  0.902 0.905 0.905 0.905]\n",
      "the Train score for each alpha value is :  [0.801 0.835 0.84  0.846 0.882 0.946 0.997 0.999 0.999 0.999]\n"
     ]
    }
   ],
   "source": [
    "# Plotting the performance of CV and Train scores which we got through L2 regularization\n",
    "\n",
    "plt.figure(figsize=(15,4))\n",
    "plt.xlabel('Hyperparamter')\n",
    "plt.ylabel('Scores')\n",
    "plt.plot(model.cv_results_['param_C'].data.astype(np.float64), model.cv_results_['mean_train_score'], \n",
    "         linestyle='--', marker='o', color='b', label='Train Score')\n",
    "plt.plot(model.cv_results_['param_C'].data.astype(np.float64), model.cv_results_['mean_test_score'], \n",
    "         linestyle='--', marker='*', color='r', label='CV Score')\n",
    "plt.legend()\n",
    "plt.show()\n",
    "\n",
    "print(\"The CV f1-score for each alpha value is : \", np.round(model.cv_results_['mean_test_score'],3))\n",
    "\n",
    "print(\"the Train score for each alpha value is : \", np.round(model.cv_results_['mean_train_score'],3))\n"
   ]
  },
  {
   "cell_type": "markdown",
   "metadata": {},
   "source": [
    "### [6.3]  Plotting ROC curve and finding AUC score for TF-IDF"
   ]
  },
  {
   "cell_type": "code",
   "execution_count": 159,
   "metadata": {},
   "outputs": [
    {
     "data": {
      "image/png": "[encoded data removed]",
      "text/plain": [
       "<Figure size 432x288 with 1 Axes>"
      ]
     },
     "metadata": {},
     "output_type": "display_data"
    }
   ],
   "source": [
    "# ROC curve and AUC for TFIDF\n",
    "from sklearn.metrics import roc_curve, auc\n",
    "# Predicting the probabilities of test data as ROC curve needs probabilities to plot\n",
    "Y_prob = model.fit(X_train_tfidf, Y_train).predict_proba(X_test_tfidf)\n",
    "# Giving actual values(Y_test) and predicted probabilities Y_prob\n",
    "# we need to calculate the fpr and tpr for all thresholds of the classification \n",
    "fpr, tpr, thresholds = roc_curve(Y_test, Y_prob[:, 1], pos_label = 'positive')\n",
    "# We calculate the AUC (Area Under Curve)\n",
    "roc_auc = auc(fpr, tpr)\n",
    "    \n",
    "# Plot FPR (on x-axis) v/s TPR (on y-axis)\n",
    "plt.title('Receiver Operating Characteristic')\n",
    "plt.plot(fpr, tpr, 'b', label='AUC = %0.2f'% roc_auc)\n",
    "plt.legend(loc='lower right')\n",
    "plt.plot([0,1],[0,1],'r--')\n",
    "plt.xlim([-0.1,1.2])\n",
    "plt.ylim([-0.1,1.2])\n",
    "plt.ylabel('True Positive Rate')\n",
    "plt.xlabel('False Positive Rate')\n",
    "plt.show()"
   ]
  },
  {
   "cell_type": "markdown",
   "metadata": {},
   "source": [
    "#### Observation:-\n",
    "\n",
    "From the ROC plot, we got the accuracy of 0.97, which shows that the classifier is working well and predicts correctly.\n"
   ]
  },
  {
   "cell_type": "markdown",
   "metadata": {},
   "source": [
    "### [6.4]  Confusion matrix for TF-IDF"
   ]
  },
  {
   "cell_type": "code",
   "execution_count": 160,
   "metadata": {},
   "outputs": [
    {
     "name": "stdout",
     "output_type": "stream",
     "text": [
      "[[13617  1380]\n",
      " [ 1387 13616]]\n"
     ]
    }
   ],
   "source": [
    "# Using confusion matrix as a another metric to measure accuracy\n",
    "from sklearn.metrics import confusion_matrix\n",
    "cm = confusion_matrix(Y_test, pred_tfidf) # finding confusion matrix between true data and predicted data\n",
    "print(cm)"
   ]
  },
  {
   "cell_type": "code",
   "execution_count": 161,
   "metadata": {},
   "outputs": [
    {
     "data": {
      "image/png": "[encoded data removed]",
      "text/plain": [
       "<Figure size 432x288 with 2 Axes>"
      ]
     },
     "metadata": {},
     "output_type": "display_data"
    }
   ],
   "source": [
    "# plot confusion matrix for TF-IDF\n",
    "class_label = [\"negative\", \"positive\"] # create a class label for columns and rows\n",
    "cm = confusion_matrix(Y_test, pred_tfidf) \n",
    "dataframe_cm = pd.DataFrame(cm, index = class_label, columns = class_label) # create a dataframe to plot confusion matrix\n",
    "# A heatmap is a two-dimensional graphical representation of data in seaborn,\n",
    "# where the individual values in a matrix are represented with colors.\n",
    "sns.heatmap(dataframe_cm, annot = True, fmt = \"d\") # annot=true means, write the data value in each cell\n",
    "plt.title(\"Confusion Matrix for TFIDF\")\n",
    "plt.xlabel(\"Predicted Label\")\n",
    "plt.ylabel(\"True Label\")\n",
    "plt.show()"
   ]
  },
  {
   "cell_type": "markdown",
   "metadata": {},
   "source": [
    "#### Observations:-\n",
    "\n",
    "A Confusion matrix is a table that is often used to describe the performance of the classification model on a set of test data. It is also one of the metric to measure accuracy of the model.\n",
    "\n",
    "A confusion matrix is a summary of prediction results on a classification problem. The number of correct and incorrect predictions are summarized with count values and broken down by each class. The confusion matrix shows how the classification model is confused when it makes predictions.\n",
    "\n",
    "The above confusion matrix is didvided into 2 classes positive and negative with True values and predicted values.\n",
    "\n",
    "    TN - 13617 , FP - 1380\n",
    "\n",
    "    FN - 1387 , TP - 13616  \n",
    "    \n",
    "    where\n",
    "\n",
    "    TN - True negative, True value is negative, and is predicted value is negative.\n",
    "    FP - False positive, True value is negative, but is predicted as positive.\n",
    "    FN - False negative, True value is positive, but is predicted as negative\n",
    "    TP - True positive, True value is positive, and is predicted value is positive.\n",
    "\n",
    "1. There are total of 30000 points being tested against the model. Out of all values, the classifier/model predicted points as positive 14,996 times and negative 15,004 times.\n",
    "2. But in true values(test data), the positive points are 15,003 and negative points are 14,997.\n",
    "3. The diagonal values (13617 negative points, 13616 positive points) in the confusion matrix are correctly predicted values by the classifier.\n",
    "\n"
   ]
  },
  {
   "cell_type": "markdown",
   "metadata": {},
   "source": [
    "#### Finding TPR, FPR, TNR, FNR values\n",
    "\n",
    "1.  TPR tells, when it's actually yes and how often does classifier predict yes\n",
    "\n",
    "    TPR = TP/(TP+FN) = 13616/15003 = 0.9075. TPR also known as Recall\n",
    "\n",
    "\n",
    "2.  FPR tells, when it's actually no, how often does classifier predict yes\n",
    "\n",
    "    FPR = FP/(FP+TN) = 1380/14997 = 0.0937\n",
    "\n",
    "\n",
    "3.  TNR tells, when it's actually no, how often does classifier predict no\n",
    "\n",
    "    TNR = TN/(TN+FP) = 13617/14997 = 0.9079\n",
    "\n",
    "\n",
    "4.  FNR tells, When it's actually yes, how often does it predict no\n",
    "\n",
    "    FNR = FN/(FN+TP) = 1387/15003 = 0.0924\n",
    "\n"
   ]
  },
  {
   "cell_type": "markdown",
   "metadata": {},
   "source": [
    "### [6.5]  Classification report for TF-IDF:-\n",
    "\n",
    "1. Classification Rate/Accuracy:\n",
    "\n",
    "   Accuracy = (TP + TN) / (TP + TN + FP + FN)\n",
    "\n",
    "\n",
    "2. Recall:- It tells, when the points are positive and how often they are predicted positive.\n",
    "\n",
    "   Recall = TP / (TP + FN)\n",
    "\n",
    "\n",
    "3. Precision:- It tells, when the model predicted positive and how often is it correct.\n",
    "\n",
    "   Precision = TP / (TP + FP)\n",
    "\n",
    "\n",
    "4. f1-score = (2 Recall Precision) / (Recall + Presision)\n",
    "\n",
    "\n",
    "5. Support is the total number of points in each class (positive and negative)\n"
   ]
  },
  {
   "cell_type": "code",
   "execution_count": 162,
   "metadata": {},
   "outputs": [
    {
     "name": "stdout",
     "output_type": "stream",
     "text": [
      "Accuracy Score: 0.9077666666666667\n",
      "Report:\n",
      "             precision    recall  f1-score   support\n",
      "\n",
      "   negative       0.91      0.91      0.91     14997\n",
      "   positive       0.91      0.91      0.91     15003\n",
      "\n",
      "avg / total       0.91      0.91      0.91     30000\n",
      "\n"
     ]
    }
   ],
   "source": [
    "# calculate the classification report for TF-IDF\n",
    "from sklearn.metrics import classification_report \n",
    " \n",
    "print('Accuracy Score:', accuracy_score(Y_test, pred_tfidf)) \n",
    "print('Report:')\n",
    "print(classification_report(Y_test, pred_tfidf)) \n"
   ]
  },
  {
   "cell_type": "markdown",
   "metadata": {},
   "source": [
    "### [6.6]  Feature Importance for TF-IDF\n",
    "\n",
    "\n",
    "To find feature Importance, first sort all the words based on its absolute value of feature weight score, where top words have more weight. So for positive class or negative class, we have to find words with highest absolute weight value, as they are most informative/important features or words for determining whether the text/sentence belongs to positive class or negative class.\n",
    "\n",
    "If the weight value of a word is positive and large then probability that the word/feature belongs to positive class increases. If the weight value of a word is negative and large then probability that the word/feature belongs to negative class increases.\n",
    "\n",
    "So we can say that, in Logistic regression we can find feature importance based on absolute value of feature weights."
   ]
  },
  {
   "cell_type": "code",
   "execution_count": 163,
   "metadata": {},
   "outputs": [
    {
     "name": "stdout",
     "output_type": "stream",
     "text": [
      "Smallest Coefs: \n",
      "['not' 'disappointed' 'not good' 'worst' 'awful' 'terrible'\n",
      " 'disappointing' 'not buy' 'horrible' 'bad']\n",
      "\n",
      "Largest Coefs: \n",
      "['great' 'best' 'delicious' 'good' 'perfect' 'love' 'excellent'\n",
      " 'wonderful' 'loves' 'nice']\n",
      "\n"
     ]
    }
   ],
   "source": [
    "feature_names = np.array(tf_idf_vect.get_feature_names())\n",
    "\n",
    "model = LogisticRegression()\n",
    "model.fit(X_train_tfidf, Y_train)\n",
    "\n",
    "sorted_coef_index = model.coef_[0].argsort()\n",
    "\n",
    "print('Smallest Coefs: \\n{}\\n'.format(feature_names[sorted_coef_index[:10]]))\n",
    "print('Largest Coefs: \\n{}\\n'.format(feature_names[sorted_coef_index[:-11:-1]]))"
   ]
  },
  {
   "cell_type": "code",
   "execution_count": 167,
   "metadata": {},
   "outputs": [
    {
     "name": "stdout",
     "output_type": "stream",
     "text": [
      "\t15.6703 \tgreat           \t\t-12.7051 \tnot            \n",
      "\t12.3164 \tbest            \t\t-11.6281 \tdisappointed   \n",
      "\t11.6052 \tdelicious       \t\t-8.7051 \tnot good       \n",
      "\t9.7468 \tgood            \t\t-8.3183 \tworst          \n",
      "\t9.6543 \tperfect         \t\t-7.3266 \tawful          \n",
      "\t9.4453 \tlove            \t\t-7.2922 \tterrible       \n",
      "\t8.8744 \texcellent       \t\t-7.1076 \tdisappointing  \n",
      "\t8.1462 \twonderful       \t\t-7.1034 \tnot buy        \n",
      "\t8.0952 \tloves           \t\t-7.0111 \thorrible       \n",
      "\t7.7237 \tnice            \t\t-6.6569 \tbad            \n"
     ]
    }
   ],
   "source": [
    "# Reference:--  https://stackoverflow.com/questions/11116697/how-to-get-most-informative-features-for-scikit-learn-classifiers\n",
    "\n",
    "def show_most_informative_features(vectorizer, model, n=10): # To print top 10 features \n",
    "    feature_names = vectorizer.get_feature_names()\n",
    "    coefs_with_fns = sorted(zip(model.coef_[0], feature_names)) # fns- feature names\n",
    "    top = zip(coefs_with_fns[:-(n + 1):-1], coefs_with_fns[:n]) \n",
    "    for (coef_1, fn_1), (coef_0, fn_0) in top:  # For positive and negative classes to print top 10 features\n",
    "        print(\"\\t%.4f \\t%-15s \\t\\t%.4f \\t%-15s\" % (coef_1, fn_1, coef_0, fn_0))\n",
    "show_most_informative_features(tf_idf_vect, model)\n"
   ]
  },
  {
   "cell_type": "markdown",
   "metadata": {},
   "source": [
    "## L1 Regularization for TF-IDF"
   ]
  },
  {
   "cell_type": "code",
   "execution_count": 98,
   "metadata": {},
   "outputs": [
    {
     "name": "stdout",
     "output_type": "stream",
     "text": [
      "LogisticRegression(C=10, class_weight='balanced', dual=False,\n",
      "          fit_intercept=True, intercept_scaling=1, max_iter=100,\n",
      "          multi_class='ovr', n_jobs=1, penalty='l1', random_state=None,\n",
      "          solver='liblinear', tol=0.0001, verbose=0, warm_start=False)\n"
     ]
    }
   ],
   "source": [
    "import warnings\n",
    "warnings.filterwarnings('ignore')  # \"error\", \"ignore\", \"always\", \"default\", \"module\" or \"once\"\n",
    "\n",
    "# GridsearchCV trains the model on these parmters to find the best one\n",
    "tuned_parameters = [{'C': [0.00001, 0.0001, 0.001, 0.01, 0.1, 1, 10, 100, 1000, 10000]}] # List of parameters for hyperparameter tuning\n",
    "\n",
    "#Using GridSearchCV. Default regularizer is L2. We can change it to L1 using penalty = 'L1', Giving list of parameters for tuning\n",
    "# to find best hyperparameter. Now using GridSearchCV, LR model is trained on these list of hyperparameters/values of C.\n",
    "# Scoring is taken as f1_macro.\n",
    "model = GridSearchCV(LogisticRegression(penalty='l1', class_weight=\"balanced\"), tuned_parameters, scoring = 'f1_macro', cv=5)\n",
    "model.fit(X_train_tfidf, Y_train)\n",
    "\n",
    "\n",
    "# model.best.estimator prints the best hyperparameter we are looking for and it prints the remaining parameters default \n",
    "# as they are, because we performaed GridSearch only for best hyperparameter or C.\n",
    "print(model.best_estimator_) \n"
   ]
  },
  {
   "cell_type": "code",
   "execution_count": 99,
   "metadata": {},
   "outputs": [
    {
     "name": "stdout",
     "output_type": "stream",
     "text": [
      "0.9004662946317945\n"
     ]
    }
   ],
   "source": [
    "print(model.score(X_test_tfidf, Y_test))"
   ]
  },
  {
   "cell_type": "code",
   "execution_count": 100,
   "metadata": {},
   "outputs": [
    {
     "name": "stdout",
     "output_type": "stream",
     "text": [
      "\n",
      "The test f1-score of the Logistic regression classifier using L1 reg for C = 10 is 90.680908%\n"
     ]
    }
   ],
   "source": [
    "# Predicting model on test to find f1-score for L1 reg\n",
    "from sklearn.metrics import f1_score\n",
    "logisitc_regression_optimal = LogisticRegression(C = 10)\n",
    "\n",
    "# fitting the model\n",
    "logisitc_regression_optimal.fit(X_train_tfidf, Y_train)\n",
    "\n",
    "# predict the response\n",
    "pred_tfidf = logisitc_regression_optimal.predict(X_test_tfidf)\n",
    "\n",
    "# evaluate accuracy. Using f1_score as metric to measure accuracy\n",
    "test_f1_tfidf = f1_score(Y_test, pred_tfidf, pos_label = 'positive', average = 'binary') * float(100)\n",
    "print('\\nThe test f1-score of the Logistic regression classifier using L1 reg for C = 10 is %f%%' % (test_f1_tfidf))"
   ]
  },
  {
   "cell_type": "code",
   "execution_count": 101,
   "metadata": {},
   "outputs": [
    {
     "name": "stdout",
     "output_type": "stream",
     "text": [
      "Test Error for Logistic regression TF-IDF using L1 reg is 0.093%\n"
     ]
    }
   ],
   "source": [
    "# Finding test error\n",
    "test_error_tfidf = (1 - f1_score(Y_test, pred_tfidf, pos_label = 'positive', average = 'binary')) \n",
    "print(\"Test Error for Logistic regression TF-IDF using L1 reg is %.3f%%\" % (test_error_tfidf))"
   ]
  },
  {
   "cell_type": "markdown",
   "metadata": {},
   "source": [
    "### [6.7]  Plotting the performance of CV and Train scores for TF-IDF using L1 regularization"
   ]
  },
  {
   "cell_type": "code",
   "execution_count": 102,
   "metadata": {},
   "outputs": [
    {
     "data": {
      "image/png": "[encoded data removed]",
      "text/plain": [
       "<Figure size 1080x288 with 1 Axes>"
      ]
     },
     "metadata": {},
     "output_type": "display_data"
    },
    {
     "name": "stdout",
     "output_type": "stream",
     "text": [
      "The CV f1-score for each alpha value is :  [0.333 0.333 0.333 0.649 0.812 0.888 0.898 0.893 0.896 0.893]\n",
      "the Train score for each alpha value is :  [0.333 0.333 0.333 0.649 0.813 0.897 0.993 0.999 0.999 0.999]\n"
     ]
    }
   ],
   "source": [
    "# Plotting the performance for TF-IDF using L1 regularization\n",
    "\n",
    "plt.figure(figsize=(15,4))\n",
    "plt.xlabel('Hyperparamter')\n",
    "plt.ylabel('Scores')\n",
    "plt.plot(model.cv_results_['param_C'].data.astype(np.float64), model.cv_results_['mean_train_score'], \n",
    "         linestyle='--', marker='o', color='b', label='Train Score')\n",
    "plt.plot(model.cv_results_['param_C'].data.astype(np.float64), model.cv_results_['mean_test_score'], \n",
    "         linestyle='--', marker='*', color='r', label='CV Score')\n",
    "plt.legend()\n",
    "plt.show()\n",
    "\n",
    "print(\"The CV f1-score for each alpha value is : \", np.round(model.cv_results_['mean_test_score'],3))\n",
    "\n",
    "print(\"the Train score for each alpha value is : \", np.round(model.cv_results_['mean_train_score'],3))\n"
   ]
  },
  {
   "cell_type": "markdown",
   "metadata": {},
   "source": [
    "## [7]  Word2Vec"
   ]
  },
  {
   "cell_type": "code",
   "execution_count": 168,
   "metadata": {},
   "outputs": [],
   "source": [
    "# I am Training Word2Vec model using Amazon fine food text corpus\n",
    "# This is W2V for Train data\n",
    "# We are creating a list of sentences\n",
    "# list_of_sent is created to store sentences\n",
    "i=0\n",
    "list_of_sent_train=[]\n",
    "for sent in X_train:\n",
    "    list_of_sent_train.append(sent.split())"
   ]
  },
  {
   "cell_type": "code",
   "execution_count": 169,
   "metadata": {},
   "outputs": [
    {
     "name": "stdout",
     "output_type": "stream",
     "text": [
      "reason bought hershey amores bar cannot find anywhere received bars no amores bars instead given take bars going try send back receive refund\n",
      "*****************************************************************\n",
      "['reason', 'bought', 'hershey', 'amores', 'bar', 'cannot', 'find', 'anywhere', 'received', 'bars', 'no', 'amores', 'bars', 'instead', 'given', 'take', 'bars', 'going', 'try', 'send', 'back', 'receive', 'refund']\n"
     ]
    }
   ],
   "source": [
    "# One sentence is converted into a list\n",
    "print(X_train.values[0])\n",
    "print(\"*****************************************************************\")\n",
    "print(list_of_sent_train[0])"
   ]
  },
  {
   "cell_type": "code",
   "execution_count": 170,
   "metadata": {},
   "outputs": [
    {
     "name": "stdout",
     "output_type": "stream",
     "text": [
      "17713\n",
      "sample words  ['reason', 'bought', 'hershey', 'amores', 'bar', 'cannot', 'find', 'anywhere', 'received', 'bars', 'no', 'instead', 'given', 'take', 'going', 'try', 'send', 'back', 'receive', 'refund', 'happy', 'read', 'good', 'reviews', 'gradual', 'switch', 'last', 'evening', 'cole', 'great', 'dane', 'lab', 'mix', 'really', 'liked', 'innova', 'kept', 'around', 'corner', 'laundry', 'room', 'food', 'snap', 'shut', 'box', 'old', 'new', 'thought', 'keep', 'door']\n"
     ]
    }
   ],
   "source": [
    "# Train the word2vec model for Train data\n",
    "# min_count=5 says, if the word doesn't occur atleast 5 times then don't construct w2v for it\n",
    "# size=50 says about the dimension of the vector\n",
    "# we are storing Word2Vec model in w2v_model\n",
    "import gensim\n",
    "w2v_model_train = gensim.models.Word2Vec(list_of_sent_train, min_count=5, size=50, workers=4)\n",
    "\n",
    "# we can get dictionary of all the words that we have\n",
    "# we are storing Word2Vec model in w2v_model\n",
    "words_train = list(w2v_model_train.wv.vocab)\n",
    "print(len(words_train))\n",
    "\n",
    "# prints 50 words\n",
    "print(\"sample words \", words_train[0:50])"
   ]
  },
  {
   "cell_type": "code",
   "execution_count": 106,
   "metadata": {},
   "outputs": [
    {
     "data": {
      "text/plain": [
       "[('household', 0.7172931432723999),\n",
       " ('members', 0.7165572047233582),\n",
       " ('member', 0.6632149815559387),\n",
       " ('friends', 0.6623551845550537),\n",
       " ('hubby', 0.6557009220123291),\n",
       " ('husband', 0.6462013721466064),\n",
       " ('mom', 0.6444351673126221),\n",
       " ('relatives', 0.6416627764701843),\n",
       " ('dad', 0.6321682929992676),\n",
       " ('raved', 0.6310843229293823)]"
      ]
     },
     "execution_count": 106,
     "metadata": {},
     "output_type": "execute_result"
    }
   ],
   "source": [
    "w2v_model_train.wv.most_similar('family')"
   ]
  },
  {
   "cell_type": "code",
   "execution_count": 171,
   "metadata": {},
   "outputs": [],
   "source": [
    "# This is W2V for Test data\n",
    "# We are creating a list of sentences\n",
    "# list_of_sent is created to store sentences\n",
    "i=0\n",
    "list_of_sent_test=[]\n",
    "for sent in X_test:\n",
    "    list_of_sent_test.append(sent.split())\n",
    "    "
   ]
  },
  {
   "cell_type": "code",
   "execution_count": 172,
   "metadata": {},
   "outputs": [
    {
     "name": "stdout",
     "output_type": "stream",
     "text": [
      "beware small bars nearly many calories fat candy bartaste chocolate coconut chew variety best described bittersweet cocoa mixed lard\n",
      "*****************************************************************\n",
      "['beware', 'small', 'bars', 'nearly', 'many', 'calories', 'fat', 'candy', 'bartaste', 'chocolate', 'coconut', 'chew', 'variety', 'best', 'described', 'bittersweet', 'cocoa', 'mixed', 'lard']\n"
     ]
    }
   ],
   "source": [
    "# One sentence is converted into a list\n",
    "print(X_test.values[0])\n",
    "print(\"*****************************************************************\")\n",
    "print(list_of_sent_test[0])"
   ]
  },
  {
   "cell_type": "code",
   "execution_count": 173,
   "metadata": {},
   "outputs": [
    {
     "name": "stdout",
     "output_type": "stream",
     "text": [
      "11358\n",
      "sample words  ['beware', 'small', 'bars', 'nearly', 'many', 'calories', 'fat', 'candy', 'chocolate', 'coconut', 'chew', 'variety', 'best', 'described', 'bittersweet', 'cocoa', 'mixed', 'lard', 'tea', 'received', 'cheaper', 'version', 'en', 'green', 'not', 'crop', 'type', 'shown', 'photo', 'misleading', 'unhappy', 'want', 'deal', 'stupid', 'return', 'system', 'amazon', 'no', 'time', 'itdo', 'recommend', 'buying', 'using', 'hair', 'oil', 'years', 'realized', 'mineral', 'petroleum', 'product']\n"
     ]
    }
   ],
   "source": [
    "# Train the word2vec model for Test data\n",
    "# min_count=5 says, if the word doesn't occur atleast 5 times then don't construct w2v for it\n",
    "# size=50 says about the dimension of the vector\n",
    "# we are storing Word2Vec model in w2v_model\n",
    "import gensim\n",
    "w2v_model_test = gensim.models.Word2Vec(list_of_sent_test, min_count=5, size=50, workers=4)\n",
    "\n",
    "# we can get dictionary of all the words that we have\n",
    "# we are storing Word2Vec model in w2v_model\n",
    "words_test = list(w2v_model_test.wv.vocab)\n",
    "print(len(words_test))\n",
    "\n",
    "# prints 50 words\n",
    "print(\"sample words \", words_test[0:50])"
   ]
  },
  {
   "cell_type": "code",
   "execution_count": 110,
   "metadata": {},
   "outputs": [
    {
     "data": {
      "text/plain": [
       "[('okay', 0.7167751789093018),\n",
       " ('weird', 0.6986594796180725),\n",
       " ('gross', 0.6865251064300537),\n",
       " ('nasty', 0.6786848902702332),\n",
       " ('similar', 0.6691201329231262),\n",
       " ('awful', 0.6601837277412415),\n",
       " ('ok', 0.6489063501358032),\n",
       " ('bland', 0.6483946442604065),\n",
       " ('terrible', 0.6477005481719971),\n",
       " ('disgusting', 0.643695592880249)]"
      ]
     },
     "execution_count": 110,
     "metadata": {},
     "output_type": "execute_result"
    }
   ],
   "source": [
    "w2v_model_test.wv.most_similar('like')"
   ]
  },
  {
   "cell_type": "code",
   "execution_count": 111,
   "metadata": {},
   "outputs": [
    {
     "name": "stdout",
     "output_type": "stream",
     "text": [
      "95408\n"
     ]
    }
   ],
   "source": [
    "# list of words in BoW\n",
    "count_vect_feat = count_vect.get_feature_names()\n",
    "print(len(count_vect_feat))"
   ]
  },
  {
   "cell_type": "code",
   "execution_count": 112,
   "metadata": {},
   "outputs": [
    {
     "data": {
      "text/plain": [
       "47186"
      ]
     },
     "execution_count": 112,
     "metadata": {},
     "output_type": "execute_result"
    }
   ],
   "source": [
    "count_vect_feat.index('like')"
   ]
  },
  {
   "cell_type": "code",
   "execution_count": 114,
   "metadata": {},
   "outputs": [
    {
     "name": "stdout",
     "output_type": "stream",
     "text": [
      "like\n"
     ]
    }
   ],
   "source": [
    "print(count_vect_feat[47186])"
   ]
  },
  {
   "cell_type": "markdown",
   "metadata": {},
   "source": [
    "### [7.1]  Avg-Word2Vec\n",
    "\n",
    "We take the average of all word2vec(vector) representations of all words in a review and divide them by number of words in a review. This is vector representation of a review. "
   ]
  },
  {
   "cell_type": "code",
   "execution_count": 174,
   "metadata": {},
   "outputs": [
    {
     "name": "stdout",
     "output_type": "stream",
     "text": [
      "70000\n",
      "50\n"
     ]
    }
   ],
   "source": [
    "# average Word2Vec for Train data\n",
    "# compute average word2vec for each review.\n",
    "from tqdm import tqdm\n",
    "#List to store all the avg w2vec's \n",
    "sent_vectors_train = []; # the avg-w2v for each sentence/review is stored in this list\n",
    "for sent in list_of_sent_train: # for each review/sentence\n",
    "    sent_vec = np.zeros(50) # as word vectors are of zero length\n",
    "    cnt_words =0; # to count num of words with a valid vector in the sentence/review\n",
    "    for word in sent: # for each word in a review/sentence\n",
    "        if word in words_train:\n",
    "            vec = w2v_model_train.wv[word] # vector of each word using w2v model\n",
    "            sent_vec += vec # Adding the vectors\n",
    "            cnt_words += 1\n",
    "    if cnt_words != 0:\n",
    "        sent_vec /= cnt_words  # Taking average of vectors sum of the particular review\n",
    "    sent_vectors_train.append(sent_vec)  # Storing the avg w2vec's for each review in the list\n",
    "print(len(sent_vectors_train))\n",
    "print(len(sent_vectors_train[0]))"
   ]
  },
  {
   "cell_type": "code",
   "execution_count": 175,
   "metadata": {},
   "outputs": [
    {
     "name": "stdout",
     "output_type": "stream",
     "text": [
      "30000\n",
      "50\n"
     ]
    }
   ],
   "source": [
    "# average Word2Vec for Test data\n",
    "# compute average word2vec for each review.\n",
    "from tqdm import tqdm\n",
    "sent_vectors_test = []; # the avg-w2v for each sentence/review is stored in this list\n",
    "for sent in list_of_sent_test: # for each review/sentence\n",
    "    sent_vec = np.zeros(50) # as word vectors are of zero length\n",
    "    cnt_words =0; # num of words with a valid vector in the sentence/review\n",
    "    for word in sent: # for each word in a review/sentence\n",
    "        if word in words_test:\n",
    "            vec = w2v_model_test.wv[word]\n",
    "            sent_vec += vec\n",
    "            cnt_words += 1\n",
    "    if cnt_words != 0:\n",
    "        sent_vec /= cnt_words\n",
    "    sent_vectors_test.append(sent_vec)\n",
    "print(len(sent_vectors_test))\n",
    "print(len(sent_vectors_test[0]))"
   ]
  },
  {
   "cell_type": "markdown",
   "metadata": {},
   "source": [
    "### [7.2]  Performing GridSearch CV on AvgW2V using f1-score as metric using L2 regularization"
   ]
  },
  {
   "cell_type": "code",
   "execution_count": 117,
   "metadata": {},
   "outputs": [
    {
     "name": "stdout",
     "output_type": "stream",
     "text": [
      "LogisticRegression(C=0.1, class_weight=None, dual=False, fit_intercept=True,\n",
      "          intercept_scaling=1, max_iter=100, multi_class='ovr', n_jobs=1,\n",
      "          penalty='l2', random_state=None, solver='liblinear', tol=0.0001,\n",
      "          verbose=0, warm_start=False)\n"
     ]
    }
   ],
   "source": [
    "\n",
    "# Performing L2 Regularization\n",
    "from sklearn.model_selection import train_test_split\n",
    "from sklearn.linear_model import LogisticRegression\n",
    "from sklearn.model_selection import GridSearchCV\n",
    "\n",
    "# GridsearchCV trains the model on these parmters to find the best one\n",
    "tuned_parameters = [{'C': [0.00001, 0.0001, 0.001, 0.01, 0.1, 1, 10, 100, 1000, 10000]}] # List of parameters for hyperparameter tuning\n",
    "\n",
    "#Using GridSearchCV. Default regularizer is L2. We can change it to L1 using penalty = 'L1', Giving list of parameters for tuning\n",
    "# to find best hyperparameter. Now using GridSearchCV, LR model is trained on these list of hyperparameters/values of C.\n",
    "# Scoring is taken as f1_macro.\n",
    "model = GridSearchCV(LogisticRegression(), tuned_parameters, scoring = 'f1_macro', cv=5)\n",
    "model.fit(sent_vectors_train, Y_train)\n",
    "\n",
    "\n",
    "# model.best.estimator prints the best hyperparameter we are looking for and it prints the remaining parameters default \n",
    "# as they are, because we performaed GridSearch only for best hyperparameter or C.\n",
    "print(model.best_estimator_) \n"
   ]
  },
  {
   "cell_type": "code",
   "execution_count": 118,
   "metadata": {},
   "outputs": [
    {
     "name": "stdout",
     "output_type": "stream",
     "text": [
      "0.7874533560407926\n"
     ]
    }
   ],
   "source": [
    "# to get the score on test data \n",
    "print(model.score(sent_vectors_test, Y_test))  \n"
   ]
  },
  {
   "cell_type": "code",
   "execution_count": 119,
   "metadata": {},
   "outputs": [
    {
     "name": "stdout",
     "output_type": "stream",
     "text": [
      "\n",
      "The test f1-score of the Logistic regression classifier AvgW2V for C = 0.1 is 78.187046%\n"
     ]
    }
   ],
   "source": [
    "# Predicting model on test to find f1-score\n",
    "from sklearn.metrics import f1_score\n",
    "logisitc_regression_optimal = LogisticRegression(C = 0.1)\n",
    "\n",
    "# fitting the model\n",
    "logisitc_regression_optimal.fit(sent_vectors_train, Y_train)\n",
    "\n",
    "# predict the response\n",
    "pred_w2v = logisitc_regression_optimal.predict(sent_vectors_test)\n",
    "\n",
    "# evaluate accuracy. Using f1_score as metric to measure accuracy\n",
    "test_f1_w2v = f1_score(Y_test, pred_w2v, pos_label = 'positive', average = 'binary') * float(100)\n",
    "print('\\nThe test f1-score of the Logistic regression classifier AvgW2V for C = 0.1 is %f%%' % (test_f1_w2v))"
   ]
  },
  {
   "cell_type": "code",
   "execution_count": 120,
   "metadata": {},
   "outputs": [
    {
     "name": "stdout",
     "output_type": "stream",
     "text": [
      "Test Error for Logistic regression AvgW2v is 0.218%\n"
     ]
    }
   ],
   "source": [
    "# Finding test error\n",
    "test_error_w2v = (1 - f1_score(Y_test, pred_w2v, pos_label = 'positive', average = 'binary')) \n",
    "print(\"Test Error for Logistic regression AvgW2v is %.3f%%\" % (test_error_w2v))"
   ]
  },
  {
   "cell_type": "markdown",
   "metadata": {},
   "source": [
    "### [7.3] Plotting the performance of CV and Train scores for AvgW2V for L2 regularization"
   ]
  },
  {
   "cell_type": "code",
   "execution_count": 121,
   "metadata": {},
   "outputs": [
    {
     "data": {
      "image/png": "[encoded data removed]",
      "text/plain": [
       "<Figure size 1080x288 with 1 Axes>"
      ]
     },
     "metadata": {},
     "output_type": "display_data"
    },
    {
     "name": "stdout",
     "output_type": "stream",
     "text": [
      "The CV f1-score for each alpha value is :  [0.816 0.825 0.835 0.841 0.842 0.841 0.841 0.841 0.841 0.841]\n",
      "the Train score for each alpha value is :  [0.816 0.826 0.835 0.841 0.842 0.842 0.842 0.842 0.842 0.842]\n"
     ]
    }
   ],
   "source": [
    "# Plotting the performance of CV and Train scores which we got through L2 regularization\n",
    "\n",
    "plt.figure(figsize=(15,4))\n",
    "plt.xlabel('Hyperparamter')\n",
    "plt.ylabel('Scores')\n",
    "plt.plot(model.cv_results_['param_C'].data.astype(np.float64), model.cv_results_['mean_train_score'], \n",
    "         linestyle='--', marker='o', color='b', label='Train Score')\n",
    "plt.plot(model.cv_results_['param_C'].data.astype(np.float64), model.cv_results_['mean_test_score'], \n",
    "         linestyle='--', marker='*', color='r', label='CV Score')\n",
    "plt.legend()\n",
    "plt.show()\n",
    "\n",
    "print(\"The CV f1-score for each alpha value is : \", np.round(model.cv_results_['mean_test_score'],3))\n",
    "\n",
    "print(\"the Train score for each alpha value is : \", np.round(model.cv_results_['mean_train_score'],3))"
   ]
  },
  {
   "cell_type": "markdown",
   "metadata": {},
   "source": [
    "### [7.4] Plotting ROC curve and finding AUC score for AvgW2V"
   ]
  },
  {
   "cell_type": "code",
   "execution_count": 122,
   "metadata": {},
   "outputs": [
    {
     "data": {
      "image/png": "[encoded data removed]",
      "text/plain": [
       "<Figure size 432x288 with 1 Axes>"
      ]
     },
     "metadata": {},
     "output_type": "display_data"
    }
   ],
   "source": [
    "# ROC curve and AUC for AvgW2V\n",
    "from sklearn.metrics import roc_curve, auc\n",
    "# Predicting the probabilities of test data as ROC curve needs probabilities to plot\n",
    "Y_prob = model.fit(sent_vectors_train, Y_train).predict_proba(sent_vectors_test)\n",
    "# Giving actual values(Y_test) and predicted probabilities Y_prob\n",
    "# we need to calculate the fpr and tpr for all thresholds of the classification \n",
    "fpr, tpr, thresholds = roc_curve(Y_test, Y_prob[:, 1], pos_label = 'positive')\n",
    "# We calculate the AUC (Area Under Curve)\n",
    "roc_auc = auc(fpr, tpr)\n",
    "    \n",
    "# Plot FPR (on x-axis) v/s TPR (on y-axis)\n",
    "plt.title('Receiver Operating Characteristic')\n",
    "plt.plot(fpr, tpr, 'b', label='AUC = %0.2f'% roc_auc)\n",
    "plt.legend(loc='lower right')\n",
    "plt.plot([0,1],[0,1],'r--')\n",
    "plt.xlim([-0.1,1.2])\n",
    "plt.ylim([-0.1,1.2])\n",
    "plt.ylabel('True Positive Rate')\n",
    "plt.xlabel('False Positive Rate')\n",
    "plt.show()"
   ]
  },
  {
   "cell_type": "markdown",
   "metadata": {},
   "source": [
    "#### Observation:-\n",
    "From the ROC plot, we got the accuracy of 0.87"
   ]
  },
  {
   "cell_type": "markdown",
   "metadata": {},
   "source": [
    "### [7.5]  Confusion matrix for AvgW2V"
   ]
  },
  {
   "cell_type": "code",
   "execution_count": 123,
   "metadata": {},
   "outputs": [
    {
     "name": "stdout",
     "output_type": "stream",
     "text": [
      "[[12208  2789]\n",
      " [ 3583 11420]]\n"
     ]
    }
   ],
   "source": [
    "# Using confusion matrix as a another metric to measure accuracy\n",
    "from sklearn.metrics import confusion_matrix\n",
    "cm = confusion_matrix(Y_test, pred_w2v) # finding confusion matrix between true data and predicted data\n",
    "print(cm)"
   ]
  },
  {
   "cell_type": "code",
   "execution_count": 124,
   "metadata": {},
   "outputs": [
    {
     "data": {
      "image/png": "[encoded data removed]",
      "text/plain": [
       "<Figure size 432x288 with 2 Axes>"
      ]
     },
     "metadata": {},
     "output_type": "display_data"
    }
   ],
   "source": [
    "# plot confusion matrix for AvgW2V\n",
    "class_label = [\"negative\", \"positive\"] # create a class label for columns and rows\n",
    "cm = confusion_matrix(Y_test, pred_w2v) \n",
    "dataframe_cm = pd.DataFrame(cm, index = class_label, columns = class_label) # create a dataframe to plot confusion matrix\n",
    "# A heatmap is a two-dimensional graphical representation of data in seaborn,\n",
    "# where the individual values in a matrix are represented with colors.\n",
    "sns.heatmap(dataframe_cm, annot = True, fmt = \"d\") # annot=true means, write the data value in each cell\n",
    "plt.title(\"Confusion Matrix for AvgW2V\")\n",
    "plt.xlabel(\"Predicted Label\")\n",
    "plt.ylabel(\"True Label\")\n",
    "plt.show()"
   ]
  },
  {
   "cell_type": "markdown",
   "metadata": {},
   "source": [
    "#### Observations:-\n",
    "\n",
    "A Confusion matrix is a table that is often used to describe the performance of the classification model on a set of test data. It is also one of the metric to measure accuracy of the model.\n",
    "\n",
    "A confusion matrix is a summary of prediction results on a classification problem. The number of correct and incorrect predictions are summarized with count values and broken down by each class. The confusion matrix shows how the classification model is confused when it makes predictions.\n",
    "\n",
    "The above confusion matrix is didvided into 2 classes positive and negative with True values and predicted values.\n",
    "\n",
    "TN - 12208 , FP - 2789\n",
    "\n",
    "FN - 3583 , TP - 11420\n",
    "\n",
    "where\n",
    "\n",
    "TN - True negative, True value is negative, and is predicted value is negative.\n",
    "FP - False positive, True value is negative, but is predicted as positive.\n",
    "FN - False negative, True value is positive, but is predicted as negative\n",
    "TP - True positive, True value is positive, and is predicted value is positive.\n",
    "\n",
    "1. There are total of 30000 points being tested against the model. Out of all values, the classifier/model predicted points as positive 14,209 times and negative 15,791 times.\n",
    "2. But in true values(test data), the positive points are 15,003 and negative points are 14,997.\n",
    "3. The diagonal values (12208 negative points, 11420 positive points) in the confusion matrix are correctly predicted values by the classifier.\n"
   ]
  },
  {
   "cell_type": "markdown",
   "metadata": {},
   "source": [
    "#### Finding TPR, FPR, TNR, FNR values\n",
    "\n",
    "1. TPR tells, when it's actually yes and how often does classifier predict yes\n",
    "\n",
    "   TPR = TP/(TP+FN) . TPR also known as Recall\n",
    "\n",
    "\n",
    "2. FPR tells, when it's actually no, how often does classifier predict yes\n",
    "\n",
    "   FPR = FP/(FP+TN) \n",
    "\n",
    "\n",
    "3. TNR tells, when it's actually no, how often does classifier predict no\n",
    "\n",
    "   TNR = TN/(TN+FP) \n",
    "\n",
    "\n",
    "4. FNR tells, When it's actually yes, how often does it predict no\n",
    "\n",
    "   FNR = FN/(FN+TP) \n"
   ]
  },
  {
   "cell_type": "markdown",
   "metadata": {},
   "source": [
    "### [7.6] Classification report for AvgW2V:-\n",
    "\n",
    "1. Classification Rate/Accuracy:\n",
    "\n",
    "   Accuracy = (TP + TN) / (TP + TN + FP + FN)\n",
    "\n",
    "\n",
    "2. Recall:- It tells, when the points are positive and how often they are predicted positive.\n",
    "\n",
    "   Recall = TP / (TP + FN)\n",
    "\n",
    "\n",
    "3. Precision:- It tells, when the model predicted positive and how often is it correct.\n",
    "\n",
    "   Precision = TP / (TP + FP)\n",
    "\n",
    "\n",
    "4. f1-score = (2 Recall Precision) / (Recall + Presision)\n",
    "\n",
    "\n",
    "5. Support is the total number of points in each class (positive and negative)\n"
   ]
  },
  {
   "cell_type": "code",
   "execution_count": 125,
   "metadata": {},
   "outputs": [
    {
     "name": "stdout",
     "output_type": "stream",
     "text": [
      "Accuracy Score: 0.7876\n",
      "Report:\n",
      "             precision    recall  f1-score   support\n",
      "\n",
      "   negative       0.77      0.81      0.79     14997\n",
      "   positive       0.80      0.76      0.78     15003\n",
      "\n",
      "avg / total       0.79      0.79      0.79     30000\n",
      "\n"
     ]
    }
   ],
   "source": [
    "# calculate the classification report for AvgW2V\n",
    "from sklearn.metrics import classification_report \n",
    " \n",
    "print('Accuracy Score:', accuracy_score(Y_test, pred_w2v)) \n",
    "print('Report:')\n",
    "print(classification_report(Y_test, pred_w2v)) \n"
   ]
  },
  {
   "cell_type": "markdown",
   "metadata": {},
   "source": [
    "## L1 Regularization for Avg W2V"
   ]
  },
  {
   "cell_type": "code",
   "execution_count": 176,
   "metadata": {},
   "outputs": [
    {
     "name": "stdout",
     "output_type": "stream",
     "text": [
      "LogisticRegression(C=10000, class_weight='balanced', dual=False,\n",
      "          fit_intercept=True, intercept_scaling=1, max_iter=100,\n",
      "          multi_class='ovr', n_jobs=1, penalty='l1', random_state=None,\n",
      "          solver='liblinear', tol=0.0001, verbose=0, warm_start=False)\n"
     ]
    }
   ],
   "source": [
    "import warnings\n",
    "warnings.filterwarnings('ignore')  # \"error\", \"ignore\", \"always\", \"default\", \"module\" or \"once\"\n",
    "\n",
    "# GridsearchCV trains the model on these parmters to find the best one\n",
    "tuned_parameters = [{'C': [0.00001, 0.0001, 0.001, 0.01, 0.1, 1, 10, 100, 1000, 10000]}] # List of parameters for hyperparameter tuning\n",
    "\n",
    "#Using GridSearchCV. Default regularizer is L2. We can change it to L1 using penalty = 'L1', Giving list of parameters for tuning\n",
    "# to find best hyperparameter. Now using GridSearchCV, LR model is trained on these list of hyperparameters/values of C.\n",
    "# Scoring is taken as f1_macro.\n",
    "model = GridSearchCV(LogisticRegression(penalty='l1', class_weight=\"balanced\"), tuned_parameters, scoring = 'f1_macro', cv=5)\n",
    "model.fit(sent_vectors_train, Y_train)\n",
    "\n",
    "\n",
    "# model.best.estimator prints the best hyperparameter we are looking for and it prints the remaining parameters default \n",
    "# as they are, because we performaed GridSearch only for best hyperparameter or C.\n",
    "print(model.best_estimator_) \n"
   ]
  },
  {
   "cell_type": "code",
   "execution_count": 177,
   "metadata": {},
   "outputs": [
    {
     "name": "stdout",
     "output_type": "stream",
     "text": [
      "0.7573189498687143\n"
     ]
    }
   ],
   "source": [
    "# to get the score on test data \n",
    "print(model.score(sent_vectors_test, Y_test)) "
   ]
  },
  {
   "cell_type": "code",
   "execution_count": 178,
   "metadata": {},
   "outputs": [
    {
     "name": "stdout",
     "output_type": "stream",
     "text": [
      "\n",
      "The test f1-score of the Logistic regression classifier AvgW2V for C = 10000 is 72.396796%\n"
     ]
    }
   ],
   "source": [
    "# Predicting model on test to find f1-score L1 reg\n",
    "from sklearn.metrics import f1_score\n",
    "logisitc_regression_optimal = LogisticRegression(C = 10000)\n",
    "\n",
    "# fitting the model\n",
    "logisitc_regression_optimal.fit(sent_vectors_train, Y_train)\n",
    "\n",
    "# predict the response\n",
    "pred_w2v = logisitc_regression_optimal.predict(sent_vectors_test)\n",
    "\n",
    "# evaluate accuracy. Using f1_score as metric to measure accuracy\n",
    "test_f1_w2v = f1_score(Y_test, pred_w2v, pos_label = 'positive', average = 'binary') * float(100)\n",
    "print('\\nThe test f1-score of the Logistic regression classifier AvgW2V for C = 10000 is %f%%' % (test_f1_w2v))"
   ]
  },
  {
   "cell_type": "code",
   "execution_count": 180,
   "metadata": {},
   "outputs": [
    {
     "name": "stdout",
     "output_type": "stream",
     "text": [
      "Test Error for Logistic regression AvgW2v L1 Reg is 0.276%\n"
     ]
    }
   ],
   "source": [
    "# Finding test error\n",
    "test_error_w2v = (1 - f1_score(Y_test, pred_w2v, pos_label = 'positive', average = 'binary')) \n",
    "print(\"Test Error for Logistic regression AvgW2v L1 Reg is %.3f%%\" % (test_error_w2v))"
   ]
  },
  {
   "cell_type": "markdown",
   "metadata": {},
   "source": [
    "### [7.7]  Plotting the performance of CV and Train scores for L1 regularization for AvgW2V "
   ]
  },
  {
   "cell_type": "code",
   "execution_count": 181,
   "metadata": {},
   "outputs": [
    {
     "data": {
      "image/png": "[encoded data removed]",
      "text/plain": [
       "<Figure size 1080x288 with 1 Axes>"
      ]
     },
     "metadata": {},
     "output_type": "display_data"
    },
    {
     "name": "stdout",
     "output_type": "stream",
     "text": [
      "The CV f1-score for each alpha value is :  [0.333 0.333 0.806 0.838 0.842 0.842 0.842 0.842 0.842 0.842]\n",
      "the Train score for each alpha value is :  [0.333 0.333 0.807 0.838 0.842 0.842 0.842 0.842 0.842 0.842]\n"
     ]
    }
   ],
   "source": [
    "# Plotting the performance of CV and Train scores which we got through L1 regularization\n",
    "\n",
    "plt.figure(figsize=(15,4))\n",
    "plt.xlabel('Hyperparamter')\n",
    "plt.ylabel('Scores')\n",
    "plt.plot(model.cv_results_['param_C'].data.astype(np.float64), model.cv_results_['mean_train_score'], \n",
    "         linestyle='--', marker='o', color='b', label='Train Score')\n",
    "plt.plot(model.cv_results_['param_C'].data.astype(np.float64), model.cv_results_['mean_test_score'], \n",
    "         linestyle='--', marker='*', color='r', label='CV Score')\n",
    "plt.legend()\n",
    "plt.show()\n",
    "\n",
    "print(\"The CV f1-score for each alpha value is : \", np.round(model.cv_results_['mean_test_score'],3))\n",
    "\n",
    "print(\"the Train score for each alpha value is : \", np.round(model.cv_results_['mean_train_score'],3))"
   ]
  },
  {
   "cell_type": "markdown",
   "metadata": {},
   "source": [
    "## [8]  TFIDF-W2V"
   ]
  },
  {
   "cell_type": "code",
   "execution_count": 182,
   "metadata": {},
   "outputs": [],
   "source": [
    "model = TfidfVectorizer()\n",
    "tfidf_train_matrix = model.fit_transform(X_train)\n",
    "tfidf_test_matrix = model.transform(X_test)\n",
    "\n",
    "# we are converting a dictionary with word as a key, and the idf as a value\n",
    "dictionary = dict(zip(model.get_feature_names(), list(model.idf_)))\n"
   ]
  },
  {
   "cell_type": "code",
   "execution_count": 183,
   "metadata": {},
   "outputs": [
    {
     "name": "stdout",
     "output_type": "stream",
     "text": [
      "(70000, 95408)\n",
      "(30000, 95408)\n"
     ]
    }
   ],
   "source": [
    "print(tfidf_train_matrix.get_shape()) \n",
    "print(tfidf_test_matrix.get_shape()) \n"
   ]
  },
  {
   "cell_type": "code",
   "execution_count": 184,
   "metadata": {},
   "outputs": [
    {
     "name": "stderr",
     "output_type": "stream",
     "text": [
      "100%|██████████| 70000/70000 [05:39<00:00, 205.92it/s]\n"
     ]
    }
   ],
   "source": [
    "# TF-IDF weighted Word2Vec for Train data\n",
    "\n",
    "tfidf_feat = model.get_feature_names() # tfidf words/col-names\n",
    "# final_tf_idf is the sparse matrix with row= sentence, col=word and cell_val = tfidf\n",
    "\n",
    "tfidf_sent_vectors_train = []; # the tfidf-w2v for each sentence/review is stored in this list\n",
    "row=0;\n",
    "for sent in tqdm(list_of_sent_train): # for each review/sentence \n",
    "    sent_vec = np.zeros(50) # as word vectors are of zero length\n",
    "    weight_sum =0; # num of words with a valid vector in the sentence/review\n",
    "    for word in sent: # for each word in a review/sentence\n",
    "        if word in words_train:\n",
    "            try:\n",
    "                vec = w2v_model_train.wv[word]\n",
    "            # tf_idf = tfidf_train_matrix[row, tfidf_feat.index(word)]\n",
    "            # to reduce the computation we are \n",
    "            # dictionary[word] = idf value of word in whole courpus\n",
    "            # sent.count(word) = tf valeus of word in this review\n",
    "                tf_idf = dictionary[word]*(sent.count(word)/len(sent))\n",
    "                sent_vec += (vec * tf_idf)\n",
    "                weight_sum += tf_idf\n",
    "            except:\n",
    "                pass\n",
    "    if weight_sum != 0:\n",
    "        sent_vec /= weight_sum\n",
    "    tfidf_sent_vectors_train.append(sent_vec)\n",
    "    row += 1"
   ]
  },
  {
   "cell_type": "code",
   "execution_count": 185,
   "metadata": {},
   "outputs": [
    {
     "name": "stderr",
     "output_type": "stream",
     "text": [
      "100%|██████████| 30000/30000 [01:37<00:00, 306.65it/s]\n"
     ]
    }
   ],
   "source": [
    "# TF-IDF weighted Word2Vec for Test data\n",
    "\n",
    "tfidf_feat = model.get_feature_names() # tfidf words/col-names\n",
    "# final_tf_idf is the sparse matrix with row= sentence, col=word and cell_val = tfidf\n",
    "\n",
    "tfidf_sent_vectors_test = []; # the tfidf-w2v for each sentence/review is stored in this list\n",
    "row=0;\n",
    "for sent in tqdm(list_of_sent_test): # for each review/sentence \n",
    "    sent_vec = np.zeros(50) # as word vectors are of zero length\n",
    "    weight_sum =0; # num of words with a valid vector in the sentence/review\n",
    "    for word in sent: # for each word in a review/sentence\n",
    "        if word in words_test:\n",
    "            try:\n",
    "                vec = w2v_model_test.wv[word]\n",
    "                tf_idf = dictionary[word]*(sent.count(word)/len(sent))\n",
    "            #tf_idf = tfidf_test_matrix[row, tfidf_feat.index(word)]\n",
    "                sent_vec += (vec * tf_idf)\n",
    "                weight_sum += tf_idf\n",
    "            except:\n",
    "                pass\n",
    "    if weight_sum != 0:\n",
    "        sent_vec /= weight_sum\n",
    "    tfidf_sent_vectors_test.append(sent_vec)\n",
    "    row += 1"
   ]
  },
  {
   "cell_type": "markdown",
   "metadata": {},
   "source": [
    "### [8.1]  Performing GridSearch CV on TFIDF-W2V using f1-score as metric with L2 regularization"
   ]
  },
  {
   "cell_type": "code",
   "execution_count": 186,
   "metadata": {},
   "outputs": [
    {
     "name": "stdout",
     "output_type": "stream",
     "text": [
      "LogisticRegression(C=0.01, class_weight=None, dual=False, fit_intercept=True,\n",
      "          intercept_scaling=1, max_iter=100, multi_class='ovr', n_jobs=1,\n",
      "          penalty='l2', random_state=None, solver='liblinear', tol=0.0001,\n",
      "          verbose=0, warm_start=False)\n"
     ]
    }
   ],
   "source": [
    "\n",
    "# Performing L2 Regularization\n",
    "from sklearn.model_selection import train_test_split\n",
    "from sklearn.linear_model import LogisticRegression\n",
    "from sklearn.model_selection import GridSearchCV\n",
    "\n",
    "# GridsearchCV trains the model on these parmters to find the best one\n",
    "tuned_parameters = [{'C': [0.00001, 0.0001, 0.001, 0.01, 0.1, 1, 10, 100, 1000, 10000]}] # List of parameters for hyperparameter tuning\n",
    "\n",
    "#Using GridSearchCV. Default regularizer is L2. We can change it to L1 using penalty = 'L1', Giving list of parameters for tuning\n",
    "# to find best hyperparameter. Now using GridSearchCV, LR model is trained on these list of hyperparameters/values of C.\n",
    "# Scoring is taken as f1_macro.\n",
    "model = GridSearchCV(LogisticRegression(), tuned_parameters, scoring = 'f1_macro', cv=5)\n",
    "model.fit(tfidf_sent_vectors_train, Y_train)\n",
    "\n",
    "\n",
    "# model.best.estimator prints the best hyperparameter we are looking for and it prints the remaining parameters default \n",
    "# as they are, because we performaed GridSearch only for best hyperparameter or C.\n",
    "print(model.best_estimator_) \n"
   ]
  },
  {
   "cell_type": "code",
   "execution_count": 187,
   "metadata": {},
   "outputs": [
    {
     "name": "stdout",
     "output_type": "stream",
     "text": [
      "0.7557357762465657\n"
     ]
    }
   ],
   "source": [
    "# to get the score on test data \n",
    "\n",
    "print(model.score(tfidf_sent_vectors_test, Y_test))  \n"
   ]
  },
  {
   "cell_type": "code",
   "execution_count": 188,
   "metadata": {},
   "outputs": [
    {
     "name": "stdout",
     "output_type": "stream",
     "text": [
      "\n",
      "The test f1-score of the Logistic regression classifier TFIDF-W2V for C = 0.01 is 73.660989%\n"
     ]
    }
   ],
   "source": [
    "# Predicting model on test to find f1-score for L2 reg\n",
    "from sklearn.metrics import f1_score\n",
    "logisitc_regression_optimal = LogisticRegression(C = 0.01)\n",
    "\n",
    "# fitting the model\n",
    "logisitc_regression_optimal.fit(tfidf_sent_vectors_train, Y_train)\n",
    "\n",
    "# predict the response\n",
    "pred_tfidf_w2v = logisitc_regression_optimal.predict(tfidf_sent_vectors_test)\n",
    "\n",
    "# evaluate accuracy. Using f1_score as metric to measure accuracy\n",
    "test_f1_tfidf_w2v = f1_score(Y_test, pred_tfidf_w2v, pos_label = 'positive', average = 'binary') * float(100)\n",
    "print('\\nThe test f1-score of the Logistic regression classifier TFIDF-W2V for C = 0.01 is %f%%' % (test_f1_tfidf_w2v))"
   ]
  },
  {
   "cell_type": "code",
   "execution_count": 189,
   "metadata": {},
   "outputs": [
    {
     "name": "stdout",
     "output_type": "stream",
     "text": [
      "Test Error for Logistic regression TFIDF-W2V L2 reg is 0.263%\n"
     ]
    }
   ],
   "source": [
    "# Finding test error\n",
    "test_error_tfidf_w2v = (1 - f1_score(Y_test, pred_tfidf_w2v, pos_label = 'positive', average = 'binary')) \n",
    "print(\"Test Error for Logistic regression TFIDF-W2V L2 reg is %.3f%%\" % (test_error_tfidf_w2v))"
   ]
  },
  {
   "cell_type": "markdown",
   "metadata": {},
   "source": [
    "### [8.2]  Plotting the performance of CV and Train scores for TFIDF-W2V  L2 regularization "
   ]
  },
  {
   "cell_type": "code",
   "execution_count": 190,
   "metadata": {},
   "outputs": [
    {
     "data": {
      "image/png": "[encoded data removed]",
      "text/plain": [
       "<Figure size 1080x288 with 1 Axes>"
      ]
     },
     "metadata": {},
     "output_type": "display_data"
    },
    {
     "name": "stdout",
     "output_type": "stream",
     "text": [
      "The CV f1-score for each alpha value is :  [0.787 0.801 0.812 0.817 0.817 0.817 0.816 0.816 0.816 0.816]\n",
      "the Train score for each alpha value is :  [0.787 0.801 0.812 0.817 0.817 0.817 0.817 0.817 0.817 0.817]\n"
     ]
    }
   ],
   "source": [
    "# Plotting the performance of CV and Train scores which we got through L2 regularization\n",
    "\n",
    "plt.figure(figsize=(15,4))\n",
    "plt.xlabel('Hyperparamter')\n",
    "plt.ylabel('Scores')\n",
    "plt.plot(model.cv_results_['param_C'].data.astype(np.float64), model.cv_results_['mean_train_score'], \n",
    "         linestyle='--', marker='o', color='b', label='Train Score')\n",
    "plt.plot(model.cv_results_['param_C'].data.astype(np.float64), model.cv_results_['mean_test_score'], \n",
    "         linestyle='--', marker='*', color='r', label='CV Score')\n",
    "plt.legend()\n",
    "plt.show()\n",
    "\n",
    "print(\"The CV f1-score for each alpha value is : \", np.round(model.cv_results_['mean_test_score'],3))\n",
    "\n",
    "print(\"the Train score for each alpha value is : \", np.round(model.cv_results_['mean_train_score'],3))\n"
   ]
  },
  {
   "cell_type": "markdown",
   "metadata": {},
   "source": [
    "### [8.3] Plotting ROC curve and finding AUC score for TFIDF-W2V"
   ]
  },
  {
   "cell_type": "code",
   "execution_count": 191,
   "metadata": {},
   "outputs": [
    {
     "data": {
      "image/png": "[encoded data removed]",
      "text/plain": [
       "<Figure size 432x288 with 1 Axes>"
      ]
     },
     "metadata": {},
     "output_type": "display_data"
    }
   ],
   "source": [
    "# ROC curve and AUC for TFIDF-W2V\n",
    "from sklearn.metrics import roc_curve, auc\n",
    "# Predicting the probabilities of test data as ROC curve needs probabilities to plot\n",
    "Y_prob = model.fit(tfidf_sent_vectors_train, Y_train).predict_proba(tfidf_sent_vectors_test)\n",
    "# Giving actual values(Y_test) and predicted probabilities Y_prob\n",
    "# we need to calculate the fpr and tpr for all thresholds of the classification \n",
    "fpr, tpr, thresholds = roc_curve(Y_test, Y_prob[:, 1], pos_label = 'positive')\n",
    "# We calculate the AUC (Area Under Curve)\n",
    "roc_auc = auc(fpr, tpr)\n",
    "    \n",
    "# Plot FPR (on x-axis) v/s TPR (on y-axis)\n",
    "plt.title('Receiver Operating Characteristic')\n",
    "plt.plot(fpr, tpr, 'b', label='AUC = %0.2f'% roc_auc)\n",
    "plt.legend(loc='lower right')\n",
    "plt.plot([0,1],[0,1],'r--')\n",
    "plt.xlim([-0.1,1.2])\n",
    "plt.ylim([-0.1,1.2])\n",
    "plt.ylabel('True Positive Rate')\n",
    "plt.xlabel('False Positive Rate')\n",
    "plt.show()"
   ]
  },
  {
   "cell_type": "markdown",
   "metadata": {},
   "source": [
    "#### Observation:-\n",
    "\n",
    "From the ROC plot, we got the accuracy of 0.84 "
   ]
  },
  {
   "cell_type": "markdown",
   "metadata": {},
   "source": [
    "### [8.4]  Confusion matrix for TFIDF-W2V"
   ]
  },
  {
   "cell_type": "code",
   "execution_count": 192,
   "metadata": {},
   "outputs": [
    {
     "name": "stdout",
     "output_type": "stream",
     "text": [
      "[[12533  2464]\n",
      " [ 4819 10184]]\n"
     ]
    }
   ],
   "source": [
    "# Using confusion matrix as a another metric to measure accuracy\n",
    "from sklearn.metrics import confusion_matrix\n",
    "cm = confusion_matrix(Y_test, pred_tfidf_w2v) # finding confusion matrix between true data and predicted data\n",
    "print(cm)"
   ]
  },
  {
   "cell_type": "code",
   "execution_count": 193,
   "metadata": {},
   "outputs": [
    {
     "data": {
      "image/png": "[encoded data removed]",
      "text/plain": [
       "<Figure size 432x288 with 2 Axes>"
      ]
     },
     "metadata": {},
     "output_type": "display_data"
    }
   ],
   "source": [
    "# plot confusion matrix for TFIDF-W2V\n",
    "class_label = [\"negative\", \"positive\"] # create a class label for columns and rows\n",
    "cm = confusion_matrix(Y_test, pred_tfidf_w2v) \n",
    "dataframe_cm = pd.DataFrame(cm, index = class_label, columns = class_label) # create a dataframe to plot confusion matrix\n",
    "# A heatmap is a two-dimensional graphical representation of data in seaborn,\n",
    "# where the individual values in a matrix are represented with colors.\n",
    "sns.heatmap(dataframe_cm, annot = True, fmt = \"d\") # annot=true means, write the data value in each cell\n",
    "plt.title(\"Confusion Matrix for TFIDF-W2V\")\n",
    "plt.xlabel(\"Predicted Label\")\n",
    "plt.ylabel(\"True Label\")\n",
    "plt.show()"
   ]
  },
  {
   "cell_type": "markdown",
   "metadata": {},
   "source": [
    "#### Observations:-\n",
    "\n",
    "A Confusion matrix is a table that is often used to describe the performance of the classification model on a set of test data. It is also one of the metric to measure accuracy of the model.\n",
    "\n",
    "A confusion matrix is a summary of prediction results on a classification problem. The number of correct and incorrect predictions are summarized with count values and broken down by each class. The confusion matrix shows how the classification model is confused when it makes predictions.\n",
    "\n",
    "The above confusion matrix is didvided into 2 classes positive and negative with True values and predicted values.\n",
    "\n",
    "TN - 12533 , FP - 2464\n",
    "\n",
    "FN - 4819 ,  TP - 10184\n",
    "\n",
    "where\n",
    "\n",
    "TN - True negative, True value is negative, and is predicted value is negative.\n",
    "FP - False positive, True value is negative, but is predicted as positive.\n",
    "FN - False negative, True value is positive, but is predicted as negative\n",
    "TP - True positive, True value is positive, and is predicted value is positive.\n",
    "\n",
    "1. There are total of 30000 points being tested against the model. Out of all values, the classifier/model predicted points as positive 12,648 times and negative 17,352 times.\n",
    "2. But in true values(test data), the positive points are 15,003 and negative points are 14,997.\n",
    "3. The diagonal values (12533 negative points, 10184 positive points) in the confusion matrix are correctly predicted values by the classifier.\n"
   ]
  },
  {
   "cell_type": "markdown",
   "metadata": {},
   "source": [
    "#### Finding TPR, FPR, TNR, FNR values\n",
    "\n",
    "1. TPR tells, when it's actually yes and how often does classifier predict yes\n",
    "\n",
    "   TPR = TP/(TP+FN) . TPR also known as Recall\n",
    "\n",
    "\n",
    "2. FPR tells, when it's actually no, how often does classifier predict yes\n",
    "\n",
    "   FPR = FP/(FP+TN) \n",
    "\n",
    "\n",
    "3. TNR tells, when it's actually no, how often does classifier predict no\n",
    "\n",
    "   TNR = TN/(TN+FP) \n",
    "\n",
    "\n",
    "4. FNR tells, When it's actually yes, how often does it predict no\n",
    "\n",
    "   FNR = FN/(FN+TP) \n"
   ]
  },
  {
   "cell_type": "markdown",
   "metadata": {},
   "source": [
    "### [8.5] Classification report for TFIDF-W2V:-\n",
    "\n",
    "1. Classification Rate/Accuracy:\n",
    "\n",
    "   Accuracy = (TP + TN) / (TP + TN + FP + FN)\n",
    "\n",
    "\n",
    "2. Recall:- It tells, when the points are positive and how often they are predicted positive.\n",
    "  \n",
    "   Recall = TP / (TP + FN)\n",
    "\n",
    "\n",
    "3. Precision:- It tells, when the model predicted positive and how often is it correct.\n",
    "\n",
    "   Precision = TP / (TP + FP)\n",
    "\n",
    "\n",
    "4. f1-score = (2 Recall Precision) / (Recall + Presision)\n",
    "\n",
    "\n",
    "5. Support is the total number of points in each class (positive and negative)\n"
   ]
  },
  {
   "cell_type": "code",
   "execution_count": 194,
   "metadata": {},
   "outputs": [
    {
     "name": "stdout",
     "output_type": "stream",
     "text": [
      "Accuracy Score: 0.7572333333333333\n",
      "Report:\n",
      "             precision    recall  f1-score   support\n",
      "\n",
      "   negative       0.72      0.84      0.77     14997\n",
      "   positive       0.81      0.68      0.74     15003\n",
      "\n",
      "avg / total       0.76      0.76      0.76     30000\n",
      "\n"
     ]
    }
   ],
   "source": [
    "# calculate the classification report for TFIDF-W2V\n",
    "from sklearn.metrics import classification_report \n",
    " \n",
    "print('Accuracy Score:', accuracy_score(Y_test, pred_tfidf_w2v)) \n",
    "print('Report:')\n",
    "print(classification_report(Y_test, pred_tfidf_w2v)) \n"
   ]
  },
  {
   "cell_type": "markdown",
   "metadata": {},
   "source": [
    "## L1 Regularization for TFIDF-AvgW2V"
   ]
  },
  {
   "cell_type": "code",
   "execution_count": 195,
   "metadata": {},
   "outputs": [
    {
     "name": "stdout",
     "output_type": "stream",
     "text": [
      "LogisticRegression(C=0.1, class_weight='balanced', dual=False,\n",
      "          fit_intercept=True, intercept_scaling=1, max_iter=100,\n",
      "          multi_class='ovr', n_jobs=1, penalty='l1', random_state=None,\n",
      "          solver='liblinear', tol=0.0001, verbose=0, warm_start=False)\n"
     ]
    }
   ],
   "source": [
    "# Performing L1 Regularization\n",
    "from sklearn.model_selection import train_test_split\n",
    "from sklearn.linear_model import LogisticRegression\n",
    "from sklearn.model_selection import GridSearchCV\n",
    "\n",
    "# GridsearchCV trains the model on these parmters to find the best one\n",
    "tuned_parameters = [{'C': [0.00001, 0.0001, 0.001, 0.01, 0.1, 1, 10, 100, 1000, 10000]}] # List of parameters for hyperparameter tuning\n",
    "\n",
    "#Using GridSearchCV. Default regularizer is L2. We can change it to L1 using penalty = 'L1', Giving list of parameters for tuning\n",
    "# to find best hyperparameter. Now using GridSearchCV, LR model is trained on these list of hyperparameters/values of C.\n",
    "# Scoring is taken as f1_macro.\n",
    "model = GridSearchCV(LogisticRegression(penalty='l1', class_weight=\"balanced\"), tuned_parameters, scoring = 'f1_macro', cv=5)\n",
    "model.fit(tfidf_sent_vectors_train, Y_train)\n",
    "\n",
    "\n",
    "# model.best.estimator prints the best hyperparameter we are looking for and it prints the remaining parameters default \n",
    "# as they are, because we performaed GridSearch only for best hyperparameter or C.\n",
    "print(model.best_estimator_) \n"
   ]
  },
  {
   "cell_type": "code",
   "execution_count": 196,
   "metadata": {},
   "outputs": [
    {
     "name": "stdout",
     "output_type": "stream",
     "text": [
      "0.7466632535866398\n"
     ]
    }
   ],
   "source": [
    "# to get the score on test data \n",
    "\n",
    "print(model.score(tfidf_sent_vectors_test, Y_test))  \n"
   ]
  },
  {
   "cell_type": "code",
   "execution_count": 197,
   "metadata": {},
   "outputs": [
    {
     "name": "stdout",
     "output_type": "stream",
     "text": [
      "\n",
      "The test f1-score of the Logistic regression classifier TFIDF-W2V L1 reg for C = 0.1 is 71.555855%\n"
     ]
    }
   ],
   "source": [
    "# Predicting model on test to find f1-score\n",
    "from sklearn.metrics import f1_score\n",
    "logisitc_regression_optimal = LogisticRegression(C = 0.1)\n",
    "\n",
    "# fitting the model\n",
    "logisitc_regression_optimal.fit(tfidf_sent_vectors_train, Y_train)\n",
    "\n",
    "# predict the response\n",
    "pred_tfidf_w2v = logisitc_regression_optimal.predict(tfidf_sent_vectors_test)\n",
    "\n",
    "# evaluate accuracy. Using f1_score as metric to measure accuracy\n",
    "test_f1_tfidf_w2v = f1_score(Y_test, pred_tfidf_w2v, pos_label = 'positive', average = 'binary') * float(100)\n",
    "print('\\nThe test f1-score of the Logistic regression classifier TFIDF-W2V L1 reg for C = 0.1 is %f%%' % (test_f1_tfidf_w2v))"
   ]
  },
  {
   "cell_type": "code",
   "execution_count": 198,
   "metadata": {},
   "outputs": [
    {
     "name": "stdout",
     "output_type": "stream",
     "text": [
      "Test Error for Logistic regression TFIDF-W2V L1 reg is 0.284%\n"
     ]
    }
   ],
   "source": [
    "# Finding test error\n",
    "test_error_tfidf_w2v = (1 - f1_score(Y_test, pred_tfidf_w2v, pos_label = 'positive', average = 'binary')) \n",
    "print(\"Test Error for Logistic regression TFIDF-W2V L1 reg is %.3f%%\" % (test_error_tfidf_w2v))"
   ]
  },
  {
   "cell_type": "markdown",
   "metadata": {},
   "source": [
    "### [8.6]  Plotting the performance of CV and Train scores for TFIDF-W2V for L1 regularization"
   ]
  },
  {
   "cell_type": "code",
   "execution_count": 199,
   "metadata": {},
   "outputs": [
    {
     "data": {
      "image/png": "[encoded data removed]",
      "text/plain": [
       "<Figure size 1080x288 with 1 Axes>"
      ]
     },
     "metadata": {},
     "output_type": "display_data"
    },
    {
     "name": "stdout",
     "output_type": "stream",
     "text": [
      "The CV f1-score for each alpha value is :  [0.333 0.333 0.783 0.815 0.817 0.817 0.817 0.816 0.816 0.817]\n",
      "the Train score for each alpha value is :  [0.333 0.333 0.784 0.816 0.817 0.817 0.817 0.817 0.817 0.817]\n"
     ]
    }
   ],
   "source": [
    "# Plotting the performance of CV and Train scores which we got through L1 regularization\n",
    "\n",
    "plt.figure(figsize=(15,4))\n",
    "plt.xlabel('Hyperparamter')\n",
    "plt.ylabel('Scores')\n",
    "plt.plot(model.cv_results_['param_C'].data.astype(np.float64), model.cv_results_['mean_train_score'], \n",
    "         linestyle='--', marker='o', color='b', label='Train Score')\n",
    "plt.plot(model.cv_results_['param_C'].data.astype(np.float64), model.cv_results_['mean_test_score'], \n",
    "         linestyle='--', marker='*', color='r', label='CV Score')\n",
    "plt.legend()\n",
    "plt.show()\n",
    "\n",
    "print(\"The CV f1-score for each alpha value is : \", np.round(model.cv_results_['mean_test_score'],3))\n",
    "\n",
    "print(\"the Train score for each alpha value is : \", np.round(model.cv_results_['mean_train_score'],3))\n"
   ]
  },
  {
   "cell_type": "markdown",
   "metadata": {},
   "source": [
    "## [9]  Models Summarization"
   ]
  },
  {
   "cell_type": "code",
   "execution_count": 225,
   "metadata": {},
   "outputs": [],
   "source": [
    "from pandas import DataFrame\n",
    "LogisticRegression = {'Vectorizer':['BoW', 'TFIDF', 'AVG-W2V', 'TFIDF-W2V'], 'Model':['Logistic_Regression','Logistic_Regression','Logistic_Regression','Logistic_Regression'], \n",
    "                       'Hyper parameter C for L1 Reg':['1', '10','10000','0.1'],\n",
    "                       'F1-score for L1 Reg':['88.24','90.68','72.39','71.55'],\n",
    "                       'Test error for L1 Reg':['0.11','0.09','0.27','0.28'],\n",
    "                       'Hyper parameter C for L2 Reg':['0.1','10000','0.1','0.01'],\n",
    "                       'F1-score for L2 Reg':['88.56','90.77','78.18','73.66'],\n",
    "                       'Test error for L2 Reg':['0.114','0.092','0.218','0.263'],\n",
    "                       'AUC Score':['0.95','0.97','0.87','0.84']}\n",
    "                       "
   ]
  },
  {
   "cell_type": "code",
   "execution_count": 226,
   "metadata": {},
   "outputs": [
    {
     "data": {
      "text/html": [
       "<div>\n",
       "<style scoped>\n",
       "    .dataframe tbody tr th:only-of-type {\n",
       "        vertical-align: middle;\n",
       "    }\n",
       "\n",
       "    .dataframe tbody tr th {\n",
       "        vertical-align: top;\n",
       "    }\n",
       "\n",
       "    .dataframe thead th {\n",
       "        text-align: right;\n",
       "    }\n",
       "</style>\n",
       "<table border=\"1\" class=\"dataframe\">\n",
       "  <thead>\n",
       "    <tr style=\"text-align: right;\">\n",
       "      <th></th>\n",
       "      <th>Vectorizer</th>\n",
       "      <th>Model</th>\n",
       "      <th>Hyper parameter C for L1 Reg</th>\n",
       "      <th>F1-score for L1 Reg</th>\n",
       "      <th>Test error for L1 Reg</th>\n",
       "      <th>Hyper parameter C for L2 Reg</th>\n",
       "      <th>F1-score for L2 Reg</th>\n",
       "      <th>Test error for L2 Reg</th>\n",
       "      <th>AUC Score</th>\n",
       "    </tr>\n",
       "  </thead>\n",
       "  <tbody>\n",
       "    <tr>\n",
       "      <th>0</th>\n",
       "      <td>BoW</td>\n",
       "      <td>Logistic_Regression</td>\n",
       "      <td>1</td>\n",
       "      <td>88.24</td>\n",
       "      <td>0.11</td>\n",
       "      <td>0.1</td>\n",
       "      <td>88.56</td>\n",
       "      <td>0.114</td>\n",
       "      <td>0.95</td>\n",
       "    </tr>\n",
       "    <tr>\n",
       "      <th>1</th>\n",
       "      <td>TFIDF</td>\n",
       "      <td>Logistic_Regression</td>\n",
       "      <td>10</td>\n",
       "      <td>90.68</td>\n",
       "      <td>0.09</td>\n",
       "      <td>10000</td>\n",
       "      <td>90.77</td>\n",
       "      <td>0.092</td>\n",
       "      <td>0.97</td>\n",
       "    </tr>\n",
       "    <tr>\n",
       "      <th>2</th>\n",
       "      <td>AVG-W2V</td>\n",
       "      <td>Logistic_Regression</td>\n",
       "      <td>10000</td>\n",
       "      <td>72.39</td>\n",
       "      <td>0.27</td>\n",
       "      <td>0.1</td>\n",
       "      <td>78.18</td>\n",
       "      <td>0.218</td>\n",
       "      <td>0.87</td>\n",
       "    </tr>\n",
       "    <tr>\n",
       "      <th>3</th>\n",
       "      <td>TFIDF-W2V</td>\n",
       "      <td>Logistic_Regression</td>\n",
       "      <td>0.1</td>\n",
       "      <td>71.55</td>\n",
       "      <td>0.28</td>\n",
       "      <td>0.01</td>\n",
       "      <td>73.66</td>\n",
       "      <td>0.263</td>\n",
       "      <td>0.84</td>\n",
       "    </tr>\n",
       "  </tbody>\n",
       "</table>\n",
       "</div>"
      ],
      "text/plain": [
       "  Vectorizer                Model Hyper parameter C for L1 Reg  \\\n",
       "0        BoW  Logistic_Regression                            1   \n",
       "1      TFIDF  Logistic_Regression                           10   \n",
       "2    AVG-W2V  Logistic_Regression                        10000   \n",
       "3  TFIDF-W2V  Logistic_Regression                          0.1   \n",
       "\n",
       "  F1-score for L1 Reg Test error for L1 Reg Hyper parameter C for L2 Reg  \\\n",
       "0               88.24                  0.11                          0.1   \n",
       "1               90.68                  0.09                        10000   \n",
       "2               72.39                  0.27                          0.1   \n",
       "3               71.55                  0.28                         0.01   \n",
       "\n",
       "  F1-score for L2 Reg Test error for L2 Reg AUC Score  \n",
       "0               88.56                 0.114      0.95  \n",
       "1               90.77                 0.092      0.97  \n",
       "2               78.18                 0.218      0.87  \n",
       "3               73.66                 0.263      0.84  "
      ]
     },
     "execution_count": 226,
     "metadata": {},
     "output_type": "execute_result"
    }
   ],
   "source": [
    "Final_conclusions = DataFrame(LogisticRegression)\n",
    "Final_conclusions"
   ]
  },
  {
   "cell_type": "markdown",
   "metadata": {},
   "source": [
    "## [10] Conclusions:-\n",
    "\n",
    "1. From the above observations we can say that, f1-score is better for Logistic Regression using L2 Regularization for all the featurizations.\n",
    "2. Logistic Regression of TF-IDF gave more f1-score than the other featurizations.\n",
    "3. TF-IDF has more AUC score of 0.97, which shows that model is working well.\n",
    "4. Overall models BoW and TFIDF trained by Logistic Regression are working well on unseen data than the AvgW2V and TFIDF-W2V."
   ]
  },
  {
   "cell_type": "code",
   "execution_count": null,
   "metadata": {},
   "outputs": [],
   "source": []
  }
 ],
 "metadata": {
  "kernelspec": {
   "display_name": "Python 3",
   "language": "python",
   "name": "python3"
  },
  "language_info": {
   "codemirror_mode": {
    "name": "ipython",
    "version": 3
   },
   "file_extension": ".py",
   "mimetype": "text/x-python",
   "name": "python",
   "nbconvert_exporter": "python",
   "pygments_lexer": "ipython3",
   "version": "3.6.5"
  }
 },
 "nbformat": 4,
 "nbformat_minor": 2
}

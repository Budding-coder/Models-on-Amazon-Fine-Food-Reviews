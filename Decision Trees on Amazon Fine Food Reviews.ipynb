{
 "cells": [
  {
   "cell_type": "markdown",
   "metadata": {
    "colab_type": "text",
    "id": "IXmtUCbYiWM3"
   },
   "source": [
    "# Amazon Fine Food Reviews Analysis\n",
    "\n",
    "\n",
    "\n",
    "\n",
    "\n",
    "The Amazon Fine Food Reviews dataset consists of reviews of fine foods from Amazon.<br>\n",
    "\n",
    "Number of reviews: 568,454<br>\n",
    "Number of users: 256,059<br>\n",
    "Number of products: 74,258<br>\n",
    "Timespan: Oct 1999 - Oct 2012<br>\n",
    "Number of Attributes/Columns in data: 10 \n",
    "\n",
    "Attribute Information:\n",
    "\n",
    "1. Id\n",
    "2. ProductId - unique identifier for the product\n",
    "3. UserId - unqiue identifier for the user\n",
    "4. ProfileName\n",
    "5. HelpfulnessNumerator - number of users who found the review helpful\n",
    "6. HelpfulnessDenominator - number of users who indicated whether they found the review helpful or not\n",
    "7. Score - rating between 1 and 5\n",
    "8. Time - timestamp for the review\n",
    "9. Summary - brief summary of the review\n",
    "10. Text - text of the review\n",
    "\n",
    "\n",
    "#### Objective:\n",
    "Given a review, determine whether the review is positive (rating of 4 or 5) or negative (rating of 1 or 2).\n",
    "\n",
    "<br>\n",
    "[Q] How to determine if a review is positive or negative?<br>\n",
    "<br> \n",
    "[Ans] We could use Score/Rating. A rating of 4 or 5 can be cosnidered as a positive review. A rating of 1 or 2 can be considered as negative one. A review of rating 3 is considered nuetral and such reviews are ignored from our analysis. This is an approximate and proxy way of determining the polarity (positivity/negativity) of a review.\n",
    "\n",
    "\n",
    "In this assignment I perform,\n",
    "\n",
    "1.  Data reading\n",
    "2.  Exploratory Data Analysis\n",
    "3.  Text Preprocessing on Review text data and Summary data\n",
    "4.  Sample data from dataset and split into Train and Test data\n",
    "\n",
    "Next I do all the 4 featurizations - BoW, TFIDF, AvgW2V, TFIDF-W2V\n",
    "\n",
    "5. On each featurization I apply DecisionTreeClassifier and Find Accuracy and error\n",
    "6. Plot Heat maps, ROC curve, Confusion Matrix\n",
    "7. Get top 20 important features for BoW and TFIDF\n",
    "8. Visualize the Decision Tree using Graphviz for BoW and TFIDF\n"
   ]
  },
  {
   "cell_type": "markdown",
   "metadata": {
    "colab_type": "text",
    "id": "syeYHDR_iWM7"
   },
   "source": [
    "# [1]. Reading Data"
   ]
  },
  {
   "cell_type": "markdown",
   "metadata": {
    "colab_type": "text",
    "id": "D_eZrQC0iWM9"
   },
   "source": [
    "## [1.1] Loading the data\n",
    "\n",
    "The dataset is available in two forms\n",
    "1. .csv file\n",
    "2. SQLite Database\n",
    "\n",
    "In order to load the data, We have used the SQLITE dataset as it is easier to query the data and visualise the data efficiently.\n",
    "<br> \n",
    "\n",
    "Here as we only want to get the global sentiment of the recommendations (positive or negative), we will purposefully ignore all Scores equal to 3. If the score is above 3, then the recommendation wil be set to \"positive\". Otherwise, it will be set to \"negative\"."
   ]
  },
  {
   "cell_type": "code",
   "execution_count": 1,
   "metadata": {},
   "outputs": [],
   "source": [
    "%matplotlib inline\n",
    "import warnings\n",
    "warnings.filterwarnings(\"ignore\")"
   ]
  },
  {
   "cell_type": "code",
   "execution_count": 3,
   "metadata": {
    "colab": {},
    "colab_type": "code",
    "id": "53fLFqf8iWNA"
   },
   "outputs": [],
   "source": [
    "import sqlite3\n",
    "import pandas as pd\n",
    "import numpy as np\n",
    "import nltk\n",
    "import string\n",
    "import matplotlib.pyplot as plt\n",
    "import seaborn as sns\n",
    "from sklearn.feature_extraction.text import TfidfTransformer\n",
    "from sklearn.feature_extraction.text import TfidfVectorizer\n",
    "\n",
    "from sklearn.feature_extraction.text import CountVectorizer\n",
    "from sklearn.metrics import confusion_matrix\n",
    "from sklearn import metrics\n",
    "from sklearn.metrics import roc_curve, auc\n",
    "from nltk.stem.porter import PorterStemmer\n",
    "\n",
    "import re\n",
    "# Tutorial about Python regular expressions: https://pymotw.com/2/re/\n",
    "import string\n",
    "from nltk.corpus import stopwords\n",
    "from nltk.stem import PorterStemmer\n",
    "from nltk.stem.wordnet import WordNetLemmatizer\n",
    "\n",
    "from gensim.models import Word2Vec\n",
    "from gensim.models import KeyedVectors\n",
    "import pickle\n",
    "\n",
    "from tqdm import tqdm\n",
    "import os"
   ]
  },
  {
   "cell_type": "code",
   "execution_count": 4,
   "metadata": {
    "colab": {},
    "colab_type": "code",
    "id": "j3kshrC-iWNI",
    "outputId": "07826916-2c3f-4a0a-e928-ddbc6d567a11"
   },
   "outputs": [
    {
     "name": "stdout",
     "output_type": "stream",
     "text": [
      "Number of data points in our data (525814, 10)\n"
     ]
    },
    {
     "data": {
      "text/html": [
       "<div>\n",
       "<style scoped>\n",
       "    .dataframe tbody tr th:only-of-type {\n",
       "        vertical-align: middle;\n",
       "    }\n",
       "\n",
       "    .dataframe tbody tr th {\n",
       "        vertical-align: top;\n",
       "    }\n",
       "\n",
       "    .dataframe thead th {\n",
       "        text-align: right;\n",
       "    }\n",
       "</style>\n",
       "<table border=\"1\" class=\"dataframe\">\n",
       "  <thead>\n",
       "    <tr style=\"text-align: right;\">\n",
       "      <th></th>\n",
       "      <th>Id</th>\n",
       "      <th>ProductId</th>\n",
       "      <th>UserId</th>\n",
       "      <th>ProfileName</th>\n",
       "      <th>HelpfulnessNumerator</th>\n",
       "      <th>HelpfulnessDenominator</th>\n",
       "      <th>Score</th>\n",
       "      <th>Time</th>\n",
       "      <th>Summary</th>\n",
       "      <th>Text</th>\n",
       "    </tr>\n",
       "  </thead>\n",
       "  <tbody>\n",
       "    <tr>\n",
       "      <th>0</th>\n",
       "      <td>1</td>\n",
       "      <td>B001E4KFG0</td>\n",
       "      <td>A3SGXH7AUHU8GW</td>\n",
       "      <td>delmartian</td>\n",
       "      <td>1</td>\n",
       "      <td>1</td>\n",
       "      <td>1</td>\n",
       "      <td>1303862400</td>\n",
       "      <td>Good Quality Dog Food</td>\n",
       "      <td>I have bought several of the Vitality canned d...</td>\n",
       "    </tr>\n",
       "    <tr>\n",
       "      <th>1</th>\n",
       "      <td>2</td>\n",
       "      <td>B00813GRG4</td>\n",
       "      <td>A1D87F6ZCVE5NK</td>\n",
       "      <td>dll pa</td>\n",
       "      <td>0</td>\n",
       "      <td>0</td>\n",
       "      <td>0</td>\n",
       "      <td>1346976000</td>\n",
       "      <td>Not as Advertised</td>\n",
       "      <td>Product arrived labeled as Jumbo Salted Peanut...</td>\n",
       "    </tr>\n",
       "    <tr>\n",
       "      <th>2</th>\n",
       "      <td>3</td>\n",
       "      <td>B000LQOCH0</td>\n",
       "      <td>ABXLMWJIXXAIN</td>\n",
       "      <td>Natalia Corres \"Natalia Corres\"</td>\n",
       "      <td>1</td>\n",
       "      <td>1</td>\n",
       "      <td>1</td>\n",
       "      <td>1219017600</td>\n",
       "      <td>\"Delight\" says it all</td>\n",
       "      <td>This is a confection that has been around a fe...</td>\n",
       "    </tr>\n",
       "    <tr>\n",
       "      <th>3</th>\n",
       "      <td>4</td>\n",
       "      <td>B000UA0QIQ</td>\n",
       "      <td>A395BORC6FGVXV</td>\n",
       "      <td>Karl</td>\n",
       "      <td>3</td>\n",
       "      <td>3</td>\n",
       "      <td>0</td>\n",
       "      <td>1307923200</td>\n",
       "      <td>Cough Medicine</td>\n",
       "      <td>If you are looking for the secret ingredient i...</td>\n",
       "    </tr>\n",
       "    <tr>\n",
       "      <th>4</th>\n",
       "      <td>5</td>\n",
       "      <td>B006K2ZZ7K</td>\n",
       "      <td>A1UQRSCLF8GW1T</td>\n",
       "      <td>Michael D. Bigham \"M. Wassir\"</td>\n",
       "      <td>0</td>\n",
       "      <td>0</td>\n",
       "      <td>1</td>\n",
       "      <td>1350777600</td>\n",
       "      <td>Great taffy</td>\n",
       "      <td>Great taffy at a great price.  There was a wid...</td>\n",
       "    </tr>\n",
       "  </tbody>\n",
       "</table>\n",
       "</div>"
      ],
      "text/plain": [
       "   Id   ProductId          UserId                      ProfileName  \\\n",
       "0   1  B001E4KFG0  A3SGXH7AUHU8GW                       delmartian   \n",
       "1   2  B00813GRG4  A1D87F6ZCVE5NK                           dll pa   \n",
       "2   3  B000LQOCH0   ABXLMWJIXXAIN  Natalia Corres \"Natalia Corres\"   \n",
       "3   4  B000UA0QIQ  A395BORC6FGVXV                             Karl   \n",
       "4   5  B006K2ZZ7K  A1UQRSCLF8GW1T    Michael D. Bigham \"M. Wassir\"   \n",
       "\n",
       "   HelpfulnessNumerator  HelpfulnessDenominator  Score        Time  \\\n",
       "0                     1                       1      1  1303862400   \n",
       "1                     0                       0      0  1346976000   \n",
       "2                     1                       1      1  1219017600   \n",
       "3                     3                       3      0  1307923200   \n",
       "4                     0                       0      1  1350777600   \n",
       "\n",
       "                 Summary                                               Text  \n",
       "0  Good Quality Dog Food  I have bought several of the Vitality canned d...  \n",
       "1      Not as Advertised  Product arrived labeled as Jumbo Salted Peanut...  \n",
       "2  \"Delight\" says it all  This is a confection that has been around a fe...  \n",
       "3         Cough Medicine  If you are looking for the secret ingredient i...  \n",
       "4            Great taffy  Great taffy at a great price.  There was a wid...  "
      ]
     },
     "execution_count": 4,
     "metadata": {},
     "output_type": "execute_result"
    }
   ],
   "source": [
    "# Loading the data\n",
    "# using SQLite Table to read data.\n",
    "con = sqlite3.connect('I:\\Python\\database.sqlite') \n",
    "\n",
    "# filtering only positive and negative reviews i.e. \n",
    "# not taking into consideration those reviews with Score=3\n",
    "\n",
    "filtered_data = pd.read_sql_query(\"\"\" SELECT * FROM Reviews WHERE Score != 3 \"\"\", con) \n",
    "\n",
    "# Give reviews with Score>3 a positive rating(1), and reviews with a score<3 a negative rating(0).\n",
    "def partition(x):\n",
    "    if x < 3:\n",
    "        return 0\n",
    "    return 1\n",
    "\n",
    "#changing reviews with score less than 3 to be positive and vice-versa\n",
    "actualScore = filtered_data['Score']\n",
    "positiveNegative = actualScore.map(partition) \n",
    "filtered_data['Score'] = positiveNegative\n",
    "print(\"Number of data points in our data\", filtered_data.shape)\n",
    "filtered_data.head(5)"
   ]
  },
  {
   "cell_type": "markdown",
   "metadata": {
    "colab_type": "text",
    "id": "efnNNqNfiWNh"
   },
   "source": [
    "#  [2] Exploratory Data Analysis"
   ]
  },
  {
   "cell_type": "markdown",
   "metadata": {
    "colab_type": "text",
    "id": "Eq0hnbxhiWNi"
   },
   "source": [
    "## [2.1] Data Cleaning: Deduplication\n",
    "\n",
    "It is necessary to remove duplicates in order to get unbiased results for the analysis of the data. Hence in order to reduce redundancy it's better to eliminate the rows that have same parameters.\n",
    "\n",
    "The method used to perform deduplication is that, we first sort the data according to ProductId and then just keep the first similar product review and delete the others. This method ensures that there is only one representative for each product."
   ]
  },
  {
   "cell_type": "code",
   "execution_count": 5,
   "metadata": {},
   "outputs": [
    {
     "name": "stdout",
     "output_type": "stream",
     "text": [
      "Total number of reviews in the dataframe after removing duplicated: (364173, 10)\n"
     ]
    }
   ],
   "source": [
    "#Sorting data according to ProductId in ascending order\n",
    "sorted_data = filtered_data.sort_values('ProductId', axis = 0, ascending = True, inplace = False, kind = 'quicksort', na_position = 'last')\n",
    "\n",
    "#Dropping duplicates. It says that find duplicates with {'UserId', 'ProfileName', 'Time', 'Text'} values same. Then it is a duplicate\n",
    "# By using drop_duplicate function we just keep the first product Id of the duplicates and remove the remaining.\n",
    "final_data = sorted_data.drop_duplicates(subset = {'UserId', 'ProfileName', 'Time', 'Text'}, keep = 'first', inplace = False)\n",
    "\n",
    "# Now it prints total reviews after removing duplicates.\n",
    "print('Total number of reviews in the dataframe after removing duplicated:', final_data.shape)\n"
   ]
  },
  {
   "cell_type": "code",
   "execution_count": 6,
   "metadata": {},
   "outputs": [
    {
     "data": {
      "text/plain": [
       "(364171, 10)"
      ]
     },
     "execution_count": 6,
     "metadata": {},
     "output_type": "execute_result"
    }
   ],
   "source": [
    "# HelpfulnessNumerator should always be less than HelpfulnessDenominator. \n",
    "# So check if any reviews have HelpfulnessNumerator greater than HelpfulnessDenominator and remove them\n",
    "\n",
    "final_data = final_data[final_data.HelpfulnessNumerator <= final_data.HelpfulnessDenominator]\n",
    "final_data.shape"
   ]
  },
  {
   "cell_type": "code",
   "execution_count": 7,
   "metadata": {},
   "outputs": [
    {
     "data": {
      "text/plain": [
       "69.25852107399194"
      ]
     },
     "execution_count": 7,
     "metadata": {},
     "output_type": "execute_result"
    }
   ],
   "source": [
    "#Checking to see how much % of data still remains\n",
    "(final_data['Id'].size*1.0)/(filtered_data['Id'].size*1.0)*100"
   ]
  },
  {
   "cell_type": "code",
   "execution_count": 8,
   "metadata": {},
   "outputs": [
    {
     "name": "stdout",
     "output_type": "stream",
     "text": [
      "(364171, 10)\n"
     ]
    },
    {
     "data": {
      "text/plain": [
       "1    307061\n",
       "0     57110\n",
       "Name: Score, dtype: int64"
      ]
     },
     "execution_count": 8,
     "metadata": {},
     "output_type": "execute_result"
    }
   ],
   "source": [
    "# Lets see how many total reviews left\n",
    "print(final_data.shape)\n",
    "\n",
    "#How many positive and negative reviews are present in the dataset?\n",
    "final_data['Score'].value_counts()\n"
   ]
  },
  {
   "cell_type": "markdown",
   "metadata": {},
   "source": [
    "#### Observation:-\n",
    "\n",
    "From the above output we can see that there are many positive reviews and fewer negative reviews.\n"
   ]
  },
  {
   "cell_type": "markdown",
   "metadata": {
    "colab_type": "text",
    "id": "92IZ5ea0iWN4"
   },
   "source": [
    "#  [3] Text  Preprocessing\n",
    "\n",
    "Now that we have finished deduplication our data requires some preprocessing before we go on further with analysis.\n",
    "\n",
    "1.  By removing stop-words, BoW vector will be small and more meaningful\n",
    "2.  Lemmatization is a process of breaking a sentence into words. It is language and context dependent\n",
    "\n",
    "Hence in the Preprocessing phase we do the following in the order below:-\n",
    "\n",
    "1.  Remove all URL's\n",
    "2.  Remove all tags from the strings\n",
    "3.  Expanding English language contractions like, you've -> you have\n",
    "4.  Remove any punctuations or limited set of special characters like , or . or # etc.\n",
    "5.  Check if the word is made up of english letters and is not alpha-numeric\n",
    "6.  Remove words with numbers\n",
    "7.  Remove spacial characters\n",
    "8.  Check to see if the length of the word is greater than 2 (as it was researched that there is no adjective in 2-letters)\n",
    "9.  Convert the words to lowercase\n",
    "10. Remove Stopwords\n",
    "11. Finally Stemming the words which are related, to their stem form/root/base form (Snowball stemmer is used as it is obsereved to be better than Porter Stemming)\n",
    "\n",
    "After which we collect the words used to describe positive and negative reviews"
   ]
  },
  {
   "cell_type": "markdown",
   "metadata": {
    "colab_type": "text",
    "id": "NTwQITJKiWN5"
   },
   "source": [
    "## [3.1].  Preprocessing Review Text\n"
   ]
  },
  {
   "cell_type": "code",
   "execution_count": 9,
   "metadata": {
    "colab": {},
    "colab_type": "code",
    "id": "kTCxT5aWiWN5",
    "outputId": "64588cda-64b3-47f0-8d01-941e1cc85cc5"
   },
   "outputs": [
    {
     "name": "stdout",
     "output_type": "stream",
     "text": [
      "A charming, rhyming book that describes the circumstances under which you eat (or don't) chicken soup with rice, month-by-month. This sounds like the kind of thing kids would make up while they're out of recess and sing over and over until they drive the teachers crazy. It's cute and catchy and sounds really childlike but is skillfully written.\n",
      "==================================================\n",
      "<a href=\"http://www.amazon.com/gp/product/B000F4D5WG\">Edward & Sons Organic Croutons, Italian Herbs, 5.25-Ounce Packs (Pack of 6)</a><br /><br />Knowing that I have to watch my calories I have been eating nothing but low cal foods for quite a while.  Part of my diet consists of big salads and low fat Progresso soups. I wanted something extra that I could add to a salad  and/or a soup.  I decided to try these.  They are extremely salty and aside from that have no other taste.  I would not re order these again.  I do admit that I do not care for salty foods but if salt is used the taste of it should not be so overwhelming. Some foods are understandably noted for being salty, anchovies, pretzels etc. I do eat pretzels and like them as long as I don't feel as if I put several tablespoons of salt in my mouth. I do not taste any of the herbs that I expected in a product which claims to have as one of it's ingredients Italian herbs.\n",
      "==================================================\n",
      "I use this exclusively in all my cooking...<br />I don't understand why the price went up so drastically...<br />I have many of the ladies I work with that are hooked on this product and they want me to get them more\n",
      "==================================================\n",
      "Can't do sugar.  Have tried scores of SF Syrups.  NONE of them can touch the excellence of this product.<br /><br />Thick, delicious.  Perfect.  3 ingredients: Water, Maltitol, Natural Maple Flavor.  PERIOD.  No chemicals.  No garbage.<br /><br />Have numerous friends & family members hooked on this stuff.  My husband & son, who do NOT like \"sugar free\" prefer this over major label regular syrup.<br /><br />I use this as my SWEETENER in baking: cheesecakes, white brownies, muffins, pumpkin pies, etc... Unbelievably delicious...<br /><br />Can you tell I like it? :)\n",
      "==================================================\n"
     ]
    }
   ],
   "source": [
    "# printing some random reviews\n",
    "sent_5 = final_data['Text'].values[5]\n",
    "print(sent_5)\n",
    "print(\"=\"*50)\n",
    "\n",
    "sent_60000 = final_data['Text'].values[60000]\n",
    "print(sent_60000)\n",
    "print(\"=\"*50)\n",
    "\n",
    "sent_15500 = final_data['Text'].values[15500]\n",
    "print(sent_15500)\n",
    "print(\"=\"*50)\n",
    "\n",
    "sent_4900 = final_data['Text'].values[4900]\n",
    "print(sent_4900)\n",
    "print(\"=\"*50)"
   ]
  },
  {
   "cell_type": "code",
   "execution_count": 10,
   "metadata": {
    "colab": {},
    "colab_type": "code",
    "id": "iX3VndCPiWN8",
    "outputId": "7f8cad02-65a6-4530-e7e1-bb6775877737"
   },
   "outputs": [
    {
     "name": "stdout",
     "output_type": "stream",
     "text": [
      "<a href=\" & Sons Organic Croutons, Italian Herbs, 5.25-Ounce Packs (Pack of 6)</a><br /><br />Knowing that I have to watch my calories I have been eating nothing but low cal foods for quite a while.  Part of my diet consists of big salads and low fat Progresso soups. I wanted something extra that I could add to a salad  and/or a soup.  I decided to try these.  They are extremely salty and aside from that have no other taste.  I would not re order these again.  I do admit that I do not care for salty foods but if salt is used the taste of it should not be so overwhelming. Some foods are understandably noted for being salty, anchovies, pretzels etc. I do eat pretzels and like them as long as I don't feel as if I put several tablespoons of salt in my mouth. I do not taste any of the herbs that I expected in a product which claims to have as one of it's ingredients Italian herbs.\n"
     ]
    }
   ],
   "source": [
    "# Remove urls from text ----  https://stackoverflow.com/a/40823105/4084039\n",
    "import re\n",
    "sent_5 = re.sub(r\"http\\S+\", \"\", sent_5)\n",
    "sent_60000 = re.sub(r\"http\\S+\", \"\", sent_60000)\n",
    "sent_15500 = re.sub(r\"http\\S+\", \"\", sent_15500)\n",
    "sent_4900 = re.sub(r\"http\\S+\", \"\", sent_4900)\n",
    "\n",
    "print(sent_60000)"
   ]
  },
  {
   "cell_type": "code",
   "execution_count": 11,
   "metadata": {
    "colab": {},
    "colab_type": "code",
    "id": "DyO7iqEriWN_",
    "outputId": "2a010a1c-574d-409f-d725-c726a25d3e70"
   },
   "outputs": [
    {
     "name": "stdout",
     "output_type": "stream",
     "text": [
      "A charming, rhyming book that describes the circumstances under which you eat (or don't) chicken soup with rice, month-by-month. This sounds like the kind of thing kids would make up while they're out of recess and sing over and over until they drive the teachers crazy. It's cute and catchy and sounds really childlike but is skillfully written.\n",
      "==================================================\n",
      "I use this exclusively in all my cooking...I don't understand why the price went up so drastically...I have many of the ladies I work with that are hooked on this product and they want me to get them more\n",
      "==================================================\n",
      "Can't do sugar.  Have tried scores of SF Syrups.  NONE of them can touch the excellence of this product.Thick, delicious.  Perfect.  3 ingredients: Water, Maltitol, Natural Maple Flavor.  PERIOD.  No chemicals.  No garbage.Have numerous friends & family members hooked on this stuff.  My husband & son, who do NOT like \"sugar free\" prefer this over major label regular syrup.I use this as my SWEETENER in baking: cheesecakes, white brownies, muffins, pumpkin pies, etc... Unbelievably delicious...Can you tell I like it? :)\n"
     ]
    }
   ],
   "source": [
    "# Removes all tags from a string --- https://stackoverflow.com/questions/16206380/python-beautifulsoup-how-to-remove-all-tags-from-an-element\n",
    "\n",
    "from bs4 import BeautifulSoup\n",
    "\n",
    "soup = BeautifulSoup(sent_5, 'lxml')\n",
    "text = soup.get_text()\n",
    "print(text)\n",
    "print(\"=\"*50)\n",
    "\n",
    "soup = BeautifulSoup(sent_15500, 'lxml')\n",
    "text = soup.get_text()\n",
    "print(text)\n",
    "print(\"=\"*50)\n",
    "\n",
    "soup = BeautifulSoup(sent_4900, 'lxml')\n",
    "text = soup.get_text()\n",
    "print(text)"
   ]
  },
  {
   "cell_type": "code",
   "execution_count": 12,
   "metadata": {
    "colab": {},
    "colab_type": "code",
    "id": "qzIaKh8niWOC"
   },
   "outputs": [],
   "source": [
    "# Expanding English language contractions  like, you've -> you have,  aren't -> are not\n",
    "# https://stackoverflow.com/a/47091490/4084039\n",
    "import re\n",
    "\n",
    "def decontracted(phrase):\n",
    "    # specific\n",
    "    phrase = re.sub(r\"won't\", \"will not\", phrase)\n",
    "    phrase = re.sub(r\"can\\'t\", \"can not\", phrase)\n",
    "\n",
    "    # general\n",
    "    phrase = re.sub(r\"n\\'t\", \" not\", phrase)\n",
    "    phrase = re.sub(r\"\\'re\", \" are\", phrase)\n",
    "    phrase = re.sub(r\"\\'s\", \" is\", phrase)\n",
    "    phrase = re.sub(r\"\\'d\", \" would\", phrase)\n",
    "    phrase = re.sub(r\"\\'ll\", \" will\", phrase)\n",
    "    phrase = re.sub(r\"\\'t\", \" not\", phrase)\n",
    "    phrase = re.sub(r\"\\'ve\", \" have\", phrase)\n",
    "    phrase = re.sub(r\"\\'m\", \" am\", phrase)\n",
    "    return phrase"
   ]
  },
  {
   "cell_type": "code",
   "execution_count": 13,
   "metadata": {
    "colab": {},
    "colab_type": "code",
    "id": "Esa29-JwiWOD",
    "outputId": "be726596-752d-489b-d311-f4180ac83ac4"
   },
   "outputs": [
    {
     "name": "stdout",
     "output_type": "stream",
     "text": [
      "A charming, rhyming book that describes the circumstances under which you eat (or do not) chicken soup with rice, month-by-month. This sounds like the kind of thing kids would make up while they are out of recess and sing over and over until they drive the teachers crazy. It is cute and catchy and sounds really childlike but is skillfully written.\n",
      "==================================================\n"
     ]
    }
   ],
   "source": [
    "sent_5 = decontracted(sent_5)\n",
    "print(sent_5)\n",
    "print(\"=\"*50)"
   ]
  },
  {
   "cell_type": "code",
   "execution_count": 14,
   "metadata": {
    "colab": {},
    "colab_type": "code",
    "id": "qf0c7-nXiWOG",
    "outputId": "6104976d-bda8-4de1-9d91-808f3661d53b"
   },
   "outputs": [
    {
     "name": "stdout",
     "output_type": "stream",
     "text": [
      "a href  Sons Organic Croutons Italian Herbs 525Ounce Packs Pack of 6abr br Knowing that I have to watch my calories I have been eating nothing but low cal foods for quite a while  Part of my diet consists of big salads and low fat Progresso soups I wanted something extra that I could add to a salad  andor a soup  I decided to try these  They are extremely salty and aside from that have no other taste  I would not re order these again  I do admit that I do not care for salty foods but if salt is used the taste of it should not be so overwhelming Some foods are understandably noted for being salty anchovies pretzels etc I do eat pretzels and like them as long as I dont feel as if I put several tablespoons of salt in my mouth I do not taste any of the herbs that I expected in a product which claims to have as one of its ingredients Italian herbs\n"
     ]
    }
   ],
   "source": [
    "# Removes punctuations from strings ---  https://stackoverflow.com/questions/265960/best-way-to-strip-punctuation-from-a-string-in-python\n",
    "sent_5 = re.sub(r\"http\\S+\", \"\", sent_5)\n",
    "sent_60000 = re.sub(r'[^\\w\\s]','', sent_60000)\n",
    "sent_15500 = re.sub(r'[^\\w\\s]','', sent_15500)\n",
    "sent_4900 = re.sub(r'[^\\w\\s]','', sent_4900)\n",
    "\n",
    "print(sent_60000)"
   ]
  },
  {
   "cell_type": "code",
   "execution_count": 15,
   "metadata": {
    "colab": {},
    "colab_type": "code",
    "id": "1Z5VK6wxiWOI",
    "outputId": "d3405347-aa6a-4df5-c3d9-2c11441c2385"
   },
   "outputs": [
    {
     "name": "stdout",
     "output_type": "stream",
     "text": [
      "a href  Sons Organic Croutons Italian Herbs  Packs Pack of  br Knowing that I have to watch my calories I have been eating nothing but low cal foods for quite a while  Part of my diet consists of big salads and low fat Progresso soups I wanted something extra that I could add to a salad  andor a soup  I decided to try these  They are extremely salty and aside from that have no other taste  I would not re order these again  I do admit that I do not care for salty foods but if salt is used the taste of it should not be so overwhelming Some foods are understandably noted for being salty anchovies pretzels etc I do eat pretzels and like them as long as I dont feel as if I put several tablespoons of salt in my mouth I do not taste any of the herbs that I expected in a product which claims to have as one of its ingredients Italian herbs\n"
     ]
    }
   ],
   "source": [
    "#remove words with numbers --- https://stackoverflow.com/a/18082370/4084039\n",
    "sent_60000 = re.sub(\"\\S*\\d\\S*\", \"\", sent_60000).strip()\n",
    "print(sent_60000)"
   ]
  },
  {
   "cell_type": "code",
   "execution_count": 16,
   "metadata": {},
   "outputs": [
    {
     "name": "stdout",
     "output_type": "stream",
     "text": [
      "Cant do sugar Have tried scores of SF Syrups NONE of them can touch the excellence of this productbr br Thick delicious Perfect 3 ingredients Water Maltitol Natural Maple Flavor PERIOD No chemicals No garbagebr br Have numerous friends family members hooked on this stuff My husband son who do NOT like sugar free prefer this over major label regular syrupbr br I use this as my SWEETENER in baking cheesecakes white brownies muffins pumpkin pies etc Unbelievably deliciousbr br Can you tell I like it \n"
     ]
    }
   ],
   "source": [
    "#remove spacial character: https://stackoverflow.com/a/5843547/4084039\n",
    "sent_4900 = re.sub('[^A-Za-z0-9]+', ' ', sent_4900)\n",
    "print(sent_4900)"
   ]
  },
  {
   "cell_type": "code",
   "execution_count": 17,
   "metadata": {},
   "outputs": [
    {
     "name": "stdout",
     "output_type": "stream",
     "text": [
      "cant do sugar have tried scores of sf syrups none of them can touch the excellence of this productbr br thick delicious perfect 3 ingredients water maltitol natural maple flavor period no chemicals no garbagebr br have numerous friends family members hooked on this stuff my husband son who do not like sugar free prefer this over major label regular syrupbr br i use this as my sweetener in baking cheesecakes white brownies muffins pumpkin pies etc unbelievably deliciousbr br can you tell i like it \n"
     ]
    }
   ],
   "source": [
    "# Converting words into lowercase\n",
    "sent_4900 = sent_4900.lower()\n",
    "print(sent_4900)"
   ]
  },
  {
   "cell_type": "code",
   "execution_count": 18,
   "metadata": {
    "colab": {},
    "colab_type": "code",
    "id": "MfzZtIP1iWOL"
   },
   "outputs": [],
   "source": [
    "# https://gist.github.com/sebleier/554280\n",
    "# we are removing the words from the stop words list: 'no', 'nor', 'not'\n",
    "# <br /><br /> ==> after the above steps, we are getting \"br br\"\n",
    "# we are including them into stop words list\n",
    "# instead of <br /> if we have <br/> these tags would have revmoved in the 1st step\n",
    "\n",
    "stopwords= set(['br', 'the', 'i', 'me', 'my', 'myself', 'we', 'our', 'ours', 'ourselves', 'you', \"you're\", \"you've\",\\\n",
    "            \"you'll\", \"you'd\", 'your', 'yours', 'yourself', 'yourselves', 'he', 'him', 'his', 'himself', \\\n",
    "            'she', \"she's\", 'her', 'hers', 'herself', 'it', \"it's\", 'its', 'itself', 'they', 'them', 'their',\\\n",
    "            'theirs', 'themselves', 'what', 'which', 'who', 'whom', 'this', 'that', \"that'll\", 'these', 'those', \\\n",
    "            'am', 'is', 'are', 'was', 'were', 'be', 'been', 'being', 'have', 'has', 'had', 'having', 'do', 'does', \\\n",
    "            'did', 'doing', 'a', 'an', 'the', 'and', 'but', 'if', 'or', 'because', 'as', 'until', 'while', 'of', \\\n",
    "            'at', 'by', 'for', 'with', 'about', 'against', 'between', 'into', 'through', 'during', 'before', 'after',\\\n",
    "            'above', 'below', 'to', 'from', 'up', 'down', 'in', 'out', 'on', 'off', 'over', 'under', 'again', 'further',\\\n",
    "            'then', 'once', 'here', 'there', 'when', 'where', 'why', 'how', 'all', 'any', 'both', 'each', 'few', 'more',\\\n",
    "            'most', 'other', 'some', 'such', 'only', 'own', 'same', 'so', 'than', 'too', 'very', \\\n",
    "            's', 't', 'can', 'will', 'just', 'don', \"don't\", 'should', \"should've\", 'now', 'd', 'll', 'm', 'o', 're', \\\n",
    "            've', 'y', 'ain', 'aren', \"aren't\", 'couldn', \"couldn't\", 'didn', \"didn't\", 'doesn', \"doesn't\", 'hadn',\\\n",
    "            \"hadn't\", 'hasn', \"hasn't\", 'haven', \"haven't\", 'isn', \"isn't\", 'ma', 'mightn', \"mightn't\", 'mustn',\\\n",
    "            \"mustn't\", 'needn', \"needn't\", 'shan', \"shan't\", 'shouldn', \"shouldn't\", 'wasn', \"wasn't\", 'weren', \"weren't\", \\\n",
    "            'won', \"won't\", 'wouldn', \"wouldn't\"])"
   ]
  },
  {
   "cell_type": "code",
   "execution_count": 19,
   "metadata": {
    "colab": {},
    "colab_type": "code",
    "id": "g1C43tjNiWOM",
    "outputId": "a997afc9-894c-4a56-d538-dadea8a21e6d"
   },
   "outputs": [
    {
     "name": "stderr",
     "output_type": "stream",
     "text": [
      "100%|██████████| 364171/364171 [02:51<00:00, 2124.85it/s]\n"
     ]
    }
   ],
   "source": [
    "# Combining all the above stundents \n",
    "from tqdm import tqdm\n",
    "final_strings = []\n",
    "all_positive_words=[] # store words from +ve reviews here\n",
    "all_negative_words=[] # store words from -ve reviews here.\n",
    "s=''\n",
    "# tqdm is for printing the status bar\n",
    "for sentence in tqdm(final_data['Text'].values):\n",
    "    sentence = re.sub(r\"http\\S+\", \"\", sentence)  # To remove urls from text\n",
    "    sentence = BeautifulSoup(sentence, 'lxml').get_text() # To remove all tags from an element\n",
    "    sentence = decontracted(sentence) # Expanding English language contractions  like, you've -> you have,  aren't -> are not\n",
    "    sentence = re.sub(r'[^\\w\\s]','', sentence)\n",
    "    sentence = re.sub(\"\\S*\\d\\S*\", \"\", sentence).strip() # removes words with numbers\n",
    "    sentence = re.sub('[^A-Za-z]+', ' ', sentence) # removes special characters\n",
    "    sentence = sentence.lower()  # Converting words into lowercase\n",
    "    # https://gist.github.com/sebleier/554280\n",
    "    sentence = ' '.join(e.lower() for e in sentence.split() if e.lower() not in stopwords)\n",
    "    final_strings.append(sentence.strip())"
   ]
  },
  {
   "cell_type": "code",
   "execution_count": 20,
   "metadata": {},
   "outputs": [
    {
     "data": {
      "text/plain": [
       "'great product anyone would love even not gluten free great servicefast'"
      ]
     },
     "execution_count": 20,
     "metadata": {},
     "output_type": "execute_result"
    }
   ],
   "source": [
    "final_strings[55000]"
   ]
  },
  {
   "cell_type": "code",
   "execution_count": 21,
   "metadata": {},
   "outputs": [],
   "source": [
    "# store final_data table into an SQlLite table for future.\n",
    "conn = sqlite3.connect('final_data.sqlite')\n",
    "c=conn.cursor()\n",
    "conn.text_factory = str\n",
    "final_data.to_sql('Reviews', conn,  schema=None, if_exists='replace', index=True, index_label=None, chunksize=None, dtype=None)\n"
   ]
  },
  {
   "cell_type": "code",
   "execution_count": 22,
   "metadata": {
    "colab": {},
    "colab_type": "code",
    "id": "MWDrCFxViWOP",
    "outputId": "5618c9c3-a86a-42a4-e9c4-d24d93fd5a7a"
   },
   "outputs": [
    {
     "data": {
      "text/html": [
       "<div>\n",
       "<style scoped>\n",
       "    .dataframe tbody tr th:only-of-type {\n",
       "        vertical-align: middle;\n",
       "    }\n",
       "\n",
       "    .dataframe tbody tr th {\n",
       "        vertical-align: top;\n",
       "    }\n",
       "\n",
       "    .dataframe thead th {\n",
       "        text-align: right;\n",
       "    }\n",
       "</style>\n",
       "<table border=\"1\" class=\"dataframe\">\n",
       "  <thead>\n",
       "    <tr style=\"text-align: right;\">\n",
       "      <th></th>\n",
       "      <th>Id</th>\n",
       "      <th>ProductId</th>\n",
       "      <th>UserId</th>\n",
       "      <th>ProfileName</th>\n",
       "      <th>HelpfulnessNumerator</th>\n",
       "      <th>HelpfulnessDenominator</th>\n",
       "      <th>Score</th>\n",
       "      <th>Time</th>\n",
       "      <th>Summary</th>\n",
       "      <th>Text</th>\n",
       "      <th>CleanedText</th>\n",
       "    </tr>\n",
       "  </thead>\n",
       "  <tbody>\n",
       "    <tr>\n",
       "      <th>138706</th>\n",
       "      <td>150524</td>\n",
       "      <td>0006641040</td>\n",
       "      <td>ACITT7DI6IDDL</td>\n",
       "      <td>shari zychinski</td>\n",
       "      <td>0</td>\n",
       "      <td>0</td>\n",
       "      <td>1</td>\n",
       "      <td>939340800</td>\n",
       "      <td>EVERY book is educational</td>\n",
       "      <td>this witty little book makes my son laugh at l...</td>\n",
       "      <td>witty little book makes son laugh loud recite ...</td>\n",
       "    </tr>\n",
       "    <tr>\n",
       "      <th>138688</th>\n",
       "      <td>150506</td>\n",
       "      <td>0006641040</td>\n",
       "      <td>A2IW4PEEKO2R0U</td>\n",
       "      <td>Tracy</td>\n",
       "      <td>1</td>\n",
       "      <td>1</td>\n",
       "      <td>1</td>\n",
       "      <td>1194739200</td>\n",
       "      <td>Love the book, miss the hard cover version</td>\n",
       "      <td>I grew up reading these Sendak books, and watc...</td>\n",
       "      <td>grew reading sendak books watching really rosi...</td>\n",
       "    </tr>\n",
       "    <tr>\n",
       "      <th>138689</th>\n",
       "      <td>150507</td>\n",
       "      <td>0006641040</td>\n",
       "      <td>A1S4A3IQ2MU7V4</td>\n",
       "      <td>sally sue \"sally sue\"</td>\n",
       "      <td>1</td>\n",
       "      <td>1</td>\n",
       "      <td>1</td>\n",
       "      <td>1191456000</td>\n",
       "      <td>chicken soup with rice months</td>\n",
       "      <td>This is a fun way for children to learn their ...</td>\n",
       "      <td>fun way children learn months year learn poems...</td>\n",
       "    </tr>\n",
       "  </tbody>\n",
       "</table>\n",
       "</div>"
      ],
      "text/plain": [
       "            Id   ProductId          UserId            ProfileName  \\\n",
       "138706  150524  0006641040   ACITT7DI6IDDL        shari zychinski   \n",
       "138688  150506  0006641040  A2IW4PEEKO2R0U                  Tracy   \n",
       "138689  150507  0006641040  A1S4A3IQ2MU7V4  sally sue \"sally sue\"   \n",
       "\n",
       "        HelpfulnessNumerator  HelpfulnessDenominator  Score        Time  \\\n",
       "138706                     0                       0      1   939340800   \n",
       "138688                     1                       1      1  1194739200   \n",
       "138689                     1                       1      1  1191456000   \n",
       "\n",
       "                                           Summary  \\\n",
       "138706                   EVERY book is educational   \n",
       "138688  Love the book, miss the hard cover version   \n",
       "138689               chicken soup with rice months   \n",
       "\n",
       "                                                     Text  \\\n",
       "138706  this witty little book makes my son laugh at l...   \n",
       "138688  I grew up reading these Sendak books, and watc...   \n",
       "138689  This is a fun way for children to learn their ...   \n",
       "\n",
       "                                              CleanedText  \n",
       "138706  witty little book makes son laugh loud recite ...  \n",
       "138688  grew reading sendak books watching really rosi...  \n",
       "138689  fun way children learn months year learn poems...  "
      ]
     },
     "execution_count": 22,
     "metadata": {},
     "output_type": "execute_result"
    }
   ],
   "source": [
    "final_data['CleanedText'] = final_strings\n",
    "final_data.shape\n",
    "final_data.head(3)\n"
   ]
  },
  {
   "cell_type": "code",
   "execution_count": 23,
   "metadata": {},
   "outputs": [
    {
     "name": "stdout",
     "output_type": "stream",
     "text": [
      "1    307061\n",
      "0     57110\n",
      "Name: Score, dtype: int64\n"
     ]
    }
   ],
   "source": [
    "print(final_data['Score'].value_counts())"
   ]
  },
  {
   "cell_type": "markdown",
   "metadata": {
    "colab_type": "text",
    "id": "fEu8sShciWOS"
   },
   "source": [
    "## [3.2] Preprocessing Reviews Summary"
   ]
  },
  {
   "cell_type": "code",
   "execution_count": 24,
   "metadata": {},
   "outputs": [
    {
     "name": "stdout",
     "output_type": "stream",
     "text": [
      "I set aside at least an hour each day to read to my son (3 y/o). At this point, I consider myself a connoisseur of children's books and this is one of the best. Santa Clause put this under the tree. Since then, we've read it perpetually and he loves it.<br /><br />First, this book taught him the months of the year.<br /><br />Second, it's a pleasure to read. Well suited to 1.5 y/o old to 4+.<br /><br />Very few children's books are worth owning. Most should be borrowed from the library. This book, however, deserves a permanent spot on your shelf. Sendak's best.\n",
      "==================================================\n",
      "late delivered, I paid extra charge for faster delivery but is not delivered on the time i've expected it.\n",
      "==================================================\n",
      "We use marinade on a weekly basis, and this is another flavor from Lawry's that is really good.  Not too spicy or overwhelming, making it a good marinade for everyone (even picky kids who don't like spicy tastes).\n",
      "==================================================\n",
      "Great taste and amazing crunch. If you have never experienced the large/deluxe/fancy peanuts and have only had Planters or regular \"salted in the shell\", you are in for a wonderful experience. The intense taste and solid crunch will keep your hand in the can `til they are gone.\n",
      "==================================================\n"
     ]
    }
   ],
   "source": [
    "# printing some random reviews\n",
    "sent_6 = final_data['Text'].values[6]\n",
    "print(sent_6)\n",
    "print(\"=\"*50)\n",
    "\n",
    "sent_5000 = final_data['Text'].values[5000]\n",
    "print(sent_5000)\n",
    "print(\"=\"*50)\n",
    "\n",
    "sent_50000 = final_data['Text'].values[50000]\n",
    "print(sent_50000)\n",
    "print(\"=\"*50)\n",
    "\n",
    "sent_355000 = final_data['Text'].values[355000]\n",
    "print(sent_355000)\n",
    "print(\"=\"*50)"
   ]
  },
  {
   "cell_type": "code",
   "execution_count": 25,
   "metadata": {},
   "outputs": [
    {
     "name": "stdout",
     "output_type": "stream",
     "text": [
      "I set aside at least an hour each day to read to my son (3 y/o). At this point, I consider myself a connoisseur of children's books and this is one of the best. Santa Clause put this under the tree. Since then, we've read it perpetually and he loves it.First, this book taught him the months of the year.Second, it's a pleasure to read. Well suited to 1.5 y/o old to 4+.Very few children's books are worth owning. Most should be borrowed from the library. This book, however, deserves a permanent spot on your shelf. Sendak's best.\n",
      "==================================================\n",
      "late delivered, I paid extra charge for faster delivery but is not delivered on the time i've expected it.\n",
      "==================================================\n",
      "We use marinade on a weekly basis, and this is another flavor from Lawry's that is really good.  Not too spicy or overwhelming, making it a good marinade for everyone (even picky kids who don't like spicy tastes).\n",
      "==================================================\n",
      "Great taste and amazing crunch. If you have never experienced the large/deluxe/fancy peanuts and have only had Planters or regular \"salted in the shell\", you are in for a wonderful experience. The intense taste and solid crunch will keep your hand in the can `til they are gone.\n"
     ]
    }
   ],
   "source": [
    "from bs4 import BeautifulSoup\n",
    "\n",
    "soup = BeautifulSoup(sent_6, 'lxml')\n",
    "text = soup.get_text()\n",
    "print(text)\n",
    "print(\"=\"*50)\n",
    "\n",
    "soup = BeautifulSoup(sent_5000, 'lxml')\n",
    "text= soup.get_text()\n",
    "print(text)\n",
    "print(\"=\"*50)\n",
    "\n",
    "soup = BeautifulSoup(sent_50000, 'lxml')\n",
    "text = soup.get_text()\n",
    "print(text)\n",
    "print(\"=\"*50)\n",
    "\n",
    "soup = BeautifulSoup(sent_355000, 'lxml')\n",
    "text = soup.get_text()\n",
    "print(text)"
   ]
  },
  {
   "cell_type": "code",
   "execution_count": 26,
   "metadata": {},
   "outputs": [],
   "source": [
    "# Expanding English language contractions  like, you've -> you have,  aren't -> are not\n",
    "import re\n",
    "\n",
    "def decontracted(phrase):\n",
    "    # specific\n",
    "    phrase = re.sub(r\"won't\", \"will not\", phrase)\n",
    "    phrase = re.sub(r\"can\\'t\", \"can not\", phrase)\n",
    "\n",
    "    # general\n",
    "    phrase = re.sub(r\"n\\'t\", \" not\", phrase)\n",
    "    phrase = re.sub(r\"\\'re\", \" are\", phrase)\n",
    "    phrase = re.sub(r\"\\'s\", \" is\", phrase)\n",
    "    phrase = re.sub(r\"\\'d\", \" would\", phrase)\n",
    "    phrase = re.sub(r\"\\'ll\", \" will\", phrase)\n",
    "    phrase = re.sub(r\"\\'t\", \" not\", phrase)\n",
    "    phrase = re.sub(r\"\\'ve\", \" have\", phrase)\n",
    "    phrase = re.sub(r\"\\'m\", \" am\", phrase)\n",
    "    return phrase"
   ]
  },
  {
   "cell_type": "code",
   "execution_count": 27,
   "metadata": {},
   "outputs": [
    {
     "name": "stdout",
     "output_type": "stream",
     "text": [
      "late delivered, I paid extra charge for faster delivery but is not delivered on the time i have expected it.\n",
      "==================================================\n"
     ]
    }
   ],
   "source": [
    "sent_5000 = decontracted(sent_5000)\n",
    "print(sent_5000)\n",
    "print(\"=\"*50)"
   ]
  },
  {
   "cell_type": "code",
   "execution_count": 28,
   "metadata": {},
   "outputs": [
    {
     "name": "stdout",
     "output_type": "stream",
     "text": [
      "I set aside at least an hour each day to read to my son  y/o). At this point, I consider myself a connoisseur of children's books and this is one of the best. Santa Clause put this under the tree. Since then, we've read it perpetually and he loves it.<br /><br />First, this book taught him the months of the year.<br /><br />Second, it's a pleasure to read. Well suited to  y/o old to  /><br />Very few children's books are worth owning. Most should be borrowed from the library. This book, however, deserves a permanent spot on your shelf. Sendak's best.\n"
     ]
    }
   ],
   "source": [
    "#remove words with numbers ---- https://stackoverflow.com/a/18082370/4084039\n",
    "sent_6 = re.sub(\"\\S*\\d\\S*\", \"\", sent_6).strip()\n",
    "print(sent_6)"
   ]
  },
  {
   "cell_type": "code",
   "execution_count": 29,
   "metadata": {},
   "outputs": [
    {
     "name": "stdout",
     "output_type": "stream",
     "text": [
      "Great taste and amazing crunch If you have never experienced the large deluxe fancy peanuts and have only had Planters or regular salted in the shell you are in for a wonderful experience The intense taste and solid crunch will keep your hand in the can til they are gone \n"
     ]
    }
   ],
   "source": [
    "#remove spacial character ----- https://stackoverflow.com/a/5843547/4084039\n",
    "sent_355000 = re.sub('[^A-Za-z0-9]+', ' ', sent_355000)\n",
    "print(sent_355000)"
   ]
  },
  {
   "cell_type": "code",
   "execution_count": 30,
   "metadata": {},
   "outputs": [],
   "source": [
    "# https://gist.github.com/sebleier/554280\n",
    "# we are removing the words from the stop words list: 'no', 'nor', 'not'\n",
    "# <br /><br /> ==> after the above steps, we are getting \"br br\"\n",
    "# we are including them into stop words list\n",
    "# instead of <br /> if we have <br/> these tags would have revmoved in the 1st step\n",
    "\n",
    "stopwords= set(['br', 'the', 'i', 'me', 'my', 'myself', 'we', 'our', 'ours', 'ourselves', 'you', \"you're\", \"you've\",\\\n",
    "            \"you'll\", \"you'd\", 'your', 'yours', 'yourself', 'yourselves', 'he', 'him', 'his', 'himself', \\\n",
    "            'she', \"she's\", 'her', 'hers', 'herself', 'it', \"it's\", 'its', 'itself', 'they', 'them', 'their',\\\n",
    "            'theirs', 'themselves', 'what', 'which', 'who', 'whom', 'this', 'that', \"that'll\", 'these', 'those', \\\n",
    "            'am', 'is', 'are', 'was', 'were', 'be', 'been', 'being', 'have', 'has', 'had', 'having', 'do', 'does', \\\n",
    "            'did', 'doing', 'a', 'an', 'the', 'and', 'but', 'if', 'or', 'because', 'as', 'until', 'while', 'of', \\\n",
    "            'at', 'by', 'for', 'with', 'about', 'against', 'between', 'into', 'through', 'during', 'before', 'after',\\\n",
    "            'above', 'below', 'to', 'from', 'up', 'down', 'in', 'out', 'on', 'off', 'over', 'under', 'again', 'further',\\\n",
    "            'then', 'once', 'here', 'there', 'when', 'where', 'why', 'how', 'all', 'any', 'both', 'each', 'few', 'more',\\\n",
    "            'most', 'other', 'some', 'such', 'only', 'own', 'same', 'so', 'than', 'too', 'very', \\\n",
    "            's', 't', 'can', 'will', 'just', 'don', \"don't\", 'should', \"should've\", 'now', 'd', 'll', 'm', 'o', 're', \\\n",
    "            've', 'y', 'ain', 'aren', \"aren't\", 'couldn', \"couldn't\", 'didn', \"didn't\", 'doesn', \"doesn't\", 'hadn',\\\n",
    "            \"hadn't\", 'hasn', \"hasn't\", 'haven', \"haven't\", 'isn', \"isn't\", 'ma', 'mightn', \"mightn't\", 'mustn',\\\n",
    "            \"mustn't\", 'needn', \"needn't\", 'shan', \"shan't\", 'shouldn', \"shouldn't\", 'wasn', \"wasn't\", 'weren', \"weren't\", \\\n",
    "            'won', \"won't\", 'wouldn', \"wouldn't\"])"
   ]
  },
  {
   "cell_type": "code",
   "execution_count": 31,
   "metadata": {},
   "outputs": [
    {
     "name": "stderr",
     "output_type": "stream",
     "text": [
      "100%|██████████| 364171/364171 [01:55<00:00, 3153.10it/s]\n"
     ]
    }
   ],
   "source": [
    "# Performing all the preprocessing steps on Summary data.\n",
    "import warnings\n",
    "warnings.filterwarnings('ignore')  # \"error\", \"ignore\", \"always\", \"default\", \"module\" or \"once\"\n",
    "from tqdm import tqdm\n",
    "summary_data = []\n",
    "all_positive_words=[] # store words from +ve reviews here\n",
    "all_negative_words=[] # store words from -ve reviews here.\n",
    "s=''\n",
    "# tqdm is for printing the status bar\n",
    "for sentence in tqdm(final_data['Summary'].values):\n",
    "    sentence = re.sub(r\"http\\S+\", \"\", sentence)  # To remove urls from text\n",
    "    sentence = BeautifulSoup(sentence, 'lxml').get_text() # To remove all tags from an element\n",
    "    sentence = decontracted(sentence) # Expanding English language contractions  like, you've -> you have,  aren't -> are not\n",
    "    sentence = re.sub(r'[^\\w\\s]','', sentence)\n",
    "    sentence = re.sub(\"\\S*\\d\\S*\", \"\", sentence).strip() # removes words with numbers\n",
    "    sentence = re.sub('[^A-Za-z]+', ' ', sentence) # removes special characters\n",
    "    sentence = sentence.lower()  # Converting words into lowercase\n",
    "    # https://gist.github.com/sebleier/554280\n",
    "    sentence = ' '.join(e.lower() for e in sentence.split() if e.lower() not in stopwords)\n",
    "    summary_data.append(sentence.strip())"
   ]
  },
  {
   "cell_type": "code",
   "execution_count": 32,
   "metadata": {},
   "outputs": [
    {
     "data": {
      "text/plain": [
       "'awesome yummy'"
      ]
     },
     "execution_count": 32,
     "metadata": {},
     "output_type": "execute_result"
    }
   ],
   "source": [
    "summary_data[56000]"
   ]
  },
  {
   "cell_type": "code",
   "execution_count": 33,
   "metadata": {},
   "outputs": [],
   "source": [
    "# store final_data table into an SQlLite table for future.\n",
    "conn = sqlite3.connect('final_data.sqlite')\n",
    "c=conn.cursor()\n",
    "conn.text_factory = str\n",
    "final_data.to_sql('Reviews', conn,  schema=None, if_exists='replace', index=True, index_label=None, chunksize=None, dtype=None)\n"
   ]
  },
  {
   "cell_type": "code",
   "execution_count": 34,
   "metadata": {},
   "outputs": [
    {
     "data": {
      "text/html": [
       "<div>\n",
       "<style scoped>\n",
       "    .dataframe tbody tr th:only-of-type {\n",
       "        vertical-align: middle;\n",
       "    }\n",
       "\n",
       "    .dataframe tbody tr th {\n",
       "        vertical-align: top;\n",
       "    }\n",
       "\n",
       "    .dataframe thead th {\n",
       "        text-align: right;\n",
       "    }\n",
       "</style>\n",
       "<table border=\"1\" class=\"dataframe\">\n",
       "  <thead>\n",
       "    <tr style=\"text-align: right;\">\n",
       "      <th></th>\n",
       "      <th>Id</th>\n",
       "      <th>ProductId</th>\n",
       "      <th>UserId</th>\n",
       "      <th>ProfileName</th>\n",
       "      <th>HelpfulnessNumerator</th>\n",
       "      <th>HelpfulnessDenominator</th>\n",
       "      <th>Score</th>\n",
       "      <th>Time</th>\n",
       "      <th>Summary</th>\n",
       "      <th>Text</th>\n",
       "      <th>CleanedText</th>\n",
       "      <th>CleanedSummary</th>\n",
       "    </tr>\n",
       "  </thead>\n",
       "  <tbody>\n",
       "    <tr>\n",
       "      <th>138706</th>\n",
       "      <td>150524</td>\n",
       "      <td>0006641040</td>\n",
       "      <td>ACITT7DI6IDDL</td>\n",
       "      <td>shari zychinski</td>\n",
       "      <td>0</td>\n",
       "      <td>0</td>\n",
       "      <td>1</td>\n",
       "      <td>939340800</td>\n",
       "      <td>EVERY book is educational</td>\n",
       "      <td>this witty little book makes my son laugh at l...</td>\n",
       "      <td>witty little book makes son laugh loud recite ...</td>\n",
       "      <td>every book educational</td>\n",
       "    </tr>\n",
       "    <tr>\n",
       "      <th>138688</th>\n",
       "      <td>150506</td>\n",
       "      <td>0006641040</td>\n",
       "      <td>A2IW4PEEKO2R0U</td>\n",
       "      <td>Tracy</td>\n",
       "      <td>1</td>\n",
       "      <td>1</td>\n",
       "      <td>1</td>\n",
       "      <td>1194739200</td>\n",
       "      <td>Love the book, miss the hard cover version</td>\n",
       "      <td>I grew up reading these Sendak books, and watc...</td>\n",
       "      <td>grew reading sendak books watching really rosi...</td>\n",
       "      <td>love book miss hard cover version</td>\n",
       "    </tr>\n",
       "    <tr>\n",
       "      <th>138689</th>\n",
       "      <td>150507</td>\n",
       "      <td>0006641040</td>\n",
       "      <td>A1S4A3IQ2MU7V4</td>\n",
       "      <td>sally sue \"sally sue\"</td>\n",
       "      <td>1</td>\n",
       "      <td>1</td>\n",
       "      <td>1</td>\n",
       "      <td>1191456000</td>\n",
       "      <td>chicken soup with rice months</td>\n",
       "      <td>This is a fun way for children to learn their ...</td>\n",
       "      <td>fun way children learn months year learn poems...</td>\n",
       "      <td>chicken soup rice months</td>\n",
       "    </tr>\n",
       "  </tbody>\n",
       "</table>\n",
       "</div>"
      ],
      "text/plain": [
       "            Id   ProductId          UserId            ProfileName  \\\n",
       "138706  150524  0006641040   ACITT7DI6IDDL        shari zychinski   \n",
       "138688  150506  0006641040  A2IW4PEEKO2R0U                  Tracy   \n",
       "138689  150507  0006641040  A1S4A3IQ2MU7V4  sally sue \"sally sue\"   \n",
       "\n",
       "        HelpfulnessNumerator  HelpfulnessDenominator  Score        Time  \\\n",
       "138706                     0                       0      1   939340800   \n",
       "138688                     1                       1      1  1194739200   \n",
       "138689                     1                       1      1  1191456000   \n",
       "\n",
       "                                           Summary  \\\n",
       "138706                   EVERY book is educational   \n",
       "138688  Love the book, miss the hard cover version   \n",
       "138689               chicken soup with rice months   \n",
       "\n",
       "                                                     Text  \\\n",
       "138706  this witty little book makes my son laugh at l...   \n",
       "138688  I grew up reading these Sendak books, and watc...   \n",
       "138689  This is a fun way for children to learn their ...   \n",
       "\n",
       "                                              CleanedText  \\\n",
       "138706  witty little book makes son laugh loud recite ...   \n",
       "138688  grew reading sendak books watching really rosi...   \n",
       "138689  fun way children learn months year learn poems...   \n",
       "\n",
       "                           CleanedSummary  \n",
       "138706             every book educational  \n",
       "138688  love book miss hard cover version  \n",
       "138689           chicken soup rice months  "
      ]
     },
     "execution_count": 34,
     "metadata": {},
     "output_type": "execute_result"
    }
   ],
   "source": [
    "final_data['CleanedSummary'] = summary_data \n",
    "final_data.shape\n",
    "final_data.head(3)"
   ]
  },
  {
   "cell_type": "code",
   "execution_count": 35,
   "metadata": {},
   "outputs": [
    {
     "name": "stdout",
     "output_type": "stream",
     "text": [
      "1    307061\n",
      "0     57110\n",
      "Name: Score, dtype: int64\n"
     ]
    }
   ],
   "source": [
    "print(final_data['Score'].value_counts())"
   ]
  },
  {
   "cell_type": "markdown",
   "metadata": {},
   "source": [
    "## [4.1] Time Based Splitting\n",
    "\n",
    "\n",
    "Generally we do random splitting of entire dataset into train, test, cross validate data. With this method we may not get correct accuracy everytime. With time products change and reviews for the product also change, hence with random splitting we may not get best value/accuracy.\n",
    "\n",
    "But for Amazon Food Reviews Dataset Time based splitting is better than Random splittng. We can perform Time based splitting only when we have time feature in our dataset. Cross Validate data is used to find best hyper parameter and Test data is used to find accuracy and we train a model on all these.\n",
    "\n",
    "So Time based splitting gives more accuracy than random splitting, even on the future data when data changes with time. It's preferable to do Time based splitting when time is available.\n",
    "\n",
    "1. For each review in the dataset there is a timestamp. In Time based splitting, we first sort all the data in the dataset in increasing order(ascending) of time.\n",
    "2. Now split 70% of data into Train data and remaining 30% of data into test data.\n",
    "\n"
   ]
  },
  {
   "cell_type": "code",
   "execution_count": 36,
   "metadata": {},
   "outputs": [],
   "source": [
    "# sorting data using time\n",
    "final_data['Time'] = pd.to_datetime(final_data['Time'])\n",
    "final_data = final_data.sort_values(by = 'Time', ascending = True)\n"
   ]
  },
  {
   "cell_type": "code",
   "execution_count": 37,
   "metadata": {},
   "outputs": [
    {
     "data": {
      "text/html": [
       "<div>\n",
       "<style scoped>\n",
       "    .dataframe tbody tr th:only-of-type {\n",
       "        vertical-align: middle;\n",
       "    }\n",
       "\n",
       "    .dataframe tbody tr th {\n",
       "        vertical-align: top;\n",
       "    }\n",
       "\n",
       "    .dataframe thead th {\n",
       "        text-align: right;\n",
       "    }\n",
       "</style>\n",
       "<table border=\"1\" class=\"dataframe\">\n",
       "  <thead>\n",
       "    <tr style=\"text-align: right;\">\n",
       "      <th></th>\n",
       "      <th>Id</th>\n",
       "      <th>ProductId</th>\n",
       "      <th>UserId</th>\n",
       "      <th>ProfileName</th>\n",
       "      <th>HelpfulnessNumerator</th>\n",
       "      <th>HelpfulnessDenominator</th>\n",
       "      <th>Score</th>\n",
       "      <th>Time</th>\n",
       "      <th>Summary</th>\n",
       "      <th>Text</th>\n",
       "      <th>CleanedText</th>\n",
       "      <th>CleanedSummary</th>\n",
       "    </tr>\n",
       "  </thead>\n",
       "  <tbody>\n",
       "    <tr>\n",
       "      <th>138706</th>\n",
       "      <td>150524</td>\n",
       "      <td>0006641040</td>\n",
       "      <td>ACITT7DI6IDDL</td>\n",
       "      <td>shari zychinski</td>\n",
       "      <td>0</td>\n",
       "      <td>0</td>\n",
       "      <td>1</td>\n",
       "      <td>1970-01-01 00:00:00.939340800</td>\n",
       "      <td>EVERY book is educational</td>\n",
       "      <td>this witty little book makes my son laugh at l...</td>\n",
       "      <td>witty little book makes son laugh loud recite ...</td>\n",
       "      <td>every book educational</td>\n",
       "    </tr>\n",
       "    <tr>\n",
       "      <th>138683</th>\n",
       "      <td>150501</td>\n",
       "      <td>0006641040</td>\n",
       "      <td>AJ46FKXOVC7NR</td>\n",
       "      <td>Nicholas A Mesiano</td>\n",
       "      <td>2</td>\n",
       "      <td>2</td>\n",
       "      <td>1</td>\n",
       "      <td>1970-01-01 00:00:00.940809600</td>\n",
       "      <td>This whole series is great way to spend time w...</td>\n",
       "      <td>I can remember seeing the show when it aired o...</td>\n",
       "      <td>remember seeing show aired television years ag...</td>\n",
       "      <td>whole series great way spend time child</td>\n",
       "    </tr>\n",
       "    <tr>\n",
       "      <th>417839</th>\n",
       "      <td>451856</td>\n",
       "      <td>B00004CXX9</td>\n",
       "      <td>AIUWLEQ1ADEG5</td>\n",
       "      <td>Elizabeth Medina</td>\n",
       "      <td>0</td>\n",
       "      <td>0</td>\n",
       "      <td>1</td>\n",
       "      <td>1970-01-01 00:00:00.944092800</td>\n",
       "      <td>Entertainingl Funny!</td>\n",
       "      <td>Beetlejuice is a well written movie ..... ever...</td>\n",
       "      <td>beetlejuice well written movie everything exce...</td>\n",
       "      <td>entertainingl funny</td>\n",
       "    </tr>\n",
       "    <tr>\n",
       "      <th>346055</th>\n",
       "      <td>374359</td>\n",
       "      <td>B00004CI84</td>\n",
       "      <td>A344SMIA5JECGM</td>\n",
       "      <td>Vincent P. Ross</td>\n",
       "      <td>1</td>\n",
       "      <td>2</td>\n",
       "      <td>1</td>\n",
       "      <td>1970-01-01 00:00:00.944438400</td>\n",
       "      <td>A modern day fairy tale</td>\n",
       "      <td>A twist of rumplestiskin captured on film, sta...</td>\n",
       "      <td>twist rumplestiskin captured film starring mic...</td>\n",
       "      <td>modern day fairy tale</td>\n",
       "    </tr>\n",
       "    <tr>\n",
       "      <th>417838</th>\n",
       "      <td>451855</td>\n",
       "      <td>B00004CXX9</td>\n",
       "      <td>AJH6LUC1UT1ON</td>\n",
       "      <td>The Phantom of the Opera</td>\n",
       "      <td>0</td>\n",
       "      <td>0</td>\n",
       "      <td>1</td>\n",
       "      <td>1970-01-01 00:00:00.946857600</td>\n",
       "      <td>FANTASTIC!</td>\n",
       "      <td>Beetlejuice is an excellent and funny movie. K...</td>\n",
       "      <td>beetlejuice excellent funny movie keaton hilar...</td>\n",
       "      <td>fantastic</td>\n",
       "    </tr>\n",
       "  </tbody>\n",
       "</table>\n",
       "</div>"
      ],
      "text/plain": [
       "            Id   ProductId          UserId               ProfileName  \\\n",
       "138706  150524  0006641040   ACITT7DI6IDDL           shari zychinski   \n",
       "138683  150501  0006641040   AJ46FKXOVC7NR        Nicholas A Mesiano   \n",
       "417839  451856  B00004CXX9   AIUWLEQ1ADEG5          Elizabeth Medina   \n",
       "346055  374359  B00004CI84  A344SMIA5JECGM           Vincent P. Ross   \n",
       "417838  451855  B00004CXX9   AJH6LUC1UT1ON  The Phantom of the Opera   \n",
       "\n",
       "        HelpfulnessNumerator  HelpfulnessDenominator  Score  \\\n",
       "138706                     0                       0      1   \n",
       "138683                     2                       2      1   \n",
       "417839                     0                       0      1   \n",
       "346055                     1                       2      1   \n",
       "417838                     0                       0      1   \n",
       "\n",
       "                                Time  \\\n",
       "138706 1970-01-01 00:00:00.939340800   \n",
       "138683 1970-01-01 00:00:00.940809600   \n",
       "417839 1970-01-01 00:00:00.944092800   \n",
       "346055 1970-01-01 00:00:00.944438400   \n",
       "417838 1970-01-01 00:00:00.946857600   \n",
       "\n",
       "                                                  Summary  \\\n",
       "138706                          EVERY book is educational   \n",
       "138683  This whole series is great way to spend time w...   \n",
       "417839                               Entertainingl Funny!   \n",
       "346055                            A modern day fairy tale   \n",
       "417838                                         FANTASTIC!   \n",
       "\n",
       "                                                     Text  \\\n",
       "138706  this witty little book makes my son laugh at l...   \n",
       "138683  I can remember seeing the show when it aired o...   \n",
       "417839  Beetlejuice is a well written movie ..... ever...   \n",
       "346055  A twist of rumplestiskin captured on film, sta...   \n",
       "417838  Beetlejuice is an excellent and funny movie. K...   \n",
       "\n",
       "                                              CleanedText  \\\n",
       "138706  witty little book makes son laugh loud recite ...   \n",
       "138683  remember seeing show aired television years ag...   \n",
       "417839  beetlejuice well written movie everything exce...   \n",
       "346055  twist rumplestiskin captured film starring mic...   \n",
       "417838  beetlejuice excellent funny movie keaton hilar...   \n",
       "\n",
       "                                 CleanedSummary  \n",
       "138706                   every book educational  \n",
       "138683  whole series great way spend time child  \n",
       "417839                      entertainingl funny  \n",
       "346055                    modern day fairy tale  \n",
       "417838                                fantastic  "
      ]
     },
     "execution_count": 37,
     "metadata": {},
     "output_type": "execute_result"
    }
   ],
   "source": [
    "# display top 5 rows\n",
    "final_data.head(5)"
   ]
  },
  {
   "cell_type": "markdown",
   "metadata": {},
   "source": [
    "### Sample the data from the Dataset"
   ]
  },
  {
   "cell_type": "code",
   "execution_count": 38,
   "metadata": {},
   "outputs": [
    {
     "name": "stdout",
     "output_type": "stream",
     "text": [
      "(100000, 12)\n",
      "1    87729\n",
      "0    12271\n",
      "Name: Score, dtype: int64\n"
     ]
    }
   ],
   "source": [
    "# taking top 100000 data points\n",
    "total_score = final_data.iloc[:100000,:]\n",
    "print(total_score.shape)\n",
    "print(total_score['Score'].value_counts())"
   ]
  },
  {
   "cell_type": "markdown",
   "metadata": {},
   "source": [
    "## [4.2] Splitting data into Train and Test data"
   ]
  },
  {
   "cell_type": "code",
   "execution_count": 39,
   "metadata": {},
   "outputs": [
    {
     "name": "stdout",
     "output_type": "stream",
     "text": [
      "X_train, Y_train (70000,) (70000,)\n",
      "X_test, Y_test (30000,) (30000,)\n"
     ]
    }
   ],
   "source": [
    "# splitting the data into train, test data\n",
    "from sklearn.cross_validation import train_test_split\n",
    "X = total_score['CleanedText']\n",
    "Y = total_score['Score']\n",
    "# X = total data, Y = class labels, X_test and Y_test are test data set of 30%\n",
    "# Total score is splitted into Train and test data with 70-30 ratio\n",
    "\n",
    "X_train, X_test, Y_train, Y_test = train_test_split(X, Y, test_size = 0.3, random_state = 0)\n",
    "\n",
    "print('X_train, Y_train', X_train.shape, Y_train.shape)\n",
    "print('X_test, Y_test', X_test.shape, Y_test.shape)\n"
   ]
  },
  {
   "cell_type": "markdown",
   "metadata": {},
   "source": [
    "# Decision Trees:\n",
    "\n",
    "1. KNN is a intsance based method. We look at all the instances to make a decision at runtime.\n",
    "2. Naive Bayes is a simple probabilistic Bayesian method.\n",
    "3. Logistic Regression, Linear regression, SVM are geometric in nature and we are trying to find hyperplanes.\n",
    "4. These all models are classification and regression models. Next model is Decision Tree. It is like if-else conditions.\n",
    "5. Decision Tree is a nested-if-else condition classifier. These if-else conditions can be converted to a tree like structure. The first node is a root-node, and remaining all nodes are called vertices. The nodes at the end of the tree are called leaves (leaf nodes). These are terminating vertices.\n",
    "6. Any node that is not a root node and not a leaf node is called internal node or internal vertex. At all the non leaf nodes we make the decisions and at the leaf nodes we decide the class label.\n",
    "7. All the hyperplanes are axis-parallel (parallel to x-axis and y-axis). So a decision tree is a set of axis-parallel hyperplanes that breakup the entire space into cubes and cuboids etc.\n",
    "\n",
    "##### Entropy:-\n",
    "\n",
    "1. For a random variable Y, we can write entropy as H(Y).\n",
    "2. For 2 class case positive nad negative, Entropy is never greater than 1. The maximum entropy occurs when both classes positive and negative are equally probable or divided.\n",
    "3. When we plot the entropy of random variable, if we get more peaked distribution then its entropy is less. So the more peaked the distribution is , the less is its entropy.\n",
    "4. When the distribution of points is widely spread then its entropy is maximum.\n",
    "\n",
    "##### Information Gain ( IG ):-\n",
    "\n",
    "Information_Gain = [Entropy of parent] - [Weighted Average Entropy of child nodes] after breaking the parent dataset.\n",
    "\n",
    "##### Gini Impurity:-\n",
    "1. Gini impurity is very much similar to Entropy with some changes. In Entropy we need to computer log values of base2/base_e  of the positive and negative class, which has more time complexity. \n",
    "2. But in Gini impurity we don't need to compute log values, we just compute squares which has less time complexity when compared to log.\n",
    "3. So Gini impurity is more computationally efficient and much faster to compute than Entropy. \n",
    "4. So in modern computing, people are using Gini Impurity as an alternative to Entropy.\n",
    "\n",
    "A node with all the positive values/negative values is called Pure node. It only has one class and no need to break furhter and so stop it there.\n",
    "\n",
    "In the decision tree we break each node recursively using Information Gain as the criteria. We start at the root node and keep going iteratively till we get the Pure node where we cannot move further.\n",
    "\n",
    "There are 3 typical cases where we can reach the end of the tree and when we stop growing the tree:-\n",
    "1. We reached Pure node and so stop growing the tree\n",
    "2. Can't grow the tree anymore because of lack of points/when we have very few points which may leads to noisy points which makes no sense.\n",
    "3. If we are too deep we stop the tree growing.\n",
    "\n",
    "So the depth of the tree increases, the chances of overfitting to noise increase beacuse of fewer points which may be noisy. If the depth is very small then we will underfit.\n",
    "\n",
    "In decision trees the big hyperparameter is the depth of the tree which we can find using Cross validation.\n",
    "\n",
    "##### Splitting the numerical features:\n",
    "1. Lot of libraries use Gini impurity and Information gain instead of entropy and Information gain.\n",
    "2. To split the numerical features first sort them in ascending order.\n",
    "3. For every numerical feature we can create a condition of < or > to split the data into different datasets. We check the conditions on all the features and pick the one which gives maximum Information Gain\n",
    "\n",
    "\n",
    "\n",
    "1. Feature Standardization - We convert a point Xij into Xij' where Xij' = Xij-Mu_j/sigma_j, where u_j and sigma_j are mean and standard deviaiton of that particular column. Feature standardization is important to avoid the impact of different scales of different features. We perform standarization to get all features into same scales.\n",
    "\n",
    "2. In case of decision tree, decision tree is not a distanced based method. It only depends on order( < or > ), it don't depend on actual values. So we don't need to perform feature standardization in decision tree unlike other models. We also don't do normalization. \n",
    "\n",
    "3. By converting categorical variable ( when it has many categories ) to a numerical feature, we get rid of problem of data sparsity.\n",
    "\n",
    "4. As the depth increases the possibility of having very few points at leaf node increases. If the points at the end tend to noisy then we are overfitting the model to noise points. So as depth increases then possibility of overfitting increases and interpretability of model also decreases.\n",
    "\n",
    "\n",
    "5. If the depth is very low/shallow then we declare the datapoint class-label as same as the majority class class-label at that node. A tree of depth 1 is called decision stump. So when we don't have a pure node then we take the majority vote, where majority class class-label is declared.\n",
    "\n",
    "\n",
    "too deep ---> overfit\n",
    "\n",
    "too shallow/low  ---> underfit\n",
    " \n",
    "So right depth is discovered using cross validation.\n",
    "\n",
    "##### Train and Run time complexity:\n",
    "\n",
    "1. Training time is O(n(logn)d),  n = no. of datapoints in DTrain , d = dimension. When we have large d then decision tree is  not best option.\n",
    "2. After training we can store the Decision tree in the form of nested if-else conditions. So Space complexity at runtime is number of internal nodes + the number of leaf nodes. \n",
    "3. Generally we train decision trees to depth 5 or 10, default is 3, unless we have massive datasets. Because as depth increases then its harder to understand, interpretability decreases. So runtime space complexity is reasonable.\n",
    "4. Runtime time complexity is O(depth of tree) and is reasonable ad depth is reasonable. \n",
    "5. Decision tree can easily handle large data when dimensionality is small or reasonable and low latency requirement.\n",
    "6. Random Forests and GBDT which are variations of decision trees are extremely popular at internet bases applications due to their low latency, low run-time space complexity and easy to train.\n"
   ]
  },
  {
   "cell_type": "markdown",
   "metadata": {
    "colab_type": "text",
    "id": "p2lyiwJ_iWOW"
   },
   "source": [
    "# Featurizations"
   ]
  },
  {
   "cell_type": "markdown",
   "metadata": {
    "colab_type": "text",
    "id": "T_LFck8iiWOX"
   },
   "source": [
    "## 5. BAG OF WORDS (BoW)\n",
    "\n",
    "\n",
    "1. It is one of the simple technique to convert text to vector.\n",
    "2. Constructs a dictionary with set of all the unique words in the reviews.\n",
    "3. Next construct a vector of size 'd' for d-unique words. Each index corresponds to one word in the dictionary.\n",
    "4. Each word is different dimension in d-dim vector and each cell in vector corresponds to number of times the corresponding word occurs in review.\n",
    "5. There are different BoW. One is Binary BoW - it says that, instead of specifying the count of number of occurances, it will specify whether the word occurs or not. This is also called boolean BoW.\n",
    "6. BoW can be said as number of differing words. BoW is applied after all the preprocessing and data cleaning steps. It just says whether a word is present or not in the text. We get set of words\n"
   ]
  },
  {
   "cell_type": "code",
   "execution_count": 40,
   "metadata": {},
   "outputs": [
    {
     "name": "stdout",
     "output_type": "stream",
     "text": [
      "the type of count vectorizer  <class 'scipy.sparse.csr.csr_matrix'>\n",
      "the type of count vectorizer  <class 'scipy.sparse.csr.csr_matrix'>\n",
      "(70000, 90082)\n",
      "(30000, 90082)\n",
      "the number of unique words are  90082\n",
      "the number of unique words are  90082\n"
     ]
    }
   ],
   "source": [
    "# BoW\n",
    "# Creating a variable count_vect of CountVectorizer type and inititalizing it.\n",
    "count_vect = CountVectorizer() #in scikit-learn\n",
    "\n",
    "# X_train and X_test data is converted vector and is stored in X_train_bow and X_test_bow\n",
    "X_train_bow = count_vect.fit_transform(X_train)\n",
    "X_test_bow = count_vect.transform(X_test)\n",
    "\n",
    "# sparse matrix - most of the values of any row in a matrix are zero.Such matrices are called sparse matrix and row in the matrix is sparse vector\n",
    "# The more sparse a matrix is, the more efficient is sparse matrix representation technique\n",
    "print(\"the type of count vectorizer \", type(X_train_bow))# gets the type of X_train_bow which is a matrix\n",
    "print(\"the type of count vectorizer \", type(X_test_bow))# gets the type of X_test_bow which is a matrix\n",
    "\n",
    "# gets the shape of the matrix\n",
    "print(X_train_bow.get_shape()) \n",
    "print(X_test_bow.get_shape()) \n",
    "\n",
    "print(\"the number of unique words are \", X_train_bow.get_shape()[1])\n",
    "print(\"the number of unique words are \", X_test_bow.get_shape()[1])\n"
   ]
  },
  {
   "cell_type": "markdown",
   "metadata": {},
   "source": [
    "## [5.1]  Applying Decision Tree on BoW\n",
    "\n",
    "In Decision Tree we have to use 2 hyper parameters. \n",
    "1. max_depth = [1, 5, 10, 50, 100, 500, 1000]\n",
    "2. min_samples_split = [5, 10, 100, 500].\n",
    "\n",
    "So I am taking both parameters for hyper parameter tuning and fit the model on it to find the maximum depth of the tree and minimum number of samples required to split an internal node.\n"
   ]
  },
  {
   "cell_type": "markdown",
   "metadata": {},
   "source": [
    "### Applying Decision Tree on BoW with max_depth and min_samples_split as hyper parameters"
   ]
  },
  {
   "cell_type": "code",
   "execution_count": 41,
   "metadata": {},
   "outputs": [
    {
     "name": "stdout",
     "output_type": "stream",
     "text": [
      "Model with best parameters is :\n",
      " DecisionTreeClassifier(class_weight='balanced', criterion='gini',\n",
      "            max_depth=50, max_features=None, max_leaf_nodes=None,\n",
      "            min_impurity_decrease=0.0, min_impurity_split=None,\n",
      "            min_samples_leaf=1, min_samples_split=500,\n",
      "            min_weight_fraction_leaf=0.0, presort=False, random_state=None,\n",
      "            splitter='best')\n",
      "The optimal value of max_depth is : 50\n",
      "The optimal value of minimum samples split is: 500\n"
     ]
    }
   ],
   "source": [
    "from sklearn.tree import DecisionTreeClassifier\n",
    "from sklearn.model_selection import GridSearchCV\n",
    "\n",
    "tuned_parameters = {'max_depth': [1, 5, 10, 50, 100, 500, 1000], 'min_samples_split': [5, 10, 100, 500]}\n",
    "\n",
    "model = GridSearchCV(DecisionTreeClassifier(class_weight = 'balanced'), tuned_parameters, scoring = 'roc_auc', n_jobs = -1, cv=5)\n",
    "\n",
    "\n",
    "model.fit(X_train_bow, Y_train)\n",
    "\n",
    "print(\"Model with best parameters is :\\n\", model.best_estimator_)\n",
    "\n",
    "optimal_max_depth =  model.best_estimator_.max_depth\n",
    "print(\"The optimal value of max_depth is :\", optimal_max_depth)\n",
    "\n",
    "optimal_min_samples_split = model.best_estimator_.min_samples_split\n",
    "print(\"The optimal value of minimum samples split is:\", optimal_min_samples_split)\n"
   ]
  },
  {
   "cell_type": "code",
   "execution_count": 42,
   "metadata": {},
   "outputs": [
    {
     "name": "stdout",
     "output_type": "stream",
     "text": [
      "0.8118090217061055\n"
     ]
    }
   ],
   "source": [
    "# get the score on test data \n",
    "print(model.score(X_test_bow, Y_test))  \n"
   ]
  },
  {
   "cell_type": "markdown",
   "metadata": {},
   "source": [
    "### [5.2]  Predicting Test score and Test error for hyperparameters"
   ]
  },
  {
   "cell_type": "code",
   "execution_count": 45,
   "metadata": {},
   "outputs": [
    {
     "name": "stdout",
     "output_type": "stream",
     "text": [
      "\n",
      "The test AUC score of the DecisionTreeClassifier BoW for optimal hyperparameters is 65.592915%\n"
     ]
    }
   ],
   "source": [
    "# Predicting model on test data to find auc-score \n",
    "from sklearn.metrics import roc_auc_score\n",
    "\n",
    "dt_optimal = DecisionTreeClassifier(max_depth = optimal_max_depth, min_samples_split = optimal_min_samples_split)\n",
    "\n",
    "# fitting the model\n",
    "dt_optimal.fit(X_train_bow, Y_train)\n",
    "\n",
    "# predict the response\n",
    "pred_bow = dt_optimal.predict(X_test_bow)\n",
    "\n",
    "# evaluate accuracy. Using auc_score as metric to measure accuracy\n",
    "test_auc_bow = roc_auc_score(Y_test, pred_bow, average = 'weighted') * float(100)\n",
    "print('\\nThe test AUC score of the DecisionTreeClassifier BoW for optimal hyperparameters is %f%%' % (test_auc_bow))\n"
   ]
  },
  {
   "cell_type": "code",
   "execution_count": 46,
   "metadata": {},
   "outputs": [
    {
     "name": "stdout",
     "output_type": "stream",
     "text": [
      "Test Error for DecisionTreeClassifier BoW is 0.344%\n"
     ]
    }
   ],
   "source": [
    "# Finding test error\n",
    "test_error_bow = (1 - roc_auc_score(Y_test, pred_bow, average = 'weighted'))\n",
    "print(\"Test Error for DecisionTreeClassifier BoW is %.3f%%\" % (test_error_bow))"
   ]
  },
  {
   "cell_type": "markdown",
   "metadata": {},
   "source": [
    "### [5.3]  Plotting the performance of model both on Train and CV data for BoW with both hyperparameters"
   ]
  },
  {
   "cell_type": "markdown",
   "metadata": {},
   "source": [
    "### Heat map on both hyperparameters on CV data"
   ]
  },
  {
   "cell_type": "code",
   "execution_count": 47,
   "metadata": {},
   "outputs": [
    {
     "data": {
      "image/png": "[encoded data removed]",
      "text/plain": [
       "<Figure size 1080x360 with 2 Axes>"
      ]
     },
     "metadata": {},
     "output_type": "display_data"
    }
   ],
   "source": [
    "df_decisiontree = pd.DataFrame(model.cv_results_)\n",
    "# .max() function returns the largest value in the iterable format\n",
    "scores = df_decisiontree.groupby(['param_max_depth', 'param_min_samples_split']).max()\n",
    "# unstack() method in pandas converts the data into unstacked format\n",
    "AUC_scores = scores.unstack()[['mean_test_score', 'mean_train_score']]\n",
    "plt.figure(figsize=(15,5))\n",
    "sns.heatmap(AUC_scores.mean_test_score, annot=True, fmt='.3g'); # heatmap on CV data with AUC scores for both hyperparameters\n"
   ]
  },
  {
   "cell_type": "code",
   "execution_count": 48,
   "metadata": {},
   "outputs": [
    {
     "name": "stdout",
     "output_type": "stream",
     "text": [
      "The CV AUC-score for both hyperparameters is : \n",
      " param_min_samples_split    5      10     100    500\n",
      "param_max_depth                                    \n",
      "1                        0.622  0.622  0.622  0.622\n",
      "5                        0.734  0.734  0.734  0.735\n",
      "10                       0.772  0.772  0.778  0.780\n",
      "50                       0.720  0.725  0.774  0.806\n",
      "100                      0.719  0.724  0.767  0.800\n",
      "500                      0.705  0.711  0.749  0.784\n",
      "1000                     0.706  0.710  0.748  0.785\n"
     ]
    }
   ],
   "source": [
    "# Displaying CV-AUC scores on both hyperparameters\n",
    "print(\"The CV AUC-score for both hyperparameters is : \\n\", np.round(AUC_scores.mean_test_score,3))"
   ]
  },
  {
   "cell_type": "markdown",
   "metadata": {},
   "source": [
    "### Heat map on both hyperparameters on Train data"
   ]
  },
  {
   "cell_type": "code",
   "execution_count": 49,
   "metadata": {},
   "outputs": [
    {
     "data": {
      "image/png": "[encoded data removed]",
      "text/plain": [
       "<Figure size 1080x360 with 2 Axes>"
      ]
     },
     "metadata": {},
     "output_type": "display_data"
    }
   ],
   "source": [
    "plt.figure(figsize=(15,5))\n",
    "# heatmap on Train data with AUC scores for both hyperparameters\n",
    "sns.heatmap(AUC_scores.mean_train_score, annot=True, fmt='.3g');"
   ]
  },
  {
   "cell_type": "code",
   "execution_count": 50,
   "metadata": {},
   "outputs": [
    {
     "name": "stdout",
     "output_type": "stream",
     "text": [
      "the Train score for both hyperparameters is \n",
      " param_min_samples_split    5      10     100    500\n",
      "param_max_depth                                    \n",
      "1                        0.622  0.622  0.622  0.622\n",
      "5                        0.742  0.742  0.742  0.741\n",
      "10                       0.817  0.816  0.808  0.802\n",
      "50                       0.979  0.973  0.944  0.908\n",
      "100                      0.994  0.990  0.964  0.924\n",
      "500                      1.000  0.998  0.979  0.938\n",
      "1000                     1.000  0.998  0.979  0.938\n"
     ]
    }
   ],
   "source": [
    "# Displaying Train-AUC scores on both hyperparameters\n",
    "print(\"the Train score for both hyperparameters is \\n\", np.round(AUC_scores.mean_train_score, 3))"
   ]
  },
  {
   "cell_type": "markdown",
   "metadata": {},
   "source": [
    "### [5.4]  Plotting ROC curve and finding AUC score for BoW"
   ]
  },
  {
   "cell_type": "code",
   "execution_count": 51,
   "metadata": {},
   "outputs": [
    {
     "data": {
      "image/png": "[encoded data removed]",
      "text/plain": [
       "<Figure size 432x288 with 1 Axes>"
      ]
     },
     "metadata": {},
     "output_type": "display_data"
    }
   ],
   "source": [
    "# ROC curve for both Train and test data and finding AUC score for BoW\n",
    "from sklearn.metrics import roc_curve, auc\n",
    "# Predicting the probabilities of test data as ROC curve needs probabilities to plot\n",
    "Y_prob = model.fit(X_train_bow, Y_train)\n",
    "# Giving actual values(Y_test) and predicted probabilities Y_prob\n",
    "# we need to calculate the fpr and tpr for all thresholds of the classification for both train and test \n",
    "train_fpr, train_tpr, thresholds = roc_curve(Y_train, Y_prob.predict_proba(X_train_bow)[:,1])\n",
    "test_fpr, test_tpr, thresholds = roc_curve(Y_test, Y_prob.predict_proba(X_test_bow)[:,1])\n",
    "\n",
    "# We calculate the AUC (Area Under Curve)\n",
    "roc_auc_train = auc(train_fpr, train_tpr)\n",
    "roc_auc_test = auc(test_fpr, test_tpr)\n",
    "    \n",
    "# Plot FPR (on x-axis) v/s TPR (on y-axis)\n",
    "plt.title('ROC for BOW')\n",
    "plt.plot(train_fpr, train_tpr, 'b', label='Train AUC = %0.2f'% roc_auc_train)\n",
    "plt.plot(test_fpr, test_tpr, 'r', label='Test AUC = %0.2f'% roc_auc_test)\n",
    "plt.legend(loc='lower right')\n",
    "plt.plot([0,1],[0,1],'k--')\n",
    "plt.xlim([-0.1,1.2])\n",
    "plt.ylim([-0.1,1.2])\n",
    "plt.ylabel('True Positive Rate')\n",
    "plt.xlabel('False Positive Rate')\n",
    "plt.show()"
   ]
  },
  {
   "cell_type": "markdown",
   "metadata": {},
   "source": [
    "#### Observation:-\n",
    "\n",
    "From the ROC plot, we got the Train AUC of 0.91 and test ACU of 0.81, which shows that the classifier is working well and predicts correctly.\n"
   ]
  },
  {
   "cell_type": "markdown",
   "metadata": {},
   "source": [
    "## [5.5] Confusion matrix for BoW"
   ]
  },
  {
   "cell_type": "markdown",
   "metadata": {},
   "source": [
    "### Train Confusion matrix for BoW"
   ]
  },
  {
   "cell_type": "code",
   "execution_count": 53,
   "metadata": {},
   "outputs": [
    {
     "name": "stdout",
     "output_type": "stream",
     "text": [
      "Train confusion matrix\n",
      "[[ 4026  4580]\n",
      " [ 1796 59598]]\n"
     ]
    }
   ],
   "source": [
    "from sklearn.metrics import confusion_matrix\n",
    "print(\"Train confusion matrix\")\n",
    "pred_bow_train = dt_optimal.predict(X_train_bow)\n",
    "cm = confusion_matrix(Y_train, pred_bow_train) # finding confusion matrix between true data and predicted data\n",
    "print(cm)"
   ]
  },
  {
   "cell_type": "code",
   "execution_count": 54,
   "metadata": {},
   "outputs": [
    {
     "data": {
      "image/png": "[encoded data removed]",
      "text/plain": [
       "<Figure size 432x288 with 2 Axes>"
      ]
     },
     "metadata": {},
     "output_type": "display_data"
    }
   ],
   "source": [
    "class_label = [\"negative\", \"positive\"] # create a class label for columns and rows\n",
    "cm = confusion_matrix(Y_train, pred_bow_train) \n",
    "dataframe_cm = pd.DataFrame(cm, index = class_label, columns = class_label) # create a dataframe to plot confusion matrix\n",
    "# A heatmap is a two-dimensional graphical representation of data in seaborn,\n",
    "# where the individual values in a matrix are represented with colors.\n",
    "sns.heatmap(dataframe_cm, annot = True, fmt = \"d\") # annot=true means, write the data value in each cell\n",
    "plt.title(\"Train Confusion Matrix for BoW\")\n",
    "plt.xlabel(\"Predicted Label\")\n",
    "plt.ylabel(\"True Label\")\n",
    "plt.show()"
   ]
  },
  {
   "cell_type": "markdown",
   "metadata": {},
   "source": [
    "#### Observations:-\n",
    "\n",
    "\n",
    "A Confusion matrix is a table that is often used to describe the performance of the classification model on a set of test data. It is also one of the metric to measure accuracy of the model.\n",
    "\n",
    "A confusion matrix is a summary of prediction results on a classification problem. The number of correct and incorrect predictions are summarized with count values and broken down by each class. The confusion matrix shows how the classification model is confused when it makes predictions.\n",
    "\n",
    "The above confusion matrix is didvided into 2 classes positive and negative with True values and predicted values.\n",
    "\n",
    "TN - 4026     FP - 4580\n",
    "\n",
    "FN - 1796 ,   TP - 59598\n",
    "\n",
    "where\n",
    "\n",
    "TN - True negative, True value is negative, and is predicted value is negative.\n",
    "\n",
    "FP - False positive, True value is negative, but is predicted as positive.\n",
    "\n",
    "FN - False negative, True value is positive, but is predicted as negative\n",
    "\n",
    "TP - True positive, True value is positive, and is predicted value is positive.\n",
    "\n",
    "1. There are total of 70000 training points being tested against the model. Out of all values, the classifier/model predicted points as positive 64178 times and negative 5822 times.\n",
    "2. But in true values, the positive points are 61394 and negative points are 8606.\n",
    "3. The diagonal values (4026 negative points, 59598 positive points) in the confusion matrix are correctly predicted values by the classifier.\n",
    "\n"
   ]
  },
  {
   "cell_type": "markdown",
   "metadata": {},
   "source": [
    "### Test  Confusion matrix for BoW"
   ]
  },
  {
   "cell_type": "code",
   "execution_count": 55,
   "metadata": {},
   "outputs": [
    {
     "name": "stdout",
     "output_type": "stream",
     "text": [
      "Test confusion matrix\n",
      "[[ 1287  2378]\n",
      " [ 1035 25300]]\n"
     ]
    }
   ],
   "source": [
    "# Using confusion matrix as a another metric to measure accuracy\n",
    "from sklearn.metrics import confusion_matrix\n",
    "print(\"Test confusion matrix\")\n",
    "pred_bow_test = dt_optimal.predict(X_test_bow)\n",
    "cm = confusion_matrix(Y_test, pred_bow_test) # finding confusion matrix between true data and predicted data\n",
    "print(cm)"
   ]
  },
  {
   "cell_type": "code",
   "execution_count": 56,
   "metadata": {},
   "outputs": [
    {
     "data": {
      "image/png": "[encoded data removed]",
      "text/plain": [
       "<Figure size 432x288 with 2 Axes>"
      ]
     },
     "metadata": {},
     "output_type": "display_data"
    }
   ],
   "source": [
    "# plot test confusion matrix for BoW\n",
    "class_label = [\"negative\", \"positive\"] # create a class label for columns and rows\n",
    "cm = confusion_matrix(Y_test, pred_bow_test) \n",
    "dataframe_cm = pd.DataFrame(cm, index = class_label, columns = class_label) # create a dataframe to plot confusion matrix\n",
    "# A heatmap is a two-dimensional graphical representation of data in seaborn,\n",
    "# where the individual values in a matrix are represented with colors.\n",
    "sns.heatmap(dataframe_cm, annot = True, fmt = \"d\") # annot=true means, write the data value in each cell\n",
    "plt.title(\"Test Confusion Matrix for BoW\")\n",
    "plt.xlabel(\"Predicted Label\")\n",
    "plt.ylabel(\"True Label\")\n",
    "plt.show()"
   ]
  },
  {
   "cell_type": "markdown",
   "metadata": {},
   "source": [
    "#### Observations:-\n",
    "\n",
    "The above confusion matrix is didvided into 2 classes positive and negative with True values and predicted values.\n",
    "\n",
    "TN - 1287    FP - 2378\n",
    "\n",
    "FN - 1035 ,  TP - 25300\n",
    "\n",
    "where\n",
    "\n",
    "TN - True negative, True value is negative, and is predicted value is negative.\n",
    "\n",
    "FP - False positive, True value is negative, but is predicted as positive.\n",
    "\n",
    "FN - False negative, True value is positive, but is predicted as negative\n",
    "\n",
    "TP - True positive, True value is positive, and is predicted value is positive.\n",
    "\n",
    "1. There are total of 30000 points being tested against the model. Out of all values, the classifier/model predicted points as positive 27678 times and negative 2322 times.\n",
    "2. But in true values(test data), the positive points are 26335 and negative points are 3665.\n",
    "3. The diagonal values (1287 negative points, 25300 positive points) in the confusion matrix are correctly predicted values by the classifier.\n",
    "\n"
   ]
  },
  {
   "cell_type": "markdown",
   "metadata": {},
   "source": [
    "#### Finding TPR, FPR, TNR, FNR values\n",
    "\n",
    "1. TPR tells, when it's actually yes and how often does classifier predict yes\n",
    "\n",
    "   TPR = TP/(TP+FN) . TPR also known as Recall\n",
    "\n",
    "\n",
    "2. FPR tells, when it's actually no, how often does classifier predict yes\n",
    "\n",
    "   FPR = FP/(FP+TN) \n",
    "\n",
    "\n",
    "3. TNR tells, when it's actually no, how often does classifier predict no\n",
    "\n",
    "   TNR = TN/(TN+FP) \n",
    "    \n",
    "\n",
    "4. FNR tells, When it's actually yes, how often does it predict no\n",
    "\n",
    "   FNR = FN/(FN+TP) \n",
    "\n"
   ]
  },
  {
   "cell_type": "markdown",
   "metadata": {},
   "source": [
    "### [5.6] Classification report for BoW:-\n",
    "\n",
    "1. Classification Rate/Accuracy:\n",
    "\n",
    "   Accuracy = (TP + TN) / (TP + TN + FP + FN)\n",
    "\n",
    "\n",
    "2. Recall:- It tells, when the points are positive and how often they are predicted positive.\n",
    "\n",
    "   Recall = TP / (TP + FN)\n",
    "\n",
    "\n",
    "3. Precision:- It tells, when the model predicted positive and how often is it correct.\n",
    "\n",
    "   Precision = TP / (TP + FP)\n",
    "\n",
    "\n",
    "4. f1-score = (2 Recall Precision) / (Recall + Presision)\n",
    "\n",
    "\n",
    "5. Support is the total number of points in each class (positive and negative)\n",
    "\n"
   ]
  },
  {
   "cell_type": "code",
   "execution_count": 57,
   "metadata": {},
   "outputs": [
    {
     "name": "stdout",
     "output_type": "stream",
     "text": [
      "Accuracy Score: 0.8862333333333333\n",
      "Report:\n",
      "             precision    recall  f1-score   support\n",
      "\n",
      "          0       0.55      0.35      0.43      3665\n",
      "          1       0.91      0.96      0.94     26335\n",
      "\n",
      "avg / total       0.87      0.89      0.87     30000\n",
      "\n"
     ]
    }
   ],
   "source": [
    "# calculate the classification report for BoW\n",
    "from sklearn.metrics import classification_report \n",
    "from sklearn.metrics import accuracy_score\n",
    "\n",
    "print('Accuracy Score:', accuracy_score(Y_test, pred_bow)) \n",
    "print('Report:')\n",
    "print(classification_report(Y_test, pred_bow)) \n"
   ]
  },
  {
   "cell_type": "markdown",
   "metadata": {},
   "source": [
    "#### Observation:-\n",
    "\n",
    "In case of BoW DecisionTree , f1-score, precision gave same accuracy of 87% and recall gave score of 89% accuracy .\n"
   ]
  },
  {
   "cell_type": "markdown",
   "metadata": {},
   "source": [
    "### [5.7] Feature Importance for BoW\n",
    "\n",
    "To find feature Importance, first sort all the words based on its absolute value of feature weight score, where top words have more weight. So for positive class or negative class, we have to find words with highest absolute weight value, as they are most informative/important features or words for determining whether the text/sentence belongs to positive class or negative class.\n",
    "\n",
    "If the weight value of a word is positive and large then probability that the word/feature belongs to positive class increases. If the weight value of a word is negative and large then probability that the word/feature belongs to negative class increases.\n",
    "\n",
    "So we can say that, in Decision Tree we can find feature importance with feature_importances_\n"
   ]
  },
  {
   "cell_type": "code",
   "execution_count": 58,
   "metadata": {},
   "outputs": [
    {
     "data": {
      "text/plain": [
       "DecisionTreeClassifier(class_weight=None, criterion='gini', max_depth=50,\n",
       "            max_features=None, max_leaf_nodes=None,\n",
       "            min_impurity_decrease=0.0, min_impurity_split=None,\n",
       "            min_samples_leaf=1, min_samples_split=500,\n",
       "            min_weight_fraction_leaf=0.0, presort=False, random_state=None,\n",
       "            splitter='best')"
      ]
     },
     "execution_count": 58,
     "metadata": {},
     "output_type": "execute_result"
    }
   ],
   "source": [
    "clf = DecisionTreeClassifier(max_depth = 50, min_samples_split = 500)\n",
    "clf.fit(X_train_bow, Y_train)\n"
   ]
  },
  {
   "cell_type": "code",
   "execution_count": 64,
   "metadata": {},
   "outputs": [
    {
     "name": "stdout",
     "output_type": "stream",
     "text": [
      "Feature Importances\t\tfeatures\n",
      "0.0835\t\t\t\tnot            \n",
      "0.0484\t\t\t\tgreat          \n",
      "0.0456\t\t\t\tworst          \n",
      "0.0412\t\t\t\tmoney          \n",
      "0.0383\t\t\t\tdisappointed   \n",
      "0.0357\t\t\t\tbest           \n",
      "0.0345\t\t\t\tterrible       \n",
      "0.0210\t\t\t\tdelicious      \n",
      "0.0187\t\t\t\thorrible       \n",
      "0.0185\t\t\t\treturn         \n",
      "0.0183\t\t\t\tlove           \n",
      "0.0159\t\t\t\tgood           \n",
      "0.0152\t\t\t\tdisappointment \n",
      "0.0142\t\t\t\tawful          \n",
      "0.0136\t\t\t\tdisappointing  \n",
      "0.0124\t\t\t\tthrew          \n",
      "0.0120\t\t\t\tloves          \n",
      "0.0119\t\t\t\tperfect        \n",
      "0.0114\t\t\t\tnice           \n",
      "0.0112\t\t\t\twaste          \n"
     ]
    }
   ],
   "source": [
    "# Feature importance\n",
    "def feature_importances_(vectorizer, clf, n=20): # To print top 20 features \n",
    "    feature_names = vectorizer.get_feature_names()\n",
    "    coefs_with_fns = sorted(zip(clf.feature_importances_, feature_names)) # fns- feature names\n",
    "    top = coefs_with_fns[:-(n + 1):-1] # top 20 features\n",
    "    #top = (zip(coefs_with_fns[:-(n + 1):-1], coefs_with_fns[:n])) \n",
    "    print(\"Feature Importances\\t\\tfeatures\")\n",
    "    for (coefs_with_fns_1, fn_1) in top:  # To print top 20 features\n",
    "        print(\"%.4f\\t\\t\\t\\t%-15s\" % (coefs_with_fns_1, fn_1))\n",
    "feature_importances_(count_vect, clf)"
   ]
  },
  {
   "cell_type": "markdown",
   "metadata": {},
   "source": [
    "### [5.8]  Visualizing the Decision tree for BoW"
   ]
  },
  {
   "cell_type": "code",
   "execution_count": 65,
   "metadata": {},
   "outputs": [
    {
     "data": {
      "image/svg+xml": [
       "<?xml version=\"1.0\" encoding=\"UTF-8\" standalone=\"no\"?>\r\n",
       "<!DOCTYPE svg PUBLIC \"-//W3C//DTD SVG 1.1//EN\"\r\n",
       " \"http://www.w3.org/Graphics/SVG/1.1/DTD/svg11.dtd\">\r\n",
       "<!-- Generated by graphviz version 2.38.0 (20140413.2041)\r\n",
       " -->\r\n",
       "<!-- Title: Tree Pages: 1 -->\r\n",
       "<svg width=\"639pt\" height=\"401pt\"\r\n",
       " viewBox=\"0.00 0.00 638.50 401.00\" xmlns=\"http://www.w3.org/2000/svg\" xmlns:xlink=\"http://www.w3.org/1999/xlink\">\r\n",
       "<g id=\"graph0\" class=\"graph\" transform=\"scale(1 1) rotate(0) translate(4 397)\">\r\n",
       "<title>Tree</title>\r\n",
       "<polygon fill=\"white\" stroke=\"none\" points=\"-4,4 -4,-397 634.5,-397 634.5,4 -4,4\"/>\r\n",
       "<!-- 0 -->\r\n",
       "<g id=\"node1\" class=\"node\"><title>0</title>\r\n",
       "<path fill=\"#399de5\" fill-opacity=\"0.858824\" stroke=\"black\" d=\"M379,-393C379,-393 248,-393 248,-393 242,-393 236,-387 236,-381 236,-381 236,-322 236,-322 236,-316 242,-310 248,-310 248,-310 379,-310 379,-310 385,-310 391,-316 391,-322 391,-322 391,-381 391,-381 391,-387 385,-393 379,-393\"/>\r\n",
       "<text text-anchor=\"start\" x=\"286\" y=\"-377.8\" font-family=\"Helvetica,sans-Serif\" font-size=\"14.00\">not ≤ 0.5</text>\r\n",
       "<text text-anchor=\"start\" x=\"276\" y=\"-362.8\" font-family=\"Helvetica,sans-Serif\" font-size=\"14.00\">gini = 0.216</text>\r\n",
       "<text text-anchor=\"start\" x=\"257.5\" y=\"-347.8\" font-family=\"Helvetica,sans-Serif\" font-size=\"14.00\">samples = 70000</text>\r\n",
       "<text text-anchor=\"start\" x=\"244\" y=\"-332.8\" font-family=\"Helvetica,sans-Serif\" font-size=\"14.00\">value = [8606, 61394]</text>\r\n",
       "<text text-anchor=\"start\" x=\"264.5\" y=\"-317.8\" font-family=\"Helvetica,sans-Serif\" font-size=\"14.00\">class = positive</text>\r\n",
       "</g>\r\n",
       "<!-- 1 -->\r\n",
       "<g id=\"node2\" class=\"node\"><title>1</title>\r\n",
       "<path fill=\"#399de5\" fill-opacity=\"0.925490\" stroke=\"black\" d=\"M293,-274C293,-274 162,-274 162,-274 156,-274 150,-268 150,-262 150,-262 150,-203 150,-203 150,-197 156,-191 162,-191 162,-191 293,-191 293,-191 299,-191 305,-197 305,-203 305,-203 305,-262 305,-262 305,-268 299,-274 293,-274\"/>\r\n",
       "<text text-anchor=\"start\" x=\"192.5\" y=\"-258.8\" font-family=\"Helvetica,sans-Serif\" font-size=\"14.00\">worst ≤ 0.5</text>\r\n",
       "<text text-anchor=\"start\" x=\"194\" y=\"-243.8\" font-family=\"Helvetica,sans-Serif\" font-size=\"14.00\">gini = 0.13</text>\r\n",
       "<text text-anchor=\"start\" x=\"171.5\" y=\"-228.8\" font-family=\"Helvetica,sans-Serif\" font-size=\"14.00\">samples = 34459</text>\r\n",
       "<text text-anchor=\"start\" x=\"158\" y=\"-213.8\" font-family=\"Helvetica,sans-Serif\" font-size=\"14.00\">value = [2400, 32059]</text>\r\n",
       "<text text-anchor=\"start\" x=\"178.5\" y=\"-198.8\" font-family=\"Helvetica,sans-Serif\" font-size=\"14.00\">class = positive</text>\r\n",
       "</g>\r\n",
       "<!-- 0&#45;&gt;1 -->\r\n",
       "<g id=\"edge1\" class=\"edge\"><title>0&#45;&gt;1</title>\r\n",
       "<path fill=\"none\" stroke=\"black\" d=\"M283.663,-309.907C277.126,-301.014 270.139,-291.509 263.393,-282.331\"/>\r\n",
       "<polygon fill=\"black\" stroke=\"black\" points=\"266.027,-280.005 257.285,-274.021 260.387,-284.151 266.027,-280.005\"/>\r\n",
       "<text text-anchor=\"middle\" x=\"253.511\" y=\"-295.034\" font-family=\"Helvetica,sans-Serif\" font-size=\"14.00\">True</text>\r\n",
       "</g>\r\n",
       "<!-- 454 -->\r\n",
       "<g id=\"node7\" class=\"node\"><title>454</title>\r\n",
       "<path fill=\"#399de5\" fill-opacity=\"0.788235\" stroke=\"black\" d=\"M466,-274C466,-274 335,-274 335,-274 329,-274 323,-268 323,-262 323,-262 323,-203 323,-203 323,-197 329,-191 335,-191 335,-191 466,-191 466,-191 472,-191 478,-197 478,-203 478,-203 478,-262 478,-262 478,-268 472,-274 466,-274\"/>\r\n",
       "<text text-anchor=\"start\" x=\"366.5\" y=\"-258.8\" font-family=\"Helvetica,sans-Serif\" font-size=\"14.00\">great ≤ 0.5</text>\r\n",
       "<text text-anchor=\"start\" x=\"363\" y=\"-243.8\" font-family=\"Helvetica,sans-Serif\" font-size=\"14.00\">gini = 0.288</text>\r\n",
       "<text text-anchor=\"start\" x=\"344.5\" y=\"-228.8\" font-family=\"Helvetica,sans-Serif\" font-size=\"14.00\">samples = 35541</text>\r\n",
       "<text text-anchor=\"start\" x=\"331\" y=\"-213.8\" font-family=\"Helvetica,sans-Serif\" font-size=\"14.00\">value = [6206, 29335]</text>\r\n",
       "<text text-anchor=\"start\" x=\"351.5\" y=\"-198.8\" font-family=\"Helvetica,sans-Serif\" font-size=\"14.00\">class = positive</text>\r\n",
       "</g>\r\n",
       "<!-- 0&#45;&gt;454 -->\r\n",
       "<g id=\"edge6\" class=\"edge\"><title>0&#45;&gt;454</title>\r\n",
       "<path fill=\"none\" stroke=\"black\" d=\"M343.684,-309.907C350.365,-300.923 357.509,-291.315 364.399,-282.05\"/>\r\n",
       "<polygon fill=\"black\" stroke=\"black\" points=\"367.211,-284.134 370.369,-274.021 361.593,-279.957 367.211,-284.134\"/>\r\n",
       "<text text-anchor=\"middle\" x=\"374.006\" y=\"-295.055\" font-family=\"Helvetica,sans-Serif\" font-size=\"14.00\">False</text>\r\n",
       "</g>\r\n",
       "<!-- 2 -->\r\n",
       "<g id=\"node3\" class=\"node\"><title>2</title>\r\n",
       "<path fill=\"#399de5\" fill-opacity=\"0.929412\" stroke=\"black\" d=\"M143,-155C143,-155 12,-155 12,-155 6,-155 0,-149 0,-143 0,-143 0,-84 0,-84 0,-78 6,-72 12,-72 12,-72 143,-72 143,-72 149,-72 155,-78 155,-84 155,-84 155,-143 155,-143 155,-149 149,-155 143,-155\"/>\r\n",
       "<text text-anchor=\"start\" x=\"18.5\" y=\"-139.8\" font-family=\"Helvetica,sans-Serif\" font-size=\"14.00\">disappointed ≤ 0.5</text>\r\n",
       "<text text-anchor=\"start\" x=\"40\" y=\"-124.8\" font-family=\"Helvetica,sans-Serif\" font-size=\"14.00\">gini = 0.126</text>\r\n",
       "<text text-anchor=\"start\" x=\"21.5\" y=\"-109.8\" font-family=\"Helvetica,sans-Serif\" font-size=\"14.00\">samples = 34364</text>\r\n",
       "<text text-anchor=\"start\" x=\"8\" y=\"-94.8\" font-family=\"Helvetica,sans-Serif\" font-size=\"14.00\">value = [2321, 32043]</text>\r\n",
       "<text text-anchor=\"start\" x=\"28.5\" y=\"-79.8\" font-family=\"Helvetica,sans-Serif\" font-size=\"14.00\">class = positive</text>\r\n",
       "</g>\r\n",
       "<!-- 1&#45;&gt;2 -->\r\n",
       "<g id=\"edge2\" class=\"edge\"><title>1&#45;&gt;2</title>\r\n",
       "<path fill=\"none\" stroke=\"black\" d=\"M175.458,-190.907C163.242,-181.379 150.126,-171.148 137.589,-161.37\"/>\r\n",
       "<polygon fill=\"black\" stroke=\"black\" points=\"139.487,-158.411 129.45,-155.021 135.182,-163.931 139.487,-158.411\"/>\r\n",
       "</g>\r\n",
       "<!-- 453 -->\r\n",
       "<g id=\"node6\" class=\"node\"><title>453</title>\r\n",
       "<path fill=\"#e58139\" fill-opacity=\"0.796078\" stroke=\"black\" d=\"M280,-147.5C280,-147.5 185,-147.5 185,-147.5 179,-147.5 173,-141.5 173,-135.5 173,-135.5 173,-91.5 173,-91.5 173,-85.5 179,-79.5 185,-79.5 185,-79.5 280,-79.5 280,-79.5 286,-79.5 292,-85.5 292,-91.5 292,-91.5 292,-135.5 292,-135.5 292,-141.5 286,-147.5 280,-147.5\"/>\r\n",
       "<text text-anchor=\"start\" x=\"199\" y=\"-132.3\" font-family=\"Helvetica,sans-Serif\" font-size=\"14.00\">gini = 0.28</text>\r\n",
       "<text text-anchor=\"start\" x=\"189\" y=\"-117.3\" font-family=\"Helvetica,sans-Serif\" font-size=\"14.00\">samples = 95</text>\r\n",
       "<text text-anchor=\"start\" x=\"184\" y=\"-102.3\" font-family=\"Helvetica,sans-Serif\" font-size=\"14.00\">value = [79, 16]</text>\r\n",
       "<text text-anchor=\"start\" x=\"181\" y=\"-87.3\" font-family=\"Helvetica,sans-Serif\" font-size=\"14.00\">class = negative</text>\r\n",
       "</g>\r\n",
       "<!-- 1&#45;&gt;453 -->\r\n",
       "<g id=\"edge5\" class=\"edge\"><title>1&#45;&gt;453</title>\r\n",
       "<path fill=\"none\" stroke=\"black\" d=\"M229.235,-190.907C229.692,-180.204 230.187,-168.615 230.651,-157.776\"/>\r\n",
       "<polygon fill=\"black\" stroke=\"black\" points=\"234.152,-157.807 231.083,-147.667 227.159,-157.508 234.152,-157.807\"/>\r\n",
       "</g>\r\n",
       "<!-- 3 -->\r\n",
       "<g id=\"node4\" class=\"node\"><title>3</title>\r\n",
       "<path fill=\"#c0c0c0\" stroke=\"black\" d=\"M56.5,-36C56.5,-36 26.5,-36 26.5,-36 20.5,-36 14.5,-30 14.5,-24 14.5,-24 14.5,-12 14.5,-12 14.5,-6 20.5,-0 26.5,-0 26.5,-0 56.5,-0 56.5,-0 62.5,-0 68.5,-6 68.5,-12 68.5,-12 68.5,-24 68.5,-24 68.5,-30 62.5,-36 56.5,-36\"/>\r\n",
       "<text text-anchor=\"middle\" x=\"41.5\" y=\"-14.3\" font-family=\"Helvetica,sans-Serif\" font-size=\"14.00\">(...)</text>\r\n",
       "</g>\r\n",
       "<!-- 2&#45;&gt;3 -->\r\n",
       "<g id=\"edge3\" class=\"edge\"><title>2&#45;&gt;3</title>\r\n",
       "<path fill=\"none\" stroke=\"black\" d=\"M61.8146,-71.7615C58.4573,-63.0419 54.9907,-54.0385 51.8927,-45.9921\"/>\r\n",
       "<polygon fill=\"black\" stroke=\"black\" points=\"55.0609,-44.4797 48.2014,-36.4051 48.5284,-46.9949 55.0609,-44.4797\"/>\r\n",
       "</g>\r\n",
       "<!-- 452 -->\r\n",
       "<g id=\"node5\" class=\"node\"><title>452</title>\r\n",
       "<path fill=\"#c0c0c0\" stroke=\"black\" d=\"M128.5,-36C128.5,-36 98.5,-36 98.5,-36 92.5,-36 86.5,-30 86.5,-24 86.5,-24 86.5,-12 86.5,-12 86.5,-6 92.5,-0 98.5,-0 98.5,-0 128.5,-0 128.5,-0 134.5,-0 140.5,-6 140.5,-12 140.5,-12 140.5,-24 140.5,-24 140.5,-30 134.5,-36 128.5,-36\"/>\r\n",
       "<text text-anchor=\"middle\" x=\"113.5\" y=\"-14.3\" font-family=\"Helvetica,sans-Serif\" font-size=\"14.00\">(...)</text>\r\n",
       "</g>\r\n",
       "<!-- 2&#45;&gt;452 -->\r\n",
       "<g id=\"edge4\" class=\"edge\"><title>2&#45;&gt;452</title>\r\n",
       "<path fill=\"none\" stroke=\"black\" d=\"M93.1854,-71.7615C96.5427,-63.0419 100.009,-54.0385 103.107,-45.9921\"/>\r\n",
       "<polygon fill=\"black\" stroke=\"black\" points=\"106.472,-46.9949 106.799,-36.4051 99.9391,-44.4797 106.472,-46.9949\"/>\r\n",
       "</g>\r\n",
       "<!-- 455 -->\r\n",
       "<g id=\"node8\" class=\"node\"><title>455</title>\r\n",
       "<path fill=\"#399de5\" fill-opacity=\"0.741176\" stroke=\"black\" d=\"M462,-155C462,-155 331,-155 331,-155 325,-155 319,-149 319,-143 319,-143 319,-84 319,-84 319,-78 325,-72 331,-72 331,-72 462,-72 462,-72 468,-72 474,-78 474,-84 474,-84 474,-143 474,-143 474,-149 468,-155 462,-155\"/>\r\n",
       "<text text-anchor=\"start\" x=\"357\" y=\"-139.8\" font-family=\"Helvetica,sans-Serif\" font-size=\"14.00\">money ≤ 0.5</text>\r\n",
       "<text text-anchor=\"start\" x=\"359\" y=\"-124.8\" font-family=\"Helvetica,sans-Serif\" font-size=\"14.00\">gini = 0.328</text>\r\n",
       "<text text-anchor=\"start\" x=\"340.5\" y=\"-109.8\" font-family=\"Helvetica,sans-Serif\" font-size=\"14.00\">samples = 27050</text>\r\n",
       "<text text-anchor=\"start\" x=\"327\" y=\"-94.8\" font-family=\"Helvetica,sans-Serif\" font-size=\"14.00\">value = [5595, 21455]</text>\r\n",
       "<text text-anchor=\"start\" x=\"347.5\" y=\"-79.8\" font-family=\"Helvetica,sans-Serif\" font-size=\"14.00\">class = positive</text>\r\n",
       "</g>\r\n",
       "<!-- 454&#45;&gt;455 -->\r\n",
       "<g id=\"edge7\" class=\"edge\"><title>454&#45;&gt;455</title>\r\n",
       "<path fill=\"none\" stroke=\"black\" d=\"M399.112,-190.907C398.827,-182.558 398.523,-173.671 398.227,-165.02\"/>\r\n",
       "<polygon fill=\"black\" stroke=\"black\" points=\"401.725,-164.895 397.885,-155.021 394.729,-165.135 401.725,-164.895\"/>\r\n",
       "</g>\r\n",
       "<!-- 1360 -->\r\n",
       "<g id=\"node11\" class=\"node\"><title>1360</title>\r\n",
       "<path fill=\"#399de5\" fill-opacity=\"0.921569\" stroke=\"black\" d=\"M618.5,-155C618.5,-155 504.5,-155 504.5,-155 498.5,-155 492.5,-149 492.5,-143 492.5,-143 492.5,-84 492.5,-84 492.5,-78 498.5,-72 504.5,-72 504.5,-72 618.5,-72 618.5,-72 624.5,-72 630.5,-78 630.5,-84 630.5,-84 630.5,-143 630.5,-143 630.5,-149 624.5,-155 618.5,-155\"/>\r\n",
       "<text text-anchor=\"start\" x=\"522\" y=\"-139.8\" font-family=\"Helvetica,sans-Serif\" font-size=\"14.00\">terrible ≤ 0.5</text>\r\n",
       "<text text-anchor=\"start\" x=\"524\" y=\"-124.8\" font-family=\"Helvetica,sans-Serif\" font-size=\"14.00\">gini = 0.134</text>\r\n",
       "<text text-anchor=\"start\" x=\"510\" y=\"-109.8\" font-family=\"Helvetica,sans-Serif\" font-size=\"14.00\">samples = 8491</text>\r\n",
       "<text text-anchor=\"start\" x=\"500.5\" y=\"-94.8\" font-family=\"Helvetica,sans-Serif\" font-size=\"14.00\">value = [611, 7880]</text>\r\n",
       "<text text-anchor=\"start\" x=\"512.5\" y=\"-79.8\" font-family=\"Helvetica,sans-Serif\" font-size=\"14.00\">class = positive</text>\r\n",
       "</g>\r\n",
       "<!-- 454&#45;&gt;1360 -->\r\n",
       "<g id=\"edge10\" class=\"edge\"><title>454&#45;&gt;1360</title>\r\n",
       "<path fill=\"none\" stroke=\"black\" d=\"M456.358,-190.907C469.595,-181.288 483.816,-170.953 497.389,-161.09\"/>\r\n",
       "<polygon fill=\"black\" stroke=\"black\" points=\"499.709,-163.731 505.741,-155.021 495.593,-158.068 499.709,-163.731\"/>\r\n",
       "</g>\r\n",
       "<!-- 456 -->\r\n",
       "<g id=\"node9\" class=\"node\"><title>456</title>\r\n",
       "<path fill=\"#c0c0c0\" stroke=\"black\" d=\"M367.5,-36C367.5,-36 337.5,-36 337.5,-36 331.5,-36 325.5,-30 325.5,-24 325.5,-24 325.5,-12 325.5,-12 325.5,-6 331.5,-0 337.5,-0 337.5,-0 367.5,-0 367.5,-0 373.5,-0 379.5,-6 379.5,-12 379.5,-12 379.5,-24 379.5,-24 379.5,-30 373.5,-36 367.5,-36\"/>\r\n",
       "<text text-anchor=\"middle\" x=\"352.5\" y=\"-14.3\" font-family=\"Helvetica,sans-Serif\" font-size=\"14.00\">(...)</text>\r\n",
       "</g>\r\n",
       "<!-- 455&#45;&gt;456 -->\r\n",
       "<g id=\"edge8\" class=\"edge\"><title>455&#45;&gt;456</title>\r\n",
       "<path fill=\"none\" stroke=\"black\" d=\"M377.329,-71.7615C373.134,-62.8481 368.8,-53.6382 364.95,-45.4571\"/>\r\n",
       "<polygon fill=\"black\" stroke=\"black\" points=\"368.116,-43.963 360.691,-36.4051 361.782,-46.9436 368.116,-43.963\"/>\r\n",
       "</g>\r\n",
       "<!-- 1353 -->\r\n",
       "<g id=\"node10\" class=\"node\"><title>1353</title>\r\n",
       "<path fill=\"#c0c0c0\" stroke=\"black\" d=\"M439.5,-36C439.5,-36 409.5,-36 409.5,-36 403.5,-36 397.5,-30 397.5,-24 397.5,-24 397.5,-12 397.5,-12 397.5,-6 403.5,-0 409.5,-0 409.5,-0 439.5,-0 439.5,-0 445.5,-0 451.5,-6 451.5,-12 451.5,-12 451.5,-24 451.5,-24 451.5,-30 445.5,-36 439.5,-36\"/>\r\n",
       "<text text-anchor=\"middle\" x=\"424.5\" y=\"-14.3\" font-family=\"Helvetica,sans-Serif\" font-size=\"14.00\">(...)</text>\r\n",
       "</g>\r\n",
       "<!-- 455&#45;&gt;1353 -->\r\n",
       "<g id=\"edge9\" class=\"edge\"><title>455&#45;&gt;1353</title>\r\n",
       "<path fill=\"none\" stroke=\"black\" d=\"M408.7,-71.7615C411.311,-63.0419 414.007,-54.0385 416.417,-45.9921\"/>\r\n",
       "<polygon fill=\"black\" stroke=\"black\" points=\"419.772,-46.9889 419.288,-36.4051 413.066,-44.9807 419.772,-46.9889\"/>\r\n",
       "</g>\r\n",
       "<!-- 1361 -->\r\n",
       "<g id=\"node12\" class=\"node\"><title>1361</title>\r\n",
       "<path fill=\"#c0c0c0\" stroke=\"black\" d=\"M540.5,-36C540.5,-36 510.5,-36 510.5,-36 504.5,-36 498.5,-30 498.5,-24 498.5,-24 498.5,-12 498.5,-12 498.5,-6 504.5,-0 510.5,-0 510.5,-0 540.5,-0 540.5,-0 546.5,-0 552.5,-6 552.5,-12 552.5,-12 552.5,-24 552.5,-24 552.5,-30 546.5,-36 540.5,-36\"/>\r\n",
       "<text text-anchor=\"middle\" x=\"525.5\" y=\"-14.3\" font-family=\"Helvetica,sans-Serif\" font-size=\"14.00\">(...)</text>\r\n",
       "</g>\r\n",
       "<!-- 1360&#45;&gt;1361 -->\r\n",
       "<g id=\"edge11\" class=\"edge\"><title>1360&#45;&gt;1361</title>\r\n",
       "<path fill=\"none\" stroke=\"black\" d=\"M545.815,-71.7615C542.457,-63.0419 538.991,-54.0385 535.893,-45.9921\"/>\r\n",
       "<polygon fill=\"black\" stroke=\"black\" points=\"539.061,-44.4797 532.201,-36.4051 532.528,-46.9949 539.061,-44.4797\"/>\r\n",
       "</g>\r\n",
       "<!-- 1456 -->\r\n",
       "<g id=\"node13\" class=\"node\"><title>1456</title>\r\n",
       "<path fill=\"#c0c0c0\" stroke=\"black\" d=\"M612.5,-36C612.5,-36 582.5,-36 582.5,-36 576.5,-36 570.5,-30 570.5,-24 570.5,-24 570.5,-12 570.5,-12 570.5,-6 576.5,-0 582.5,-0 582.5,-0 612.5,-0 612.5,-0 618.5,-0 624.5,-6 624.5,-12 624.5,-12 624.5,-24 624.5,-24 624.5,-30 618.5,-36 612.5,-36\"/>\r\n",
       "<text text-anchor=\"middle\" x=\"597.5\" y=\"-14.3\" font-family=\"Helvetica,sans-Serif\" font-size=\"14.00\">(...)</text>\r\n",
       "</g>\r\n",
       "<!-- 1360&#45;&gt;1456 -->\r\n",
       "<g id=\"edge12\" class=\"edge\"><title>1360&#45;&gt;1456</title>\r\n",
       "<path fill=\"none\" stroke=\"black\" d=\"M577.185,-71.7615C580.543,-63.0419 584.009,-54.0385 587.107,-45.9921\"/>\r\n",
       "<polygon fill=\"black\" stroke=\"black\" points=\"590.472,-46.9949 590.799,-36.4051 583.939,-44.4797 590.472,-46.9949\"/>\r\n",
       "</g>\r\n",
       "</g>\r\n",
       "</svg>\r\n"
      ],
      "text/plain": [
       "<graphviz.files.Source at 0xc082dc6b38>"
      ]
     },
     "execution_count": 65,
     "metadata": {},
     "output_type": "execute_result"
    }
   ],
   "source": [
    "from graphviz import Source\n",
    "import graphviz\n",
    "from sklearn import tree\n",
    "from IPython.display import Image\n",
    "import pydotplus\n",
    "\n",
    "target_class = ['negative','positive']\n",
    "vectorizer = CountVectorizer()\n",
    "vect = vectorizer.fit_transform(X_train)\n",
    "vectorizer.get_feature_names()\n",
    "\n",
    "bow_tree = DecisionTreeClassifier(max_depth = 50, min_samples_split = 500)\n",
    "bow_tree.fit(vect, Y_train)\n",
    "\n",
    "bow_dt = tree.export_graphviz(bow_tree, max_depth= 2, out_file = None, feature_names = vectorizer.get_feature_names(),class_names = target_class, filled=True, rounded=True, special_characters=True)\n",
    "\n",
    "graph = graphviz.Source(bow_dt)\n",
    "graph\n"
   ]
  },
  {
   "cell_type": "code",
   "execution_count": 66,
   "metadata": {},
   "outputs": [
    {
     "data": {
      "text/plain": [
       "'dtree.png'"
      ]
     },
     "execution_count": 66,
     "metadata": {},
     "output_type": "execute_result"
    }
   ],
   "source": [
    "# reference - https://stackoverflow.com/questions/27817994/visualizing-decision-tree-in-scikit-learn/27818170\n",
    "# saving the above decision tree in png format\n",
    "\n",
    "graph.format = 'png'\n",
    "graph.render('dtree',view=True)"
   ]
  },
  {
   "cell_type": "markdown",
   "metadata": {},
   "source": [
    "# 6. TFIDF"
   ]
  },
  {
   "cell_type": "markdown",
   "metadata": {},
   "source": [
    "### Sample the dataset \n",
    "\n",
    "I am taking sample of 60k points for TFIDF due to long computation time for TFIDF which is taking hours together and I am not able to run this entire assignment in 24hrs, and due to less computational power of my system. Please consider it ."
   ]
  },
  {
   "cell_type": "code",
   "execution_count": 67,
   "metadata": {},
   "outputs": [
    {
     "name": "stdout",
     "output_type": "stream",
     "text": [
      "(60000, 12)\n",
      "1    53147\n",
      "0     6853\n",
      "Name: Score, dtype: int64\n"
     ]
    }
   ],
   "source": [
    "total_score_new = final_data.iloc[:60000,:]\n",
    "print(total_score_new.shape)\n",
    "print(total_score_new['Score'].value_counts())"
   ]
  },
  {
   "cell_type": "code",
   "execution_count": 68,
   "metadata": {},
   "outputs": [
    {
     "data": {
      "text/html": [
       "<div>\n",
       "<style scoped>\n",
       "    .dataframe tbody tr th:only-of-type {\n",
       "        vertical-align: middle;\n",
       "    }\n",
       "\n",
       "    .dataframe tbody tr th {\n",
       "        vertical-align: top;\n",
       "    }\n",
       "\n",
       "    .dataframe thead th {\n",
       "        text-align: right;\n",
       "    }\n",
       "</style>\n",
       "<table border=\"1\" class=\"dataframe\">\n",
       "  <thead>\n",
       "    <tr style=\"text-align: right;\">\n",
       "      <th></th>\n",
       "      <th>Id</th>\n",
       "      <th>ProductId</th>\n",
       "      <th>UserId</th>\n",
       "      <th>ProfileName</th>\n",
       "      <th>HelpfulnessNumerator</th>\n",
       "      <th>HelpfulnessDenominator</th>\n",
       "      <th>Score</th>\n",
       "      <th>Time</th>\n",
       "      <th>Summary</th>\n",
       "      <th>Text</th>\n",
       "      <th>CleanedText</th>\n",
       "      <th>CleanedSummary</th>\n",
       "    </tr>\n",
       "  </thead>\n",
       "  <tbody>\n",
       "    <tr>\n",
       "      <th>138706</th>\n",
       "      <td>150524</td>\n",
       "      <td>0006641040</td>\n",
       "      <td>ACITT7DI6IDDL</td>\n",
       "      <td>shari zychinski</td>\n",
       "      <td>0</td>\n",
       "      <td>0</td>\n",
       "      <td>1</td>\n",
       "      <td>1970-01-01 00:00:00.939340800</td>\n",
       "      <td>EVERY book is educational</td>\n",
       "      <td>this witty little book makes my son laugh at l...</td>\n",
       "      <td>witty little book makes son laugh loud recite ...</td>\n",
       "      <td>every book educational</td>\n",
       "    </tr>\n",
       "    <tr>\n",
       "      <th>138683</th>\n",
       "      <td>150501</td>\n",
       "      <td>0006641040</td>\n",
       "      <td>AJ46FKXOVC7NR</td>\n",
       "      <td>Nicholas A Mesiano</td>\n",
       "      <td>2</td>\n",
       "      <td>2</td>\n",
       "      <td>1</td>\n",
       "      <td>1970-01-01 00:00:00.940809600</td>\n",
       "      <td>This whole series is great way to spend time w...</td>\n",
       "      <td>I can remember seeing the show when it aired o...</td>\n",
       "      <td>remember seeing show aired television years ag...</td>\n",
       "      <td>whole series great way spend time child</td>\n",
       "    </tr>\n",
       "    <tr>\n",
       "      <th>417839</th>\n",
       "      <td>451856</td>\n",
       "      <td>B00004CXX9</td>\n",
       "      <td>AIUWLEQ1ADEG5</td>\n",
       "      <td>Elizabeth Medina</td>\n",
       "      <td>0</td>\n",
       "      <td>0</td>\n",
       "      <td>1</td>\n",
       "      <td>1970-01-01 00:00:00.944092800</td>\n",
       "      <td>Entertainingl Funny!</td>\n",
       "      <td>Beetlejuice is a well written movie ..... ever...</td>\n",
       "      <td>beetlejuice well written movie everything exce...</td>\n",
       "      <td>entertainingl funny</td>\n",
       "    </tr>\n",
       "  </tbody>\n",
       "</table>\n",
       "</div>"
      ],
      "text/plain": [
       "            Id   ProductId         UserId         ProfileName  \\\n",
       "138706  150524  0006641040  ACITT7DI6IDDL     shari zychinski   \n",
       "138683  150501  0006641040  AJ46FKXOVC7NR  Nicholas A Mesiano   \n",
       "417839  451856  B00004CXX9  AIUWLEQ1ADEG5    Elizabeth Medina   \n",
       "\n",
       "        HelpfulnessNumerator  HelpfulnessDenominator  Score  \\\n",
       "138706                     0                       0      1   \n",
       "138683                     2                       2      1   \n",
       "417839                     0                       0      1   \n",
       "\n",
       "                                Time  \\\n",
       "138706 1970-01-01 00:00:00.939340800   \n",
       "138683 1970-01-01 00:00:00.940809600   \n",
       "417839 1970-01-01 00:00:00.944092800   \n",
       "\n",
       "                                                  Summary  \\\n",
       "138706                          EVERY book is educational   \n",
       "138683  This whole series is great way to spend time w...   \n",
       "417839                               Entertainingl Funny!   \n",
       "\n",
       "                                                     Text  \\\n",
       "138706  this witty little book makes my son laugh at l...   \n",
       "138683  I can remember seeing the show when it aired o...   \n",
       "417839  Beetlejuice is a well written movie ..... ever...   \n",
       "\n",
       "                                              CleanedText  \\\n",
       "138706  witty little book makes son laugh loud recite ...   \n",
       "138683  remember seeing show aired television years ag...   \n",
       "417839  beetlejuice well written movie everything exce...   \n",
       "\n",
       "                                 CleanedSummary  \n",
       "138706                   every book educational  \n",
       "138683  whole series great way spend time child  \n",
       "417839                      entertainingl funny  "
      ]
     },
     "execution_count": 68,
     "metadata": {},
     "output_type": "execute_result"
    }
   ],
   "source": [
    "total_score_new.head(3)"
   ]
  },
  {
   "cell_type": "markdown",
   "metadata": {},
   "source": [
    "### Splitting data into Train and Test data for TFIDF"
   ]
  },
  {
   "cell_type": "code",
   "execution_count": 69,
   "metadata": {},
   "outputs": [
    {
     "name": "stdout",
     "output_type": "stream",
     "text": [
      "X_train_new, Y_train_new (42000,) (42000,)\n",
      "X_test_new, Y_test_new (18000,) (18000,)\n"
     ]
    }
   ],
   "source": [
    "# splitting the data into train, test data\n",
    "from sklearn.cross_validation import train_test_split\n",
    "X1 = total_score_new['CleanedText']\n",
    "Y1 = total_score_new['Score']\n",
    "# X = total data, Y = class labels, X_test and Y_test are test data set of 30%\n",
    "# Total score is splitted into Train and test data with 70-30 ratio\n",
    "\n",
    "X_train_new, X_test_new, Y_train_new, Y_test_new = train_test_split(X1, Y1, test_size = 0.3, random_state = 0)\n",
    "\n",
    "print('X_train_new, Y_train_new', X_train_new.shape, Y_train_new.shape)\n",
    "print('X_test_new, Y_test_new', X_test_new.shape, Y_test_new.shape)\n"
   ]
  },
  {
   "cell_type": "code",
   "execution_count": 70,
   "metadata": {},
   "outputs": [
    {
     "name": "stdout",
     "output_type": "stream",
     "text": [
      "the type of TFIDF vectorizer  <class 'scipy.sparse.csr.csr_matrix'>\n",
      "the type of TFIDF vectorizer  <class 'scipy.sparse.csr.csr_matrix'>\n",
      "(42000, 820140)\n",
      "(18000, 820140)\n",
      "the number of unique words  820140\n",
      "the number of unique words  820140\n"
     ]
    }
   ],
   "source": [
    "# TF-IDF\n",
    "# in Scikit-learn\n",
    "# tf_idf_vect is a variable created \n",
    "tf_idf_vect = TfidfVectorizer(ngram_range=(1,2)) # 1=unigrams, 2=bi-grams\n",
    "\n",
    "# 'final_tf_idf' is the sparse matrix in which all of the tf-idf values are stored. \n",
    "# fit_transform is a function\n",
    "X_train_tfidf = tf_idf_vect.fit_transform(X_train_new)\n",
    "X_test_tfidf = tf_idf_vect.transform(X_test_new)\n",
    "\n",
    "print(\"the type of TFIDF vectorizer \",type(X_train_tfidf))\n",
    "print(\"the type of TFIDF vectorizer \",type(X_test_tfidf))\n",
    "\n",
    "print(X_train_tfidf.get_shape())\n",
    "print(X_test_tfidf.get_shape())\n",
    "\n",
    "print(\"the number of unique words \", X_train_tfidf.get_shape()[1])\n",
    "print(\"the number of unique words \", X_test_tfidf.get_shape()[1])\n"
   ]
  },
  {
   "cell_type": "code",
   "execution_count": 71,
   "metadata": {},
   "outputs": [
    {
     "data": {
      "text/plain": [
       "820140"
      ]
     },
     "execution_count": 71,
     "metadata": {},
     "output_type": "execute_result"
    }
   ],
   "source": [
    "# get_feature_names() function is used to get feature names and all are stored in a variable called 'features'\n",
    "features = tf_idf_vect.get_feature_names()\n",
    "len(features)"
   ]
  },
  {
   "cell_type": "code",
   "execution_count": 72,
   "metadata": {},
   "outputs": [
    {
     "name": "stdout",
     "output_type": "stream",
     "text": [
      "some sample features(unique words in the corpus) are:\n"
     ]
    },
    {
     "data": {
      "text/plain": [
       "['banana mixture',\n",
       " 'banana muffins',\n",
       " 'banana no',\n",
       " 'banana not',\n",
       " 'banana nut',\n",
       " 'banana nutbread',\n",
       " 'banana nuts',\n",
       " 'banana one',\n",
       " 'banana ones',\n",
       " 'banana orange']"
      ]
     },
     "execution_count": 72,
     "metadata": {},
     "output_type": "execute_result"
    }
   ],
   "source": [
    "print(\"some sample features(unique words in the corpus) are:\")\n",
    "features[50000:50010]"
   ]
  },
  {
   "cell_type": "code",
   "execution_count": 73,
   "metadata": {},
   "outputs": [],
   "source": [
    "def top_tfidf_feats(row, features, top_n=20):\n",
    "    ''' Get top n tfidf values in row and return them with their corresponding feature names.'''\n",
    "    topn_ids = np.argsort(row)[::-1][:top_n]   # argsort sorts the top 20 tf-idf words for a given review\n",
    "    top_feats = [(features[i], row[i]) for i in topn_ids]\n",
    "    df = pd.DataFrame(top_feats)\n",
    "    df.columns = ['feature', 'tfidf']\n",
    "    return df\n",
    "\n",
    "# vector 1 corresponding to review 1 and converting it into a numpy array and giving all feature values and prints the top 20 tf-idf values\n",
    "top_tfidf = top_tfidf_feats(X_train_tfidf[1,:].toarray()[0],features,20)"
   ]
  },
  {
   "cell_type": "code",
   "execution_count": 74,
   "metadata": {},
   "outputs": [
    {
     "data": {
      "text/html": [
       "<div>\n",
       "<style scoped>\n",
       "    .dataframe tbody tr th:only-of-type {\n",
       "        vertical-align: middle;\n",
       "    }\n",
       "\n",
       "    .dataframe tbody tr th {\n",
       "        vertical-align: top;\n",
       "    }\n",
       "\n",
       "    .dataframe thead th {\n",
       "        text-align: right;\n",
       "    }\n",
       "</style>\n",
       "<table border=\"1\" class=\"dataframe\">\n",
       "  <thead>\n",
       "    <tr style=\"text-align: right;\">\n",
       "      <th></th>\n",
       "      <th>feature</th>\n",
       "      <th>tfidf</th>\n",
       "    </tr>\n",
       "  </thead>\n",
       "  <tbody>\n",
       "    <tr>\n",
       "      <th>0</th>\n",
       "      <td>bonzai</td>\n",
       "      <td>0.339310</td>\n",
       "    </tr>\n",
       "    <tr>\n",
       "      <th>1</th>\n",
       "      <td>bonzai azalea</td>\n",
       "      <td>0.241490</td>\n",
       "    </tr>\n",
       "    <tr>\n",
       "      <th>2</th>\n",
       "      <td>purchased bonzai</td>\n",
       "      <td>0.241490</td>\n",
       "    </tr>\n",
       "    <tr>\n",
       "      <th>3</th>\n",
       "      <td>azalea</td>\n",
       "      <td>0.226207</td>\n",
       "    </tr>\n",
       "    <tr>\n",
       "      <th>4</th>\n",
       "      <td>purchased</td>\n",
       "      <td>0.200410</td>\n",
       "    </tr>\n",
       "    <tr>\n",
       "      <th>5</th>\n",
       "      <td>gift</td>\n",
       "      <td>0.158952</td>\n",
       "    </tr>\n",
       "    <tr>\n",
       "      <th>6</th>\n",
       "      <td>feel</td>\n",
       "      <td>0.146916</td>\n",
       "    </tr>\n",
       "    <tr>\n",
       "      <th>7</th>\n",
       "      <td>plant</td>\n",
       "      <td>0.142519</td>\n",
       "    </tr>\n",
       "    <tr>\n",
       "      <th>8</th>\n",
       "      <td>gift visit</td>\n",
       "      <td>0.120745</td>\n",
       "    </tr>\n",
       "    <tr>\n",
       "      <th>9</th>\n",
       "      <td>ordering themto</td>\n",
       "      <td>0.120745</td>\n",
       "    </tr>\n",
       "    <tr>\n",
       "      <th>10</th>\n",
       "      <td>gift purchased</td>\n",
       "      <td>0.120745</td>\n",
       "    </tr>\n",
       "    <tr>\n",
       "      <th>11</th>\n",
       "      <td>comfortable ordering</td>\n",
       "      <td>0.120745</td>\n",
       "    </tr>\n",
       "    <tr>\n",
       "      <th>12</th>\n",
       "      <td>good merchandise</td>\n",
       "      <td>0.120745</td>\n",
       "    </tr>\n",
       "    <tr>\n",
       "      <th>13</th>\n",
       "      <td>sum feel</td>\n",
       "      <td>0.120745</td>\n",
       "    </tr>\n",
       "    <tr>\n",
       "      <th>14</th>\n",
       "      <td>pleased purchased</td>\n",
       "      <td>0.120745</td>\n",
       "    </tr>\n",
       "    <tr>\n",
       "      <th>15</th>\n",
       "      <td>well bonzai</td>\n",
       "      <td>0.120745</td>\n",
       "    </tr>\n",
       "    <tr>\n",
       "      <th>16</th>\n",
       "      <td>admired one</td>\n",
       "      <td>0.120745</td>\n",
       "    </tr>\n",
       "    <tr>\n",
       "      <th>17</th>\n",
       "      <td>purchased books</td>\n",
       "      <td>0.120745</td>\n",
       "    </tr>\n",
       "    <tr>\n",
       "      <th>18</th>\n",
       "      <td>purchased done</td>\n",
       "      <td>0.120745</td>\n",
       "    </tr>\n",
       "    <tr>\n",
       "      <th>19</th>\n",
       "      <td>bonzai plant</td>\n",
       "      <td>0.120745</td>\n",
       "    </tr>\n",
       "  </tbody>\n",
       "</table>\n",
       "</div>"
      ],
      "text/plain": [
       "                 feature     tfidf\n",
       "0                 bonzai  0.339310\n",
       "1          bonzai azalea  0.241490\n",
       "2       purchased bonzai  0.241490\n",
       "3                 azalea  0.226207\n",
       "4              purchased  0.200410\n",
       "5                   gift  0.158952\n",
       "6                   feel  0.146916\n",
       "7                  plant  0.142519\n",
       "8             gift visit  0.120745\n",
       "9        ordering themto  0.120745\n",
       "10        gift purchased  0.120745\n",
       "11  comfortable ordering  0.120745\n",
       "12      good merchandise  0.120745\n",
       "13              sum feel  0.120745\n",
       "14     pleased purchased  0.120745\n",
       "15           well bonzai  0.120745\n",
       "16           admired one  0.120745\n",
       "17       purchased books  0.120745\n",
       "18        purchased done  0.120745\n",
       "19          bonzai plant  0.120745"
      ]
     },
     "execution_count": 74,
     "metadata": {},
     "output_type": "execute_result"
    }
   ],
   "source": [
    "top_tfidf"
   ]
  },
  {
   "cell_type": "markdown",
   "metadata": {},
   "source": [
    "### [6.1]  Applying Decision Tree on TFIDF with max_depth and min_samples_split as hyper parameters"
   ]
  },
  {
   "cell_type": "code",
   "execution_count": 75,
   "metadata": {},
   "outputs": [
    {
     "name": "stdout",
     "output_type": "stream",
     "text": [
      "Model with best parameters is :\n",
      " DecisionTreeClassifier(class_weight='balanced', criterion='gini',\n",
      "            max_depth=50, max_features=None, max_leaf_nodes=None,\n",
      "            min_impurity_decrease=0.0, min_impurity_split=None,\n",
      "            min_samples_leaf=1, min_samples_split=500,\n",
      "            min_weight_fraction_leaf=0.0, presort=False, random_state=None,\n",
      "            splitter='best')\n",
      "The optimal value of max_depth is : 50\n",
      "The optimal value of minimum samples split is: 500\n"
     ]
    }
   ],
   "source": [
    "from sklearn.tree import DecisionTreeClassifier\n",
    "from sklearn.model_selection import GridSearchCV\n",
    "\n",
    "tuned_parameters = {'max_depth': [1, 5, 10, 50, 100, 500, 1000], 'min_samples_split': [5, 10, 100, 500]}\n",
    "\n",
    "model = GridSearchCV(DecisionTreeClassifier(class_weight = 'balanced'), tuned_parameters, scoring = 'roc_auc', n_jobs = -1, cv=5)\n",
    "\n",
    "model.fit(X_train_tfidf, Y_train_new)\n",
    "\n",
    "print(\"Model with best parameters is :\\n\", model.best_estimator_)\n",
    "\n",
    "optimal_max_depth =  model.best_estimator_.max_depth\n",
    "print(\"The optimal value of max_depth is :\", optimal_max_depth)\n",
    "\n",
    "optimal_min_samples_split = model.best_estimator_.min_samples_split\n",
    "print(\"The optimal value of minimum samples split is:\", optimal_min_samples_split)\n"
   ]
  },
  {
   "cell_type": "code",
   "execution_count": 76,
   "metadata": {},
   "outputs": [
    {
     "name": "stdout",
     "output_type": "stream",
     "text": [
      "0.7982864745011087\n"
     ]
    }
   ],
   "source": [
    "# get the score on test data \n",
    "print(model.score(X_test_tfidf, Y_test_new))  \n"
   ]
  },
  {
   "cell_type": "markdown",
   "metadata": {},
   "source": [
    "### [6.2] Predicting Test score and Test error for TFIDF with hyperparameters"
   ]
  },
  {
   "cell_type": "code",
   "execution_count": 78,
   "metadata": {},
   "outputs": [
    {
     "name": "stdout",
     "output_type": "stream",
     "text": [
      "\n",
      "The test AUC-score of the DecisionTreeClassifier for optimal hyperparameters in TFIDF is 63.910620%\n"
     ]
    }
   ],
   "source": [
    "# Predicting model on test data to find auc-score \n",
    "from sklearn.metrics import roc_auc_score\n",
    "\n",
    "dt_optimal = DecisionTreeClassifier(max_depth = optimal_max_depth, min_samples_split = optimal_min_samples_split)\n",
    "\n",
    "# fitting the model\n",
    "dt_optimal.fit(X_train_tfidf, Y_train_new)\n",
    "\n",
    "# predict the response\n",
    "pred_tfidf = dt_optimal.predict(X_test_tfidf)\n",
    "\n",
    "# evaluate accuracy. Using auc_score as metric to measure accuracy\n",
    "test_auc_tfidf = roc_auc_score(Y_test_new, pred_tfidf, average = 'weighted') * float(100)\n",
    "print('\\nThe test AUC-score of the DecisionTreeClassifier for optimal hyperparameters in TFIDF is %f%%' % (test_auc_tfidf))\n"
   ]
  },
  {
   "cell_type": "code",
   "execution_count": 80,
   "metadata": {},
   "outputs": [
    {
     "name": "stdout",
     "output_type": "stream",
     "text": [
      "Test Error for DecisionTreeClassifier TFIDF is 0.361%\n"
     ]
    }
   ],
   "source": [
    "# Finding test error\n",
    "test_error_tfidf = (1 - roc_auc_score(Y_test_new, pred_tfidf, average = 'weighted'))\n",
    "print(\"Test Error for DecisionTreeClassifier TFIDF is %.3f%%\" % (test_error_tfidf))"
   ]
  },
  {
   "cell_type": "markdown",
   "metadata": {},
   "source": [
    "### [6.3] Plotting the performance of Train and CV scores for TFIDF with hyperparameters using Heatmaps"
   ]
  },
  {
   "cell_type": "markdown",
   "metadata": {},
   "source": [
    "### Heat map for CV scores TFIDF"
   ]
  },
  {
   "cell_type": "code",
   "execution_count": 81,
   "metadata": {},
   "outputs": [
    {
     "data": {
      "image/png": "[encoded data removed]",
      "text/plain": [
       "<Figure size 1080x360 with 2 Axes>"
      ]
     },
     "metadata": {},
     "output_type": "display_data"
    }
   ],
   "source": [
    "df_decisiontree = pd.DataFrame(model.cv_results_)\n",
    "# .max() function returns the largest value in the iterable format\n",
    "scores = df_decisiontree.groupby(['param_max_depth', 'param_min_samples_split']).max()\n",
    "# unstack() method in pandas converts the data into unstacked format\n",
    "AUC_scores = scores.unstack()[['mean_test_score', 'mean_train_score']]\n",
    "plt.figure(figsize=(15,5))\n",
    "sns.heatmap(AUC_scores.mean_test_score, annot=True, fmt='.3g');\n"
   ]
  },
  {
   "cell_type": "code",
   "execution_count": 82,
   "metadata": {},
   "outputs": [
    {
     "name": "stdout",
     "output_type": "stream",
     "text": [
      "The CV AUC-score for both hyperparameters is : \n",
      " param_min_samples_split    5      10     100    500\n",
      "param_max_depth                                    \n",
      "1                        0.624  0.624  0.624  0.624\n",
      "5                        0.731  0.731  0.732  0.733\n",
      "10                       0.762  0.762  0.765  0.770\n",
      "50                       0.730  0.733  0.760  0.790\n",
      "100                      0.704  0.706  0.742  0.771\n",
      "500                      0.684  0.689  0.714  0.748\n",
      "1000                     0.682  0.688  0.715  0.741\n"
     ]
    }
   ],
   "source": [
    "print(\"The CV AUC-score for both hyperparameters is : \\n\", np.round(AUC_scores.mean_test_score,3))"
   ]
  },
  {
   "cell_type": "markdown",
   "metadata": {},
   "source": [
    "### Heat map for Train scores TFIDF"
   ]
  },
  {
   "cell_type": "code",
   "execution_count": 83,
   "metadata": {},
   "outputs": [
    {
     "data": {
      "image/png": "[encoded data removed]",
      "text/plain": [
       "<Figure size 1080x360 with 2 Axes>"
      ]
     },
     "metadata": {},
     "output_type": "display_data"
    }
   ],
   "source": [
    "plt.figure(figsize=(15,5))\n",
    "sns.heatmap(AUC_scores.mean_train_score, annot=True, fmt='.3g');"
   ]
  },
  {
   "cell_type": "code",
   "execution_count": 84,
   "metadata": {},
   "outputs": [
    {
     "name": "stdout",
     "output_type": "stream",
     "text": [
      "the Train score for both hyperparameters is \n",
      " param_min_samples_split    5      10     100    500\n",
      "param_max_depth                                    \n",
      "1                        0.624  0.624  0.624  0.624\n",
      "5                        0.749  0.749  0.748  0.747\n",
      "10                       0.831  0.829  0.819  0.808\n",
      "50                       0.978  0.972  0.948  0.913\n",
      "100                      0.994  0.991  0.970  0.932\n",
      "500                      1.000  0.999  0.986  0.951\n",
      "1000                     1.000  0.999  0.986  0.952\n"
     ]
    }
   ],
   "source": [
    "print(\"the Train score for both hyperparameters is \\n\", np.round(AUC_scores.mean_train_score, 3))"
   ]
  },
  {
   "cell_type": "markdown",
   "metadata": {},
   "source": [
    "### [6.4]  Plotting ROC curve and finding AUC score for TFIDF"
   ]
  },
  {
   "cell_type": "code",
   "execution_count": 85,
   "metadata": {},
   "outputs": [
    {
     "data": {
      "image/png": "[encoded data removed]",
      "text/plain": [
       "<Figure size 432x288 with 1 Axes>"
      ]
     },
     "metadata": {},
     "output_type": "display_data"
    }
   ],
   "source": [
    "# ROC curve and AUC for TFIDF\n",
    "from sklearn.metrics import roc_curve, auc\n",
    "# Predicting the probabilities of test data as ROC curve needs probabilities to plot\n",
    "Y_prob = model.fit(X_train_tfidf, Y_train_new)\n",
    "# Giving actual values(Y_test) and predicted probabilities Y_prob\n",
    "# we need to calculate the fpr and tpr for all thresholds of the classification \n",
    "train_fpr, train_tpr, thresholds = roc_curve(Y_train_new, Y_prob.predict_proba(X_train_tfidf)[:,1])\n",
    "test_fpr, test_tpr, thresholds = roc_curve(Y_test_new, Y_prob.predict_proba(X_test_tfidf)[:,1])\n",
    "\n",
    "# We calculate the AUC (Area Under Curve)\n",
    "roc_auc_train = auc(train_fpr, train_tpr)\n",
    "roc_auc_test = auc(test_fpr, test_tpr)\n",
    "    \n",
    "# Plot FPR (on x-axis) v/s TPR (on y-axis)\n",
    "plt.title('ROC for TFIDF')\n",
    "plt.plot(train_fpr, train_tpr, 'b', label='Train AUC = %0.2f'% roc_auc_train)\n",
    "plt.plot(test_fpr, test_tpr, 'r', label='Test AUC = %0.2f'% roc_auc_test)\n",
    "plt.legend(loc='lower right')\n",
    "plt.plot([0,1],[0,1],'k--')\n",
    "plt.xlim([-0.1,1.2])\n",
    "plt.ylim([-0.1,1.2])\n",
    "plt.ylabel('True Positive Rate')\n",
    "plt.xlabel('False Positive Rate')\n",
    "plt.show()"
   ]
  },
  {
   "cell_type": "markdown",
   "metadata": {},
   "source": [
    "## [6.5]  Confusion matrix"
   ]
  },
  {
   "cell_type": "markdown",
   "metadata": {},
   "source": [
    "### Confusion matrix for TFIDF Train data"
   ]
  },
  {
   "cell_type": "code",
   "execution_count": 86,
   "metadata": {},
   "outputs": [
    {
     "name": "stdout",
     "output_type": "stream",
     "text": [
      "Train confusion matrix\n",
      "[[ 2308  2495]\n",
      " [  962 36235]]\n"
     ]
    }
   ],
   "source": [
    "from sklearn.metrics import confusion_matrix\n",
    "print(\"Train confusion matrix\")\n",
    "pred_tfidf_train = dt_optimal.predict(X_train_tfidf)\n",
    "cm = confusion_matrix(Y_train_new, pred_tfidf_train) # finding confusion matrix between true data and predicted data\n",
    "print(cm)"
   ]
  },
  {
   "cell_type": "code",
   "execution_count": 87,
   "metadata": {},
   "outputs": [
    {
     "data": {
      "image/png": "[encoded data removed]",
      "text/plain": [
       "<Figure size 432x288 with 2 Axes>"
      ]
     },
     "metadata": {},
     "output_type": "display_data"
    }
   ],
   "source": [
    "class_label = [\"negative\", \"positive\"] # create a class label for columns and rows\n",
    "cm = confusion_matrix(Y_train_new, pred_tfidf_train) \n",
    "dataframe_cm = pd.DataFrame(cm, index = class_label, columns = class_label) # create a dataframe to plot confusion matrix\n",
    "# A heatmap is a two-dimensional graphical representation of data in seaborn,\n",
    "# where the individual values in a matrix are represented with colors.\n",
    "sns.heatmap(dataframe_cm, annot = True, fmt = \"d\") # annot=true means, write the data value in each cell\n",
    "plt.title(\"Train Confusion Matrix for TFIDF\")\n",
    "plt.xlabel(\"Predicted Label\")\n",
    "plt.ylabel(\"True Label\")\n",
    "plt.show()"
   ]
  },
  {
   "cell_type": "markdown",
   "metadata": {},
   "source": [
    "### Confusion matrix for TFIDF Test data"
   ]
  },
  {
   "cell_type": "code",
   "execution_count": 88,
   "metadata": {},
   "outputs": [
    {
     "name": "stdout",
     "output_type": "stream",
     "text": [
      "Test confusion matrix\n",
      "[[  672  1378]\n",
      " [  791 15159]]\n"
     ]
    }
   ],
   "source": [
    "# Using confusion matrix as a another metric to measure accuracy\n",
    "from sklearn.metrics import confusion_matrix\n",
    "print(\"Test confusion matrix\")\n",
    "pred_tfidf_test = dt_optimal.predict(X_test_tfidf)\n",
    "cm = confusion_matrix(Y_test_new, pred_tfidf_test) # finding confusion matrix between true data and predicted data\n",
    "print(cm)"
   ]
  },
  {
   "cell_type": "code",
   "execution_count": 89,
   "metadata": {},
   "outputs": [
    {
     "data": {
      "image/png": "[encoded data removed]",
      "text/plain": [
       "<Figure size 432x288 with 2 Axes>"
      ]
     },
     "metadata": {},
     "output_type": "display_data"
    }
   ],
   "source": [
    "# plot confusion matrix for TFIDF\n",
    "class_label = [\"negative\", \"positive\"] # create a class label for columns and rows\n",
    "cm = confusion_matrix(Y_test_new, pred_tfidf_test) \n",
    "dataframe_cm = pd.DataFrame(cm, index = class_label, columns = class_label) # create a dataframe to plot confusion matrix\n",
    "# A heatmap is a two-dimensional graphical representation of data in seaborn,\n",
    "# where the individual values in a matrix are represented with colors.\n",
    "sns.heatmap(dataframe_cm, annot = True, fmt = \"d\") # annot=true means, write the data value in each cell\n",
    "plt.title(\"Test Confusion Matrix for TFIDF\")\n",
    "plt.xlabel(\"Predicted Label\")\n",
    "plt.ylabel(\"True Label\")\n",
    "plt.show()"
   ]
  },
  {
   "cell_type": "markdown",
   "metadata": {},
   "source": [
    "#### Observations:-\n",
    "\n",
    "A Confusion matrix is a table that is often used to describe the performance of the classification model on a set of test data. It is also one of the metric to measure accuracy of the model.\n",
    "\n",
    "A confusion matrix is a summary of prediction results on a classification problem. The number of correct and incorrect predictions are summarized with count values and broken down by each class. The confusion matrix shows how the classification model is confused when it makes predictions.\n",
    "\n",
    "The above confusion matrix is didvided into 2 classes positive and negative with True values and predicted values.\n",
    "\n",
    "TN - 672   FP - 1378\n",
    "\n",
    "FN - 791 , TP - 15159\n",
    "\n",
    "where\n",
    "\n",
    "TN - True negative, True value is negative, and is predicted value is negative.\n",
    "\n",
    "FP - False positive, True value is negative, but is predicted as positive. \n",
    "\n",
    "FN - False negative, True value is positive, but is predicted as negative \n",
    "\n",
    "TP - True positive, True value is positive, and is predicted value is positive.\n",
    "\n",
    "1. There are total of 18000 points being tested against the model. \n",
    "2. Out of all values, the classifier/model predicted points as positive 16537 times and negative 1463 times. \n",
    "3. But in true values(test data), the positive points are 15950 and negative points are 2050. \n",
    "4. The diagonal values (672 negative points, 15159 positive points) in the confusion matrix are correctly predicted values by the classifier.\n"
   ]
  },
  {
   "cell_type": "markdown",
   "metadata": {},
   "source": [
    "### [6.6]  Classification report for TFIDF:-\n"
   ]
  },
  {
   "cell_type": "code",
   "execution_count": 90,
   "metadata": {},
   "outputs": [
    {
     "name": "stdout",
     "output_type": "stream",
     "text": [
      "Accuracy Score: 0.8795\n",
      "Report:\n",
      "             precision    recall  f1-score   support\n",
      "\n",
      "          0       0.46      0.33      0.38      2050\n",
      "          1       0.92      0.95      0.93     15950\n",
      "\n",
      "avg / total       0.86      0.88      0.87     18000\n",
      "\n"
     ]
    }
   ],
   "source": [
    "# calculate the classification report for TFIDF\n",
    "from sklearn.metrics import classification_report \n",
    "from sklearn.metrics import accuracy_score\n",
    "\n",
    "print('Accuracy Score:', accuracy_score(Y_test_new, pred_tfidf)) \n",
    "print('Report:')\n",
    "print(classification_report(Y_test_new, pred_tfidf)) \n"
   ]
  },
  {
   "cell_type": "markdown",
   "metadata": {},
   "source": [
    "#### Observation:-\n",
    "\n",
    "In case of TFIDF DecisionTress, accuracy, f1-score, precision all gave same score of 75% accuracy .\n"
   ]
  },
  {
   "cell_type": "markdown",
   "metadata": {},
   "source": [
    "### [6.7]  Feature Importance for TFIDF\n",
    "\n",
    "To find feature Importance, first sort all the words based on its absolute value of feature weight score, where top words have more weight. So for positive class or negative class, we have to find words with highest absolute weight value, as they are most informative/important features or words for determining whether the text/sentence belongs to positive class or negative class.\n",
    "\n",
    "If the weight value of a word is positive and large then probability that the word/feature belongs to positive class increases. If the weight value of a word is negative and large then probability that the word/feature belongs to negative class increases."
   ]
  },
  {
   "cell_type": "code",
   "execution_count": 91,
   "metadata": {},
   "outputs": [
    {
     "data": {
      "text/plain": [
       "DecisionTreeClassifier(class_weight=None, criterion='gini', max_depth=50,\n",
       "            max_features=None, max_leaf_nodes=None,\n",
       "            min_impurity_decrease=0.0, min_impurity_split=None,\n",
       "            min_samples_leaf=1, min_samples_split=500,\n",
       "            min_weight_fraction_leaf=0.0, presort=False, random_state=None,\n",
       "            splitter='best')"
      ]
     },
     "execution_count": 91,
     "metadata": {},
     "output_type": "execute_result"
    }
   ],
   "source": [
    "clf = DecisionTreeClassifier(max_depth = 50, min_samples_split = 500)\n",
    "clf.fit(X_train_tfidf, Y_train_new)\n"
   ]
  },
  {
   "cell_type": "code",
   "execution_count": 92,
   "metadata": {},
   "outputs": [
    {
     "name": "stdout",
     "output_type": "stream",
     "text": [
      "Feature Importances\t\tfeatures\n",
      "\t0.0837 \t\t\tnot            \n",
      "\t0.0462 \t\t\tgreat          \n",
      "\t0.0363 \t\t\tworst          \n",
      "\t0.0324 \t\t\tdisappointed   \n",
      "\t0.0308 \t\t\tnot buy        \n",
      "\t0.0295 \t\t\thorrible       \n",
      "\t0.0292 \t\t\tmoney          \n",
      "\t0.0271 \t\t\tnot recommend  \n",
      "\t0.0257 \t\t\tawful          \n",
      "\t0.0252 \t\t\tbest           \n",
      "\t0.0224 \t\t\tterrible       \n",
      "\t0.0211 \t\t\tnot worth      \n",
      "\t0.0172 \t\t\tthrew          \n",
      "\t0.0150 \t\t\tdisappointment \n",
      "\t0.0142 \t\t\tok             \n",
      "\t0.0122 \t\t\tdisappointing  \n",
      "\t0.0116 \t\t\trefund         \n",
      "\t0.0103 \t\t\tstale          \n",
      "\t0.0102 \t\t\tthought        \n",
      "\t0.0099 \t\t\treturn         \n"
     ]
    }
   ],
   "source": [
    "def feature_importances_(vectorizer, clf, n=20): # To print top 20 features \n",
    "    feature_names = vectorizer.get_feature_names()\n",
    "    coefs_with_fns = sorted(zip(clf.feature_importances_, feature_names)) # fns- feature names\n",
    "    top = coefs_with_fns[:-(n + 1):-1]\n",
    "    print(\"Feature Importances\\t\\tfeatures\")\n",
    "    for (coef_with_fns_1, fn_1) in top:  # For positive and negative classes to print top 20 features\n",
    "        print(\"\\t%.4f \\t\\t\\t%-15s\" % (coef_with_fns_1, fn_1))\n",
    "feature_importances_(tf_idf_vect, clf)"
   ]
  },
  {
   "cell_type": "markdown",
   "metadata": {},
   "source": [
    "### [6.8]  Visualizing Decision Tree for TFIDF"
   ]
  },
  {
   "cell_type": "code",
   "execution_count": 93,
   "metadata": {},
   "outputs": [
    {
     "data": {
      "image/svg+xml": [
       "<?xml version=\"1.0\" encoding=\"UTF-8\" standalone=\"no\"?>\r\n",
       "<!DOCTYPE svg PUBLIC \"-//W3C//DTD SVG 1.1//EN\"\r\n",
       " \"http://www.w3.org/Graphics/SVG/1.1/DTD/svg11.dtd\">\r\n",
       "<!-- Generated by graphviz version 2.38.0 (20140413.2041)\r\n",
       " -->\r\n",
       "<!-- Title: Tree Pages: 1 -->\r\n",
       "<svg width=\"639pt\" height=\"401pt\"\r\n",
       " viewBox=\"0.00 0.00 638.50 401.00\" xmlns=\"http://www.w3.org/2000/svg\" xmlns:xlink=\"http://www.w3.org/1999/xlink\">\r\n",
       "<g id=\"graph0\" class=\"graph\" transform=\"scale(1 1) rotate(0) translate(4 397)\">\r\n",
       "<title>Tree</title>\r\n",
       "<polygon fill=\"white\" stroke=\"none\" points=\"-4,4 -4,-397 634.5,-397 634.5,4 -4,4\"/>\r\n",
       "<!-- 0 -->\r\n",
       "<g id=\"node1\" class=\"node\"><title>0</title>\r\n",
       "<path fill=\"#399de5\" fill-opacity=\"0.870588\" stroke=\"black\" d=\"M379,-393C379,-393 248,-393 248,-393 242,-393 236,-387 236,-381 236,-381 236,-322 236,-322 236,-316 242,-310 248,-310 248,-310 379,-310 379,-310 385,-310 391,-316 391,-322 391,-322 391,-381 391,-381 391,-387 385,-393 379,-393\"/>\r\n",
       "<text text-anchor=\"start\" x=\"277.5\" y=\"-377.8\" font-family=\"Helvetica,sans-Serif\" font-size=\"14.00\">not ≤ 0.023</text>\r\n",
       "<text text-anchor=\"start\" x=\"276\" y=\"-362.8\" font-family=\"Helvetica,sans-Serif\" font-size=\"14.00\">gini = 0.203</text>\r\n",
       "<text text-anchor=\"start\" x=\"257.5\" y=\"-347.8\" font-family=\"Helvetica,sans-Serif\" font-size=\"14.00\">samples = 42000</text>\r\n",
       "<text text-anchor=\"start\" x=\"244\" y=\"-332.8\" font-family=\"Helvetica,sans-Serif\" font-size=\"14.00\">value = [4803, 37197]</text>\r\n",
       "<text text-anchor=\"start\" x=\"264.5\" y=\"-317.8\" font-family=\"Helvetica,sans-Serif\" font-size=\"14.00\">class = positive</text>\r\n",
       "</g>\r\n",
       "<!-- 1 -->\r\n",
       "<g id=\"node2\" class=\"node\"><title>1</title>\r\n",
       "<path fill=\"#399de5\" fill-opacity=\"0.929412\" stroke=\"black\" d=\"M293,-274C293,-274 162,-274 162,-274 156,-274 150,-268 150,-262 150,-262 150,-203 150,-203 150,-197 156,-191 162,-191 162,-191 293,-191 293,-191 299,-191 305,-197 305,-203 305,-203 305,-262 305,-262 305,-268 299,-274 293,-274\"/>\r\n",
       "<text text-anchor=\"start\" x=\"184.5\" y=\"-258.8\" font-family=\"Helvetica,sans-Serif\" font-size=\"14.00\">worst ≤ 0.084</text>\r\n",
       "<text text-anchor=\"start\" x=\"190\" y=\"-243.8\" font-family=\"Helvetica,sans-Serif\" font-size=\"14.00\">gini = 0.122</text>\r\n",
       "<text text-anchor=\"start\" x=\"171.5\" y=\"-228.8\" font-family=\"Helvetica,sans-Serif\" font-size=\"14.00\">samples = 21438</text>\r\n",
       "<text text-anchor=\"start\" x=\"158\" y=\"-213.8\" font-family=\"Helvetica,sans-Serif\" font-size=\"14.00\">value = [1401, 20037]</text>\r\n",
       "<text text-anchor=\"start\" x=\"178.5\" y=\"-198.8\" font-family=\"Helvetica,sans-Serif\" font-size=\"14.00\">class = positive</text>\r\n",
       "</g>\r\n",
       "<!-- 0&#45;&gt;1 -->\r\n",
       "<g id=\"edge1\" class=\"edge\"><title>0&#45;&gt;1</title>\r\n",
       "<path fill=\"none\" stroke=\"black\" d=\"M283.663,-309.907C277.126,-301.014 270.139,-291.509 263.393,-282.331\"/>\r\n",
       "<polygon fill=\"black\" stroke=\"black\" points=\"266.027,-280.005 257.285,-274.021 260.387,-284.151 266.027,-280.005\"/>\r\n",
       "<text text-anchor=\"middle\" x=\"253.511\" y=\"-295.034\" font-family=\"Helvetica,sans-Serif\" font-size=\"14.00\">True</text>\r\n",
       "</g>\r\n",
       "<!-- 310 -->\r\n",
       "<g id=\"node7\" class=\"node\"><title>310</title>\r\n",
       "<path fill=\"#399de5\" fill-opacity=\"0.800000\" stroke=\"black\" d=\"M466,-274C466,-274 335,-274 335,-274 329,-274 323,-268 323,-262 323,-262 323,-203 323,-203 323,-197 329,-191 335,-191 335,-191 466,-191 466,-191 472,-191 478,-197 478,-203 478,-203 478,-262 478,-262 478,-268 472,-274 466,-274\"/>\r\n",
       "<text text-anchor=\"start\" x=\"358\" y=\"-258.8\" font-family=\"Helvetica,sans-Serif\" font-size=\"14.00\">great ≤ 0.015</text>\r\n",
       "<text text-anchor=\"start\" x=\"363\" y=\"-243.8\" font-family=\"Helvetica,sans-Serif\" font-size=\"14.00\">gini = 0.276</text>\r\n",
       "<text text-anchor=\"start\" x=\"344.5\" y=\"-228.8\" font-family=\"Helvetica,sans-Serif\" font-size=\"14.00\">samples = 20562</text>\r\n",
       "<text text-anchor=\"start\" x=\"331\" y=\"-213.8\" font-family=\"Helvetica,sans-Serif\" font-size=\"14.00\">value = [3402, 17160]</text>\r\n",
       "<text text-anchor=\"start\" x=\"351.5\" y=\"-198.8\" font-family=\"Helvetica,sans-Serif\" font-size=\"14.00\">class = positive</text>\r\n",
       "</g>\r\n",
       "<!-- 0&#45;&gt;310 -->\r\n",
       "<g id=\"edge6\" class=\"edge\"><title>0&#45;&gt;310</title>\r\n",
       "<path fill=\"none\" stroke=\"black\" d=\"M343.684,-309.907C350.365,-300.923 357.509,-291.315 364.399,-282.05\"/>\r\n",
       "<polygon fill=\"black\" stroke=\"black\" points=\"367.211,-284.134 370.369,-274.021 361.593,-279.957 367.211,-284.134\"/>\r\n",
       "<text text-anchor=\"middle\" x=\"374.006\" y=\"-295.055\" font-family=\"Helvetica,sans-Serif\" font-size=\"14.00\">False</text>\r\n",
       "</g>\r\n",
       "<!-- 2 -->\r\n",
       "<g id=\"node3\" class=\"node\"><title>2</title>\r\n",
       "<path fill=\"#399de5\" fill-opacity=\"0.933333\" stroke=\"black\" d=\"M143,-155C143,-155 12,-155 12,-155 6,-155 0,-149 0,-143 0,-143 0,-84 0,-84 0,-78 6,-72 12,-72 12,-72 143,-72 143,-72 149,-72 155,-78 155,-84 155,-84 155,-143 155,-143 155,-149 149,-155 143,-155\"/>\r\n",
       "<text text-anchor=\"start\" x=\"29.5\" y=\"-139.8\" font-family=\"Helvetica,sans-Serif\" font-size=\"14.00\">terrible ≤ 0.141</text>\r\n",
       "<text text-anchor=\"start\" x=\"40\" y=\"-124.8\" font-family=\"Helvetica,sans-Serif\" font-size=\"14.00\">gini = 0.119</text>\r\n",
       "<text text-anchor=\"start\" x=\"21.5\" y=\"-109.8\" font-family=\"Helvetica,sans-Serif\" font-size=\"14.00\">samples = 21391</text>\r\n",
       "<text text-anchor=\"start\" x=\"8\" y=\"-94.8\" font-family=\"Helvetica,sans-Serif\" font-size=\"14.00\">value = [1361, 20030]</text>\r\n",
       "<text text-anchor=\"start\" x=\"28.5\" y=\"-79.8\" font-family=\"Helvetica,sans-Serif\" font-size=\"14.00\">class = positive</text>\r\n",
       "</g>\r\n",
       "<!-- 1&#45;&gt;2 -->\r\n",
       "<g id=\"edge2\" class=\"edge\"><title>1&#45;&gt;2</title>\r\n",
       "<path fill=\"none\" stroke=\"black\" d=\"M175.458,-190.907C163.242,-181.379 150.126,-171.148 137.589,-161.37\"/>\r\n",
       "<polygon fill=\"black\" stroke=\"black\" points=\"139.487,-158.411 129.45,-155.021 135.182,-163.931 139.487,-158.411\"/>\r\n",
       "</g>\r\n",
       "<!-- 309 -->\r\n",
       "<g id=\"node6\" class=\"node\"><title>309</title>\r\n",
       "<path fill=\"#e58139\" fill-opacity=\"0.823529\" stroke=\"black\" d=\"M280,-147.5C280,-147.5 185,-147.5 185,-147.5 179,-147.5 173,-141.5 173,-135.5 173,-135.5 173,-91.5 173,-91.5 173,-85.5 179,-79.5 185,-79.5 185,-79.5 280,-79.5 280,-79.5 286,-79.5 292,-85.5 292,-91.5 292,-91.5 292,-135.5 292,-135.5 292,-141.5 286,-147.5 280,-147.5\"/>\r\n",
       "<text text-anchor=\"start\" x=\"195\" y=\"-132.3\" font-family=\"Helvetica,sans-Serif\" font-size=\"14.00\">gini = 0.254</text>\r\n",
       "<text text-anchor=\"start\" x=\"189\" y=\"-117.3\" font-family=\"Helvetica,sans-Serif\" font-size=\"14.00\">samples = 47</text>\r\n",
       "<text text-anchor=\"start\" x=\"188\" y=\"-102.3\" font-family=\"Helvetica,sans-Serif\" font-size=\"14.00\">value = [40, 7]</text>\r\n",
       "<text text-anchor=\"start\" x=\"181\" y=\"-87.3\" font-family=\"Helvetica,sans-Serif\" font-size=\"14.00\">class = negative</text>\r\n",
       "</g>\r\n",
       "<!-- 1&#45;&gt;309 -->\r\n",
       "<g id=\"edge5\" class=\"edge\"><title>1&#45;&gt;309</title>\r\n",
       "<path fill=\"none\" stroke=\"black\" d=\"M229.235,-190.907C229.692,-180.204 230.187,-168.615 230.651,-157.776\"/>\r\n",
       "<polygon fill=\"black\" stroke=\"black\" points=\"234.152,-157.807 231.083,-147.667 227.159,-157.508 234.152,-157.807\"/>\r\n",
       "</g>\r\n",
       "<!-- 3 -->\r\n",
       "<g id=\"node4\" class=\"node\"><title>3</title>\r\n",
       "<path fill=\"#c0c0c0\" stroke=\"black\" d=\"M56.5,-36C56.5,-36 26.5,-36 26.5,-36 20.5,-36 14.5,-30 14.5,-24 14.5,-24 14.5,-12 14.5,-12 14.5,-6 20.5,-0 26.5,-0 26.5,-0 56.5,-0 56.5,-0 62.5,-0 68.5,-6 68.5,-12 68.5,-12 68.5,-24 68.5,-24 68.5,-30 62.5,-36 56.5,-36\"/>\r\n",
       "<text text-anchor=\"middle\" x=\"41.5\" y=\"-14.3\" font-family=\"Helvetica,sans-Serif\" font-size=\"14.00\">(...)</text>\r\n",
       "</g>\r\n",
       "<!-- 2&#45;&gt;3 -->\r\n",
       "<g id=\"edge3\" class=\"edge\"><title>2&#45;&gt;3</title>\r\n",
       "<path fill=\"none\" stroke=\"black\" d=\"M61.8146,-71.7615C58.4573,-63.0419 54.9907,-54.0385 51.8927,-45.9921\"/>\r\n",
       "<polygon fill=\"black\" stroke=\"black\" points=\"55.0609,-44.4797 48.2014,-36.4051 48.5284,-46.9949 55.0609,-44.4797\"/>\r\n",
       "</g>\r\n",
       "<!-- 308 -->\r\n",
       "<g id=\"node5\" class=\"node\"><title>308</title>\r\n",
       "<path fill=\"#c0c0c0\" stroke=\"black\" d=\"M128.5,-36C128.5,-36 98.5,-36 98.5,-36 92.5,-36 86.5,-30 86.5,-24 86.5,-24 86.5,-12 86.5,-12 86.5,-6 92.5,-0 98.5,-0 98.5,-0 128.5,-0 128.5,-0 134.5,-0 140.5,-6 140.5,-12 140.5,-12 140.5,-24 140.5,-24 140.5,-30 134.5,-36 128.5,-36\"/>\r\n",
       "<text text-anchor=\"middle\" x=\"113.5\" y=\"-14.3\" font-family=\"Helvetica,sans-Serif\" font-size=\"14.00\">(...)</text>\r\n",
       "</g>\r\n",
       "<!-- 2&#45;&gt;308 -->\r\n",
       "<g id=\"edge4\" class=\"edge\"><title>2&#45;&gt;308</title>\r\n",
       "<path fill=\"none\" stroke=\"black\" d=\"M93.1854,-71.7615C96.5427,-63.0419 100.009,-54.0385 103.107,-45.9921\"/>\r\n",
       "<polygon fill=\"black\" stroke=\"black\" points=\"106.472,-46.9949 106.799,-36.4051 99.9391,-44.4797 106.472,-46.9949\"/>\r\n",
       "</g>\r\n",
       "<!-- 311 -->\r\n",
       "<g id=\"node8\" class=\"node\"><title>311</title>\r\n",
       "<path fill=\"#399de5\" fill-opacity=\"0.752941\" stroke=\"black\" d=\"M462,-155C462,-155 331,-155 331,-155 325,-155 319,-149 319,-143 319,-143 319,-84 319,-84 319,-78 325,-72 331,-72 331,-72 462,-72 462,-72 468,-72 474,-78 474,-84 474,-84 474,-143 474,-143 474,-149 468,-155 462,-155\"/>\r\n",
       "<text text-anchor=\"start\" x=\"356.5\" y=\"-139.8\" font-family=\"Helvetica,sans-Serif\" font-size=\"14.00\">best ≤ 0.022</text>\r\n",
       "<text text-anchor=\"start\" x=\"359\" y=\"-124.8\" font-family=\"Helvetica,sans-Serif\" font-size=\"14.00\">gini = 0.317</text>\r\n",
       "<text text-anchor=\"start\" x=\"340.5\" y=\"-109.8\" font-family=\"Helvetica,sans-Serif\" font-size=\"14.00\">samples = 15604</text>\r\n",
       "<text text-anchor=\"start\" x=\"327\" y=\"-94.8\" font-family=\"Helvetica,sans-Serif\" font-size=\"14.00\">value = [3084, 12520]</text>\r\n",
       "<text text-anchor=\"start\" x=\"347.5\" y=\"-79.8\" font-family=\"Helvetica,sans-Serif\" font-size=\"14.00\">class = positive</text>\r\n",
       "</g>\r\n",
       "<!-- 310&#45;&gt;311 -->\r\n",
       "<g id=\"edge7\" class=\"edge\"><title>310&#45;&gt;311</title>\r\n",
       "<path fill=\"none\" stroke=\"black\" d=\"M399.112,-190.907C398.827,-182.558 398.523,-173.671 398.227,-165.02\"/>\r\n",
       "<polygon fill=\"black\" stroke=\"black\" points=\"401.725,-164.895 397.885,-155.021 394.729,-165.135 401.725,-164.895\"/>\r\n",
       "</g>\r\n",
       "<!-- 742 -->\r\n",
       "<g id=\"node11\" class=\"node\"><title>742</title>\r\n",
       "<path fill=\"#399de5\" fill-opacity=\"0.933333\" stroke=\"black\" d=\"M618.5,-155C618.5,-155 504.5,-155 504.5,-155 498.5,-155 492.5,-149 492.5,-143 492.5,-143 492.5,-84 492.5,-84 492.5,-78 498.5,-72 504.5,-72 504.5,-72 618.5,-72 618.5,-72 624.5,-72 630.5,-78 630.5,-84 630.5,-84 630.5,-143 630.5,-143 630.5,-149 624.5,-155 618.5,-155\"/>\r\n",
       "<text text-anchor=\"start\" x=\"519\" y=\"-139.8\" font-family=\"Helvetica,sans-Serif\" font-size=\"14.00\">awful ≤ 0.109</text>\r\n",
       "<text text-anchor=\"start\" x=\"528\" y=\"-124.8\" font-family=\"Helvetica,sans-Serif\" font-size=\"14.00\">gini = 0.12</text>\r\n",
       "<text text-anchor=\"start\" x=\"510\" y=\"-109.8\" font-family=\"Helvetica,sans-Serif\" font-size=\"14.00\">samples = 4958</text>\r\n",
       "<text text-anchor=\"start\" x=\"500.5\" y=\"-94.8\" font-family=\"Helvetica,sans-Serif\" font-size=\"14.00\">value = [318, 4640]</text>\r\n",
       "<text text-anchor=\"start\" x=\"512.5\" y=\"-79.8\" font-family=\"Helvetica,sans-Serif\" font-size=\"14.00\">class = positive</text>\r\n",
       "</g>\r\n",
       "<!-- 310&#45;&gt;742 -->\r\n",
       "<g id=\"edge10\" class=\"edge\"><title>310&#45;&gt;742</title>\r\n",
       "<path fill=\"none\" stroke=\"black\" d=\"M456.358,-190.907C469.595,-181.288 483.816,-170.953 497.389,-161.09\"/>\r\n",
       "<polygon fill=\"black\" stroke=\"black\" points=\"499.709,-163.731 505.741,-155.021 495.593,-158.068 499.709,-163.731\"/>\r\n",
       "</g>\r\n",
       "<!-- 312 -->\r\n",
       "<g id=\"node9\" class=\"node\"><title>312</title>\r\n",
       "<path fill=\"#c0c0c0\" stroke=\"black\" d=\"M367.5,-36C367.5,-36 337.5,-36 337.5,-36 331.5,-36 325.5,-30 325.5,-24 325.5,-24 325.5,-12 325.5,-12 325.5,-6 331.5,-0 337.5,-0 337.5,-0 367.5,-0 367.5,-0 373.5,-0 379.5,-6 379.5,-12 379.5,-12 379.5,-24 379.5,-24 379.5,-30 373.5,-36 367.5,-36\"/>\r\n",
       "<text text-anchor=\"middle\" x=\"352.5\" y=\"-14.3\" font-family=\"Helvetica,sans-Serif\" font-size=\"14.00\">(...)</text>\r\n",
       "</g>\r\n",
       "<!-- 311&#45;&gt;312 -->\r\n",
       "<g id=\"edge8\" class=\"edge\"><title>311&#45;&gt;312</title>\r\n",
       "<path fill=\"none\" stroke=\"black\" d=\"M377.329,-71.7615C373.134,-62.8481 368.8,-53.6382 364.95,-45.4571\"/>\r\n",
       "<polygon fill=\"black\" stroke=\"black\" points=\"368.116,-43.963 360.691,-36.4051 361.782,-46.9436 368.116,-43.963\"/>\r\n",
       "</g>\r\n",
       "<!-- 647 -->\r\n",
       "<g id=\"node10\" class=\"node\"><title>647</title>\r\n",
       "<path fill=\"#c0c0c0\" stroke=\"black\" d=\"M439.5,-36C439.5,-36 409.5,-36 409.5,-36 403.5,-36 397.5,-30 397.5,-24 397.5,-24 397.5,-12 397.5,-12 397.5,-6 403.5,-0 409.5,-0 409.5,-0 439.5,-0 439.5,-0 445.5,-0 451.5,-6 451.5,-12 451.5,-12 451.5,-24 451.5,-24 451.5,-30 445.5,-36 439.5,-36\"/>\r\n",
       "<text text-anchor=\"middle\" x=\"424.5\" y=\"-14.3\" font-family=\"Helvetica,sans-Serif\" font-size=\"14.00\">(...)</text>\r\n",
       "</g>\r\n",
       "<!-- 311&#45;&gt;647 -->\r\n",
       "<g id=\"edge9\" class=\"edge\"><title>311&#45;&gt;647</title>\r\n",
       "<path fill=\"none\" stroke=\"black\" d=\"M408.7,-71.7615C411.311,-63.0419 414.007,-54.0385 416.417,-45.9921\"/>\r\n",
       "<polygon fill=\"black\" stroke=\"black\" points=\"419.772,-46.9889 419.288,-36.4051 413.066,-44.9807 419.772,-46.9889\"/>\r\n",
       "</g>\r\n",
       "<!-- 743 -->\r\n",
       "<g id=\"node12\" class=\"node\"><title>743</title>\r\n",
       "<path fill=\"#c0c0c0\" stroke=\"black\" d=\"M540.5,-36C540.5,-36 510.5,-36 510.5,-36 504.5,-36 498.5,-30 498.5,-24 498.5,-24 498.5,-12 498.5,-12 498.5,-6 504.5,-0 510.5,-0 510.5,-0 540.5,-0 540.5,-0 546.5,-0 552.5,-6 552.5,-12 552.5,-12 552.5,-24 552.5,-24 552.5,-30 546.5,-36 540.5,-36\"/>\r\n",
       "<text text-anchor=\"middle\" x=\"525.5\" y=\"-14.3\" font-family=\"Helvetica,sans-Serif\" font-size=\"14.00\">(...)</text>\r\n",
       "</g>\r\n",
       "<!-- 742&#45;&gt;743 -->\r\n",
       "<g id=\"edge11\" class=\"edge\"><title>742&#45;&gt;743</title>\r\n",
       "<path fill=\"none\" stroke=\"black\" d=\"M545.815,-71.7615C542.457,-63.0419 538.991,-54.0385 535.893,-45.9921\"/>\r\n",
       "<polygon fill=\"black\" stroke=\"black\" points=\"539.061,-44.4797 532.201,-36.4051 532.528,-46.9949 539.061,-44.4797\"/>\r\n",
       "</g>\r\n",
       "<!-- 838 -->\r\n",
       "<g id=\"node13\" class=\"node\"><title>838</title>\r\n",
       "<path fill=\"#c0c0c0\" stroke=\"black\" d=\"M612.5,-36C612.5,-36 582.5,-36 582.5,-36 576.5,-36 570.5,-30 570.5,-24 570.5,-24 570.5,-12 570.5,-12 570.5,-6 576.5,-0 582.5,-0 582.5,-0 612.5,-0 612.5,-0 618.5,-0 624.5,-6 624.5,-12 624.5,-12 624.5,-24 624.5,-24 624.5,-30 618.5,-36 612.5,-36\"/>\r\n",
       "<text text-anchor=\"middle\" x=\"597.5\" y=\"-14.3\" font-family=\"Helvetica,sans-Serif\" font-size=\"14.00\">(...)</text>\r\n",
       "</g>\r\n",
       "<!-- 742&#45;&gt;838 -->\r\n",
       "<g id=\"edge12\" class=\"edge\"><title>742&#45;&gt;838</title>\r\n",
       "<path fill=\"none\" stroke=\"black\" d=\"M577.185,-71.7615C580.543,-63.0419 584.009,-54.0385 587.107,-45.9921\"/>\r\n",
       "<polygon fill=\"black\" stroke=\"black\" points=\"590.472,-46.9949 590.799,-36.4051 583.939,-44.4797 590.472,-46.9949\"/>\r\n",
       "</g>\r\n",
       "</g>\r\n",
       "</svg>\r\n"
      ],
      "text/plain": [
       "<graphviz.files.Source at 0xc0c22a5400>"
      ]
     },
     "execution_count": 93,
     "metadata": {},
     "output_type": "execute_result"
    }
   ],
   "source": [
    "from graphviz import Source\n",
    "import graphviz\n",
    "from sklearn import tree\n",
    "from IPython.display import Image\n",
    "import pydotplus\n",
    "\n",
    "target_class = ['negative','positive']\n",
    "tfidf_vect = TfidfVectorizer()\n",
    "vect = tfidf_vect.fit_transform(X_train_new)\n",
    "#tfidf_vect.get_feature_names()\n",
    "\n",
    "tfidf_tree = DecisionTreeClassifier(max_depth = 50, min_samples_split = 500)\n",
    "tfidf_tree.fit(vect, Y_train_new)\n",
    "\n",
    "tfidf_dt = tree.export_graphviz(tfidf_tree, max_depth= 2, out_file = None, feature_names = tfidf_vect.get_feature_names(), \n",
    "                                class_names = target_class, filled=True, rounded=True, special_characters=True)\n",
    "\n",
    "graph = graphviz.Source(tfidf_dt)\n",
    "graph\n",
    "\n"
   ]
  },
  {
   "cell_type": "code",
   "execution_count": 94,
   "metadata": {},
   "outputs": [
    {
     "data": {
      "text/plain": [
       "'dtree.png'"
      ]
     },
     "execution_count": 94,
     "metadata": {},
     "output_type": "execute_result"
    }
   ],
   "source": [
    "# reference - https://stackoverflow.com/questions/27817994/visualizing-decision-tree-in-scikit-learn/27818170\n",
    "\n",
    "graph.format = 'png'\n",
    "graph.render('dtree',view=True)"
   ]
  },
  {
   "cell_type": "markdown",
   "metadata": {
    "colab_type": "text",
    "id": "u566lt93iWOf"
   },
   "source": [
    "# 7. Word2Vec"
   ]
  },
  {
   "cell_type": "code",
   "execution_count": 95,
   "metadata": {},
   "outputs": [],
   "source": [
    "i=0\n",
    "list_of_sent_train=[]\n",
    "for sent in X_train:\n",
    "    list_of_sent_train.append(sent.split())"
   ]
  },
  {
   "cell_type": "code",
   "execution_count": 96,
   "metadata": {},
   "outputs": [
    {
     "name": "stdout",
     "output_type": "stream",
     "text": [
      "purchased wedge oro antico central market cost say impressed looking hard cheese add cheese mixture bacon wrapped jalapenos turned great choice usually use parmesan really wanted try something new also used grated cheese caesar salad sharp flavor went great dressingby oro antico bold cheese great nose soft finish great paired red white wines looking hard cheese whatever reason give oro antico try think pleasantly surprised\n",
      "*****************************************************************\n",
      "['purchased', 'wedge', 'oro', 'antico', 'central', 'market', 'cost', 'say', 'impressed', 'looking', 'hard', 'cheese', 'add', 'cheese', 'mixture', 'bacon', 'wrapped', 'jalapenos', 'turned', 'great', 'choice', 'usually', 'use', 'parmesan', 'really', 'wanted', 'try', 'something', 'new', 'also', 'used', 'grated', 'cheese', 'caesar', 'salad', 'sharp', 'flavor', 'went', 'great', 'dressingby', 'oro', 'antico', 'bold', 'cheese', 'great', 'nose', 'soft', 'finish', 'great', 'paired', 'red', 'white', 'wines', 'looking', 'hard', 'cheese', 'whatever', 'reason', 'give', 'oro', 'antico', 'try', 'think', 'pleasantly', 'surprised']\n"
     ]
    }
   ],
   "source": [
    "# One sentence is converted into a list\n",
    "print(X_train.values[0])\n",
    "print(\"*****************************************************************\")\n",
    "print(list_of_sent_train[0])"
   ]
  },
  {
   "cell_type": "code",
   "execution_count": 97,
   "metadata": {},
   "outputs": [
    {
     "name": "stdout",
     "output_type": "stream",
     "text": [
      "17076\n",
      "sample words  ['purchased', 'wedge', 'oro', 'central', 'market', 'cost', 'say', 'impressed', 'looking', 'hard', 'cheese', 'add', 'mixture', 'bacon', 'wrapped', 'jalapenos', 'turned', 'great', 'choice', 'usually', 'use', 'parmesan', 'really', 'wanted', 'try', 'something', 'new', 'also', 'used', 'grated', 'caesar', 'salad', 'sharp', 'flavor', 'went', 'bold', 'nose', 'soft', 'finish', 'paired', 'red', 'white', 'wines', 'whatever', 'reason', 'give', 'think', 'pleasantly', 'surprised', 'not']\n"
     ]
    }
   ],
   "source": [
    "# Train the word2vec model for Train data\n",
    "# min_count=5 says, if the word doesn't occur atleast 5 times then don't construct w2v for it\n",
    "# size=50 says about the dimension of the vector\n",
    "# we are storing Word2Vec model in w2v_model\n",
    "import gensim\n",
    "w2v_model_train = gensim.models.Word2Vec(list_of_sent_train, min_count=5, size=50, workers=4)\n",
    "\n",
    "# we can get dictionary of all the words that we have\n",
    "# we are storing Word2Vec model in w2v_model\n",
    "words_train = list(w2v_model_train.wv.vocab)\n",
    "print(len(words_train))\n",
    "\n",
    "# prints 50 words\n",
    "print(\"sample words \", words_train[0:50])"
   ]
  },
  {
   "cell_type": "code",
   "execution_count": 98,
   "metadata": {},
   "outputs": [],
   "source": [
    "# This is W2V for Test data\n",
    "# We are creating a list of sentences\n",
    "# list_of_sent is created to store sentences\n",
    "i=0\n",
    "list_of_sent_test=[]\n",
    "for sent in X_test:\n",
    "    list_of_sent_test.append(sent.split())\n",
    "    "
   ]
  },
  {
   "cell_type": "code",
   "execution_count": 99,
   "metadata": {},
   "outputs": [
    {
     "name": "stdout",
     "output_type": "stream",
     "text": [
      "love product perfect serving size one counting carbs dietiing also good camping vacationon rundisappointed condition box completely crunchedthankfully contents survived\n",
      "*****************************************************************\n",
      "['love', 'product', 'perfect', 'serving', 'size', 'one', 'counting', 'carbs', 'dietiing', 'also', 'good', 'camping', 'vacationon', 'rundisappointed', 'condition', 'box', 'completely', 'crunchedthankfully', 'contents', 'survived']\n"
     ]
    }
   ],
   "source": [
    "# One sentence is converted into a list\n",
    "print(X_test.values[0])\n",
    "print(\"*****************************************************************\")\n",
    "print(list_of_sent_test[0])"
   ]
  },
  {
   "cell_type": "code",
   "execution_count": 100,
   "metadata": {},
   "outputs": [
    {
     "name": "stdout",
     "output_type": "stream",
     "text": [
      "10937\n",
      "sample words  ['love', 'product', 'perfect', 'serving', 'size', 'one', 'counting', 'carbs', 'also', 'good', 'camping', 'condition', 'box', 'completely', 'contents', 'survived', 'purchased', 'butter', 'chicken', 'curry', 'packs', 'amazon', 'great', 'sale', 'skeptical', 'taste', 'low', 'behold', 'way', 'exceeded', 'expectations', 'not', 'meat', 'eaters', 'added', 'tofu', 'cauliflower', 'instead', 'impressed', 'authentic', 'compared', 'restaurants', 'nothing', 'beats', 'fresh', 'packet', 'goodness', 'could', 'rival', 'indian']\n"
     ]
    }
   ],
   "source": [
    "# Train the word2vec model for Test data\n",
    "# min_count=5 says, if the word doesn't occur atleast 5 times then don't construct w2v for it\n",
    "# size=50 says about the dimension of the vector\n",
    "# we are storing Word2Vec model in w2v_model\n",
    "import gensim\n",
    "w2v_model_test = gensim.models.Word2Vec(list_of_sent_test, min_count=5, size=50, workers=4)\n",
    "\n",
    "# we can get dictionary of all the words that we have\n",
    "# we are storing Word2Vec model in w2v_model\n",
    "words_test = list(w2v_model_test.wv.vocab)\n",
    "print(len(words_test))\n",
    "\n",
    "# prints 50 words\n",
    "print(\"sample words \", words_test[0:50])"
   ]
  },
  {
   "cell_type": "markdown",
   "metadata": {},
   "source": [
    "## [7.1]  Avg-W2V"
   ]
  },
  {
   "cell_type": "code",
   "execution_count": 101,
   "metadata": {},
   "outputs": [
    {
     "name": "stdout",
     "output_type": "stream",
     "text": [
      "70000\n",
      "50\n"
     ]
    }
   ],
   "source": [
    "# average Word2Vec for Train data\n",
    "# compute average word2vec for each review.\n",
    "from tqdm import tqdm\n",
    "#List to store all the avg w2vec's \n",
    "sent_vectors_train = []; # the avg-w2v for each sentence/review is stored in this list\n",
    "for sent in list_of_sent_train: # for each review/sentence\n",
    "    sent_vec = np.zeros(50) # as word vectors are of zero length\n",
    "    cnt_words =0; # to count num of words with a valid vector in the sentence/review\n",
    "    for word in sent: # for each word in a review/sentence\n",
    "        if word in words_train:\n",
    "            vec = w2v_model_train.wv[word] # vector of each word using w2v model\n",
    "            sent_vec += vec # Adding the vectors\n",
    "            cnt_words += 1\n",
    "    if cnt_words != 0:\n",
    "        sent_vec /= cnt_words  # Taking average of vectors sum of the particular review\n",
    "    sent_vectors_train.append(sent_vec)  # Storing the avg w2vec's for each review in the list\n",
    "print(len(sent_vectors_train))\n",
    "print(len(sent_vectors_train[0]))"
   ]
  },
  {
   "cell_type": "code",
   "execution_count": 102,
   "metadata": {},
   "outputs": [
    {
     "name": "stdout",
     "output_type": "stream",
     "text": [
      "30000\n",
      "50\n"
     ]
    }
   ],
   "source": [
    "# average Word2Vec for Test data\n",
    "# compute average word2vec for each review.\n",
    "from tqdm import tqdm\n",
    "sent_vectors_test = []; # the avg-w2v for each sentence/review is stored in this list\n",
    "for sent in list_of_sent_test: # for each review/sentence\n",
    "    sent_vec = np.zeros(50) # as word vectors are of zero length\n",
    "    cnt_words =0; # num of words with a valid vector in the sentence/review\n",
    "    for word in sent: # for each word in a review/sentence\n",
    "        if word in words_test:\n",
    "            vec = w2v_model_test.wv[word]\n",
    "            sent_vec += vec\n",
    "            cnt_words += 1\n",
    "    if cnt_words != 0:\n",
    "        sent_vec /= cnt_words\n",
    "    sent_vectors_test.append(sent_vec)\n",
    "print(len(sent_vectors_test))\n",
    "print(len(sent_vectors_test[0]))"
   ]
  },
  {
   "cell_type": "markdown",
   "metadata": {},
   "source": [
    "### [7.2] Applying Decision Tree on AvgW2V with max_depth and min_samples_split as hyper parameters"
   ]
  },
  {
   "cell_type": "code",
   "execution_count": 103,
   "metadata": {},
   "outputs": [
    {
     "name": "stdout",
     "output_type": "stream",
     "text": [
      "Model with best parameters is :\n",
      " DecisionTreeClassifier(class_weight='balanced', criterion='gini',\n",
      "            max_depth=10, max_features=None, max_leaf_nodes=None,\n",
      "            min_impurity_decrease=0.0, min_impurity_split=None,\n",
      "            min_samples_leaf=1, min_samples_split=500,\n",
      "            min_weight_fraction_leaf=0.0, presort=False, random_state=None,\n",
      "            splitter='best')\n",
      "The optimal value of max_depth is : 10\n",
      "The optimal value of minimum samples split is: 500\n"
     ]
    }
   ],
   "source": [
    "from sklearn.tree import DecisionTreeClassifier\n",
    "from sklearn.model_selection import GridSearchCV\n",
    "\n",
    "tuned_parameters = {'max_depth': [1, 5, 10, 50, 100, 500, 1000], 'min_samples_split': [5, 10, 100, 500]}\n",
    "\n",
    "model = GridSearchCV(DecisionTreeClassifier(class_weight = 'balanced'), tuned_parameters, scoring = 'roc_auc', n_jobs = -1, cv=5)\n",
    "\n",
    "model.fit(sent_vectors_train, Y_train)\n",
    "\n",
    "print(\"Model with best parameters is :\\n\", model.best_estimator_)\n",
    "\n",
    "optimal_max_depth =  model.best_estimator_.max_depth\n",
    "print(\"The optimal value of max_depth is :\", optimal_max_depth)\n",
    "\n",
    "optimal_min_samples_split = model.best_estimator_.min_samples_split\n",
    "print(\"The optimal value of minimum samples split is:\", optimal_min_samples_split)\n"
   ]
  },
  {
   "cell_type": "code",
   "execution_count": 105,
   "metadata": {},
   "outputs": [
    {
     "name": "stdout",
     "output_type": "stream",
     "text": [
      "0.6912813054382988\n"
     ]
    }
   ],
   "source": [
    "# get the score on test data \n",
    "print(model.score(sent_vectors_test, Y_test))  \n"
   ]
  },
  {
   "cell_type": "markdown",
   "metadata": {},
   "source": [
    "### [7.3]  Predicting Test score and Test error for AvgW2V with hyperparameters"
   ]
  },
  {
   "cell_type": "code",
   "execution_count": 107,
   "metadata": {},
   "outputs": [
    {
     "name": "stdout",
     "output_type": "stream",
     "text": [
      "\n",
      "The test AUC-score of the DecisionTreeClassifier for optimal hyperparamters in AVGW2V is 59.026454%\n"
     ]
    }
   ],
   "source": [
    "# Predicting model on test data to find auc-score \n",
    "from sklearn.metrics import roc_auc_score\n",
    "\n",
    "dt_optimal = DecisionTreeClassifier(max_depth = optimal_max_depth, min_samples_split = optimal_min_samples_split)\n",
    "\n",
    "# fitting the model\n",
    "dt_optimal.fit(sent_vectors_train, Y_train)\n",
    "\n",
    "# predict the response\n",
    "pred_w2v = dt_optimal.predict(sent_vectors_test)\n",
    "\n",
    "# evaluate accuracy. Using AUC_score as metric to measure accuracy,\n",
    "test_auc_w2v = roc_auc_score(Y_test, pred_w2v, average = 'weighted') * float(100)\n",
    "print('\\nThe test AUC-score of the DecisionTreeClassifier for optimal hyperparamters in AVGW2V is %f%%' % (test_auc_w2v))\n"
   ]
  },
  {
   "cell_type": "code",
   "execution_count": 108,
   "metadata": {},
   "outputs": [
    {
     "name": "stdout",
     "output_type": "stream",
     "text": [
      "Test Error for DecisionTreeClassifier AVGW2V is 0.410%\n"
     ]
    }
   ],
   "source": [
    "# Finding test error\n",
    "test_error_w2v = (1 - roc_auc_score(Y_test, pred_w2v, average = 'weighted')) \n",
    "print(\"Test Error for DecisionTreeClassifier AVGW2V is %.3f%%\" % (test_error_w2v))"
   ]
  },
  {
   "cell_type": "markdown",
   "metadata": {},
   "source": [
    "### [7.4]  Plotting the performance of Train and CV scores for AvgW2V with hyperparameters using Heatmaps"
   ]
  },
  {
   "cell_type": "markdown",
   "metadata": {},
   "source": [
    "### Heat map for CV scores AvgW2V"
   ]
  },
  {
   "cell_type": "code",
   "execution_count": 109,
   "metadata": {},
   "outputs": [
    {
     "data": {
      "image/png": "[encoded data removed]",
      "text/plain": [
       "<Figure size 1080x360 with 2 Axes>"
      ]
     },
     "metadata": {},
     "output_type": "display_data"
    }
   ],
   "source": [
    "df_decisiontree = pd.DataFrame(model.cv_results_)\n",
    "# .max() function returns the largest value in the iterable format\n",
    "scores = df_decisiontree.groupby(['param_max_depth', 'param_min_samples_split']).max()\n",
    "# unstack() method in pandas converts the data into unstacked format\n",
    "AUC_scores = scores.unstack()[['mean_test_score', 'mean_train_score']]\n",
    "plt.figure(figsize=(15,5))\n",
    "sns.heatmap(AUC_scores.mean_test_score, annot=True, fmt='.3g');\n"
   ]
  },
  {
   "cell_type": "code",
   "execution_count": 110,
   "metadata": {},
   "outputs": [
    {
     "name": "stdout",
     "output_type": "stream",
     "text": [
      "The CV AUC-score for both hyperparameters is : \n",
      " param_min_samples_split    5      10     100    500\n",
      "param_max_depth                                    \n",
      "1                        0.653  0.653  0.653  0.653\n",
      "5                        0.801  0.801  0.801  0.801\n",
      "10                       0.779  0.778  0.801  0.820\n",
      "50                       0.644  0.657  0.761  0.817\n",
      "100                      0.645  0.658  0.761  0.817\n",
      "500                      0.644  0.658  0.761  0.817\n",
      "1000                     0.644  0.656  0.760  0.817\n"
     ]
    }
   ],
   "source": [
    "print(\"The CV AUC-score for both hyperparameters is : \\n\", np.round(AUC_scores.mean_test_score,3))"
   ]
  },
  {
   "cell_type": "markdown",
   "metadata": {},
   "source": [
    "### Heat map for Train scores AvgW2V"
   ]
  },
  {
   "cell_type": "code",
   "execution_count": 113,
   "metadata": {},
   "outputs": [
    {
     "data": {
      "image/png": "[encoded data removed]",
      "text/plain": [
       "<Figure size 1080x360 with 2 Axes>"
      ]
     },
     "metadata": {},
     "output_type": "display_data"
    }
   ],
   "source": [
    "plt.figure(figsize=(15,5))\n",
    "sns.heatmap(AUC_scores.mean_train_score, annot=True, fmt='.3g');"
   ]
  },
  {
   "cell_type": "code",
   "execution_count": 114,
   "metadata": {},
   "outputs": [
    {
     "name": "stdout",
     "output_type": "stream",
     "text": [
      "the Train score for both hyperparameters is \n",
      " param_min_samples_split    5      10     100    500\n",
      "param_max_depth                                    \n",
      "1                        0.654  0.654  0.654  0.654\n",
      "5                        0.817  0.817  0.817  0.816\n",
      "10                       0.922  0.921  0.906  0.872\n",
      "50                       1.000  0.998  0.943  0.875\n",
      "100                      1.000  0.998  0.943  0.875\n",
      "500                      1.000  0.998  0.943  0.875\n",
      "1000                     1.000  0.998  0.943  0.875\n"
     ]
    }
   ],
   "source": [
    "print(\"the Train score for both hyperparameters is \\n\", np.round(AUC_scores.mean_train_score, 3))"
   ]
  },
  {
   "cell_type": "markdown",
   "metadata": {},
   "source": [
    "### [7.5]  Plotting ROC curve and finding AUC score for AvgW2V"
   ]
  },
  {
   "cell_type": "code",
   "execution_count": 115,
   "metadata": {},
   "outputs": [
    {
     "data": {
      "image/png": "[encoded data removed]",
      "text/plain": [
       "<Figure size 432x288 with 1 Axes>"
      ]
     },
     "metadata": {},
     "output_type": "display_data"
    }
   ],
   "source": [
    "# ROC curve and AUC for Avgw2v\n",
    "from sklearn.metrics import roc_curve, auc\n",
    "# Predicting the probabilities of test data as ROC curve needs probabilities to plot\n",
    "Y_prob = model.fit(sent_vectors_train, Y_train)\n",
    "# Giving actual values(Y_test) and predicted probabilities Y_prob\n",
    "# we need to calculate the fpr and tpr for all thresholds of the classification \n",
    "train_fpr, train_tpr, thresholds = roc_curve(Y_train, Y_prob.predict_proba(sent_vectors_train)[:,1])\n",
    "test_fpr, test_tpr, thresholds = roc_curve(Y_test, Y_prob.predict_proba(sent_vectors_test)[:,1])\n",
    "\n",
    "# We calculate the AUC (Area Under Curve)\n",
    "roc_auc_train = auc(train_fpr, train_tpr)\n",
    "roc_auc_test = auc(test_fpr, test_tpr)\n",
    "    \n",
    "# Plot FPR (on x-axis) v/s TPR (on y-axis)\n",
    "plt.title('ROC for AvgW2V')\n",
    "plt.plot(train_fpr, train_tpr, 'b', label='Train AUC = %0.2f'% roc_auc_train)\n",
    "plt.plot(test_fpr, test_tpr, 'r', label='Test AUC = %0.2f'% roc_auc_test)\n",
    "plt.legend(loc='lower right')\n",
    "plt.plot([0,1],[0,1],'k--')\n",
    "plt.xlim([-0.1,1.2])\n",
    "plt.ylim([-0.1,1.2])\n",
    "plt.ylabel('True Positive Rate')\n",
    "plt.xlabel('False Positive Rate')\n",
    "plt.show()"
   ]
  },
  {
   "cell_type": "markdown",
   "metadata": {},
   "source": [
    "### [7.6] Confusion matrix"
   ]
  },
  {
   "cell_type": "markdown",
   "metadata": {},
   "source": [
    "### Confusion matrix for Train data AvgW2V"
   ]
  },
  {
   "cell_type": "code",
   "execution_count": 116,
   "metadata": {},
   "outputs": [
    {
     "name": "stdout",
     "output_type": "stream",
     "text": [
      "Train confusion matrix\n",
      "[[ 2243  6363]\n",
      " [ 1207 60187]]\n"
     ]
    }
   ],
   "source": [
    "from sklearn.metrics import confusion_matrix\n",
    "print(\"Train confusion matrix\")\n",
    "pred_w2v_train = dt_optimal.predict(sent_vectors_train)\n",
    "cm = confusion_matrix(Y_train, pred_w2v_train) # finding confusion matrix between true data and predicted data\n",
    "print(cm)"
   ]
  },
  {
   "cell_type": "code",
   "execution_count": 117,
   "metadata": {},
   "outputs": [
    {
     "data": {
      "image/png": "[encoded data removed]",
      "text/plain": [
       "<Figure size 432x288 with 2 Axes>"
      ]
     },
     "metadata": {},
     "output_type": "display_data"
    }
   ],
   "source": [
    "class_label = [\"negative\", \"positive\"] # create a class label for columns and rows\n",
    "cm = confusion_matrix(Y_train, pred_w2v_train) \n",
    "dataframe_cm = pd.DataFrame(cm, index = class_label, columns = class_label) # create a dataframe to plot confusion matrix\n",
    "# A heatmap is a two-dimensional graphical representation of data in seaborn,\n",
    "# where the individual values in a matrix are represented with colors.\n",
    "sns.heatmap(dataframe_cm, annot = True, fmt = \"d\") # annot=true means, write the data value in each cell\n",
    "plt.title(\"Train Confusion Matrix for AvgW2V\")\n",
    "plt.xlabel(\"Predicted Label\")\n",
    "plt.ylabel(\"True Label\")\n",
    "plt.show()"
   ]
  },
  {
   "cell_type": "markdown",
   "metadata": {},
   "source": [
    "###  Confusion matrix for Test data AvgW2V"
   ]
  },
  {
   "cell_type": "code",
   "execution_count": 118,
   "metadata": {},
   "outputs": [
    {
     "name": "stdout",
     "output_type": "stream",
     "text": [
      "Test confusion matrix\n",
      "[[  869  2796]\n",
      " [ 1490 24845]]\n"
     ]
    }
   ],
   "source": [
    "# Using confusion matrix as a another metric to measure accuracy\n",
    "from sklearn.metrics import confusion_matrix\n",
    "print(\"Test confusion matrix\")\n",
    "pred_w2v_test = dt_optimal.predict(sent_vectors_test)\n",
    "cm = confusion_matrix(Y_test, pred_w2v_test) # finding confusion matrix between true data and predicted data\n",
    "print(cm)"
   ]
  },
  {
   "cell_type": "code",
   "execution_count": 119,
   "metadata": {},
   "outputs": [
    {
     "data": {
      "image/png": "[encoded data removed]",
      "text/plain": [
       "<Figure size 432x288 with 2 Axes>"
      ]
     },
     "metadata": {},
     "output_type": "display_data"
    }
   ],
   "source": [
    "# plot confusion matrix for Avgw2v\n",
    "class_label = [\"negative\", \"positive\"] # create a class label for columns and rows\n",
    "cm = confusion_matrix(Y_test, pred_w2v_test) \n",
    "dataframe_cm = pd.DataFrame(cm, index = class_label, columns = class_label) # create a dataframe to plot confusion matrix\n",
    "# A heatmap is a two-dimensional graphical representation of data in seaborn,\n",
    "# where the individual values in a matrix are represented with colors.\n",
    "sns.heatmap(dataframe_cm, annot = True, fmt = \"d\") # annot=true means, write the data value in each cell\n",
    "plt.title(\"Test Confusion Matrix for AvgW2V\")\n",
    "plt.xlabel(\"Predicted Label\")\n",
    "plt.ylabel(\"True Label\")\n",
    "plt.show()"
   ]
  },
  {
   "cell_type": "markdown",
   "metadata": {},
   "source": [
    "### [7.7]  Classification report for AvgW2v"
   ]
  },
  {
   "cell_type": "code",
   "execution_count": 120,
   "metadata": {},
   "outputs": [
    {
     "name": "stdout",
     "output_type": "stream",
     "text": [
      "Accuracy Score: 0.8571333333333333\n",
      "Report:\n",
      "             precision    recall  f1-score   support\n",
      "\n",
      "          0       0.37      0.24      0.29      3665\n",
      "          1       0.90      0.94      0.92     26335\n",
      "\n",
      "avg / total       0.83      0.86      0.84     30000\n",
      "\n"
     ]
    }
   ],
   "source": [
    "# calculate the classification report for AvgW2V\n",
    "from sklearn.metrics import classification_report \n",
    "from sklearn.metrics import accuracy_score\n",
    "\n",
    "print('Accuracy Score:', accuracy_score(Y_test, pred_w2v)) \n",
    "print('Report:')\n",
    "print(classification_report(Y_test, pred_w2v)) \n"
   ]
  },
  {
   "cell_type": "markdown",
   "metadata": {},
   "source": [
    "# 8. TFIDF-W2V"
   ]
  },
  {
   "cell_type": "code",
   "execution_count": 121,
   "metadata": {},
   "outputs": [],
   "source": [
    "model = TfidfVectorizer()\n",
    "tfidf_train_matrix = model.fit_transform(X_train)\n",
    "tfidf_test_matrix = model.transform(X_test)\n",
    "\n",
    "# we are converting a dictionary with word as a key, and the idf as a value\n",
    "dictionary = dict(zip(model.get_feature_names(), list(model.idf_)))\n"
   ]
  },
  {
   "cell_type": "code",
   "execution_count": 122,
   "metadata": {},
   "outputs": [
    {
     "name": "stdout",
     "output_type": "stream",
     "text": [
      "(70000, 90082)\n",
      "(30000, 90082)\n"
     ]
    }
   ],
   "source": [
    "print(tfidf_train_matrix.get_shape()) \n",
    "print(tfidf_test_matrix.get_shape()) \n"
   ]
  },
  {
   "cell_type": "markdown",
   "metadata": {},
   "source": [
    "### [8.1] TFIDF-W2V for Train data"
   ]
  },
  {
   "cell_type": "code",
   "execution_count": 123,
   "metadata": {},
   "outputs": [
    {
     "name": "stderr",
     "output_type": "stream",
     "text": [
      "100%|██████████| 70000/70000 [05:25<00:00, 215.10it/s]\n"
     ]
    }
   ],
   "source": [
    "# TF-IDF weighted Word2Vec for Train data\n",
    "\n",
    "tfidf_feat = model.get_feature_names() # tfidf words/col-names\n",
    "# final_tf_idf is the sparse matrix with row= sentence, col=word and cell_val = tfidf\n",
    "\n",
    "tfidf_sent_vectors_train = []; # the tfidf-w2v for each sentence/review is stored in this list\n",
    "row=0;\n",
    "for sent in tqdm(list_of_sent_train): # for each review/sentence \n",
    "    sent_vec = np.zeros(50) # as word vectors are of zero length\n",
    "    weight_sum =0; # num of words with a valid vector in the sentence/review\n",
    "    for word in sent: # for each word in a review/sentence\n",
    "        if word in words_train:\n",
    "            try:\n",
    "                vec = w2v_model_train.wv[word]\n",
    "            # tf_idf = tfidf_train_matrix[row, tfidf_feat.index(word)]\n",
    "            # to reduce the computation we are \n",
    "            # dictionary[word] = idf value of word in whole courpus\n",
    "            # sent.count(word) = tf valeus of word in this review\n",
    "                tf_idf = dictionary[word]*(sent.count(word)/len(sent))\n",
    "                sent_vec += (vec * tf_idf)\n",
    "                weight_sum += tf_idf\n",
    "            except:\n",
    "                pass\n",
    "    if weight_sum != 0:\n",
    "        sent_vec /= weight_sum\n",
    "    tfidf_sent_vectors_train.append(sent_vec)\n",
    "    row += 1"
   ]
  },
  {
   "cell_type": "markdown",
   "metadata": {},
   "source": [
    "### [8.2]  TFIDF-W2V for Test data"
   ]
  },
  {
   "cell_type": "code",
   "execution_count": 124,
   "metadata": {},
   "outputs": [
    {
     "name": "stderr",
     "output_type": "stream",
     "text": [
      "100%|██████████| 30000/30000 [01:36<00:00, 310.41it/s]\n"
     ]
    }
   ],
   "source": [
    "# TF-IDF weighted Word2Vec for Test data\n",
    "\n",
    "tfidf_feat = model.get_feature_names() # tfidf words/col-names\n",
    "# final_tf_idf is the sparse matrix with row= sentence, col=word and cell_val = tfidf\n",
    "\n",
    "tfidf_sent_vectors_test = []; # the tfidf-w2v for each sentence/review is stored in this list\n",
    "row=0;\n",
    "for sent in tqdm(list_of_sent_test): # for each review/sentence \n",
    "    sent_vec = np.zeros(50) # as word vectors are of zero length\n",
    "    weight_sum =0; # num of words with a valid vector in the sentence/review\n",
    "    for word in sent: # for each word in a review/sentence\n",
    "        if word in words_test:\n",
    "            try:\n",
    "                vec = w2v_model_test.wv[word]\n",
    "                tf_idf = dictionary[word]*(sent.count(word)/len(sent))\n",
    "            #tf_idf = tfidf_test_matrix[row, tfidf_feat.index(word)]\n",
    "                sent_vec += (vec * tf_idf)\n",
    "                weight_sum += tf_idf\n",
    "            except:\n",
    "                pass\n",
    "    if weight_sum != 0:\n",
    "        sent_vec /= weight_sum\n",
    "    tfidf_sent_vectors_test.append(sent_vec)\n",
    "    row += 1"
   ]
  },
  {
   "cell_type": "markdown",
   "metadata": {},
   "source": [
    "### [8.3] Applying Decision Tree on TFIDF-W2V with max_depth and min_samples_split as hyper parameters"
   ]
  },
  {
   "cell_type": "code",
   "execution_count": 125,
   "metadata": {},
   "outputs": [
    {
     "name": "stdout",
     "output_type": "stream",
     "text": [
      "Model with best parameters is :\n",
      " DecisionTreeClassifier(class_weight='balanced', criterion='gini',\n",
      "            max_depth=10, max_features=None, max_leaf_nodes=None,\n",
      "            min_impurity_decrease=0.0, min_impurity_split=None,\n",
      "            min_samples_leaf=1, min_samples_split=500,\n",
      "            min_weight_fraction_leaf=0.0, presort=False, random_state=None,\n",
      "            splitter='best')\n",
      "The optimal value of max_depth is : 10\n",
      "The optimal value of minimum samples split is: 500\n"
     ]
    }
   ],
   "source": [
    "from sklearn.tree import DecisionTreeClassifier\n",
    "from sklearn.model_selection import GridSearchCV\n",
    "\n",
    "tuned_parameters = {'max_depth': [1, 5, 10, 50, 100, 500, 1000], 'min_samples_split': [5, 10, 100, 500]}\n",
    "\n",
    "model = GridSearchCV(DecisionTreeClassifier(class_weight = 'balanced'), tuned_parameters, scoring = 'roc_auc', n_jobs = -1, cv=5)\n",
    "\n",
    "model.fit(tfidf_sent_vectors_train, Y_train)\n",
    "\n",
    "print(\"Model with best parameters is :\\n\", model.best_estimator_)\n",
    "\n",
    "optimal_max_depth =  model.best_estimator_.max_depth\n",
    "print(\"The optimal value of max_depth is :\", optimal_max_depth)\n",
    "\n",
    "optimal_min_samples_split = model.best_estimator_.min_samples_split\n",
    "print(\"The optimal value of minimum samples split is:\", optimal_min_samples_split)\n"
   ]
  },
  {
   "cell_type": "code",
   "execution_count": 127,
   "metadata": {},
   "outputs": [
    {
     "name": "stdout",
     "output_type": "stream",
     "text": [
      "0.6924512609205922\n"
     ]
    }
   ],
   "source": [
    "# get the score on test data \n",
    "print(model.score(tfidf_sent_vectors_test, Y_test))  \n"
   ]
  },
  {
   "cell_type": "markdown",
   "metadata": {},
   "source": [
    "### [8.4]  Predicting Test score and Test error for TFIDF-W2V"
   ]
  },
  {
   "cell_type": "code",
   "execution_count": 129,
   "metadata": {},
   "outputs": [
    {
     "name": "stdout",
     "output_type": "stream",
     "text": [
      "\n",
      "The test AUC-score of the DecisionTreeClassifier for optimal hyperparameters in TFIDF-W2V is 55.607949%\n"
     ]
    }
   ],
   "source": [
    "# Predicting model on test data to find auc-score \n",
    "from sklearn.metrics import roc_auc_score\n",
    "\n",
    "dt_optimal = DecisionTreeClassifier(max_depth = optimal_max_depth, min_samples_split = optimal_min_samples_split)\n",
    "\n",
    "# fitting the model\n",
    "dt_optimal.fit(tfidf_sent_vectors_train, Y_train)\n",
    "\n",
    "# predict the response\n",
    "pred_tfidf_w2v = dt_optimal.predict(tfidf_sent_vectors_test)\n",
    "\n",
    "# evaluate accuracy. Using auc_score as metric to measure accuracy,\n",
    "test_auc_tfidfw2v = roc_auc_score(Y_test, pred_tfidf_w2v, average = 'weighted') * float(100)\n",
    "print('\\nThe test AUC-score of the DecisionTreeClassifier for optimal hyperparameters in TFIDF-W2V is %f%%' % (test_auc_tfidfw2v))\n"
   ]
  },
  {
   "cell_type": "code",
   "execution_count": 130,
   "metadata": {},
   "outputs": [
    {
     "name": "stdout",
     "output_type": "stream",
     "text": [
      "Test Error for DecisionTreeClassifier TFIDF-W2V is 0.444%\n"
     ]
    }
   ],
   "source": [
    "# Finding test error\n",
    "test_error_tfidf_w2v = (1 - roc_auc_score(Y_test, pred_tfidf_w2v, average = 'weighted')) \n",
    "print(\"Test Error for DecisionTreeClassifier TFIDF-W2V is %.3f%%\" % (test_error_tfidf_w2v))"
   ]
  },
  {
   "cell_type": "markdown",
   "metadata": {},
   "source": [
    "### [8.5]  Plotting the performance of Train and CV scores for TFIDF-W2V with hyperparameters using Heatmaps"
   ]
  },
  {
   "cell_type": "markdown",
   "metadata": {},
   "source": [
    "### Heat map for CV scores TFIDF-W2V"
   ]
  },
  {
   "cell_type": "code",
   "execution_count": 131,
   "metadata": {},
   "outputs": [
    {
     "data": {
      "image/png": "[encoded data removed]",
      "text/plain": [
       "<Figure size 1080x360 with 2 Axes>"
      ]
     },
     "metadata": {},
     "output_type": "display_data"
    }
   ],
   "source": [
    "df_decisiontree = pd.DataFrame(model.cv_results_)\n",
    "# .max() function returns the largest value in the iterable format\n",
    "scores = df_decisiontree.groupby(['param_max_depth', 'param_min_samples_split']).max()\n",
    "# unstack() method in pandas converts the data into unstacked format\n",
    "AUC_scores = scores.unstack()[['mean_test_score', 'mean_train_score']]\n",
    "plt.figure(figsize=(15,5))\n",
    "sns.heatmap(AUC_scores.mean_test_score, annot=True, fmt='.3g');\n"
   ]
  },
  {
   "cell_type": "code",
   "execution_count": 132,
   "metadata": {},
   "outputs": [
    {
     "name": "stdout",
     "output_type": "stream",
     "text": [
      "The CV AUC-score for both hyperparameters is : \n",
      " param_min_samples_split    5      10     100    500\n",
      "param_max_depth                                    \n",
      "1                        0.635  0.635  0.635  0.635\n",
      "5                        0.768  0.768  0.768  0.769\n",
      "10                       0.749  0.749  0.767  0.785\n",
      "50                       0.626  0.637  0.733  0.785\n",
      "100                      0.623  0.634  0.734  0.785\n",
      "500                      0.624  0.634  0.733  0.785\n",
      "1000                     0.625  0.635  0.733  0.785\n"
     ]
    }
   ],
   "source": [
    "print(\"The CV AUC-score for both hyperparameters is : \\n\", np.round(AUC_scores.mean_test_score,3))"
   ]
  },
  {
   "cell_type": "markdown",
   "metadata": {},
   "source": [
    "### Heat map for Train scores TFIDF-W2V"
   ]
  },
  {
   "cell_type": "code",
   "execution_count": 133,
   "metadata": {},
   "outputs": [
    {
     "data": {
      "image/png": "[encoded data removed]",
      "text/plain": [
       "<Figure size 1080x360 with 2 Axes>"
      ]
     },
     "metadata": {},
     "output_type": "display_data"
    }
   ],
   "source": [
    "plt.figure(figsize=(15,5))\n",
    "sns.heatmap(AUC_scores.mean_train_score, annot=True, fmt='.3g');"
   ]
  },
  {
   "cell_type": "code",
   "execution_count": 134,
   "metadata": {},
   "outputs": [
    {
     "name": "stdout",
     "output_type": "stream",
     "text": [
      "the Train score for both hyperparameters is \n",
      " param_min_samples_split    5      10     100    500\n",
      "param_max_depth                                    \n",
      "1                        0.637  0.637  0.637  0.637\n",
      "5                        0.788  0.788  0.788  0.788\n",
      "10                       0.909  0.908  0.891  0.850\n",
      "50                       1.000  0.998  0.933  0.854\n",
      "100                      1.000  0.998  0.933  0.854\n",
      "500                      1.000  0.998  0.933  0.854\n",
      "1000                     1.000  0.998  0.933  0.854\n"
     ]
    }
   ],
   "source": [
    "print(\"the Train score for both hyperparameters is \\n\", np.round(AUC_scores.mean_train_score, 3))"
   ]
  },
  {
   "cell_type": "markdown",
   "metadata": {},
   "source": [
    "### [8.6]  Plotting ROC curve and finding AUC score for TFIDF-W2V"
   ]
  },
  {
   "cell_type": "code",
   "execution_count": 135,
   "metadata": {},
   "outputs": [
    {
     "data": {
      "image/png": "[encoded data removed]",
      "text/plain": [
       "<Figure size 432x288 with 1 Axes>"
      ]
     },
     "metadata": {},
     "output_type": "display_data"
    }
   ],
   "source": [
    "# ROC curve and AUC for TFIDF-W2V\n",
    "from sklearn.metrics import roc_curve, auc\n",
    "# Predicting the probabilities of test data as ROC curve needs probabilities to plot\n",
    "Y_prob = model.fit(tfidf_sent_vectors_train, Y_train)\n",
    "# Giving actual values(Y_test) and predicted probabilities Y_prob\n",
    "# we need to calculate the fpr and tpr for all thresholds of the classification \n",
    "train_fpr, train_tpr, thresholds = roc_curve(Y_train, Y_prob.predict_proba(tfidf_sent_vectors_train)[:,1])\n",
    "test_fpr, test_tpr, thresholds = roc_curve(Y_test, Y_prob.predict_proba(tfidf_sent_vectors_test)[:,1])\n",
    "\n",
    "# We calculate the AUC (Area Under Curve)\n",
    "roc_auc_train = auc(train_fpr, train_tpr)\n",
    "roc_auc_test = auc(test_fpr, test_tpr)\n",
    "    \n",
    "# Plot FPR (on x-axis) v/s TPR (on y-axis)\n",
    "plt.title('ROC for TFIDF-W2V')\n",
    "plt.plot(train_fpr, train_tpr, 'b', label='Train AUC = %0.2f'% roc_auc_train)\n",
    "plt.plot(test_fpr, test_tpr, 'r', label='Test AUC = %0.2f'% roc_auc_test)\n",
    "plt.legend(loc='lower right')\n",
    "plt.plot([0,1],[0,1],'k--')\n",
    "plt.xlim([-0.1,1.2])\n",
    "plt.ylim([-0.1,1.2])\n",
    "plt.ylabel('True Positive Rate')\n",
    "plt.xlabel('False Positive Rate')\n",
    "plt.show()"
   ]
  },
  {
   "cell_type": "markdown",
   "metadata": {},
   "source": [
    "### [8.7] Confusion matrix "
   ]
  },
  {
   "cell_type": "markdown",
   "metadata": {},
   "source": [
    "### Confusion matrix for TFIDF-W2V Train data"
   ]
  },
  {
   "cell_type": "code",
   "execution_count": 136,
   "metadata": {},
   "outputs": [
    {
     "name": "stdout",
     "output_type": "stream",
     "text": [
      "Train confusion matrix\n",
      "[[ 1995  6611]\n",
      " [ 1202 60192]]\n"
     ]
    }
   ],
   "source": [
    "from sklearn.metrics import confusion_matrix\n",
    "print(\"Train confusion matrix\")\n",
    "pred_tfidf_w2v_train = dt_optimal.predict(tfidf_sent_vectors_train)\n",
    "cm = confusion_matrix(Y_train, pred_tfidf_w2v_train) # finding confusion matrix between true data and predicted data\n",
    "print(cm)"
   ]
  },
  {
   "cell_type": "code",
   "execution_count": 137,
   "metadata": {},
   "outputs": [
    {
     "data": {
      "image/png": "[encoded data removed]",
      "text/plain": [
       "<Figure size 432x288 with 2 Axes>"
      ]
     },
     "metadata": {},
     "output_type": "display_data"
    }
   ],
   "source": [
    "class_label = [\"negative\", \"positive\"] # create a class label for columns and rows\n",
    "cm = confusion_matrix(Y_train, pred_tfidf_w2v_train) \n",
    "dataframe_cm = pd.DataFrame(cm, index = class_label, columns = class_label) # create a dataframe to plot confusion matrix\n",
    "# A heatmap is a two-dimensional graphical representation of data in seaborn,\n",
    "# where the individual values in a matrix are represented with colors.\n",
    "sns.heatmap(dataframe_cm, annot = True, fmt = \"d\") # annot=true means, write the data value in each cell\n",
    "plt.title(\"Train Confusion Matrix for TFIDF-W2V\")\n",
    "plt.xlabel(\"Predicted Label\")\n",
    "plt.ylabel(\"True Label\")\n",
    "plt.show()"
   ]
  },
  {
   "cell_type": "markdown",
   "metadata": {},
   "source": [
    "### Confusion matrix for TFIDF-W2V Test data"
   ]
  },
  {
   "cell_type": "code",
   "execution_count": 138,
   "metadata": {},
   "outputs": [
    {
     "name": "stdout",
     "output_type": "stream",
     "text": [
      "Test confusion matrix\n",
      "[[  532  3133]\n",
      " [  869 25466]]\n"
     ]
    }
   ],
   "source": [
    "# Using confusion matrix as a another metric to measure accuracy\n",
    "from sklearn.metrics import confusion_matrix\n",
    "print(\"Test confusion matrix\")\n",
    "pred_tfidf_w2v_test = dt_optimal.predict(tfidf_sent_vectors_test)\n",
    "cm = confusion_matrix(Y_test, pred_tfidf_w2v_test) # finding confusion matrix between true data and predicted data\n",
    "print(cm)"
   ]
  },
  {
   "cell_type": "code",
   "execution_count": 139,
   "metadata": {},
   "outputs": [
    {
     "data": {
      "image/png": "[encoded data removed]",
      "text/plain": [
       "<Figure size 432x288 with 2 Axes>"
      ]
     },
     "metadata": {},
     "output_type": "display_data"
    }
   ],
   "source": [
    "# plot confusion matrix for TFIDF-W2V\n",
    "class_label = [\"negative\", \"positive\"] # create a class label for columns and rows\n",
    "cm = confusion_matrix(Y_test, pred_tfidf_w2v_test) \n",
    "dataframe_cm = pd.DataFrame(cm, index = class_label, columns = class_label) # create a dataframe to plot confusion matrix\n",
    "# A heatmap is a two-dimensional graphical representation of data in seaborn,\n",
    "# where the individual values in a matrix are represented with colors.\n",
    "sns.heatmap(dataframe_cm, annot = True, fmt = \"d\") # annot=true means, write the data value in each cell\n",
    "plt.title(\"Test Confusion Matrix for TFIDF-W2V\")\n",
    "plt.xlabel(\"Predicted Label\")\n",
    "plt.ylabel(\"True Label\")\n",
    "plt.show()"
   ]
  },
  {
   "cell_type": "markdown",
   "metadata": {},
   "source": [
    "### [8.8] Classification report for TFIDF-W2V\n"
   ]
  },
  {
   "cell_type": "code",
   "execution_count": 140,
   "metadata": {},
   "outputs": [
    {
     "name": "stdout",
     "output_type": "stream",
     "text": [
      "Accuracy Score: 0.8666\n",
      "Report:\n",
      "             precision    recall  f1-score   support\n",
      "\n",
      "          0       0.38      0.15      0.21      3665\n",
      "          1       0.89      0.97      0.93     26335\n",
      "\n",
      "avg / total       0.83      0.87      0.84     30000\n",
      "\n"
     ]
    }
   ],
   "source": [
    "# calculate the classification report for TFIDF-W2V\n",
    "from sklearn.metrics import classification_report \n",
    "from sklearn.metrics import accuracy_score\n",
    "\n",
    "print('Accuracy Score:', accuracy_score(Y_test, pred_tfidf_w2v)) \n",
    "print('Report:')\n",
    "print(classification_report(Y_test, pred_tfidf_w2v)) \n"
   ]
  },
  {
   "cell_type": "markdown",
   "metadata": {},
   "source": [
    "## 9. Models Summarization"
   ]
  },
  {
   "cell_type": "code",
   "execution_count": 141,
   "metadata": {},
   "outputs": [],
   "source": [
    "from pandas import DataFrame\n",
    "DecisionTrees = {'Vectorizer':['BoW', 'TFIDF', 'AVG-W2V', 'TFIDF-W2V'], 'Model':['DecisionTreeClassifier','DecisionTreeClassifier','DecisionTreeClassifier','DecisionTreeClassifier'], \n",
    "                       'Hyper parameter max_depth':['50','50','10','10'],\n",
    "                       'Hyper parameter min_samples_split':['500','500','500','500'],\n",
    "                       'AUC-score':['65.59','63.91','59.02','55.60'],\n",
    "                       'Test error':['0.34','0.36','0.41','0.44'],\n",
    "                       'Train AUC Score':['0.91','0.92','0.88','0.85'],\n",
    "                       'Test AUC score':['0.81','0.80','0.69','0.69']}"
   ]
  },
  {
   "cell_type": "code",
   "execution_count": 142,
   "metadata": {},
   "outputs": [
    {
     "data": {
      "text/html": [
       "<div>\n",
       "<style scoped>\n",
       "    .dataframe tbody tr th:only-of-type {\n",
       "        vertical-align: middle;\n",
       "    }\n",
       "\n",
       "    .dataframe tbody tr th {\n",
       "        vertical-align: top;\n",
       "    }\n",
       "\n",
       "    .dataframe thead th {\n",
       "        text-align: right;\n",
       "    }\n",
       "</style>\n",
       "<table border=\"1\" class=\"dataframe\">\n",
       "  <thead>\n",
       "    <tr style=\"text-align: right;\">\n",
       "      <th></th>\n",
       "      <th>Vectorizer</th>\n",
       "      <th>Model</th>\n",
       "      <th>Hyper parameter max_depth</th>\n",
       "      <th>Hyper parameter min_samples_split</th>\n",
       "      <th>AUC-score</th>\n",
       "      <th>Test error</th>\n",
       "      <th>Train AUC Score</th>\n",
       "      <th>Test AUC score</th>\n",
       "    </tr>\n",
       "  </thead>\n",
       "  <tbody>\n",
       "    <tr>\n",
       "      <th>0</th>\n",
       "      <td>BoW</td>\n",
       "      <td>DecisionTreeClassifier</td>\n",
       "      <td>50</td>\n",
       "      <td>500</td>\n",
       "      <td>65.59</td>\n",
       "      <td>0.34</td>\n",
       "      <td>0.91</td>\n",
       "      <td>0.81</td>\n",
       "    </tr>\n",
       "    <tr>\n",
       "      <th>1</th>\n",
       "      <td>TFIDF</td>\n",
       "      <td>DecisionTreeClassifier</td>\n",
       "      <td>50</td>\n",
       "      <td>500</td>\n",
       "      <td>63.91</td>\n",
       "      <td>0.36</td>\n",
       "      <td>0.92</td>\n",
       "      <td>0.80</td>\n",
       "    </tr>\n",
       "    <tr>\n",
       "      <th>2</th>\n",
       "      <td>AVG-W2V</td>\n",
       "      <td>DecisionTreeClassifier</td>\n",
       "      <td>10</td>\n",
       "      <td>500</td>\n",
       "      <td>59.02</td>\n",
       "      <td>0.41</td>\n",
       "      <td>0.88</td>\n",
       "      <td>0.69</td>\n",
       "    </tr>\n",
       "    <tr>\n",
       "      <th>3</th>\n",
       "      <td>TFIDF-W2V</td>\n",
       "      <td>DecisionTreeClassifier</td>\n",
       "      <td>10</td>\n",
       "      <td>500</td>\n",
       "      <td>55.60</td>\n",
       "      <td>0.44</td>\n",
       "      <td>0.85</td>\n",
       "      <td>0.69</td>\n",
       "    </tr>\n",
       "  </tbody>\n",
       "</table>\n",
       "</div>"
      ],
      "text/plain": [
       "  Vectorizer                   Model Hyper parameter max_depth  \\\n",
       "0        BoW  DecisionTreeClassifier                        50   \n",
       "1      TFIDF  DecisionTreeClassifier                        50   \n",
       "2    AVG-W2V  DecisionTreeClassifier                        10   \n",
       "3  TFIDF-W2V  DecisionTreeClassifier                        10   \n",
       "\n",
       "  Hyper parameter min_samples_split AUC-score Test error Train AUC Score  \\\n",
       "0                               500     65.59       0.34            0.91   \n",
       "1                               500     63.91       0.36            0.92   \n",
       "2                               500     59.02       0.41            0.88   \n",
       "3                               500     55.60       0.44            0.85   \n",
       "\n",
       "  Test AUC score  \n",
       "0           0.81  \n",
       "1           0.80  \n",
       "2           0.69  \n",
       "3           0.69  "
      ]
     },
     "execution_count": 142,
     "metadata": {},
     "output_type": "execute_result"
    }
   ],
   "source": [
    "Final_conclusions = DataFrame(DecisionTrees)\n",
    "Final_conclusions"
   ]
  },
  {
   "cell_type": "markdown",
   "metadata": {},
   "source": [
    "## 10. Conclusions:-\n",
    "\n",
    "1. From the above observations, featurizations BoW and TFIDF have good AUC score on test data.\n",
    "2. All the featurizations have good Train AUC which I got through ROC curve but, BoW and TFIDF has more Test AUC score through ROC curve.\n",
    "3. So BoW and TFIDF trained by DecisionTreeClassifier are working well on unseen data, compared to other featurizations AvgW2V and TFIDF-W2V.\n"
   ]
  },
  {
   "cell_type": "code",
   "execution_count": null,
   "metadata": {},
   "outputs": [],
   "source": []
  }
 ],
 "metadata": {
  "colab": {
   "collapsed_sections": [
    "NTwQITJKiWN5",
    "T_LFck8iiWOX",
    "mjfrB76yiWOa",
    "0tcbbZxSiWOd",
    "u566lt93iWOf",
    "mUNnof40iWOl",
    "heHLB_FCiWOm",
    "ylTn3LgiiWOo",
    "NVhl_V6MiWO5",
    "PnwVzXytiWO7"
   ],
   "name": "08 Amazon Fine Food Reviews Analysis_Decision Trees.ipynb",
   "provenance": [],
   "version": "0.3.2"
  },
  "kernelspec": {
   "display_name": "Python 3",
   "language": "python",
   "name": "python3"
  },
  "language_info": {
   "codemirror_mode": {
    "name": "ipython",
    "version": 3
   },
   "file_extension": ".py",
   "mimetype": "text/x-python",
   "name": "python",
   "nbconvert_exporter": "python",
   "pygments_lexer": "ipython3",
   "version": "3.6.5"
  }
 },
 "nbformat": 4,
 "nbformat_minor": 1
}

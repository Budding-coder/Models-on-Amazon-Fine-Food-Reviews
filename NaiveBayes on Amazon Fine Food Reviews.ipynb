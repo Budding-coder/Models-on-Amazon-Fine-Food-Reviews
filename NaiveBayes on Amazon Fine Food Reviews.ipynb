{
 "cells": [
  {
   "cell_type": "markdown",
   "metadata": {},
   "source": [
    "# Amazon Fine Food Reviews Analysis - Naive Bayes\n",
    "\n",
    "\n",
    "Data Source: https://www.kaggle.com/snap/amazon-fine-food-reviews <br>\n",
    "\n",
    "The Amazon Fine Food Reviews dataset consists of reviews of fine foods from Amazon.<br>\n",
    "\n",
    "Number of reviews: 568,454<br>\n",
    "Number of users: 256,059<br>\n",
    "Number of products: 74,258<br>\n",
    "Timespan: Oct 1999 - Oct 2012<br>\n",
    "Number of Attributes/Columns in data: 10 \n",
    "\n",
    "Attribute Information:\n",
    "\n",
    "1. Id\n",
    "2. ProductId - unique identifier for the product\n",
    "3. UserId - unqiue identifier for the user\n",
    "4. ProfileName\n",
    "5. HelpfulnessNumerator - number of users who found the review helpful\n",
    "6. HelpfulnessDenominator - number of users who indicated whether they found the review helpful or not\n",
    "7. Score - rating between 1 and 5\n",
    "8. Time - timestamp for the review\n",
    "9. Summary - brief summary of the review\n",
    "10. Text - text of the review\n",
    "\n",
    "\n",
    "#### Objective:\n",
    "Given a review, determine whether the review is positive (rating of 4 or 5) or negative (rating of 1 or 2).\n",
    "\n",
    "<br>\n",
    "[Q] How to determine if a review is positive or negative?<br>\n",
    "<br> \n",
    "[Ans] We could use Score/Rating. A rating of 4 or 5 can be cosnidered as a positive review. A rating of 1 or 2 can be considered as negative one. A review of rating 3 is considered nuetral and such reviews are ignored from our analysis. This is an approximate and proxy way of determining the polarity (positivity/negativity) of a review.\n",
    "\n",
    "In this assignment I perform,\n",
    "\n",
    "1. All the Data cleaning and Text Preprocessing steps on the Amazon reviews.\n",
    "\n",
    "Once the data cleaning is done, we perform the following steps:\n",
    "2. First we have to sort the data using timestamp and then split Train and Test data using Time based Splitting (70% - train data and 30% - test data).\n",
    "3. Next apply Naive Bayes on BoW and TFIDF techniques\n",
    "4. Find right alpha using 10-fold Cross Validation\n",
    "5. Plot ROC curve and find AUC value.\n",
    "6. Find Test accuracy and test error and compute confusion matrix (TPR, FPR, FNR, TNR)\n",
    "7. Compute classification report features like accuracy, precision, recall, f1-score.\n",
    "8. Get the Feature Importance (important features) for positive class and negative class. Feature importance in case of Amazon reviews dataset is, finding out which words are more prominent/have more probability/more often found for positive labels and for negative labels/review\n"
   ]
  },
  {
   "cell_type": "markdown",
   "metadata": {},
   "source": [
    "# 1. Reading Data"
   ]
  },
  {
   "cell_type": "markdown",
   "metadata": {},
   "source": [
    "## [1.1] Loading the data\n",
    "\n",
    "The dataset is available in two forms\n",
    "1. .csv file\n",
    "2. SQLite Database\n",
    "\n",
    "In order to load the data, We have used the SQLITE dataset as it is easier to query the data and visualise the data efficiently.\n",
    "<br> \n",
    "\n",
    "Here as we only want to get the global sentiment of the recommendations (positive or negative), we will purposefully ignore all Scores equal to 3. If the score is above 3, then the recommendation wil be set to \"positive\". Otherwise, it will be set to \"negative\"."
   ]
  },
  {
   "cell_type": "code",
   "execution_count": 1,
   "metadata": {},
   "outputs": [],
   "source": [
    "%matplotlib inline\n",
    "import warnings\n",
    "warnings.filterwarnings(\"ignore\")"
   ]
  },
  {
   "cell_type": "code",
   "execution_count": 2,
   "metadata": {},
   "outputs": [],
   "source": [
    "import sqlite3\n",
    "import pandas as pd\n",
    "import numpy as np\n",
    "import nltk\n",
    "import string\n",
    "import matplotlib.pyplot as plt\n",
    "import seaborn as sns\n",
    "from sklearn.feature_extraction.text import TfidfTransformer\n",
    "from sklearn.feature_extraction.text import TfidfVectorizer\n",
    "\n",
    "from sklearn.feature_extraction.text import CountVectorizer\n",
    "from sklearn.metrics import confusion_matrix\n",
    "from sklearn import metrics\n",
    "from sklearn.metrics import roc_curve, auc\n",
    "from nltk.stem.porter import PorterStemmer\n",
    "\n",
    "import re\n",
    "# Tutorial about Python regular expressions: https://pymotw.com/2/re/\n",
    "import string\n",
    "from nltk.corpus import stopwords\n",
    "from nltk.stem import PorterStemmer\n",
    "from nltk.stem.wordnet import WordNetLemmatizer\n",
    "\n",
    "from tqdm import tqdm\n",
    "import os"
   ]
  },
  {
   "cell_type": "code",
   "execution_count": 3,
   "metadata": {},
   "outputs": [
    {
     "name": "stdout",
     "output_type": "stream",
     "text": [
      "Number of data points in our data (525814, 10)\n"
     ]
    },
    {
     "data": {
      "text/html": [
       "<div>\n",
       "<style scoped>\n",
       "    .dataframe tbody tr th:only-of-type {\n",
       "        vertical-align: middle;\n",
       "    }\n",
       "\n",
       "    .dataframe tbody tr th {\n",
       "        vertical-align: top;\n",
       "    }\n",
       "\n",
       "    .dataframe thead th {\n",
       "        text-align: right;\n",
       "    }\n",
       "</style>\n",
       "<table border=\"1\" class=\"dataframe\">\n",
       "  <thead>\n",
       "    <tr style=\"text-align: right;\">\n",
       "      <th></th>\n",
       "      <th>Id</th>\n",
       "      <th>ProductId</th>\n",
       "      <th>UserId</th>\n",
       "      <th>ProfileName</th>\n",
       "      <th>HelpfulnessNumerator</th>\n",
       "      <th>HelpfulnessDenominator</th>\n",
       "      <th>Score</th>\n",
       "      <th>Time</th>\n",
       "      <th>Summary</th>\n",
       "      <th>Text</th>\n",
       "    </tr>\n",
       "  </thead>\n",
       "  <tbody>\n",
       "    <tr>\n",
       "      <th>0</th>\n",
       "      <td>1</td>\n",
       "      <td>B001E4KFG0</td>\n",
       "      <td>A3SGXH7AUHU8GW</td>\n",
       "      <td>delmartian</td>\n",
       "      <td>1</td>\n",
       "      <td>1</td>\n",
       "      <td>positive</td>\n",
       "      <td>1303862400</td>\n",
       "      <td>Good Quality Dog Food</td>\n",
       "      <td>I have bought several of the Vitality canned d...</td>\n",
       "    </tr>\n",
       "    <tr>\n",
       "      <th>1</th>\n",
       "      <td>2</td>\n",
       "      <td>B00813GRG4</td>\n",
       "      <td>A1D87F6ZCVE5NK</td>\n",
       "      <td>dll pa</td>\n",
       "      <td>0</td>\n",
       "      <td>0</td>\n",
       "      <td>negative</td>\n",
       "      <td>1346976000</td>\n",
       "      <td>Not as Advertised</td>\n",
       "      <td>Product arrived labeled as Jumbo Salted Peanut...</td>\n",
       "    </tr>\n",
       "    <tr>\n",
       "      <th>2</th>\n",
       "      <td>3</td>\n",
       "      <td>B000LQOCH0</td>\n",
       "      <td>ABXLMWJIXXAIN</td>\n",
       "      <td>Natalia Corres \"Natalia Corres\"</td>\n",
       "      <td>1</td>\n",
       "      <td>1</td>\n",
       "      <td>positive</td>\n",
       "      <td>1219017600</td>\n",
       "      <td>\"Delight\" says it all</td>\n",
       "      <td>This is a confection that has been around a fe...</td>\n",
       "    </tr>\n",
       "    <tr>\n",
       "      <th>3</th>\n",
       "      <td>4</td>\n",
       "      <td>B000UA0QIQ</td>\n",
       "      <td>A395BORC6FGVXV</td>\n",
       "      <td>Karl</td>\n",
       "      <td>3</td>\n",
       "      <td>3</td>\n",
       "      <td>negative</td>\n",
       "      <td>1307923200</td>\n",
       "      <td>Cough Medicine</td>\n",
       "      <td>If you are looking for the secret ingredient i...</td>\n",
       "    </tr>\n",
       "    <tr>\n",
       "      <th>4</th>\n",
       "      <td>5</td>\n",
       "      <td>B006K2ZZ7K</td>\n",
       "      <td>A1UQRSCLF8GW1T</td>\n",
       "      <td>Michael D. Bigham \"M. Wassir\"</td>\n",
       "      <td>0</td>\n",
       "      <td>0</td>\n",
       "      <td>positive</td>\n",
       "      <td>1350777600</td>\n",
       "      <td>Great taffy</td>\n",
       "      <td>Great taffy at a great price.  There was a wid...</td>\n",
       "    </tr>\n",
       "  </tbody>\n",
       "</table>\n",
       "</div>"
      ],
      "text/plain": [
       "   Id   ProductId          UserId                      ProfileName  \\\n",
       "0   1  B001E4KFG0  A3SGXH7AUHU8GW                       delmartian   \n",
       "1   2  B00813GRG4  A1D87F6ZCVE5NK                           dll pa   \n",
       "2   3  B000LQOCH0   ABXLMWJIXXAIN  Natalia Corres \"Natalia Corres\"   \n",
       "3   4  B000UA0QIQ  A395BORC6FGVXV                             Karl   \n",
       "4   5  B006K2ZZ7K  A1UQRSCLF8GW1T    Michael D. Bigham \"M. Wassir\"   \n",
       "\n",
       "   HelpfulnessNumerator  HelpfulnessDenominator     Score        Time  \\\n",
       "0                     1                       1  positive  1303862400   \n",
       "1                     0                       0  negative  1346976000   \n",
       "2                     1                       1  positive  1219017600   \n",
       "3                     3                       3  negative  1307923200   \n",
       "4                     0                       0  positive  1350777600   \n",
       "\n",
       "                 Summary                                               Text  \n",
       "0  Good Quality Dog Food  I have bought several of the Vitality canned d...  \n",
       "1      Not as Advertised  Product arrived labeled as Jumbo Salted Peanut...  \n",
       "2  \"Delight\" says it all  This is a confection that has been around a fe...  \n",
       "3         Cough Medicine  If you are looking for the secret ingredient i...  \n",
       "4            Great taffy  Great taffy at a great price.  There was a wid...  "
      ]
     },
     "execution_count": 3,
     "metadata": {},
     "output_type": "execute_result"
    }
   ],
   "source": [
    "# Loading the data\n",
    "# using the SQLite Table to read data.\n",
    "con = sqlite3.connect('I:\\Python\\database.sqlite') \n",
    "#filtering only positive and negative reviews i.e. \n",
    "# not taking into consideration those reviews with Score=3\n",
    "filtered_data = pd.read_sql_query(\"\"\" SELECT * FROM Reviews WHERE Score != 3 \"\"\", con) \n",
    "\n",
    "\n",
    "# Give reviews with Score>3 a positive rating, and reviews with a score<3 a negative rating.\n",
    "def partition(x):\n",
    "    if x < 3:\n",
    "        return 'negative'\n",
    "    return 'positive'\n",
    "\n",
    "#changing reviews with score less than 3 to be positive and vice-versa\n",
    "actualScore = filtered_data['Score']\n",
    "positiveNegative = actualScore.map(partition) \n",
    "filtered_data['Score'] = positiveNegative\n",
    "print(\"Number of data points in our data\", filtered_data.shape)\n",
    "filtered_data.head(5)"
   ]
  },
  {
   "cell_type": "markdown",
   "metadata": {},
   "source": [
    "#  2. Exploratory Data Analysis"
   ]
  },
  {
   "cell_type": "markdown",
   "metadata": {},
   "source": [
    "## [2.1] Data Cleaning: Deduplication\n",
    "\n",
    "It was necessary to remove duplicates in order to get unbiased results for the analysis of the data. Hence in order to reduce redundancy it's better to eliminate the rows having same parameters.\n",
    "\n",
    "The method used to perform deduplication is that, we first sort the data according to ProductId and then just keep the first similar product review and delete the others. This method ensures that there is only one representative for each product."
   ]
  },
  {
   "cell_type": "code",
   "execution_count": 4,
   "metadata": {},
   "outputs": [
    {
     "name": "stdout",
     "output_type": "stream",
     "text": [
      "Total number of reviews in the dataframe after removing duplicates : (364173, 10)\n"
     ]
    }
   ],
   "source": [
    "#Sorting data according to ProductId in ascending order\n",
    "sorted_data = filtered_data.sort_values('ProductId', axis = 0, ascending = True, inplace=False, kind='quicksort', na_position='last')\n",
    "\n",
    "#Dropping duplicates. It says that find duplicates with {'UserId', 'ProfileName', 'Time', 'Text'} values same. Then it is a duplicate\n",
    "# By using drop_duplicate function we just keep the first product Id of the duplicates and remove the remaining.\n",
    "final_data = sorted_data.drop_duplicates(subset = {'UserId', 'ProfileName', 'Time', 'Text'}, keep = 'first', inplace = False)\n",
    "\n",
    "# Now it prints total reviews after removing duplicates.\n",
    "print('Total number of reviews in the dataframe after removing duplicates :', final_data.shape)\n"
   ]
  },
  {
   "cell_type": "code",
   "execution_count": 6,
   "metadata": {},
   "outputs": [
    {
     "data": {
      "text/plain": [
       "(364171, 10)"
      ]
     },
     "execution_count": 6,
     "metadata": {},
     "output_type": "execute_result"
    }
   ],
   "source": [
    "# HelpfulnessNumerator should always be less than HelpfulnessDenominator. \n",
    "# So check if any reviews have HelpfulnessNumerator greater than HelpfulnessDenominator and remove them\n",
    "final_data = final_data[final_data.HelpfulnessNumerator <= final_data.HelpfulnessDenominator]\n",
    "\n",
    "final_data.shape"
   ]
  },
  {
   "cell_type": "code",
   "execution_count": 7,
   "metadata": {},
   "outputs": [
    {
     "data": {
      "text/plain": [
       "69.25852107399194"
      ]
     },
     "execution_count": 7,
     "metadata": {},
     "output_type": "execute_result"
    }
   ],
   "source": [
    "#Checking to see how much % of data still remains\n",
    "\n",
    "(final_data['Id'].size*1.0)/(filtered_data['Id'].size*1.0)*100"
   ]
  },
  {
   "cell_type": "code",
   "execution_count": 8,
   "metadata": {},
   "outputs": [
    {
     "name": "stdout",
     "output_type": "stream",
     "text": [
      "(364171, 10)\n"
     ]
    },
    {
     "data": {
      "text/plain": [
       "positive    307061\n",
       "negative     57110\n",
       "Name: Score, dtype: int64"
      ]
     },
     "execution_count": 8,
     "metadata": {},
     "output_type": "execute_result"
    }
   ],
   "source": [
    "# Lets see how many total reviews left\n",
    "print(final_data.shape)\n",
    "\n",
    "#How many positive and negative reviews are present in the dataset?\n",
    "final_data['Score'].value_counts()"
   ]
  },
  {
   "cell_type": "markdown",
   "metadata": {},
   "source": [
    "#### Observation:-\n",
    "From the above output we can see that there are many positive reviews and fewer negative reviews."
   ]
  },
  {
   "cell_type": "markdown",
   "metadata": {},
   "source": [
    "#  3. Text Preprocessing :- Stemming, Stop-word removal and Lemmatization\n",
    "\n",
    "Now that we have finished deduplication, our data requires some preprocessing before we go on further with analysis and perform Naive Bayes on Featurizations.\n",
    "\n",
    "1. By removing stop-words, BoW vector will be small and more meaningful\n",
    "2. Lemmatization is a process of breaking a sentence into words. It is language and context dependent\n",
    "\n",
    "Hence in the Preprocessing phase we do the following in the order below:-\n",
    "\n",
    "1. Begin by removing the html tags\n",
    "2. Remove any punctuations or limited set of special characters like , or . or # etc.\n",
    "3. Check if the word is made up of english letters and is not alpha-numeric\n",
    "4. Check to see if the length of the word is greater than 2 (as it was researched that there is no adjective in 2-letters)\n",
    "5. Convert the words to lowercase\n",
    "6. Remove Stopwords\n",
    "7. Finally Stemming the words which are related, to their stem form/root/base form (Snowball stemmer is used as it is obsereved to be better than Porter Stemming)\n",
    "\n",
    "After which we collect the words used to describe positive and negative reviews"
   ]
  },
  {
   "cell_type": "code",
   "execution_count": 9,
   "metadata": {},
   "outputs": [
    {
     "name": "stdout",
     "output_type": "stream",
     "text": [
      "6\n",
      "I set aside at least an hour each day to read to my son (3 y/o). At this point, I consider myself a connoisseur of children's books and this is one of the best. Santa Clause put this under the tree. Since then, we've read it perpetually and he loves it.<br /><br />First, this book taught him the months of the year.<br /><br />Second, it's a pleasure to read. Well suited to 1.5 y/o old to 4+.<br /><br />Very few children's books are worth owning. Most should be borrowed from the library. This book, however, deserves a permanent spot on your shelf. Sendak's best.\n"
     ]
    }
   ],
   "source": [
    "# find sentences containing HTML tags\n",
    "import re\n",
    "i=0;\n",
    "for sentence in final_data['Text'].values:\n",
    "    if (len(re.findall('<.*?>', sentence))):\n",
    "        print(i)\n",
    "        print(sentence)\n",
    "        break;\n",
    "    i += 1;"
   ]
  },
  {
   "cell_type": "code",
   "execution_count": 10,
   "metadata": {},
   "outputs": [
    {
     "name": "stdout",
     "output_type": "stream",
     "text": [
      "{'yourselves', 'doesn', \"hasn't\", 'wouldn', 'now', 'was', 'some', 'and', 'they', 'herself', 'its', 'both', 'by', 'until', 'me', 'what', 'against', 'again', 'm', \"hadn't\", 'those', 'each', \"doesn't\", 'such', 'itself', \"should've\", 'hasn', 'can', 'has', 'so', 'that', 'about', 'hadn', 'all', \"isn't\", 'will', 'their', 've', 'up', 'ours', 'don', 'for', \"you're\", 'is', \"you've\", 'before', 'a', 'just', 'these', 'where', 'yourself', 'the', 'him', \"you'd\", 'does', 'few', 'mightn', \"don't\", \"it's\", 'won', 'you', 'no', 'on', 'more', 'aren', 'at', 'into', 's', 'mustn', \"needn't\", 'this', 'ourselves', 'needn', 'i', 'who', 't', \"wasn't\", 'but', 'there', 'when', 'she', 'isn', 'why', 'o', 'to', \"you'll\", 'himself', 'with', 'ma', \"weren't\", 'ain', 'any', 'here', 'couldn', 'be', 'hers', 'it', 'were', 'own', 'd', 'haven', \"won't\", 'theirs', 'above', 'of', 'did', 'my', 'do', 'further', 'other', 'shan', 'same', 'off', 'then', 'under', 'between', \"mustn't\", 'after', 'while', 'shouldn', 'once', 'your', \"haven't\", 'in', 'or', 'than', \"shan't\", \"aren't\", 'am', \"couldn't\", 'we', 'below', 'most', 'very', 'how', 'having', \"she's\", 'themselves', 'over', 'as', 'through', 'his', 'should', 'nor', \"wouldn't\", 'down', 'which', 'because', 'weren', 'have', 'y', 'out', 'doing', 'didn', \"mightn't\", 'he', 'during', 'yours', 'them', 'her', 'll', 'myself', 'had', \"that'll\", 'not', 'being', 'an', \"didn't\", 'from', 'been', 'only', 'whom', 'our', 'if', \"shouldn't\", 'wasn', 're', 'are', 'too'}\n",
      "\n",
      " length of stopwords set 179\n",
      "************************************\n",
      "tasti\n"
     ]
    }
   ],
   "source": [
    "# Tutorial about Python regular expressions: https://pymotw.com/2/re/\n",
    "# nltk - Natural Language Processing Toolkit\n",
    "# re - regular expression\n",
    "import re\n",
    "import string\n",
    "from nltk.corpus import stopwords\n",
    "from nltk.stem import PorterStemmer\n",
    "from nltk.stem.wordnet import WordNetLemmatizer\n",
    "\n",
    "#prints all the set of stopwords in english\n",
    "stop = set(stopwords.words('english')) \n",
    "sno = nltk.stem.SnowballStemmer('english') #initialising the snowball stemmer, created a variable sno\n",
    "\n",
    "# function to clean the word of any html-tags and replaces the sentence in angular braces <-----> with one space ' '\n",
    "def cleanhtml(sentence): \n",
    "    cleanr = re.compile('<.*?>')\n",
    "    cleantext = re.sub(cleanr, ' ', sentence) # sub-substitute\n",
    "    return cleantext\n",
    "#function to clean the word of any punctuation or special characters\n",
    "def cleanpunc(sentence): \n",
    "    cleaned = re.sub(r'[?|!|\\'|\"|#]',r'',sentence) #replace with empty string\n",
    "    cleaned = re.sub(r'[.|,|)|(|\\|/]',r' ',cleaned)\n",
    "    return  cleaned\n",
    "print(stop)\n",
    "print('\\n','length of stopwords set' , len(stop))\n",
    "print('************************************')\n",
    "# Stemming - Converting the words into their base word or stem word or root word\n",
    "print(sno.stem('tasty'))"
   ]
  },
  {
   "cell_type": "code",
   "execution_count": 11,
   "metadata": {},
   "outputs": [],
   "source": [
    "# step-by-step code to perform all pre-processing steps and to clean the text data\n",
    "\n",
    "i=0\n",
    "str1=' '\n",
    "final_string=[]  # creating final string which is list of final strings after all the processing\n",
    "all_positive_words=[] # store words from +ve reviews here\n",
    "all_negative_words=[] # store words from -ve reviews here.\n",
    "s=''\n",
    "for sentence in final_data['Text'].values:\n",
    "    filtered_sentence=[]\n",
    "    #print(sent); \n",
    "    sentence=cleanhtml(sentence) # remove HTMl tags\n",
    "    for w in sentence.split():  # splitting the words\n",
    "        for cleaned_words in cleanpunc(w).split():  # cleaning the punctuation for each word\n",
    "            if((cleaned_words.isalpha()) & (len(cleaned_words)>2)):  # checking if the words are alphanumeri and len is >2\n",
    "                if(cleaned_words.lower() not in stop):  # converting words into lowercase and removing stopwords\n",
    "                    s=(sno.stem(cleaned_words.lower())).encode('utf8')  # performing stemming on the words\n",
    "                    filtered_sentence.append(s)  # after all the above processing steps, final sentence is stored in this\n",
    "                    if (final_data['Score'].values)[i] == 'positive': \n",
    "                        all_positive_words.append(s) #list of all  positive words \n",
    "                    if(final_data['Score'].values)[i] == 'negative':\n",
    "                        all_negative_words.append(s) #list of all negative words\n",
    "                else:\n",
    "                    continue\n",
    "            else:\n",
    "                continue \n",
    "    #print(filtered_sentence)\n",
    "    str1 = b\" \".join(filtered_sentence) # joining the filtered sentence to construct the final string of cleaned words\n",
    "    #print(\"***********************************************************************\")\n",
    "\n",
    "    final_string.append(str1)\n",
    "    i+=1\n"
   ]
  },
  {
   "cell_type": "code",
   "execution_count": 12,
   "metadata": {},
   "outputs": [],
   "source": [
    "# store final_data table into an SQlLite table for future.\n",
    "conn = sqlite3.connect('final_data.sqlite')\n",
    "c=conn.cursor()\n",
    "conn.text_factory = str\n",
    "final_data.to_sql('Reviews', conn,  schema=None, if_exists='replace', index=True, index_label=None, chunksize=None, dtype=None)\n"
   ]
  },
  {
   "cell_type": "code",
   "execution_count": 13,
   "metadata": {},
   "outputs": [
    {
     "data": {
      "text/html": [
       "<div>\n",
       "<style scoped>\n",
       "    .dataframe tbody tr th:only-of-type {\n",
       "        vertical-align: middle;\n",
       "    }\n",
       "\n",
       "    .dataframe tbody tr th {\n",
       "        vertical-align: top;\n",
       "    }\n",
       "\n",
       "    .dataframe thead th {\n",
       "        text-align: right;\n",
       "    }\n",
       "</style>\n",
       "<table border=\"1\" class=\"dataframe\">\n",
       "  <thead>\n",
       "    <tr style=\"text-align: right;\">\n",
       "      <th></th>\n",
       "      <th>Id</th>\n",
       "      <th>ProductId</th>\n",
       "      <th>UserId</th>\n",
       "      <th>ProfileName</th>\n",
       "      <th>HelpfulnessNumerator</th>\n",
       "      <th>HelpfulnessDenominator</th>\n",
       "      <th>Score</th>\n",
       "      <th>Time</th>\n",
       "      <th>Summary</th>\n",
       "      <th>Text</th>\n",
       "      <th>CleanedText</th>\n",
       "    </tr>\n",
       "  </thead>\n",
       "  <tbody>\n",
       "    <tr>\n",
       "      <th>138706</th>\n",
       "      <td>150524</td>\n",
       "      <td>0006641040</td>\n",
       "      <td>ACITT7DI6IDDL</td>\n",
       "      <td>shari zychinski</td>\n",
       "      <td>0</td>\n",
       "      <td>0</td>\n",
       "      <td>positive</td>\n",
       "      <td>939340800</td>\n",
       "      <td>EVERY book is educational</td>\n",
       "      <td>this witty little book makes my son laugh at l...</td>\n",
       "      <td>witti littl book make son laugh loud recit car...</td>\n",
       "    </tr>\n",
       "    <tr>\n",
       "      <th>138688</th>\n",
       "      <td>150506</td>\n",
       "      <td>0006641040</td>\n",
       "      <td>A2IW4PEEKO2R0U</td>\n",
       "      <td>Tracy</td>\n",
       "      <td>1</td>\n",
       "      <td>1</td>\n",
       "      <td>positive</td>\n",
       "      <td>1194739200</td>\n",
       "      <td>Love the book, miss the hard cover version</td>\n",
       "      <td>I grew up reading these Sendak books, and watc...</td>\n",
       "      <td>grew read sendak book watch realli rosi movi i...</td>\n",
       "    </tr>\n",
       "    <tr>\n",
       "      <th>138689</th>\n",
       "      <td>150507</td>\n",
       "      <td>0006641040</td>\n",
       "      <td>A1S4A3IQ2MU7V4</td>\n",
       "      <td>sally sue \"sally sue\"</td>\n",
       "      <td>1</td>\n",
       "      <td>1</td>\n",
       "      <td>positive</td>\n",
       "      <td>1191456000</td>\n",
       "      <td>chicken soup with rice months</td>\n",
       "      <td>This is a fun way for children to learn their ...</td>\n",
       "      <td>fun way children learn month year learn poem t...</td>\n",
       "    </tr>\n",
       "  </tbody>\n",
       "</table>\n",
       "</div>"
      ],
      "text/plain": [
       "            Id   ProductId          UserId            ProfileName  \\\n",
       "138706  150524  0006641040   ACITT7DI6IDDL        shari zychinski   \n",
       "138688  150506  0006641040  A2IW4PEEKO2R0U                  Tracy   \n",
       "138689  150507  0006641040  A1S4A3IQ2MU7V4  sally sue \"sally sue\"   \n",
       "\n",
       "        HelpfulnessNumerator  HelpfulnessDenominator     Score        Time  \\\n",
       "138706                     0                       0  positive   939340800   \n",
       "138688                     1                       1  positive  1194739200   \n",
       "138689                     1                       1  positive  1191456000   \n",
       "\n",
       "                                           Summary  \\\n",
       "138706                   EVERY book is educational   \n",
       "138688  Love the book, miss the hard cover version   \n",
       "138689               chicken soup with rice months   \n",
       "\n",
       "                                                     Text  \\\n",
       "138706  this witty little book makes my son laugh at l...   \n",
       "138688  I grew up reading these Sendak books, and watc...   \n",
       "138689  This is a fun way for children to learn their ...   \n",
       "\n",
       "                                              CleanedText  \n",
       "138706  witti littl book make son laugh loud recit car...  \n",
       "138688  grew read sendak book watch realli rosi movi i...  \n",
       "138689  fun way children learn month year learn poem t...  "
      ]
     },
     "execution_count": 13,
     "metadata": {},
     "output_type": "execute_result"
    }
   ],
   "source": [
    "#adding a column of CleanedText and storing all the strings of every review obtained after pre-processing steps\n",
    "final_data['CleanedText']=final_string \n",
    "final_data['CleanedText']=final_data['CleanedText'].str.decode(\"utf-8\")\n",
    "final_data.shape\n",
    "final_data.head(3)"
   ]
  },
  {
   "cell_type": "code",
   "execution_count": 14,
   "metadata": {},
   "outputs": [
    {
     "name": "stdout",
     "output_type": "stream",
     "text": [
      "positive    307061\n",
      "negative     57110\n",
      "Name: Score, dtype: int64\n"
     ]
    }
   ],
   "source": [
    "print(final_data['Score'].value_counts())"
   ]
  },
  {
   "cell_type": "markdown",
   "metadata": {},
   "source": [
    "# 4. Sample the data from the Dataset"
   ]
  },
  {
   "cell_type": "code",
   "execution_count": 15,
   "metadata": {},
   "outputs": [
    {
     "data": {
      "text/plain": [
       "(100000, 11)"
      ]
     },
     "execution_count": 15,
     "metadata": {},
     "output_type": "execute_result"
    }
   ],
   "source": [
    "# Taking equal sample of negative and positive reviews each 50000, total 100,000 datapoints\n",
    "positive_pts = final_data[final_data['Score'] == 'positive'].sample(n=50000)\n",
    "negative_pts = final_data[final_data['Score'] == 'negative'].sample(n=50000)\n",
    "\n",
    "# Concatenating both positive and negative points\n",
    "total_score = pd.concat([positive_pts, negative_pts])\n",
    "total_score.shape\n"
   ]
  },
  {
   "cell_type": "markdown",
   "metadata": {},
   "source": [
    "## [4.1] Time Based Splitting\n",
    "\n",
    "Generally we do random splitting of entire dataset into train, test, cross validate data. With this method we may not get correct accuracy everytime. With time products change and reviews for the product also change, hence with random splitting we may not get best value/accuracy.\n",
    "\n",
    "But for Amazon Food Reviews Dataset Time based splitting is better than Random splittng. We can perform Time based splitting only when we have time feature in our dataset. Train data is used to find Nearest Neighbours, Cross Validate data is used to find best 'K' and Test data is used to find accuracy and we train a model on all these.\n",
    "\n",
    "So Time based splitting gives more accuracy than random splitting, even on the future data when data changes with time. It's preferable to do Time based splitting when time is available.\n",
    "\n",
    "1. For each review in the dataset there is a timestamp. In Time based splitting, we first sort all the data in the dataset in increasing order(ascending) of time.\n",
    "2. Now split 70% of data into Train data and remaining 30% of data into test data.\n"
   ]
  },
  {
   "cell_type": "code",
   "execution_count": 16,
   "metadata": {},
   "outputs": [],
   "source": [
    "# sorting data using time\n",
    "total_score['Time'] = pd.to_datetime(total_score['Time'])\n",
    "total_score = total_score.sort_values(by = 'Time', ascending = True)"
   ]
  },
  {
   "cell_type": "code",
   "execution_count": 17,
   "metadata": {},
   "outputs": [
    {
     "data": {
      "text/html": [
       "<div>\n",
       "<style scoped>\n",
       "    .dataframe tbody tr th:only-of-type {\n",
       "        vertical-align: middle;\n",
       "    }\n",
       "\n",
       "    .dataframe tbody tr th {\n",
       "        vertical-align: top;\n",
       "    }\n",
       "\n",
       "    .dataframe thead th {\n",
       "        text-align: right;\n",
       "    }\n",
       "</style>\n",
       "<table border=\"1\" class=\"dataframe\">\n",
       "  <thead>\n",
       "    <tr style=\"text-align: right;\">\n",
       "      <th></th>\n",
       "      <th>Id</th>\n",
       "      <th>ProductId</th>\n",
       "      <th>UserId</th>\n",
       "      <th>ProfileName</th>\n",
       "      <th>HelpfulnessNumerator</th>\n",
       "      <th>HelpfulnessDenominator</th>\n",
       "      <th>Score</th>\n",
       "      <th>Time</th>\n",
       "      <th>Summary</th>\n",
       "      <th>Text</th>\n",
       "      <th>CleanedText</th>\n",
       "    </tr>\n",
       "  </thead>\n",
       "  <tbody>\n",
       "    <tr>\n",
       "      <th>138683</th>\n",
       "      <td>150501</td>\n",
       "      <td>0006641040</td>\n",
       "      <td>AJ46FKXOVC7NR</td>\n",
       "      <td>Nicholas A Mesiano</td>\n",
       "      <td>2</td>\n",
       "      <td>2</td>\n",
       "      <td>positive</td>\n",
       "      <td>1970-01-01 00:00:00.940809600</td>\n",
       "      <td>This whole series is great way to spend time w...</td>\n",
       "      <td>I can remember seeing the show when it aired o...</td>\n",
       "      <td>rememb see show air televis year ago child sis...</td>\n",
       "    </tr>\n",
       "    <tr>\n",
       "      <th>417839</th>\n",
       "      <td>451856</td>\n",
       "      <td>B00004CXX9</td>\n",
       "      <td>AIUWLEQ1ADEG5</td>\n",
       "      <td>Elizabeth Medina</td>\n",
       "      <td>0</td>\n",
       "      <td>0</td>\n",
       "      <td>positive</td>\n",
       "      <td>1970-01-01 00:00:00.944092800</td>\n",
       "      <td>Entertainingl Funny!</td>\n",
       "      <td>Beetlejuice is a well written movie ..... ever...</td>\n",
       "      <td>beetlejuic well written movi everyth excel act...</td>\n",
       "    </tr>\n",
       "    <tr>\n",
       "      <th>346041</th>\n",
       "      <td>374343</td>\n",
       "      <td>B00004CI84</td>\n",
       "      <td>A1B2IZU1JLZA6</td>\n",
       "      <td>Wes</td>\n",
       "      <td>19</td>\n",
       "      <td>23</td>\n",
       "      <td>negative</td>\n",
       "      <td>1970-01-01 00:00:00.948240000</td>\n",
       "      <td>WARNING: CLAMSHELL EDITION IS EDITED TV VERSION</td>\n",
       "      <td>I, myself always enjoyed this movie, it's very...</td>\n",
       "      <td>alway enjoy movi funni entertain didnt hesit p...</td>\n",
       "    </tr>\n",
       "    <tr>\n",
       "      <th>346141</th>\n",
       "      <td>374450</td>\n",
       "      <td>B00004CI84</td>\n",
       "      <td>ACJR7EQF9S6FP</td>\n",
       "      <td>Jeremy Robertson</td>\n",
       "      <td>2</td>\n",
       "      <td>3</td>\n",
       "      <td>positive</td>\n",
       "      <td>1970-01-01 00:00:00.951523200</td>\n",
       "      <td>Bettlejuice...Bettlejuice...BETTLEJUICE!</td>\n",
       "      <td>What happens when you say his name three times...</td>\n",
       "      <td>happen say name three time michael keaten star...</td>\n",
       "    </tr>\n",
       "    <tr>\n",
       "      <th>346094</th>\n",
       "      <td>374400</td>\n",
       "      <td>B00004CI84</td>\n",
       "      <td>A2DEE7F9XKP3ZR</td>\n",
       "      <td>jerome</td>\n",
       "      <td>0</td>\n",
       "      <td>3</td>\n",
       "      <td>positive</td>\n",
       "      <td>1970-01-01 00:00:00.959990400</td>\n",
       "      <td>Research - Beatlejuice video - French version</td>\n",
       "      <td>I'm getting crazy.I'm looking for Beatlejuice ...</td>\n",
       "      <td>get crazi look beatlejuic french version video...</td>\n",
       "    </tr>\n",
       "  </tbody>\n",
       "</table>\n",
       "</div>"
      ],
      "text/plain": [
       "            Id   ProductId          UserId         ProfileName  \\\n",
       "138683  150501  0006641040   AJ46FKXOVC7NR  Nicholas A Mesiano   \n",
       "417839  451856  B00004CXX9   AIUWLEQ1ADEG5    Elizabeth Medina   \n",
       "346041  374343  B00004CI84   A1B2IZU1JLZA6                 Wes   \n",
       "346141  374450  B00004CI84   ACJR7EQF9S6FP    Jeremy Robertson   \n",
       "346094  374400  B00004CI84  A2DEE7F9XKP3ZR              jerome   \n",
       "\n",
       "        HelpfulnessNumerator  HelpfulnessDenominator     Score  \\\n",
       "138683                     2                       2  positive   \n",
       "417839                     0                       0  positive   \n",
       "346041                    19                      23  negative   \n",
       "346141                     2                       3  positive   \n",
       "346094                     0                       3  positive   \n",
       "\n",
       "                                Time  \\\n",
       "138683 1970-01-01 00:00:00.940809600   \n",
       "417839 1970-01-01 00:00:00.944092800   \n",
       "346041 1970-01-01 00:00:00.948240000   \n",
       "346141 1970-01-01 00:00:00.951523200   \n",
       "346094 1970-01-01 00:00:00.959990400   \n",
       "\n",
       "                                                  Summary  \\\n",
       "138683  This whole series is great way to spend time w...   \n",
       "417839                               Entertainingl Funny!   \n",
       "346041    WARNING: CLAMSHELL EDITION IS EDITED TV VERSION   \n",
       "346141           Bettlejuice...Bettlejuice...BETTLEJUICE!   \n",
       "346094      Research - Beatlejuice video - French version   \n",
       "\n",
       "                                                     Text  \\\n",
       "138683  I can remember seeing the show when it aired o...   \n",
       "417839  Beetlejuice is a well written movie ..... ever...   \n",
       "346041  I, myself always enjoyed this movie, it's very...   \n",
       "346141  What happens when you say his name three times...   \n",
       "346094  I'm getting crazy.I'm looking for Beatlejuice ...   \n",
       "\n",
       "                                              CleanedText  \n",
       "138683  rememb see show air televis year ago child sis...  \n",
       "417839  beetlejuic well written movi everyth excel act...  \n",
       "346041  alway enjoy movi funni entertain didnt hesit p...  \n",
       "346141  happen say name three time michael keaten star...  \n",
       "346094  get crazi look beatlejuic french version video...  "
      ]
     },
     "execution_count": 17,
     "metadata": {},
     "output_type": "execute_result"
    }
   ],
   "source": [
    "# display top 5 rows\n",
    "total_score.head(5)"
   ]
  },
  {
   "cell_type": "markdown",
   "metadata": {},
   "source": [
    "### Splitting data into Train and Test data"
   ]
  },
  {
   "cell_type": "code",
   "execution_count": 52,
   "metadata": {},
   "outputs": [],
   "source": [
    "# loading libraries\n",
    "\n",
    "from sklearn.cross_validation import train_test_split\n",
    "from sklearn.metrics import accuracy_score\n",
    "from sklearn.cross_validation import cross_val_score\n",
    "from collections import Counter\n",
    "from sklearn.preprocessing import StandardScaler\n",
    "from sklearn.metrics import accuracy_score\n",
    "from sklearn import cross_validation\n",
    "from sklearn.random_projection import sparse_random_matrix\n",
    "from scipy.sparse import csr_matrix\n",
    "from sklearn.naive_bayes import MultinomialNB\n",
    "from sklearn.metrics import roc_curve, auc\n",
    "from sklearn.metrics import roc_auc_score"
   ]
  },
  {
   "cell_type": "code",
   "execution_count": 19,
   "metadata": {},
   "outputs": [
    {
     "name": "stdout",
     "output_type": "stream",
     "text": [
      "X_train, Y_train (70000,) (70000,)\n",
      "X_test, Y_test (30000,) (30000,)\n"
     ]
    }
   ],
   "source": [
    "# splitting the data into train, test data\n",
    "X = total_score['CleanedText']\n",
    "Y = total_score['Score']\n",
    "# X = total data, Y = class labels, X_test and Y_test are test data set of 30%\n",
    "# Total score is splitted into Train and test data with 70-30 ratio\n",
    "\n",
    "X_train, X_test, Y_train, Y_test = train_test_split(X, Y, test_size=0.3, random_state=0)\n",
    "\n",
    "print('X_train, Y_train', X_train.shape, Y_train.shape)\n",
    "print('X_test, Y_test', X_test.shape, Y_test.shape)"
   ]
  },
  {
   "cell_type": "markdown",
   "metadata": {},
   "source": [
    "# Featurizations"
   ]
  },
  {
   "cell_type": "markdown",
   "metadata": {},
   "source": [
    "## 5. Bag of Words (BoW)\n",
    "\n",
    "\n",
    "1. It is one of the simple technique to convert text to vector.\n",
    "2. Constructs a dictionary with set of all the unique words in the reviews.\n",
    "3. Next construct a vector of size 'd' for d-unique words. Each index corresponds to one word in the dictionary.\n",
    "4. Each word is different dimension in d-dim vector and each cell in vector corresponds to number of times the corresponding word occurs in review.\n",
    "5. There are different BoW. One is Binary BoW - it says that, instead of specifying the count of number of occurances, it will specify whether the word occurs or not. This is also called boolean BoW.\n",
    "6. BoW can be said as number of differing words. BoW is applied after all the preprocessing and data cleaning steps. It just says whether a word is present or not in the text. We get set of words\n"
   ]
  },
  {
   "cell_type": "code",
   "execution_count": 43,
   "metadata": {},
   "outputs": [
    {
     "name": "stdout",
     "output_type": "stream",
     "text": [
      "the type of count vectorizer  <class 'scipy.sparse.csr.csr_matrix'>\n",
      "the type of count vectorizer  <class 'scipy.sparse.csr.csr_matrix'>\n",
      "(70000, 32479)\n",
      "(30000, 32479)\n",
      "the number of unique words are  32479\n",
      "the number of unique words are  32479\n"
     ]
    }
   ],
   "source": [
    "# BoW\n",
    "# Creating a variable count_vect of CountVectorizer type and inititalizing it.\n",
    "count_vect = CountVectorizer() #in scikit-learn\n",
    "\n",
    "# X_train and X_test data is converted vector and is stored in X_train_bow and X_test_bow\n",
    "X_train_bow = count_vect.fit_transform(X_train)\n",
    "X_test_bow = count_vect.transform(X_test)\n",
    "\n",
    "# sparse matrix - most of the values of any row in a matrix are zero.Such matrices are called sparse matrix and row in the matrix is sparse vector\n",
    "# The more sparse a matrix is, the more efficient is sparse matrix representation technique\n",
    "print(\"the type of count vectorizer \", type(X_train_bow))# gets the type of X_train_bow which is a matrix\n",
    "print(\"the type of count vectorizer \", type(X_test_bow))# gets the type of X_test_bow which is a matrix\n",
    "\n",
    "# gets the shape of the matrix\n",
    "print(X_train_bow.get_shape()) \n",
    "print(X_test_bow.get_shape()) \n",
    "\n",
    "print(\"the number of unique words are \", X_train_bow.get_shape()[1])\n",
    "print(\"the number of unique words are \", X_test_bow.get_shape()[1])\n"
   ]
  },
  {
   "cell_type": "markdown",
   "metadata": {},
   "source": [
    "### [5.1] Bayes Theorem and Naive Bayes:\n",
    "\n",
    "\n",
    "1. Bayes theorem is one of the most fundamental theorem in probability. It is simple, elegant and useful theorem. ML technique Naive Bayes is named after Bayes theorem.\n",
    "2. In Naive Bayes, Naive means conditional independence of each feature pairs, which is an assumption. It says, features are conditionally independent of each other.\n",
    "3. Naive Bayes is popular technique on text data, for text classification. In this, the train data is divided into positive and negative class and probability of each word/data point belonging to a particular is computed which are likelihoods. Once we computer likelihoods and priors, then we can achieve the task of classification of reviews into positive and negative reviews.\n",
    "4. Naive Bayes is considered as a baseline model against other models for text classification problems.\n",
    "5. 'Alpha' in Laplace smoothing determines underfit or overfit. As alpha chances we will have high bias or high variance.\n",
    "6. If 'alpha' is very large then we get underfitting problem ---> high bias and if 'alpha' is 0 then we get overfitting problem ---> high variance.\n",
    "7. We can find right 'alpha'(hyper parameter) using simple cross validation (or) 10-fold cross validation. Hyper parameters help us decide which is the right model.\n",
    "\n",
    "Naive Bayes is impacted by imbalanced data in 2 ways. 1. Priors 2. likelihood ratios in case of imbalanced data:-\n",
    "\n",
    "Because of class priors the majority class has an advantage over minority class, when we are comparing probabilities of positive and negative class, which is not correct. So to solve this problem we can do upsampling or downsampling and drop the probabilities.\n",
    "\n",
    "When we get a outlier at test time then we can perform laplace smoothing on it.\n",
    "\n",
    "If a word occurs very few times in train data which we can consider as a outlier, then one solution is, we can discard that particular word from train data. Another solution is to use laplace smoothing to the probability of that word.\n",
    "\n",
    "If the random variable distribution/likelihood probabilities takes 2 values (0 and 1) then it is called Bernoulli Naive Bayes. If the distribution of random variable is multinomial then it is called Multinomial Naive Bayes.\n",
    "\n",
    "When we assume likelihood probabilities are gaussian then it is Gaussian Naive Bayes.\n",
    "\n",
    "Conditional Independence is the big assumption Naive Bayes is making.\n",
    "\n",
    "In this assignent I am using MultinomialNB as it can be used for the features with discrete values like word counts for text classification or ratings ranging 1 to 5. In text learning we have the count of each word to predict the class or label.\n",
    "\n",
    "The multinomial distribution is an appropriate distribution for the likelihood, and thus multinomial Naive Bayes is appropriate. "
   ]
  },
  {
   "cell_type": "markdown",
   "metadata": {},
   "source": [
    "### [5.2] Performing 10-fold CV on BoW using f1-score as metric"
   ]
  },
  {
   "cell_type": "code",
   "execution_count": 45,
   "metadata": {
    "scrolled": false
   },
   "outputs": [],
   "source": [
    "# creating a list of alpha values range for hyper parameter tuning \n",
    "myList = [0.00001, 0.0001, 0.001, 0.01, 0.1, 1, 10, 100, 1000, 10000]\n",
    "scores = 0\n",
    "# empty lists that will hold cv scores and train scores\n",
    "cv_scores = []\n",
    "train_scores = []\n",
    "for i in myList:\n",
    "    naive_bayes = MultinomialNB(alpha = i)\n",
    "    # performing 10-fold cross validation on whole train data with f1_macro as metric as it calculates mean values and result\n",
    "    # is stored into scores.\n",
    "    scores = cross_val_score(naive_bayes, X_train_bow, Y_train, cv=10, scoring='f1_macro')\n",
    "    # score is same as predict. It predicts model accuracy on train data. \n",
    "    # First fit the train data or train the train data and predict accuracy using score()\n",
    "    scores_train = naive_bayes.fit(X_train_bow, Y_train).score(X_train_bow, Y_train)\n",
    "    \n",
    "    cv_scores.append(scores.mean()) # Average score of 10 folds is stored in cv_scores\n",
    "    train_scores.append(scores_train)\n",
    "    "
   ]
  },
  {
   "cell_type": "markdown",
   "metadata": {},
   "source": [
    "#### Plotting f1-score v/s Alpha values for CV and Train data"
   ]
  },
  {
   "cell_type": "code",
   "execution_count": 46,
   "metadata": {},
   "outputs": [
    {
     "name": "stdout",
     "output_type": "stream",
     "text": [
      "\n",
      "The optimal alpha is 10.\n"
     ]
    },
    {
     "data": {
      "image/png": "[encoded data removed]",
      "text/plain": [
       "<Figure size 432x288 with 1 Axes>"
      ]
     },
     "metadata": {},
     "output_type": "display_data"
    },
    {
     "name": "stdout",
     "output_type": "stream",
     "text": [
      "The CV f1-score for each alpha value is :  [0.828 0.831 0.836 0.843 0.85  0.855 0.858 0.844 0.814 0.769]\n",
      "the Train score for each alpha value is :  [0.897 0.897 0.896 0.893 0.888 0.878 0.87  0.852 0.821 0.777]\n"
     ]
    }
   ],
   "source": [
    "\n",
    "# determining best alpha with maximum CV f1-score\n",
    "optimal_alpha = myList[cv_scores.index(max(cv_scores))] \n",
    "print('\\nThe optimal alpha is %d.' % optimal_alpha)\n",
    "\n",
    "# plot f1-score vs alpha\n",
    "plt.plot(myList, cv_scores, 'r', label='CV f1_score')\n",
    "plt.plot(myList, train_scores, 'b', label='Train score')\n",
    "plt.legend(loc='upper right')\n",
    "\n",
    "for xy in zip(myList, np.round(cv_scores,3)):  # for each point (x=myList, y= mse)\n",
    "    plt.annotate('(%s, %s)' % xy, xy=xy, textcoords='data')  # annotate with (myList, mse)\n",
    "    \n",
    "for xy in zip(myList, np.round(train_scores,3)):  # for each point (x=myList, y= mse)\n",
    "    plt.annotate('(%s, %s)' % xy, xy=xy, textcoords='data')  # annotate with (myList, mse)\n",
    "    \n",
    "plt.title(\"f1_score vs Alpha values\")\n",
    "plt.xlabel('Alpha values')\n",
    "plt.ylabel('f1_score')\n",
    "plt.show()\n",
    "\n",
    "print(\"The CV f1-score for each alpha value is : \", np.round(cv_scores,3))\n",
    "\n",
    "print(\"the Train score for each alpha value is : \", np.round(train_scores,3))\n",
    "\n"
   ]
  },
  {
   "cell_type": "markdown",
   "metadata": {},
   "source": [
    "#### Observation:-\n",
    "From the above plot, we can know optimal alpha with maximum CV f1-score. As alpha = 10 has maximum f1-score of 0.858 than other alpha values, it is considered as optimal alpha.\n",
    "\n",
    "The model accuracy on Train data is high when alpha values are low. As the alpha increases, the train data accuracy falls."
   ]
  },
  {
   "cell_type": "markdown",
   "metadata": {},
   "source": [
    "### [5.3] Finding accuracy on test data using f1-score"
   ]
  },
  {
   "cell_type": "code",
   "execution_count": 47,
   "metadata": {},
   "outputs": [
    {
     "name": "stdout",
     "output_type": "stream",
     "text": [
      "\n",
      "The test f1-score of the naive bayes classifier for alpha = 10 is 85.073735%\n"
     ]
    }
   ],
   "source": [
    "# instantiate learning model i = optimal_alpha\n",
    "from sklearn.metrics import f1_score\n",
    "naive_bayes_optimal = MultinomialNB(alpha = optimal_alpha)\n",
    "\n",
    "# fitting the model\n",
    "naive_bayes_optimal.fit(X_train_bow, Y_train)\n",
    "\n",
    "# predict the response\n",
    "pred_bow = naive_bayes_optimal.predict(X_test_bow)\n",
    "\n",
    "# evaluate accuracy. Using f1_score as metric to measure accuracy\n",
    "test_f1_bow = f1_score(Y_test, pred_bow, pos_label = 'positive', average = 'binary') * float(100)\n",
    "print('\\nThe test f1-score of the naive bayes classifier for alpha = %d is %f%%' % (optimal_alpha, test_f1_bow))"
   ]
  },
  {
   "cell_type": "code",
   "execution_count": 48,
   "metadata": {},
   "outputs": [
    {
     "name": "stdout",
     "output_type": "stream",
     "text": [
      "Test Error for Naive Bayes BoW is 0.149%\n"
     ]
    }
   ],
   "source": [
    "# Finding test error\n",
    "test_error_bow = (1 - f1_score(Y_test, pred_bow, pos_label = 'positive', average = 'binary')) \n",
    "print(\"Test Error for Naive Bayes BoW is %.3f%%\" % (test_error_bow))"
   ]
  },
  {
   "cell_type": "markdown",
   "metadata": {},
   "source": [
    "### [5.4] Plotting ROC curve and finding AUC score for BoW"
   ]
  },
  {
   "cell_type": "code",
   "execution_count": 49,
   "metadata": {},
   "outputs": [
    {
     "data": {
      "image/png": "[encoded data removed]",
      "text/plain": [
       "<Figure size 432x288 with 1 Axes>"
      ]
     },
     "metadata": {},
     "output_type": "display_data"
    }
   ],
   "source": [
    "# ROC curve and AUC for BoW\n",
    "from sklearn.metrics import roc_curve, auc\n",
    "# Predicting the probabilities of test data as ROC curve needs probabilities to plot\n",
    "Y_prob = naive_bayes.fit(X_train_bow, Y_train).predict_proba(X_test_bow)\n",
    "# Giving actual values(Y_test) and predicted probabilities Y_prob\n",
    "# we need to calculate the fpr and tpr for all thresholds of the classification \n",
    "fpr, tpr, thresholds = roc_curve(Y_test, Y_prob[:, 1], pos_label = 'positive')\n",
    "# We calculate the AUC (Area Under Curve)\n",
    "roc_auc = auc(fpr, tpr)\n",
    "    \n",
    "# Plot FPR (on x-axis) v/s TPR (on y-axis)\n",
    "plt.title('Receiver Operating Characteristic')\n",
    "plt.plot(fpr, tpr, 'b', label='AUC = %0.2f'% roc_auc)\n",
    "plt.legend(loc='lower right')\n",
    "plt.plot([0,1],[0,1],'r--')\n",
    "plt.xlim([-0.1,1.2])\n",
    "plt.ylim([-0.1,1.2])\n",
    "plt.ylabel('True Positive Rate')\n",
    "plt.xlabel('False Positive Rate')\n",
    "plt.show()"
   ]
  },
  {
   "cell_type": "markdown",
   "metadata": {},
   "source": [
    "#### Observation:-\n",
    "From the ROC curve of BoW, we can know AUC score is 0.86, which shows that the classifier is working well and predicts correctly."
   ]
  },
  {
   "cell_type": "markdown",
   "metadata": {},
   "source": [
    "### [5.5] Confusion matrix for BoW"
   ]
  },
  {
   "cell_type": "code",
   "execution_count": 50,
   "metadata": {},
   "outputs": [
    {
     "name": "stdout",
     "output_type": "stream",
     "text": [
      "[[12699  2261]\n",
      " [ 2233 12807]]\n"
     ]
    }
   ],
   "source": [
    "# Using confusion matrix as a another metric to measure accuracy\n",
    "from sklearn.metrics import confusion_matrix\n",
    "cm = confusion_matrix(Y_test, pred_bow) # finding confusion matrix between true data and predicted data\n",
    "print(cm)"
   ]
  },
  {
   "cell_type": "code",
   "execution_count": 51,
   "metadata": {},
   "outputs": [
    {
     "data": {
      "image/png": "[encoded data removed]",
      "text/plain": [
       "<Figure size 432x288 with 2 Axes>"
      ]
     },
     "metadata": {},
     "output_type": "display_data"
    }
   ],
   "source": [
    "# plot confusion matrix for BoW\n",
    "class_label = [\"negative\", \"positive\"] # create a class label for columns and rows\n",
    "cm = confusion_matrix(Y_test, pred_bow) \n",
    "dataframe_cm = pd.DataFrame(cm, index = class_label, columns = class_label) # create a dataframe to plot confusion matrix\n",
    "# A heatmap is a two-dimensional graphical representation of data in seaborn,\n",
    "# where the individual values in a matrix are represented with colors.\n",
    "sns.heatmap(dataframe_cm, annot = True, fmt = \"d\") # annot=true means, write the data value in each cell\n",
    "plt.title(\"Confusion Matrix for BoW\")\n",
    "plt.xlabel(\"Predicted Label\")\n",
    "plt.ylabel(\"True Label\")\n",
    "plt.show()"
   ]
  },
  {
   "cell_type": "markdown",
   "metadata": {},
   "source": [
    "#### Observations:-\n",
    "\n",
    "A Confusion matrix is a table that is often used to describe the performance of the classification model on a set of test data. It is also one of the metric to measure accuracy of the model.\n",
    "\n",
    "A confusion matrix is a summary of prediction results on a classification problem. The number of correct and incorrect predictions are summarized with count values and broken down by each class. The confusion matrix shows how the classification model is confused when it makes predictions.\n",
    "\n",
    "The above confusion matrix is didvided into 2 classes positive and negative with True values and predicted values.\n",
    "\n",
    "1.  TN - 12699 , FP - 2261\n",
    "\n",
    "    FN - 2233  , TP - 12807\n",
    "\n",
    "    where\n",
    "\n",
    "2. TN - True negative, True value is negative, and is predicted value is negative. \n",
    "3. FP - False positive, True value is negative, but is predicted as positive. \n",
    "4. FN - False negative, True value is positive, but is predicted as negative \n",
    "5. TP - True positive, True value is positive, and is predicted value is positive.\n",
    "\n",
    "\n",
    "6. There are total of 30000 points being tested against the model. Out of all values, the classifier/model predicted points as positive 15,068 times and negative 14,932 times.\n",
    "7. But in true values(test data), the positive points are 15,040 and negative points are 14,960.\n",
    "8. The diagonal values (12699 negative points, 12807 positive points) in the confusion matrix are correctly predicted values by the classifier."
   ]
  },
  {
   "cell_type": "markdown",
   "metadata": {},
   "source": [
    "#### Finding TPR, FPR, TNR, FNR values\n",
    "\n",
    "1. TPR tells, when it's actually yes and how often does classifier predict yes\n",
    "\n",
    "   TPR = TP/(TP+FN) = 12807/15040 = 0.8515. TPR also known as Recall\n",
    "\n",
    "\n",
    "2. FPR tells, when it's actually no, how often does classifier predict yes\n",
    "\n",
    "   FPR = FP/(FP+TN) = 2261/14960 = 0.1511\n",
    "\n",
    "\n",
    "3. TNR tells, when it's actually no, how often does classifier predict no\n",
    "\n",
    "   TNR = TN/(TN+FP) = 12699/14960 = 0.8488\n",
    "\n",
    "\n",
    "4. FNR tells, When it's actually yes, how often does it predict no\n",
    "\n",
    "   FNR = FN/(FN+TP) = 2233/15040 = 0.1484"
   ]
  },
  {
   "cell_type": "markdown",
   "metadata": {},
   "source": [
    "### [5.6] Classification report for BoW:-\n",
    "\n",
    "\n",
    "\n",
    "1.  Classification Rate/Accuracy:\n",
    "\n",
    "    Accuracy = (TP + TN) / (TP + TN + FP + FN)\n",
    "\n",
    "\n",
    "2.  Recall:- It tells, when the points are positive and how often they are predicted positive.\n",
    "\n",
    "    Recall = TP / (TP + FN)\n",
    "\n",
    "\n",
    "3.  Precision:- It tells, when the model predicted positive and how often is it correct.\n",
    "\n",
    "    Precision = TP / (TP + FP)\n",
    "\n",
    "\n",
    "4.  f1-score = (2 Recall Precision) / (Recall + Presision)\n",
    "\n",
    "    Support is the total number of points in each class (positive and negative)\n"
   ]
  },
  {
   "cell_type": "code",
   "execution_count": 53,
   "metadata": {},
   "outputs": [
    {
     "name": "stdout",
     "output_type": "stream",
     "text": [
      "Accuracy Score: 0.8502\n",
      "Report:\n",
      "             precision    recall  f1-score   support\n",
      "\n",
      "   negative       0.85      0.85      0.85     14960\n",
      "   positive       0.85      0.85      0.85     15040\n",
      "\n",
      "avg / total       0.85      0.85      0.85     30000\n",
      "\n"
     ]
    }
   ],
   "source": [
    "# calculate the classification report for BoW\n",
    "from sklearn.metrics import classification_report \n",
    " \n",
    "print('Accuracy Score:', accuracy_score(Y_test, pred_bow)) \n",
    "print('Report:')\n",
    "print(classification_report(Y_test, pred_bow)) \n"
   ]
  },
  {
   "cell_type": "markdown",
   "metadata": {},
   "source": [
    "#### Observation:-\n",
    "In case of BoW Naive Bayes, accuracy, f1-score, precision all gave same score of 85% accuracy for alpha = 10. "
   ]
  },
  {
   "cell_type": "markdown",
   "metadata": {},
   "source": [
    "### [5.7] Feature Importance for BoW\n",
    "\n",
    "To find feature Importance, first sort all the words based on its probability score, where top words have more probability of its occurance, that means it occurs lot of times and so its probability is high. So we can say that, words which have highest probability are very informative/useful/important words or features in determining that data point/word Wi belongs to a particular class (positve or negative).\n",
    "\n",
    "So for positive class or negative class, we have to find words with highest value of probabilities, as they are most informative/important features or words for determining whether the text/sentence belongs to positive class or negative class.\n",
    "\n",
    "In Naive Bayes we can get feature importance directly from the model."
   ]
  },
  {
   "cell_type": "code",
   "execution_count": 54,
   "metadata": {},
   "outputs": [],
   "source": [
    "features = count_vect.get_feature_names()\n",
    "# creating a dataframe \n",
    "df = pd.DataFrame(naive_bayes.feature_log_prob_,columns=features)\n",
    "df_transposed = df.T"
   ]
  },
  {
   "cell_type": "code",
   "execution_count": 55,
   "metadata": {},
   "outputs": [],
   "source": [
    "bow_pos_features = df_transposed[1].sort_values(ascending = False)[0:10] # Positive\n",
    "bow_neg_features = df_transposed[0].sort_values(ascending = False)[0:10] # Negative\n"
   ]
  },
  {
   "cell_type": "code",
   "execution_count": 56,
   "metadata": {},
   "outputs": [
    {
     "data": {
      "text/plain": [
       "like      -9.436979\n",
       "tast      -9.498941\n",
       "good      -9.578288\n",
       "flavor    -9.580995\n",
       "love      -9.601731\n",
       "use       -9.605639\n",
       "great     -9.618470\n",
       "one       -9.647386\n",
       "product   -9.677456\n",
       "tri       -9.694080\n",
       "Name: 1, dtype: float64"
      ]
     },
     "execution_count": 56,
     "metadata": {},
     "output_type": "execute_result"
    }
   ],
   "source": [
    "# Top 10 positive features\n",
    "bow_pos_features"
   ]
  },
  {
   "cell_type": "code",
   "execution_count": 57,
   "metadata": {},
   "outputs": [
    {
     "data": {
      "text/plain": [
       "tast      -9.250977\n",
       "like      -9.297570\n",
       "product   -9.389721\n",
       "one       -9.585631\n",
       "flavor    -9.599060\n",
       "would     -9.643013\n",
       "tri       -9.663731\n",
       "use       -9.729573\n",
       "good      -9.738214\n",
       "coffe     -9.743477\n",
       "Name: 0, dtype: float64"
      ]
     },
     "execution_count": 57,
     "metadata": {},
     "output_type": "execute_result"
    }
   ],
   "source": [
    "# Top 10 negative features\n",
    "bow_neg_features"
   ]
  },
  {
   "cell_type": "markdown",
   "metadata": {},
   "source": [
    "## 6. TF-IDF"
   ]
  },
  {
   "cell_type": "code",
   "execution_count": 58,
   "metadata": {},
   "outputs": [
    {
     "name": "stdout",
     "output_type": "stream",
     "text": [
      "the type of TFIDF vectorizer  <class 'scipy.sparse.csr.csr_matrix'>\n",
      "the type of TFIDF vectorizer  <class 'scipy.sparse.csr.csr_matrix'>\n",
      "(70000, 1028526)\n",
      "(30000, 1028526)\n",
      "the number of unique words  1028526\n",
      "the number of unique words  1028526\n"
     ]
    }
   ],
   "source": [
    "# TF-IDF\n",
    "# in Scikit-learn\n",
    "# tf_idf_vect is a variable created \n",
    "tf_idf_vect = TfidfVectorizer(ngram_range=(1,2)) # 1=unigrams, 2=bi-grams\n",
    "\n",
    "# 'final_tf_idf' is the sparse matrix in which all of the tf-idf values are stored. \n",
    "# fit_transform is a function\n",
    "X_train_tfidf = tf_idf_vect.fit_transform(X_train)\n",
    "X_test_tfidf = tf_idf_vect.transform(X_test)\n",
    "\n",
    "print(\"the type of TFIDF vectorizer \",type(X_train_tfidf))\n",
    "print(\"the type of TFIDF vectorizer \",type(X_test_tfidf))\n",
    "\n",
    "print(X_train_tfidf.get_shape())\n",
    "print(X_test_tfidf.get_shape())\n",
    "\n",
    "print(\"the number of unique words \", X_train_tfidf.get_shape()[1])\n",
    "print(\"the number of unique words \", X_test_tfidf.get_shape()[1])\n"
   ]
  },
  {
   "cell_type": "code",
   "execution_count": 59,
   "metadata": {},
   "outputs": [
    {
     "data": {
      "text/plain": [
       "1028526"
      ]
     },
     "execution_count": 59,
     "metadata": {},
     "output_type": "execute_result"
    }
   ],
   "source": [
    "# get_feature_names() function is used to get feature names and all are stored in a variable called 'features'\n",
    "features = tf_idf_vect.get_feature_names()\n",
    "len(features)"
   ]
  },
  {
   "cell_type": "code",
   "execution_count": 60,
   "metadata": {},
   "outputs": [
    {
     "name": "stdout",
     "output_type": "stream",
     "text": [
      "some sample features(unique words in the corpus) are:\n"
     ]
    },
    {
     "data": {
      "text/plain": [
       "['attach review',\n",
       " 'attach round',\n",
       " 'attach screw',\n",
       " 'attach second',\n",
       " 'attach secur',\n",
       " 'attach ship',\n",
       " 'attach slide',\n",
       " 'attach sometim',\n",
       " 'attach spout',\n",
       " 'attach spray']"
      ]
     },
     "execution_count": 60,
     "metadata": {},
     "output_type": "execute_result"
    }
   ],
   "source": [
    "print(\"some sample features(unique words in the corpus) are:\")\n",
    "features[50000:50010]"
   ]
  },
  {
   "cell_type": "code",
   "execution_count": 61,
   "metadata": {},
   "outputs": [],
   "source": [
    "def top_tfidf_feats(row, features, top_n=20):\n",
    "    ''' Get top n tfidf values in row and return them with their corresponding feature names.'''\n",
    "    topn_ids = np.argsort(row)[::-1][:top_n]   # argsort sorts the top 20 tf-idf words for a given review\n",
    "    top_feats = [(features[i], row[i]) for i in topn_ids]\n",
    "    df = pd.DataFrame(top_feats)\n",
    "    df.columns = ['feature', 'tfidf']\n",
    "    return df\n",
    "\n",
    "# vector 1 corresponding to review 1 and converting it into a numpy array and giving all feature values and prints the top 20 tf-idf values\n",
    "top_tfidf = top_tfidf_feats(X_train_tfidf[1,:].toarray()[0],features,20)"
   ]
  },
  {
   "cell_type": "code",
   "execution_count": 62,
   "metadata": {},
   "outputs": [
    {
     "data": {
      "text/html": [
       "<div>\n",
       "<style scoped>\n",
       "    .dataframe tbody tr th:only-of-type {\n",
       "        vertical-align: middle;\n",
       "    }\n",
       "\n",
       "    .dataframe tbody tr th {\n",
       "        vertical-align: top;\n",
       "    }\n",
       "\n",
       "    .dataframe thead th {\n",
       "        text-align: right;\n",
       "    }\n",
       "</style>\n",
       "<table border=\"1\" class=\"dataframe\">\n",
       "  <thead>\n",
       "    <tr style=\"text-align: right;\">\n",
       "      <th></th>\n",
       "      <th>feature</th>\n",
       "      <th>tfidf</th>\n",
       "    </tr>\n",
       "  </thead>\n",
       "  <tbody>\n",
       "    <tr>\n",
       "      <th>0</th>\n",
       "      <td>clearanc shelv</td>\n",
       "      <td>0.211443</td>\n",
       "    </tr>\n",
       "    <tr>\n",
       "      <th>1</th>\n",
       "      <td>your black</td>\n",
       "      <td>0.211443</td>\n",
       "    </tr>\n",
       "    <tr>\n",
       "      <th>2</th>\n",
       "      <td>packag target</td>\n",
       "      <td>0.211443</td>\n",
       "    </tr>\n",
       "    <tr>\n",
       "      <th>3</th>\n",
       "      <td>target clearanc</td>\n",
       "      <td>0.211443</td>\n",
       "    </tr>\n",
       "    <tr>\n",
       "      <th>4</th>\n",
       "      <td>also stock</td>\n",
       "      <td>0.211443</td>\n",
       "    </tr>\n",
       "    <tr>\n",
       "      <th>5</th>\n",
       "      <td>real british</td>\n",
       "      <td>0.203964</td>\n",
       "    </tr>\n",
       "    <tr>\n",
       "      <th>6</th>\n",
       "      <td>shelv glad</td>\n",
       "      <td>0.203964</td>\n",
       "    </tr>\n",
       "    <tr>\n",
       "      <th>7</th>\n",
       "      <td>british way</td>\n",
       "      <td>0.203964</td>\n",
       "    </tr>\n",
       "    <tr>\n",
       "      <th>8</th>\n",
       "      <td>drinker stuff</td>\n",
       "      <td>0.203964</td>\n",
       "    </tr>\n",
       "    <tr>\n",
       "      <th>9</th>\n",
       "      <td>stock tea</td>\n",
       "      <td>0.198658</td>\n",
       "    </tr>\n",
       "    <tr>\n",
       "      <th>10</th>\n",
       "      <td>strong perfect</td>\n",
       "      <td>0.185872</td>\n",
       "    </tr>\n",
       "    <tr>\n",
       "      <th>11</th>\n",
       "      <td>milk real</td>\n",
       "      <td>0.185872</td>\n",
       "    </tr>\n",
       "    <tr>\n",
       "      <th>12</th>\n",
       "      <td>got everi</td>\n",
       "      <td>0.183700</td>\n",
       "    </tr>\n",
       "    <tr>\n",
       "      <th>13</th>\n",
       "      <td>last packag</td>\n",
       "      <td>0.183700</td>\n",
       "    </tr>\n",
       "    <tr>\n",
       "      <th>14</th>\n",
       "      <td>get got</td>\n",
       "      <td>0.176917</td>\n",
       "    </tr>\n",
       "    <tr>\n",
       "      <th>15</th>\n",
       "      <td>perfect drink</td>\n",
       "      <td>0.175550</td>\n",
       "    </tr>\n",
       "    <tr>\n",
       "      <th>16</th>\n",
       "      <td>clearanc</td>\n",
       "      <td>0.163435</td>\n",
       "    </tr>\n",
       "    <tr>\n",
       "      <th>17</th>\n",
       "      <td>everi last</td>\n",
       "      <td>0.160887</td>\n",
       "    </tr>\n",
       "    <tr>\n",
       "      <th>18</th>\n",
       "      <td>stuff get</td>\n",
       "      <td>0.154427</td>\n",
       "    </tr>\n",
       "    <tr>\n",
       "      <th>19</th>\n",
       "      <td>drink milk</td>\n",
       "      <td>0.154427</td>\n",
       "    </tr>\n",
       "  </tbody>\n",
       "</table>\n",
       "</div>"
      ],
      "text/plain": [
       "            feature     tfidf\n",
       "0    clearanc shelv  0.211443\n",
       "1        your black  0.211443\n",
       "2     packag target  0.211443\n",
       "3   target clearanc  0.211443\n",
       "4        also stock  0.211443\n",
       "5      real british  0.203964\n",
       "6        shelv glad  0.203964\n",
       "7       british way  0.203964\n",
       "8     drinker stuff  0.203964\n",
       "9         stock tea  0.198658\n",
       "10   strong perfect  0.185872\n",
       "11        milk real  0.185872\n",
       "12        got everi  0.183700\n",
       "13      last packag  0.183700\n",
       "14          get got  0.176917\n",
       "15    perfect drink  0.175550\n",
       "16         clearanc  0.163435\n",
       "17       everi last  0.160887\n",
       "18        stuff get  0.154427\n",
       "19       drink milk  0.154427"
      ]
     },
     "execution_count": 62,
     "metadata": {},
     "output_type": "execute_result"
    }
   ],
   "source": [
    "top_tfidf"
   ]
  },
  {
   "cell_type": "markdown",
   "metadata": {},
   "source": [
    "### [6.1] Performing 10-fold CV on TF-IDF using f1-score as metric"
   ]
  },
  {
   "cell_type": "code",
   "execution_count": 66,
   "metadata": {},
   "outputs": [],
   "source": [
    "# creating a list of alpha values range for hyper parameter tuning \n",
    "myList = [0.00001, 0.0001, 0.001, 0.01, 0.1, 1, 10, 100, 1000, 10000]\n",
    "scores = 0\n",
    "# empty lists that will hold cv scores and train scores\n",
    "cv_scores = []\n",
    "train_scores = []\n",
    "for i in myList:\n",
    "    naive_bayes = MultinomialNB(alpha = i)\n",
    "    # performing 10-fold cross validation on whole train data with f1_macro as metric as it calculates mean values and result\n",
    "    # is stored into scores.\n",
    "    scores = cross_val_score(naive_bayes, X_train_tfidf, Y_train, cv=10, scoring='f1_macro')\n",
    "    # score is same as predict. It predicts model accuracy on train data. \n",
    "    # First fit the train data or train the train data and predict accuracy using score()\n",
    "    scores_train = naive_bayes.fit(X_train_tfidf, Y_train).score(X_train_tfidf, Y_train)\n",
    "    \n",
    "    cv_scores.append(scores.mean()) # Average score of 10 folds is stored in cv_scores\n",
    "    train_scores.append(scores_train)\n",
    "    "
   ]
  },
  {
   "cell_type": "markdown",
   "metadata": {},
   "source": [
    "#### Plotting f1-score v/s Alpha values for CV and Train data"
   ]
  },
  {
   "cell_type": "code",
   "execution_count": 67,
   "metadata": {},
   "outputs": [
    {
     "name": "stdout",
     "output_type": "stream",
     "text": [
      "\n",
      "The optimal alpha is 1.\n"
     ]
    },
    {
     "data": {
      "image/png": "[encoded data removed]",
      "text/plain": [
       "<Figure size 432x288 with 1 Axes>"
      ]
     },
     "metadata": {},
     "output_type": "display_data"
    },
    {
     "name": "stdout",
     "output_type": "stream",
     "text": [
      "The CV f1-score for each alpha value is :  [0.806 0.818 0.835 0.858 0.879 0.887 0.877 0.86  0.843 0.751]\n",
      "the Train score for each alpha value is :  [0.999 0.999 0.999 0.999 0.996 0.967 0.914 0.876 0.853 0.783]\n"
     ]
    }
   ],
   "source": [
    "# determining best alpha with maximum CV f1-score\n",
    "optimal_alpha = myList[cv_scores.index(max(cv_scores))] \n",
    "print('\\nThe optimal alpha is %d.' % optimal_alpha)\n",
    "\n",
    "# plot f1-score vs alpha\n",
    "plt.plot(myList, cv_scores, 'r', label='CV f1_score')\n",
    "plt.plot(myList, train_scores, 'b', label='Train score')\n",
    "plt.legend(loc='upper right')\n",
    "\n",
    "for xy in zip(myList, np.round(cv_scores,3)):  # for each point (x=myList, y= mse)\n",
    "    plt.annotate('(%s, %s)' % xy, xy=xy, textcoords='data')  # annotate with (myList, mse)\n",
    "    \n",
    "for xy in zip(myList, np.round(train_scores,3)):  # for each point (x=myList, y= mse)\n",
    "    plt.annotate('(%s, %s)' % xy, xy=xy, textcoords='data')  # annotate with (myList, mse)\n",
    "    \n",
    "plt.title(\"f1_score vs Alpha values\")\n",
    "plt.xlabel('Alpha values')\n",
    "plt.ylabel('f1_score')\n",
    "plt.show()\n",
    "\n",
    "print(\"The CV f1-score for each alpha value is : \", np.round(cv_scores,3))\n",
    "\n",
    "print(\"the Train score for each alpha value is : \", np.round(train_scores,3))\n",
    "\n"
   ]
  },
  {
   "cell_type": "markdown",
   "metadata": {},
   "source": [
    "#### Observation:-\n",
    "\n",
    "From the above plot, we can know optimal alpha with maximum CV f1-score. As alpha = 1 has maximum f1-score of 0.887 than other alpha values, it is considered as optimal alpha.\n",
    "\n",
    "The model accuracy on Train data is high when alpha values are low. As the alpha increases, the train data accuracy falls.\n"
   ]
  },
  {
   "cell_type": "markdown",
   "metadata": {},
   "source": [
    "### [6.2] Finding accuracy on test data using f1-score"
   ]
  },
  {
   "cell_type": "code",
   "execution_count": 69,
   "metadata": {},
   "outputs": [
    {
     "name": "stdout",
     "output_type": "stream",
     "text": [
      "\n",
      "The test f1-score of the naive bayes classifier for alpha = 1 is 88.110304%\n"
     ]
    }
   ],
   "source": [
    "# Findind test accuracy using f1-score for TF-IDF\n",
    "# instantiate learning model i = optimal_alpha\n",
    "from sklearn.metrics import f1_score\n",
    "naive_bayes_optimal = MultinomialNB(alpha = optimal_alpha)\n",
    "\n",
    "# fitting the model\n",
    "naive_bayes_optimal.fit(X_train_tfidf, Y_train)\n",
    "\n",
    "# predict the response\n",
    "pred_tfidf = naive_bayes_optimal.predict(X_test_tfidf)\n",
    "\n",
    "# evaluate accuracy. Using f1_score as metric to measure accuracy\n",
    "test_f1_tfidf = f1_score(Y_test, pred_tfidf, pos_label = 'positive', average = 'binary') * float(100)\n",
    "print('\\nThe test f1-score of the naive bayes classifier for alpha = %d is %f%%' % (optimal_alpha, test_f1_tfidf))"
   ]
  },
  {
   "cell_type": "code",
   "execution_count": 70,
   "metadata": {},
   "outputs": [
    {
     "name": "stdout",
     "output_type": "stream",
     "text": [
      "Test Error for Naive Bayes TF-IDF is 0.119%\n"
     ]
    }
   ],
   "source": [
    "# Finding test error\n",
    "test_error_tfidf = (1 - f1_score(Y_test, pred_tfidf, pos_label = 'positive', average = 'binary')) \n",
    "print(\"Test Error for Naive Bayes TF-IDF is %.3f%%\" % (test_error_tfidf))"
   ]
  },
  {
   "cell_type": "markdown",
   "metadata": {},
   "source": [
    "### [6.3] Plotting ROC curve and finding AUC score for TF-IDF"
   ]
  },
  {
   "cell_type": "code",
   "execution_count": 71,
   "metadata": {},
   "outputs": [
    {
     "data": {
      "image/png": "[encoded data removed]",
      "text/plain": [
       "<Figure size 432x288 with 1 Axes>"
      ]
     },
     "metadata": {},
     "output_type": "display_data"
    }
   ],
   "source": [
    "# ROC curve and AUC for TF-IDF\n",
    "from sklearn.metrics import roc_curve, auc\n",
    "# Predicting the probabilities of test data as ROC curve needs probabilities to plot\n",
    "Y_prob = naive_bayes.fit(X_train_tfidf, Y_train).predict_proba(X_test_tfidf)\n",
    "# Giving actual values(Y_test) and predicted probabilities Y_prob\n",
    "# we need to calculate the fpr and tpr for all thresholds of the classification \n",
    "fpr, tpr, thresholds = roc_curve(Y_test, Y_prob[:, 1], pos_label = 'positive')\n",
    "# We calculate the AUC (Area Under Curve)\n",
    "roc_auc = auc(fpr, tpr)\n",
    "    \n",
    "# Plot FPR (on x-axis) v/s TPR (on y-axis)\n",
    "plt.title('Receiver Operating Characteristic')\n",
    "plt.plot(fpr, tpr, 'b', label='AUC = %0.2f'% roc_auc)\n",
    "plt.legend(loc='lower right')\n",
    "plt.plot([0,1],[0,1],'r--')\n",
    "plt.xlim([-0.1,1.2])\n",
    "plt.ylim([-0.1,1.2])\n",
    "plt.ylabel('True Positive Rate')\n",
    "plt.xlabel('False Positive Rate')\n",
    "plt.show()"
   ]
  },
  {
   "cell_type": "markdown",
   "metadata": {},
   "source": [
    "#### Observation:-\n",
    "From the ROC curve of TF-IDF, we can know AUC score is 0.91, which shows that the classifier is working well and predicts correctly."
   ]
  },
  {
   "cell_type": "markdown",
   "metadata": {},
   "source": [
    "### [6.4] Confusion matrix for TF-IDF"
   ]
  },
  {
   "cell_type": "code",
   "execution_count": 72,
   "metadata": {},
   "outputs": [
    {
     "name": "stdout",
     "output_type": "stream",
     "text": [
      "[[13202  1758]\n",
      " [ 1812 13228]]\n"
     ]
    }
   ],
   "source": [
    "# Using confusion matrix as a another metric to measure accuracy\n",
    "from sklearn.metrics import confusion_matrix\n",
    "cm = confusion_matrix(Y_test, pred_tfidf) # finding confusion matrix between true data and predicted data\n",
    "print(cm)"
   ]
  },
  {
   "cell_type": "code",
   "execution_count": 73,
   "metadata": {},
   "outputs": [
    {
     "data": {
      "image/png": "[encoded data removed]",
      "text/plain": [
       "<Figure size 432x288 with 2 Axes>"
      ]
     },
     "metadata": {},
     "output_type": "display_data"
    }
   ],
   "source": [
    "# plot confusion matrix for TF-IDF\n",
    "class_label = [\"negative\", \"positive\"] # create a class label for columns and rows\n",
    "cm = confusion_matrix(Y_test, pred_tfidf) \n",
    "dataframe_cm = pd.DataFrame(cm, index = class_label, columns = class_label) # create a dataframe to plot confusion matrix\n",
    "# A heatmap is a two-dimensional graphical representation of data in seaborn,\n",
    "# where the individual values in a matrix are represented with colors.\n",
    "sns.heatmap(dataframe_cm, annot = True, fmt = \"d\") # annot=true means, write the data value in each cell\n",
    "plt.title(\"Confusion Matrix for TF-IDF\")\n",
    "plt.xlabel(\"Predicted Label\")\n",
    "plt.ylabel(\"True Label\")\n",
    "plt.show()"
   ]
  },
  {
   "cell_type": "markdown",
   "metadata": {},
   "source": [
    "#### Observation:-\n",
    "\n",
    "A Confusion matrix is a table that is often used to describe the performance of the classification model on a set of test data. It is also one of the metric to measure accuracy of the model.\n",
    "\n",
    "A confusion matrix is a summary of prediction results on a classification problem. The number of correct and incorrect predictions are summarized with count values and broken down by each class. The confusion matrix shows how the classification model is confused when it makes predictions.\n",
    "\n",
    "The above confusion matrix is didvided into 2 classes positive and negative with True values and predicted values.\n",
    "\n",
    "1. TN - 13202 , FP - 1758\n",
    "\n",
    "    FN - 1812 , TP - 13228\n",
    "\n",
    "    where\n",
    "\n",
    "2. TN - True negative, True value is negative, and is predicted value is negative.\n",
    "3. FP - False positive, True value is negative, but is predicted as positive.\n",
    "4. FN - False negative, True value is positive, but is predicted as negative\n",
    "5. TP - True positive, True value is positive, and is predicted value is positive.\n",
    "\n",
    "\n",
    "6. There are total of 30000 points being tested against the model. Out of all values, the classifier/model predicted points as positive 14,986 times and negative 15,014 times.\n",
    "7. But in true values(test data), the positive points are 15,040 and negative points are 14,960.\n",
    "8. The diagonal values (13202 negative points, 13228 positive points) in the confusion matrix are correctly predicted values by the classifier.\n"
   ]
  },
  {
   "cell_type": "markdown",
   "metadata": {},
   "source": [
    "#### Finding TPR, FPR, TNR, FNR values\n",
    "\n",
    "1.  TPR tells, when it's actually yes and how often does classifier predict yes\n",
    "\n",
    "    TPR = TP/(TP+FN) = 13228/15040 = 0.8795. TRP also known as Recall\n",
    "\n",
    "\n",
    "2.  FPR tells, when it's actually no, how often does classifier predict yes\n",
    "\n",
    "    FPR = FP/(FP+TN) = 1758/14960 = 0.1175\n",
    "\n",
    "\n",
    "3.  TNR tells, when it's actually no, how often does classifier predict no\n",
    "\n",
    "    TNR = TN/(TN+FP) = 13202/14960 = 0.8824\n",
    "\n",
    "\n",
    "4.  FNR tells, When it's actually yes, how often does it predict no\n",
    "\n",
    "    FNR = FN/(FN+TP) = 1812/15040 = 0.1204\n",
    "\n"
   ]
  },
  {
   "cell_type": "markdown",
   "metadata": {},
   "source": [
    "### [6.5] Classification report for TF-IDF:-\n",
    "\n",
    "1.  Classification Rate/Accuracy:\n",
    "\n",
    "    Accuracy = (TP + TN) / (TP + TN + FP + FN)\n",
    "\n",
    "\n",
    "2.  Recall:- It tells, when the points are positive and how often they are predicted positive.\n",
    "\n",
    "    Recall = TP / (TP + FN)\n",
    "\n",
    "\n",
    "3.  Precision:- It tells, when the model predicted positive and how often is it correct.\n",
    "\n",
    "    Precision = TP / (TP + FP)\n",
    "\n",
    "\n",
    "4.  f1-score = (2 Recall Precision) / (Recall + Presision)\n",
    "\n",
    "    Support is the total number of points in each class (positive and negative)\n",
    "\n"
   ]
  },
  {
   "cell_type": "code",
   "execution_count": 74,
   "metadata": {},
   "outputs": [
    {
     "name": "stdout",
     "output_type": "stream",
     "text": [
      "Accuracy Score: 0.881\n",
      "Report:\n",
      "             precision    recall  f1-score   support\n",
      "\n",
      "   negative       0.88      0.88      0.88     14960\n",
      "   positive       0.88      0.88      0.88     15040\n",
      "\n",
      "avg / total       0.88      0.88      0.88     30000\n",
      "\n"
     ]
    }
   ],
   "source": [
    "# calculate the classification report for TF-IDF\n",
    "from sklearn.metrics import classification_report \n",
    " \n",
    "print('Accuracy Score:', accuracy_score(Y_test, pred_tfidf)) \n",
    "print('Report:')\n",
    "print(classification_report(Y_test, pred_tfidf)) \n"
   ]
  },
  {
   "cell_type": "markdown",
   "metadata": {},
   "source": [
    "#### Observation:-\n",
    "In case of TF-IDF Naive Bayes, accuracy, f1-score, precision all gave same score of 88% accuracy for alpha = 1. "
   ]
  },
  {
   "cell_type": "markdown",
   "metadata": {},
   "source": [
    "### [6.6] Feature Importance for TF-IDF\n",
    "\n",
    "To find feature Importance, first sort all the words based on its probability score, where top words have more probability of its occurance, that means it occurs lot of times and so its probability is high. So we can say that, words which have highest probability are very informative/useful/important words or features in determining that data point/word Wi belongs to a particular class (positve or negative).\n",
    "\n",
    "So for positive class or negative class, we have to find words with highest value of probabilities, as they are most informative/important features or words for determining whether the text/sentence belongs to positive class or negative class.\n",
    "\n",
    "In Naive Bayes we can get feature importance directly from the model.\n"
   ]
  },
  {
   "cell_type": "code",
   "execution_count": 75,
   "metadata": {},
   "outputs": [],
   "source": [
    "features = tf_idf_vect.get_feature_names()\n",
    "# creating a dataframe \n",
    "df = pd.DataFrame(naive_bayes.feature_log_prob_,columns=features)\n",
    "df_transposed = df.T"
   ]
  },
  {
   "cell_type": "code",
   "execution_count": 76,
   "metadata": {},
   "outputs": [],
   "source": [
    "tfidf_pos_features = df_transposed[1].sort_values(ascending = False)[0:10] # Positive\n",
    "tfidf_neg_features = df_transposed[0].sort_values(ascending = False)[0:10] # Negative\n"
   ]
  },
  {
   "cell_type": "code",
   "execution_count": 77,
   "metadata": {},
   "outputs": [
    {
     "data": {
      "text/plain": [
       "great     -13.789916\n",
       "love      -13.791090\n",
       "good      -13.796380\n",
       "tea       -13.798080\n",
       "like      -13.798538\n",
       "flavor    -13.799346\n",
       "tast      -13.799426\n",
       "coffe     -13.801199\n",
       "use       -13.802921\n",
       "product   -13.806500\n",
       "Name: 1, dtype: float64"
      ]
     },
     "execution_count": 77,
     "metadata": {},
     "output_type": "execute_result"
    }
   ],
   "source": [
    "# Top 10 positive features\n",
    "tfidf_pos_features"
   ]
  },
  {
   "cell_type": "code",
   "execution_count": 78,
   "metadata": {},
   "outputs": [
    {
     "data": {
      "text/plain": [
       "tast      -13.780035\n",
       "like      -13.787959\n",
       "product   -13.790161\n",
       "flavor    -13.802703\n",
       "coffe     -13.803386\n",
       "would     -13.804629\n",
       "one       -13.805396\n",
       "tri       -13.808919\n",
       "buy       -13.809468\n",
       "order     -13.810371\n",
       "Name: 0, dtype: float64"
      ]
     },
     "execution_count": 78,
     "metadata": {},
     "output_type": "execute_result"
    }
   ],
   "source": [
    "# Top 10 neagtive features\n",
    "tfidf_neg_features"
   ]
  },
  {
   "cell_type": "markdown",
   "metadata": {},
   "source": [
    "## 7. Models Summarization"
   ]
  },
  {
   "cell_type": "code",
   "execution_count": 79,
   "metadata": {},
   "outputs": [],
   "source": [
    "from pandas import DataFrame\n",
    "Naive_Bayes = {'Vectorizer':['BoW', 'TFIDF'], 'Model':['MultinomialNB', 'MultinomialNB'], 'Hyper parameter (Alpha)':['10', '1'], \n",
    "               'AUC Score':['0.86','0.91' ], 'Test Accuracy (f1-score)':['85.07%', '88.11%'], 'Test Error':['0.14', '0.11']}\n"
   ]
  },
  {
   "cell_type": "code",
   "execution_count": 80,
   "metadata": {},
   "outputs": [
    {
     "data": {
      "text/html": [
       "<div>\n",
       "<style scoped>\n",
       "    .dataframe tbody tr th:only-of-type {\n",
       "        vertical-align: middle;\n",
       "    }\n",
       "\n",
       "    .dataframe tbody tr th {\n",
       "        vertical-align: top;\n",
       "    }\n",
       "\n",
       "    .dataframe thead th {\n",
       "        text-align: right;\n",
       "    }\n",
       "</style>\n",
       "<table border=\"1\" class=\"dataframe\">\n",
       "  <thead>\n",
       "    <tr style=\"text-align: right;\">\n",
       "      <th></th>\n",
       "      <th>Vectorizer</th>\n",
       "      <th>Model</th>\n",
       "      <th>Hyper parameter (Alpha)</th>\n",
       "      <th>AUC Score</th>\n",
       "      <th>Test Accuracy (f1-score)</th>\n",
       "      <th>Test Error</th>\n",
       "    </tr>\n",
       "  </thead>\n",
       "  <tbody>\n",
       "    <tr>\n",
       "      <th>0</th>\n",
       "      <td>BoW</td>\n",
       "      <td>MultinomialNB</td>\n",
       "      <td>10</td>\n",
       "      <td>0.86</td>\n",
       "      <td>85.07%</td>\n",
       "      <td>0.14</td>\n",
       "    </tr>\n",
       "    <tr>\n",
       "      <th>1</th>\n",
       "      <td>TFIDF</td>\n",
       "      <td>MultinomialNB</td>\n",
       "      <td>1</td>\n",
       "      <td>0.91</td>\n",
       "      <td>88.11%</td>\n",
       "      <td>0.11</td>\n",
       "    </tr>\n",
       "  </tbody>\n",
       "</table>\n",
       "</div>"
      ],
      "text/plain": [
       "  Vectorizer          Model Hyper parameter (Alpha) AUC Score  \\\n",
       "0        BoW  MultinomialNB                      10      0.86   \n",
       "1      TFIDF  MultinomialNB                       1      0.91   \n",
       "\n",
       "  Test Accuracy (f1-score) Test Error  \n",
       "0                   85.07%       0.14  \n",
       "1                   88.11%       0.11  "
      ]
     },
     "execution_count": 80,
     "metadata": {},
     "output_type": "execute_result"
    }
   ],
   "source": [
    "Final_conclusions = DataFrame(Naive_Bayes)\n",
    "Final_conclusions"
   ]
  },
  {
   "cell_type": "markdown",
   "metadata": {},
   "source": [
    "## 8. Conclusion:-\n",
    "\n",
    "1. From the above observations, we can say that for alpha = 1, MultinomialNB on TF-IDF gave more f1-score than BoW and test error is also less for TF-IDF than BoW.\n",
    "2. AUC score for TF-IDF = 0.91 is better than BoW which is 0.86\n",
    "3. Overall both the models BoW and TF-IDF are working well on unseen data using MultinomialNB.\n",
    "4. Naive Bayes is fast training model as compared to KNN model and is giving better AUC and f1-score than KNN.\n",
    "\n"
   ]
  }
 ],
 "metadata": {
  "kernelspec": {
   "display_name": "Python 3",
   "language": "python",
   "name": "python3"
  },
  "language_info": {
   "codemirror_mode": {
    "name": "ipython",
    "version": 3
   },
   "file_extension": ".py",
   "mimetype": "text/x-python",
   "name": "python",
   "nbconvert_exporter": "python",
   "pygments_lexer": "ipython3",
   "version": "3.6.5"
  }
 },
 "nbformat": 4,
 "nbformat_minor": 2
}

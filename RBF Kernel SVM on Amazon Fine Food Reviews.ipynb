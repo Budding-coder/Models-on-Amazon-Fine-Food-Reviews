{
 "cells": [
  {
   "cell_type": "markdown",
   "metadata": {},
   "source": [
    "# Amazon Fine Food Reviews Analysis\n",
    "\n",
    "\n",
    "Data Source: https://www.kaggle.com/snap/amazon-fine-food-reviews <br>\n",
    "\n",
    "\n",
    "The Amazon Fine Food Reviews dataset consists of reviews of fine foods from Amazon.<br>\n",
    "\n",
    "Number of reviews: 568,454<br>\n",
    "Number of users: 256,059<br>\n",
    "Number of products: 74,258<br>\n",
    "Timespan: Oct 1999 - Oct 2012<br>\n",
    "Number of Attributes/Columns in data: 10 \n",
    "\n",
    "Attribute Information:\n",
    "\n",
    "1. Id\n",
    "2. ProductId - unique identifier for the product\n",
    "3. UserId - unqiue identifier for the user\n",
    "4. ProfileName\n",
    "5. HelpfulnessNumerator - number of users who found the review helpful\n",
    "6. HelpfulnessDenominator - number of users who indicated whether they found the review helpful or not\n",
    "7. Score - rating between 1 and 5\n",
    "8. Time - timestamp for the review\n",
    "9. Summary - brief summary of the review\n",
    "10. Text - text of the review\n",
    "\n",
    "\n",
    "#### Objective:\n",
    "Given a review, determine whether the review is positive (rating of 4 or 5) or negative (rating of 1 or 2).\n",
    "\n",
    "<br>\n",
    "[Q] How to determine if a review is positive or negative?<br>\n",
    "<br> \n",
    "[Ans] We could use Score/Rating. A rating of 4 or 5 can be cosnidered as a positive review. A rating of 1 or 2 can be considered as negative one. A review of rating 3 is considered nuetral and such reviews are ignored from our analysis. This is an approximate and proxy way of determining the polarity (positivity/negativity) of a review.\n",
    "\n",
    "In this assignment I perform,\n",
    " \n",
    "1. Data reading\n",
    "2. Exploratory Data Analysis\n",
    "3. Text Preprocessing on Review text data and Summary data\n",
    "4. Sample data from dataset and split into Train and Test data\n",
    "\n",
    "Next I apply RBF SVM on all Featurizations\n",
    "\n",
    "5. Perform Featurizations - BoW, TF-IDF, Avg W2V, TFIDF-W2V\n",
    "6. Apply RBF Kernel using SVC on all 4 featurizations, Bow, TFIDF, AVGW2V, TFIDF-W2V .\n",
    "7. Feature Importance on BoW and TFIDF.\n",
    "8. Tabulate the results\n"
   ]
  },
  {
   "cell_type": "markdown",
   "metadata": {},
   "source": [
    "# [1]. Reading Data"
   ]
  },
  {
   "cell_type": "markdown",
   "metadata": {},
   "source": [
    "## [1.1] Loading the data\n",
    "\n",
    "The dataset is available in two forms\n",
    "1. .csv file\n",
    "2. SQLite Database\n",
    "\n",
    "In order to load the data, We have used the SQLITE dataset as it is easier to query the data and visualise the data efficiently.\n",
    "<br> \n",
    "\n",
    "Here as we only want to get the global sentiment of the recommendations (positive or negative), we will purposefully ignore all Scores equal to 3. If the score is above 3, then the recommendation wil be set to \"positive\". Otherwise, it will be set to \"negative\"."
   ]
  },
  {
   "cell_type": "code",
   "execution_count": 1,
   "metadata": {},
   "outputs": [],
   "source": [
    "%matplotlib inline\n",
    "import warnings\n",
    "warnings.filterwarnings(\"ignore\")\n"
   ]
  },
  {
   "cell_type": "code",
   "execution_count": 3,
   "metadata": {},
   "outputs": [],
   "source": [
    "\n",
    "import sqlite3\n",
    "import pandas as pd\n",
    "import numpy as np\n",
    "import nltk\n",
    "import string\n",
    "import matplotlib.pyplot as plt\n",
    "import seaborn as sns\n",
    "from sklearn.feature_extraction.text import TfidfTransformer\n",
    "from sklearn.feature_extraction.text import TfidfVectorizer\n",
    "\n",
    "from sklearn.feature_extraction.text import CountVectorizer\n",
    "from sklearn.metrics import confusion_matrix\n",
    "from sklearn import metrics\n",
    "from sklearn.metrics import roc_curve, auc\n",
    "from nltk.stem.porter import PorterStemmer\n",
    "\n",
    "import re\n",
    "# Tutorial about Python regular expressions: https://pymotw.com/2/re/\n",
    "import string\n",
    "from nltk.corpus import stopwords\n",
    "from nltk.stem import PorterStemmer\n",
    "from nltk.stem.wordnet import WordNetLemmatizer\n",
    "\n",
    "from gensim.models import Word2Vec\n",
    "from gensim.models import KeyedVectors\n",
    "import pickle\n",
    "\n",
    "from tqdm import tqdm\n",
    "import os"
   ]
  },
  {
   "cell_type": "code",
   "execution_count": 4,
   "metadata": {},
   "outputs": [
    {
     "name": "stdout",
     "output_type": "stream",
     "text": [
      "Number of data points in our data (525814, 10)\n"
     ]
    },
    {
     "data": {
      "text/html": [
       "<div>\n",
       "<style scoped>\n",
       "    .dataframe tbody tr th:only-of-type {\n",
       "        vertical-align: middle;\n",
       "    }\n",
       "\n",
       "    .dataframe tbody tr th {\n",
       "        vertical-align: top;\n",
       "    }\n",
       "\n",
       "    .dataframe thead th {\n",
       "        text-align: right;\n",
       "    }\n",
       "</style>\n",
       "<table border=\"1\" class=\"dataframe\">\n",
       "  <thead>\n",
       "    <tr style=\"text-align: right;\">\n",
       "      <th></th>\n",
       "      <th>Id</th>\n",
       "      <th>ProductId</th>\n",
       "      <th>UserId</th>\n",
       "      <th>ProfileName</th>\n",
       "      <th>HelpfulnessNumerator</th>\n",
       "      <th>HelpfulnessDenominator</th>\n",
       "      <th>Score</th>\n",
       "      <th>Time</th>\n",
       "      <th>Summary</th>\n",
       "      <th>Text</th>\n",
       "    </tr>\n",
       "  </thead>\n",
       "  <tbody>\n",
       "    <tr>\n",
       "      <th>0</th>\n",
       "      <td>1</td>\n",
       "      <td>B001E4KFG0</td>\n",
       "      <td>A3SGXH7AUHU8GW</td>\n",
       "      <td>delmartian</td>\n",
       "      <td>1</td>\n",
       "      <td>1</td>\n",
       "      <td>1</td>\n",
       "      <td>1303862400</td>\n",
       "      <td>Good Quality Dog Food</td>\n",
       "      <td>I have bought several of the Vitality canned d...</td>\n",
       "    </tr>\n",
       "    <tr>\n",
       "      <th>1</th>\n",
       "      <td>2</td>\n",
       "      <td>B00813GRG4</td>\n",
       "      <td>A1D87F6ZCVE5NK</td>\n",
       "      <td>dll pa</td>\n",
       "      <td>0</td>\n",
       "      <td>0</td>\n",
       "      <td>0</td>\n",
       "      <td>1346976000</td>\n",
       "      <td>Not as Advertised</td>\n",
       "      <td>Product arrived labeled as Jumbo Salted Peanut...</td>\n",
       "    </tr>\n",
       "    <tr>\n",
       "      <th>2</th>\n",
       "      <td>3</td>\n",
       "      <td>B000LQOCH0</td>\n",
       "      <td>ABXLMWJIXXAIN</td>\n",
       "      <td>Natalia Corres \"Natalia Corres\"</td>\n",
       "      <td>1</td>\n",
       "      <td>1</td>\n",
       "      <td>1</td>\n",
       "      <td>1219017600</td>\n",
       "      <td>\"Delight\" says it all</td>\n",
       "      <td>This is a confection that has been around a fe...</td>\n",
       "    </tr>\n",
       "    <tr>\n",
       "      <th>3</th>\n",
       "      <td>4</td>\n",
       "      <td>B000UA0QIQ</td>\n",
       "      <td>A395BORC6FGVXV</td>\n",
       "      <td>Karl</td>\n",
       "      <td>3</td>\n",
       "      <td>3</td>\n",
       "      <td>0</td>\n",
       "      <td>1307923200</td>\n",
       "      <td>Cough Medicine</td>\n",
       "      <td>If you are looking for the secret ingredient i...</td>\n",
       "    </tr>\n",
       "    <tr>\n",
       "      <th>4</th>\n",
       "      <td>5</td>\n",
       "      <td>B006K2ZZ7K</td>\n",
       "      <td>A1UQRSCLF8GW1T</td>\n",
       "      <td>Michael D. Bigham \"M. Wassir\"</td>\n",
       "      <td>0</td>\n",
       "      <td>0</td>\n",
       "      <td>1</td>\n",
       "      <td>1350777600</td>\n",
       "      <td>Great taffy</td>\n",
       "      <td>Great taffy at a great price.  There was a wid...</td>\n",
       "    </tr>\n",
       "  </tbody>\n",
       "</table>\n",
       "</div>"
      ],
      "text/plain": [
       "   Id   ProductId          UserId                      ProfileName  \\\n",
       "0   1  B001E4KFG0  A3SGXH7AUHU8GW                       delmartian   \n",
       "1   2  B00813GRG4  A1D87F6ZCVE5NK                           dll pa   \n",
       "2   3  B000LQOCH0   ABXLMWJIXXAIN  Natalia Corres \"Natalia Corres\"   \n",
       "3   4  B000UA0QIQ  A395BORC6FGVXV                             Karl   \n",
       "4   5  B006K2ZZ7K  A1UQRSCLF8GW1T    Michael D. Bigham \"M. Wassir\"   \n",
       "\n",
       "   HelpfulnessNumerator  HelpfulnessDenominator  Score        Time  \\\n",
       "0                     1                       1      1  1303862400   \n",
       "1                     0                       0      0  1346976000   \n",
       "2                     1                       1      1  1219017600   \n",
       "3                     3                       3      0  1307923200   \n",
       "4                     0                       0      1  1350777600   \n",
       "\n",
       "                 Summary                                               Text  \n",
       "0  Good Quality Dog Food  I have bought several of the Vitality canned d...  \n",
       "1      Not as Advertised  Product arrived labeled as Jumbo Salted Peanut...  \n",
       "2  \"Delight\" says it all  This is a confection that has been around a fe...  \n",
       "3         Cough Medicine  If you are looking for the secret ingredient i...  \n",
       "4            Great taffy  Great taffy at a great price.  There was a wid...  "
      ]
     },
     "execution_count": 4,
     "metadata": {},
     "output_type": "execute_result"
    }
   ],
   "source": [
    "# Loading the data\n",
    "# using SQLite Table to read data.\n",
    "con = sqlite3.connect('I:\\Python\\database.sqlite') \n",
    "\n",
    "# filtering only positive and negative reviews i.e. \n",
    "# not taking into consideration those reviews with Score=3\n",
    "# SELECT * FROM Reviews WHERE Score != 3 LIMIT 500000, will give top 500000 data points\n",
    "# you can change the number to any other number based on your computing power\n",
    "\n",
    "# filtered_data = pd.read_sql_query(\"\"\" SELECT * FROM Reviews WHERE Score != 3 LIMIT 500000\"\"\", con) \n",
    "# for tsne assignment you can take 5k data points\n",
    "\n",
    "filtered_data = pd.read_sql_query(\"\"\" SELECT * FROM Reviews WHERE Score != 3 \"\"\", con) \n",
    "\n",
    "# Give reviews with Score>3 a positive rating(1), and reviews with a score<3 a negative rating(0).\n",
    "def partition(x):\n",
    "    if x < 3:\n",
    "        return 0\n",
    "    return 1\n",
    "\n",
    "#changing reviews with score less than 3 to be positive and vice-versa\n",
    "actualScore = filtered_data['Score']\n",
    "positiveNegative = actualScore.map(partition) \n",
    "filtered_data['Score'] = positiveNegative\n",
    "print(\"Number of data points in our data\", filtered_data.shape)\n",
    "filtered_data.head(5)"
   ]
  },
  {
   "cell_type": "markdown",
   "metadata": {},
   "source": [
    "#  [2] Exploratory Data Analysis"
   ]
  },
  {
   "cell_type": "markdown",
   "metadata": {},
   "source": [
    "## [2.1] Data Cleaning: Deduplication\n",
    "\n",
    "It is necessary to remove duplicates in order to get unbiased results for the analysis of the data. Hence in order to reduce redundancy it's better to eliminate the rows that have same parameters.\n",
    "\n",
    "The method used to perform deduplication is that, we first sort the data according to ProductId and then just keep the first similar product review and delete the others. This method ensures that there is only one representative for each product."
   ]
  },
  {
   "cell_type": "code",
   "execution_count": 5,
   "metadata": {},
   "outputs": [
    {
     "name": "stdout",
     "output_type": "stream",
     "text": [
      "Total number of reviews in the dataframe after removing duplicated: (364173, 10)\n"
     ]
    }
   ],
   "source": [
    "#Sorting data according to ProductId in ascending order\n",
    "sorted_data = filtered_data.sort_values('ProductId', axis = 0, ascending = True, inplace = False, kind = 'quicksort', na_position = 'last')\n",
    "\n",
    "#Dropping duplicates. It says that find duplicates with {'UserId', 'ProfileName', 'Time', 'Text'} values same. Then it is a duplicate\n",
    "# By using drop_duplicate function we just keep the first product Id of the duplicates and remove the remaining.\n",
    "final_data = sorted_data.drop_duplicates(subset = {'UserId', 'ProfileName', 'Time', 'Text'}, keep = 'first', inplace = False)\n",
    "\n",
    "# Now it prints total reviews after removing duplicates.\n",
    "print('Total number of reviews in the dataframe after removing duplicated:', final_data.shape)\n"
   ]
  },
  {
   "cell_type": "code",
   "execution_count": 6,
   "metadata": {},
   "outputs": [
    {
     "data": {
      "text/plain": [
       "(364171, 10)"
      ]
     },
     "execution_count": 6,
     "metadata": {},
     "output_type": "execute_result"
    }
   ],
   "source": [
    "# HelpfulnessNumerator should always be less than HelpfulnessDenominator. \n",
    "# So check if any reviews have HelpfulnessNumerator greater than HelpfulnessDenominator and remove them\n",
    "\n",
    "final_data = final_data[final_data.HelpfulnessNumerator <= final_data.HelpfulnessDenominator]\n",
    "final_data.shape"
   ]
  },
  {
   "cell_type": "code",
   "execution_count": 7,
   "metadata": {},
   "outputs": [
    {
     "data": {
      "text/plain": [
       "69.25852107399194"
      ]
     },
     "execution_count": 7,
     "metadata": {},
     "output_type": "execute_result"
    }
   ],
   "source": [
    "#Checking to see how much % of data still remains\n",
    "(final_data['Id'].size*1.0)/(filtered_data['Id'].size*1.0)*100"
   ]
  },
  {
   "cell_type": "code",
   "execution_count": 8,
   "metadata": {},
   "outputs": [
    {
     "name": "stdout",
     "output_type": "stream",
     "text": [
      "(364171, 10)\n"
     ]
    },
    {
     "data": {
      "text/plain": [
       "1    307061\n",
       "0     57110\n",
       "Name: Score, dtype: int64"
      ]
     },
     "execution_count": 8,
     "metadata": {},
     "output_type": "execute_result"
    }
   ],
   "source": [
    "# Lets see how many total reviews left\n",
    "print(final_data.shape)\n",
    "\n",
    "#How many positive and negative reviews are present in the dataset?\n",
    "final_data['Score'].value_counts()\n"
   ]
  },
  {
   "cell_type": "markdown",
   "metadata": {},
   "source": [
    "#### Observation:-\n",
    "From the above output we can see that there are many positive reviews and fewer negative reviews."
   ]
  },
  {
   "cell_type": "markdown",
   "metadata": {},
   "source": [
    "#  [3] Text  Preprocessing\n",
    "\n",
    "Now that we have finished deduplication our data requires some preprocessing before we go on further with analysis.\n",
    "\n",
    "1. By removing stop-words, BoW vector will be small and more meaningful\n",
    "2. Lemmatization is a process of breaking a sentence into words. It is language and context dependent\n",
    "\n",
    "Hence in the Preprocessing phase we do the following in the order below:-\n",
    "\n",
    "1. Remove all URL's\n",
    "2. Remove all tags from the strings\n",
    "3. Expanding English language contractions like, you've -> you have\n",
    "4. Remove any punctuations or limited set of special characters like , or . or # etc.\n",
    "5. Check if the word is made up of english letters and is not alpha-numeric\n",
    "6. Remove words with numbers\n",
    "7. Remove spacial characters\n",
    "8. Check to see if the length of the word is greater than 2 (as it was researched that there is no adjective in 2-letters)\n",
    "9. Convert the words to lowercase\n",
    "10. Remove Stopwords\n",
    "11. Finally Stemming the words which are related, to their stem form/root/base form (Snowball stemmer is used as it is obsereved to be better than Porter Stemming)\n",
    "\n",
    "After which we collect the words used to describe positive and negative reviews"
   ]
  },
  {
   "cell_type": "markdown",
   "metadata": {},
   "source": [
    "## [3.1].  Preprocessing Review Text"
   ]
  },
  {
   "cell_type": "code",
   "execution_count": 9,
   "metadata": {},
   "outputs": [
    {
     "name": "stdout",
     "output_type": "stream",
     "text": [
      "A charming, rhyming book that describes the circumstances under which you eat (or don't) chicken soup with rice, month-by-month. This sounds like the kind of thing kids would make up while they're out of recess and sing over and over until they drive the teachers crazy. It's cute and catchy and sounds really childlike but is skillfully written.\n",
      "==================================================\n",
      "<a href=\"http://www.amazon.com/gp/product/B000F4D5WG\">Edward & Sons Organic Croutons, Italian Herbs, 5.25-Ounce Packs (Pack of 6)</a><br /><br />Knowing that I have to watch my calories I have been eating nothing but low cal foods for quite a while.  Part of my diet consists of big salads and low fat Progresso soups. I wanted something extra that I could add to a salad  and/or a soup.  I decided to try these.  They are extremely salty and aside from that have no other taste.  I would not re order these again.  I do admit that I do not care for salty foods but if salt is used the taste of it should not be so overwhelming. Some foods are understandably noted for being salty, anchovies, pretzels etc. I do eat pretzels and like them as long as I don't feel as if I put several tablespoons of salt in my mouth. I do not taste any of the herbs that I expected in a product which claims to have as one of it's ingredients Italian herbs.\n",
      "==================================================\n",
      "I use this exclusively in all my cooking...<br />I don't understand why the price went up so drastically...<br />I have many of the ladies I work with that are hooked on this product and they want me to get them more\n",
      "==================================================\n",
      "Can't do sugar.  Have tried scores of SF Syrups.  NONE of them can touch the excellence of this product.<br /><br />Thick, delicious.  Perfect.  3 ingredients: Water, Maltitol, Natural Maple Flavor.  PERIOD.  No chemicals.  No garbage.<br /><br />Have numerous friends & family members hooked on this stuff.  My husband & son, who do NOT like \"sugar free\" prefer this over major label regular syrup.<br /><br />I use this as my SWEETENER in baking: cheesecakes, white brownies, muffins, pumpkin pies, etc... Unbelievably delicious...<br /><br />Can you tell I like it? :)\n",
      "==================================================\n"
     ]
    }
   ],
   "source": [
    "# printing some random reviews\n",
    "sent_5 = final_data['Text'].values[5]\n",
    "print(sent_5)\n",
    "print(\"=\"*50)\n",
    "\n",
    "sent_60000 = final_data['Text'].values[60000]\n",
    "print(sent_60000)\n",
    "print(\"=\"*50)\n",
    "\n",
    "sent_15500 = final_data['Text'].values[15500]\n",
    "print(sent_15500)\n",
    "print(\"=\"*50)\n",
    "\n",
    "sent_4900 = final_data['Text'].values[4900]\n",
    "print(sent_4900)\n",
    "print(\"=\"*50)"
   ]
  },
  {
   "cell_type": "code",
   "execution_count": 10,
   "metadata": {},
   "outputs": [
    {
     "name": "stdout",
     "output_type": "stream",
     "text": [
      "<a href=\" & Sons Organic Croutons, Italian Herbs, 5.25-Ounce Packs (Pack of 6)</a><br /><br />Knowing that I have to watch my calories I have been eating nothing but low cal foods for quite a while.  Part of my diet consists of big salads and low fat Progresso soups. I wanted something extra that I could add to a salad  and/or a soup.  I decided to try these.  They are extremely salty and aside from that have no other taste.  I would not re order these again.  I do admit that I do not care for salty foods but if salt is used the taste of it should not be so overwhelming. Some foods are understandably noted for being salty, anchovies, pretzels etc. I do eat pretzels and like them as long as I don't feel as if I put several tablespoons of salt in my mouth. I do not taste any of the herbs that I expected in a product which claims to have as one of it's ingredients Italian herbs.\n"
     ]
    }
   ],
   "source": [
    "# Remove urls from text ----  https://stackoverflow.com/a/40823105/4084039\n",
    "import re\n",
    "sent_5 = re.sub(r\"http\\S+\", \"\", sent_5)\n",
    "sent_60000 = re.sub(r\"http\\S+\", \"\", sent_60000)\n",
    "sent_15500 = re.sub(r\"http\\S+\", \"\", sent_15500)\n",
    "sent_4900 = re.sub(r\"http\\S+\", \"\", sent_4900)\n",
    "\n",
    "print(sent_60000)"
   ]
  },
  {
   "cell_type": "code",
   "execution_count": 11,
   "metadata": {},
   "outputs": [
    {
     "name": "stdout",
     "output_type": "stream",
     "text": [
      "A charming, rhyming book that describes the circumstances under which you eat (or don't) chicken soup with rice, month-by-month. This sounds like the kind of thing kids would make up while they're out of recess and sing over and over until they drive the teachers crazy. It's cute and catchy and sounds really childlike but is skillfully written.\n",
      "==================================================\n",
      "I use this exclusively in all my cooking...I don't understand why the price went up so drastically...I have many of the ladies I work with that are hooked on this product and they want me to get them more\n",
      "==================================================\n",
      "Can't do sugar.  Have tried scores of SF Syrups.  NONE of them can touch the excellence of this product.Thick, delicious.  Perfect.  3 ingredients: Water, Maltitol, Natural Maple Flavor.  PERIOD.  No chemicals.  No garbage.Have numerous friends & family members hooked on this stuff.  My husband & son, who do NOT like \"sugar free\" prefer this over major label regular syrup.I use this as my SWEETENER in baking: cheesecakes, white brownies, muffins, pumpkin pies, etc... Unbelievably delicious...Can you tell I like it? :)\n"
     ]
    }
   ],
   "source": [
    "# Removes all tags from a string --- https://stackoverflow.com/questions/16206380/python-beautifulsoup-how-to-remove-all-tags-from-an-element\n",
    "\n",
    "from bs4 import BeautifulSoup\n",
    "\n",
    "soup = BeautifulSoup(sent_5, 'lxml')\n",
    "text = soup.get_text()\n",
    "print(text)\n",
    "print(\"=\"*50)\n",
    "\n",
    "soup = BeautifulSoup(sent_15500, 'lxml')\n",
    "text = soup.get_text()\n",
    "print(text)\n",
    "print(\"=\"*50)\n",
    "\n",
    "soup = BeautifulSoup(sent_4900, 'lxml')\n",
    "text = soup.get_text()\n",
    "print(text)"
   ]
  },
  {
   "cell_type": "code",
   "execution_count": 12,
   "metadata": {},
   "outputs": [],
   "source": [
    "# Expanding English language contractions  like, you've -> you have,  aren't -> are not\n",
    "# https://stackoverflow.com/a/47091490/4084039\n",
    "import re\n",
    "\n",
    "def decontracted(phrase):\n",
    "    # specific\n",
    "    phrase = re.sub(r\"won't\", \"will not\", phrase)\n",
    "    phrase = re.sub(r\"can\\'t\", \"can not\", phrase)\n",
    "\n",
    "    # general\n",
    "    phrase = re.sub(r\"n\\'t\", \" not\", phrase)\n",
    "    phrase = re.sub(r\"\\'re\", \" are\", phrase)\n",
    "    phrase = re.sub(r\"\\'s\", \" is\", phrase)\n",
    "    phrase = re.sub(r\"\\'d\", \" would\", phrase)\n",
    "    phrase = re.sub(r\"\\'ll\", \" will\", phrase)\n",
    "    phrase = re.sub(r\"\\'t\", \" not\", phrase)\n",
    "    phrase = re.sub(r\"\\'ve\", \" have\", phrase)\n",
    "    phrase = re.sub(r\"\\'m\", \" am\", phrase)\n",
    "    return phrase"
   ]
  },
  {
   "cell_type": "code",
   "execution_count": 13,
   "metadata": {},
   "outputs": [
    {
     "name": "stdout",
     "output_type": "stream",
     "text": [
      "A charming, rhyming book that describes the circumstances under which you eat (or do not) chicken soup with rice, month-by-month. This sounds like the kind of thing kids would make up while they are out of recess and sing over and over until they drive the teachers crazy. It is cute and catchy and sounds really childlike but is skillfully written.\n",
      "==================================================\n"
     ]
    }
   ],
   "source": [
    "sent_5 = decontracted(sent_5)\n",
    "print(sent_5)\n",
    "print(\"=\"*50)"
   ]
  },
  {
   "cell_type": "code",
   "execution_count": 14,
   "metadata": {},
   "outputs": [
    {
     "name": "stdout",
     "output_type": "stream",
     "text": [
      "a href  Sons Organic Croutons Italian Herbs 525Ounce Packs Pack of 6abr br Knowing that I have to watch my calories I have been eating nothing but low cal foods for quite a while  Part of my diet consists of big salads and low fat Progresso soups I wanted something extra that I could add to a salad  andor a soup  I decided to try these  They are extremely salty and aside from that have no other taste  I would not re order these again  I do admit that I do not care for salty foods but if salt is used the taste of it should not be so overwhelming Some foods are understandably noted for being salty anchovies pretzels etc I do eat pretzels and like them as long as I dont feel as if I put several tablespoons of salt in my mouth I do not taste any of the herbs that I expected in a product which claims to have as one of its ingredients Italian herbs\n"
     ]
    }
   ],
   "source": [
    "# Removes punctuations from strings ---  https://stackoverflow.com/questions/265960/best-way-to-strip-punctuation-from-a-string-in-python\n",
    "sent_5 = re.sub(r\"http\\S+\", \"\", sent_5)\n",
    "sent_60000 = re.sub(r'[^\\w\\s]','', sent_60000)\n",
    "sent_15500 = re.sub(r'[^\\w\\s]','', sent_15500)\n",
    "sent_4900 = re.sub(r'[^\\w\\s]','', sent_4900)\n",
    "\n",
    "print(sent_60000)"
   ]
  },
  {
   "cell_type": "code",
   "execution_count": 15,
   "metadata": {},
   "outputs": [
    {
     "name": "stdout",
     "output_type": "stream",
     "text": [
      "a href  Sons Organic Croutons Italian Herbs  Packs Pack of  br Knowing that I have to watch my calories I have been eating nothing but low cal foods for quite a while  Part of my diet consists of big salads and low fat Progresso soups I wanted something extra that I could add to a salad  andor a soup  I decided to try these  They are extremely salty and aside from that have no other taste  I would not re order these again  I do admit that I do not care for salty foods but if salt is used the taste of it should not be so overwhelming Some foods are understandably noted for being salty anchovies pretzels etc I do eat pretzels and like them as long as I dont feel as if I put several tablespoons of salt in my mouth I do not taste any of the herbs that I expected in a product which claims to have as one of its ingredients Italian herbs\n"
     ]
    }
   ],
   "source": [
    "#remove words with numbers --- https://stackoverflow.com/a/18082370/4084039\n",
    "sent_60000 = re.sub(\"\\S*\\d\\S*\", \"\", sent_60000).strip()\n",
    "print(sent_60000)"
   ]
  },
  {
   "cell_type": "code",
   "execution_count": 16,
   "metadata": {},
   "outputs": [
    {
     "name": "stdout",
     "output_type": "stream",
     "text": [
      "Cant do sugar Have tried scores of SF Syrups NONE of them can touch the excellence of this productbr br Thick delicious Perfect 3 ingredients Water Maltitol Natural Maple Flavor PERIOD No chemicals No garbagebr br Have numerous friends family members hooked on this stuff My husband son who do NOT like sugar free prefer this over major label regular syrupbr br I use this as my SWEETENER in baking cheesecakes white brownies muffins pumpkin pies etc Unbelievably deliciousbr br Can you tell I like it \n"
     ]
    }
   ],
   "source": [
    "#remove spacial character: https://stackoverflow.com/a/5843547/4084039\n",
    "sent_4900 = re.sub('[^A-Za-z0-9]+', ' ', sent_4900)\n",
    "print(sent_4900)"
   ]
  },
  {
   "cell_type": "code",
   "execution_count": 17,
   "metadata": {},
   "outputs": [
    {
     "name": "stdout",
     "output_type": "stream",
     "text": [
      "cant do sugar have tried scores of sf syrups none of them can touch the excellence of this productbr br thick delicious perfect 3 ingredients water maltitol natural maple flavor period no chemicals no garbagebr br have numerous friends family members hooked on this stuff my husband son who do not like sugar free prefer this over major label regular syrupbr br i use this as my sweetener in baking cheesecakes white brownies muffins pumpkin pies etc unbelievably deliciousbr br can you tell i like it \n"
     ]
    }
   ],
   "source": [
    "# Converting words into lowercase\n",
    "sent_4900 = sent_4900.lower()\n",
    "print(sent_4900)"
   ]
  },
  {
   "cell_type": "code",
   "execution_count": 18,
   "metadata": {},
   "outputs": [],
   "source": [
    "# https://gist.github.com/sebleier/554280\n",
    "# we are removing the words from the stop words list: 'no', 'nor', 'not'\n",
    "# <br /><br /> ==> after the above steps, we are getting \"br br\"\n",
    "# we are including them into stop words list\n",
    "# instead of <br /> if we have <br/> these tags would have revmoved in the 1st step\n",
    "\n",
    "stopwords= set(['br', 'the', 'i', 'me', 'my', 'myself', 'we', 'our', 'ours', 'ourselves', 'you', \"you're\", \"you've\",\\\n",
    "            \"you'll\", \"you'd\", 'your', 'yours', 'yourself', 'yourselves', 'he', 'him', 'his', 'himself', \\\n",
    "            'she', \"she's\", 'her', 'hers', 'herself', 'it', \"it's\", 'its', 'itself', 'they', 'them', 'their',\\\n",
    "            'theirs', 'themselves', 'what', 'which', 'who', 'whom', 'this', 'that', \"that'll\", 'these', 'those', \\\n",
    "            'am', 'is', 'are', 'was', 'were', 'be', 'been', 'being', 'have', 'has', 'had', 'having', 'do', 'does', \\\n",
    "            'did', 'doing', 'a', 'an', 'the', 'and', 'but', 'if', 'or', 'because', 'as', 'until', 'while', 'of', \\\n",
    "            'at', 'by', 'for', 'with', 'about', 'against', 'between', 'into', 'through', 'during', 'before', 'after',\\\n",
    "            'above', 'below', 'to', 'from', 'up', 'down', 'in', 'out', 'on', 'off', 'over', 'under', 'again', 'further',\\\n",
    "            'then', 'once', 'here', 'there', 'when', 'where', 'why', 'how', 'all', 'any', 'both', 'each', 'few', 'more',\\\n",
    "            'most', 'other', 'some', 'such', 'only', 'own', 'same', 'so', 'than', 'too', 'very', \\\n",
    "            's', 't', 'can', 'will', 'just', 'don', \"don't\", 'should', \"should've\", 'now', 'd', 'll', 'm', 'o', 're', \\\n",
    "            've', 'y', 'ain', 'aren', \"aren't\", 'couldn', \"couldn't\", 'didn', \"didn't\", 'doesn', \"doesn't\", 'hadn',\\\n",
    "            \"hadn't\", 'hasn', \"hasn't\", 'haven', \"haven't\", 'isn', \"isn't\", 'ma', 'mightn', \"mightn't\", 'mustn',\\\n",
    "            \"mustn't\", 'needn', \"needn't\", 'shan', \"shan't\", 'shouldn', \"shouldn't\", 'wasn', \"wasn't\", 'weren', \"weren't\", \\\n",
    "            'won', \"won't\", 'wouldn', \"wouldn't\"])"
   ]
  },
  {
   "cell_type": "code",
   "execution_count": 19,
   "metadata": {},
   "outputs": [
    {
     "name": "stderr",
     "output_type": "stream",
     "text": [
      "100%|██████████| 364171/364171 [02:51<00:00, 2121.72it/s]\n"
     ]
    }
   ],
   "source": [
    "# Combining all the above stundents \n",
    "from tqdm import tqdm\n",
    "final_strings = []\n",
    "all_positive_words=[] # store words from +ve reviews here\n",
    "all_negative_words=[] # store words from -ve reviews here.\n",
    "s=''\n",
    "# tqdm is for printing the status bar\n",
    "for sentence in tqdm(final_data['Text'].values):\n",
    "    sentence = re.sub(r\"http\\S+\", \"\", sentence)  # To remove urls from text\n",
    "    sentence = BeautifulSoup(sentence, 'lxml').get_text() # To remove all tags from an element\n",
    "    sentence = decontracted(sentence) # Expanding English language contractions  like, you've -> you have,  aren't -> are not\n",
    "    sentence = re.sub(r'[^\\w\\s]','', sentence)\n",
    "    sentence = re.sub(\"\\S*\\d\\S*\", \"\", sentence).strip() # removes words with numbers\n",
    "    sentence = re.sub('[^A-Za-z]+', ' ', sentence) # removes special characters\n",
    "    sentence = sentence.lower()  # Converting words into lowercase\n",
    "    # https://gist.github.com/sebleier/554280\n",
    "    sentence = ' '.join(e.lower() for e in sentence.split() if e.lower() not in stopwords)\n",
    "    final_strings.append(sentence.strip())"
   ]
  },
  {
   "cell_type": "code",
   "execution_count": 20,
   "metadata": {},
   "outputs": [
    {
     "data": {
      "text/plain": [
       "'great product anyone would love even not gluten free great servicefast'"
      ]
     },
     "execution_count": 20,
     "metadata": {},
     "output_type": "execute_result"
    }
   ],
   "source": [
    "final_strings[55000]"
   ]
  },
  {
   "cell_type": "code",
   "execution_count": 21,
   "metadata": {},
   "outputs": [],
   "source": [
    "# store final_data table into an SQlLite table for future.\n",
    "conn = sqlite3.connect('final_data.sqlite')\n",
    "c=conn.cursor()\n",
    "conn.text_factory = str\n",
    "final_data.to_sql('Reviews', conn,  schema=None, if_exists='replace', index=True, index_label=None, chunksize=None, dtype=None)\n"
   ]
  },
  {
   "cell_type": "code",
   "execution_count": 27,
   "metadata": {},
   "outputs": [
    {
     "data": {
      "text/html": [
       "<div>\n",
       "<style scoped>\n",
       "    .dataframe tbody tr th:only-of-type {\n",
       "        vertical-align: middle;\n",
       "    }\n",
       "\n",
       "    .dataframe tbody tr th {\n",
       "        vertical-align: top;\n",
       "    }\n",
       "\n",
       "    .dataframe thead th {\n",
       "        text-align: right;\n",
       "    }\n",
       "</style>\n",
       "<table border=\"1\" class=\"dataframe\">\n",
       "  <thead>\n",
       "    <tr style=\"text-align: right;\">\n",
       "      <th></th>\n",
       "      <th>Id</th>\n",
       "      <th>ProductId</th>\n",
       "      <th>UserId</th>\n",
       "      <th>ProfileName</th>\n",
       "      <th>HelpfulnessNumerator</th>\n",
       "      <th>HelpfulnessDenominator</th>\n",
       "      <th>Score</th>\n",
       "      <th>Time</th>\n",
       "      <th>Summary</th>\n",
       "      <th>Text</th>\n",
       "      <th>CleanedText</th>\n",
       "    </tr>\n",
       "  </thead>\n",
       "  <tbody>\n",
       "    <tr>\n",
       "      <th>138706</th>\n",
       "      <td>150524</td>\n",
       "      <td>0006641040</td>\n",
       "      <td>ACITT7DI6IDDL</td>\n",
       "      <td>shari zychinski</td>\n",
       "      <td>0</td>\n",
       "      <td>0</td>\n",
       "      <td>1</td>\n",
       "      <td>939340800</td>\n",
       "      <td>EVERY book is educational</td>\n",
       "      <td>this witty little book makes my son laugh at l...</td>\n",
       "      <td>witty little book makes son laugh loud recite ...</td>\n",
       "    </tr>\n",
       "    <tr>\n",
       "      <th>138688</th>\n",
       "      <td>150506</td>\n",
       "      <td>0006641040</td>\n",
       "      <td>A2IW4PEEKO2R0U</td>\n",
       "      <td>Tracy</td>\n",
       "      <td>1</td>\n",
       "      <td>1</td>\n",
       "      <td>1</td>\n",
       "      <td>1194739200</td>\n",
       "      <td>Love the book, miss the hard cover version</td>\n",
       "      <td>I grew up reading these Sendak books, and watc...</td>\n",
       "      <td>grew reading sendak books watching really rosi...</td>\n",
       "    </tr>\n",
       "    <tr>\n",
       "      <th>138689</th>\n",
       "      <td>150507</td>\n",
       "      <td>0006641040</td>\n",
       "      <td>A1S4A3IQ2MU7V4</td>\n",
       "      <td>sally sue \"sally sue\"</td>\n",
       "      <td>1</td>\n",
       "      <td>1</td>\n",
       "      <td>1</td>\n",
       "      <td>1191456000</td>\n",
       "      <td>chicken soup with rice months</td>\n",
       "      <td>This is a fun way for children to learn their ...</td>\n",
       "      <td>fun way children learn months year learn poems...</td>\n",
       "    </tr>\n",
       "  </tbody>\n",
       "</table>\n",
       "</div>"
      ],
      "text/plain": [
       "            Id   ProductId          UserId            ProfileName  \\\n",
       "138706  150524  0006641040   ACITT7DI6IDDL        shari zychinski   \n",
       "138688  150506  0006641040  A2IW4PEEKO2R0U                  Tracy   \n",
       "138689  150507  0006641040  A1S4A3IQ2MU7V4  sally sue \"sally sue\"   \n",
       "\n",
       "        HelpfulnessNumerator  HelpfulnessDenominator  Score        Time  \\\n",
       "138706                     0                       0      1   939340800   \n",
       "138688                     1                       1      1  1194739200   \n",
       "138689                     1                       1      1  1191456000   \n",
       "\n",
       "                                           Summary  \\\n",
       "138706                   EVERY book is educational   \n",
       "138688  Love the book, miss the hard cover version   \n",
       "138689               chicken soup with rice months   \n",
       "\n",
       "                                                     Text  \\\n",
       "138706  this witty little book makes my son laugh at l...   \n",
       "138688  I grew up reading these Sendak books, and watc...   \n",
       "138689  This is a fun way for children to learn their ...   \n",
       "\n",
       "                                              CleanedText  \n",
       "138706  witty little book makes son laugh loud recite ...  \n",
       "138688  grew reading sendak books watching really rosi...  \n",
       "138689  fun way children learn months year learn poems...  "
      ]
     },
     "execution_count": 27,
     "metadata": {},
     "output_type": "execute_result"
    }
   ],
   "source": [
    "final_data['CleanedText'] = final_strings\n",
    "final_data.shape\n",
    "final_data.head(3)\n"
   ]
  },
  {
   "cell_type": "code",
   "execution_count": 28,
   "metadata": {},
   "outputs": [
    {
     "name": "stdout",
     "output_type": "stream",
     "text": [
      "1    307061\n",
      "0     57110\n",
      "Name: Score, dtype: int64\n"
     ]
    }
   ],
   "source": [
    "print(final_data['Score'].value_counts())"
   ]
  },
  {
   "cell_type": "markdown",
   "metadata": {},
   "source": [
    "## [3.2]  Preprocessing Reviews Summary"
   ]
  },
  {
   "cell_type": "code",
   "execution_count": 29,
   "metadata": {},
   "outputs": [
    {
     "name": "stdout",
     "output_type": "stream",
     "text": [
      "I set aside at least an hour each day to read to my son (3 y/o). At this point, I consider myself a connoisseur of children's books and this is one of the best. Santa Clause put this under the tree. Since then, we've read it perpetually and he loves it.<br /><br />First, this book taught him the months of the year.<br /><br />Second, it's a pleasure to read. Well suited to 1.5 y/o old to 4+.<br /><br />Very few children's books are worth owning. Most should be borrowed from the library. This book, however, deserves a permanent spot on your shelf. Sendak's best.\n",
      "==================================================\n",
      "late delivered, I paid extra charge for faster delivery but is not delivered on the time i've expected it.\n",
      "==================================================\n",
      "We use marinade on a weekly basis, and this is another flavor from Lawry's that is really good.  Not too spicy or overwhelming, making it a good marinade for everyone (even picky kids who don't like spicy tastes).\n",
      "==================================================\n",
      "Great taste and amazing crunch. If you have never experienced the large/deluxe/fancy peanuts and have only had Planters or regular \"salted in the shell\", you are in for a wonderful experience. The intense taste and solid crunch will keep your hand in the can `til they are gone.\n",
      "==================================================\n"
     ]
    }
   ],
   "source": [
    "# printing some random reviews\n",
    "sent_6 = final_data['Text'].values[6]\n",
    "print(sent_6)\n",
    "print(\"=\"*50)\n",
    "\n",
    "sent_5000 = final_data['Text'].values[5000]\n",
    "print(sent_5000)\n",
    "print(\"=\"*50)\n",
    "\n",
    "sent_50000 = final_data['Text'].values[50000]\n",
    "print(sent_50000)\n",
    "print(\"=\"*50)\n",
    "\n",
    "sent_355000 = final_data['Text'].values[355000]\n",
    "print(sent_355000)\n",
    "print(\"=\"*50)"
   ]
  },
  {
   "cell_type": "code",
   "execution_count": 30,
   "metadata": {},
   "outputs": [
    {
     "name": "stdout",
     "output_type": "stream",
     "text": [
      "I set aside at least an hour each day to read to my son (3 y/o). At this point, I consider myself a connoisseur of children's books and this is one of the best. Santa Clause put this under the tree. Since then, we've read it perpetually and he loves it.First, this book taught him the months of the year.Second, it's a pleasure to read. Well suited to 1.5 y/o old to 4+.Very few children's books are worth owning. Most should be borrowed from the library. This book, however, deserves a permanent spot on your shelf. Sendak's best.\n",
      "==================================================\n",
      "late delivered, I paid extra charge for faster delivery but is not delivered on the time i've expected it.\n",
      "==================================================\n",
      "We use marinade on a weekly basis, and this is another flavor from Lawry's that is really good.  Not too spicy or overwhelming, making it a good marinade for everyone (even picky kids who don't like spicy tastes).\n",
      "==================================================\n",
      "Great taste and amazing crunch. If you have never experienced the large/deluxe/fancy peanuts and have only had Planters or regular \"salted in the shell\", you are in for a wonderful experience. The intense taste and solid crunch will keep your hand in the can `til they are gone.\n"
     ]
    }
   ],
   "source": [
    "from bs4 import BeautifulSoup\n",
    "\n",
    "soup = BeautifulSoup(sent_6, 'lxml')\n",
    "text = soup.get_text()\n",
    "print(text)\n",
    "print(\"=\"*50)\n",
    "\n",
    "soup = BeautifulSoup(sent_5000, 'lxml')\n",
    "text= soup.get_text()\n",
    "print(text)\n",
    "print(\"=\"*50)\n",
    "\n",
    "soup = BeautifulSoup(sent_50000, 'lxml')\n",
    "text = soup.get_text()\n",
    "print(text)\n",
    "print(\"=\"*50)\n",
    "\n",
    "soup = BeautifulSoup(sent_355000, 'lxml')\n",
    "text = soup.get_text()\n",
    "print(text)"
   ]
  },
  {
   "cell_type": "code",
   "execution_count": 31,
   "metadata": {},
   "outputs": [],
   "source": [
    "# Expanding English language contractions  like, you've -> you have,  aren't -> are not\n",
    "import re\n",
    "\n",
    "def decontracted(phrase):\n",
    "    # specific\n",
    "    phrase = re.sub(r\"won't\", \"will not\", phrase)\n",
    "    phrase = re.sub(r\"can\\'t\", \"can not\", phrase)\n",
    "\n",
    "    # general\n",
    "    phrase = re.sub(r\"n\\'t\", \" not\", phrase)\n",
    "    phrase = re.sub(r\"\\'re\", \" are\", phrase)\n",
    "    phrase = re.sub(r\"\\'s\", \" is\", phrase)\n",
    "    phrase = re.sub(r\"\\'d\", \" would\", phrase)\n",
    "    phrase = re.sub(r\"\\'ll\", \" will\", phrase)\n",
    "    phrase = re.sub(r\"\\'t\", \" not\", phrase)\n",
    "    phrase = re.sub(r\"\\'ve\", \" have\", phrase)\n",
    "    phrase = re.sub(r\"\\'m\", \" am\", phrase)\n",
    "    return phrase"
   ]
  },
  {
   "cell_type": "code",
   "execution_count": 32,
   "metadata": {},
   "outputs": [
    {
     "name": "stdout",
     "output_type": "stream",
     "text": [
      "late delivered, I paid extra charge for faster delivery but is not delivered on the time i have expected it.\n",
      "==================================================\n"
     ]
    }
   ],
   "source": [
    "sent_5000 = decontracted(sent_5000)\n",
    "print(sent_5000)\n",
    "print(\"=\"*50)"
   ]
  },
  {
   "cell_type": "code",
   "execution_count": 33,
   "metadata": {},
   "outputs": [
    {
     "name": "stdout",
     "output_type": "stream",
     "text": [
      "I set aside at least an hour each day to read to my son  y/o). At this point, I consider myself a connoisseur of children's books and this is one of the best. Santa Clause put this under the tree. Since then, we've read it perpetually and he loves it.<br /><br />First, this book taught him the months of the year.<br /><br />Second, it's a pleasure to read. Well suited to  y/o old to  /><br />Very few children's books are worth owning. Most should be borrowed from the library. This book, however, deserves a permanent spot on your shelf. Sendak's best.\n"
     ]
    }
   ],
   "source": [
    "#remove words with numbers ---- https://stackoverflow.com/a/18082370/4084039\n",
    "sent_6 = re.sub(\"\\S*\\d\\S*\", \"\", sent_6).strip()\n",
    "print(sent_6)"
   ]
  },
  {
   "cell_type": "code",
   "execution_count": 34,
   "metadata": {},
   "outputs": [
    {
     "name": "stdout",
     "output_type": "stream",
     "text": [
      "Great taste and amazing crunch If you have never experienced the large deluxe fancy peanuts and have only had Planters or regular salted in the shell you are in for a wonderful experience The intense taste and solid crunch will keep your hand in the can til they are gone \n"
     ]
    }
   ],
   "source": [
    "#remove spacial character ----- https://stackoverflow.com/a/5843547/4084039\n",
    "sent_355000 = re.sub('[^A-Za-z0-9]+', ' ', sent_355000)\n",
    "print(sent_355000)"
   ]
  },
  {
   "cell_type": "code",
   "execution_count": 35,
   "metadata": {},
   "outputs": [],
   "source": [
    "# https://gist.github.com/sebleier/554280\n",
    "# we are removing the words from the stop words list: 'no', 'nor', 'not'\n",
    "# <br /><br /> ==> after the above steps, we are getting \"br br\"\n",
    "# we are including them into stop words list\n",
    "# instead of <br /> if we have <br/> these tags would have revmoved in the 1st step\n",
    "\n",
    "stopwords= set(['br', 'the', 'i', 'me', 'my', 'myself', 'we', 'our', 'ours', 'ourselves', 'you', \"you're\", \"you've\",\\\n",
    "            \"you'll\", \"you'd\", 'your', 'yours', 'yourself', 'yourselves', 'he', 'him', 'his', 'himself', \\\n",
    "            'she', \"she's\", 'her', 'hers', 'herself', 'it', \"it's\", 'its', 'itself', 'they', 'them', 'their',\\\n",
    "            'theirs', 'themselves', 'what', 'which', 'who', 'whom', 'this', 'that', \"that'll\", 'these', 'those', \\\n",
    "            'am', 'is', 'are', 'was', 'were', 'be', 'been', 'being', 'have', 'has', 'had', 'having', 'do', 'does', \\\n",
    "            'did', 'doing', 'a', 'an', 'the', 'and', 'but', 'if', 'or', 'because', 'as', 'until', 'while', 'of', \\\n",
    "            'at', 'by', 'for', 'with', 'about', 'against', 'between', 'into', 'through', 'during', 'before', 'after',\\\n",
    "            'above', 'below', 'to', 'from', 'up', 'down', 'in', 'out', 'on', 'off', 'over', 'under', 'again', 'further',\\\n",
    "            'then', 'once', 'here', 'there', 'when', 'where', 'why', 'how', 'all', 'any', 'both', 'each', 'few', 'more',\\\n",
    "            'most', 'other', 'some', 'such', 'only', 'own', 'same', 'so', 'than', 'too', 'very', \\\n",
    "            's', 't', 'can', 'will', 'just', 'don', \"don't\", 'should', \"should've\", 'now', 'd', 'll', 'm', 'o', 're', \\\n",
    "            've', 'y', 'ain', 'aren', \"aren't\", 'couldn', \"couldn't\", 'didn', \"didn't\", 'doesn', \"doesn't\", 'hadn',\\\n",
    "            \"hadn't\", 'hasn', \"hasn't\", 'haven', \"haven't\", 'isn', \"isn't\", 'ma', 'mightn', \"mightn't\", 'mustn',\\\n",
    "            \"mustn't\", 'needn', \"needn't\", 'shan', \"shan't\", 'shouldn', \"shouldn't\", 'wasn', \"wasn't\", 'weren', \"weren't\", \\\n",
    "            'won', \"won't\", 'wouldn', \"wouldn't\"])"
   ]
  },
  {
   "cell_type": "code",
   "execution_count": 36,
   "metadata": {},
   "outputs": [
    {
     "name": "stderr",
     "output_type": "stream",
     "text": [
      "100%|██████████| 364171/364171 [02:15<00:00, 2686.72it/s]\n"
     ]
    }
   ],
   "source": [
    "# Performing all the preprocessing steps on Summary data.\n",
    "import warnings\n",
    "warnings.filterwarnings('ignore')  # \"error\", \"ignore\", \"always\", \"default\", \"module\" or \"once\"\n",
    "from tqdm import tqdm\n",
    "summary_data = []\n",
    "all_positive_words=[] # store words from +ve reviews here\n",
    "all_negative_words=[] # store words from -ve reviews here.\n",
    "s=''\n",
    "# tqdm is for printing the status bar\n",
    "for sentence in tqdm(final_data['Summary'].values):\n",
    "    sentence = re.sub(r\"http\\S+\", \"\", sentence)  # To remove urls from text\n",
    "    sentence = BeautifulSoup(sentence, 'lxml').get_text() # To remove all tags from an element\n",
    "    sentence = decontracted(sentence) # Expanding English language contractions  like, you've -> you have,  aren't -> are not\n",
    "    sentence = re.sub(r'[^\\w\\s]','', sentence)\n",
    "    sentence = re.sub(\"\\S*\\d\\S*\", \"\", sentence).strip() # removes words with numbers\n",
    "    sentence = re.sub('[^A-Za-z]+', ' ', sentence) # removes special characters\n",
    "    sentence = sentence.lower()  # Converting words into lowercase\n",
    "    # https://gist.github.com/sebleier/554280\n",
    "    sentence = ' '.join(e.lower() for e in sentence.split() if e.lower() not in stopwords)\n",
    "    summary_data.append(sentence.strip())"
   ]
  },
  {
   "cell_type": "code",
   "execution_count": 37,
   "metadata": {},
   "outputs": [
    {
     "data": {
      "text/plain": [
       "'awesome yummy'"
      ]
     },
     "execution_count": 37,
     "metadata": {},
     "output_type": "execute_result"
    }
   ],
   "source": [
    "summary_data[56000]"
   ]
  },
  {
   "cell_type": "code",
   "execution_count": 38,
   "metadata": {},
   "outputs": [],
   "source": [
    "# store final_data table into an SQlLite table for future.\n",
    "conn = sqlite3.connect('final_data.sqlite')\n",
    "c=conn.cursor()\n",
    "conn.text_factory = str\n",
    "final_data.to_sql('Reviews', conn,  schema=None, if_exists='replace', index=True, index_label=None, chunksize=None, dtype=None)\n"
   ]
  },
  {
   "cell_type": "code",
   "execution_count": 39,
   "metadata": {},
   "outputs": [
    {
     "data": {
      "text/html": [
       "<div>\n",
       "<style scoped>\n",
       "    .dataframe tbody tr th:only-of-type {\n",
       "        vertical-align: middle;\n",
       "    }\n",
       "\n",
       "    .dataframe tbody tr th {\n",
       "        vertical-align: top;\n",
       "    }\n",
       "\n",
       "    .dataframe thead th {\n",
       "        text-align: right;\n",
       "    }\n",
       "</style>\n",
       "<table border=\"1\" class=\"dataframe\">\n",
       "  <thead>\n",
       "    <tr style=\"text-align: right;\">\n",
       "      <th></th>\n",
       "      <th>Id</th>\n",
       "      <th>ProductId</th>\n",
       "      <th>UserId</th>\n",
       "      <th>ProfileName</th>\n",
       "      <th>HelpfulnessNumerator</th>\n",
       "      <th>HelpfulnessDenominator</th>\n",
       "      <th>Score</th>\n",
       "      <th>Time</th>\n",
       "      <th>Summary</th>\n",
       "      <th>Text</th>\n",
       "      <th>CleanedText</th>\n",
       "      <th>CleanedSummary</th>\n",
       "    </tr>\n",
       "  </thead>\n",
       "  <tbody>\n",
       "    <tr>\n",
       "      <th>138706</th>\n",
       "      <td>150524</td>\n",
       "      <td>0006641040</td>\n",
       "      <td>ACITT7DI6IDDL</td>\n",
       "      <td>shari zychinski</td>\n",
       "      <td>0</td>\n",
       "      <td>0</td>\n",
       "      <td>1</td>\n",
       "      <td>939340800</td>\n",
       "      <td>EVERY book is educational</td>\n",
       "      <td>this witty little book makes my son laugh at l...</td>\n",
       "      <td>witty little book makes son laugh loud recite ...</td>\n",
       "      <td>every book educational</td>\n",
       "    </tr>\n",
       "    <tr>\n",
       "      <th>138688</th>\n",
       "      <td>150506</td>\n",
       "      <td>0006641040</td>\n",
       "      <td>A2IW4PEEKO2R0U</td>\n",
       "      <td>Tracy</td>\n",
       "      <td>1</td>\n",
       "      <td>1</td>\n",
       "      <td>1</td>\n",
       "      <td>1194739200</td>\n",
       "      <td>Love the book, miss the hard cover version</td>\n",
       "      <td>I grew up reading these Sendak books, and watc...</td>\n",
       "      <td>grew reading sendak books watching really rosi...</td>\n",
       "      <td>love book miss hard cover version</td>\n",
       "    </tr>\n",
       "    <tr>\n",
       "      <th>138689</th>\n",
       "      <td>150507</td>\n",
       "      <td>0006641040</td>\n",
       "      <td>A1S4A3IQ2MU7V4</td>\n",
       "      <td>sally sue \"sally sue\"</td>\n",
       "      <td>1</td>\n",
       "      <td>1</td>\n",
       "      <td>1</td>\n",
       "      <td>1191456000</td>\n",
       "      <td>chicken soup with rice months</td>\n",
       "      <td>This is a fun way for children to learn their ...</td>\n",
       "      <td>fun way children learn months year learn poems...</td>\n",
       "      <td>chicken soup rice months</td>\n",
       "    </tr>\n",
       "  </tbody>\n",
       "</table>\n",
       "</div>"
      ],
      "text/plain": [
       "            Id   ProductId          UserId            ProfileName  \\\n",
       "138706  150524  0006641040   ACITT7DI6IDDL        shari zychinski   \n",
       "138688  150506  0006641040  A2IW4PEEKO2R0U                  Tracy   \n",
       "138689  150507  0006641040  A1S4A3IQ2MU7V4  sally sue \"sally sue\"   \n",
       "\n",
       "        HelpfulnessNumerator  HelpfulnessDenominator  Score        Time  \\\n",
       "138706                     0                       0      1   939340800   \n",
       "138688                     1                       1      1  1194739200   \n",
       "138689                     1                       1      1  1191456000   \n",
       "\n",
       "                                           Summary  \\\n",
       "138706                   EVERY book is educational   \n",
       "138688  Love the book, miss the hard cover version   \n",
       "138689               chicken soup with rice months   \n",
       "\n",
       "                                                     Text  \\\n",
       "138706  this witty little book makes my son laugh at l...   \n",
       "138688  I grew up reading these Sendak books, and watc...   \n",
       "138689  This is a fun way for children to learn their ...   \n",
       "\n",
       "                                              CleanedText  \\\n",
       "138706  witty little book makes son laugh loud recite ...   \n",
       "138688  grew reading sendak books watching really rosi...   \n",
       "138689  fun way children learn months year learn poems...   \n",
       "\n",
       "                           CleanedSummary  \n",
       "138706             every book educational  \n",
       "138688  love book miss hard cover version  \n",
       "138689           chicken soup rice months  "
      ]
     },
     "execution_count": 39,
     "metadata": {},
     "output_type": "execute_result"
    }
   ],
   "source": [
    "final_data['CleanedSummary'] = summary_data \n",
    "final_data.shape\n",
    "final_data.head(3)"
   ]
  },
  {
   "cell_type": "code",
   "execution_count": 40,
   "metadata": {},
   "outputs": [
    {
     "name": "stdout",
     "output_type": "stream",
     "text": [
      "1    307061\n",
      "0     57110\n",
      "Name: Score, dtype: int64\n"
     ]
    }
   ],
   "source": [
    "print(final_data['Score'].value_counts())"
   ]
  },
  {
   "cell_type": "markdown",
   "metadata": {},
   "source": [
    "# 4. Sample the data from the Dataset"
   ]
  },
  {
   "cell_type": "markdown",
   "metadata": {},
   "source": [
    "## [4.1]  Time Based Splitting\n",
    "\n",
    "Generally we do random splitting of entire dataset into train, test, cross validate data. With this method we may not get correct accuracy everytime. With time products change and reviews for the product also change, hence with random splitting we may not get best value/accuracy.\n",
    "\n",
    "But for Amazon Food Reviews Dataset Time based splitting is better than Random splittng. We can perform Time based splitting only when we have time feature in our dataset. Cross Validate data is used to find best hyper parameter and Test data is used to find accuracy and we train a model on all these.\n",
    "\n",
    "So Time based splitting gives more accuracy than random splitting, even on the future data when data changes with time. It's preferable to do Time based splitting when time is available.\n",
    "\n",
    "1. For each review in the dataset there is a timestamp. In Time based splitting, we first sort all the data in the dataset in increasing order(ascending) of time.\n",
    "2. Now split 70% of data into Train data and remaining 30% of data into test data.\n"
   ]
  },
  {
   "cell_type": "code",
   "execution_count": 41,
   "metadata": {},
   "outputs": [],
   "source": [
    "# sorting data using time\n",
    "final_data['Time'] = pd.to_datetime(final_data['Time'])\n",
    "final_data = final_data.sort_values(by = 'Time', ascending = True)\n"
   ]
  },
  {
   "cell_type": "code",
   "execution_count": 42,
   "metadata": {},
   "outputs": [
    {
     "data": {
      "text/html": [
       "<div>\n",
       "<style scoped>\n",
       "    .dataframe tbody tr th:only-of-type {\n",
       "        vertical-align: middle;\n",
       "    }\n",
       "\n",
       "    .dataframe tbody tr th {\n",
       "        vertical-align: top;\n",
       "    }\n",
       "\n",
       "    .dataframe thead th {\n",
       "        text-align: right;\n",
       "    }\n",
       "</style>\n",
       "<table border=\"1\" class=\"dataframe\">\n",
       "  <thead>\n",
       "    <tr style=\"text-align: right;\">\n",
       "      <th></th>\n",
       "      <th>Id</th>\n",
       "      <th>ProductId</th>\n",
       "      <th>UserId</th>\n",
       "      <th>ProfileName</th>\n",
       "      <th>HelpfulnessNumerator</th>\n",
       "      <th>HelpfulnessDenominator</th>\n",
       "      <th>Score</th>\n",
       "      <th>Time</th>\n",
       "      <th>Summary</th>\n",
       "      <th>Text</th>\n",
       "      <th>CleanedText</th>\n",
       "      <th>CleanedSummary</th>\n",
       "    </tr>\n",
       "  </thead>\n",
       "  <tbody>\n",
       "    <tr>\n",
       "      <th>138706</th>\n",
       "      <td>150524</td>\n",
       "      <td>0006641040</td>\n",
       "      <td>ACITT7DI6IDDL</td>\n",
       "      <td>shari zychinski</td>\n",
       "      <td>0</td>\n",
       "      <td>0</td>\n",
       "      <td>1</td>\n",
       "      <td>1970-01-01 00:00:00.939340800</td>\n",
       "      <td>EVERY book is educational</td>\n",
       "      <td>this witty little book makes my son laugh at l...</td>\n",
       "      <td>witty little book makes son laugh loud recite ...</td>\n",
       "      <td>every book educational</td>\n",
       "    </tr>\n",
       "    <tr>\n",
       "      <th>138683</th>\n",
       "      <td>150501</td>\n",
       "      <td>0006641040</td>\n",
       "      <td>AJ46FKXOVC7NR</td>\n",
       "      <td>Nicholas A Mesiano</td>\n",
       "      <td>2</td>\n",
       "      <td>2</td>\n",
       "      <td>1</td>\n",
       "      <td>1970-01-01 00:00:00.940809600</td>\n",
       "      <td>This whole series is great way to spend time w...</td>\n",
       "      <td>I can remember seeing the show when it aired o...</td>\n",
       "      <td>remember seeing show aired television years ag...</td>\n",
       "      <td>whole series great way spend time child</td>\n",
       "    </tr>\n",
       "    <tr>\n",
       "      <th>417839</th>\n",
       "      <td>451856</td>\n",
       "      <td>B00004CXX9</td>\n",
       "      <td>AIUWLEQ1ADEG5</td>\n",
       "      <td>Elizabeth Medina</td>\n",
       "      <td>0</td>\n",
       "      <td>0</td>\n",
       "      <td>1</td>\n",
       "      <td>1970-01-01 00:00:00.944092800</td>\n",
       "      <td>Entertainingl Funny!</td>\n",
       "      <td>Beetlejuice is a well written movie ..... ever...</td>\n",
       "      <td>beetlejuice well written movie everything exce...</td>\n",
       "      <td>entertainingl funny</td>\n",
       "    </tr>\n",
       "  </tbody>\n",
       "</table>\n",
       "</div>"
      ],
      "text/plain": [
       "            Id   ProductId         UserId         ProfileName  \\\n",
       "138706  150524  0006641040  ACITT7DI6IDDL     shari zychinski   \n",
       "138683  150501  0006641040  AJ46FKXOVC7NR  Nicholas A Mesiano   \n",
       "417839  451856  B00004CXX9  AIUWLEQ1ADEG5    Elizabeth Medina   \n",
       "\n",
       "        HelpfulnessNumerator  HelpfulnessDenominator  Score  \\\n",
       "138706                     0                       0      1   \n",
       "138683                     2                       2      1   \n",
       "417839                     0                       0      1   \n",
       "\n",
       "                                Time  \\\n",
       "138706 1970-01-01 00:00:00.939340800   \n",
       "138683 1970-01-01 00:00:00.940809600   \n",
       "417839 1970-01-01 00:00:00.944092800   \n",
       "\n",
       "                                                  Summary  \\\n",
       "138706                          EVERY book is educational   \n",
       "138683  This whole series is great way to spend time w...   \n",
       "417839                               Entertainingl Funny!   \n",
       "\n",
       "                                                     Text  \\\n",
       "138706  this witty little book makes my son laugh at l...   \n",
       "138683  I can remember seeing the show when it aired o...   \n",
       "417839  Beetlejuice is a well written movie ..... ever...   \n",
       "\n",
       "                                              CleanedText  \\\n",
       "138706  witty little book makes son laugh loud recite ...   \n",
       "138683  remember seeing show aired television years ag...   \n",
       "417839  beetlejuice well written movie everything exce...   \n",
       "\n",
       "                                 CleanedSummary  \n",
       "138706                   every book educational  \n",
       "138683  whole series great way spend time child  \n",
       "417839                      entertainingl funny  "
      ]
     },
     "execution_count": 42,
     "metadata": {},
     "output_type": "execute_result"
    }
   ],
   "source": [
    "# display top 5 rows\n",
    "final_data.head(3)"
   ]
  },
  {
   "cell_type": "markdown",
   "metadata": {},
   "source": [
    "### Sample the data from the Dataset"
   ]
  },
  {
   "cell_type": "code",
   "execution_count": 56,
   "metadata": {},
   "outputs": [
    {
     "name": "stdout",
     "output_type": "stream",
     "text": [
      "(10000, 12)\n",
      "1    8868\n",
      "0    1132\n",
      "Name: Score, dtype: int64\n"
     ]
    }
   ],
   "source": [
    "# taking top 10000 data points due to computational issues and computation time for RBF kernel is taking very long \n",
    "# more than 24hrs in my laptop. Please consider it.\n",
    "\n",
    "total_score = final_data.iloc[:10000,:]\n",
    "print(total_score.shape)\n",
    "print(total_score['Score'].value_counts())"
   ]
  },
  {
   "cell_type": "markdown",
   "metadata": {},
   "source": [
    "## [4.2] Splitting data into Train and Test data"
   ]
  },
  {
   "cell_type": "code",
   "execution_count": 57,
   "metadata": {},
   "outputs": [
    {
     "name": "stdout",
     "output_type": "stream",
     "text": [
      "X_train_rbf, Y_train_rbf (7000,) (7000,)\n",
      "X_test_rbf, Y_test_rbf (3000,) (3000,)\n"
     ]
    }
   ],
   "source": [
    "# splitting the data into train, test data\n",
    "from sklearn.cross_validation import train_test_split\n",
    "X = total_score['CleanedText']\n",
    "Y = total_score['Score']\n",
    "# X = total data, Y = class labels, X_test and Y_test are test data set of 30%\n",
    "# Total score is splitted into Train and test data with 70-30 ratio\n",
    "\n",
    "X_train_rbf, X_test_rbf, Y_train_rbf, Y_test_rbf = train_test_split(X, Y, test_size=0.3, random_state=0)\n",
    "\n",
    "print('X_train_rbf, Y_train_rbf', X_train_rbf.shape, Y_train_rbf.shape)\n",
    "print('X_test_rbf, Y_test_rbf', X_test_rbf.shape, Y_test_rbf.shape)"
   ]
  },
  {
   "cell_type": "markdown",
   "metadata": {},
   "source": [
    "# [5] Featurizations"
   ]
  },
  {
   "cell_type": "markdown",
   "metadata": {},
   "source": [
    "## 5.1 BoW for RBF Kernel"
   ]
  },
  {
   "cell_type": "code",
   "execution_count": 58,
   "metadata": {},
   "outputs": [
    {
     "name": "stdout",
     "output_type": "stream",
     "text": [
      "the type of count vectorizer  <class 'scipy.sparse.csr.csr_matrix'>\n",
      "the type of count vectorizer  <class 'scipy.sparse.csr.csr_matrix'>\n",
      "(7000, 500)\n",
      "(3000, 500)\n",
      "the number of unique words are  500\n",
      "the number of unique words are  500\n"
     ]
    }
   ],
   "source": [
    "# BoW for 10k sample data for RBF kernel\n",
    "# Creating a variable count_vect of CountVectorizer type and inititalizing it.\n",
    "# min_df is used for removing terms that appear too infrequently/ less frequently\n",
    "# min_df = 10 means \"ignore terms that appear in less than 10 documents\n",
    "# max_features - It considers the top max_features ordered by term frequency across the corpus.\n",
    "\n",
    "count_vect = CountVectorizer(min_df = 10, max_features = 500) #in scikit-learn\n",
    "\n",
    "# X_train_rbf and X_test_rbf data is converted vector and is stored in X_train_rbf_bow and X_test_rbf_bow\n",
    "X_train_rbf_bow = count_vect.fit_transform(X_train_rbf)\n",
    "X_test_rbf_bow = count_vect.transform(X_test_rbf)\n",
    "\n",
    "# sparse matrix - most of the values of any row in a matrix are zero.Such matrices are called sparse matrix and row in the matrix is sparse vector\n",
    "# The more sparse a matrix is, the more efficient is sparse matrix representation technique\n",
    "print(\"the type of count vectorizer \", type(X_train_rbf_bow))# gets the type of X_train_rbf_bow which is a matrix\n",
    "print(\"the type of count vectorizer \", type(X_test_rbf_bow))# gets the type of X_test_rbf_bow which is a matrix\n",
    "\n",
    "# gets the shape of the matrix\n",
    "print(X_train_rbf_bow.get_shape()) \n",
    "print(X_test_rbf_bow.get_shape()) \n",
    "\n",
    "print(\"the number of unique words are \", X_train_rbf_bow.get_shape()[1])\n",
    "print(\"the number of unique words are \", X_test_rbf_bow.get_shape()[1])\n"
   ]
  },
  {
   "cell_type": "markdown",
   "metadata": {},
   "source": [
    "### Standardizing the data"
   ]
  },
  {
   "cell_type": "code",
   "execution_count": 59,
   "metadata": {},
   "outputs": [
    {
     "name": "stdout",
     "output_type": "stream",
     "text": [
      "Final shape of matrix (7000, 500)\n",
      "Final shape of matrix (3000, 500)\n"
     ]
    }
   ],
   "source": [
    "from sklearn.preprocessing import StandardScaler\n",
    "# Standardize the data\n",
    "scalar = StandardScaler(with_mean=False)\n",
    "X_train_rbf_bow_std = scalar.fit_transform(X_train_rbf_bow)\n",
    "X_test_rbf_bow_std = scalar.transform(X_test_rbf_bow)\n",
    "\n",
    "print(\"Final shape of matrix\", X_train_rbf_bow_std.shape)\n",
    "print(\"Final shape of matrix\", X_test_rbf_bow_std.shape)"
   ]
  },
  {
   "cell_type": "markdown",
   "metadata": {},
   "source": [
    "# RBF Kernel"
   ]
  },
  {
   "cell_type": "markdown",
   "metadata": {},
   "source": [
    "##  5.2  Applying GridSearchCV and RBF Kernel on BoW using AUC-score as metric "
   ]
  },
  {
   "cell_type": "code",
   "execution_count": 61,
   "metadata": {},
   "outputs": [
    {
     "name": "stdout",
     "output_type": "stream",
     "text": [
      "Model with best parameters is :\n",
      " SVC(C=1, cache_size=200, class_weight='balanced', coef0=0.0,\n",
      "  decision_function_shape='ovr', degree=3, gamma='auto', kernel='rbf',\n",
      "  max_iter=-1, probability=True, random_state=None, shrinking=True,\n",
      "  tol=0.001, verbose=False)\n",
      "The optimal value of C is: 1\n"
     ]
    }
   ],
   "source": [
    "# Implementing RBF Kernel.\n",
    "# C and gamma are the hyperparameters for RBF Kernel. gamma = 1/sigma\n",
    "from sklearn.model_selection import GridSearchCV\n",
    "from sklearn.svm import SVC\n",
    "\n",
    "# GridsearchCV trains the model on these parmters to find the best one\n",
    "# List of parameters for hyperparameter tuning\n",
    "# 'gamma': [0.00001, 0.0001, 0.001, 0.01, 0.1, 1, 10, 100, 1000, 10000]\n",
    "\n",
    "tuned_parameters = {'C':[0.00001, 0.0001, 0.001, 0.01, 0.1, 1, 10, 100, 1000, 10000]}\n",
    "\n",
    "#Now using GridSearchCV, RBF Kernel is trained on these list of hyperparameters/values of gamma.\n",
    "# We have to take the kernel = rbf here, though we can take other kernels depending on requirement. \n",
    "# Here probability is taken as True beacause , we need to get probability scores to plot ROC curve and get AUC score. So\n",
    "# predict_proba doesn't work if probability is false.\n",
    "\n",
    "svc_clf = SVC(kernel = 'rbf', probability=True, class_weight = 'balanced')\n",
    "\n",
    "model_rbf = GridSearchCV(svc_clf, tuned_parameters, scoring = 'roc_auc', n_jobs = -1, cv=5)\n",
    "model_rbf.fit(X_train_rbf_bow_std, Y_train_rbf)\n",
    "\n",
    "print(\"Model with best parameters is :\\n\", model_rbf.best_estimator_)\n",
    "\n",
    "optimal_C = model_rbf.best_estimator_.C\n",
    "print(\"The optimal value of C is:\", optimal_C)"
   ]
  },
  {
   "cell_type": "code",
   "execution_count": 62,
   "metadata": {},
   "outputs": [
    {
     "name": "stdout",
     "output_type": "stream",
     "text": [
      "0.8709465622733366\n"
     ]
    }
   ],
   "source": [
    "# get the score on test data \n",
    "print(model_rbf.score(X_test_rbf_bow_std, Y_test_rbf))  \n"
   ]
  },
  {
   "cell_type": "markdown",
   "metadata": {},
   "source": [
    "### 5.3  Predicting Test score and Test error"
   ]
  },
  {
   "cell_type": "code",
   "execution_count": 63,
   "metadata": {},
   "outputs": [
    {
     "name": "stdout",
     "output_type": "stream",
     "text": [
      "\n",
      "The test AUC-score of the RBF kernel BoW for optimal hyperparameters is 51.170751%\n"
     ]
    }
   ],
   "source": [
    "# Predicting model on test data to find AUC -score for RBF\n",
    "from sklearn.metrics import roc_auc_score\n",
    "\n",
    "rbf_optimal = SVC(C = optimal_C)\n",
    "\n",
    "# fitting the model\n",
    "rbf_optimal.fit(X_train_rbf_bow_std, Y_train_rbf)\n",
    "\n",
    "# predict the response\n",
    "pred_bow_rbf = rbf_optimal.predict(X_test_rbf_bow_std)\n",
    "\n",
    "# evaluate accuracy. Using AUC_score as metric to measure accuracy\n",
    "test_bow_rbf = roc_auc_score(Y_test_rbf, pred_bow_rbf) * float(100)\n",
    "print('\\nThe test AUC-score of the RBF kernel BoW for optimal hyperparameters is %f%%' % (test_bow_rbf))\n",
    "\n"
   ]
  },
  {
   "cell_type": "code",
   "execution_count": 64,
   "metadata": {},
   "outputs": [
    {
     "name": "stdout",
     "output_type": "stream",
     "text": [
      "Test Error for RBF Kernel BoW is 0.488%\n"
     ]
    }
   ],
   "source": [
    "# Finding test error\n",
    "test_error_bow_rbf = (1 - roc_auc_score(Y_test_rbf, pred_bow_rbf)) \n",
    "print(\"Test Error for RBF Kernel BoW is %.3f%%\" % (test_error_bow_rbf))"
   ]
  },
  {
   "cell_type": "markdown",
   "metadata": {},
   "source": [
    "### 5.4 Plotting the performance of Train and CV scores for BoW RBF Kernel with both hyperparameters"
   ]
  },
  {
   "cell_type": "code",
   "execution_count": 66,
   "metadata": {},
   "outputs": [
    {
     "data": {
      "image/png": "[encoded data removed]",
      "text/plain": [
       "<Figure size 1080x360 with 1 Axes>"
      ]
     },
     "metadata": {},
     "output_type": "display_data"
    },
    {
     "name": "stdout",
     "output_type": "stream",
     "text": [
      "The CV AUC-score for each C value is :  [0.789 0.789 0.789 0.789 0.848 0.861 0.847 0.821 0.812 0.806]\n",
      "the Train AUC score for each C value is :  [0.882 0.882 0.882 0.882 0.949 0.993 0.999 1.    1.    1.   ]\n"
     ]
    }
   ],
   "source": [
    "\n",
    "plt.figure(figsize=(15,5))\n",
    "plt.xlabel('Hyperparamter C')\n",
    "plt.ylabel('AUC Scores')\n",
    "plt.title('Error Plot for BoW RBF')\n",
    "# mean_train_score is to get mean value of all the error scores we got during cross validation\n",
    "# cv_results_  = returns a dictionary of all the evaluation metrics from the gridsearch\n",
    "plt.plot(model_rbf.cv_results_['param_C'].data.astype(np.float64), model_rbf.cv_results_['mean_train_score'], \n",
    "         linestyle='--', marker='o', color='b', label='Train Score')\n",
    "plt.plot(model_rbf.cv_results_['param_C'].data.astype(np.float64), model_rbf.cv_results_['mean_test_score'], \n",
    "         linestyle='--', marker='*', color='r', label='CV Score')\n",
    "plt.legend()\n",
    "plt.show()\n",
    "\n",
    "print(\"The CV AUC-score for each C value is : \", np.round(model_rbf.cv_results_['mean_test_score'],3))\n",
    "\n",
    "print(\"the Train AUC score for each C value is : \", np.round(model_rbf.cv_results_['mean_train_score'],3))\n"
   ]
  },
  {
   "cell_type": "markdown",
   "metadata": {},
   "source": [
    "### 5.5 Plotting ROC curve and finding AUC score for BoW RBF Kernel"
   ]
  },
  {
   "cell_type": "code",
   "execution_count": 67,
   "metadata": {},
   "outputs": [
    {
     "data": {
      "image/png": "[encoded data removed]",
      "text/plain": [
       "<Figure size 432x288 with 1 Axes>"
      ]
     },
     "metadata": {},
     "output_type": "display_data"
    }
   ],
   "source": [
    "# ROC curve and AUC for BoW\n",
    "from sklearn.metrics import roc_curve, auc\n",
    "# Predicting the probabilities of test data as ROC curve needs probabilities to plot\n",
    "Y_prob_rbf = model_rbf.fit(X_train_rbf_bow_std, Y_train_rbf)\n",
    "\n",
    "train_fpr, train_tpr, thresholds = roc_curve(Y_train_rbf, Y_prob_rbf.predict_proba(X_train_rbf_bow_std)[:,1])\n",
    "test_fpr, test_tpr, thresholds = roc_curve(Y_test_rbf, Y_prob_rbf.predict_proba(X_test_rbf_bow_std)[:,1])\n",
    "\n",
    "# Giving actual values(Y_test) and predicted probabilities Y_prob\n",
    "# we need to calculate the fpr and tpr for all thresholds of the classification \n",
    "\n",
    "# We calculate the AUC (Area Under Curve)\n",
    "roc_auc_train = auc(train_fpr, train_tpr)\n",
    "roc_auc_test = auc(test_fpr, test_tpr)\n",
    "    \n",
    "# Plot FPR (on x-axis) v/s TPR (on y-axis)\n",
    "plt.title('ROC Curve for BoW RBF')\n",
    "plt.plot(train_fpr, train_tpr, 'b', label='Train AUC = %0.2f'% roc_auc_train)\n",
    "plt.plot(test_fpr, test_tpr, 'r', label='Test AUC = %0.2f'% roc_auc_test)\n",
    "\n",
    "plt.legend(loc='lower right')\n",
    "plt.plot([0,1],[0,1],'k--')\n",
    "plt.xlim([-0.1,1.2])\n",
    "plt.ylim([-0.1,1.2])\n",
    "plt.ylabel('True Positive Rate')\n",
    "plt.xlabel('False Positive Rate')\n",
    "plt.show()"
   ]
  },
  {
   "cell_type": "markdown",
   "metadata": {},
   "source": [
    "#### Observation:-\n",
    "\n",
    "From the ROC plot, we got the Train AUC of 0.98 and test AUC of 0.88, which shows that the classifier is working well and predicts correctly.\n"
   ]
  },
  {
   "cell_type": "markdown",
   "metadata": {},
   "source": [
    "### 5.6 Confusion matrix for BoW RBF Kernel Train data"
   ]
  },
  {
   "cell_type": "code",
   "execution_count": 68,
   "metadata": {},
   "outputs": [
    {
     "name": "stdout",
     "output_type": "stream",
     "text": [
      "Train confusion matrix\n",
      "[[ 297  474]\n",
      " [   0 6229]]\n"
     ]
    }
   ],
   "source": [
    "# Confusion matrix for Train data\n",
    "from sklearn.metrics import confusion_matrix\n",
    "print(\"Train confusion matrix\")\n",
    "pred_bow_train = rbf_optimal.predict(X_train_rbf_bow_std)\n",
    "cm = confusion_matrix(Y_train_rbf, pred_bow_train)\n",
    "print(cm)"
   ]
  },
  {
   "cell_type": "code",
   "execution_count": 69,
   "metadata": {},
   "outputs": [
    {
     "data": {
      "image/png": "[encoded data removed]",
      "text/plain": [
       "<Figure size 432x288 with 2 Axes>"
      ]
     },
     "metadata": {},
     "output_type": "display_data"
    }
   ],
   "source": [
    "# plot confusion matrix for BoW Train data\n",
    "class_label = [\"negative\", \"positive\"] # create a class label for columns and rows\n",
    "cm = confusion_matrix(Y_train_rbf, pred_bow_train) \n",
    "dataframe_cm = pd.DataFrame(cm, index = class_label, columns = class_label) # create a dataframe to plot confusion matrix\n",
    "# A heatmap is a two-dimensional graphical representation of data in seaborn,\n",
    "# where the individual values in a matrix are represented with colors.\n",
    "sns.heatmap(dataframe_cm, annot = True, fmt = \"d\") # annot=true means, write the data value in each cell\n",
    "plt.title(\"Train Confusion Matrix for BoW RBF\")\n",
    "plt.xlabel(\"Predicted Label\")\n",
    "plt.ylabel(\"True Label\")\n",
    "plt.show()"
   ]
  },
  {
   "cell_type": "markdown",
   "metadata": {},
   "source": [
    "### 5.7 Confusion matrix for BoW RBF Kernel Test data"
   ]
  },
  {
   "cell_type": "code",
   "execution_count": 70,
   "metadata": {},
   "outputs": [
    {
     "name": "stdout",
     "output_type": "stream",
     "text": [
      "Test confusion matrix\n",
      "[[   9  352]\n",
      " [   4 2635]]\n"
     ]
    }
   ],
   "source": [
    "# Using confusion matrix as a another metric to measure accuracy\n",
    "from sklearn.metrics import confusion_matrix\n",
    "print(\"Test confusion matrix\")\n",
    "pred_bow_test = rbf_optimal.predict(X_test_rbf_bow_std)\n",
    "cm = confusion_matrix(Y_test_rbf, pred_bow_test) # finding confusion matrix between true data and predicted data\n",
    "print(cm)"
   ]
  },
  {
   "cell_type": "code",
   "execution_count": 71,
   "metadata": {},
   "outputs": [
    {
     "data": {
      "image/png": "[encoded data removed]",
      "text/plain": [
       "<Figure size 432x288 with 2 Axes>"
      ]
     },
     "metadata": {},
     "output_type": "display_data"
    }
   ],
   "source": [
    "# plot confusion matrix for BoW RBF\n",
    "class_label = [\"negative\", \"positive\"] # create a class label for columns and rows\n",
    "cm = confusion_matrix(Y_test_rbf, pred_bow_test) \n",
    "dataframe_cm = pd.DataFrame(cm, index = class_label, columns = class_label) # create a dataframe to plot confusion matrix\n",
    "# A heatmap is a two-dimensional graphical representation of data in seaborn,\n",
    "# where the individual values in a matrix are represented with colors.\n",
    "sns.heatmap(dataframe_cm, annot = True, fmt = \"d\") # annot=true means, write the data value in each cell\n",
    "plt.title(\"Test Confusion Matrix for BoW RBF\")\n",
    "plt.xlabel(\"Predicted Label\")\n",
    "plt.ylabel(\"True Label\")\n",
    "plt.show()"
   ]
  },
  {
   "cell_type": "markdown",
   "metadata": {},
   "source": [
    "#### Observations:-\n",
    "\n",
    "A Confusion matrix is a table that is often used to describe the performance of the classification model on a set of test data. It is also one of the metric to measure accuracy of the model.\n",
    "\n",
    "A confusion matrix is a summary of prediction results on a classification problem. The number of correct and incorrect predictions are summarized with count values and broken down by each class. The confusion matrix shows how the classification model is confused when it makes predictions.\n",
    "\n",
    "The above confusion matrix is didvided into 2 classes positive and negative with True values and predicted values.\n",
    "\n",
    "TN - 9      FP - 352\n",
    "\n",
    "FN - 4 ,    TP - 2635\n",
    "\n",
    "where\n",
    "\n",
    "TN - True negative, True value is negative, and is predicted value is negative.\n",
    "FP - False positive, True value is negative, but is predicted as positive.\n",
    "FN - False negative, True value is positive, but is predicted as negative\n",
    "TP - True positive, True value is positive, and is predicted value is positive.\n",
    "\n",
    "1. There are total of 3000 points being tested against the model. Out of all values, the classifier/model predicted points as positive 2987 times and negative 13 times.\n",
    "2. But in true values(test data), the positive points are 2639 and negative points are 361.\n",
    "3. The diagonal values (9 negative points, 2635 positive points) in the confusion matrix are correctly predicted values by the classifier.\n",
    "\n"
   ]
  },
  {
   "cell_type": "markdown",
   "metadata": {},
   "source": [
    "#### Finding TPR, FPR, TNR, FNR values\n",
    "\n",
    "1.  TPR tells, when it's actually yes and how often does classifier predict yes\n",
    "\n",
    "    TPR = TP/(TP+FN) . TPR also known as Recall\n",
    "\n",
    "\n",
    "2.  FPR tells, when it's actually no, how often does classifier predict yes\n",
    "\n",
    "    FPR = FP/(FP+TN) \n",
    "\n",
    "\n",
    "3.  TNR tells, when it's actually no, how often does classifier predict no\n",
    "\n",
    "    TNR = TN/(TN+FP)\n",
    "\n",
    "\n",
    "4.  FNR tells, When it's actually yes, how often does it predict no\n",
    "\n",
    "    FNR = FN/(FN+TP) \n"
   ]
  },
  {
   "cell_type": "markdown",
   "metadata": {},
   "source": [
    "### 5.7  Classification report for BoW RBF Kernel:-\n",
    "\n",
    "\n",
    "\n",
    "1.  Classification Rate/Accuracy:\n",
    "\n",
    "    Accuracy = (TP + TN) / (TP + TN + FP + FN)\n",
    "\n",
    "\n",
    "2.  Recall:- It tells, when the points are positive and how often they are predicted positive.\n",
    "\n",
    "    Recall = TP / (TP + FN)\n",
    "\n",
    "\n",
    "3.  Precision:- It tells, when the model predicted positive and how often is it correct.\n",
    "\n",
    "    Precision = TP / (TP + FP)\n",
    "\n",
    "\n",
    "4.  f1-score = (2 Recall Precision) / (Recall + Presision)\n",
    "\n",
    "\n",
    "5.  Support is the total number of points in each class (positive and negative)\n"
   ]
  },
  {
   "cell_type": "code",
   "execution_count": 72,
   "metadata": {},
   "outputs": [
    {
     "name": "stdout",
     "output_type": "stream",
     "text": [
      "Accuracy Score: 0.8813333333333333\n",
      "Report:\n",
      "             precision    recall  f1-score   support\n",
      "\n",
      "          0       0.69      0.02      0.05       361\n",
      "          1       0.88      1.00      0.94      2639\n",
      "\n",
      "avg / total       0.86      0.88      0.83      3000\n",
      "\n"
     ]
    }
   ],
   "source": [
    "# calculate the classification report for BoW\n",
    "from sklearn.metrics import classification_report \n",
    "from sklearn.metrics import accuracy_score\n",
    "\n",
    "print('Accuracy Score:', accuracy_score(Y_test_rbf, pred_bow_rbf)) \n",
    "print('Report:')\n",
    "print(classification_report(Y_test_rbf, pred_bow_rbf)) \n"
   ]
  },
  {
   "cell_type": "markdown",
   "metadata": {},
   "source": [
    "# 6.  TF-IDF"
   ]
  },
  {
   "cell_type": "code",
   "execution_count": 73,
   "metadata": {},
   "outputs": [
    {
     "name": "stdout",
     "output_type": "stream",
     "text": [
      "the type of TFIDF vectorizer  <class 'scipy.sparse.csr.csr_matrix'>\n",
      "the type of TFIDF vectorizer  <class 'scipy.sparse.csr.csr_matrix'>\n",
      "(7000, 500)\n",
      "(3000, 500)\n",
      "the number of unique words  500\n",
      "the number of unique words  500\n"
     ]
    }
   ],
   "source": [
    "# TF-IDF\n",
    "# in Scikit-learn\n",
    "# tf_idf_vect is a variable created \n",
    "tf_idf_vect = TfidfVectorizer(ngram_range=(1,2), min_df = 10, max_features = 500) # 1=unigrams, 2=bi-grams\n",
    "\n",
    "# 'final_tf_idf' is the sparse matrix in which all of the tf-idf values are stored. \n",
    "# fit_transform is a function\n",
    "X_train_rbf_tfidf = tf_idf_vect.fit_transform(X_train_rbf)\n",
    "X_test_rbf_tfidf = tf_idf_vect.transform(X_test_rbf)\n",
    "\n",
    "print(\"the type of TFIDF vectorizer \",type(X_train_rbf_tfidf))\n",
    "print(\"the type of TFIDF vectorizer \",type(X_test_rbf_tfidf))\n",
    "\n",
    "print(X_train_rbf_tfidf.get_shape())\n",
    "print(X_test_rbf_tfidf.get_shape())\n",
    "\n",
    "print(\"the number of unique words \", X_train_rbf_tfidf.get_shape()[1])\n",
    "print(\"the number of unique words \", X_test_rbf_tfidf.get_shape()[1])\n"
   ]
  },
  {
   "cell_type": "markdown",
   "metadata": {},
   "source": [
    "#### Standardizing the data"
   ]
  },
  {
   "cell_type": "code",
   "execution_count": 74,
   "metadata": {},
   "outputs": [
    {
     "name": "stdout",
     "output_type": "stream",
     "text": [
      "Final shape of matrix (7000, 500)\n",
      "Final shape of matrix (3000, 500)\n"
     ]
    }
   ],
   "source": [
    "from sklearn.preprocessing import StandardScaler\n",
    "# Standardize the data\n",
    "scalar = StandardScaler(with_mean=False)\n",
    "X_train_tfidf_std = scalar.fit_transform(X_train_rbf_tfidf)\n",
    "X_test_tfidf_std = scalar.transform(X_test_rbf_tfidf)\n",
    "\n",
    "print(\"Final shape of matrix\", X_train_tfidf_std.shape)\n",
    "print(\"Final shape of matrix\", X_test_tfidf_std.shape)\n"
   ]
  },
  {
   "cell_type": "code",
   "execution_count": 76,
   "metadata": {},
   "outputs": [
    {
     "data": {
      "text/plain": [
       "500"
      ]
     },
     "execution_count": 76,
     "metadata": {},
     "output_type": "execute_result"
    }
   ],
   "source": [
    "# get_feature_names() function is used to get feature names and all are stored in a variable called 'features'\n",
    "features = tf_idf_vect.get_feature_names()\n",
    "len(features)"
   ]
  },
  {
   "cell_type": "code",
   "execution_count": 77,
   "metadata": {},
   "outputs": [
    {
     "name": "stdout",
     "output_type": "stream",
     "text": [
      "some sample features(unique words in the corpus) are:\n"
     ]
    },
    {
     "data": {
      "text/plain": [
       "['bread',\n",
       " 'breakfast',\n",
       " 'brew',\n",
       " 'brown',\n",
       " 'butter',\n",
       " 'buy',\n",
       " 'buying',\n",
       " 'caffeine',\n",
       " 'cake',\n",
       " 'called']"
      ]
     },
     "execution_count": 77,
     "metadata": {},
     "output_type": "execute_result"
    }
   ],
   "source": [
    "print(\"some sample features(unique words in the corpus) are:\")\n",
    "features[50:60]"
   ]
  },
  {
   "cell_type": "code",
   "execution_count": 78,
   "metadata": {},
   "outputs": [],
   "source": [
    "def top_tfidf_feats(row, features, top_n=20):\n",
    "    ''' Get top n tfidf values in row and return them with their corresponding feature names.'''\n",
    "    topn_ids = np.argsort(row)[::-1][:top_n]   # argsort sorts the top 20 tf-idf words for a given review\n",
    "    top_feats = [(features[i], row[i]) for i in topn_ids]\n",
    "    df = pd.DataFrame(top_feats)\n",
    "    df.columns = ['feature', 'tfidf']\n",
    "    return df\n",
    "\n",
    "# vector 1 corresponding to review 1 and converting it into a numpy array and giving all feature values and prints the top 20 tf-idf values\n",
    "top_tfidf = top_tfidf_feats(X_train_tfidf_std[1,:].toarray()[0],features,20)"
   ]
  },
  {
   "cell_type": "code",
   "execution_count": 79,
   "metadata": {},
   "outputs": [
    {
     "data": {
      "text/html": [
       "<div>\n",
       "<style scoped>\n",
       "    .dataframe tbody tr th:only-of-type {\n",
       "        vertical-align: middle;\n",
       "    }\n",
       "\n",
       "    .dataframe tbody tr th {\n",
       "        vertical-align: top;\n",
       "    }\n",
       "\n",
       "    .dataframe thead th {\n",
       "        text-align: right;\n",
       "    }\n",
       "</style>\n",
       "<table border=\"1\" class=\"dataframe\">\n",
       "  <thead>\n",
       "    <tr style=\"text-align: right;\">\n",
       "      <th></th>\n",
       "      <th>feature</th>\n",
       "      <th>tfidf</th>\n",
       "    </tr>\n",
       "  </thead>\n",
       "  <tbody>\n",
       "    <tr>\n",
       "      <th>0</th>\n",
       "      <td>soup</td>\n",
       "      <td>11.179032</td>\n",
       "    </tr>\n",
       "    <tr>\n",
       "      <th>1</th>\n",
       "      <td>chicken</td>\n",
       "      <td>8.291775</td>\n",
       "    </tr>\n",
       "    <tr>\n",
       "      <th>2</th>\n",
       "      <td>microwave</td>\n",
       "      <td>7.777456</td>\n",
       "    </tr>\n",
       "    <tr>\n",
       "      <th>3</th>\n",
       "      <td>cooking</td>\n",
       "      <td>6.687837</td>\n",
       "    </tr>\n",
       "    <tr>\n",
       "      <th>4</th>\n",
       "      <td>mouth</td>\n",
       "      <td>6.047835</td>\n",
       "    </tr>\n",
       "    <tr>\n",
       "      <th>5</th>\n",
       "      <td>noodles</td>\n",
       "      <td>4.739543</td>\n",
       "    </tr>\n",
       "    <tr>\n",
       "      <th>6</th>\n",
       "      <td>thing</td>\n",
       "      <td>4.601858</td>\n",
       "    </tr>\n",
       "    <tr>\n",
       "      <th>7</th>\n",
       "      <td>long</td>\n",
       "      <td>4.378784</td>\n",
       "    </tr>\n",
       "    <tr>\n",
       "      <th>8</th>\n",
       "      <td>different</td>\n",
       "      <td>4.254256</td>\n",
       "    </tr>\n",
       "    <tr>\n",
       "      <th>9</th>\n",
       "      <td>hard</td>\n",
       "      <td>3.710501</td>\n",
       "    </tr>\n",
       "    <tr>\n",
       "      <th>10</th>\n",
       "      <td>recommend</td>\n",
       "      <td>3.684666</td>\n",
       "    </tr>\n",
       "    <tr>\n",
       "      <th>11</th>\n",
       "      <td>two</td>\n",
       "      <td>3.646873</td>\n",
       "    </tr>\n",
       "    <tr>\n",
       "      <th>12</th>\n",
       "      <td>rice</td>\n",
       "      <td>3.404077</td>\n",
       "    </tr>\n",
       "    <tr>\n",
       "      <th>13</th>\n",
       "      <td>tried</td>\n",
       "      <td>2.650303</td>\n",
       "    </tr>\n",
       "    <tr>\n",
       "      <th>14</th>\n",
       "      <td>get</td>\n",
       "      <td>2.313143</td>\n",
       "    </tr>\n",
       "    <tr>\n",
       "      <th>15</th>\n",
       "      <td>would</td>\n",
       "      <td>2.070928</td>\n",
       "    </tr>\n",
       "    <tr>\n",
       "      <th>16</th>\n",
       "      <td>taste</td>\n",
       "      <td>1.671242</td>\n",
       "    </tr>\n",
       "    <tr>\n",
       "      <th>17</th>\n",
       "      <td>not</td>\n",
       "      <td>0.952597</td>\n",
       "    </tr>\n",
       "    <tr>\n",
       "      <th>18</th>\n",
       "      <td>feel</td>\n",
       "      <td>0.000000</td>\n",
       "    </tr>\n",
       "    <tr>\n",
       "      <th>19</th>\n",
       "      <td>fiber</td>\n",
       "      <td>0.000000</td>\n",
       "    </tr>\n",
       "  </tbody>\n",
       "</table>\n",
       "</div>"
      ],
      "text/plain": [
       "      feature      tfidf\n",
       "0        soup  11.179032\n",
       "1     chicken   8.291775\n",
       "2   microwave   7.777456\n",
       "3     cooking   6.687837\n",
       "4       mouth   6.047835\n",
       "5     noodles   4.739543\n",
       "6       thing   4.601858\n",
       "7        long   4.378784\n",
       "8   different   4.254256\n",
       "9        hard   3.710501\n",
       "10  recommend   3.684666\n",
       "11        two   3.646873\n",
       "12       rice   3.404077\n",
       "13      tried   2.650303\n",
       "14        get   2.313143\n",
       "15      would   2.070928\n",
       "16      taste   1.671242\n",
       "17        not   0.952597\n",
       "18       feel   0.000000\n",
       "19      fiber   0.000000"
      ]
     },
     "execution_count": 79,
     "metadata": {},
     "output_type": "execute_result"
    }
   ],
   "source": [
    "top_tfidf"
   ]
  },
  {
   "cell_type": "markdown",
   "metadata": {},
   "source": [
    "##  Implementing RBF Kernel using SVC on TF-IDF"
   ]
  },
  {
   "cell_type": "markdown",
   "metadata": {},
   "source": [
    "### [6.1]  Performing GridSearchCV with RBF SVC on TF-IDF using  auc-score as metric "
   ]
  },
  {
   "cell_type": "code",
   "execution_count": 80,
   "metadata": {},
   "outputs": [
    {
     "name": "stdout",
     "output_type": "stream",
     "text": [
      "Model with best parameters is :\n",
      " SVC(C=1, cache_size=200, class_weight='balanced', coef0=0.0,\n",
      "  decision_function_shape='ovr', degree=3, gamma='auto', kernel='rbf',\n",
      "  max_iter=-1, probability=True, random_state=None, shrinking=True,\n",
      "  tol=0.001, verbose=False)\n",
      "The optimal value of C is: 1\n"
     ]
    }
   ],
   "source": [
    "\n",
    "from sklearn.model_selection import GridSearchCV\n",
    "from sklearn.svm import SVC\n",
    "\n",
    "# GridsearchCV trains the model on these parmters to find the best one\n",
    "# List of parameters for hyperparameter tuning\n",
    "tuned_parameters = {'C': [0.00001, 0.0001, 0.001, 0.01, 0.1, 1, 10, 100, 1000, 10000]}\n",
    "\n",
    "svc_clf = SVC(kernel = 'rbf', probability=True, class_weight = 'balanced')\n",
    "\n",
    "model_rbf = GridSearchCV(svc_clf, tuned_parameters, scoring = 'roc_auc', n_jobs = -1, cv=5)\n",
    "model_rbf.fit(X_train_tfidf_std , Y_train_rbf)\n",
    "\n",
    "print(\"Model with best parameters is :\\n\", model_rbf.best_estimator_)\n",
    "\n",
    "optimal_C = model_rbf.best_estimator_.C\n",
    "print(\"The optimal value of C is:\", optimal_C)"
   ]
  },
  {
   "cell_type": "code",
   "execution_count": 81,
   "metadata": {},
   "outputs": [
    {
     "name": "stdout",
     "output_type": "stream",
     "text": [
      "0.8736473670564796\n"
     ]
    }
   ],
   "source": [
    "# get the score on test data \n",
    "print(model_rbf.score(X_test_tfidf_std , Y_test_rbf))  \n"
   ]
  },
  {
   "cell_type": "markdown",
   "metadata": {},
   "source": [
    "### [6.2] Predicting Test score and Test error for TF-IDF RBF Kernel"
   ]
  },
  {
   "cell_type": "code",
   "execution_count": 82,
   "metadata": {},
   "outputs": [
    {
     "name": "stdout",
     "output_type": "stream",
     "text": [
      "\n",
      "The test AUC-score of the RBF kernel TFIDF for optimal hyperparameters is 52.832801%\n"
     ]
    }
   ],
   "source": [
    "# Predicting model on test data to find AUC-score \n",
    "from sklearn.metrics import roc_auc_score\n",
    "\n",
    "rbf_optimal = SVC(C = optimal_C)\n",
    "\n",
    "# fitting the model\n",
    "rbf_optimal.fit(X_train_tfidf_std, Y_train_rbf)\n",
    "\n",
    "# predict the response\n",
    "pred_tfidf_rbf = rbf_optimal.predict(X_test_tfidf_std)\n",
    "\n",
    "# evaluate accuracy. Using AUC_score as metric to measure accuracy, , average = 'weighted'\n",
    "test_tfidf_rbf = roc_auc_score(Y_test_rbf, pred_tfidf_rbf) * float(100)\n",
    "print('\\nThe test AUC-score of the RBF kernel TFIDF for optimal hyperparameters is %f%%' % (test_tfidf_rbf))\n",
    "\n"
   ]
  },
  {
   "cell_type": "code",
   "execution_count": 83,
   "metadata": {},
   "outputs": [
    {
     "name": "stdout",
     "output_type": "stream",
     "text": [
      "Test Error for SGDclassifier TF-IDF RBF is 0.472%\n"
     ]
    }
   ],
   "source": [
    "# Finding test error\n",
    "test_error_tfidf = (1 - roc_auc_score(Y_test_rbf, pred_tfidf_rbf)) \n",
    "print(\"Test Error for SGDclassifier TF-IDF RBF is %.3f%%\" % (test_error_tfidf))"
   ]
  },
  {
   "cell_type": "markdown",
   "metadata": {},
   "source": [
    "### [6.3]   Plotting the performance of Train and CV scores for TF-IDF"
   ]
  },
  {
   "cell_type": "code",
   "execution_count": 84,
   "metadata": {},
   "outputs": [
    {
     "data": {
      "image/png": "[encoded data removed]",
      "text/plain": [
       "<Figure size 1080x360 with 1 Axes>"
      ]
     },
     "metadata": {},
     "output_type": "display_data"
    },
    {
     "name": "stdout",
     "output_type": "stream",
     "text": [
      "The CV AUC-score for each C value is :  [0.835 0.835 0.835 0.835 0.858 0.873 0.871 0.869 0.869 0.869]\n",
      "the Train AUC score for each C value is :  [0.928 0.928 0.928 0.928 0.962 1.    1.    1.    1.    1.   ]\n"
     ]
    }
   ],
   "source": [
    "plt.figure(figsize=(15,5))\n",
    "plt.xlabel('Hyperparamter C')\n",
    "plt.ylabel('AUC Scores')\n",
    "# mean_train_score is to get mean value of all the error scores we got during cross validation\n",
    "# cv_results_  = returns a dictionary of all the evaluation metrics from the gridsearch\n",
    "plt.plot(model_rbf.cv_results_['param_C'].data.astype(np.float64), model_rbf.cv_results_['mean_train_score'], \n",
    "         linestyle='--', marker='o', color='b', label='Train Score')\n",
    "plt.plot(model_rbf.cv_results_['param_C'].data.astype(np.float64), model_rbf.cv_results_['mean_test_score'], \n",
    "         linestyle='--', marker='*', color='r', label='CV Score')\n",
    "plt.legend()\n",
    "plt.show()\n",
    "\n",
    "print(\"The CV AUC-score for each C value is : \", np.round(model_rbf.cv_results_['mean_test_score'],3))\n",
    "\n",
    "print(\"the Train AUC score for each C value is : \", np.round(model_rbf.cv_results_['mean_train_score'],3))\n"
   ]
  },
  {
   "cell_type": "markdown",
   "metadata": {},
   "source": [
    "### [6.4]  Plotting ROC curve and finding AUC score for TFIDF"
   ]
  },
  {
   "cell_type": "code",
   "execution_count": 85,
   "metadata": {},
   "outputs": [
    {
     "data": {
      "image/png": "[encoded data removed]",
      "text/plain": [
       "<Figure size 432x288 with 1 Axes>"
      ]
     },
     "metadata": {},
     "output_type": "display_data"
    }
   ],
   "source": [
    "# ROC curve and AUC for TFIDF\n",
    "from sklearn.metrics import roc_curve, auc\n",
    "# Predicting the probabilities of test data as ROC curve needs probabilities to plot\n",
    "Y_prob_rbf = model_rbf.fit(X_train_tfidf_std, Y_train_rbf)\n",
    "\n",
    "train_fpr, train_tpr, thresholds = roc_curve(Y_train_rbf, Y_prob_rbf.predict_proba(X_train_tfidf_std)[:,1])\n",
    "test_fpr, test_tpr, thresholds = roc_curve(Y_test_rbf, Y_prob_rbf.predict_proba(X_test_tfidf_std)[:,1])\n",
    "\n",
    "# Giving actual values(Y_test) and predicted probabilities Y_prob\n",
    "# we need to calculate the fpr and tpr for all thresholds of the classification \n",
    "\n",
    "# We calculate the AUC (Area Under Curve)\n",
    "roc_auc_train = auc(train_fpr, train_tpr)\n",
    "roc_auc_test = auc(test_fpr, test_tpr)\n",
    "    \n",
    "# Plot FPR (on x-axis) v/s TPR (on y-axis)\n",
    "plt.title('ROC Curve for TFIDF RBF')\n",
    "plt.plot(train_fpr, train_tpr, 'b', label='Train AUC = %0.2f'% roc_auc_train)\n",
    "plt.plot(test_fpr, test_tpr, 'r', label='Test AUC = %0.2f'% roc_auc_test)\n",
    "\n",
    "plt.legend(loc='lower right')\n",
    "plt.plot([0,1],[0,1],'k--')\n",
    "plt.xlim([-0.1,1.2])\n",
    "plt.ylim([-0.1,1.2])\n",
    "plt.ylabel('True Positive Rate')\n",
    "plt.xlabel('False Positive Rate')\n",
    "plt.show()"
   ]
  },
  {
   "cell_type": "markdown",
   "metadata": {},
   "source": [
    "### [6.5] Confusion matrix for TFIDF RBF Train data"
   ]
  },
  {
   "cell_type": "code",
   "execution_count": 86,
   "metadata": {},
   "outputs": [
    {
     "name": "stdout",
     "output_type": "stream",
     "text": [
      "Train confusion matrix\n",
      "[[ 415  356]\n",
      " [   2 6227]]\n"
     ]
    }
   ],
   "source": [
    "# Confusion matrix for Train data\n",
    "from sklearn.metrics import confusion_matrix\n",
    "print(\"Train confusion matrix\")\n",
    "pred_tfidf_train = rbf_optimal.predict(X_train_tfidf_std)\n",
    "cm = confusion_matrix(Y_train_rbf, pred_tfidf_train)\n",
    "print(cm)"
   ]
  },
  {
   "cell_type": "code",
   "execution_count": 87,
   "metadata": {},
   "outputs": [
    {
     "data": {
      "image/png": "[encoded data removed]",
      "text/plain": [
       "<Figure size 432x288 with 2 Axes>"
      ]
     },
     "metadata": {},
     "output_type": "display_data"
    }
   ],
   "source": [
    "# plot confusion matrix for TFIDF Train data\n",
    "class_label = [\"negative\", \"positive\"] # create a class label for columns and rows\n",
    "cm = confusion_matrix(Y_train_rbf, pred_tfidf_train) \n",
    "dataframe_cm = pd.DataFrame(cm, index = class_label, columns = class_label) # create a dataframe to plot confusion matrix\n",
    "# A heatmap is a two-dimensional graphical representation of data in seaborn,\n",
    "# where the individual values in a matrix are represented with colors.\n",
    "sns.heatmap(dataframe_cm, annot = True, fmt = \"d\") # annot=true means, write the data value in each cell\n",
    "plt.title(\"Train Confusion Matrix for TFIDF RBF\")\n",
    "plt.xlabel(\"Predicted Label\")\n",
    "plt.ylabel(\"True Label\")\n",
    "plt.show()"
   ]
  },
  {
   "cell_type": "markdown",
   "metadata": {},
   "source": [
    "### 6.6 Confusion matrix for TFIDF RBF Test data"
   ]
  },
  {
   "cell_type": "code",
   "execution_count": 88,
   "metadata": {},
   "outputs": [
    {
     "name": "stdout",
     "output_type": "stream",
     "text": [
      "Test confusion matrix\n",
      "[[  21  340]\n",
      " [   4 2635]]\n"
     ]
    }
   ],
   "source": [
    "# Using confusion matrix as a another metric to measure accuracy\n",
    "from sklearn.metrics import confusion_matrix\n",
    "print(\"Test confusion matrix\")\n",
    "pred_tfidf_test = rbf_optimal.predict(X_test_tfidf_std)\n",
    "cm = confusion_matrix(Y_test_rbf, pred_tfidf_test) # finding confusion matrix between true data and predicted data\n",
    "print(cm)"
   ]
  },
  {
   "cell_type": "code",
   "execution_count": 89,
   "metadata": {},
   "outputs": [
    {
     "data": {
      "image/png": "[encoded data removed]",
      "text/plain": [
       "<Figure size 432x288 with 2 Axes>"
      ]
     },
     "metadata": {},
     "output_type": "display_data"
    }
   ],
   "source": [
    "# plot confusion matrix for TFIDF\n",
    "class_label = [\"negative\", \"positive\"] # create a class label for columns and rows\n",
    "cm = confusion_matrix(Y_test_rbf, pred_tfidf_test) \n",
    "dataframe_cm = pd.DataFrame(cm, index = class_label, columns = class_label) # create a dataframe to plot confusion matrix\n",
    "# A heatmap is a two-dimensional graphical representation of data in seaborn,\n",
    "# where the individual values in a matrix are represented with colors.\n",
    "sns.heatmap(dataframe_cm, annot = True, fmt = \"d\") # annot=true means, write the data value in each cell\n",
    "plt.title(\"Test Confusion Matrix for TFIDF RBF\")\n",
    "plt.xlabel(\"Predicted Label\")\n",
    "plt.ylabel(\"True Label\")\n",
    "plt.show()"
   ]
  },
  {
   "cell_type": "markdown",
   "metadata": {},
   "source": [
    "### [6.6]   Classification report for TFIDF:-\n",
    "\n",
    "1. Classification Rate/Accuracy:\n",
    "\n",
    "   Accuracy = (TP + TN) / (TP + TN + FP + FN)\n",
    "   \n",
    "\n",
    "2. Recall:- It tells, when the points are positive and how often they are predicted positive.\n",
    "\n",
    "   Recall = TP / (TP + FN)\n",
    "   \n",
    "\n",
    "3. Precision:- It tells, when the model predicted positive and how often is it correct.\n",
    "\n",
    "   Precision = TP / (TP + FP)\n",
    "   \n",
    "\n",
    "4. f1-score = (2 Recall Precision) / (Recall + Presision)\n",
    "\n",
    "\n",
    "5. Support is the total number of points in each class (positive and negative)\n",
    "\n"
   ]
  },
  {
   "cell_type": "code",
   "execution_count": 90,
   "metadata": {},
   "outputs": [
    {
     "name": "stdout",
     "output_type": "stream",
     "text": [
      "Accuracy Score: 0.8853333333333333\n",
      "Report:\n",
      "             precision    recall  f1-score   support\n",
      "\n",
      "          0       0.84      0.06      0.11       361\n",
      "          1       0.89      1.00      0.94      2639\n",
      "\n",
      "avg / total       0.88      0.89      0.84      3000\n",
      "\n"
     ]
    }
   ],
   "source": [
    "# calculate the classification report for TFIDF\n",
    "from sklearn.metrics import classification_report \n",
    "from sklearn.metrics import accuracy_score\n",
    "\n",
    "print('Accuracy Score:', accuracy_score(Y_test_rbf, pred_tfidf_rbf)) \n",
    "print('Report:')\n",
    "print(classification_report(Y_test_rbf, pred_tfidf_rbf)) \n"
   ]
  },
  {
   "cell_type": "markdown",
   "metadata": {},
   "source": [
    "# 7.  Word2Vec"
   ]
  },
  {
   "cell_type": "code",
   "execution_count": 91,
   "metadata": {},
   "outputs": [],
   "source": [
    "# I am Training Word2Vec model using Amazon fine food text corpus\n",
    "# This is W2V for Train data\n",
    "# We are creating a list of sentences\n",
    "# list_of_sent is created to store sentences\n",
    "i=0\n",
    "list_of_sent_train=[]\n",
    "for sent in X_train_rbf:\n",
    "    list_of_sent_train.append(sent.split())"
   ]
  },
  {
   "cell_type": "code",
   "execution_count": 92,
   "metadata": {},
   "outputs": [
    {
     "name": "stdout",
     "output_type": "stream",
     "text": [
      "could not believe good nectar tastes expecting aftertaste bitter like artificial sweeteners pleasantly surprised first taste husband taste not like artificial sweeteners loved come handy perricone weight loss diet low glycemic index price case amazon really good stocking upif diabetic best tasting sweetener lowest glycemic index right\n",
      "*****************************************************************\n",
      "['could', 'not', 'believe', 'good', 'nectar', 'tastes', 'expecting', 'aftertaste', 'bitter', 'like', 'artificial', 'sweeteners', 'pleasantly', 'surprised', 'first', 'taste', 'husband', 'taste', 'not', 'like', 'artificial', 'sweeteners', 'loved', 'come', 'handy', 'perricone', 'weight', 'loss', 'diet', 'low', 'glycemic', 'index', 'price', 'case', 'amazon', 'really', 'good', 'stocking', 'upif', 'diabetic', 'best', 'tasting', 'sweetener', 'lowest', 'glycemic', 'index', 'right']\n"
     ]
    }
   ],
   "source": [
    "# One sentence is converted into a list\n",
    "print(X_train_rbf.values[0])\n",
    "print(\"*****************************************************************\")\n",
    "print(list_of_sent_train[0])"
   ]
  },
  {
   "cell_type": "code",
   "execution_count": 93,
   "metadata": {},
   "outputs": [
    {
     "name": "stdout",
     "output_type": "stream",
     "text": [
      "5315\n",
      "sample words  ['could', 'not', 'believe', 'good', 'nectar', 'tastes', 'expecting', 'aftertaste', 'bitter', 'like', 'artificial', 'sweeteners', 'pleasantly', 'surprised', 'first', 'taste', 'husband', 'loved', 'come', 'handy', 'weight', 'loss', 'diet', 'low', 'glycemic', 'index', 'price', 'case', 'amazon', 'really', 'stocking', 'diabetic', 'best', 'tasting', 'sweetener', 'lowest', 'right', 'perhaps', 'microwave', 'cooking', 'long', 'two', 'different', 'types', 'soup', 'tried', 'chicken', 'noodles', 'rice', 'left']\n"
     ]
    }
   ],
   "source": [
    "# Train the word2vec model for Train data\n",
    "# min_count=5 says, if the word doesn't occur atleast 5 times then don't construct w2v for it\n",
    "# size=50 says about the dimension of the vector\n",
    "# we are storing Word2Vec model in w2v_model\n",
    "import gensim\n",
    "w2v_model_train = gensim.models.Word2Vec(list_of_sent_train, min_count=5, size=50, workers=4)\n",
    "\n",
    "# we can get dictionary of all the words that we have\n",
    "# we are storing Word2Vec model in w2v_model\n",
    "words_train = list(w2v_model_train.wv.vocab)\n",
    "print(len(words_train))\n",
    "\n",
    "# prints 50 words\n",
    "print(\"sample words \", words_train[0:50])"
   ]
  },
  {
   "cell_type": "code",
   "execution_count": 94,
   "metadata": {},
   "outputs": [
    {
     "data": {
      "text/plain": [
       "[('mother', 0.9976037740707397),\n",
       " ('diagnosed', 0.9974036812782288),\n",
       " ('birthday', 0.9973952770233154),\n",
       " ('ate', 0.9971481561660767),\n",
       " ('daughter', 0.9970908761024475),\n",
       " ('litter', 0.9969993233680725),\n",
       " ('died', 0.9969103932380676),\n",
       " ('living', 0.9969046711921692),\n",
       " ('girlfriend', 0.9968836903572083),\n",
       " ('worked', 0.9968229532241821)]"
      ]
     },
     "execution_count": 94,
     "metadata": {},
     "output_type": "execute_result"
    }
   ],
   "source": [
    "w2v_model_train.wv.most_similar('family')"
   ]
  },
  {
   "cell_type": "code",
   "execution_count": 95,
   "metadata": {},
   "outputs": [],
   "source": [
    "# This is W2V for Test data\n",
    "# We are creating a list of sentences\n",
    "# list_of_sent is created to store sentences\n",
    "i=0\n",
    "list_of_sent_test=[]\n",
    "for sent in X_test_rbf:\n",
    "    list_of_sent_test.append(sent.split())\n",
    "    "
   ]
  },
  {
   "cell_type": "code",
   "execution_count": 96,
   "metadata": {},
   "outputs": [
    {
     "name": "stdout",
     "output_type": "stream",
     "text": [
      "finally gfcf granola stuff amazing got husband daughter gfcf love stuff truly not nuts seed person not stop eating happy able give daughter snack great protein easy eat husband going keep bag car snack\n",
      "*****************************************************************\n",
      "['finally', 'gfcf', 'granola', 'stuff', 'amazing', 'got', 'husband', 'daughter', 'gfcf', 'love', 'stuff', 'truly', 'not', 'nuts', 'seed', 'person', 'not', 'stop', 'eating', 'happy', 'able', 'give', 'daughter', 'snack', 'great', 'protein', 'easy', 'eat', 'husband', 'going', 'keep', 'bag', 'car', 'snack']\n"
     ]
    }
   ],
   "source": [
    "# One sentence is converted into a list\n",
    "print(X_test_rbf.values[0])\n",
    "print(\"*****************************************************************\")\n",
    "print(list_of_sent_test[0])"
   ]
  },
  {
   "cell_type": "code",
   "execution_count": 97,
   "metadata": {},
   "outputs": [
    {
     "name": "stdout",
     "output_type": "stream",
     "text": [
      "3185\n",
      "sample words  ['finally', 'gfcf', 'granola', 'stuff', 'amazing', 'got', 'husband', 'daughter', 'love', 'truly', 'not', 'nuts', 'seed', 'person', 'stop', 'eating', 'happy', 'able', 'give', 'snack', 'great', 'protein', 'easy', 'eat', 'going', 'keep', 'bag', 'car', 'purchased', 'bar', 'along', 'almond', 'bars', 'purchase', 'tried', 'far', 'superior', 'liked', 'pure', 'imported', 'chocolate', 'past', 'go', 'back', 'nothing', 'comes', 'close', 'rich', 'taste', 'texture']\n"
     ]
    }
   ],
   "source": [
    "# Train the word2vec model for Test data\n",
    "# min_count=5 says, if the word doesn't occur atleast 5 times then don't construct w2v for it\n",
    "# size=50 says about the dimension of the vector\n",
    "# we are storing Word2Vec model in w2v_model\n",
    "import gensim\n",
    "w2v_model_test = gensim.models.Word2Vec(list_of_sent_test, min_count=5, size=50, workers=4)\n",
    "\n",
    "# we can get dictionary of all the words that we have\n",
    "# we are storing Word2Vec model in w2v_model\n",
    "words_test = list(w2v_model_test.wv.vocab)\n",
    "print(len(words_test))\n",
    "\n",
    "# prints 50 words\n",
    "print(\"sample words \", words_test[0:50])"
   ]
  },
  {
   "cell_type": "code",
   "execution_count": 98,
   "metadata": {},
   "outputs": [
    {
     "data": {
      "text/plain": [
       "[('enjoy', 0.9996379613876343),\n",
       " ('nice', 0.9996223449707031),\n",
       " ('delicious', 0.9996110200881958),\n",
       " ('strong', 0.9996069073677063),\n",
       " ('texture', 0.999596893787384),\n",
       " ('rich', 0.9995772838592529),\n",
       " ('wonderful', 0.999565839767456),\n",
       " ('flavor', 0.999553382396698),\n",
       " ('sweet', 0.9995436668395996),\n",
       " ('also', 0.9995402693748474)]"
      ]
     },
     "execution_count": 98,
     "metadata": {},
     "output_type": "execute_result"
    }
   ],
   "source": [
    "w2v_model_test.wv.most_similar('like')"
   ]
  },
  {
   "cell_type": "code",
   "execution_count": 99,
   "metadata": {},
   "outputs": [
    {
     "name": "stdout",
     "output_type": "stream",
     "text": [
      "500\n"
     ]
    }
   ],
   "source": [
    "# list of words in BoW\n",
    "count_vect_feat = count_vect.get_feature_names()\n",
    "print(len(count_vect_feat))"
   ]
  },
  {
   "cell_type": "markdown",
   "metadata": {},
   "source": [
    "## [7.1] Avg-Word2Vec\n",
    "\n",
    "We take the average of all word2vec(vector) representations of all words in a review and divide them by number of words in a review. This is vector representation of a review. "
   ]
  },
  {
   "cell_type": "markdown",
   "metadata": {},
   "source": [
    "### Average Word2Vec for Train data"
   ]
  },
  {
   "cell_type": "code",
   "execution_count": 100,
   "metadata": {},
   "outputs": [
    {
     "name": "stdout",
     "output_type": "stream",
     "text": [
      "7000\n",
      "50\n"
     ]
    }
   ],
   "source": [
    "# average Word2Vec for Train data\n",
    "# compute average word2vec for each review.\n",
    "from tqdm import tqdm\n",
    "#List to store all the avg w2vec's \n",
    "sent_vectors_train = []; # the avg-w2v for each sentence/review is stored in this list\n",
    "for sent in list_of_sent_train: # for each review/sentence\n",
    "    sent_vec = np.zeros(50) # as word vectors are of zero length\n",
    "    cnt_words =0; # to count num of words with a valid vector in the sentence/review\n",
    "    for word in sent: # for each word in a review/sentence\n",
    "        if word in words_train:\n",
    "            vec = w2v_model_train.wv[word] # vector of each word using w2v model\n",
    "            sent_vec += vec # Adding the vectors\n",
    "            cnt_words += 1\n",
    "    if cnt_words != 0:\n",
    "        sent_vec /= cnt_words  # Taking average of vectors sum of the particular review\n",
    "    sent_vectors_train.append(sent_vec)  # Storing the avg w2vec's for each review in the list\n",
    "print(len(sent_vectors_train))\n",
    "print(len(sent_vectors_train[0]))"
   ]
  },
  {
   "cell_type": "markdown",
   "metadata": {},
   "source": [
    "### Average Word2Vec for Test data"
   ]
  },
  {
   "cell_type": "code",
   "execution_count": 101,
   "metadata": {},
   "outputs": [
    {
     "name": "stdout",
     "output_type": "stream",
     "text": [
      "3000\n",
      "50\n"
     ]
    }
   ],
   "source": [
    "# average Word2Vec for Test data\n",
    "# compute average word2vec for each review.\n",
    "from tqdm import tqdm\n",
    "sent_vectors_test = []; # the avg-w2v for each sentence/review is stored in this list\n",
    "for sent in list_of_sent_test: # for each review/sentence\n",
    "    sent_vec = np.zeros(50) # as word vectors are of zero length\n",
    "    cnt_words =0; # num of words with a valid vector in the sentence/review\n",
    "    for word in sent: # for each word in a review/sentence\n",
    "        if word in words_test:\n",
    "            vec = w2v_model_test.wv[word]\n",
    "            sent_vec += vec\n",
    "            cnt_words += 1\n",
    "    if cnt_words != 0:\n",
    "        sent_vec /= cnt_words\n",
    "    sent_vectors_test.append(sent_vec)\n",
    "print(len(sent_vectors_test))\n",
    "print(len(sent_vectors_test[0]))"
   ]
  },
  {
   "cell_type": "markdown",
   "metadata": {},
   "source": [
    "### [7.2] Performing RBF SVC using GridSearch CV on AvgW2V using AUC-score as metric"
   ]
  },
  {
   "cell_type": "code",
   "execution_count": 102,
   "metadata": {},
   "outputs": [
    {
     "name": "stdout",
     "output_type": "stream",
     "text": [
      "Model with best parameters is :\n",
      " SVC(C=10000, cache_size=200, class_weight='balanced', coef0=0.0,\n",
      "  decision_function_shape='ovr', degree=3, gamma='auto', kernel='rbf',\n",
      "  max_iter=-1, probability=True, random_state=None, shrinking=True,\n",
      "  tol=0.001, verbose=False)\n",
      "The optimal value of C is: 10000\n"
     ]
    }
   ],
   "source": [
    "#  Implementing SVC\n",
    "\n",
    "from sklearn.model_selection import GridSearchCV\n",
    "from sklearn.svm import SVC\n",
    "\n",
    "# GridsearchCV trains the model on these parmters to find the best one\n",
    "# List of parameters for hyperparameter tuning\n",
    "tuned_parameters = {'C': [0.00001, 0.0001, 0.001, 0.01, 0.1, 1, 10, 100, 1000, 10000]}\n",
    "svc_clf = SVC(kernel = 'rbf', probability=True, class_weight = 'balanced')\n",
    "model_rbf = GridSearchCV(svc_clf, tuned_parameters, scoring = 'roc_auc', n_jobs = -1, cv=5)\n",
    "model_rbf.fit(sent_vectors_train , Y_train_rbf)\n",
    "\n",
    "print(\"Model with best parameters is :\\n\", model_rbf.best_estimator_)\n",
    "\n",
    "optimal_C = model_rbf.best_estimator_.C\n",
    "print(\"The optimal value of C is:\", optimal_C)"
   ]
  },
  {
   "cell_type": "code",
   "execution_count": 104,
   "metadata": {},
   "outputs": [
    {
     "name": "stdout",
     "output_type": "stream",
     "text": [
      "0.5043272707806092\n"
     ]
    }
   ],
   "source": [
    "# get the score on test data \n",
    "print(model_rbf.score(sent_vectors_test, Y_test_rbf))  \n"
   ]
  },
  {
   "cell_type": "markdown",
   "metadata": {},
   "source": [
    "### 7.3 Predicting Test score and Test error"
   ]
  },
  {
   "cell_type": "code",
   "execution_count": 105,
   "metadata": {},
   "outputs": [
    {
     "name": "stdout",
     "output_type": "stream",
     "text": [
      "\n",
      "The test AUC-score of the RBF Kernel AVGW2V for optimal hyperparameters is 50.000000%\n"
     ]
    }
   ],
   "source": [
    "# Predicting model on test data to find AUC -score for RBF\n",
    "from sklearn.metrics import roc_auc_score\n",
    "\n",
    "rbf_optimal = SVC(C = optimal_C)\n",
    "\n",
    "# fitting the model\n",
    "rbf_optimal.fit(sent_vectors_train, Y_train_rbf)\n",
    "\n",
    "# predict the response\n",
    "pred_w2v = rbf_optimal.predict(sent_vectors_test)\n",
    "\n",
    "# evaluate accuracy. \n",
    "test_w2v = roc_auc_score(Y_test_rbf, pred_w2v) * float(100)\n",
    "print('\\nThe test AUC-score of the RBF Kernel AVGW2V for optimal hyperparameters is %f%%' % (test_w2v))\n",
    "\n"
   ]
  },
  {
   "cell_type": "code",
   "execution_count": 106,
   "metadata": {},
   "outputs": [
    {
     "name": "stdout",
     "output_type": "stream",
     "text": [
      "Test Error for RBF Kernel AVGW2V is 0.500%\n"
     ]
    }
   ],
   "source": [
    "# Finding test error\n",
    "test_error_w2v = (1 - roc_auc_score(Y_test_rbf, pred_w2v))\n",
    "print(\"Test Error for RBF Kernel AVGW2V is %.3f%%\" % (test_error_w2v))"
   ]
  },
  {
   "cell_type": "markdown",
   "metadata": {},
   "source": [
    "### 7.4  Plotting the performance of Train and CV scores for AvgW2V"
   ]
  },
  {
   "cell_type": "code",
   "execution_count": 107,
   "metadata": {},
   "outputs": [
    {
     "data": {
      "image/png": "[encoded data removed]",
      "text/plain": [
       "<Figure size 1080x360 with 1 Axes>"
      ]
     },
     "metadata": {},
     "output_type": "display_data"
    },
    {
     "name": "stdout",
     "output_type": "stream",
     "text": [
      "The CV AUC-score for each C value is :  [0.633 0.633 0.633 0.633 0.653 0.716 0.772 0.811 0.827 0.829]\n",
      "the Train AUC score for each C value is :  [0.633 0.633 0.633 0.633 0.654 0.718 0.777 0.823 0.85  0.868]\n"
     ]
    }
   ],
   "source": [
    "plt.figure(figsize=(15,5))\n",
    "plt.xlabel('Hyperparamter C')\n",
    "plt.ylabel('AUC Scores')\n",
    "# mean_train_score is to get mean value of all the error scores we got during cross validation\n",
    "# cv_results_  = returns a dictionary of all the evaluation metrics from the gridsearch\n",
    "plt.plot(model_rbf.cv_results_['param_C'].data.astype(np.float64), model_rbf.cv_results_['mean_train_score'], \n",
    "         linestyle='--', marker='o', color='b', label='Train Score')\n",
    "plt.plot(model_rbf.cv_results_['param_C'].data.astype(np.float64), model_rbf.cv_results_['mean_test_score'], \n",
    "         linestyle='--', marker='*', color='r', label='CV Score')\n",
    "plt.legend()\n",
    "plt.show()\n",
    "\n",
    "print(\"The CV AUC-score for each C value is : \", np.round(model_rbf.cv_results_['mean_test_score'],3))\n",
    "\n",
    "print(\"the Train AUC score for each C value is : \", np.round(model_rbf.cv_results_['mean_train_score'],3))\n"
   ]
  },
  {
   "cell_type": "markdown",
   "metadata": {},
   "source": [
    "###  7.5 Plotting ROC curve and finding AUC score for AvgW2V"
   ]
  },
  {
   "cell_type": "code",
   "execution_count": 108,
   "metadata": {},
   "outputs": [
    {
     "data": {
      "image/png": "[encoded data removed]",
      "text/plain": [
       "<Figure size 432x288 with 1 Axes>"
      ]
     },
     "metadata": {},
     "output_type": "display_data"
    }
   ],
   "source": [
    "# ROC curve and AUC for AvgW2V\n",
    "from sklearn.metrics import roc_curve, auc\n",
    "# Predicting the probabilities of test data as ROC curve needs probabilities to plot\n",
    "Y_prob_rbf = model_rbf.fit(sent_vectors_train, Y_train_rbf)\n",
    "\n",
    "train_fpr, train_tpr, thresholds = roc_curve(Y_train_rbf, Y_prob_rbf.predict_proba(sent_vectors_train)[:,1])\n",
    "test_fpr, test_tpr, thresholds = roc_curve(Y_test_rbf, Y_prob_rbf.predict_proba(sent_vectors_test)[:,1])\n",
    "\n",
    "# Giving actual values(Y_test) and predicted probabilities Y_prob\n",
    "# we need to calculate the fpr and tpr for all thresholds of the classification \n",
    "\n",
    "# We calculate the AUC (Area Under Curve)\n",
    "roc_auc_train = auc(train_fpr, train_tpr)\n",
    "roc_auc_test = auc(test_fpr, test_tpr)\n",
    "    \n",
    "# Plot FPR (on x-axis) v/s TPR (on y-axis)\n",
    "plt.title('ROC Curve for AvgW2V RBF')\n",
    "plt.plot(train_fpr, train_tpr, 'b', label='Train AUC = %0.2f'% roc_auc_train)\n",
    "plt.plot(test_fpr, test_tpr, 'r', label='Test AUC = %0.2f'% roc_auc_test)\n",
    "\n",
    "plt.legend(loc='lower right')\n",
    "plt.plot([0,1],[0,1],'k--')\n",
    "plt.xlim([-0.1,1.2])\n",
    "plt.ylim([-0.1,1.2])\n",
    "plt.ylabel('True Positive Rate')\n",
    "plt.xlabel('False Positive Rate')\n",
    "plt.show()"
   ]
  },
  {
   "cell_type": "markdown",
   "metadata": {},
   "source": [
    "###  7.6 Confusion matrix for AvgW2V RBF Kernel Train data"
   ]
  },
  {
   "cell_type": "code",
   "execution_count": 110,
   "metadata": {},
   "outputs": [
    {
     "name": "stdout",
     "output_type": "stream",
     "text": [
      "Train confusion matrix\n",
      "[[   1  770]\n",
      " [   0 6229]]\n"
     ]
    }
   ],
   "source": [
    "# Using confusion matrix as a another metric to measure accuracy\n",
    "from sklearn.metrics import confusion_matrix\n",
    "print(\"Train confusion matrix\")\n",
    "pred_w2v_train = rbf_optimal.predict(sent_vectors_train)\n",
    "cm = confusion_matrix(Y_train_rbf, pred_w2v_train) # finding confusion matrix between true data and predicted data\n",
    "print(cm)"
   ]
  },
  {
   "cell_type": "code",
   "execution_count": 111,
   "metadata": {},
   "outputs": [
    {
     "data": {
      "image/png": "[encoded data removed]",
      "text/plain": [
       "<Figure size 432x288 with 2 Axes>"
      ]
     },
     "metadata": {},
     "output_type": "display_data"
    }
   ],
   "source": [
    "# plot confusion matrix for w2v \n",
    "class_label = [\"negative\", \"positive\"] # create a class label for columns and rows\n",
    "cm = confusion_matrix(Y_train_rbf, pred_w2v_train) \n",
    "dataframe_cm = pd.DataFrame(cm, index = class_label, columns = class_label) # create a dataframe to plot confusion matrix\n",
    "# A heatmap is a two-dimensional graphical representation of data in seaborn,\n",
    "# where the individual values in a matrix are represented with colors.\n",
    "sns.heatmap(dataframe_cm, annot = True, fmt = \"d\") # annot=true means, write the data value in each cell\n",
    "plt.title(\"Train Confusion Matrix for AvgW2V RBF\")\n",
    "plt.xlabel(\"Predicted Label\")\n",
    "plt.ylabel(\"True Label\")\n",
    "plt.show()"
   ]
  },
  {
   "cell_type": "markdown",
   "metadata": {},
   "source": [
    "### 7.7 Confusion matrix for AvgW2V RBF Kernel Test data"
   ]
  },
  {
   "cell_type": "code",
   "execution_count": 112,
   "metadata": {},
   "outputs": [
    {
     "name": "stdout",
     "output_type": "stream",
     "text": [
      "Test confusion matrix\n",
      "[[   0  361]\n",
      " [   0 2639]]\n"
     ]
    }
   ],
   "source": [
    "from sklearn.metrics import confusion_matrix\n",
    "print(\"Test confusion matrix\")\n",
    "pred_w2v_test = rbf_optimal.predict(sent_vectors_test)\n",
    "cm = confusion_matrix(Y_test_rbf, pred_w2v_test) # finding confusion matrix between true data and predicted data\n",
    "print(cm)"
   ]
  },
  {
   "cell_type": "code",
   "execution_count": 113,
   "metadata": {},
   "outputs": [
    {
     "data": {
      "image/png": "[encoded data removed]",
      "text/plain": [
       "<Figure size 432x288 with 2 Axes>"
      ]
     },
     "metadata": {},
     "output_type": "display_data"
    }
   ],
   "source": [
    "# plot confusion matrix for BoW RBF\n",
    "class_label = [\"negative\", \"positive\"] # create a class label for columns and rows\n",
    "cm = confusion_matrix(Y_test_rbf, pred_w2v_test) \n",
    "dataframe_cm = pd.DataFrame(cm, index = class_label, columns = class_label) # create a dataframe to plot confusion matrix\n",
    "# A heatmap is a two-dimensional graphical representation of data in seaborn,\n",
    "# where the individual values in a matrix are represented with colors.\n",
    "sns.heatmap(dataframe_cm, annot = True, fmt = \"d\") # annot=true means, write the data value in each cell\n",
    "plt.title(\"Test Confusion Matrix for AvgW2V RBF\")\n",
    "plt.xlabel(\"Predicted Label\")\n",
    "plt.ylabel(\"True Label\")\n",
    "plt.show()"
   ]
  },
  {
   "cell_type": "markdown",
   "metadata": {},
   "source": [
    "###  7.8 Classification report for AvgW2V:-\n",
    "\n",
    "  "
   ]
  },
  {
   "cell_type": "code",
   "execution_count": 114,
   "metadata": {},
   "outputs": [
    {
     "name": "stdout",
     "output_type": "stream",
     "text": [
      "Accuracy Score: 0.8796666666666667\n",
      "Report:\n",
      "             precision    recall  f1-score   support\n",
      "\n",
      "          0       0.00      0.00      0.00       361\n",
      "          1       0.88      1.00      0.94      2639\n",
      "\n",
      "avg / total       0.77      0.88      0.82      3000\n",
      "\n"
     ]
    }
   ],
   "source": [
    "# calculate the classification report for AvgW2V\n",
    "from sklearn.metrics import classification_report \n",
    "from sklearn.metrics import accuracy_score\n",
    "\n",
    "print('Accuracy Score:', accuracy_score(Y_test_rbf, pred_w2v)) \n",
    "print('Report:')\n",
    "print(classification_report(Y_test_rbf, pred_w2v)) \n"
   ]
  },
  {
   "cell_type": "markdown",
   "metadata": {},
   "source": [
    "# 8. TFIDF-W2V"
   ]
  },
  {
   "cell_type": "markdown",
   "metadata": {},
   "source": [
    "###  8.1 RBF Kernel for TFIDF-W2V"
   ]
  },
  {
   "cell_type": "code",
   "execution_count": 115,
   "metadata": {},
   "outputs": [],
   "source": [
    "model = TfidfVectorizer()\n",
    "tfidf_train_matrix_rbf = model.fit_transform(X_train_rbf)\n",
    "tfidf_test_matrix_rbf = model.transform(X_test_rbf)\n",
    "\n",
    "# we are converting a dictionary with word as a key, and the idf as a value\n",
    "dictionary = dict(zip(model.get_feature_names(), list(model.idf_)))\n"
   ]
  },
  {
   "cell_type": "code",
   "execution_count": 116,
   "metadata": {},
   "outputs": [
    {
     "name": "stdout",
     "output_type": "stream",
     "text": [
      "(7000, 23610)\n",
      "(3000, 23610)\n"
     ]
    }
   ],
   "source": [
    "print(tfidf_train_matrix_rbf.get_shape()) \n",
    "print(tfidf_test_matrix_rbf.get_shape()) \n"
   ]
  },
  {
   "cell_type": "markdown",
   "metadata": {},
   "source": [
    "### 8.2 TFIDF-W2V for Train data"
   ]
  },
  {
   "cell_type": "code",
   "execution_count": 117,
   "metadata": {},
   "outputs": [
    {
     "name": "stderr",
     "output_type": "stream",
     "text": [
      "100%|██████████| 7000/7000 [00:22<00:00, 307.44it/s]\n"
     ]
    }
   ],
   "source": [
    "# TF-IDF weighted Word2Vec for Train data\n",
    "\n",
    "tfidf_feat = model.get_feature_names() # tfidf words/col-names\n",
    "# final_tf_idf is the sparse matrix with row= sentence, col=word and cell_val = tfidf\n",
    "\n",
    "tfidf_sent_vectors_train_rbf = []; # the tfidf-w2v for each sentence/review is stored in this list\n",
    "row=0;\n",
    "for sent in tqdm(list_of_sent_train): # for each review/sentence \n",
    "    sent_vec = np.zeros(50) # as word vectors are of zero length\n",
    "    weight_sum =0; # num of words with a valid vector in the sentence/review\n",
    "    for word in sent: # for each word in a review/sentence\n",
    "        if word in words_train:\n",
    "            try:\n",
    "                vec = w2v_model_train.wv[word]\n",
    "            # tf_idf = tfidf_train_matrix[row, tfidf_feat.index(word)]\n",
    "            # to reduce the computation we are \n",
    "            # dictionary[word] = idf value of word in whole courpus\n",
    "            # sent.count(word) = tf valeus of word in this review\n",
    "                tf_idf = dictionary[word]*(sent.count(word)/len(sent))\n",
    "                sent_vec += (vec * tf_idf)\n",
    "                weight_sum += tf_idf\n",
    "            except:\n",
    "                pass\n",
    "    if weight_sum != 0:\n",
    "        sent_vec /= weight_sum\n",
    "    tfidf_sent_vectors_train_rbf.append(sent_vec)\n",
    "    row += 1"
   ]
  },
  {
   "cell_type": "markdown",
   "metadata": {},
   "source": [
    "### 8.3 TFIDF-W2V for Test data"
   ]
  },
  {
   "cell_type": "code",
   "execution_count": 118,
   "metadata": {},
   "outputs": [
    {
     "name": "stderr",
     "output_type": "stream",
     "text": [
      "100%|██████████| 3000/3000 [00:06<00:00, 458.47it/s]\n"
     ]
    }
   ],
   "source": [
    "# TF-IDF weighted Word2Vec for Test data\n",
    "\n",
    "tfidf_feat = model.get_feature_names() # tfidf words/col-names\n",
    "# final_tf_idf is the sparse matrix with row= sentence, col=word and cell_val = tfidf\n",
    "\n",
    "tfidf_sent_vectors_test_rbf = []; # the tfidf-w2v for each sentence/review is stored in this list\n",
    "row=0;\n",
    "for sent in tqdm(list_of_sent_test): # for each review/sentence \n",
    "    sent_vec = np.zeros(50) # as word vectors are of zero length\n",
    "    weight_sum =0; # num of words with a valid vector in the sentence/review\n",
    "    for word in sent: # for each word in a review/sentence\n",
    "        if word in words_test:\n",
    "            try:\n",
    "                vec = w2v_model_test.wv[word]\n",
    "                tf_idf = dictionary[word]*(sent.count(word)/len(sent))\n",
    "            #tf_idf = tfidf_test_matrix[row, tfidf_feat.index(word)]\n",
    "                sent_vec += (vec * tf_idf)\n",
    "                weight_sum += tf_idf\n",
    "            except:\n",
    "                pass\n",
    "    if weight_sum != 0:\n",
    "        sent_vec /= weight_sum\n",
    "    tfidf_sent_vectors_test_rbf.append(sent_vec)\n",
    "    row += 1"
   ]
  },
  {
   "cell_type": "markdown",
   "metadata": {},
   "source": [
    "###  8.4  Applying GridSearchCV and RBF Kernel on TFIDF-W2V using AUC-score as metric"
   ]
  },
  {
   "cell_type": "code",
   "execution_count": 119,
   "metadata": {},
   "outputs": [
    {
     "name": "stdout",
     "output_type": "stream",
     "text": [
      "Model with best parameters is :\n",
      " SVC(C=1000, cache_size=200, class_weight='balanced', coef0=0.0,\n",
      "  decision_function_shape='ovr', degree=3, gamma='auto', kernel='rbf',\n",
      "  max_iter=-1, probability=True, random_state=None, shrinking=True,\n",
      "  tol=0.001, verbose=False)\n",
      "The optimal value of C is: 1000\n"
     ]
    }
   ],
   "source": [
    "# Implementing RBF Kernel.\n",
    "# C and gamma are the hyperparameters for RBF Kernel. gamma = 1/sigma\n",
    "from sklearn.model_selection import GridSearchCV\n",
    "from sklearn.svm import SVC\n",
    "\n",
    "# GridsearchCV trains the model on these parmters to find the best one\n",
    "# List of parameters for hyperparameter tuning\n",
    "tuned_parameters = {'C':[0.00001, 0.0001, 0.001, 0.01, 0.1, 1, 10, 100, 1000, 10000]}\n",
    "\n",
    "#Now using GridSearchCV, RBF Kernel is trained on these list of hyperparameters/values of gamma.\n",
    "# Scoring is taken as f1_macro.\n",
    "# We have to take the kernel = rbf here, though we can take other kernels depending on requirement. \n",
    "# Here probability is taken as True beacause , we need to get probability scores to plot ROC curve and get AUC score. So\n",
    "# predict_proba doesn't work if probability is false.\n",
    "\n",
    "svc_clf = SVC(kernel = 'rbf', probability=True, class_weight = 'balanced')\n",
    "model_rbf = GridSearchCV(svc_clf, tuned_parameters, scoring = 'roc_auc', n_jobs = -1, cv=5)\n",
    "model_rbf.fit(tfidf_sent_vectors_train_rbf, Y_train_rbf)\n",
    "\n",
    "print(\"Model with best parameters is :\\n\", model_rbf.best_estimator_)\n",
    "\n",
    "optimal_C = model_rbf.best_estimator_.C\n",
    "print(\"The optimal value of C is:\", optimal_C)"
   ]
  },
  {
   "cell_type": "code",
   "execution_count": 121,
   "metadata": {},
   "outputs": [
    {
     "name": "stdout",
     "output_type": "stream",
     "text": [
      "0.4619803732421938\n"
     ]
    }
   ],
   "source": [
    "# get the score on test data \n",
    "print(model_rbf.score(tfidf_sent_vectors_test_rbf, Y_test_rbf))  \n"
   ]
  },
  {
   "cell_type": "markdown",
   "metadata": {},
   "source": [
    "### 8.5  Predicting Test score and Test error"
   ]
  },
  {
   "cell_type": "code",
   "execution_count": 123,
   "metadata": {},
   "outputs": [
    {
     "name": "stdout",
     "output_type": "stream",
     "text": [
      "\n",
      "The test AUC-score of the RBF kernel TFIDF-W2V for optimal hyperparameters is 50.000000%\n"
     ]
    }
   ],
   "source": [
    "\n",
    "from sklearn.metrics import roc_auc_score\n",
    "\n",
    "rbf_optimal = SVC(C = optimal_C)\n",
    "\n",
    "# fitting the model\n",
    "rbf_optimal.fit(tfidf_sent_vectors_train_rbf, Y_train_rbf)\n",
    "\n",
    "# predict the response\n",
    "pred_tfidfw2v = rbf_optimal.predict(tfidf_sent_vectors_test_rbf)\n",
    "\n",
    "# evaluate accuracy. Using AUC_score as metric to measure accuracy\n",
    "test_tfidfw2v = roc_auc_score(Y_test_rbf, pred_tfidfw2v) * float(100)\n",
    "print('\\nThe test AUC-score of the RBF kernel TFIDF-W2V for optimal hyperparameters is %f%%' % (test_tfidfw2v))\n",
    "\n"
   ]
  },
  {
   "cell_type": "code",
   "execution_count": 124,
   "metadata": {},
   "outputs": [
    {
     "name": "stdout",
     "output_type": "stream",
     "text": [
      "Test Error for RBF Kernel TFIDF-W2V is 0.500%\n"
     ]
    }
   ],
   "source": [
    "# Finding test error\n",
    "test_error_tfidfw2v = (1 - roc_auc_score(Y_test_rbf, pred_tfidfw2v))\n",
    "print(\"Test Error for RBF Kernel TFIDF-W2V is %.3f%%\" % (test_error_tfidfw2v))"
   ]
  },
  {
   "cell_type": "markdown",
   "metadata": {},
   "source": [
    "### 8.6  Plotting the performance of Train and CV scores for RBF Kernel"
   ]
  },
  {
   "cell_type": "code",
   "execution_count": 125,
   "metadata": {},
   "outputs": [
    {
     "data": {
      "image/png": "[encoded data removed]",
      "text/plain": [
       "<Figure size 1080x360 with 1 Axes>"
      ]
     },
     "metadata": {},
     "output_type": "display_data"
    },
    {
     "name": "stdout",
     "output_type": "stream",
     "text": [
      "The CV AUC-score for each C value is :  [0.618 0.618 0.618 0.618 0.629 0.676 0.736 0.781 0.798 0.796]\n",
      "the Train AUC score for each C value is :  [0.619 0.619 0.619 0.619 0.63  0.678 0.743 0.796 0.826 0.847]\n"
     ]
    }
   ],
   "source": [
    "plt.figure(figsize=(15,5))\n",
    "plt.xlabel('Hyperparamter C')\n",
    "plt.ylabel('AUC Scores')\n",
    "# mean_train_score is to get mean value of all the error scores we got during cross validation\n",
    "# cv_results_  = returns a dictionary of all the evaluation metrics from the gridsearch\n",
    "plt.plot(model_rbf.cv_results_['param_C'].data.astype(np.float64), model_rbf.cv_results_['mean_train_score'], \n",
    "         linestyle='--', marker='o', color='b', label='Train Score')\n",
    "plt.plot(model_rbf.cv_results_['param_C'].data.astype(np.float64), model_rbf.cv_results_['mean_test_score'], \n",
    "         linestyle='--', marker='*', color='r', label='CV Score')\n",
    "plt.legend()\n",
    "plt.show()\n",
    "\n",
    "print(\"The CV AUC-score for each C value is : \", np.round(model_rbf.cv_results_['mean_test_score'],3))\n",
    "\n",
    "print(\"the Train AUC score for each C value is : \", np.round(model_rbf.cv_results_['mean_train_score'],3))\n"
   ]
  },
  {
   "cell_type": "markdown",
   "metadata": {},
   "source": [
    "### 8.7  Plotting ROC curve and finding AUC score for TFIDF-W2V RBF Kernel"
   ]
  },
  {
   "cell_type": "code",
   "execution_count": 126,
   "metadata": {},
   "outputs": [
    {
     "data": {
      "image/png": "[encoded data removed]",
      "text/plain": [
       "<Figure size 432x288 with 1 Axes>"
      ]
     },
     "metadata": {},
     "output_type": "display_data"
    }
   ],
   "source": [
    "# ROC curve and AUC for TFIDF-W2V\n",
    "from sklearn.metrics import roc_curve, auc\n",
    "# Predicting the probabilities of test data as ROC curve needs probabilities to plot\n",
    "Y_prob_rbf = model_rbf.fit(tfidf_sent_vectors_train_rbf, Y_train_rbf)\n",
    "\n",
    "train_fpr, train_tpr, thresholds = roc_curve(Y_train_rbf, Y_prob_rbf.predict_proba(tfidf_sent_vectors_train_rbf)[:,1])\n",
    "test_fpr, test_tpr, thresholds = roc_curve(Y_test_rbf, Y_prob_rbf.predict_proba(tfidf_sent_vectors_test_rbf)[:,1])\n",
    "\n",
    "# Giving actual values(Y_test) and predicted probabilities Y_prob\n",
    "# we need to calculate the fpr and tpr for all thresholds of the classification \n",
    "\n",
    "# We calculate the AUC (Area Under Curve)\n",
    "roc_auc_train = auc(train_fpr, train_tpr)\n",
    "roc_auc_test = auc(test_fpr, test_tpr)\n",
    "    \n",
    "# Plot FPR (on x-axis) v/s TPR (on y-axis)\n",
    "plt.title('ROC Curve for TFIDF-W2V RBF')\n",
    "plt.plot(train_fpr, train_tpr, 'b', label='Train AUC = %0.2f'% roc_auc_train)\n",
    "plt.plot(test_fpr, test_tpr, 'r', label='Test AUC = %0.2f'% roc_auc_test)\n",
    "\n",
    "plt.legend(loc='lower right')\n",
    "plt.plot([0,1],[0,1],'k--')\n",
    "plt.xlim([-0.1,1.2])\n",
    "plt.ylim([-0.1,1.2])\n",
    "plt.ylabel('True Positive Rate')\n",
    "plt.xlabel('False Positive Rate')\n",
    "plt.show()"
   ]
  },
  {
   "cell_type": "markdown",
   "metadata": {},
   "source": [
    "### 8.8 Confusion matrix for TFIDF-W2V RBF Kernel Train data"
   ]
  },
  {
   "cell_type": "code",
   "execution_count": 127,
   "metadata": {},
   "outputs": [
    {
     "name": "stdout",
     "output_type": "stream",
     "text": [
      "Train confusion matrix\n",
      "[[   0  771]\n",
      " [   0 6229]]\n"
     ]
    }
   ],
   "source": [
    "# Confusion matrix for Train data\n",
    "from sklearn.metrics import confusion_matrix\n",
    "print(\"Train confusion matrix\")\n",
    "pred_tfidfw2v_train = rbf_optimal.predict(tfidf_sent_vectors_train_rbf)\n",
    "cm = confusion_matrix(Y_train_rbf, pred_tfidfw2v_train)\n",
    "print(cm)"
   ]
  },
  {
   "cell_type": "code",
   "execution_count": 128,
   "metadata": {},
   "outputs": [
    {
     "data": {
      "image/png": "[encoded data removed]",
      "text/plain": [
       "<Figure size 432x288 with 2 Axes>"
      ]
     },
     "metadata": {},
     "output_type": "display_data"
    }
   ],
   "source": [
    "# plot confusion matrix for TFIDF-W2V Train data\n",
    "class_label = [\"negative\", \"positive\"] # create a class label for columns and rows\n",
    "cm = confusion_matrix(Y_train_rbf, pred_tfidfw2v_train) \n",
    "dataframe_cm = pd.DataFrame(cm, index = class_label, columns = class_label) # create a dataframe to plot confusion matrix\n",
    "# A heatmap is a two-dimensional graphical representation of data in seaborn,\n",
    "# where the individual values in a matrix are represented with colors.\n",
    "sns.heatmap(dataframe_cm, annot = True, fmt = \"d\") # annot=true means, write the data value in each cell\n",
    "plt.title(\"Train Confusion Matrix for TFIDF-W2V RBF\")\n",
    "plt.xlabel(\"Predicted Label\")\n",
    "plt.ylabel(\"True Label\")\n",
    "plt.show()"
   ]
  },
  {
   "cell_type": "markdown",
   "metadata": {},
   "source": [
    "### 8.9 Confusion matrix for TFIDF-W2V RBF Kernel Test data"
   ]
  },
  {
   "cell_type": "code",
   "execution_count": 129,
   "metadata": {},
   "outputs": [
    {
     "name": "stdout",
     "output_type": "stream",
     "text": [
      "Test confusion matrix\n",
      "[[   0  361]\n",
      " [   0 2639]]\n"
     ]
    }
   ],
   "source": [
    "# Using confusion matrix as a another metric to measure accuracy\n",
    "from sklearn.metrics import confusion_matrix\n",
    "print(\"Test confusion matrix\")\n",
    "pred_tfidfw2v_test = rbf_optimal.predict(tfidf_sent_vectors_test_rbf)\n",
    "cm = confusion_matrix(Y_test_rbf, pred_tfidfw2v_test) # finding confusion matrix between true data and predicted data\n",
    "print(cm)"
   ]
  },
  {
   "cell_type": "code",
   "execution_count": 130,
   "metadata": {},
   "outputs": [
    {
     "data": {
      "image/png": "[encoded data removed]",
      "text/plain": [
       "<Figure size 432x288 with 2 Axes>"
      ]
     },
     "metadata": {},
     "output_type": "display_data"
    }
   ],
   "source": [
    "# plot confusion matrix for TFIDFW2V RBF\n",
    "class_label = [\"negative\", \"positive\"] # create a class label for columns and rows\n",
    "cm = confusion_matrix(Y_test_rbf, pred_tfidfw2v_test) \n",
    "dataframe_cm = pd.DataFrame(cm, index = class_label, columns = class_label) # create a dataframe to plot confusion matrix\n",
    "# A heatmap is a two-dimensional graphical representation of data in seaborn,\n",
    "# where the individual values in a matrix are represented with colors.\n",
    "sns.heatmap(dataframe_cm, annot = True, fmt = \"d\") # annot=true means, write the data value in each cell\n",
    "plt.title(\"Confusion Matrix for TFIDF-W2V\")\n",
    "plt.xlabel(\"Predicted Label\")\n",
    "plt.ylabel(\"True Label\")\n",
    "plt.show()"
   ]
  },
  {
   "cell_type": "markdown",
   "metadata": {},
   "source": [
    "### 8.10 Classification report for TFIDF-W2V RBF Kernel:-\n",
    "\n",
    "  "
   ]
  },
  {
   "cell_type": "code",
   "execution_count": 131,
   "metadata": {},
   "outputs": [
    {
     "name": "stdout",
     "output_type": "stream",
     "text": [
      "Accuracy Score: 0.8796666666666667\n",
      "Report:\n",
      "             precision    recall  f1-score   support\n",
      "\n",
      "          0       0.00      0.00      0.00       361\n",
      "          1       0.88      1.00      0.94      2639\n",
      "\n",
      "avg / total       0.77      0.88      0.82      3000\n",
      "\n"
     ]
    }
   ],
   "source": [
    "# calculate the classification report for TFIDF-W2V\n",
    "from sklearn.metrics import classification_report \n",
    " \n",
    "print('Accuracy Score:', accuracy_score(Y_test_rbf, pred_tfidfw2v)) \n",
    "print('Report:')\n",
    "print(classification_report(Y_test_rbf, pred_tfidfw2v)) \n"
   ]
  },
  {
   "cell_type": "markdown",
   "metadata": {},
   "source": [
    "## 9. Models Summarization"
   ]
  },
  {
   "cell_type": "code",
   "execution_count": 132,
   "metadata": {},
   "outputs": [],
   "source": [
    "from pandas import DataFrame\n",
    "RBF = {'Vectorizer':['BoW', 'TFIDF', 'AVG-W2V', 'TFIDF-W2V'], 'Model':['RBF Kernel','RBF Kernel','RBF Kernel','RBF Kernel'], \n",
    "                       'Hyper parameter C':['1','1','10000','1000'], \n",
    "                       'AUC score':['51.17','52.83','50.00','50.00'],\n",
    "                       'Test error':['0.48','0.47','0.50','0.50'],\n",
    "                       'Train AUC Score':['0.99','1.00','0.87','0.82'],\n",
    "                       'Test AUC Score':['0.87','0.87','0.50','0.46']}\n",
    "                       "
   ]
  },
  {
   "cell_type": "code",
   "execution_count": 133,
   "metadata": {},
   "outputs": [
    {
     "data": {
      "text/html": [
       "<div>\n",
       "<style scoped>\n",
       "    .dataframe tbody tr th:only-of-type {\n",
       "        vertical-align: middle;\n",
       "    }\n",
       "\n",
       "    .dataframe tbody tr th {\n",
       "        vertical-align: top;\n",
       "    }\n",
       "\n",
       "    .dataframe thead th {\n",
       "        text-align: right;\n",
       "    }\n",
       "</style>\n",
       "<table border=\"1\" class=\"dataframe\">\n",
       "  <thead>\n",
       "    <tr style=\"text-align: right;\">\n",
       "      <th></th>\n",
       "      <th>Vectorizer</th>\n",
       "      <th>Model</th>\n",
       "      <th>Hyper parameter C</th>\n",
       "      <th>AUC score</th>\n",
       "      <th>Test error</th>\n",
       "      <th>Train AUC Score</th>\n",
       "      <th>Test AUC Score</th>\n",
       "    </tr>\n",
       "  </thead>\n",
       "  <tbody>\n",
       "    <tr>\n",
       "      <th>0</th>\n",
       "      <td>BoW</td>\n",
       "      <td>RBF Kernel</td>\n",
       "      <td>1</td>\n",
       "      <td>51.17</td>\n",
       "      <td>0.48</td>\n",
       "      <td>0.99</td>\n",
       "      <td>0.87</td>\n",
       "    </tr>\n",
       "    <tr>\n",
       "      <th>1</th>\n",
       "      <td>TFIDF</td>\n",
       "      <td>RBF Kernel</td>\n",
       "      <td>1</td>\n",
       "      <td>52.83</td>\n",
       "      <td>0.47</td>\n",
       "      <td>1.00</td>\n",
       "      <td>0.87</td>\n",
       "    </tr>\n",
       "    <tr>\n",
       "      <th>2</th>\n",
       "      <td>AVG-W2V</td>\n",
       "      <td>RBF Kernel</td>\n",
       "      <td>10000</td>\n",
       "      <td>50.00</td>\n",
       "      <td>0.50</td>\n",
       "      <td>0.87</td>\n",
       "      <td>0.50</td>\n",
       "    </tr>\n",
       "    <tr>\n",
       "      <th>3</th>\n",
       "      <td>TFIDF-W2V</td>\n",
       "      <td>RBF Kernel</td>\n",
       "      <td>1000</td>\n",
       "      <td>50.00</td>\n",
       "      <td>0.50</td>\n",
       "      <td>0.82</td>\n",
       "      <td>0.46</td>\n",
       "    </tr>\n",
       "  </tbody>\n",
       "</table>\n",
       "</div>"
      ],
      "text/plain": [
       "  Vectorizer       Model Hyper parameter C AUC score Test error  \\\n",
       "0        BoW  RBF Kernel                 1     51.17       0.48   \n",
       "1      TFIDF  RBF Kernel                 1     52.83       0.47   \n",
       "2    AVG-W2V  RBF Kernel             10000     50.00       0.50   \n",
       "3  TFIDF-W2V  RBF Kernel              1000     50.00       0.50   \n",
       "\n",
       "  Train AUC Score Test AUC Score  \n",
       "0            0.99           0.87  \n",
       "1            1.00           0.87  \n",
       "2            0.87           0.50  \n",
       "3            0.82           0.46  "
      ]
     },
     "execution_count": 133,
     "metadata": {},
     "output_type": "execute_result"
    }
   ],
   "source": [
    "Final_conclusions = DataFrame(RBF)\n",
    "Final_conclusions"
   ]
  },
  {
   "cell_type": "markdown",
   "metadata": {},
   "source": [
    "## 10. Conclusions:-\n",
    "\n",
    "1. From the above observations AUC score is better for BoW and TFIDF than other featurizations.\n",
    "2. The train AUC score from ROC curve, are good for all featurizations. But the test AUC score is better for BoW and TFIDF.\n",
    "3. Out of all 4 featurizations trained by RBF Kernel, BoW and TFIDF are working well on unseen data.\n",
    "\n",
    "So finally, Linear SVM using SGDClassifier with hinge loss gave good results than RBF Kernel and it is working well on unseen data. "
   ]
  },
  {
   "cell_type": "code",
   "execution_count": null,
   "metadata": {},
   "outputs": [],
   "source": []
  }
 ],
 "metadata": {
  "kernelspec": {
   "display_name": "Python 3",
   "language": "python",
   "name": "python3"
  },
  "language_info": {
   "codemirror_mode": {
    "name": "ipython",
    "version": 3
   },
   "file_extension": ".py",
   "mimetype": "text/x-python",
   "name": "python",
   "nbconvert_exporter": "python",
   "pygments_lexer": "ipython3",
   "version": "3.6.5"
  }
 },
 "nbformat": 4,
 "nbformat_minor": 2
}
